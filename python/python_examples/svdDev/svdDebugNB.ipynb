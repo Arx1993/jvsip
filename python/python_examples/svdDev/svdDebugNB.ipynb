{
 "metadata": {
  "name": "svdDebugNB"
 },
 "nbformat": 3,
 "nbformat_minor": 0,
 "worksheets": [
  {
   "cells": [
    {
     "cell_type": "code",
     "collapsed": false,
     "input": [
      "import pyJvsip as pv\n",
      "import vsipUser as vu\n",
      "import svdUtils as u\n",
      "import decompositionUtilities as du\n",
      "from vsip import *"
     ],
     "language": "python",
     "metadata": {},
     "outputs": [],
     "prompt_number": 2
    },
    {
     "cell_type": "code",
     "collapsed": false,
     "input": [
      "A=pv.create('mview_d',7,5).fill(0.0)\n",
      "A.block.vector.randn(5)\n",
      "A.mprint('%.6f')\n",
      "Acmplx=pv.create('cmview_d',6,4).fill(0.0)\n",
      "Acmplx.realview.block.vector.randn(4)\n",
      "Acmplx.imagview.block.vector.randn(6)\n",
      "Acmplx.mprint('%.6f')"
     ],
     "language": "python",
     "metadata": {},
     "outputs": [
      {
       "output_type": "stream",
       "stream": "stdout",
       "text": [
        "[ 0.508022  0.535150  0.698641 -0.960270  0.231423;\n",
        "  0.040417 -0.476611  0.207654  0.506211 -0.382847;\n",
        "  0.157458  0.781152 -0.968151 -0.320337  0.792500;\n",
        "  0.791720 -0.257824  0.126631  1.354541  0.255226;\n",
        " -0.194595  0.341111 -0.496020  0.171914  1.624123;\n",
        "  0.190536  0.635592 -0.473597  0.835293  0.026713;\n",
        " -0.121470 -0.712312  0.310254 -1.314177  0.096316]\n",
        "\n",
        "[-1.213093-0.770862i  1.507828-1.437528i  1.683972-0.286689i  0.243529-2.164070i;\n",
        "  0.451852+1.010994i  0.973947-0.893113i  0.124482-1.077705i  0.305283-1.889975i;\n",
        " -0.369669-0.617910i -1.261732+1.496037i -0.207605-0.477479i -0.331832+0.894137i;\n",
        " -0.671796+0.735494i  0.384777-1.025450i -0.150182-1.264818i -0.927580+0.511020i;\n",
        " -0.136170-2.379478i -1.190044-1.556695i  0.771362-0.062281i -0.429227-1.060321i;\n",
        " -0.131931+0.742741i -0.777209+0.459431i -1.655864-0.336177i -1.471539-1.184634i]\n",
        "\n"
       ]
      }
     ],
     "prompt_number": 3
    },
    {
     "cell_type": "code",
     "collapsed": false,
     "input": [
      "s=u.svd_d(A.view)\n",
      "cplx=u.csvd_d(Acmplx.view)"
     ],
     "language": "python",
     "metadata": {},
     "outputs": [],
     "prompt_number": 4
    },
    {
     "cell_type": "code",
     "collapsed": false,
     "input": [
      "vu.mprint(s.d,'%.7f')\n",
      "vu.mprint(s.L,'%.4f')\n",
      "vu.mprint(s.R,'%.4f')"
     ],
     "language": "python",
     "metadata": {},
     "outputs": [
      {
       "output_type": "stream",
       "stream": "stdout",
       "text": [
        "[2.4793354 2.2686439 1.1871424 1.1721796 0.5508009]\n",
        "[-0.3108 -0.2663 -0.0189 -0.8698 -0.1767 -0.0900 0.1904;\n",
        " 0.0420 0.3457 -0.1603 0.0936 0.0470 -0.4916 0.7749;\n",
        " 0.2273 -0.5823 0.2890 0.0081 0.6352 -0.3463 0.0481;\n",
        " 0.4793 0.3208 -0.5302 -0.3975 0.4221 0.0678 -0.2133;\n",
        " 0.3553 -0.5856 -0.5528 0.1782 -0.4157 0.0180 0.1427;\n",
        " 0.4309 0.0051 0.3766 -0.1257 -0.0002 0.6521 0.4811;\n",
        " -0.5553 -0.1569 -0.4024 0.1706 0.4606 0.4475 0.2522]\n",
        "[0.1369 0.2655 -0.3712 0.8256 0.3023;\n",
        " 0.0771 -0.4098 0.3215 0.5121 -0.6786;\n",
        " -0.1365 0.6454 -0.3558 -0.1056 -0.6535;\n",
        " -0.7088 -0.4623 -0.5310 0.0367 -0.0253;\n",
        " 0.6740 -0.3625 -0.5919 -0.2091 -0.1427]\n"
       ]
      }
     ],
     "prompt_number": 5
    },
    {
     "cell_type": "code",
     "collapsed": false,
     "input": [
      "def checkBack_d(A,L,d,R):\n",
      "    VH=u.mclone_d(R)\n",
      "    vsip_vmmul_d(d,VH,VSIP_COL,VH)\n",
      "    Ae=u.mclone_d(A)\n",
      "    Ls=vsip_mcloneview_d(L)\n",
      "    vsip_mprod_d(u.imsv_d(L,Ls,0,0,0,vsip_vgetlength_d(d)),VH,Ae)\n",
      "    vsip_msub_d(A,Ae,Ae)\n",
      "    print('%.6e'%(u.mnormFro_d(Ae)))\n",
      "    vsip_malldestroy_d(VH)\n",
      "    vsip_malldestroy_d(Ae)\n",
      "def ccheckBack_d(A,L,d,R):\n",
      "    VH=u.cmclone_d(R)\n",
      "    vsip_rvcmmul_d(d,VH,VSIP_COL,VH)\n",
      "    Ae=u.cmclone_d(A)\n",
      "    Ls=vsip_cmcloneview_d(L)\n",
      "    vsip_cmprod_d(u.cimsv_d(L,Ls,0,0,0,vsip_vgetlength_d(d)),VH,Ae)\n",
      "    vsip_cmsub_d(A,Ae,Ae)\n",
      "    print('%.6e'%(u.cmnormFro_d(Ae)))\n",
      "    vsip_cmalldestroy_d(VH)\n",
      "    vsip_cmalldestroy_d(Ae)"
     ],
     "language": "python",
     "metadata": {},
     "outputs": [],
     "prompt_number": 6
    },
    {
     "cell_type": "code",
     "collapsed": false,
     "input": [
      "checkBack_d(A.view,s.L,s.d,s.R)"
     ],
     "language": "python",
     "metadata": {},
     "outputs": [
      {
       "output_type": "stream",
       "stream": "stdout",
       "text": [
        "1.226376e-07\n"
       ]
      }
     ],
     "prompt_number": 7
    },
    {
     "cell_type": "code",
     "collapsed": false,
     "input": [
      "ccheckBack_d(Acmplx.view,cplx.L,cplx.d,cplx.R)"
     ],
     "language": "python",
     "metadata": {},
     "outputs": [
      {
       "output_type": "stream",
       "stream": "stdout",
       "text": [
        "2.081178e-07\n"
       ]
      }
     ],
     "prompt_number": 8
    },
    {
     "cell_type": "code",
     "collapsed": false,
     "input": [
      "vu.mprint(cplx.d,'%6.4f')"
     ],
     "language": "python",
     "metadata": {},
     "outputs": [
      {
       "output_type": "stream",
       "stream": "stdout",
       "text": [
        "[5.4906 3.8037 2.3900 1.1199]\n"
       ]
      }
     ],
     "prompt_number": 9
    },
    {
     "cell_type": "code",
     "collapsed": false,
     "input": [
      "vu.mprint(s.d,'%6.4f')"
     ],
     "language": "python",
     "metadata": {},
     "outputs": [
      {
       "output_type": "stream",
       "stream": "stdout",
       "text": [
        "[2.4793 2.2686 1.1871 1.1722 0.5508]\n"
       ]
      }
     ],
     "prompt_number": 10
    },
    {
     "cell_type": "code",
     "collapsed": false,
     "input": [],
     "language": "python",
     "metadata": {},
     "outputs": []
    }
   ],
   "metadata": {}
  }
 ]
}