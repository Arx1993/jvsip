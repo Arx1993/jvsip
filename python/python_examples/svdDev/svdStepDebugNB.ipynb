{
 "metadata": {
  "name": "svdStepDebugNB"
 },
 "nbformat": 3,
 "nbformat_minor": 0,
 "worksheets": [
  {
   "cells": [
    {
     "cell_type": "code",
     "collapsed": false,
     "input": [
      "import pyJvsip as pv\n",
      "import vsipUser as vu\n",
      "import svdUtils as u\n",
      "import decompositionUtilities as du\n",
      "from vsip import *"
     ],
     "language": "python",
     "metadata": {},
     "outputs": [],
     "prompt_number": 2
    },
    {
     "cell_type": "code",
     "collapsed": false,
     "input": [
      "def svdStep_f(L, d, f, R):\n",
      "    n = vsip_vgetlength_f(d)\n",
      "    if n >= 3:\n",
      "        d2=vsip_vget_f(d,n-2);f1= vsip_vget_f(f,n-3);d3 = vsip_vget_f(d,n-1);f2= vsip_vget_f(f,n-2)\n",
      "    elif n == 2:\n",
      "        d2=vsip_vget_f(d,0);f1= 0.0;d3 = vsip_vget_f(d,1);f2= vsip_vget_f(f,0)\n",
      "    else:\n",
      "        d2=vsip_vget_f(d,0);f1 = 0.0;d3 = 0.0;f2 = 0.0\n",
      "    mu = u.svdMu_f(d2,f1,d3,f2)\n",
      "    x1=vsip_vget_f(d,0)\n",
      "    x2 = x1 * vsip_vget_f(f,0)\n",
      "    x1 *= x1; x1 -= mu\n",
      "    g=u.givensCoef_f(x1,x2)\n",
      "    x1=vsip_vget_f(d,0);x2=vsip_vget_f(f,0)\n",
      "    vsip_vput_f(f,0,g.c * x2 - g.s * x1)\n",
      "    vsip_vput_f(d,0,x1 * g.c + x2 * g.s)\n",
      "    t=vsip_vget_f(d,1); vsip_vput_f(d,1,t*g.c)\n",
      "    t*=g.s\n",
      "    u.gtProd_f(0,1,g.c,g.s,R)\n",
      "    for i in range(n-2):\n",
      "        j=i+1; k=i+2\n",
      "        g = u.givensCoef_f(vsip_vget_f(d,i),t)\n",
      "        vsip_vput_f(d,i,g.r)\n",
      "        \n",
      "        x1=vsip_vget_f(d,j)*g.c; \n",
      "        x2=vsip_vget_f(f,i)*g.s\n",
      "        t= x1 - x2;\n",
      "        \n",
      "        x1=vsip_vget_f(f,i) * g.c\n",
      "        x2=vsip_vget_f(d,j) * g.s\n",
      "        \n",
      "        vsip_vput_f(f,i,x1+x2);\n",
      "        vsip_vput_f(d,j,t)\n",
      "        \n",
      "        x1=vsip_vget_f(f,j)\n",
      "        t=g.s * x1; \n",
      "        vsip_vput_f(f,j, x1*g.c);\n",
      "        \n",
      "        u.prodG_f(L,i, j, g.c, g.s)\n",
      "        g=u.givensCoef_f(vsip_vget_f(f,i),t)\n",
      "        vsip_vput_f(f,i,g.r)\n",
      "        x1=vsip_vget_f(d,j); x2=vsip_vget_f(f,j);\n",
      "        vsip_vput_f(d,j,g.c * x1 + g.s * x2); vsip_vput_f(f,j,g.c * x2 - g.s * x1)\n",
      "        x1=vsip_vget_f(d,k)\n",
      "        t=g.s * x1; vsip_vput_f(d,k,x1*g.c)\n",
      "        u.gtProd_f(j,k, g.c, g.s,R)\n",
      "    i=n-2; j=n-1\n",
      "    g = u.givensCoef_f(vsip_vget_f(d,i),t)\n",
      "    vsip_vput_f(d,i,g.r)\n",
      "    \n",
      "    x1=vsip_vget_f(d,j)*g.c; x2=vsip_vget_f(f,i)*g.s\n",
      "    t=x1 - x2\n",
      "    x1 = vsip_vget_f(f,i) * g.c; x2=vsip_vget_f(d,j) * g.s\n",
      "    vsip_vput_f(f,i,x1+x2)\n",
      "    vsip_vput_f(d,j,t)\n",
      "    u.prodG_f(L,i, j, g.c, g.s)\n"
     ],
     "language": "python",
     "metadata": {},
     "outputs": [],
     "prompt_number": 3
    },
    {
     "cell_type": "code",
     "collapsed": false,
     "input": [
      "def zeroFind_f(d, eps0):\n",
      "    j = vsip_vgetlength_f(d) - 1;\n",
      "    xd=vsip_vget_f(d,j)\n",
      "    while(xd > eps0):\n",
      "        if (j > 0): \n",
      "            j -= 1;\n",
      "            xd=vsip_vget_f(d,j);\n",
      "        if (j == 0):\n",
      "            break;\n",
      "    if xd <= eps0:\n",
      "        vsip_vput_f(d,j,0.0);\n",
      "    return j;\n",
      "def svdIteration_f(L0, d0, f0, R0, eps0):\n",
      "    d=vsip_vcloneview_f(d0);\n",
      "    f=vsip_vcloneview_f(f0);\n",
      "    L=vsip_mcloneview_f(L0);\n",
      "    R=vsip_mcloneview_f(R0);\n",
      "    cnr=u.svdCorner()\n",
      "    cntr=0;\n",
      "    maxcntr=20*vsip_vgetlength_f(d0);\n",
      "    while (cntr < maxcntr):\n",
      "        cntr += 1\n",
      "        u.phaseCheck_f(L0,d0,f0,R0,eps0)\n",
      "        cnr=u.svdCorners_f(f0)\n",
      "        if (cnr.j == 0):\n",
      "            break\n",
      "        u.ivsv_f(d0,d,cnr.i,cnr.j);\n",
      "        u.ivsv_f(f0,f,cnr.i,cnr.j-1);\n",
      "        u.imsv_f(L0,L,0,0,cnr.i,cnr.j);\n",
      "        u.imsv_f(R0,R,cnr.i,cnr.j,0,0);\n",
      "        n=vsip_vgetlength_f(f);\n",
      "        k=zeroFind_f(d,eps0);\n",
      "        break\n",
      "        if (k >=0):\n",
      "            if(vsip_vget_f(d,n) == 0.0):\n",
      "                u.zeroCol_f(d,f,R);\n",
      "            else:\n",
      "                u.imsv_f(L,L,0,0,k,0);\n",
      "                u.ivsv_f(d,d,k+1,0);\n",
      "                u.ivsv_f(f,f,k,0);\n",
      "                u.zeroRow_f(L,d,f);\n",
      "        else:\n",
      "            u.svdStep_f(L,d,f,R);\n",
      "\n",
      "def svdIteration(L0,d0,f0,R0,eps0):\n",
      "    cntr=0\n",
      "    maxcntr=20*d0.length\n",
      "    while cntr < maxcntr:\n",
      "        biDiagPhaseToZero(L0,d0,f0,R0,eps0)\n",
      "        cntr += 1\n",
      "        i,j=svdCorners(f0)\n",
      "        if j == 0:\n",
      "            break\n",
      "        d=d0[i:j]\n",
      "        f=f0[i:j-1]\n",
      "        L=L0[:,i:j]\n",
      "        R=R0[i:j,:]\n",
      "        n=f.length\n",
      "        k=du.zeroFind(d,eps0)\n",
      "        if k >=0:\n",
      "            if d[n] == 0.0:\n",
      "                du.zeroCol(d,f,R)\n",
      "            else:\n",
      "                du.zeroRow(L[:,k:],d[k+1:],f[k:])\n",
      "        else:\n",
      "            svdStep(L,d,f,R)"
     ],
     "language": "python",
     "metadata": {},
     "outputs": [
      {
       "ename": "SyntaxError",
       "evalue": "invalid syntax (<ipython-input-20-3ca3715b601d>, line 5)",
       "output_type": "pyerr",
       "traceback": [
        "\u001b[0;36m  File \u001b[0;32m\"<ipython-input-20-3ca3715b601d>\"\u001b[0;36m, line \u001b[0;32m5\u001b[0m\n\u001b[0;31m    if (j > 0)\u001b[0m\n\u001b[0m               ^\u001b[0m\n\u001b[0;31mSyntaxError\u001b[0m\u001b[0;31m:\u001b[0m invalid syntax\n"
       ]
      }
     ],
     "prompt_number": 20
    },
    {
     "cell_type": "code",
     "collapsed": false,
     "input": [
      "def svdStep(L,d,f,R):\n",
      "    if 'cvview' in d.type or 'cvview' in f.type:\n",
      "        print('Input vector views must be of type real; Fail for svdStep')\n",
      "        return     \n",
      "    n=d.length\n",
      "    if n >= 3:\n",
      "        mu = du.svdMu(d[n-2],f[n-3],d[n-1],f[n-2])\n",
      "    elif n == 2:\n",
      "        mu = du.svdMu(d[0],0.0,d[1],f[0])\n",
      "    else:\n",
      "        mu = du.svdMu(d[0],0.0,0.0,0.0)\n",
      "    x1=d[0]; x1 *= x1; x1 -= mu\n",
      "    x2 = d[0] * f[0]\n",
      "    c,s,r=du.givensCoef(x1,x2)\n",
      "    t=d[0] * c + s * f[0]; f[0] *= c; f[0] -= s * d[0]; d[0] = t;\n",
      "    t=s * d[1]; d[1] *= c;\n",
      "    du.gtProd(0,1,c,s,R)\n",
      "    for i in range(n-2):\n",
      "        j=i+1; k=i+2\n",
      "        c,s,r = du.givensCoef(d[i],t)\n",
      "        d[i]=r;\n",
      "        t=c * d[j] - s * f[i]; f[i] *=c ;f[i]+=s*d[j];d[j]=t  \n",
      "        t=s * f[j]; f[j] *= c;\n",
      "        du.prodG(L,i,j,c,s)\n",
      "        c,s,r=du.givensCoef(f[i],t)\n",
      "        f[i]=r\n",
      "        t=c * d[j] + s * f[j]; f[j] *= c; f[j] -= s * d[j]; d[j] = t\n",
      "        t=s * d[k]; d[k] *= c;\n",
      "        du.gtProd(j,k,c,s,R)\n",
      "    i=n-2; j=n-1\n",
      "    c,s,r = du.givensCoef(d[i],t)\n",
      "    d[i]=r; \n",
      "    t= c * d[j] - s * f[i];\n",
      "    f[i] *= c; f[i] += s * d[j]; \n",
      "    d[j]=t\n",
      "    du.prodG(L,i,j,c,s)\n",
      "def svdBidiagonal(A):\n",
      "        if 'mview_f' not in A.type and 'mview_d' not in A.type:\n",
      "            print('Input must be a matrix of type float for function svd.')\n",
      "            return\n",
      "        if A.rowlength > A.collength:\n",
      "            print('For svd function input matrix A of size (M,N) must have N >= M')\n",
      "            return(0,0,0,0,0)\n",
      "        if 'mview_d' in A.type:\n",
      "            eps0 = A.normFro/A.rowlength * 1.0E16\n",
      "        else:\n",
      "            eps0 = A.normFro/A.rowlength * 1.0E7\n",
      "        if eps0 == 0.0:\n",
      "            print('Input matrix appears to be zero')\n",
      "            return(0,0,0,0,0)\n",
      "        else:\n",
      "            eps0 = 1.0/eps0\n",
      "        B=du.bidiag(A)\n",
      "        L=du.UmatExtract(B)\n",
      "        R=du.VHmatExtract(B)\n",
      "        du.biDiagPhaseToZero(L,B.diagview(0),B.diagview(1),R,eps0)\n",
      "        if 'cmview' in B.type:\n",
      "            d0=B.diagview(0).realview.copy\n",
      "            f0=B.diagview(1).realview.copy\n",
      "        else:\n",
      "            d0=B.diagview(0).copy\n",
      "            f0=B.diagview(1).copy\n",
      "        return (L,d0,f0,R,eps0)"
     ],
     "language": "python",
     "metadata": {},
     "outputs": [],
     "prompt_number": 13
    },
    {
     "cell_type": "code",
     "collapsed": false,
     "input": [
      "A=pv.create('mview_f',7,5).fill(0.0)"
     ],
     "language": "python",
     "metadata": {},
     "outputs": [],
     "prompt_number": 14
    },
    {
     "cell_type": "code",
     "collapsed": false,
     "input": [
      "A.block.vector.randn(5)\n",
      "A.mprint('%.6f')"
     ],
     "language": "python",
     "metadata": {},
     "outputs": [
      {
       "output_type": "stream",
       "stream": "stdout",
       "text": [
        "[ 0.508022  0.535150  0.698641 -0.960270  0.231422;\n",
        "  0.040417 -0.476612  0.207654  0.506210 -0.382847;\n",
        "  0.157458  0.781152 -0.968151 -0.320337  0.792501;\n",
        "  0.791720 -0.257824  0.126630  1.354541  0.255226;\n",
        " -0.194595  0.341111 -0.496020  0.171914  1.624123;\n",
        "  0.190536  0.635592 -0.473597  0.835293  0.026713;\n",
        " -0.121470 -0.712312  0.310254 -1.314177  0.096316]\n",
        "\n"
       ]
      }
     ],
     "prompt_number": 15
    },
    {
     "cell_type": "code",
     "collapsed": false,
     "input": [
      "Au=u.svdBidiag_f(A.view)"
     ],
     "language": "python",
     "metadata": {},
     "outputs": [],
     "prompt_number": 16
    },
    {
     "cell_type": "code",
     "collapsed": false,
     "input": [
      "svdIteration_f(Au.L,Au.d,Au.f,Au.R,Au.eps0)"
     ],
     "language": "python",
     "metadata": {},
     "outputs": [],
     "prompt_number": 17
    },
    {
     "cell_type": "code",
     "collapsed": false,
     "input": [
      "vu.mprint(Au.d,'%.4f')\n",
      "vu.mprint(Au.f,'%.4f')"
     ],
     "language": "python",
     "metadata": {},
     "outputs": [
      {
       "output_type": "stream",
       "stream": "stdout",
       "text": [
        "[0.0000 1.8178 0.9117 2.1918 1.1867]\n",
        "[0.9448 1.3163 0.6373 0.0322]\n"
       ]
      }
     ],
     "prompt_number": 18
    },
    {
     "cell_type": "code",
     "collapsed": false,
     "input": [
      "L,d,f,R,eps0=svdBidiagonal(A)\n",
      "d.mprint('%.4f')\n",
      "f.mprint('%.4f')\n",
      "svdStep(L,d,f,R)\n",
      "d.mprint('%.4f')\n",
      "f.mprint('%.4f')\n",
      "svdStep(L,d,f,R)\n",
      "d.mprint('%.4f')\n",
      "f.mprint('%.4f')"
     ],
     "language": "python",
     "metadata": {},
     "outputs": [
      {
       "output_type": "stream",
       "stream": "stdout",
       "text": [
        "[ 1.0001  1.8178  0.9117  2.1918  1.1867]\n",
        "\n",
        "[ 0.9448  1.3163  0.6373  0.0322]\n",
        "\n",
        "[-1.7343 -0.8047  2.2146  1.1749  1.1871]\n",
        "\n",
        "[ 1.6417 -0.5571 -0.1588 -0.0002]\n",
        "\n",
        "[-2.3861 -0.7450  1.7429  1.1722  1.1871]\n",
        "\n",
        "[-0.5848  1.4032  0.0019 -0.0000]\n",
        "\n"
       ]
      }
     ],
     "prompt_number": 14
    },
    {
     "cell_type": "code",
     "collapsed": false,
     "input": [
      "Au=u.svdBidiag_f(A.view)\n",
      "vu.mprint(Au.d,'%.4f')\n",
      "vu.mprint(Au.f,'%.4f')\n",
      "u.svdStep_f(Au.L,Au.d,Au.f,Au.R)\n",
      "vu.mprint(Au.d,'%.4f')\n",
      "vu.mprint(Au.f,'%.4f')\n",
      "u.svdStep_f(Au.L,Au.d,Au.f,Au.R)\n",
      "vu.mprint(Au.d,'%.4f')\n",
      "vu.mprint(Au.f,'%.4f')\n",
      "u.svdStep_f(Au.L,Au.d,Au.f,Au.R)\n",
      "vu.mprint(Au.d,'%.4f')\n",
      "vu.mprint(Au.f,'%.4f')\n",
      "u.svdStep_f(Au.L,Au.d,Au.f,Au.R)\n",
      "vu.mprint(Au.d,'%.4f')\n",
      "vu.mprint(Au.f,'%.4f')\n",
      "u.svdStep_f(Au.L,Au.d,Au.f,Au.R)\n",
      "vu.mprint(Au.d,'%.4f')\n",
      "vu.mprint(Au.f,'%.4f')\n",
      "u.svdStep_f(Au.L,Au.d,Au.f,Au.R)\n",
      "vu.mprint(Au.d,'%.4f')\n",
      "vu.mprint(Au.f,'%.4f')\n",
      "u.svdStep_f(Au.L,Au.d,Au.f,Au.R)\n",
      "vu.mprint(Au.d,'%.4f')\n",
      "vu.mprint(Au.f,'%.4f')\n",
      "u.svdStep_f(Au.L,Au.d,Au.f,Au.R)\n",
      "vu.mprint(Au.d,'%.4f')\n",
      "vu.mprint(Au.f,'%.4f')\n",
      "u.svdStep_f(Au.L,Au.d,Au.f,Au.R)\n",
      "vu.mprint(Au.d,'%.4f')\n",
      "vu.mprint(Au.f,'%.4f')\n",
      "u.svdStep_f(Au.L,Au.d,Au.f,Au.R)\n",
      "vu.mprint(Au.d,'%.4f')\n",
      "vu.mprint(Au.f,'%.4f')\n",
      "u.svdStep_f(Au.L,Au.d,Au.f,Au.R)\n",
      "vu.mprint(Au.d,'%.4f')\n",
      "vu.mprint(Au.f,'%.4f')\n",
      "u.svdStep_f(Au.L,Au.d,Au.f,Au.R)\n",
      "vu.mprint(Au.d,'%.4f')\n",
      "vu.mprint(Au.f,'%.4f')\n",
      "u.svdStep_f(Au.L,Au.d,Au.f,Au.R)\n",
      "vu.mprint(Au.d,'%.4f')\n",
      "vu.mprint(Au.f,'%.4f')\n",
      "u.svdStep_f(Au.L,Au.d,Au.f,Au.R)\n",
      "vu.mprint(Au.d,'%.4f')\n",
      "vu.mprint(Au.f,'%.4f')\n",
      "u.svdStep_f(Au.L,Au.d,Au.f,Au.R)\n",
      "vu.mprint(Au.d,'%.4f')\n",
      "vu.mprint(Au.f,'%.4f')\n",
      "u.svdStep_f(Au.L,Au.d,Au.f,Au.R)\n",
      "vu.mprint(Au.d,'%.4f')\n",
      "vu.mprint(Au.f,'%.4f')\n",
      "u.svdStep_f(Au.L,Au.d,Au.f,Au.R)\n",
      "vu.mprint(Au.d,'%.4f')\n",
      "vu.mprint(Au.f,'%.4f')\n",
      "u.svdStep_f(Au.L,Au.d,Au.f,Au.R)\n",
      "vu.mprint(Au.d,'%.4f')\n",
      "vu.mprint(Au.f,'%.4f')\n",
      "u.svdStep_f(Au.L,Au.d,Au.f,Au.R)\n",
      "vu.mprint(Au.d,'%.4f')\n",
      "vu.mprint(Au.f,'%.4f')\n",
      "u.svdStep_f(Au.L,Au.d,Au.f,Au.R)\n",
      "vu.mprint(Au.d,'%.4f')\n",
      "vu.mprint(Au.f,'%.4f')\n",
      "u.svdStep_f(Au.L,Au.d,Au.f,Au.R)\n",
      "vu.mprint(Au.d,'%.4f')\n",
      "vu.mprint(Au.f,'%.4f')\n",
      "u.svdStep_f(Au.L,Au.d,Au.f,Au.R)\n",
      "vu.mprint(Au.d,'%.4f')\n",
      "vu.mprint(Au.f,'%.4f')\n",
      "u.svdStep_f(Au.L,Au.d,Au.f,Au.R)\n",
      "vu.mprint(Au.d,'%.4f')\n",
      "vu.mprint(Au.f,'%.4f')\n",
      "u.svdStep_f(Au.L,Au.d,Au.f,Au.R)\n",
      "vu.mprint(Au.d,'%.4f')\n",
      "vu.mprint(Au.f,'%.4f')"
     ],
     "language": "python",
     "metadata": {},
     "outputs": [
      {
       "output_type": "stream",
       "stream": "stdout",
       "text": [
        "[1.0001 1.8178 0.9117 2.1918 1.1867]\n",
        "[0.9448 1.3163 0.6373 0.0322]\n",
        "[-1.7343 -0.8047 2.2146 1.1749 1.1871]\n",
        "[1.6417 -0.5571 -0.1588 -0.0002]\n",
        "[-2.3861 -0.7450 1.7429 1.1722 1.1871]\n",
        "[-0.5848 1.4032 0.0019 -0.0000]\n",
        "[-2.4607 1.4283 -0.8815 1.1722 1.1871]\n",
        "[0.1752 1.6414 0.0000 -0.0000]\n",
        "[-2.4699 2.1263 -0.5899 1.1722 1.1871]\n",
        "[0.0907 -0.7871 0.0000 0.0000]\n",
        "[-2.4735 2.2595 -0.5543 1.1722 1.1871]\n",
        "[0.0680 0.2481 0.0000 -0.0000]\n",
        "[-2.4757 2.2707 -0.5511 1.1722 1.1871]\n",
        "[0.0539 -0.0736 0.0000 0.0000]\n",
        "[-2.4770 2.2706 -0.5508 1.1722 1.1871]\n",
        "[0.0428 0.0217 0.0000 -0.0000]\n",
        "[-2.4779 2.2699 -0.5508 1.1722 1.1871]\n",
        "[0.0339 -0.0064 0.0000 0.0000]\n",
        "[-2.4784 2.2695 -0.5508 1.1722 1.1871]\n",
        "[0.0268 0.0019 0.0000 0.0000]\n",
        "[-2.4788 2.2692 -0.5508 1.1722 1.1871]\n",
        "[0.0212 -0.0006 0.0000 0.0000]\n",
        "[-2.4790 2.2690 -0.5508 1.1722 1.1871]\n",
        "[0.0167 0.0002 0.0000 0.0000]\n",
        "[-2.4791 2.2688 -0.5508 1.1722 1.1871]\n",
        "[0.0132 -0.0000 0.0000 0.0000]\n",
        "[-2.4792 2.2688 -0.5508 1.1722 1.1871]\n",
        "[0.0104 0.0000 0.0000 0.0000]\n",
        "[-2.4793 2.2687 -0.5508 1.1722 1.1871]\n",
        "[0.0082 -0.0000 0.0000 0.0000]\n",
        "[-2.4793 2.2687 -0.5508 1.1722 1.1871]\n",
        "[0.0065 0.0000 0.0000 0.0000]\n",
        "[-2.4793 2.2687 -0.5508 1.1722 1.1871]\n",
        "[0.0051 -0.0000 0.0000 0.0000]\n",
        "[-2.4793 2.2687 -0.5508 1.1722 1.1871]\n",
        "[0.0040 0.0000 0.0000 0.0000]\n",
        "[-2.4793 2.2687 -0.5508 1.1722 1.1871]\n",
        "[0.0032 -0.0000 0.0000 0.0000]\n",
        "[-2.4793 2.2687 -0.5508 1.1722 1.1871]\n",
        "[0.0025 0.0000 0.0000 0.0000]\n",
        "[-2.4793 2.2686 -0.5508 1.1722 1.1871]\n",
        "[0.0020 -0.0000 0.0000 0.0000]\n",
        "[-2.4793 2.2686 -0.5508 1.1722 1.1871]\n",
        "[0.0016 0.0000 0.0000 0.0000]\n",
        "[-2.4793 2.2686 -0.5508 1.1722 1.1871]\n",
        "[0.0012 -0.0000 0.0000 0.0000]\n",
        "[-2.4793 2.2686 -0.5508 1.1722 1.1871]\n",
        "[0.0010 0.0000 0.0000 0.0000]\n",
        "[-2.4793 2.2686 -0.5508 1.1722 1.1871]\n",
        "[0.0008 -0.0000 0.0000 0.0000]\n"
       ]
      }
     ],
     "prompt_number": 12
    },
    {
     "cell_type": "code",
     "collapsed": false,
     "input": [
      "\n",
      "u.svdStep_f(Au.L,Au.d,Au.f,Au.R)\n",
      "vu.mprint(Au.d,'%.4f')\n",
      "vu.mprint(Au.f,'%.4f')\n"
     ],
     "language": "python",
     "metadata": {},
     "outputs": [
      {
       "output_type": "stream",
       "stream": "stdout",
       "text": [
        "[-0.3153 -0.0228 0.3814 -0.8683 -0.0240;\n",
        " 0.6074 -0.4731 -0.4089 -0.3792 -0.3103;\n",
        " 0.1062 0.3805 -0.5280 -0.2995 0.6895;\n",
        " 0.7083 0.4629 0.5310 -0.0369 0.0260;\n",
        " 0.1365 -0.6454 0.3558 0.1056 0.6535]\n",
        "[-0.3153 -0.0228  0.3814 -0.8683 -0.0240;\n",
        "  0.6074 -0.4731 -0.4089 -0.3792 -0.3103;\n",
        "  0.1062  0.3805 -0.5280 -0.2995  0.6895;\n",
        "  0.7083  0.4629  0.5310 -0.0369  0.0260;\n",
        "  0.1365 -0.6454  0.3558  0.1056  0.6535]\n",
        "\n"
       ]
      }
     ],
     "prompt_number": 15
    },
    {
     "cell_type": "code",
     "collapsed": false,
     "input": [
      "vu.mprint(Au.L,'%.4f')\n",
      "L.mprint('%.4f')"
     ],
     "language": "python",
     "metadata": {},
     "outputs": [
      {
       "output_type": "stream",
       "stream": "stdout",
       "text": [
        "[-0.3865 0.2202 0.0154 0.8701 0.0189 -0.0900 0.1904;\n",
        " 0.1480 -0.2396 -0.2100 -0.0938 0.1603 -0.4916 0.7749;\n",
        " 0.0744 -0.0551 0.8863 -0.0088 -0.2890 -0.3463 0.0481;\n",
        " 0.5774 -0.3973 0.1417 0.3968 0.5302 0.0678 -0.2133;\n",
        " 0.1357 0.7604 0.2137 -0.1773 0.5528 0.0180 0.1427;\n",
        " 0.4112 0.1018 0.0789 0.1258 -0.3766 0.6521 0.4811;\n",
        " -0.5497 -0.3803 0.3132 -0.1712 0.4024 0.4475 0.2522]\n",
        "[-0.3865  0.2202  0.0154  0.8701  0.0189 -0.0900  0.1904;\n",
        "  0.1480 -0.2396 -0.2100 -0.0938  0.1603 -0.4916  0.7749;\n",
        "  0.0744 -0.0551  0.8863 -0.0088 -0.2890 -0.3463  0.0481;\n",
        "  0.5774 -0.3973  0.1417  0.3968  0.5302  0.0678 -0.2133;\n",
        "  0.1357  0.7604  0.2137 -0.1773  0.5528  0.0180  0.1427;\n",
        "  0.4112  0.1018  0.0789  0.1258 -0.3766  0.6521  0.4811;\n",
        " -0.5497 -0.3803  0.3132 -0.1712  0.4024  0.4475  0.2522]\n",
        "\n"
       ]
      }
     ],
     "prompt_number": 16
    },
    {
     "cell_type": "code",
     "collapsed": false,
     "input": [
      "B=pv.create('cmview_f',7,5).fill(0.0)\n",
      "B.realview.block.vector.randn(4)\n",
      "B.imagview.block.vector.randn(6)\n",
      "B.mprint('%.4f')"
     ],
     "language": "python",
     "metadata": {},
     "outputs": [
      {
       "output_type": "stream",
       "stream": "stdout",
       "text": [
        "[-1.2131-0.7709i  1.5078-1.4375i  1.6840-0.2867i  0.2435-2.1641i  0.4519+1.0110i;\n",
        "  0.9739-0.8931i  0.1245-1.0777i  0.3053-1.8900i -0.3697-0.6179i -1.2617+1.4960i;\n",
        " -0.2076-0.4775i -0.3318+0.8941i -0.6718+0.7355i  0.3848-1.0255i -0.1502-1.2648i;\n",
        " -0.9276+0.5110i -0.1362-2.3795i -1.1900-1.5567i  0.7714-0.0623i -0.4292-1.0603i;\n",
        " -0.1319+0.7427i -0.7772+0.4594i -1.6559-0.3362i -1.4715-1.1846i  1.2843-1.0360i;\n",
        "  0.1448+0.2363i -1.3323-0.3966i  0.6232-1.5704i -1.6317+0.3023i -0.5901-0.3564i;\n",
        "  1.1543+0.6027i -1.1547-1.2699i -1.3114-1.0680i  0.1646-0.7929i  1.5284+0.6642i]\n",
        "\n"
       ]
      }
     ],
     "prompt_number": 7
    },
    {
     "cell_type": "code",
     "collapsed": false,
     "input": [
      "Bu=u.csvdBidiag_f(B.view)\n",
      "vu.mprint(Bu.d,'%.4f')\n",
      "vu.mprint(Bu.f,'%.4f')\n",
      "u.csvdStep_f(Bu.L,Bu.d,Bu.f,Bu.R)\n",
      "vu.mprint(Bu.d,'%.4f')\n",
      "vu.mprint(Bu.f,'%.4f')\n",
      "u.csvdStep_f(Bu.L,Bu.d,Bu.f,Bu.R)\n",
      "vu.mprint(Bu.d,'%.4f')\n",
      "vu.mprint(Bu.f,'%.4f')"
     ],
     "language": "python",
     "metadata": {},
     "outputs": [
      {
       "output_type": "stream",
       "stream": "stdout",
       "text": [
        "[2.7470 4.9186 3.5936 2.6676 2.4146]\n",
        "[2.4703 2.3957 1.3479 1.4403]\n",
        "[5.6206 4.0156 2.7937 2.2891 2.1669]\n",
        "[2.0362 1.1374 -1.4603 -0.5510]\n",
        "[6.1707 3.9570 3.2042 1.7817 2.2437]\n",
        "[0.6996 0.4973 0.5510 0.2851]\n"
       ]
      }
     ],
     "prompt_number": 8
    },
    {
     "cell_type": "code",
     "collapsed": false,
     "input": [
      "L,d,f,R,eps0=svdBidiagonal(B)\n",
      "d.mprint('%.4f')\n",
      "f.mprint('%.4f')\n",
      "svdStep(L,d,f,R)\n",
      "d.mprint('%.4f')\n",
      "f.mprint('%.4f')\n",
      "svdStep(L,d,f,R)\n",
      "d.mprint('%.4f')\n",
      "f.mprint('%.4f')"
     ],
     "language": "python",
     "metadata": {},
     "outputs": [
      {
       "output_type": "stream",
       "stream": "stdout",
       "text": [
        "[ 2.7470  4.9186  3.5936  2.6676  2.4146]\n",
        "\n",
        "[ 2.4703  2.3957  1.3479  1.4403]\n",
        "\n",
        "[ 5.6206  4.0156  2.7937  2.2891  2.1669]\n",
        "\n",
        "[ 2.0362  1.1374 -1.4603 -0.5510]\n",
        "\n",
        "[ 6.1707  3.9570  3.2042  1.7817  2.2437]\n"
       ]
      },
      {
       "output_type": "stream",
       "stream": "stdout",
       "text": [
        "\n",
        "[ 0.6996  0.4973  0.5510  0.2851]\n",
        "\n"
       ]
      }
     ],
     "prompt_number": 9
    },
    {
     "cell_type": "code",
     "collapsed": false,
     "input": [
      "vu.mprint(Bu.L,'%.4f')"
     ],
     "language": "python",
     "metadata": {},
     "outputs": [
      {
       "output_type": "stream",
       "stream": "stdout",
       "text": [
        "[-0.5479-0.1993i  0.3061+0.1648i  0.2670-0.0953i  0.0025+0.0771i  0.2274+0.0855i  0.3545-0.5095i -0.0004-0.0928i;\n",
        " -0.2747+0.0521i -0.5424-0.0026i  0.3353-0.1797i -0.2509+0.0097i -0.0296+0.5292i -0.2452+0.0520i -0.2691+0.0607i;\n",
        "  0.1681-0.0178i  0.2865+0.0322i  0.1508+0.2342i  0.2675-0.0584i -0.0596+0.4602i -0.2491-0.1944i  0.2619+0.5933i;\n",
        " -0.2487+0.2943i  0.0054-0.2356i -0.3309+0.6176i -0.0946+0.2823i  0.2615+0.3128i  0.1026+0.1028i  0.0520-0.1623i;\n",
        "  0.1107+0.3842i  0.3927+0.0044i  0.1141-0.0266i -0.1853-0.6051i  0.0299+0.2259i  0.2838+0.1993i -0.3106-0.0550i;\n",
        " -0.0600+0.2791i -0.1857-0.3949i  0.0172-0.3585i  0.3677+0.1254i -0.2223+0.1305i  0.5395+0.0854i  0.2531+0.1393i;\n",
        " -0.1099+0.3892i -0.1047+0.3010i  0.1931+0.1629i -0.4629-0.0414i -0.3426-0.2068i  0.0594-0.0941i  0.5287+0.0550i]\n"
       ]
      }
     ],
     "prompt_number": 10
    },
    {
     "cell_type": "code",
     "collapsed": false,
     "input": [
      "L.mprint('%.4f')"
     ],
     "language": "python",
     "metadata": {},
     "outputs": [
      {
       "output_type": "stream",
       "stream": "stdout",
       "text": [
        "[-0.5479-0.1993i  0.3061+0.1648i  0.2670-0.0953i  0.0025+0.0771i  0.2274+0.0855i  0.3545-0.5095i -0.0004-0.0928i;\n",
        " -0.2747+0.0521i -0.5424-0.0026i  0.3353-0.1797i -0.2509+0.0097i -0.0296+0.5292i -0.2452+0.0520i -0.2691+0.0607i;\n",
        "  0.1681-0.0178i  0.2865+0.0322i  0.1508+0.2342i  0.2675-0.0584i -0.0596+0.4602i -0.2491-0.1944i  0.2619+0.5933i;\n",
        " -0.2487+0.2943i  0.0054-0.2356i -0.3309+0.6176i -0.0946+0.2823i  0.2615+0.3128i  0.1026+0.1028i  0.0520-0.1623i;\n",
        "  0.1107+0.3842i  0.3927+0.0044i  0.1141-0.0266i -0.1853-0.6051i  0.0299+0.2259i  0.2838+0.1993i -0.3106-0.0550i;\n",
        " -0.0600+0.2791i -0.1857-0.3949i  0.0172-0.3585i  0.3677+0.1254i -0.2223+0.1305i  0.5395+0.0854i  0.2531+0.1393i;\n",
        " -0.1099+0.3892i -0.1047+0.3010i  0.1931+0.1629i -0.4629-0.0414i -0.3426-0.2068i  0.0594-0.0941i  0.5287+0.0550i]\n",
        "\n"
       ]
      }
     ],
     "prompt_number": 12
    },
    {
     "cell_type": "code",
     "collapsed": false,
     "input": [
      "vu.mprint(Bu.R,'%.4f')\n",
      "R.mprint('%.4f')"
     ],
     "language": "python",
     "metadata": {},
     "outputs": [
      {
       "output_type": "stream",
       "stream": "stdout",
       "text": [
        "[ 0.2532+0.0000i -0.2882+0.5548i -0.3922+0.4467i -0.0696+0.3504i -0.1336-0.2150i;\n",
        " -0.3829+0.0000i  0.1469+0.0919i  0.0349+0.3371i -0.1331-0.3164i  0.5177-0.5680i;\n",
        "  0.3666+0.0000i -0.1781-0.0671i  0.0593+0.3819i -0.2267-0.7377i -0.2196+0.1902i;\n",
        " -0.4620+0.0000i -0.6009+0.3814i  0.3603-0.1433i  0.2514-0.1797i -0.1824+0.0296i;\n",
        " -0.6645+0.0000i  0.1250-0.1437i -0.3873+0.2863i -0.2497+0.0338i -0.3436+0.3297i]\n",
        "[ 0.2532+0.0000i -0.2882+0.5548i -0.3922+0.4467i -0.0696+0.3504i -0.1336-0.2150i;\n",
        " -0.3829+0.0000i  0.1469+0.0919i  0.0349+0.3371i -0.1331-0.3164i  0.5177-0.5680i;\n",
        "  0.3666+0.0000i -0.1781-0.0671i  0.0593+0.3819i -0.2267-0.7377i -0.2196+0.1902i;\n",
        " -0.4620+0.0000i -0.6009+0.3814i  0.3603-0.1433i  0.2514-0.1797i -0.1824+0.0296i;\n",
        " -0.6645+0.0000i  0.1250-0.1437i -0.3873+0.2863i -0.2497+0.0338i -0.3436+0.3297i]\n",
        "\n"
       ]
      }
     ],
     "prompt_number": 13
    },
    {
     "cell_type": "code",
     "collapsed": false,
     "input": [
      "B=pv.create('cmview_d',7,5).fill(0.0)\n",
      "B.realview.block.vector.randn(4)\n",
      "B.imagview.block.vector.randn(6)\n",
      "B.mprint('%.4f')\n",
      "Bu=u.csvdBidiag_d(B.view)\n",
      "vu.mprint(Bu.d,'%.4f')\n",
      "vu.mprint(Bu.f,'%.4f')\n",
      "u.csvdStep_d(Bu.L,Bu.d,Bu.f,Bu.R)\n",
      "vu.mprint(Bu.d,'%.4f')\n",
      "vu.mprint(Bu.f,'%.4f')\n",
      "u.csvdStep_d(Bu.L,Bu.d,Bu.f,Bu.R)\n",
      "vu.mprint(Bu.d,'%.4f')\n",
      "vu.mprint(Bu.f,'%.4f')\n",
      "L,d,f,R,eps0=svdBidiagonal(B)\n",
      "d.mprint('%.4f')\n",
      "f.mprint('%.4f')\n",
      "svdStep(L,d,f,R)\n",
      "d.mprint('%.4f')\n",
      "f.mprint('%.4f')\n",
      "svdStep(L,d,f,R)\n",
      "d.mprint('%.4f')\n",
      "f.mprint('%.4f')\n",
      "vu.mprint(Bu.L,'%.4f')\n",
      "L.mprint('%.4f')\n",
      "vu.mprint(Bu.R,'%.4f')\n",
      "R.mprint('%.4f')"
     ],
     "language": "python",
     "metadata": {},
     "outputs": [
      {
       "output_type": "stream",
       "stream": "stdout",
       "text": [
        "[-1.2131-0.7709i  1.5078-1.4375i  1.6840-0.2867i  0.2435-2.1641i  0.4519+1.0110i;\n",
        "  0.9739-0.8931i  0.1245-1.0777i  0.3053-1.8900i -0.3697-0.6179i -1.2617+1.4960i;\n",
        " -0.2076-0.4775i -0.3318+0.8941i -0.6718+0.7355i  0.3848-1.0254i -0.1502-1.2648i;\n",
        " -0.9276+0.5110i -0.1362-2.3795i -1.1900-1.5567i  0.7714-0.0623i -0.4292-1.0603i;\n",
        " -0.1319+0.7427i -0.7772+0.4594i -1.6559-0.3362i -1.4715-1.1846i  1.2843-1.0360i;\n",
        "  0.1448+0.2363i -1.3323-0.3966i  0.6232-1.5704i -1.6317+0.3023i -0.5901-0.3564i;\n",
        "  1.1543+0.6027i -1.1547-1.2699i -1.3114-1.0680i  0.1646-0.7929i  1.5284+0.6642i]\n",
        "\n",
        "[2.7471 4.9186 3.5936 2.6676 2.4146]\n",
        "[2.4703 2.3957 1.3479 1.4403]\n",
        "[5.6206 4.0156 2.7937 2.2891 2.1669]\n",
        "[2.0362 1.1374 -1.4603 -0.5510]\n",
        "[6.1707 3.9570 3.2042 1.7817 2.2437]\n",
        "[0.6996 0.4973 0.5510 0.2851]\n",
        "[ 2.7471  4.9186  3.5936  2.6676  2.4146]\n",
        "\n",
        "[ 2.4703  2.3957  1.3479  1.4403]\n",
        "\n",
        "[ 5.6206  4.0156  2.7937  2.2891  2.1669]\n"
       ]
      },
      {
       "output_type": "stream",
       "stream": "stdout",
       "text": [
        "\n",
        "[ 2.0362  1.1374 -1.4603 -0.5510]\n",
        "\n",
        "[ 6.1707  3.9570  3.2042  1.7817  2.2437]\n",
        "\n",
        "[ 0.6996  0.4973  0.5510  0.2851]\n",
        "\n",
        "[-0.5479-0.1993i  0.3061+0.1648i  0.2670-0.0953i  0.0025+0.0771i  0.2274+0.0855i  0.3545-0.5095i -0.0004-0.0928i;\n",
        " -0.2747+0.0521i -0.5424-0.0026i  0.3353-0.1797i -0.2509+0.0097i -0.0296+0.5292i -0.2452+0.0520i -0.2691+0.0607i;\n",
        "  0.1681-0.0178i  0.2865+0.0322i  0.1508+0.2342i  0.2675-0.0584i -0.0596+0.4602i -0.2491-0.1944i  0.2619+0.5933i;\n",
        " -0.2487+0.2943i  0.0054-0.2356i -0.3309+0.6176i -0.0946+0.2823i  0.2615+0.3128i  0.1026+0.1028i  0.0520-0.1623i;\n",
        "  0.1107+0.3842i  0.3927+0.0044i  0.1141-0.0266i -0.1853-0.6051i  0.0299+0.2259i  0.2838+0.1993i -0.3106-0.0550i;\n",
        " -0.0600+0.2791i -0.1857-0.3949i  0.0172-0.3585i  0.3677+0.1254i -0.2223+0.1305i  0.5395+0.0854i  0.2531+0.1393i;\n",
        " -0.1099+0.3892i -0.1047+0.3010i  0.1931+0.1629i -0.4629-0.0414i -0.3426-0.2068i  0.0594-0.0941i  0.5287+0.0550i]\n",
        "[-0.5479-0.1993i  0.3061+0.1648i  0.2670-0.0953i  0.0025+0.0771i  0.2274+0.0855i  0.3545-0.5095i -0.0004-0.0928i;\n",
        " -0.2747+0.0521i -0.5424-0.0026i  0.3353-0.1797i -0.2509+0.0097i -0.0296+0.5292i -0.2452+0.0520i -0.2691+0.0607i;\n",
        "  0.1681-0.0178i  0.2865+0.0322i  0.1508+0.2342i  0.2675-0.0584i -0.0596+0.4602i -0.2491-0.1944i  0.2619+0.5933i;\n",
        " -0.2487+0.2943i  0.0054-0.2356i -0.3309+0.6176i -0.0946+0.2823i  0.2615+0.3128i  0.1026+0.1028i  0.0520-0.1623i;\n",
        "  0.1107+0.3842i  0.3927+0.0044i  0.1141-0.0266i -0.1853-0.6051i  0.0299+0.2259i  0.2838+0.1993i -0.3106-0.0550i;\n",
        " -0.0600+0.2791i -0.1857-0.3949i  0.0172-0.3585i  0.3677+0.1254i -0.2223+0.1305i  0.5395+0.0854i  0.2531+0.1393i;\n",
        " -0.1099+0.3892i -0.1047+0.3010i  0.1931+0.1629i -0.4629-0.0414i -0.3426-0.2068i  0.0594-0.0941i  0.5287+0.0550i]\n",
        "\n",
        "[ 0.2532+0.0000i -0.2882+0.5548i -0.3922+0.4467i -0.0696+0.3504i -0.1336-0.2150i;\n",
        " -0.3829+0.0000i  0.1469+0.0919i  0.0349+0.3371i -0.1331-0.3164i  0.5177-0.5680i;\n",
        "  0.3666+0.0000i -0.1781-0.0671i  0.0593+0.3819i -0.2267-0.7377i -0.2196+0.1902i;\n",
        " -0.4620+0.0000i -0.6009+0.3814i  0.3603-0.1433i  0.2514-0.1797i -0.1824+0.0296i;\n",
        " -0.6645+0.0000i  0.1250-0.1437i -0.3873+0.2863i -0.2497+0.0338i -0.3436+0.3297i]\n",
        "[ 0.2532+0.0000i -0.2882+0.5548i -0.3922+0.4467i -0.0696+0.3504i -0.1336-0.2150i;\n",
        " -0.3829+0.0000i  0.1469+0.0919i  0.0349+0.3371i -0.1331-0.3164i  0.5177-0.5680i;\n",
        "  0.3666+0.0000i -0.1781-0.0671i  0.0593+0.3819i -0.2267-0.7377i -0.2196+0.1902i;\n",
        " -0.4620+0.0000i -0.6009+0.3814i  0.3603-0.1433i  0.2514-0.1797i -0.1824+0.0296i;\n",
        " -0.6645+0.0000i  0.1250-0.1437i -0.3873+0.2863i -0.2497+0.0338i -0.3436+0.3297i]\n",
        "\n"
       ]
      }
     ],
     "prompt_number": 11
    },
    {
     "cell_type": "code",
     "collapsed": false,
     "input": [],
     "language": "python",
     "metadata": {},
     "outputs": []
    }
   ],
   "metadata": {}
  }
 ]
}