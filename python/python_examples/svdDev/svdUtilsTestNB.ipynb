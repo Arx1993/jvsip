{
 "metadata": {
  "name": "svdUtilsTestNB"
 },
 "nbformat": 3,
 "nbformat_minor": 0,
 "worksheets": [
  {
   "cells": [
    {
     "cell_type": "markdown",
     "metadata": {},
     "source": [
      "#### Testing\n",
      "This notebook may change with no rhime or reason. Just a place to test routines."
     ]
    },
    {
     "cell_type": "code",
     "collapsed": false,
     "input": [
      "import pyJvsip as pv\n",
      "import vsipUser as vu\n",
      "import svdUtils as u\n",
      "import decompositionUtilities as du\n",
      "A=pv.create('cmview_f',7,5)\n",
      "A.realview.block.vector.randn(5)\n",
      "A.imagview.block.vector.randn(7)\n",
      "A.mprint('%.2f')"
     ],
     "language": "python",
     "metadata": {},
     "outputs": [
      {
       "output_type": "stream",
       "stream": "stdout",
       "text": [
        "[ 0.51-0.05i  0.54+0.59i  0.70+0.73i -0.96-0.37i  0.23-0.21i;\n",
        "  0.04-0.83i -0.48-0.68i  0.21+0.01i  0.51-0.74i -0.38+0.37i;\n",
        "  0.16-1.11i  0.78+2.01i -0.97+0.44i -0.32+1.27i  0.79+0.68i;\n",
        "  0.79-0.77i -0.26+0.50i  0.13+0.76i  1.35+0.52i  0.26+1.62i;\n",
        " -0.19-0.32i  0.34-0.42i -0.50-1.18i  0.17+0.46i  1.62+1.30i;\n",
        "  0.19+0.28i  0.64-0.43i -0.47-0.67i  0.84-0.23i  0.03+0.26i;\n",
        " -0.12+1.33i -0.71+0.17i  0.31+0.55i -1.31-0.27i  0.10+1.23i]\n",
        "\n"
       ]
      }
     ],
     "prompt_number": 1
    },
    {
     "cell_type": "code",
     "collapsed": false,
     "input": [
      "B=du.bidiag(A)\n",
      "Bu=u.cbidiag_f(A.view)\n",
      "B.mprint('%.4f')\n",
      "vu.mprint(Bu,'%.4f')"
     ],
     "language": "python",
     "metadata": {},
     "outputs": [
      {
       "output_type": "stream",
       "stream": "stdout",
       "text": [
        "[-2.3253+0.2277i -0.9914+1.7210i -0.0216-0.0015i  0.3993+0.1308i  0.3080+0.0669i;\n",
        "  0.0424-0.2876i -1.1802-2.7445i  1.1428-0.5805i  0.7569-0.0145i -0.2317+0.2776i;\n",
        "  0.0931-0.3835i -0.3693-0.2003i -0.6053-2.0034i  0.6732-1.1995i -0.1518-0.6238i;\n",
        "  0.3031-0.2420i -0.2626+0.0238i  0.2199+0.6086i  1.4862-1.4115i -0.5483+0.3497i;\n",
        " -0.0571-0.1185i -0.2597+0.0557i  0.2148-0.2581i  0.3054+0.0853i -2.5017+0.3176i;\n",
        "  0.0570+0.1051i -0.1042+0.2643i  0.2998+0.0837i -0.0829+0.1593i  0.1950+0.1099i;\n",
        " -0.0879+0.4597i -0.1360-0.2348i  0.0380-0.2261i  0.2487+0.1012i  0.0413+0.1472i]\n",
        "\n",
        "[-2.3253+0.2277i -0.9914+1.7210i -0.0216-0.0015i  0.3993+0.1308i  0.3080+0.0669i;\n",
        "  0.0424-0.2876i -1.1802-2.7445i  1.1428-0.5805i  0.7569-0.0145i -0.2317+0.2776i;\n",
        "  0.0931-0.3835i -0.3693-0.2003i -0.6053-2.0034i  0.6732-1.1995i -0.1518-0.6238i;\n",
        "  0.3031-0.2420i -0.2626+0.0238i  0.2199+0.6086i  1.4862-1.4115i -0.5483+0.3497i;\n",
        " -0.0571-0.1185i -0.2597+0.0557i  0.2148-0.2581i  0.3054+0.0853i -2.5017+0.3176i;\n",
        "  0.0570+0.1051i -0.1042+0.2643i  0.2998+0.0837i -0.0829+0.1593i  0.1950+0.1099i;\n",
        " -0.0879+0.4597i -0.1360-0.2348i  0.0380-0.2261i  0.2487+0.1012i  0.0413+0.1472i]\n"
       ]
      }
     ],
     "prompt_number": 2
    },
    {
     "cell_type": "code",
     "collapsed": false,
     "input": [
      "a=A.view\n",
      "B_t=u.cbidiag_f(a)\n",
      "vu.mprint(B_t,'%.4f')\n",
      "pv.vsip_cmalldestroy_f(B_t)\n",
      "du.bidiag(A).mprint('%.4f')"
     ],
     "language": "python",
     "metadata": {},
     "outputs": [
      {
       "output_type": "stream",
       "stream": "stdout",
       "text": [
        "[-2.3253+0.2277i -0.9914+1.7210i -0.0216-0.0015i  0.3993+0.1308i  0.3080+0.0669i;\n",
        "  0.0424-0.2876i -1.1802-2.7445i  1.1428-0.5805i  0.7569-0.0145i -0.2317+0.2776i;\n",
        "  0.0931-0.3835i -0.3693-0.2003i -0.6053-2.0034i  0.6732-1.1995i -0.1518-0.6238i;\n",
        "  0.3031-0.2420i -0.2626+0.0238i  0.2199+0.6086i  1.4862-1.4115i -0.5483+0.3497i;\n",
        " -0.0571-0.1185i -0.2597+0.0557i  0.2148-0.2581i  0.3054+0.0853i -2.5017+0.3176i;\n",
        "  0.0570+0.1051i -0.1042+0.2643i  0.2998+0.0837i -0.0829+0.1593i  0.1950+0.1099i;\n",
        " -0.0879+0.4597i -0.1360-0.2348i  0.0380-0.2261i  0.2487+0.1012i  0.0413+0.1472i]\n",
        "[-2.3253+0.2277i -0.9914+1.7210i -0.0216-0.0015i  0.3993+0.1308i  0.3080+0.0669i;\n",
        "  0.0424-0.2876i -1.1802-2.7445i  1.1428-0.5805i  0.7569-0.0145i -0.2317+0.2776i;\n",
        "  0.0931-0.3835i -0.3693-0.2003i -0.6053-2.0034i  0.6732-1.1995i -0.1518-0.6238i;\n",
        "  0.3031-0.2420i -0.2626+0.0238i  0.2199+0.6086i  1.4862-1.4115i -0.5483+0.3497i;\n",
        " -0.0571-0.1185i -0.2597+0.0557i  0.2148-0.2581i  0.3054+0.0853i -2.5017+0.3176i;\n",
        "  0.0570+0.1051i -0.1042+0.2643i  0.2998+0.0837i -0.0829+0.1593i  0.1950+0.1099i;\n",
        " -0.0879+0.4597i -0.1360-0.2348i  0.0380-0.2261i  0.2487+0.1012i  0.0413+0.1472i]\n",
        "\n"
       ]
      }
     ],
     "prompt_number": 3
    },
    {
     "cell_type": "code",
     "collapsed": false,
     "input": [
      "Ar = A.imagview\n",
      "C=du.bidiag(Ar)\n",
      "Cu=u.bidiag_f(Ar.view)\n",
      "C.mprint('%.4f')\n",
      "vu.mprint(Cu,'%.4f')"
     ],
     "language": "python",
     "metadata": {},
     "outputs": [
      {
       "output_type": "stream",
       "stream": "stdout",
       "text": [
        "[ 2.1115  1.2998  0.0430  0.3824  0.2207;\n",
        "  0.3825 -2.6755 -0.8577 -0.3368  0.2898;\n",
        "  0.5147 -0.4236 -1.7083 -0.3142  0.2317;\n",
        "  0.3561 -0.2018 -0.3871  1.2338 -1.8233;\n",
        "  0.1480 -0.0483  0.2657  0.4261 -0.9700;\n",
        " -0.1305  0.0497  0.0688  0.0210  0.3619;\n",
        " -0.6140 -0.3282 -0.6688 -0.0195  0.4386]\n",
        "\n",
        "[2.1115 1.2998 0.0430 0.3824 0.2207;\n",
        " 0.3825 -2.6755 -0.8577 -0.3368 0.2898;\n",
        " 0.5147 -0.4236 -1.7083 -0.3142 0.2317;\n",
        " 0.3561 -0.2018 -0.3871 1.2338 -1.8233;\n",
        " 0.1480 -0.0483 0.2657 0.4261 -0.9700;\n",
        " -0.1305 0.0497 0.0688 0.0210 0.3619;\n",
        " -0.6140 -0.3282 -0.6688 -0.0195 0.4386]\n"
       ]
      }
     ],
     "prompt_number": 4
    },
    {
     "cell_type": "code",
     "collapsed": false,
     "input": [
      "def UmatExtract_f(B):\n",
      "    m = pv.vsip_mgetcollength_f(B);\n",
      "    n = pv.vsip_mgetrowlength_f(B);\n",
      "    U=u.meye_f(m);\n",
      "    v = pv.vsip_mrowview_f(B,0);\n",
      "    Bs=pv.vsip_mcloneview_f(B);\n",
      "    Us=pv.vsip_mcloneview_f(U);\n",
      "    if m > n:\n",
      "        i=n-1;\n",
      "        u.col_sv_f(u.msv_f(B,Bs,i,i),v,0);\n",
      "        t=pv.vsip_vget_f(v,0); pv.vsip_vput_f(v,0,1.0);\n",
      "        u.houseProd_f(v,u.msv_f(U,Us,i,i));\n",
      "        pv.vsip_vput_f(v,0,t)\n",
      "    for i in range(n-2,-1,-1):\n",
      "        u.col_sv_f(u.msv_f(B,Bs,i,i),v,0);\n",
      "        t=pv.vsip_vget_f(v,0); pv.vsip_vput_f(v,0,1.0);\n",
      "        u.houseProd_f(v,u.msv_f(U,Us,i,i));\n",
      "        pv.vsip_vput_f(v,0,t) \n",
      "    return U"
     ],
     "language": "python",
     "metadata": {},
     "outputs": [],
     "prompt_number": 5
    },
    {
     "cell_type": "code",
     "collapsed": false,
     "input": [
      "def UmatExtract(B):\n",
      "    m=B.collength\n",
      "    n=B.rowlength\n",
      "    U=du.eye(B.type,m)\n",
      "    if m > n: #extract last column if matrix is not square\n",
      "        i=n-1\n",
      "        v=B[i:,i:].colview(0).copy\n",
      "        v[0]=1\n",
      "        du.houseProd(v,U[i:,i:])\n",
      "    for i in range(n-2,-1,-1):\n",
      "        v=B[i:,i:].colview(0).copy\n",
      "        v[0]=1\n",
      "        du.houseProd(v,U[i:,i:])\n",
      "    return U"
     ],
     "language": "python",
     "metadata": {},
     "outputs": [],
     "prompt_number": 6
    },
    {
     "cell_type": "code",
     "collapsed": false,
     "input": [
      "U=UmatExtract_f(Cu)\n",
      "vu.mprint(U,'%.4f');\n",
      "UmatExtract(C).mprint('%.4f')\n",
      "Cu"
     ],
     "language": "python",
     "metadata": {},
     "outputs": [
      {
       "output_type": "stream",
       "stream": "stdout",
       "text": [
        "[-0.0236 0.0393 0.3614 0.5022 -0.3269 -0.1125 -0.7039;\n",
        " -0.3915 -0.4857 0.5309 -0.0632 -0.3721 -0.1397 0.4086;\n",
        " -0.5268 0.6560 -0.1762 0.3048 -0.2726 0.0101 0.3062;\n",
        " -0.3645 0.3168 0.5124 -0.4372 0.3806 0.3268 -0.2478;\n",
        " -0.1515 0.0782 -0.2832 -0.6505 -0.4473 -0.3992 -0.3286;\n",
        " 0.1336 -0.0798 -0.1099 -0.1180 -0.5232 0.8213 -0.0378;\n",
        " 0.6284 0.4684 0.4489 -0.1503 -0.2484 -0.1641 0.2700]\n",
        "[-0.0236  0.0393  0.3614  0.5022 -0.3269 -0.1125 -0.7039;\n",
        " -0.3915 -0.4857  0.5309 -0.0632 -0.3721 -0.1397  0.4086;\n",
        " -0.5268  0.6560 -0.1762  0.3048 -0.2726  0.0101  0.3062;\n",
        " -0.3645  0.3168  0.5124 -0.4372  0.3806  0.3268 -0.2478;\n",
        " -0.1515  0.0782 -0.2832 -0.6505 -0.4473 -0.3992 -0.3286;\n",
        "  0.1336 -0.0798 -0.1099 -0.1180 -0.5232  0.8213 -0.0378;\n",
        "  0.6284  0.4684  0.4489 -0.1503 -0.2484 -0.1641  0.2700]\n",
        "\n"
       ]
      },
      {
       "output_type": "pyout",
       "prompt_number": 7,
       "text": [
        "<Swig Object of type 'vsip_mview_f *' at 0x1065171e0>"
       ]
      }
     ],
     "prompt_number": 7
    },
    {
     "cell_type": "code",
     "collapsed": false,
     "input": [
      "def VHmatExtract_f(B):\n",
      "    n = pv.vsip_mgetrowlength_f(B)\n",
      "    V = u.meye_f(n)\n",
      "    if n < 3 :\n",
      "        return V\n",
      "    v = pv.vsip_mrowview_f(B,0)\n",
      "    Vs= pv.vsip_mcloneview_f(V)\n",
      "    Bs= pv.vsip_mcloneview_f(B)\n",
      "    for i in range(n-3, -1, -1):\n",
      "        j=i+1\n",
      "        u.row_sv_f(u.msv_f(B,Bs,i,j),v,0)\n",
      "        t=pv.vsip_vget_f(v,0);pv.vsip_vput_f(v,0,1.0)\n",
      "        u.prodHouse_f(u.msv_f(V,Vs,j,j),v)\n",
      "        pv.vsip_vput_f(v,0,t)\n",
      "    pv.vsip_vdestroy_f(v)\n",
      "    pv.vsip_mdestroy_f(Vs)\n",
      "    pv.vsip_mdestroy_f(Bs)\n",
      "    return V"
     ],
     "language": "python",
     "metadata": {},
     "outputs": [],
     "prompt_number": 8
    },
    {
     "cell_type": "code",
     "collapsed": false,
     "input": [
      "Cu"
     ],
     "language": "python",
     "metadata": {},
     "outputs": [
      {
       "output_type": "pyout",
       "prompt_number": 9,
       "text": [
        "<Swig Object of type 'vsip_mview_f *' at 0x1065171e0>"
       ]
      }
     ],
     "prompt_number": 9
    },
    {
     "cell_type": "code",
     "collapsed": false,
     "input": [
      "V=VHmatExtract_f(Cu)\n",
      "vu.mprint(V,'%.4f')\n",
      "pv.vsip_malldestroy_f(V)\n",
      "du.VHmatExtract(C).mprint('%.4f')"
     ],
     "language": "python",
     "metadata": {},
     "outputs": [
      {
       "output_type": "stream",
       "stream": "stdout",
       "text": [
        "[1.0000 0.0000 0.0000 0.0000 0.0000;\n",
        " 0.0000 -0.6711 -0.0718 -0.6390 -0.3689;\n",
        " 0.0000 -0.1328 -0.6760 0.5118 -0.5134;\n",
        " 0.0000 0.7255 -0.2612 -0.5222 -0.3643;\n",
        " 0.0000 -0.0752 -0.6853 -0.2388 0.6839]\n",
        "[ 1.0000  0.0000  0.0000  0.0000  0.0000;\n",
        "  0.0000 -0.6711 -0.0718 -0.6390 -0.3689;\n",
        "  0.0000 -0.1328 -0.6760  0.5118 -0.5134;\n",
        "  0.0000  0.7255 -0.2612 -0.5222 -0.3643;\n",
        "  0.0000 -0.0752 -0.6853 -0.2388  0.6839]\n",
        "\n"
       ]
      }
     ],
     "prompt_number": 10
    },
    {
     "cell_type": "code",
     "collapsed": false,
     "input": [
      "V=u.VHmatExtract_f(Cu)\n",
      "vu.mprint(V,'%.4f')\n",
      "pv.vsip_malldestroy_f(V)"
     ],
     "language": "python",
     "metadata": {},
     "outputs": [
      {
       "output_type": "stream",
       "stream": "stdout",
       "text": [
        "[1.0000 0.0000 0.0000 0.0000 0.0000;\n",
        " 0.0000 -0.6711 -0.0718 -0.6390 -0.3689;\n",
        " 0.0000 -0.1328 -0.6760 0.5118 -0.5134;\n",
        " 0.0000 0.7255 -0.2612 -0.5222 -0.3643;\n",
        " 0.0000 -0.0752 -0.6853 -0.2388 0.6839]\n"
       ]
      }
     ],
     "prompt_number": 11
    },
    {
     "cell_type": "code",
     "collapsed": false,
     "input": [
      "u.cmeig_f(B.view)"
     ],
     "language": "python",
     "metadata": {},
     "outputs": [
      {
       "output_type": "pyout",
       "prompt_number": 12,
       "text": [
        "-1.1893624067306519"
       ]
      }
     ],
     "prompt_number": 12
    },
    {
     "cell_type": "code",
     "collapsed": false,
     "input": [
      "B.mprint('%.2f')"
     ],
     "language": "python",
     "metadata": {},
     "outputs": [
      {
       "output_type": "stream",
       "stream": "stdout",
       "text": [
        "[-2.33+0.23i -0.99+1.72i -0.02-0.00i  0.40+0.13i  0.31+0.07i;\n",
        "  0.04-0.29i -1.18-2.74i  1.14-0.58i  0.76-0.01i -0.23+0.28i;\n",
        "  0.09-0.38i -0.37-0.20i -0.61-2.00i  0.67-1.20i -0.15-0.62i;\n",
        "  0.30-0.24i -0.26+0.02i  0.22+0.61i  1.49-1.41i -0.55+0.35i;\n",
        " -0.06-0.12i -0.26+0.06i  0.21-0.26i  0.31+0.09i -2.50+0.32i;\n",
        "  0.06+0.11i -0.10+0.26i  0.30+0.08i -0.08+0.16i  0.19+0.11i;\n",
        " -0.09+0.46i -0.14-0.23i  0.04-0.23i  0.25+0.10i  0.04+0.15i]\n",
        "\n"
       ]
      }
     ],
     "prompt_number": 13
    },
    {
     "cell_type": "code",
     "collapsed": false,
     "input": [
      "u.cmnormFro_f(B.view)"
     ],
     "language": "python",
     "metadata": {},
     "outputs": [
      {
       "output_type": "pyout",
       "prompt_number": 14,
       "text": [
        "6.378934383392334"
       ]
      }
     ],
     "prompt_number": 14
    },
    {
     "cell_type": "code",
     "collapsed": false,
     "input": [
      "B.normFro"
     ],
     "language": "python",
     "metadata": {},
     "outputs": [
      {
       "output_type": "pyout",
       "prompt_number": 15,
       "text": [
        "6.378934207254641"
       ]
      }
     ],
     "prompt_number": 15
    },
    {
     "cell_type": "code",
     "collapsed": false,
     "input": [
      "u.cmnormFro_f(B.view) - B.normFro"
     ],
     "language": "python",
     "metadata": {},
     "outputs": [
      {
       "output_type": "pyout",
       "prompt_number": 16,
       "text": [
        "1.7613769287549985e-07"
       ]
      }
     ],
     "prompt_number": 16
    },
    {
     "cell_type": "code",
     "collapsed": false,
     "input": [
      "x=pv.create('vview_f',10).randn(4)"
     ],
     "language": "python",
     "metadata": {},
     "outputs": [],
     "prompt_number": 17
    },
    {
     "cell_type": "code",
     "collapsed": false,
     "input": [
      "v=du.houseVector(x)"
     ],
     "language": "python",
     "metadata": {},
     "outputs": [],
     "prompt_number": 18
    },
    {
     "cell_type": "code",
     "collapsed": false,
     "input": [
      "vv=u.houseVector_f(x.view)"
     ],
     "language": "python",
     "metadata": {},
     "outputs": [],
     "prompt_number": 19
    },
    {
     "cell_type": "code",
     "collapsed": false,
     "input": [
      "vu.mprint(vv,'%.4f')"
     ],
     "language": "python",
     "metadata": {},
     "outputs": [
      {
       "output_type": "stream",
       "stream": "stdout",
       "text": [
        "[-0.8339 0.2913 0.3254 0.0471 0.0873 0.1882 0.0241 0.0590 -0.0714 -0.2438]\n"
       ]
      }
     ],
     "prompt_number": 20
    },
    {
     "cell_type": "code",
     "collapsed": false,
     "input": [
      "v.mprint('%.4f')"
     ],
     "language": "python",
     "metadata": {},
     "outputs": [
      {
       "output_type": "stream",
       "stream": "stdout",
       "text": [
        "[-0.8339  0.2913  0.3254  0.0471  0.0873  0.1882  0.0241  0.0590 -0.0714 -0.2438]\n",
        "\n"
       ]
      }
     ],
     "prompt_number": 21
    },
    {
     "cell_type": "code",
     "collapsed": false,
     "input": [
      "print('%.4f'%v.norm2)\n",
      "print('%.4f'%pv.vsip_vdot_f(vv,vv))"
     ],
     "language": "python",
     "metadata": {},
     "outputs": [
      {
       "output_type": "stream",
       "stream": "stdout",
       "text": [
        "1.0000\n",
        "1.0000\n"
       ]
      }
     ],
     "prompt_number": 22
    },
    {
     "cell_type": "code",
     "collapsed": false,
     "input": [
      "u.vnorm2_f(x.view)"
     ],
     "language": "python",
     "metadata": {},
     "outputs": [
      {
       "output_type": "pyout",
       "prompt_number": 23,
       "text": [
        "1.0"
       ]
      }
     ],
     "prompt_number": 23
    },
    {
     "cell_type": "code",
     "collapsed": false,
     "input": [
      "x.norm2"
     ],
     "language": "python",
     "metadata": {},
     "outputs": [
      {
       "output_type": "pyout",
       "prompt_number": 24,
       "text": [
        "1.0"
       ]
      }
     ],
     "prompt_number": 24
    },
    {
     "cell_type": "code",
     "collapsed": false,
     "input": [
      "cx=pv.create('cvview_f',10)\n",
      "_=cx.realview.randn(5)\n",
      "_=cx.imagview.randn(7)"
     ],
     "language": "python",
     "metadata": {},
     "outputs": [],
     "prompt_number": 25
    },
    {
     "cell_type": "code",
     "collapsed": false,
     "input": [
      "cv=du.houseVector(cx)"
     ],
     "language": "python",
     "metadata": {},
     "outputs": [],
     "prompt_number": 26
    },
    {
     "cell_type": "code",
     "collapsed": false,
     "input": [
      "cvv=u.chouseVector_f(cx.view)"
     ],
     "language": "python",
     "metadata": {},
     "outputs": [],
     "prompt_number": 27
    },
    {
     "cell_type": "code",
     "collapsed": false,
     "input": [
      "cv.mprint('%.4f')\n",
      "vu.mprint(cvv,'%.4f')\n",
      "print('%.4f'%cv.norm2)\n",
      "print('%.4f'%u.cvnorm2_f(cvv))"
     ],
     "language": "python",
     "metadata": {},
     "outputs": [
      {
       "output_type": "stream",
       "stream": "stdout",
       "text": [
        "[ 0.7761-0.0760i  0.1453+0.1601i  0.1897+0.1976i -0.2607-0.0999i  0.0628-0.0569i  0.0110-0.2244i -0.1294-0.1843i  0.0564+0.0034i  0.1374-0.2015i -0.1039+0.1018i]\n",
        "\n",
        "[ 0.7761-0.0760i  0.1453+0.1601i  0.1897+0.1976i -0.2607-0.0999i  0.0628-0.0569i  0.0110-0.2244i -0.1294-0.1843i  0.0564+0.0034i  0.1374-0.2015i -0.1039+0.1018i]\n",
        "1.0000\n",
        "1.0000\n"
       ]
      }
     ],
     "prompt_number": 28
    },
    {
     "cell_type": "code",
     "collapsed": false,
     "input": [
      "B=pv.create('mview_f',5,5)\n",
      "_=B.block.vector.randn(5)"
     ],
     "language": "python",
     "metadata": {},
     "outputs": [],
     "prompt_number": 29
    },
    {
     "cell_type": "code",
     "collapsed": false,
     "input": [
      "x=B.colview(0)\n",
      "xs=x.copy"
     ],
     "language": "python",
     "metadata": {},
     "outputs": [],
     "prompt_number": 30
    },
    {
     "cell_type": "code",
     "collapsed": false,
     "input": [
      "y=u.houseVector_f(xs.view)"
     ],
     "language": "python",
     "metadata": {},
     "outputs": [],
     "prompt_number": 31
    },
    {
     "cell_type": "code",
     "collapsed": false,
     "input": [
      "B.mprint('%.5f')"
     ],
     "language": "python",
     "metadata": {},
     "outputs": [
      {
       "output_type": "stream",
       "stream": "stdout",
       "text": [
        "[ 0.50802  0.53515  0.69864 -0.96027  0.23142;\n",
        "  0.04042 -0.47661  0.20765  0.50621 -0.38285;\n",
        "  0.15746  0.78115 -0.96815 -0.32034  0.79250;\n",
        "  0.79172 -0.25782  0.12663  1.35454  0.25523;\n",
        " -0.19459  0.34111 -0.49602  0.17191  1.62412]\n",
        "\n"
       ]
      }
     ],
     "prompt_number": 32
    },
    {
     "cell_type": "code",
     "collapsed": false,
     "input": [
      "u.houseProd_f(y,B.view)"
     ],
     "language": "python",
     "metadata": {},
     "outputs": [],
     "prompt_number": 33
    },
    {
     "cell_type": "code",
     "collapsed": false,
     "input": [
      "B.mprint('%.5f')"
     ],
     "language": "python",
     "metadata": {},
     "outputs": [
      {
       "output_type": "stream",
       "stream": "stdout",
       "text": [
        "[-0.97427 -0.10788 -0.41842 -0.53491 -0.11588;\n",
        " -0.00000 -0.49415  0.17719  0.51781 -0.39232;\n",
        " -0.00000  0.71285 -1.08681 -0.27515  0.75561;\n",
        " -0.00000 -0.60128 -0.47001  1.58173  0.06972;\n",
        "  0.00000  0.42553 -0.34937  0.11607  1.66972]\n",
        "\n"
       ]
      }
     ],
     "prompt_number": 34
    },
    {
     "cell_type": "code",
     "collapsed": false,
     "input": [
      "I5=u.meye_f(5)\n",
      "ans=u.meye_f(5)"
     ],
     "language": "python",
     "metadata": {},
     "outputs": [],
     "prompt_number": 35
    },
    {
     "cell_type": "code",
     "collapsed": false,
     "input": [
      "u.prodHouse_f(I5,y)"
     ],
     "language": "python",
     "metadata": {},
     "outputs": [],
     "prompt_number": 36
    },
    {
     "cell_type": "code",
     "collapsed": false,
     "input": [
      "pv.vsip_mprod_f(I5,B.view,ans)"
     ],
     "language": "python",
     "metadata": {},
     "outputs": [],
     "prompt_number": 37
    },
    {
     "cell_type": "code",
     "collapsed": false,
     "input": [
      "B.mprint('%.5f')"
     ],
     "language": "python",
     "metadata": {},
     "outputs": [
      {
       "output_type": "stream",
       "stream": "stdout",
       "text": [
        "[-0.97427 -0.10788 -0.41842 -0.53491 -0.11588;\n",
        " -0.00000 -0.49415  0.17719  0.51781 -0.39232;\n",
        " -0.00000  0.71285 -1.08681 -0.27515  0.75561;\n",
        " -0.00000 -0.60128 -0.47001  1.58173  0.06972;\n",
        "  0.00000  0.42553 -0.34937  0.11607  1.66972]\n",
        "\n"
       ]
      }
     ],
     "prompt_number": 38
    },
    {
     "cell_type": "code",
     "collapsed": false,
     "input": [
      "vu.mprint(ans,'%.4f')"
     ],
     "language": "python",
     "metadata": {},
     "outputs": [
      {
       "output_type": "stream",
       "stream": "stdout",
       "text": [
        "[0.5080 0.5351 0.6986 -0.9603 0.2314;\n",
        " 0.0404 -0.4766 0.2077 0.5062 -0.3828;\n",
        " 0.1575 0.7812 -0.9682 -0.3203 0.7925;\n",
        " 0.7917 -0.2578 0.1266 1.3545 0.2552;\n",
        " -0.1946 0.3411 -0.4960 0.1719 1.6241]\n"
       ]
      }
     ],
     "prompt_number": 39
    },
    {
     "cell_type": "code",
     "collapsed": false,
     "input": [
      "b=u.mclone_f(B.view)"
     ],
     "language": "python",
     "metadata": {},
     "outputs": [],
     "prompt_number": 40
    },
    {
     "cell_type": "code",
     "collapsed": false,
     "input": [],
     "language": "python",
     "metadata": {},
     "outputs": [],
     "prompt_number": 40
    }
   ],
   "metadata": {}
  }
 ]
}