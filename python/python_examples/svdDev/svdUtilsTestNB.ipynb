{
 "metadata": {
  "name": "svdUtilsTestNB"
 },
 "nbformat": 3,
 "nbformat_minor": 0,
 "worksheets": [
  {
   "cells": [
    {
     "cell_type": "code",
     "collapsed": false,
     "input": [
      "import pyJvsip as pv\n",
      "import vsipUser as vu\n",
      "import VU_svdUtils as u\n",
      "import decompositionUtilities as du\n",
      "A=pv.create('cmview_d',5,5)\n",
      "A.realview.block.vector.randn(5)\n",
      "A.imagview.block.vector.randn(7)\n",
      "B=A.prodh(A)\n",
      "B.mprint('%.2f')\n",
      "B.norm2"
     ],
     "language": "python",
     "metadata": {},
     "outputs": [
      {
       "output_type": "stream",
       "stream": "stdout",
       "text": [
        "[ 3.07+0.00i -0.82-0.26i  1.26-0.05i -0.53-0.93i -1.58+0.80i;\n",
        " -0.82+0.26i  2.51+0.00i -2.16+0.39i  1.30-0.92i -0.12+0.73i;\n",
        "  1.26+0.05i -2.16-0.39i  9.83+0.00i  3.52-0.10i  2.41+0.36i;\n",
        " -0.53+0.93i  1.30+0.92i  3.52+0.10i  6.94+0.00i  1.84+2.01i;\n",
        " -1.58-0.80i -0.12-0.73i  2.41-0.36i  1.84-2.01i  6.64+0.00i]\n",
        "\n"
       ]
      },
      {
       "output_type": "pyout",
       "prompt_number": 1,
       "text": [
        "13.87954557457739"
       ]
      }
     ],
     "prompt_number": 1
    },
    {
     "cell_type": "code",
     "collapsed": false,
     "input": [
      "u.VU_cmeig_d(B.view)"
     ],
     "language": "python",
     "metadata": {},
     "outputs": [
      {
       "output_type": "pyout",
       "prompt_number": 2,
       "text": [
        "13.87954557457739"
       ]
      }
     ],
     "prompt_number": 2
    },
    {
     "cell_type": "code",
     "collapsed": false,
     "input": [
      "B.mprint('%.2f')"
     ],
     "language": "python",
     "metadata": {},
     "outputs": [
      {
       "output_type": "stream",
       "stream": "stdout",
       "text": [
        "[ 3.07+0.00i -0.82-0.26i  1.26-0.05i -0.53-0.93i -1.58+0.80i;\n",
        " -0.82+0.26i  2.51+0.00i -2.16+0.39i  1.30-0.92i -0.12+0.73i;\n",
        "  1.26+0.05i -2.16-0.39i  9.83+0.00i  3.52-0.10i  2.41+0.36i;\n",
        " -0.53+0.93i  1.30+0.92i  3.52+0.10i  6.94+0.00i  1.84+2.01i;\n",
        " -1.58-0.80i -0.12-0.73i  2.41-0.36i  1.84-2.01i  6.64+0.00i]\n",
        "\n"
       ]
      }
     ],
     "prompt_number": 3
    },
    {
     "cell_type": "code",
     "collapsed": false,
     "input": [
      "u.VU_cmnormFro_d(B.view)"
     ],
     "language": "python",
     "metadata": {},
     "outputs": [
      {
       "output_type": "pyout",
       "prompt_number": 4,
       "text": [
        "16.887894207590527"
       ]
      }
     ],
     "prompt_number": 4
    },
    {
     "cell_type": "code",
     "collapsed": false,
     "input": [
      "B.normFro"
     ],
     "language": "python",
     "metadata": {},
     "outputs": [
      {
       "output_type": "pyout",
       "prompt_number": 5,
       "text": [
        "16.887894207590527"
       ]
      }
     ],
     "prompt_number": 5
    },
    {
     "cell_type": "code",
     "collapsed": false,
     "input": [
      "u.VU_cmnormFro_d(B.view) - B.normFro"
     ],
     "language": "python",
     "metadata": {},
     "outputs": [
      {
       "output_type": "pyout",
       "prompt_number": 6,
       "text": [
        "0.0"
       ]
      }
     ],
     "prompt_number": 6
    },
    {
     "cell_type": "code",
     "collapsed": false,
     "input": [
      "x=pv.create('vview_d',10).randn(4)"
     ],
     "language": "python",
     "metadata": {},
     "outputs": [],
     "prompt_number": 7
    },
    {
     "cell_type": "code",
     "collapsed": false,
     "input": [
      "v=du.houseVector(x)"
     ],
     "language": "python",
     "metadata": {},
     "outputs": [],
     "prompt_number": 8
    },
    {
     "cell_type": "code",
     "collapsed": false,
     "input": [
      "vv=u.VU_houseVector_d(x.view)"
     ],
     "language": "python",
     "metadata": {},
     "outputs": [],
     "prompt_number": 9
    },
    {
     "cell_type": "code",
     "collapsed": false,
     "input": [
      "vu.mprint(vv,'%.4f')"
     ],
     "language": "python",
     "metadata": {},
     "outputs": [
      {
       "output_type": "stream",
       "stream": "stdout",
       "text": [
        "[-0.8339 0.2913 0.3254 0.0471 0.0873 0.1882 0.0241 0.0590 -0.0714 -0.2438]\n"
       ]
      }
     ],
     "prompt_number": 10
    },
    {
     "cell_type": "code",
     "collapsed": false,
     "input": [
      "v.mprint('%.4f')"
     ],
     "language": "python",
     "metadata": {},
     "outputs": [
      {
       "output_type": "stream",
       "stream": "stdout",
       "text": [
        "[-0.8339  0.2913  0.3254  0.0471  0.0873  0.1882  0.0241  0.0590 -0.0714 -0.2438]\n",
        "\n"
       ]
      }
     ],
     "prompt_number": 11
    },
    {
     "cell_type": "code",
     "collapsed": false,
     "input": [
      "print('%.4f'%v.norm2)\n",
      "print('%.4f'%pv.vsip_vdot_d(vv,vv))"
     ],
     "language": "python",
     "metadata": {},
     "outputs": [
      {
       "output_type": "stream",
       "stream": "stdout",
       "text": [
        "1.0000\n",
        "1.0000\n"
       ]
      }
     ],
     "prompt_number": 12
    },
    {
     "cell_type": "code",
     "collapsed": false,
     "input": [
      "u.VU_vnorm2_d(x.view)"
     ],
     "language": "python",
     "metadata": {},
     "outputs": [
      {
       "output_type": "pyout",
       "prompt_number": 11,
       "text": [
        "3.1032669034782794"
       ]
      }
     ],
     "prompt_number": 11
    },
    {
     "cell_type": "code",
     "collapsed": false,
     "input": [
      "x.norm2"
     ],
     "language": "python",
     "metadata": {},
     "outputs": [
      {
       "output_type": "pyout",
       "prompt_number": 12,
       "text": [
        "3.1032669034782794"
       ]
      }
     ],
     "prompt_number": 12
    },
    {
     "cell_type": "code",
     "collapsed": false,
     "input": [
      "cx=pv.create('cvview_f',10)\n",
      "_=cx.realview.randn(5)\n",
      "_=cx.imagview.randn(7)"
     ],
     "language": "python",
     "metadata": {},
     "outputs": [],
     "prompt_number": 13
    },
    {
     "cell_type": "code",
     "collapsed": false,
     "input": [
      "cv=du.houseVector(cx)"
     ],
     "language": "python",
     "metadata": {},
     "outputs": [],
     "prompt_number": 14
    },
    {
     "cell_type": "code",
     "collapsed": false,
     "input": [
      "cvv=u.VU_chouseVector_f(cx.view)"
     ],
     "language": "python",
     "metadata": {},
     "outputs": [],
     "prompt_number": 15
    },
    {
     "cell_type": "code",
     "collapsed": false,
     "input": [
      "cv.mprint('%.4f')\n",
      "vu.mprint(cvv,'%.4f')\n",
      "print('%.4f'%cv.norm2)\n",
      "print('%.4f'%u.VU_cvnorm2_f(cvv))"
     ],
     "language": "python",
     "metadata": {},
     "outputs": [
      {
       "output_type": "stream",
       "stream": "stdout",
       "text": [
        "[ 0.7761-0.0760i  0.1453+0.1601i  0.1897+0.1976i -0.2607-0.0999i  0.0628-0.0569i  0.0110-0.2244i -0.1294-0.1843i  0.0564+0.0034i  0.1374-0.2015i -0.1039+0.1018i]\n",
        "\n",
        "[ 0.7761-0.0760i  0.1453+0.1601i  0.1897+0.1976i -0.2607-0.0999i  0.0628-0.0569i  0.0110-0.2244i -0.1294-0.1843i  0.0564+0.0034i  0.1374-0.2015i -0.1039+0.1018i]\n",
        "1.0000\n",
        "1.0000\n"
       ]
      }
     ],
     "prompt_number": 16
    },
    {
     "cell_type": "code",
     "collapsed": false,
     "input": [
      "B=pv.create('mview_f',5,5)\n",
      "_=B.block.vector.randn(5)"
     ],
     "language": "python",
     "metadata": {},
     "outputs": [],
     "prompt_number": 53
    },
    {
     "cell_type": "code",
     "collapsed": false,
     "input": [
      "x=B.colview(0)"
     ],
     "language": "python",
     "metadata": {},
     "outputs": [],
     "prompt_number": 54
    },
    {
     "cell_type": "code",
     "collapsed": false,
     "input": [
      "y=u.VU_houseVector_f(x.view)"
     ],
     "language": "python",
     "metadata": {},
     "outputs": [],
     "prompt_number": 55
    },
    {
     "cell_type": "code",
     "collapsed": false,
     "input": [
      "B.mprint('%.5f')"
     ],
     "language": "python",
     "metadata": {},
     "outputs": [
      {
       "output_type": "stream",
       "stream": "stdout",
       "text": [
        "[ 0.50802  0.53515  0.69864 -0.96027  0.23142;\n",
        "  0.04042 -0.47661  0.20765  0.50621 -0.38285;\n",
        "  0.15746  0.78115 -0.96815 -0.32034  0.79250;\n",
        "  0.79172 -0.25782  0.12663  1.35454  0.25523;\n",
        " -0.19459  0.34111 -0.49602  0.17191  1.62412]\n",
        "\n"
       ]
      }
     ],
     "prompt_number": 56
    },
    {
     "cell_type": "code",
     "collapsed": false,
     "input": [
      "u.VU_houseProd_f(y,B.view)"
     ],
     "language": "python",
     "metadata": {},
     "outputs": [],
     "prompt_number": 57
    },
    {
     "cell_type": "code",
     "collapsed": false,
     "input": [
      "B.mprint('%.5f')"
     ],
     "language": "python",
     "metadata": {},
     "outputs": [
      {
       "output_type": "stream",
       "stream": "stdout",
       "text": [
        "[-0.97427 -0.10788 -0.41842 -0.53491 -0.11588;\n",
        " -0.00000 -0.49415  0.17719  0.51781 -0.39232;\n",
        " -0.00000  0.71285 -1.08681 -0.27515  0.75561;\n",
        " -0.00000 -0.60128 -0.47001  1.58173  0.06972;\n",
        "  0.00000  0.42553 -0.34937  0.11607  1.66972]\n",
        "\n"
       ]
      }
     ],
     "prompt_number": 58
    },
    {
     "cell_type": "code",
     "collapsed": false,
     "input": [
      "I5=u.VU_meye_f(5)\n",
      "ans=u.VU_meye_f(5)"
     ],
     "language": "python",
     "metadata": {},
     "outputs": [],
     "prompt_number": 59
    },
    {
     "cell_type": "code",
     "collapsed": false,
     "input": [
      "u.VU_prodHouse_f(I5,y)"
     ],
     "language": "python",
     "metadata": {},
     "outputs": [],
     "prompt_number": 60
    },
    {
     "cell_type": "code",
     "collapsed": false,
     "input": [
      "pv.vsip_mprod_f(I5,B.view,ans)"
     ],
     "language": "python",
     "metadata": {},
     "outputs": [],
     "prompt_number": 61
    },
    {
     "cell_type": "code",
     "collapsed": false,
     "input": [
      "B.mprint('%.5f')"
     ],
     "language": "python",
     "metadata": {},
     "outputs": [
      {
       "output_type": "stream",
       "stream": "stdout",
       "text": [
        "[-0.97427 -0.10788 -0.41842 -0.53491 -0.11588;\n",
        " -0.00000 -0.49415  0.17719  0.51781 -0.39232;\n",
        " -0.00000  0.71285 -1.08681 -0.27515  0.75561;\n",
        " -0.00000 -0.60128 -0.47001  1.58173  0.06972;\n",
        "  0.00000  0.42553 -0.34937  0.11607  1.66972]\n",
        "\n"
       ]
      }
     ],
     "prompt_number": 62
    },
    {
     "cell_type": "code",
     "collapsed": false,
     "input": [
      "vu.mprint(ans,'%.4f')"
     ],
     "language": "python",
     "metadata": {},
     "outputs": [
      {
       "output_type": "stream",
       "stream": "stdout",
       "text": [
        "[0.5080 0.5351 0.6986 -0.9603 0.2314;\n",
        " 0.0404 -0.4766 0.2077 0.5062 -0.3828;\n",
        " 0.1575 0.7812 -0.9682 -0.3203 0.7925;\n",
        " 0.7917 -0.2578 0.1266 1.3545 0.2552;\n",
        " -0.1946 0.3411 -0.4960 0.1719 1.6241]\n"
       ]
      }
     ],
     "prompt_number": 63
    },
    {
     "cell_type": "code",
     "collapsed": false,
     "input": [],
     "language": "python",
     "metadata": {},
     "outputs": []
    }
   ],
   "metadata": {}
  }
 ]
}