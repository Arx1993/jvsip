{
 "cells": [
  {
   "cell_type": "markdown",
   "metadata": {},
   "source": [
    "## SVD Algorithm  \n",
    "\n",
    "This notebook is the top level of the JVSIP SVD algorithm development and documentation.    \n",
    "\n",
    "We a write a python algorithm using pyJvsip to calculate the SVD and it's left and right decomposition matrices.  We then write some tests for debugging. Below we also use the pyJvsip native SVD, and play a little with the numpy SVD algorithm.  If the user does not have numpy or has not installed the jvsipNumpy module the numpy sections should be commented out.  Basically we want to check our answers. There a various identites to do this but we can also just compare the singular values returned from other algorithms. Numpy is considered trusted and (probably) correct.\n",
    "\n",
    "For the pyJvsip SVD we use the C VSIPL SVD Functionality under the covers and the decomposition matrices U and V are returned.  Basically python is a good platform for testing the JVSIP C library and is also helpfull when debugging.\n",
    "\n",
    "For the jsvd example we write a prototype SVD using python and pyJvsip notation (without calling the SVD directly of course) to write code which mirrors the basic algorithm of the JVSIP C code.  There are some differences between this example code and the JVSIP C code. For this code we designate the returned matrices as left $L$ and right $R$ and the diagonal of the decomposed matrix $D$ as $d$.\n",
    "Note that the V returned by pyJvsip is the hermitian of $R$.  For jsvd we calculate matrices $L$ and $R$ and diagonal vector $d$ so that   \n",
    "> `A = L D R`  \n",
    "\n",
    "where   \n",
    "\n",
    "> `D.diagview(0)[:]=d`   \n",
    "\n",
    "is a diagonal matrix compatible for matrix product with `L` and `R`."
   ]
  },
  {
   "cell_type": "code",
   "execution_count": 1,
   "metadata": {
    "collapsed": true
   },
   "outputs": [],
   "source": [
    "# baseline modules\n",
    "import pyJvsip as pjv\n",
    "from math import sqrt\n",
    "# if you don't have numpy or the jvsipNumpy algorithm comment out the following\n",
    "from numpy import *"
   ]
  },
  {
   "cell_type": "markdown",
   "metadata": {},
   "source": [
    "Below is the basic SVD algorithm. We call it jsvd to avoid conflicts with other modules which might get loaded and which might have an svd function.   \n",
    "\n",
    "I have not done the work to make jsvd usefull for any matrix. For jsvd we require our matrix be of size at least 2 by 2 and that there are at least as many rows as there are columns. This means that for a matrix of size (m,n) that m and n are greater than one and m is greater than or equal to n.   \n",
    "   \n",
    "We also note that this is the basic top-level code. A lot of work is done in the bi-diagonalization and iteration codes we import; as well as a little work in the final sort phase. The iteration, bidiagonalization and sort modules have there own notebooks which are, in most ways, more extensive than this one.  The notebooks are exported, pared down, and saved as modules (.py files) for use here."
   ]
  },
  {
   "cell_type": "code",
   "execution_count": 2,
   "metadata": {
    "collapsed": true
   },
   "outputs": [],
   "source": [
    "# Needed algorithms in the SVD loaded below.\n",
    "from svdBidiag import svdBidiag\n",
    "from svdIteration import svdIteration\n",
    "from svdSort import svdSort\n",
    "# Call it jsvd to avoid conflicts with other svd's\n",
    "def jsvd(A,eps0):\n",
    "    L,d,f,R,eps0 = svdBidiag(A,eps0)\n",
    "    L,d,R=svdIteration(L,d,f,R,eps0)\n",
    "    return (svdSort(L,d,R))"
   ]
  },
  {
   "cell_type": "markdown",
   "metadata": {},
   "source": [
    "Below we define three test routines for jsvd, pyJvsip svd and numpy. \n",
    "To test we recompute the input matrix from the three decomposition matrices\n",
    "and subtract it from the input matrix. We take the Frobenius norm of the result and divide it by the Frobenius norm of the input matrix. If we get a number order of 1E-7 for float and 1E-15 for double then we decide it is probably correct. We also print the singular values so we can see if they are the same for the same input matrix.\n",
    "\n",
    "Note that the frobenius norm is easy to calculate. It is the square root of the sum of the squares of the input matrix. It is also equal to the square root of the sum of the squares of the singular values. "
   ]
  },
  {
   "cell_type": "code",
   "execution_count": 8,
   "metadata": {},
   "outputs": [],
   "source": [
    "def jsvdTest(A):\n",
    "    L,d,R = jsvd(A,1E-15)\n",
    "    Ac=A.empty.fill(0.0)\n",
    "    if 'cmview' in Ac.type:\n",
    "        Ac.realview.diagview(0)[:]=d\n",
    "    else:\n",
    "        Ac.diagview(0)[:]=d\n",
    "    d.mprint('%.4f')\n",
    "    e=((A-L.prod(Ac).prod(R)).normFro)/(A.normFro)\n",
    "    print('Error check %.5e'%e)\n",
    "    \n",
    "def npSvdTest(A):\n",
    "    Ac=A.empty.fill(0.0)\n",
    "    U,s,V=linalg.svd(A)\n",
    "    if 'cmview' in Ac.type:\n",
    "        Ac.realview.diagview(0)[:]=s\n",
    "    else:\n",
    "        Ac.diagview(0)[:]=s\n",
    "    npToJv(s).mprint('%.4f')\n",
    "    e=((A-U).prod(Ac).prod(V).normFro)/(A.normFro)\n",
    "    print('Error check %.5e'%e)\n",
    "\n",
    "def jvSvdTest(A):\n",
    "    U,s,V=A.copy.svd\n",
    "    Ac=A.empty.fill(0.0)\n",
    "    if 'cmview' in Ac.type:\n",
    "        Ac.realview.diagview(0)[:]=s\n",
    "    else:\n",
    "        Ac.diagview(0)[:]=s\n",
    "    s.mprint('%.4f')\n",
    "    e=(A-U.prod(Ac).prod(V.herm).normFro)/(A.normFro)\n",
    "    print('Error check %.5e'%e)"
   ]
  },
  {
   "cell_type": "code",
   "execution_count": 9,
   "metadata": {},
   "outputs": [
    {
     "name": "stdout",
     "output_type": "stream",
     "text": [
      "[-0.1560-0.4719i -1.0571-0.7283i  0.8128+0.3403i  0.6950+0.7362i  1.1533-1.4630i  0.5306-1.3871i -0.3722+0.7487i  0.6157-0.2284i  0.7178-0.2136i -0.2660-1.3802i  0.0073+0.0753i  0.9666-0.4004i -0.0912-0.5363i  0.2157-1.4418i  0.7338+0.4061i]\n",
      "\n"
     ]
    }
   ],
   "source": [
    "A=pjv.create('cmview_d',20,15).fill(0.0)\n",
    "A[2,4]=.2; A[18,12]=.3; A[13,2]=.4\n",
    "A.diagview(-4).randn(4).mprint('%5.4f')"
   ]
  },
  {
   "cell_type": "code",
   "execution_count": 10,
   "metadata": {
    "collapsed": true
   },
   "outputs": [],
   "source": [
    "U,s,V = linalg.svd(A)"
   ]
  },
  {
   "cell_type": "code",
   "execution_count": 11,
   "metadata": {},
   "outputs": [
    {
     "data": {
      "text/plain": [
       "numpy.ndarray"
      ]
     },
     "execution_count": 11,
     "metadata": {},
     "output_type": "execute_result"
    }
   ],
   "source": [
    "type(s)"
   ]
  },
  {
   "cell_type": "code",
   "execution_count": 12,
   "metadata": {},
   "outputs": [
    {
     "ename": "AssertionError",
     "evalue": "Argument one must be a pyJvsip view object in copy",
     "output_type": "error",
     "traceback": [
      "\u001b[0;31m---------------------------------------------------------------------------\u001b[0m",
      "\u001b[0;31mAssertionError\u001b[0m                            Traceback (most recent call last)",
      "\u001b[0;32m<ipython-input-12-f10b62ec16c1>\u001b[0m in \u001b[0;36m<module>\u001b[0;34m()\u001b[0m\n\u001b[0;32m----> 1\u001b[0;31m \u001b[0mnpSvdTest\u001b[0m\u001b[0;34m(\u001b[0m\u001b[0mA\u001b[0m\u001b[0;34m)\u001b[0m\u001b[0;34m\u001b[0m\u001b[0m\n\u001b[0m",
      "\u001b[0;32m<ipython-input-8-f7de9b7aed64>\u001b[0m in \u001b[0;36mnpSvdTest\u001b[0;34m(A)\u001b[0m\n\u001b[1;32m     14\u001b[0m     \u001b[0mU\u001b[0m\u001b[0;34m,\u001b[0m\u001b[0ms\u001b[0m\u001b[0;34m,\u001b[0m\u001b[0mV\u001b[0m\u001b[0;34m=\u001b[0m\u001b[0mlinalg\u001b[0m\u001b[0;34m.\u001b[0m\u001b[0msvd\u001b[0m\u001b[0;34m(\u001b[0m\u001b[0mA\u001b[0m\u001b[0;34m)\u001b[0m\u001b[0;34m\u001b[0m\u001b[0m\n\u001b[1;32m     15\u001b[0m     \u001b[0;32mif\u001b[0m \u001b[0;34m'cmview'\u001b[0m \u001b[0;32min\u001b[0m \u001b[0mAc\u001b[0m\u001b[0;34m.\u001b[0m\u001b[0mtype\u001b[0m\u001b[0;34m:\u001b[0m\u001b[0;34m\u001b[0m\u001b[0m\n\u001b[0;32m---> 16\u001b[0;31m         \u001b[0mAc\u001b[0m\u001b[0;34m.\u001b[0m\u001b[0mrealview\u001b[0m\u001b[0;34m.\u001b[0m\u001b[0mdiagview\u001b[0m\u001b[0;34m(\u001b[0m\u001b[0;36m0\u001b[0m\u001b[0;34m)\u001b[0m\u001b[0;34m[\u001b[0m\u001b[0;34m:\u001b[0m\u001b[0;34m]\u001b[0m\u001b[0;34m=\u001b[0m\u001b[0ms\u001b[0m\u001b[0;34m\u001b[0m\u001b[0m\n\u001b[0m\u001b[1;32m     17\u001b[0m     \u001b[0;32melse\u001b[0m\u001b[0;34m:\u001b[0m\u001b[0;34m\u001b[0m\u001b[0m\n\u001b[1;32m     18\u001b[0m         \u001b[0mAc\u001b[0m\u001b[0;34m.\u001b[0m\u001b[0mdiagview\u001b[0m\u001b[0;34m(\u001b[0m\u001b[0;36m0\u001b[0m\u001b[0;34m)\u001b[0m\u001b[0;34m[\u001b[0m\u001b[0;34m:\u001b[0m\u001b[0;34m]\u001b[0m\u001b[0;34m=\u001b[0m\u001b[0ms\u001b[0m\u001b[0;34m\u001b[0m\u001b[0m\n",
      "\u001b[0;32m/usr/local/lib/python2.7/site-packages/pyJvsip.pyc\u001b[0m in \u001b[0;36m__setitem__\u001b[0;34m(self, i, value)\u001b[0m\n\u001b[1;32m    747\u001b[0m                     \u001b[0mself\u001b[0m\u001b[0;34m.\u001b[0m\u001b[0msubview\u001b[0m\u001b[0;34m(\u001b[0m\u001b[0mi\u001b[0m\u001b[0;34m)\u001b[0m\u001b[0;34m.\u001b[0m\u001b[0mfill\u001b[0m\u001b[0;34m(\u001b[0m\u001b[0mvsipScalar\u001b[0m\u001b[0;34m(\u001b[0m\u001b[0mself\u001b[0m\u001b[0;34m.\u001b[0m\u001b[0mtype\u001b[0m\u001b[0;34m,\u001b[0m\u001b[0mvalue\u001b[0m\u001b[0;34m)\u001b[0m\u001b[0;34m)\u001b[0m\u001b[0;34m\u001b[0m\u001b[0m\n\u001b[1;32m    748\u001b[0m                 \u001b[0;32melif\u001b[0m \u001b[0misinstance\u001b[0m\u001b[0;34m(\u001b[0m\u001b[0mi\u001b[0m\u001b[0;34m,\u001b[0m\u001b[0mslice\u001b[0m\u001b[0;34m)\u001b[0m\u001b[0;34m:\u001b[0m\u001b[0;34m\u001b[0m\u001b[0m\n\u001b[0;32m--> 749\u001b[0;31m                     \u001b[0mcopy\u001b[0m\u001b[0;34m(\u001b[0m\u001b[0mvalue\u001b[0m\u001b[0;34m,\u001b[0m\u001b[0mself\u001b[0m\u001b[0;34m.\u001b[0m\u001b[0msubview\u001b[0m\u001b[0;34m(\u001b[0m\u001b[0mi\u001b[0m\u001b[0;34m)\u001b[0m\u001b[0;34m)\u001b[0m\u001b[0;34m\u001b[0m\u001b[0m\n\u001b[0m\u001b[1;32m    750\u001b[0m                 \u001b[0;32melse\u001b[0m\u001b[0;34m:\u001b[0m\u001b[0;34m\u001b[0m\u001b[0m\n\u001b[1;32m    751\u001b[0m                     \u001b[0;32massert\u001b[0m \u001b[0mFalse\u001b[0m\u001b[0;34m,\u001b[0m\u001b[0;34m'Failed to recognize index for vector view'\u001b[0m\u001b[0;34m\u001b[0m\u001b[0m\n",
      "\u001b[0;32m/usr/local/lib/python2.7/site-packages/vsipElementwiseCopy.pyc\u001b[0m in \u001b[0;36mcopy\u001b[0;34m(a, b)\u001b[0m\n\u001b[1;32m     42\u001b[0m        'vview_vivview_f':vsip_vcopy_vi_f, 'vview_vivview_d':vsip_vcopy_vi_d}\n\u001b[1;32m     43\u001b[0m     \u001b[0;32massert\u001b[0m \u001b[0;34m'pyJvsip'\u001b[0m \u001b[0;32min\u001b[0m \u001b[0mrepr\u001b[0m\u001b[0;34m(\u001b[0m\u001b[0ma\u001b[0m\u001b[0;34m)\u001b[0m\u001b[0;34m,\u001b[0m\u001b[0;31m\\\u001b[0m\u001b[0;34m\u001b[0m\u001b[0m\n\u001b[0;32m---> 44\u001b[0;31m            \u001b[0;34m'Argument one must be a pyJvsip view object in copy'\u001b[0m\u001b[0;34m\u001b[0m\u001b[0m\n\u001b[0m\u001b[1;32m     45\u001b[0m     \u001b[0;32massert\u001b[0m \u001b[0;34m'pyJvsip'\u001b[0m \u001b[0;32min\u001b[0m \u001b[0mrepr\u001b[0m\u001b[0;34m(\u001b[0m\u001b[0mb\u001b[0m\u001b[0;34m)\u001b[0m\u001b[0;34m,\u001b[0m\u001b[0;31m\\\u001b[0m\u001b[0;34m\u001b[0m\u001b[0m\n\u001b[1;32m     46\u001b[0m            \u001b[0;34m'Argument two must be a pyJvsip view object in copy'\u001b[0m\u001b[0;34m\u001b[0m\u001b[0m\n",
      "\u001b[0;31mAssertionError\u001b[0m: Argument one must be a pyJvsip view object in copy"
     ]
    }
   ],
   "source": [
    "npSvdTest(A)"
   ]
  },
  {
   "cell_type": "code",
   "execution_count": null,
   "metadata": {},
   "outputs": [],
   "source": [
    "jvSvdTest(A)"
   ]
  },
  {
   "cell_type": "code",
   "execution_count": null,
   "metadata": {},
   "outputs": [],
   "source": [
    "jsvdTest(A)"
   ]
  },
  {
   "cell_type": "code",
   "execution_count": null,
   "metadata": {},
   "outputs": [],
   "source": [
    "A=pjv.create('mview_d',30,25).randn(10)\n",
    "npSvdTest(A)\n",
    "jvSvdTest(A)\n",
    "jsvdTest(A)"
   ]
  },
  {
   "cell_type": "code",
   "execution_count": null,
   "metadata": {},
   "outputs": [],
   "source": [
    "A=pjv.create('cmview_f',30,30).randn(10)\n",
    "npSvdTest(A)\n",
    "jvSvdTest(A)\n",
    "jsvdTest(A)"
   ]
  },
  {
   "cell_type": "code",
   "execution_count": null,
   "metadata": {},
   "outputs": [],
   "source": [
    "A=pjv.create('mview_f',8,8).randn(10)\n",
    "npSvdTest(A)\n",
    "jvSvdTest(A)\n",
    "jsvdTest(A)"
   ]
  },
  {
   "cell_type": "code",
   "execution_count": null,
   "metadata": {
    "collapsed": true
   },
   "outputs": [],
   "source": []
  },
  {
   "cell_type": "code",
   "execution_count": null,
   "metadata": {
    "collapsed": true
   },
   "outputs": [],
   "source": []
  }
 ],
 "metadata": {
  "kernelspec": {
   "display_name": "Python 2",
   "language": "python",
   "name": "python2"
  },
  "language_info": {
   "codemirror_mode": {
    "name": "ipython",
    "version": 2
   },
   "file_extension": ".py",
   "mimetype": "text/x-python",
   "name": "python",
   "nbconvert_exporter": "python",
   "pygments_lexer": "ipython2",
   "version": "2.7.13"
  }
 },
 "nbformat": 4,
 "nbformat_minor": 1
}
