{
 "metadata": {
  "name": ""
 },
 "nbformat": 3,
 "nbformat_minor": 0,
 "worksheets": [
  {
   "cells": [
    {
     "cell_type": "code",
     "collapsed": false,
     "input": [
      "from svd_f import *\n",
      "from vsip import *"
     ],
     "language": "python",
     "metadata": {},
     "outputs": [],
     "prompt_number": 4
    },
    {
     "cell_type": "code",
     "collapsed": false,
     "input": [
      "def mprint_f(A):\n",
      "    n=vsip_mgetrowlength_f(A)\n",
      "    m=vsip_mgetcollength_f(A)\n",
      "    for i in range(m):\n",
      "        if i == 0:\n",
      "            s=\"[\"\n",
      "        else:\n",
      "            s = str()\n",
      "        for j in range(n):\n",
      "            s+=(\"%+.5f \"%vsip_mget_f(A,i,j))\n",
      "        s += (\";\")\n",
      "        if i < m-1:\n",
      "            print(s)\n",
      "    s+=(\"]\")\n",
      "    print(s)\n",
      "\n",
      "def vprint_f(v):\n",
      "    s=(\"[\")\n",
      "    for i in range(vsip_vgetlength_f(v)):\n",
      "        s+=(\"%+.5f \"%vsip_vget_f(v,i))\n",
      "    s+=(\"]\")\n",
      "    print(s)\n",
      "\n",
      "def mnormFro_f(A):\n",
      "    return vsip_sqrt_f(vsip_msumsqval_f(A))\n",
      "\n",
      "def checkBack_f( A,L, d, R):\n",
      "    VH=vsip_mcreate_f(vsip_mgetcollength_f(R),vsip_mgetrowlength_f(R),VSIP_ROW,VSIP_MEM_NONE);\n",
      "    Ac=vsip_mcreate_f(vsip_mgetcollength_f(A),vsip_mgetrowlength_f(A),VSIP_ROW,VSIP_MEM_NONE);\n",
      "    L0=vsip_msubview_f(L,0,0,vsip_mgetcollength_f(L),vsip_vgetlength_f(d));\n",
      "    vsip_mcopy_f_f(R,VH)\n",
      "    vsip_vmmul_f(d,VH,VSIP_COL,VH)\n",
      "    vsip_mprod_f(L0,VH,Ac)\n",
      "    vsip_msub_f(A,Ac,Ac)\n",
      "    c = mnormFro_f(Ac)\n",
      "    vsip_malldestroy_f(VH);vsip_malldestroy_f(Ac);vsip_mdestroy_f(L0)\n",
      "    return c\n",
      "\n",
      "def pyMain():\n",
      "    m=6;n=6\n",
      "    init=vsip_init(None)\n",
      "    A = vsip_mcreate_f(m,n,VSIP_ROW,VSIP_MEM_NONE)\n",
      "    a = vsip_vbind_f(vsip_mgetblock_f(A),0,1,m*n)\n",
      "    rnd=vsip_randcreate(5,1,1,VSIP_PRNG)\n",
      "    if init != 0:\n",
      "        exit\n",
      "    vsip_vrandn_f(rnd,a)\n",
      "    mprint_f(A); print(\"\\n\")\n",
      "    s = svd_f(A)\n",
      "    mprint_f(s.L)\n",
      "    print(\"\\n\")\n",
      "    vprint_f(s.d)\n",
      "    print(\"\\n\")\n",
      "    mprint_f(s.R)\n",
      "    print(\"Check value %f\"%checkBack_f(A,s.L,s.d,s.R))\n",
      "    vsip_vdestroy_f(a);\n",
      "    vsip_malldestroy_f(A)\n",
      "    vsip_randdestroy(rnd)\n",
      "    # svdFinalize_f(s); Not needed for python; \n",
      "    vsip_finalize(None)"
     ],
     "language": "python",
     "metadata": {},
     "outputs": [],
     "prompt_number": 11
    },
    {
     "cell_type": "code",
     "collapsed": false,
     "input": [
      "pyMain()"
     ],
     "language": "python",
     "metadata": {},
     "outputs": [
      {
       "output_type": "stream",
       "stream": "stdout",
       "text": [
        "[+0.50802 +0.53515 +0.69864 -0.96027 +0.23142 +0.04042 ;\n",
        "-0.47661 +0.20765 +0.50621 -0.38285 +0.15746 +0.78115 ;\n",
        "-0.96815 -0.32034 +0.79250 +0.79172 -0.25782 +0.12663 ;\n",
        "+1.35454 +0.25523 -0.19459 +0.34111 -0.49602 +0.17191 ;\n",
        "+1.62412 +0.19054 +0.63559 -0.47360 +0.83529 +0.02671 ;\n",
        "-0.12147 -0.71231 +0.31025 -1.31418 +0.09632 +0.40914 ;]\n",
        "\n",
        "\n",
        "[+0.40992 +0.32934 +0.22467 +0.15888 -0.46509 -0.65686 ;\n",
        "-0.02346 +0.43616 +0.32692 -0.30002 -0.50299 +0.59943 ;\n",
        "-0.43638 +0.13135 +0.71557 -0.21886 +0.38638 -0.28824 ;\n",
        "+0.33284 -0.50544 +0.06414 -0.77447 -0.10942 -0.13362 ;\n",
        "+0.71002 -0.00693 +0.38652 +0.22508 +0.44700 +0.30977 ;\n",
        "+0.16146 +0.65462 -0.42082 -0.43172 +0.41185 -0.11098 ;]\n",
        "\n",
        "\n",
        "[+2.66169 +2.05370 +1.24847 +0.86431 +0.80999 +0.53280 ]\n",
        "\n",
        "\n",
        "[+0.83643 +0.17264 +0.13724 -0.43772 +0.24316 +0.03202 ;\n",
        "-0.45924 -0.18107 +0.41487 -0.68592 +0.20402 +0.26849 ;\n",
        "+0.02506 +0.27927 +0.79471 +0.49459 +0.13576 +0.16360 ;\n",
        "-0.22616 +0.28412 -0.06305 -0.01666 +0.66705 -0.64724 ;\n",
        "+0.19399 -0.88055 +0.19734 +0.19114 +0.22330 -0.24833 ;\n",
        "-0.00893 -0.05770 -0.36683 +0.23768 +0.62129 +0.64771 ;]\n",
        "Check value 0.000001\n"
       ]
      }
     ],
     "prompt_number": 12
    },
    {
     "cell_type": "code",
     "collapsed": false,
     "input": [],
     "language": "python",
     "metadata": {},
     "outputs": []
    }
   ],
   "metadata": {}
  }
 ]
}