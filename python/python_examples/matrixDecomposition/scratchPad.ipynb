{
 "metadata": {
  "name": "scratchPad"
 },
 "nbformat": 3,
 "nbformat_minor": 0,
 "worksheets": [
  {
   "cells": [
    {
     "cell_type": "markdown",
     "metadata": {},
     "source": [
      "Scratch Pad is a place to work on and test new routines. Upon success results are moved to other documents. "
     ]
    },
    {
     "cell_type": "code",
     "collapsed": false,
     "input": [
      "import pyJvsip as pv\n",
      "from decompositionUtilities import *\n",
      "f='%.5f'"
     ],
     "language": "python",
     "metadata": {},
     "outputs": [],
     "prompt_number": 6
    },
    {
     "cell_type": "code",
     "collapsed": false,
     "input": [
      "def zeroFind(d):\n",
      "    j=d.length - 1\n",
      "    while d[j] != 0.0 and j >= 0:\n",
      "        j -= 1\n",
      "    return j"
     ],
     "language": "python",
     "metadata": {},
     "outputs": [],
     "prompt_number": 7
    },
    {
     "cell_type": "code",
     "collapsed": false,
     "input": [
      "B=pv.create('mview_d',10,10).fill(0.0)\n",
      "d=B.diagview(0).ramp(-4,1)\n",
      "B[7,7]=0\n",
      "f=B.diagview(1).randn(3)\n",
      "B.mprint('%.4f')\n",
      "L=eye(B.type,B.collength)\n",
      "R=eye(B.type,B.rowlength)\n",
      "eps0=B.normFro/float(B.rowlength * 1E15)\n",
      "biDiagPhaseToZero(L,d,f,R,eps0)\n",
      "B.mprint('%.4f')\n",
      "j=zeroFind(d)\n",
      "if j > 0:\n",
      "    grs_zeroRow(L,d[j+1:],f[j:])\n",
      "B.mprint('%.4f')\n",
      "i,j=grs_corners(f)\n",
      "print('%d, %d'%(i,j))\n",
      "gks_Step(L[:,i:j],d[i:j],f[i:j],R[i:j,:])\n",
      "gks_Step(L[:,i:j],d[i:j],f[i:j],R[i:j,:])\n",
      "gks_Step(L[:,i:j],d[i:j],f[i:j],R[i:j,:])\n",
      "gks_Step(L[:,i:j],d[i:j],f[i:j],R[i:j,:])\n",
      "B.mprint('%.4f')\n",
      "B[8,9]=0.0\n",
      "i,j=grs_corners(f)\n",
      "print('%d, %d'%(i,j))\n",
      "d=d[i:j]; f=f[i:j-1]\n",
      "l=L[:,i:j+1];r=R[i:j+1,:]\n",
      "k=zeroFind(d)\n",
      "print('k %d'%k)\n",
      "if k > 0:\n",
      "    grs_zeroRow(l,d[k:],f[k-1:])\n",
      "B.mprint('%.4f')\n",
      "i,j=grs_corners(f)\n",
      "print('%d, %d'%(i,j))\n",
      "#gks_Step(l[:,i:],d[i:j],f[i:j],r[i:j,:])\n",
      "#gks_Step(l[:,i:j],d[i:j],f[i:j],r[i:j,:])\n",
      "#gks_Step(l[:,i:j],d[i:j],f[i:j],r[i:j,:])\n",
      "#gks_Step(l[:,i:j],d[i:j],f[i:j],r[i:j,:])\n",
      "#B.mprint('%.4f')"
     ],
     "language": "python",
     "metadata": {},
     "outputs": [
      {
       "output_type": "stream",
       "stream": "stdout",
       "text": [
        "[-4.0000  2.0658  0.0000  0.0000  0.0000  0.0000  0.0000  0.0000  0.0000  0.0000;\n",
        "  0.0000 -3.0000 -0.5195  0.0000  0.0000  0.0000  0.0000  0.0000  0.0000  0.0000;\n",
        "  0.0000  0.0000 -2.0000 -1.3307  0.0000  0.0000  0.0000  0.0000  0.0000  0.0000;\n",
        "  0.0000  0.0000  0.0000 -1.0000 -0.5527  0.0000  0.0000  0.0000  0.0000  0.0000;\n",
        "  0.0000  0.0000  0.0000  0.0000  0.0000  0.6723  0.0000  0.0000  0.0000  0.0000;\n",
        "  0.0000  0.0000  0.0000  0.0000  0.0000  1.0000 -0.0925  0.0000  0.0000  0.0000;\n",
        "  0.0000  0.0000  0.0000  0.0000  0.0000  0.0000  2.0000  0.7256  0.0000  0.0000;\n",
        "  0.0000  0.0000  0.0000  0.0000  0.0000  0.0000  0.0000  0.0000 -0.5971  0.0000;\n",
        "  0.0000  0.0000  0.0000  0.0000  0.0000  0.0000  0.0000  0.0000  4.0000 -1.2455;\n",
        "  0.0000  0.0000  0.0000  0.0000  0.0000  0.0000  0.0000  0.0000  0.0000  5.0000]\n",
        "\n",
        "[ 4.0000 -2.0658  0.0000  0.0000  0.0000  0.0000  0.0000  0.0000  0.0000  0.0000;\n",
        "  0.0000  3.0000  0.5195  0.0000  0.0000  0.0000  0.0000  0.0000  0.0000  0.0000;\n",
        "  0.0000  0.0000  2.0000  1.3307  0.0000  0.0000  0.0000  0.0000  0.0000  0.0000;\n",
        "  0.0000  0.0000  0.0000  1.0000  0.5527  0.0000  0.0000  0.0000  0.0000  0.0000;\n",
        "  0.0000  0.0000  0.0000  0.0000  0.0000  0.6723  0.0000  0.0000  0.0000  0.0000;\n",
        "  0.0000  0.0000  0.0000  0.0000  0.0000  1.0000 -0.0925  0.0000  0.0000  0.0000;\n",
        "  0.0000  0.0000  0.0000  0.0000  0.0000  0.0000  2.0000  0.7256  0.0000  0.0000;\n",
        "  0.0000  0.0000  0.0000  0.0000  0.0000  0.0000  0.0000  0.0000 -0.5971  0.0000;\n",
        "  0.0000  0.0000  0.0000  0.0000  0.0000  0.0000  0.0000  0.0000  4.0000 -1.2455;\n",
        "  0.0000  0.0000  0.0000  0.0000  0.0000  0.0000  0.0000  0.0000  0.0000  5.0000]\n",
        "\n",
        "[ 4.0000 -2.0658  0.0000  0.0000  0.0000  0.0000  0.0000  0.0000  0.0000  0.0000;\n",
        "  0.0000  3.0000  0.5195  0.0000  0.0000  0.0000  0.0000  0.0000  0.0000  0.0000;\n",
        "  0.0000  0.0000  2.0000  1.3307  0.0000  0.0000  0.0000  0.0000  0.0000  0.0000;\n",
        "  0.0000  0.0000  0.0000  1.0000  0.5527  0.0000  0.0000  0.0000  0.0000  0.0000;\n",
        "  0.0000  0.0000  0.0000  0.0000  0.0000  0.6723  0.0000  0.0000  0.0000  0.0000;\n",
        "  0.0000  0.0000  0.0000  0.0000  0.0000  1.0000 -0.0925  0.0000  0.0000  0.0000;\n",
        "  0.0000  0.0000  0.0000  0.0000  0.0000  0.0000  2.0000  0.7256  0.0000  0.0000;\n",
        "  0.0000  0.0000  0.0000  0.0000  0.0000  0.0000  0.0000  0.0000  0.0000  0.0000;\n",
        "  0.0000  0.0000  0.0000  0.0000  0.0000  0.0000  0.0000  0.0000  4.0443 -1.2319;\n",
        "  0.0000  0.0000  0.0000  0.0000  0.0000  0.0000  0.0000  0.0000  0.0000  5.0034]\n",
        "\n",
        "8, 10\n",
        "[ 4.0000 -2.0658  0.0000  0.0000  0.0000  0.0000  0.0000  0.0000  0.0000  0.0000;\n",
        "  0.0000  3.0000  0.5195  0.0000  0.0000  0.0000  0.0000  0.0000  0.0000  0.0000;\n",
        "  0.0000  0.0000  2.0000  1.3307  0.0000  0.0000  0.0000  0.0000  0.0000  0.0000;\n",
        "  0.0000  0.0000  0.0000  1.0000  0.5527  0.0000  0.0000  0.0000  0.0000  0.0000;\n",
        "  0.0000  0.0000  0.0000  0.0000  0.0000  0.6723  0.0000  0.0000  0.0000  0.0000;\n",
        "  0.0000  0.0000  0.0000  0.0000  0.0000  1.0000 -0.0925  0.0000  0.0000  0.0000;\n",
        "  0.0000  0.0000  0.0000  0.0000  0.0000  0.0000  2.0000  0.7256  0.0000  0.0000;\n",
        "  0.0000  0.0000  0.0000  0.0000  0.0000  0.0000  0.0000  0.0000  0.0000  0.0000;\n",
        "  0.0000  0.0000  0.0000  0.0000  0.0000  0.0000  0.0000  0.0000  3.7850  0.0000;\n",
        "  0.0000  0.0000  0.0000  0.0000  0.0000  0.0000  0.0000  0.0000  0.0000  5.3462]\n",
        "\n",
        "0, 8\n",
        "k 7\n",
        "[ 4.0000 -2.0658  0.0000  0.0000  0.0000  0.0000  0.0000  0.0000  0.0000  0.0000;\n",
        "  0.0000  3.0000  0.5195  0.0000  0.0000  0.0000  0.0000  0.0000  0.0000  0.0000;\n",
        "  0.0000  0.0000  2.0000  1.3307  0.0000  0.0000  0.0000  0.0000  0.0000  0.0000;\n",
        "  0.0000  0.0000  0.0000  1.0000  0.5527  0.0000  0.0000  0.0000  0.0000  0.0000;\n",
        "  0.0000  0.0000  0.0000  0.0000  0.0000  0.6723  0.0000  0.0000  0.0000  0.0000;\n",
        "  0.0000  0.0000  0.0000  0.0000  0.0000  1.0000 -0.0925  0.0000  0.0000  0.0000;\n",
        "  0.0000  0.0000  0.0000  0.0000  0.0000  0.0000  2.0000  0.0000  0.0000  0.0000;\n",
        "  0.0000  0.0000  0.0000  0.0000  0.0000  0.0000  0.0000  0.7256  0.0000  0.0000;\n",
        "  0.0000  0.0000  0.0000  0.0000  0.0000  0.0000  0.0000  0.0000  3.7850  0.0000;\n",
        "  0.0000  0.0000  0.0000  0.0000  0.0000  0.0000  0.0000  0.0000  0.0000  5.3462]\n",
        "\n",
        "0, 7\n"
       ]
      }
     ],
     "prompt_number": 10
    },
    {
     "cell_type": "code",
     "collapsed": false,
     "input": [
      "B[8,9] < 1E-15"
     ],
     "language": "python",
     "metadata": {},
     "outputs": [
      {
       "output_type": "pyout",
       "prompt_number": 10,
       "text": [
        "True"
       ]
      }
     ],
     "prompt_number": 10
    },
    {
     "cell_type": "code",
     "collapsed": false,
     "input": [
      "def svd(A):\n",
      "    if A.rowlength > A.collength:\n",
      "        print('Row length must not be greater than Colength. Fail for svd')\n",
      "        return\n",
      "    eps0 = A.normFro / (A.rowlength * 1E15) # Proabably could use something better here\n",
      "    B=bidiag(A)\n",
      "    L=UmatExtract(B)\n",
      "    d0=B.diagview(0); d1=B.diagview(1)\n",
      "    R=VHmatExtract(B)\n",
      "    biDiagPhaseToZero(L,d0,d1,R,eps0)\n",
      "    stp=0\n",
      "    if 'cvview' in d0.type:\n",
      "        d=d0.realview; f=d1.realview\n",
      "    else:\n",
      "        d=d0; f=d1\n",
      "    while d.mag.lgt(0.0).anytrue:\n",
      "        stp +=1\n",
      "        if stp > 20:\n",
      "            return L,d,R\n",
      "        grs_zero_checkAndSet(eps0,d,f)\n",
      "        i,j=grs_corners(f)\n",
      "        if d.leq(0.0).anytrue:\n",
      "            k=zeroFind(d[i:j])\n",
      "            grs_zeroRow(L[:,i+k-1:j],d[i+k:j],f[i+k-1:j-1])\n",
      "        else:\n",
      "            gks_Step(L[:,i:j],d[i:j],f[i:j-1],R[i:j,:])\n",
      "    return L,d,R"
     ],
     "language": "python",
     "metadata": {},
     "outputs": [],
     "prompt_number": 5
    },
    {
     "cell_type": "code",
     "collapsed": false,
     "input": [
      "A=pv.create('mview_d',5,5).fill(0.0)\n",
      "A.block.vector.randn(11)\n",
      "A.mprint(f)\n",
      "L,D,R=svd(A)\n",
      "#eps0=A.normFro/(A.rowlength * 1E15)"
     ],
     "language": "python",
     "metadata": {},
     "outputs": [
      {
       "ename": "OverflowError",
       "evalue": "in method 'vsip_vbind_d', argument 4 of type 'vsip_length'",
       "output_type": "pyerr",
       "traceback": [
        "\u001b[0;31m---------------------------------------------------------------------------\u001b[0m\n\u001b[0;31mOverflowError\u001b[0m                             Traceback (most recent call last)",
        "\u001b[0;32m<ipython-input-6-30fe2bf78270>\u001b[0m in \u001b[0;36m<module>\u001b[0;34m()\u001b[0m\n\u001b[1;32m      2\u001b[0m \u001b[0mA\u001b[0m\u001b[0;34m.\u001b[0m\u001b[0mblock\u001b[0m\u001b[0;34m.\u001b[0m\u001b[0mvector\u001b[0m\u001b[0;34m.\u001b[0m\u001b[0mrandn\u001b[0m\u001b[0;34m(\u001b[0m\u001b[0;36m11\u001b[0m\u001b[0;34m)\u001b[0m\u001b[0;34m\u001b[0m\u001b[0m\n\u001b[1;32m      3\u001b[0m \u001b[0mA\u001b[0m\u001b[0;34m.\u001b[0m\u001b[0mmprint\u001b[0m\u001b[0;34m(\u001b[0m\u001b[0mf\u001b[0m\u001b[0;34m)\u001b[0m\u001b[0;34m\u001b[0m\u001b[0m\n\u001b[0;32m----> 4\u001b[0;31m \u001b[0mL\u001b[0m\u001b[0;34m,\u001b[0m\u001b[0mD\u001b[0m\u001b[0;34m,\u001b[0m\u001b[0mR\u001b[0m\u001b[0;34m=\u001b[0m\u001b[0msvd\u001b[0m\u001b[0;34m(\u001b[0m\u001b[0mA\u001b[0m\u001b[0;34m)\u001b[0m\u001b[0;34m\u001b[0m\u001b[0m\n\u001b[0m\u001b[1;32m      5\u001b[0m \u001b[0;31m#eps0=A.normFro/(A.rowlength * 1E15)\u001b[0m\u001b[0;34m\u001b[0m\u001b[0;34m\u001b[0m\u001b[0m\n",
        "\u001b[0;32m<ipython-input-5-e2feb3ad8438>\u001b[0m in \u001b[0;36msvd\u001b[0;34m(A)\u001b[0m\n\u001b[1;32m     24\u001b[0m             \u001b[0mgrs_zeroRow\u001b[0m\u001b[0;34m(\u001b[0m\u001b[0mL\u001b[0m\u001b[0;34m[\u001b[0m\u001b[0;34m:\u001b[0m\u001b[0;34m,\u001b[0m\u001b[0mi\u001b[0m\u001b[0;34m+\u001b[0m\u001b[0mk\u001b[0m\u001b[0;34m-\u001b[0m\u001b[0;36m1\u001b[0m\u001b[0;34m:\u001b[0m\u001b[0mj\u001b[0m\u001b[0;34m]\u001b[0m\u001b[0;34m,\u001b[0m\u001b[0md\u001b[0m\u001b[0;34m[\u001b[0m\u001b[0mi\u001b[0m\u001b[0;34m+\u001b[0m\u001b[0mk\u001b[0m\u001b[0;34m:\u001b[0m\u001b[0mj\u001b[0m\u001b[0;34m]\u001b[0m\u001b[0;34m,\u001b[0m\u001b[0mf\u001b[0m\u001b[0;34m[\u001b[0m\u001b[0mi\u001b[0m\u001b[0;34m+\u001b[0m\u001b[0mk\u001b[0m\u001b[0;34m-\u001b[0m\u001b[0;36m1\u001b[0m\u001b[0;34m:\u001b[0m\u001b[0mj\u001b[0m\u001b[0;34m-\u001b[0m\u001b[0;36m1\u001b[0m\u001b[0;34m]\u001b[0m\u001b[0;34m)\u001b[0m\u001b[0;34m\u001b[0m\u001b[0m\n\u001b[1;32m     25\u001b[0m         \u001b[0;32melse\u001b[0m\u001b[0;34m:\u001b[0m\u001b[0;34m\u001b[0m\u001b[0m\n\u001b[0;32m---> 26\u001b[0;31m             \u001b[0mgks_Step\u001b[0m\u001b[0;34m(\u001b[0m\u001b[0mL\u001b[0m\u001b[0;34m[\u001b[0m\u001b[0;34m:\u001b[0m\u001b[0;34m,\u001b[0m\u001b[0mi\u001b[0m\u001b[0;34m:\u001b[0m\u001b[0mj\u001b[0m\u001b[0;34m]\u001b[0m\u001b[0;34m,\u001b[0m\u001b[0md\u001b[0m\u001b[0;34m[\u001b[0m\u001b[0mi\u001b[0m\u001b[0;34m:\u001b[0m\u001b[0mj\u001b[0m\u001b[0;34m]\u001b[0m\u001b[0;34m,\u001b[0m\u001b[0mf\u001b[0m\u001b[0;34m[\u001b[0m\u001b[0mi\u001b[0m\u001b[0;34m:\u001b[0m\u001b[0mj\u001b[0m\u001b[0;34m-\u001b[0m\u001b[0;36m1\u001b[0m\u001b[0;34m]\u001b[0m\u001b[0;34m,\u001b[0m\u001b[0mR\u001b[0m\u001b[0;34m[\u001b[0m\u001b[0mi\u001b[0m\u001b[0;34m:\u001b[0m\u001b[0mj\u001b[0m\u001b[0;34m,\u001b[0m\u001b[0;34m:\u001b[0m\u001b[0;34m]\u001b[0m\u001b[0;34m)\u001b[0m\u001b[0;34m\u001b[0m\u001b[0m\n\u001b[0m\u001b[1;32m     27\u001b[0m     \u001b[0;32mreturn\u001b[0m \u001b[0mL\u001b[0m\u001b[0;34m,\u001b[0m\u001b[0md\u001b[0m\u001b[0;34m,\u001b[0m\u001b[0mR\u001b[0m\u001b[0;34m\u001b[0m\u001b[0m\n",
        "\u001b[0;32m/Library/Frameworks/Python.framework/Versions/2.7/lib/python2.7/site-packages/pyJvsip.pyc\u001b[0m in \u001b[0;36m__getitem__\u001b[0;34m(self, index)\u001b[0m\n\u001b[1;32m    793\u001b[0m                 \u001b[0;32mreturn\u001b[0m \u001b[0mscalarVal\u001b[0m\u001b[0;34m(\u001b[0m\u001b[0mval\u001b[0m\u001b[0;34m)\u001b[0m\u001b[0;34m\u001b[0m\u001b[0m\n\u001b[1;32m    794\u001b[0m             \u001b[0;32melif\u001b[0m \u001b[0;34m'vview'\u001b[0m \u001b[0;32min\u001b[0m \u001b[0mself\u001b[0m\u001b[0;34m.\u001b[0m\u001b[0mtype\u001b[0m \u001b[0;32mand\u001b[0m \u001b[0misinstance\u001b[0m\u001b[0;34m(\u001b[0m\u001b[0mindex\u001b[0m\u001b[0;34m,\u001b[0m\u001b[0mslice\u001b[0m\u001b[0;34m)\u001b[0m\u001b[0;34m:\u001b[0m\u001b[0;34m\u001b[0m\u001b[0m\n\u001b[0;32m--> 795\u001b[0;31m                 \u001b[0;32mreturn\u001b[0m \u001b[0mself\u001b[0m\u001b[0;34m.\u001b[0m\u001b[0msubview\u001b[0m\u001b[0;34m(\u001b[0m\u001b[0mindex\u001b[0m\u001b[0;34m)\u001b[0m\u001b[0;34m\u001b[0m\u001b[0m\n\u001b[0m\u001b[1;32m    796\u001b[0m             \u001b[0;32melif\u001b[0m \u001b[0;34m'mview'\u001b[0m \u001b[0;32min\u001b[0m \u001b[0mself\u001b[0m\u001b[0;34m.\u001b[0m\u001b[0mtype\u001b[0m \u001b[0;32mand\u001b[0m \u001b[0;34m(\u001b[0m\u001b[0mlen\u001b[0m\u001b[0;34m(\u001b[0m\u001b[0mindex\u001b[0m\u001b[0;34m)\u001b[0m \u001b[0;32mis\u001b[0m \u001b[0;36m2\u001b[0m\u001b[0;34m)\u001b[0m \u001b[0;32mand\u001b[0m\u001b[0;31m \u001b[0m\u001b[0;31m\\\u001b[0m\u001b[0;34m\u001b[0m\u001b[0m\n\u001b[1;32m    797\u001b[0m                         \u001b[0misinstance\u001b[0m\u001b[0;34m(\u001b[0m\u001b[0mindex\u001b[0m\u001b[0;34m[\u001b[0m\u001b[0;36m0\u001b[0m\u001b[0;34m]\u001b[0m\u001b[0;34m,\u001b[0m\u001b[0mint\u001b[0m\u001b[0;34m)\u001b[0m \u001b[0;32mand\u001b[0m \u001b[0misinstance\u001b[0m\u001b[0;34m(\u001b[0m\u001b[0mindex\u001b[0m\u001b[0;34m[\u001b[0m\u001b[0;36m1\u001b[0m\u001b[0;34m]\u001b[0m\u001b[0;34m,\u001b[0m\u001b[0mint\u001b[0m\u001b[0;34m)\u001b[0m\u001b[0;31m \u001b[0m\u001b[0;31m\\\u001b[0m\u001b[0;34m\u001b[0m\u001b[0m\n",
        "\u001b[0;32m/Library/Frameworks/Python.framework/Versions/2.7/lib/python2.7/site-packages/pyJvsip.pyc\u001b[0m in \u001b[0;36msubview\u001b[0;34m(self, *vals)\u001b[0m\n\u001b[1;32m    410\u001b[0m             \u001b[0mattr\u001b[0m \u001b[0;34m=\u001b[0m \u001b[0mvsip\u001b[0m\u001b[0;34m.\u001b[0m\u001b[0mgetattrib\u001b[0m\u001b[0;34m(\u001b[0m\u001b[0mself\u001b[0m\u001b[0;34m.\u001b[0m\u001b[0mview\u001b[0m\u001b[0;34m)\u001b[0m\u001b[0;34m\u001b[0m\u001b[0m\n\u001b[1;32m    411\u001b[0m             \u001b[0;32mif\u001b[0m \u001b[0mself\u001b[0m\u001b[0;34m.\u001b[0m\u001b[0mtype\u001b[0m \u001b[0;32min\u001b[0m \u001b[0mBlock\u001b[0m\u001b[0;34m.\u001b[0m\u001b[0mvectorTypes\u001b[0m\u001b[0;34m:\u001b[0m\u001b[0;34m\u001b[0m\u001b[0m\n\u001b[0;32m--> 412\u001b[0;31m                 \u001b[0;32mreturn\u001b[0m \u001b[0mself\u001b[0m\u001b[0;34m.\u001b[0m\u001b[0mblock\u001b[0m\u001b[0;34m.\u001b[0m\u001b[0mbind\u001b[0m\u001b[0;34m(\u001b[0m\u001b[0mvAttr\u001b[0m\u001b[0;34m(\u001b[0m\u001b[0mattr\u001b[0m\u001b[0;34m,\u001b[0m\u001b[0mvals\u001b[0m\u001b[0;34m)\u001b[0m\u001b[0;34m)\u001b[0m\u001b[0;34m\u001b[0m\u001b[0m\n\u001b[0m\u001b[1;32m    413\u001b[0m             \u001b[0;32melif\u001b[0m \u001b[0mself\u001b[0m\u001b[0;34m.\u001b[0m\u001b[0mtype\u001b[0m \u001b[0;32min\u001b[0m \u001b[0mBlock\u001b[0m\u001b[0;34m.\u001b[0m\u001b[0mmatrixTypes\u001b[0m\u001b[0;34m:\u001b[0m\u001b[0;34m\u001b[0m\u001b[0m\n\u001b[1;32m    414\u001b[0m                 \u001b[0;32mreturn\u001b[0m \u001b[0mself\u001b[0m\u001b[0;34m.\u001b[0m\u001b[0mblock\u001b[0m\u001b[0;34m.\u001b[0m\u001b[0mbind\u001b[0m\u001b[0;34m(\u001b[0m\u001b[0mmAttr\u001b[0m\u001b[0;34m(\u001b[0m\u001b[0mattr\u001b[0m\u001b[0;34m,\u001b[0m\u001b[0mvals\u001b[0m\u001b[0;34m)\u001b[0m\u001b[0;34m)\u001b[0m\u001b[0;34m\u001b[0m\u001b[0m\n",
        "\u001b[0;32m/Library/Frameworks/Python.framework/Versions/2.7/lib/python2.7/site-packages/pyJvsip.pyc\u001b[0m in \u001b[0;36mbind\u001b[0;34m(self, *args)\u001b[0m\n\u001b[1;32m   2748\u001b[0m             \u001b[0;32mprint\u001b[0m\u001b[0;34m(\u001b[0m\u001b[0;34m'For matrix arguments are offset, col_stride, col_length, row_stride, row_length'\u001b[0m\u001b[0;34m)\u001b[0m\u001b[0;34m\u001b[0m\u001b[0m\n\u001b[1;32m   2749\u001b[0m             \u001b[0;32mreturn\u001b[0m\u001b[0;34m\u001b[0m\u001b[0m\n\u001b[0;32m-> 2750\u001b[0;31m         \u001b[0mview\u001b[0m \u001b[0;34m=\u001b[0m \u001b[0mvsip\u001b[0m\u001b[0;34m.\u001b[0m\u001b[0mbind\u001b[0m\u001b[0;34m(\u001b[0m\u001b[0mself\u001b[0m\u001b[0;34m.\u001b[0m\u001b[0m__vsipBlock\u001b[0m\u001b[0;34m,\u001b[0m\u001b[0mattr\u001b[0m\u001b[0;34m)\u001b[0m\u001b[0;34m\u001b[0m\u001b[0m\n\u001b[0m\u001b[1;32m   2751\u001b[0m         \u001b[0mretval\u001b[0m \u001b[0;34m=\u001b[0m \u001b[0mself\u001b[0m\u001b[0;34m.\u001b[0m\u001b[0m__View\u001b[0m\u001b[0;34m(\u001b[0m\u001b[0mview\u001b[0m\u001b[0;34m,\u001b[0m\u001b[0mself\u001b[0m\u001b[0;34m)\u001b[0m\u001b[0;34m\u001b[0m\u001b[0m\n\u001b[1;32m   2752\u001b[0m         \u001b[0mretval\u001b[0m\u001b[0;34m.\u001b[0m\u001b[0mEW\u001b[0m\u001b[0;34m\u001b[0m\u001b[0m\n",
        "\u001b[0;32m/Library/Frameworks/Python.framework/Versions/2.7/lib/python2.7/site-packages/vsiputils.pyc\u001b[0m in \u001b[0;36mbind\u001b[0;34m(blk, l_in)\u001b[0m\n\u001b[1;32m    804\u001b[0m         \u001b[0mt\u001b[0m\u001b[0;34m+=\u001b[0m\u001b[0;34m'matrix'\u001b[0m\u001b[0;34m\u001b[0m\u001b[0m\n\u001b[1;32m    805\u001b[0m     \u001b[0;32mif\u001b[0m \u001b[0mf\u001b[0m\u001b[0;34m.\u001b[0m\u001b[0mhas_key\u001b[0m\u001b[0;34m(\u001b[0m\u001b[0mt\u001b[0m\u001b[0;34m)\u001b[0m\u001b[0;34m:\u001b[0m\u001b[0;34m\u001b[0m\u001b[0m\n\u001b[0;32m--> 806\u001b[0;31m         \u001b[0;32mreturn\u001b[0m \u001b[0meval\u001b[0m\u001b[0;34m(\u001b[0m\u001b[0mf\u001b[0m\u001b[0;34m[\u001b[0m\u001b[0mt\u001b[0m\u001b[0;34m]\u001b[0m\u001b[0;34m)\u001b[0m\u001b[0;34m\u001b[0m\u001b[0m\n\u001b[0m\u001b[1;32m    807\u001b[0m     \u001b[0;32melse\u001b[0m\u001b[0;34m:\u001b[0m\u001b[0;34m\u001b[0m\u001b[0m\n\u001b[1;32m    808\u001b[0m         \u001b[0;32mprint\u001b[0m\u001b[0;34m(\u001b[0m\u001b[0;34m'Bind has no type '\u001b[0m \u001b[0;34m+\u001b[0m \u001b[0mt\u001b[0m\u001b[0;34m)\u001b[0m\u001b[0;34m\u001b[0m\u001b[0m\n",
        "\u001b[0;32m/Library/Frameworks/Python.framework/Versions/2.7/lib/python2.7/site-packages/vsiputils.pyc\u001b[0m in \u001b[0;36m<module>\u001b[0;34m()\u001b[0m\n",
        "\u001b[0;31mOverflowError\u001b[0m: in method 'vsip_vbind_d', argument 4 of type 'vsip_length'"
       ]
      },
      {
       "output_type": "stream",
       "stream": "stdout",
       "text": [
        "[ 0.83472 -0.30092 -0.21334 -1.18307  0.90885;\n",
        " -0.56076 -1.08317 -0.37812  0.76149 -0.10954;\n",
        "  0.34784 -0.54094  0.25372  1.44898  0.44859;\n",
        "  2.10752 -0.98775 -0.97332 -1.14639 -1.63806;\n",
        " -1.57058  1.05103  0.46304  1.03263 -1.33682]\n",
        "\n"
       ]
      }
     ],
     "prompt_number": 6
    },
    {
     "cell_type": "code",
     "collapsed": false,
     "input": [
      "i,j=grs_corners(f)"
     ],
     "language": "python",
     "metadata": {},
     "outputs": [],
     "prompt_number": 150
    },
    {
     "cell_type": "code",
     "collapsed": false,
     "input": [
      "i,j"
     ],
     "language": "python",
     "metadata": {},
     "outputs": [
      {
       "output_type": "pyout",
       "prompt_number": 151,
       "text": [
        "(0, 5)"
       ]
      }
     ],
     "prompt_number": 151
    },
    {
     "cell_type": "code",
     "collapsed": false,
     "input": [
      "B=bidiag(A)\n",
      "L=UmatExtract(B)\n",
      "d0=B.diagview(0);d1=B.diagview(1)\n",
      "R=VHmatExtract(B)\n",
      "biDiagPhaseToZero(L,d0,d1,R,eps0)\n",
      "L.mprint(f)\n",
      "d=d0; f=d1"
     ],
     "language": "python",
     "metadata": {},
     "outputs": [
      {
       "output_type": "stream",
       "stream": "stdout",
       "text": [
        "[ 0.29437  0.26824  0.05791 -0.43231  0.80694;\n",
        " -0.19776  0.44659 -0.83557  0.22817  0.10589;\n",
        "  0.12267 -0.84434 -0.45273 -0.01889  0.25829;\n",
        "  0.74324  0.08025  0.05378  0.65998  0.05190;\n",
        " -0.55388 -0.09620  0.30101  0.57020  0.51791]\n",
        "\n"
       ]
      }
     ],
     "prompt_number": 149
    },
    {
     "cell_type": "code",
     "collapsed": false,
     "input": [
      "print(L.type)\n",
      "biDiagPhaseToZero(L,d0,d1,R,eps0)\n",
      "print(L.type)"
     ],
     "language": "python",
     "metadata": {},
     "outputs": [
      {
       "output_type": "stream",
       "stream": "stdout",
       "text": [
        "mview_d\n",
        "mview_d\n"
       ]
      }
     ],
     "prompt_number": 6
    },
    {
     "cell_type": "code",
     "collapsed": false,
     "input": [
      "L.mprint('%.3f')"
     ],
     "language": "python",
     "metadata": {},
     "outputs": [
      {
       "output_type": "stream",
       "stream": "stdout",
       "text": [
        "[ 0.294  0.268  0.058 -0.432  0.807;\n",
        " -0.198  0.447 -0.836  0.228  0.106;\n",
        "  0.123 -0.844 -0.453 -0.019  0.258;\n",
        "  0.743  0.080  0.054  0.660  0.052;\n",
        " -0.554 -0.096  0.301  0.570  0.518]\n",
        "\n"
       ]
      }
     ],
     "prompt_number": 7
    },
    {
     "cell_type": "code",
     "collapsed": false,
     "input": [
      "L.mprint(f); "
     ],
     "language": "python",
     "metadata": {},
     "outputs": [
      {
       "output_type": "stream",
       "stream": "stdout",
       "text": [
        "[ 0.29437  0.26824  0.05791 -0.43231  0.80694;\n",
        " -0.19776  0.44659 -0.83557  0.22817  0.10589;\n",
        "  0.12267 -0.84434 -0.45273 -0.01889  0.25829;\n",
        "  0.74324  0.08025  0.05378  0.65998  0.05190;\n",
        " -0.55388 -0.09620  0.30101  0.57020  0.51791]\n",
        "\n"
       ]
      }
     ],
     "prompt_number": 8
    },
    {
     "cell_type": "code",
     "collapsed": false,
     "input": [
      "d0.mprint(f);\n",
      "d1.mag.lgt(0.0).anytrue"
     ],
     "language": "python",
     "metadata": {},
     "outputs": [
      {
       "output_type": "stream",
       "stream": "stdout",
       "text": [
        "[ 2.83559  1.42304  1.85341  1.05554  0.07790]\n",
        "\n"
       ]
      },
      {
       "output_type": "pyout",
       "prompt_number": 13,
       "text": [
        "True"
       ]
      }
     ],
     "prompt_number": 13
    },
    {
     "cell_type": "code",
     "collapsed": false,
     "input": [
      "R.mprint(f)"
     ],
     "language": "python",
     "metadata": {},
     "outputs": [
      {
       "output_type": "stream",
       "stream": "stdout",
       "text": [
        "[ 1.00000  0.00000  0.00000  0.00000  0.00000;\n",
        "  0.00000 -0.53499 -0.39870 -0.74272 -0.05652;\n",
        "  0.00000  0.80268  0.00744 -0.56844 -0.18035;\n",
        "  0.00000 -0.25812  0.73584 -0.16308 -0.60442;\n",
        "  0.00000 -0.05361  0.54729 -0.31407  0.77392]\n",
        "\n"
       ]
      }
     ],
     "prompt_number": 10
    },
    {
     "cell_type": "code",
     "collapsed": false,
     "input": [
      "eps0"
     ],
     "language": "python",
     "metadata": {},
     "outputs": [
      {
       "output_type": "pyout",
       "prompt_number": 11,
       "text": [
        "1.001221169374679e-15"
       ]
      }
     ],
     "prompt_number": 11
    },
    {
     "cell_type": "code",
     "collapsed": false,
     "input": [
      "d0.mprint('%.1f')"
     ],
     "language": "python",
     "metadata": {},
     "outputs": [
      {
       "output_type": "stream",
       "stream": "stdout",
       "text": [
        "[ 2.8  1.4  1.9  1.1  0.1]\n",
        "\n"
       ]
      }
     ],
     "prompt_number": 12
    },
    {
     "cell_type": "code",
     "collapsed": false,
     "input": [
      "grs_zero_checkAndSet(eps0,d0,d1)"
     ],
     "language": "python",
     "metadata": {},
     "outputs": [],
     "prompt_number": 139
    },
    {
     "cell_type": "code",
     "collapsed": false,
     "input": [
      "d1.mprint(f)"
     ],
     "language": "python",
     "metadata": {},
     "outputs": [
      {
       "output_type": "stream",
       "stream": "stdout",
       "text": [
        "[ 2.34961  0.58955  0.35600 -2.10836]\n",
        "\n"
       ]
      }
     ],
     "prompt_number": 16
    },
    {
     "cell_type": "code",
     "collapsed": false,
     "input": [
      "gks_Step(L[:,0:5],d0[0:5],d1[0:4],R[0:5,:])"
     ],
     "language": "python",
     "metadata": {},
     "outputs": [],
     "prompt_number": 18
    },
    {
     "cell_type": "code",
     "collapsed": false,
     "input": [
      "d0.mprint(f);\n",
      "d1.mag.lgt(0.0).anytrue"
     ],
     "language": "python",
     "metadata": {},
     "outputs": [
      {
       "output_type": "stream",
       "stream": "stdout",
       "text": [
        "[ 3.80684  0.03421  1.00431 -1.97931 -2.37519]\n",
        "\n"
       ]
      },
      {
       "output_type": "pyout",
       "prompt_number": 144,
       "text": [
        "False"
       ]
      }
     ],
     "prompt_number": 144
    },
    {
     "cell_type": "code",
     "collapsed": false,
     "input": [
      "gks_Step(L[:,0:5],d0[0:5],d1[0:4],R[0:5,:])"
     ],
     "language": "python",
     "metadata": {},
     "outputs": [],
     "prompt_number": 141
    },
    {
     "cell_type": "code",
     "collapsed": false,
     "input": [
      "gks_Step(L[:,0:5],d0[0:5],d1[0:4],R[0:5,:])\n",
      "gks_Step(L[:,0:5],d0[0:5],d1[0:4],R[0:5,:])"
     ],
     "language": "python",
     "metadata": {},
     "outputs": [],
     "prompt_number": 142
    },
    {
     "cell_type": "code",
     "collapsed": false,
     "input": [
      "d1.mprint(f);\n",
      "d1.mag.lgt(0.0).anytrue"
     ],
     "language": "python",
     "metadata": {},
     "outputs": [
      {
       "output_type": "stream",
       "stream": "stdout",
       "text": [
        "[ 0.00000  0.00000  0.00000  0.00000]\n",
        "\n"
       ]
      },
      {
       "output_type": "pyout",
       "prompt_number": 143,
       "text": [
        "False"
       ]
      }
     ],
     "prompt_number": 143
    },
    {
     "cell_type": "code",
     "collapsed": false,
     "input": [
      "biDiagPhaseToZero(L,d0,d1,R,eps0)"
     ],
     "language": "python",
     "metadata": {},
     "outputs": [],
     "prompt_number": 145
    },
    {
     "cell_type": "code",
     "collapsed": false,
     "input": [
      "d0.mprint(f)"
     ],
     "language": "python",
     "metadata": {},
     "outputs": [
      {
       "output_type": "stream",
       "stream": "stdout",
       "text": [
        "[ 3.80684  0.03421  1.00431  1.97931  2.37519]\n",
        "\n"
       ]
      }
     ],
     "prompt_number": 146
    },
    {
     "cell_type": "code",
     "collapsed": false,
     "input": [],
     "language": "python",
     "metadata": {},
     "outputs": []
    }
   ],
   "metadata": {}
  }
 ]
}