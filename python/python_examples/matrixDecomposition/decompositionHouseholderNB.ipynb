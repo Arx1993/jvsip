{
 "metadata": {
  "name": "decompositionHouseholderNB"
 },
 "nbformat": 3,
 "nbformat_minor": 0,
 "worksheets": [
  {
   "cells": [
    {
     "cell_type": "markdown",
     "metadata": {},
     "source": [
      "#### Householder Vector\n",
      "The function houseVector returns a normalized householder vector.   \n",
      "Note that, in general, the householder matrix is given by   \n",
      "$H=(I-{2 \\over {\\vec{v}^H {\\,}\\vec{v}}} \\vec{v} {\\,} \\vec{v}^H) $  \n",
      "No matter how the householder vector is normalized this $H$ will always work."
     ]
    },
    {
     "cell_type": "code",
     "collapsed": false,
     "input": [
      "def houseVector(x): \n",
      "    \"\"\"\n",
      "     This algorithm returns a normalized householder vector 'v' such that\n",
      "     the householder projection matrix 'H' is:\n",
      "     H = I - 2 v v*\n",
      "    \"\"\"\n",
      "    if 'vview' not in x.type:\n",
      "        print('Function houseVector only works on vector views')\n",
      "        return\n",
      "    v=x.copy\n",
      "    v[0] += (sign(x[0]) * x.norm2)\n",
      "    n = v.norm2\n",
      "    if n == 0.0:\n",
      "        v[0] = 1.0\n",
      "    else:\n",
      "        v /= n\n",
      "    return v"
     ],
     "language": "python",
     "metadata": {},
     "outputs": [],
     "prompt_number": 3
    },
    {
     "cell_type": "markdown",
     "metadata": {},
     "source": [
      "#### Householder Matrix\n",
      "The function house creates and returns a householder matrix.  \n",
      "Note that generally you would not want to do this for performance and memory management reasons; however, this is the most straight forward representation when you are trying to wrap your head around some new concept."
     ]
    },
    {
     "cell_type": "code",
     "collapsed": false,
     "input": [
      "def house(v): # create and return househoulder rotation matrix\n",
      "              # vector v; works for any valid househoulder vector\n",
      "    t={'vview_f':'mview_f','vview_d':'mview_d',\n",
      "       'cvview_f':'cmview_f','cvview_d':'cmview_d'}\n",
      "    return(eye(t[v.type],v.length) - v.outer(2.0/v.jdot(v),v))"
     ],
     "language": "python",
     "metadata": {},
     "outputs": [],
     "prompt_number": 2
    },
    {
     "cell_type": "markdown",
     "metadata": {},
     "source": [
      "#### QR Decomposition Representation\n",
      "The function QRD_inPlace(A) will, in-place, do a $Q R$ factorization of A.\n",
      "The QRD_inPlace function stores the $R$ matrix of the $Q R$ factorization\n",
      "in the upper triangular portion of the input matrix and the v[1:] portion\n",
      "of the householder vectors in the remaining lower triangular portion of the\n",
      "input matrix. The householder vectors are normalized so that v[0] is one.\n",
      "For more info see Goulub & VanLoan; Matrix Calculations"
     ]
    },
    {
     "cell_type": "code",
     "collapsed": false,
     "input": [
      "def QRD_inPlace(A):\n",
      "    m=A.collength\n",
      "    n=A.rowlength\n",
      "    if m < n:\n",
      "        print('The input matrix must have collength >= rowlength.')\n",
      "        print('For matrices where m > n use the transpose.')\n",
      "    for i in range(n-1):\n",
      "        x=A[i:,i:].colview(0)\n",
      "        v=houseVector(x)\n",
      "        v /= v[0]\n",
      "        A[i:,i:]=house(v).prod(A[i:,i:])\n",
      "        x[1:]=v[1:]\n",
      "    if m > n: #do last column if matrix not square\n",
      "        i=n-1\n",
      "        x=A[i:,i:].colview(0)\n",
      "        v=houseVector(x)\n",
      "        v /= v[0]\n",
      "        A[i:,i:]=house(v).prod(A[i:,i:])\n",
      "        x[1:]=v[1:]"
     ],
     "language": "python",
     "metadata": {},
     "outputs": [],
     "prompt_number": 1
    },
    {
     "cell_type": "markdown",
     "metadata": {},
     "source": [
      "#### Householder Matrix Products\n",
      "The function houseProd(v,A), where v is a householder vector and A is a matrix  \n",
      "(size must be conformant), will return $ H A = (I - \\beta {\\,} \\vec{v} {\\,}\\vec{v}^H) A = A - \\beta {\\,} \\vec{v}{\\,} (\\vec{v}^H A) = A - \\beta {\\,} \\vec{v}{\\,} \\vec{w}^H$.  \n",
      "Done in-place. The output is in $A$"
     ]
    },
    {
     "cell_type": "code",
     "collapsed": false,
     "input": [
      "def houseProd(v,A):\n",
      "    beta = 2.0/v.jdot(v)\n",
      "    v.conj;w=v.prod(A).conj;v.conj\n",
      "    A -= v.outer(beta,w)"
     ],
     "language": "python",
     "metadata": {},
     "outputs": [],
     "prompt_number": 4
    },
    {
     "cell_type": "markdown",
     "metadata": {},
     "source": [
      "The function prodHouse(A,v), where v is a householder vector and A is a matrix  \n",
      "(size must be conformant), will return $ A{\\,} H {\\,}= {\\,}A {\\,}(I - \\beta{\\,} \\vec{v} {\\,} \\vec{v}^H) = A - \\beta{\\,} (A {\\,} \\vec{v}) {\\,}\\vec{v}^H = A - \\beta{\\,} \\vec{w} {\\,} \\vec{v}^H $  \n",
      "Done in-place. The output is in $A$"
     ]
    },
    {
     "cell_type": "code",
     "collapsed": false,
     "input": [
      "def prodHouse(A,v):\n",
      "    beta = 2.0/v.jdot(v)\n",
      "    w=A.prod(v)\n",
      "    A-=w.outer(beta,v)"
     ],
     "language": "python",
     "metadata": {},
     "outputs": [],
     "prompt_number": 5
    },
    {
     "cell_type": "markdown",
     "metadata": {},
     "source": [
      "#### Q Matrix Product\n",
      "The function `fullQProd(Q,B)` takes a matrix produced by `QRD_inPlace`   \n",
      "(containing $Q$ information in householder vectors) and does a matrix product of $Q$ times $B$.  \n",
      "The result is returned in a new matrix."
     ]
    },
    {
     "cell_type": "code",
     "collapsed": false,
     "input": [
      "def fullQProd(Q,B):\n",
      "    m=Q.collength\n",
      "    n=B.rowlength\n",
      "    U=B.copy\n",
      "    if m > n: #extract last column if matrix is not square\n",
      "        i=n-1\n",
      "        v=Q[i:,i:].colview(0).copy\n",
      "        v[0]=1\n",
      "        houseProd(v,U[i:,i:])\n",
      "    for i in range(n-2,-1,-1):\n",
      "        v=Q[i:,i:].colview(0).copy\n",
      "        v[0]=1\n",
      "        houseProd(v,U[i:,i:])\n",
      "    return U"
     ],
     "language": "python",
     "metadata": {},
     "outputs": [],
     "prompt_number": 6
    },
    {
     "cell_type": "markdown",
     "metadata": {},
     "source": [
      "#### Q Matrix Extract\n",
      "Matrix B is created using function `QRD_inPlace`.   \n",
      "The function `QmatExtract(B)` will create a new matrix containing the $Q$ factor of the $Q R$ factorization  \n",
      "using the householder vectors stored in the columns of matrix $B$."
     ]
    },
    {
     "cell_type": "code",
     "collapsed": false,
     "input": [
      "def QmatExtract(B):\n",
      "    m=B.collength\n",
      "    n=B.rowlength\n",
      "    Q=eye(B.type,m)\n",
      "    if m > n: #extract last column if matrix is not square\n",
      "        i=n-1\n",
      "        v=B[i:,i:].colview(0).copy\n",
      "        v[0]=1\n",
      "        houseProd(v,Q[i:,i:])\n",
      "    for i in range(n-2,-1,-1):\n",
      "        v=B[i:,i:].colview(0).copy\n",
      "        v[0]=1\n",
      "        houseProd(v,Q[i:,i:])\n",
      "    return Q"
     ],
     "language": "python",
     "metadata": {},
     "outputs": []
    },
    {
     "cell_type": "markdown",
     "metadata": {},
     "source": [
      "#### R Matrix Extract\n",
      "Matrix B is created using function `QRD_inPlace`.  \n",
      "The function `RmatExtract(B)` will create a new matrix containing the $R$ factor of the QR factorization.  \n",
      "Basically a copy of $B$ is made and the householder vectors in the lower triangular portion are zeroed."
     ]
    },
    {
     "cell_type": "code",
     "collapsed": false,
     "input": [
      "def RmatExtract(B):\n",
      "    R=B.copy\n",
      "    m=B.collength\n",
      "    for i in range(1,m):\n",
      "        R.diagview(-i).fill(0.0)\n",
      "    return R"
     ],
     "language": "python",
     "metadata": {},
     "outputs": []
    },
    {
     "cell_type": "markdown",
     "metadata": {},
     "source": [
      "The function `houseQR` produces, out-of-place, the Factors $Q$ and $R$ of a QR decomposition"
     ]
    },
    {
     "cell_type": "code",
     "collapsed": false,
     "input": [
      "def houseQR(A):\n",
      "    R=A.copy\n",
      "    m=A.collength\n",
      "    n=A.rowlength\n",
      "    if m < n:\n",
      "        print('The input matrix must have collength >= rowlength.')\n",
      "        print('for matrices where m > n use the transpose')\n",
      "    for i in range(n-1):\n",
      "        x=R[i:,i:].colview(0)\n",
      "        v=houseVector(x)\n",
      "        v /= v[0]\n",
      "        houseProd(v,R[i:,i:])\n",
      "        x[1:]=v[1:]\n",
      "    if m > n: #do last column if matrix not square\n",
      "        i=n-1\n",
      "        x=R[i:,i:].colview(0)\n",
      "        v=houseVector(x)\n",
      "        v /= v[0]\n",
      "        houseProd(v,R[i:,i:])\n",
      "        x[1:]=v[1:]\n",
      "    #accumulate Q\n",
      "    Q = QmatExtract(R)\n",
      "    #zero entries of R\n",
      "    for i in range(1,m):\n",
      "        R.diagview(-i).fill(0.0)\n",
      "    return (Q,R)"
     ],
     "language": "python",
     "metadata": {},
     "outputs": []
    },
    {
     "cell_type": "markdown",
     "metadata": {},
     "source": [
      "#### Householder Bidiagonalization    \n",
      "    \n",
      "The function `bidiag(A)` will (out of place) produce a new matrix with the essential  \n",
      "householder vectors stored in the zeored elements and bidiagonalization elements  \n",
      "stored in the main diagonal and the first super-diagonal.  \n",
      "This is the first step to SVD computation.\n",
      "Note this calculates the esential informationtion for the matrix decomposition   \n",
      "   \n",
      "$A \\rightarrow U B V^H $    \n",
      "    \n",
      "Functions are defined to extract the matrices $U$ and $V^H$ as well as the bidiagonal matrix $B$.\n"
     ]
    },
    {
     "cell_type": "code",
     "collapsed": false,
     "input": [
      "def bidiag(A): # m >= n\n",
      "    \"\"\"\n",
      "      B=bidiag(A)\n",
      "        returns, out of place, the bidiagonal decomposition of A.\n",
      "        The esential househoulder vectors are stored in the zeroed \n",
      "        entries of B.\n",
      "    \"\"\"\n",
      "    B=A.copy\n",
      "    m=B.collength\n",
      "    n=B.rowlength\n",
      "    if m < n:\n",
      "        print('The input matrix must have collength >= rowlength.')\n",
      "        print('for matrices where m > n use the transpose')\n",
      "    for i in range(n-1):\n",
      "        x=B[i:,i:].colview(0)\n",
      "        v=houseVector(x)\n",
      "        v /= v[0]\n",
      "        houseProd(v,B[i:,i:])\n",
      "        x[1:]=v[1:]\n",
      "        if i < n-2:\n",
      "            j=i+1\n",
      "            x = B[i:,j:].rowview(0)\n",
      "            #v=houseVector(x.conj);x.conj \n",
      "            v=houseVector(x).conj \n",
      "            v /= v[0]\n",
      "            prodHouse(B[i:,j:],v)#=B[i:,j:].prod(house(v))\n",
      "            x[1:]=v[1:]\n",
      "    if m > n: #do last column if matrix not square\n",
      "        i=n-1\n",
      "        x=B[i:,i:].colview(0)\n",
      "        v=houseVector(x)\n",
      "        v /= v[0]\n",
      "        houseProd(v,B[i:,i:])\n",
      "        x[1:]=v[1:]\n",
      "    return B\n",
      "def bidiagExtract(B):\n",
      "    \"\"\"\n",
      "      B=bidiagExtract(B0)\n",
      "        Returns, out of place, a matrix with the bidiagonal entries. \n",
      "        Input matrix is one produced by B0=bidiag(A)\n",
      "    \"\"\"\n",
      "    B0=B.empty.fill(0.0)\n",
      "    B0.diagview(0)[:] = B.diagview(0)\n",
      "    B0.diagview(1)[:] = B.diagview(1)\n",
      "    return B0\n",
      "def UmatExtract(B):\n",
      "    \"\"\"\n",
      "      U=UmatExtract(B0)\n",
      "        returns, out of place, the U matrix of the bidiagonal \n",
      "        decomposition A=UBV^H given the result of bidiag routine \n",
      "        B0=bidiag(A)\n",
      "    \"\"\"\n",
      "    m=B.collength\n",
      "    n=B.rowlength\n",
      "    U=eye(B.type,m)\n",
      "    if m > n: #extract last column if matrix is not square\n",
      "        i=n-1\n",
      "        v=B[i:,i:].colview(0).copy\n",
      "        v[0]=1\n",
      "        houseProd(v,U[i:,i:])\n",
      "    for i in range(n-2,-1,-1):\n",
      "        v=B[i:,i:].colview(0).copy\n",
      "        v[0]=1\n",
      "        houseProd(v,U[i:,i:])\n",
      "    return U\n",
      "def VHmatExtract(B):\n",
      "    \"\"\"\n",
      "      VH=UmatExtract(B0)\n",
      "        returns, out of place, the hermtian V matrix of the bidiagonal \n",
      "        decomposition A=UBV^H given the result of bidiag routine \n",
      "        B0=bidiag(A)\n",
      "    \"\"\"\n",
      "    m=B.collength\n",
      "    n=B.rowlength\n",
      "    V=eye(B.type,n)\n",
      "    for i in range(n-3,-1,-1):\n",
      "        j=i+1\n",
      "        v=B[i:,j:].rowview(0).copy\n",
      "        v[0]=1\n",
      "        prodHouse(V[j:,j:],v)#=V[j:,j:].prod(house(v))\n",
      "    return V"
     ],
     "language": "python",
     "metadata": {},
     "outputs": []
    }
   ],
   "metadata": {}
  }
 ]
}