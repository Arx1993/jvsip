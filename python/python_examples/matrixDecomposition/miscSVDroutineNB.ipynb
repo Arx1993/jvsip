{
 "metadata": {
  "name": "miscSVDroutineNB"
 },
 "nbformat": 3,
 "nbformat_minor": 0,
 "worksheets": [
  {
   "cells": [
    {
     "cell_type": "markdown",
     "metadata": {},
     "source": [
      "### Function svdZeroCheckAndSet\n",
      "For upper bidiagonal matrix `B` we need to determine when a zero has been reached on the `b1` super diagonal. For a check a small number `e` is multiplied times the vector `b0[0:n].mag + b0[1:n+1].mag` where n is the length of `b1`. Note b0 has length `n+1`. The resulting vector is compared elementwise with `b1` and where `b1` is less than the comparison vector then that element is assumed to be zero. For numerical reasons elements which check as zero are set to zero.  \n",
      "> ` b0 = B.diagview(0)`   \n",
      "> ` b1 = B.diagview(1)` designate $\\vec{b_1}$    \n",
      "> ` s = e * (b0[0:b1.length].mag + b0[1:].mag)` designate $\\vec{s}$   \n",
      "> if $\\vec{b_1}_i < \\vec{s}_i {\\:}$ then ${\\;}\\vec{b_1}_i \\leftarrow 0 $"
     ]
    },
    {
     "cell_type": "code",
     "collapsed": false,
     "input": [
      "def svdZeroCheckAndSet(e,b0,b1):\n",
      "    s=e * (b0[0:b1.length].mag + b0[1:].mag)\n",
      "    indx_bool = b1.mag.llt(s)\n",
      "    if indx_bool.anytrue:\n",
      "        b1.indxFill(indx_bool.indexbool,0.0)"
     ],
     "language": "python",
     "metadata": {},
     "outputs": [],
     "prompt_number": 8
    },
    {
     "cell_type": "markdown",
     "metadata": {},
     "source": [
      "### Function svdCorners \n",
      "For upper bidiagonal matrix `B` we need to determine index (i,i) and (j,j) so that we may break it up into 3 block bidiagonal matrices. Some of the block matrices may have no elements.   \n",
      "    \n",
      "$B = \\begin{bmatrix} B_{1,1} & 0 & 0 \\\\\\\\ 0 & B_{2,2} & 0 \\\\\\\\ 0 & 0 & B_{3,3} \\end{bmatrix} $     \n",
      "    \n",
      "Note that $B_{2,2}$ will always be present unless $B_{3,3}$ contains the entire matrix. $B_{2,2}$ consists of a submatrix that has no zeros on the super diagonal. There may be zeros present on the main diagonal. The matrix $B_{3,3}$ will be strictly diagonal with only zeros on the super diagonal. The matrix $B_{1,1}$ may be present but the condition of its members are not important except that it is bidiagonal.   \n",
      "The operation `i,j = svdCorners(b1) ` where `b1` is a vector repersenting the superdiagonal, for instance `b1 = B.digaview(1)`, returns indices `i, j` so that subviews    \n",
      ">`B[0:i,0:i]` is $B_{1,1}$   \n",
      ">`B[i:j,i:j]` is $B_{2,2}$   \n",
      ">`B[j:,j:] ` ${\\:\\:\\:}$ is $B_{3,3}$   "
     ]
    },
    {
     "cell_type": "code",
     "collapsed": false,
     "input": [
      "def svdCorners(b1):\n",
      "    \"\"\"\n",
      "       Functionality\n",
      "           i,j = svdCorners(v)\n",
      "       where \n",
      "           v is a real vector of type float or double\n",
      "           i,j are indices into the vector\n",
      "       result of \n",
      "           v[i,j] will be vector with no zero elements\n",
      "           v[j:] will be a vector with all zero elements\n",
      "       Note:\n",
      "          to use with complex v use\n",
      "          i,j=svdCorners(v.mag)\n",
      "       \n",
      "    \"\"\"\n",
      "    v_bool=b1.leq(0.0)\n",
      "    j=v_bool.length-1\n",
      "    while j >= 0 and v_bool[j] == 1:\n",
      "        j -= 1\n",
      "    if j == -1:\n",
      "        return(0,0)\n",
      "    i=j  #index of non-zero\n",
      "    j+=1 #index of zero\n",
      "    while i >= 0 and v_bool[i] == 0:\n",
      "        i -= 1\n",
      "    return(i+1,j+1)"
     ],
     "language": "python",
     "metadata": {},
     "outputs": [],
     "prompt_number": 9
    },
    {
     "cell_type": "markdown",
     "metadata": {},
     "source": [
      "### Function zeroRow\n",
      "For upper bidiagonal matrix `B` with no zeros on the super diagonal we need to determine if a zero is on the main diagonal. If a zero is on the main diagonal we need to zero the corresponding super diagonal entry with a givens rotation operating from the right.    \n",
      "> ` b0 = B.diagview(0)` designate $\\vec{b_0}$  \n",
      "> ` b1 = B.diagview(1)` designate $\\vec{b_1}$    \n",
      "\n",
      "c,s,r=givensCoef($b_{0,0},b_{0,1}$)   \n",
      "    \n",
      "$\\begin{bmatrix} b_{0,0} & b_{0,1} & 0 & 0 \\\\\\\\ 0 & b_{1,1} & b_{1,2} & 0 \\\\\\\\ 0 & 0 & 0 & b_{2,3} \\\\\\\\ 0 & 0 & 0 & b_{3,3} \\end{bmatrix} {\\;\\;} \\begin{bmatrix} c & -\\bar{s} & 0 & 0 \\\\\\\\ s & c & 0 & 0 \\\\\\\\ 0 & 0 & 1 & 0 \\\\\\\\ 0 & 0 & 0 & 1 \\end{bmatrix} = \n",
      "\\begin{bmatrix} c b_{0,0}+s b_{0,1} & 0 & 0 & 0 \\\\\\\\ s b_{1,1} & c b_{1,1} & b_{1,2} & 0 \\\\\\\\ 0 & 0 & 0 & b_{2,3} \\\\\\\\ 0 & 0 & 0 & b_{3,3}\\end{bmatrix}\n",
      "=  \\begin{bmatrix} r & 0 & 0 & 0 \\\\\\\\ s b_{1,1} & c b_{1,1} & b_{1,2} & 0 \\\\\\\\ 0 & 0 & 0 & b_{2,3} \\\\\\\\ 0 & 0 & 0 & b_{3,3}\\end{bmatrix}$    \n",
      "    \n",
      "c,s,r=givensCoef($d_{1,1},d_{1,2}$)   \n",
      "\n",
      "    \n",
      "$\\begin{bmatrix} d_{0,0} & 0 & 0 & 0 \\\\\\\\ d_{1,0} & d_{1,1} & d_{1,2} & 0 \\\\\\\\ 0 & 0 & 0 & d_{2,3} \\\\\\\\ 0 & 0 & 0 & d_{3,3} \\end{bmatrix}{\\;\\;} \\begin{bmatrix} 1 & 0 & 0 & 0 \\\\\\\\ 0 & c & -\\bar{s} & 0 \\\\\\\\ 0 & s & c & 0 \\\\\\\\ 0 & 0 & 0 & 1 \\end{bmatrix} = \\begin{bmatrix} d_{0,0} & 0 & 0 & 0 \\\\\\\\ d_{1,0} & c d_{1,1} + s d_{1,2} & 0 & 0 \\\\\\\\ 0 & 0 & 0 & d_{2,3} \\\\\\\\ 0 & 0 & 0 & d_{3,3}\\end{bmatrix} =\\begin{bmatrix} d_{0,0} & 0 & 0 & 0 \\\\\\\\ d_{1,0} & r & 0 & 0 \\\\\\\\ 0 & 0 & 0 & d_{2,3} \\\\\\\\ 0 & 0 & 0 & d_{3,3}\\end{bmatrix} $  \n",
      "    \n",
      "c,s,r=givensCoef($g_{0,0},g_{1,0}$)   \n",
      "    \n",
      "\n",
      "$\\begin{bmatrix} c & s & 0 & 0 \\\\\\\\ -\\bar{s} & c & 0 & 0 \\\\\\\\ 0 & 0 & 1 & 0 \\\\\\\\ 0 & 0 & 0 & 1 \\end{bmatrix} {\\;\\;}\n",
      "\\begin{bmatrix} g_{0,0} & 0 & 0 & 0 \\\\\\\\ g_{1,0} & g_{1,1} & 0 & 0 \\\\\\\\ 0 & 0 & 0 & g_{2,3} \\\\\\\\ 0 & 0 & 0 & g_{3,3} \\end{bmatrix} =\n",
      "\\begin{bmatrix} c g_{0,0} + s g_{1,0} & s g_{1,1} & 0 & 0 \\\\\\\\ 0 & c g_{1,1} & 0 & 0 \\\\\\\\ 0 & 0 & 0 & g_{2,3} \\\\\\\\ 0 & 0 & 0 & g_{3,3}\\end{bmatrix} =\n",
      "\\begin{bmatrix} r & s g_{1,1} & 0 & 0 \\\\\\\\ 0 & c g_{1,1} & 0 & 0 \\\\\\\\ 0 & 0 & 0 & g_{2,3} \\\\\\\\ 0 & 0 & 0 & g_{3,3}\\end{bmatrix}$"
     ]
    },
    {
     "cell_type": "markdown",
     "metadata": {},
     "source": [
      "#### zeroRow    \n",
      "We have matrices $L$, $B$, and $R$ Where sizes are compliant for matrix multiply such that a matrix $A$ is    \n",
      "$ A = L * B * R $      \n",
      "\n",
      "We assume B is upper bidiagonal and we have subivew `d = B.diagview(0)` and `f = B.diagview(1)`\n"
     ]
    },
    {
     "cell_type": "markdown",
     "metadata": {},
     "source": [
      "#### Zero Row with zero on main diagonal  \n",
      "We have a matrix of the form shown below. We chase the nonzero super diagonal entry from a row with a zero main diagonal entry off the end using givens rotations.    \n",
      "\n",
      "For a 5 by 5 matrix as shown below we use givens rotations to zero the $b_1$ entry using $a_2$. This changes $a_2$ and $b_2$ to ${a_2}^'$ and ${b_2}^'$ and places an entry $t$ at element (1,3). We then use a givens rotation using $a_3$ to zero the $t$ entry which changes $a_3$ to ${a_3}^'$. Since element (3,4) is zero then there is no new $t$ entry and row 1 has been zeroed.\n",
      "\n",
      "$ \\begin{bmatrix} a0 & b0 & 0 & 0 & 0 \\\\\\\\ 0 & 0 & b1 & 0 & 0 \\\\\\\\ 0 & 0 & a2 & b2 & 0 \\\\\\\\ 0 & 0 & 0 & a3 & 0 \\\\\\\\ 0 & 0 & 0 & 0 & a4\\end{bmatrix} \\rightarrow$\n",
      "$ \\begin{bmatrix} a0 & b0 & 0 & 0 & 0 \\\\\\\\ 0 & 0 & 0 & t & 0 \\\\\\\\ 0 & 0 & a2^' & b2^' & 0 \\\\\\\\ 0 & 0 & 0 & a3 & 0 \\\\\\\\ 0 & 0 & 0 & 0 & a4\\end{bmatrix} $\n",
      "$ \\rightarrow \n",
      "\\begin{bmatrix} a0 & b0 & 0 & 0 & 0 \\\\\\\\ 0 & 0 & 0 & 0 & 0 \\\\\\\\ 0 & 0 & a2^{'} & b2^{'} & 0 \\\\\\\\ 0 & 0 & 0 & a3^' & 0 \\\\\\\\ 0 & 0 & 0 & 0 & a4\\end{bmatrix} $\n"
     ]
    },
    {
     "cell_type": "code",
     "collapsed": false,
     "input": [
      "def zeroRow(L,d,f):\n",
      "    \"\"\"\n",
      "    To use this we assume a matrix B with a zero on the diagonal(0).\n",
      "    d is a subview of the diagonal starting with a nonzero entry\n",
      "    f is a subview of the first superdiagonal (diagonal(1)) and has no zeros.\n",
      "    If d[0] is at (i,i) in B then f[0] is at (i-1,i) in B\n",
      "    L is a subview of the the left update matrix we call L0 here.\n",
      "    if B.diagview(0) has a zero entry at index j let i = j+1.\n",
      "    and if B.diagview(1) has a zero entry at index k then\n",
      "    d = B.diagview(0)[i:k+1]\n",
      "    f = B.diagview(1)[i-1:k]\n",
      "    Note: if k is the last entry then f=B.diagview(1)[i=1:] and k is the length of f\n",
      "    Note we expect no zero entries in the subviews d and f.\n",
      "    The subview L is then\n",
      "    L=L0[:,i-1:k+1]\n",
      "    \"\"\"\n",
      "    if 'cvview' in d.type or 'cvview' in f.type:\n",
      "        print('zeroRow only works for real vectors')\n",
      "        return\n",
      "    c,s,r=givensCoef(d[0],f[0])\n",
      "    f[0]=0;d[0]=r\n",
      "    t= - f[1] * s; f[1] *= c\n",
      "    prodG(L,1,0,c,s)\n",
      "    for i in range(1,d.length-1):\n",
      "        c,s,r=givensCoef(d[i],t)\n",
      "        prodG(L,i+1,0,c,s)\n",
      "        d[i]=r; t=-f[i+1] * s; f[i+1] *= c\n",
      "    c,s,r=givensCoef(d[d.length-1],t)\n",
      "    d[d.length-1] = r\n",
      "    prodG(L,d.length,0,c,s)"
     ],
     "language": "python",
     "metadata": {},
     "outputs": [],
     "prompt_number": 10
    },
    {
     "cell_type": "markdown",
     "metadata": {},
     "source": [
      "#### Golub-Kahan SVD Step\n",
      "The function `svdStep(L,B,R)` does an iteration of algorithm 8.6.1 from Golub & VanLoan *Matrix Computations*    \n",
      "Note that if matrix $A = L {\\,}B {\\,} R $ then one iteration of `svdStep` converts     \n",
      "$L \\rightarrow L_1$, ${\\;}B \\rightarrow B_1$, ${\\;}R \\rightarrow R_1$    \n",
      "so that         \n",
      "$A = L_1 {\\,} B_1 {\\,} R_1 $.    \n",
      "    \n",
      "Note $B$ is of the form     \n",
      "    \n",
      "$ \\begin{bmatrix} x & x & 0 & 0 & 0 \\\\\\\\ 0 & x & x & 0 & 0 \\\\\\\\ 0 & 0 & x & x & 0 \\\\\\\\ 0 & 0 & 0 & x & x \\\\\\\\ 0 & 0 & 0 & 0 & x \\end{bmatrix}$       \n",
      "     \n",
      "where $x \\ne 0$    \n",
      "    "
     ]
    },
    {
     "cell_type": "markdown",
     "metadata": {},
     "source": [
      "#### Example for matrix of size 4 \n",
      "NOTE that $T = B^H B$     \n",
      "    \n",
      "\n",
      "$\\begin{bmatrix} \\bar{d_0} & 0 & 0 & 0 \\\\\\\\ \\bar{f_0} & \\bar{d_1}& 0 & 0 \\\\\\\\ 0 & \\bar{f_1} & \\bar{d_2} & 0 \\\\\\\\ 0 & 0 & \\bar{f_2} & \\bar{d_3}  \\end{bmatrix} \n",
      "\\begin{bmatrix} d_0 & f_0 & 0 & 0 \\\\\\\\ 0 & d_1 & f_1 & 0 \\\\\\\\ 0 & 0 & d_2 & f_2 \\\\\\\\ 0 & 0 & 0 & d_3 {\\;} \\end{bmatrix} {\\;\\;} \n",
      "= \n",
      "\\begin{bmatrix} {\\left|d_0 \\right|}^2   & d_0 \\bar{f_0} & 0 & 0 \\\\\\\\ \n",
      "                  f_0 \\bar{d_0}         & {\\left|d_1\\right|}^2 + {\\left|f_0\\right|}^2 & d_1 \\bar{f_1} & 0 \\\\\\\\ \n",
      "                  0                     & f_1 \\bar{d_1}     & {\\left|d_2\\right|}^2 + {\\left|f_1\\right|}^2 & d_2 \\bar{f_2} \\\\\\\\\n",
      "                  0                     & 0                  & f_2 \\bar{d_2} & {\\left|d_3\\right|}^2 + {\\left|f_2\\right|}^2\\end{bmatrix}$"
     ]
    },
    {
     "cell_type": "markdown",
     "metadata": {},
     "source": [
      "Above we have calculated matrix $ T $ which may be blocked as     \n",
      "$T = \\begin{bmatrix} T_{0,0} & T_{0,1} \\\\\\\\ T_{0,0} & T_{0,1} \\end{bmatrix}$    \n",
      "where $ T_{0,1} $ is always square of size 2 (if the size of $T >= 2$)    \n",
      "Note in this example $T_{0,1} = \\begin{bmatrix} t_{2,2} & t_{2,3} \\\\\\\\ t_{3,2} & t_{3,3} \\end{bmatrix}$ and the size of $T$ is 4."
     ]
    },
    {
     "cell_type": "markdown",
     "metadata": {},
     "source": [
      "Step one of the Golub-Kahan SVD Step is to find the eigenvalues of $T_{0,1}$ and select the eigenvalue closest to $t_{3,3}$. We call this eigenvalue  $\\mu$ and define function `svdMu` (below) to calculate and return it. Note the arguments are taken from matrix $B$ and not $T$ and for convenience we use the notation from above."
     ]
    },
    {
     "cell_type": "code",
     "collapsed": false,
     "input": [
      "def svdMu(d2,f1,d3,f2):\n",
      "        cu=d2 * d2.conjugate() + f1 * f1.conjugate()\n",
      "        cl=d3 * d3.conjugate() + f2 * f2.conjugate()\n",
      "        cd = d2 * f2.conjugate()\n",
      "        D = (cu * cl - cd * cd.conjugate()).real\n",
      "        T = (cu + cl).real\n",
      "        root = pv.vsip_sqrt_d(T*T - 4 * D)\n",
      "        lambda1 = (T + root)/(2.); lambda2 = (T - root)/(2.)\n",
      "        if abs(lambda1 - cl.real) < abs(lambda2 - cl.real):\n",
      "            mu = lambda1\n",
      "        else:\n",
      "            mu = lambda2\n",
      "        return mu "
     ],
     "language": "python",
     "metadata": {},
     "outputs": [],
     "prompt_number": 11
    },
    {
     "cell_type": "markdown",
     "metadata": {},
     "source": [
      "\n",
      "     \n",
      "For the initial givens rotation where `c,s,r=givensCoef(x1,x2)`     \n",
      "where $x_1 {\\,}= {\\,}d_0 {\\,} \\bar{d_0} -\\mu {\\;}$ and ${\\;}x_2{\\,}={\\,}f_0 {\\,} \\bar{d_0}$     \n",
      "     \n",
      "##### Initial Step\n",
      "$\\begin{bmatrix} d_0 & f_0 & 0 & 0 \\\\\\\\ 0 & d_1 & f_1 & 0 \\\\\\\\ 0 & 0 & d_2 & f_2 \\\\\\\\ 0 & 0 & 0 & d_3 {\\;} \\end{bmatrix} {\\;\\;} \\begin{bmatrix} c & -\\bar{s} & 0 & 0 \\\\\\\\ s & c & 0 & 0 \\\\\\\\ 0 & 0 & 1 & 0 \\\\\\\\ 0 & 0 & 0 & 1 \\end{bmatrix} = \\begin{bmatrix} c d_0+s f_0 & c f_0 - \\bar{s} d_0 & 0 & 0 \\\\\\\\ {t=s d_1} & c d_1 & f1 & 0 \\\\\\\\ 0 & 0 & d_2 & f_2 \\\\\\\\ 0 & 0 & 0 & d_3\\end{bmatrix}$  \n",
      "    \n",
      "Now we chase the subdiagonal entry down the diagonal until we have a new bidiagonal.    \n",
      "##### First Step `c,s,r=givensCoef(d0,t)`   \n",
      "$\\begin{bmatrix} c & s & 0 & 0 \\\\\\\\ -\\bar{s} & c & 0 & 0 \\\\\\\\ 0 & 0 & 1 & 0 \\\\\\\\ 0 & 0 & 0 & 1 \\end{bmatrix} {\\;\\;}\n",
      "{\\;\\;}\\begin{bmatrix} d_0 & f_0 & 0 & 0 \\\\\\\\ t & d_1 & f_1 & 0 \\\\\\\\ 0 & 0 & d_2 & f_2 \\\\\\\\ 0 & 0 & 0 & f_3 \\end{bmatrix} =\n",
      "\\begin{bmatrix} r & c f_0 + s d_1 & {t = s f_1} & 0 \\\\\\\\ 0 & c d_1-\\bar{s} f_0 & c f_1 & 0 \\\\\\\\ 0 & 0 & d_2 & f_2 \\\\\\\\ 0 & 0 & 0 & d_3\\end{bmatrix}$   \n",
      "##### Step `c,s,r=givensCoef(f0,t)`     \n",
      "$\\begin{bmatrix} d_0 & f_0 & t & 0 \\\\\\\\ 0 & d_1 & f_1 & 0 \\\\\\\\ 0 & 0 & d_2 & f_2 \\\\\\\\ 0 & 0 & 0 & d_3 {\\;} \\end{bmatrix} {\\;\\;} \n",
      "\\begin{bmatrix} 1 & 0 & 0 & 0 \\\\\\\\ 0 & c & -\\bar{s} & 0 \\\\\\\\ 0 & s & c & 0 \\\\\\\\ 0 & 0 & 0 & 1 \\end{bmatrix} = \n",
      "\\begin{bmatrix} d_0 & r & 0 & 0 \\\\\\\\ 0 & c d_1 + sf_1 & cf_1-\\bar{s}d_1 & 0 \\\\\\\\ 0 & {t=sd_2} & cd_2 & f_2 \\\\\\\\ 0 & 0 & 0 & d_3\\end{bmatrix} $    \n",
      "##### Second Step `c,s,r=givensCoef(d1,t)`\n",
      "$\\begin{bmatrix} 1 & 0 & 0 & 0 \\\\\\\\ 0 & c & s & 0 \\\\\\\\ 0 & -\\bar{s} & c & 0 \\\\\\\\ 0 & 0 & 0 & 1 \\end{bmatrix} {\\;\\;}\n",
      "\\begin{bmatrix} d_0 & f_0 & 0 & 0 \\\\\\\\ 0 & d_1 & f_1 & 0 \\\\\\\\ 0 & t & d_2 & f_2 \\\\\\\\ 0 & 0 & 0 & d_3 \\end{bmatrix} =\n",
      "\\begin{bmatrix} d_0 & f_0 & 0 & 0 \\\\\\\\ 0 & r & c f_1 + sd_2  & {t=s f_2} \\\\\\\\ 0 & 0 & c d_2 - \\bar{s} f_1& c f_2 \\\\\\\\ 0 & 0 & 0 & d_3\\end{bmatrix}$     \n",
      "##### Step `c,s,r=givensCoef(f1,t)`    \n",
      "$\\begin{bmatrix} d_0 & f_0 & 0 & 0 \\\\\\\\ 0 & d_1 & f_1 & t \\\\\\\\ 0 & 0 & d_2 & f_2                  \\\\\\\\ 0 & 0 &        0 & d_3 \\end{bmatrix}\n",
      "\\begin{bmatrix}   1 & 0 & 0   & 0 \\\\\\\\ 0 & 1   & 0   & 0 \\\\\\\\ 0 & 0 & c   & -\\bar{s}                    \\\\\\\\   0 & 0 & s & c \\end{bmatrix} {\\;\\;}=\n",
      "\\begin{bmatrix} d_0 & f_0 & 0 & 0 \\\\\\\\ 0 & d_1 & r & 0 \\\\\\\\ 0 & 0 & c d_2 + f_2 & c f_2 -\\bar{ s } d_2\\\\\\\\ 0 & 0 & {t=s d_3} & c d_3\\end{bmatrix}$    \n",
      "##### Final Step `c,s,r=givensCoef(d2,t)`    \n",
      "$\\begin{bmatrix} 1 & 0 & 0 & 0 \\\\\\\\ 0 & 1 & 0 & 0 \\\\\\\\ 0 & 0 & c & s \\\\\\\\ 0 & 0 & -\\bar{s} & c \\end{bmatrix} {\\;\\;}\n",
      "\\begin{bmatrix} d_0 & f_0 & 0 & 0 \\\\\\\\ 0 & d_1 & f_1 & 0 \\\\\\\\ 0 & 0 & d_2 & f_2 \\\\\\\\ 0 & 0 & t & d_3 \\end{bmatrix} =\n",
      "\\begin{bmatrix} d_0 & f_0 & 0 & 0 \\\\\\\\ 0 & d_1 & f_1 & 0 \\\\\\\\ 0 & 0 & r & c f_2 + s d_3 \\\\\\\\ 0 & 0 & 0 & c d_3 - \\bar{s} f_2 \\end{bmatrix}$"
     ]
    },
    {
     "cell_type": "code",
     "collapsed": false,
     "input": [
      "def svdStep(L,B,R):\n",
      "    f=B.diagview(1);d=B.diagview(0)\n",
      "    n=d.length\n",
      "    #initial step\n",
      "    if n >= 3:\n",
      "        mu = svdMu(d[n-2],f[n-3],d[n-1],f[n-2])\n",
      "    elif n == 2:\n",
      "        mu = svdMu(d[n-2],0,d[n-1],f[n-2])\n",
      "    else:\n",
      "        mu = svdMu(d[0],0,0,0)\n",
      "    x1=d[0]; x1 *= x1.conjugate(); x1 -= mu\n",
      "    x2 = d[0] * f[0].conjugate()\n",
      "    c,s,r=givensCoef(x1,x2)\n",
      "    t=d[0] * c + s * f[0]; f[0] *= c; f[0] -= s.conjugate() * d[0]; d[0] = t;\n",
      "    t=s * d[1]; d[1] *= c;\n",
      "    gtProd(0,1,c,s,R)\n",
      "    for i in range(n-2):\n",
      "        j=i+1; k=i+2\n",
      "        #step\n",
      "        c,s,r = givensCoef(d[i],t)\n",
      "        d[i]=r;\n",
      "        t=c * d[j] - s.conjugate() * f[i]; f[i] *=c ;f[i]+=s*d[j];d[j]=t\n",
      "        t=s * f[j]; f[j] *= c;\n",
      "        prodG(L,i,j,c,s)\n",
      "        #step\n",
      "        c,s,r=givensCoef(f[i],t)\n",
      "        f[i]=r\n",
      "        t=c * d[j] + s * f[j]; f[j] *= c; f[j] -= s.conjugate() * d[j]; d[j] = t\n",
      "        t=s * d[k]; d[k] *= c;\n",
      "        gtProd(j,k,c,s,R)\n",
      "    #final step\n",
      "    i=n-2; j=n-1\n",
      "    c,s,r = givensCoef(d[i],t)\n",
      "    d[i]=r; \n",
      "    t= c * d[j] - s.conjugate() * f[i];\n",
      "    f[i] *= c; f[i] += s * d[j]; \n",
      "    d[j]=t\n",
      "    prodG(L,i,j,c,s)"
     ],
     "language": "python",
     "metadata": {},
     "outputs": [],
     "prompt_number": 12
    }
   ],
   "metadata": {}
  }
 ]
}