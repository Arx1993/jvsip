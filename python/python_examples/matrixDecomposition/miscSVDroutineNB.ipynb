{
 "metadata": {
  "name": ""
 },
 "nbformat": 3,
 "nbformat_minor": 0,
 "worksheets": [
  {
   "cells": [
    {
     "cell_type": "markdown",
     "metadata": {},
     "source": [
      "# Miscellaneous SVD Routines   \n",
      "For the JVSIP svd Algorithm we use Householder, Givens rotations, and Phase rotations.  \n",
      "\n",
      "Functions covered here are  \n",
      "<ul>\n",
      "<li>** svdCorners  **</li>\n",
      "<li>** svdZeroCheckAndSet **</li>\n",
      "<li>** zeroFind(d,eps0) **</li>\n",
      "<li>** zeroCol **</li>\n",
      "<li>** zeroRow  **</li>\n",
      "<li>** svdStep **</li>\n",
      "<li>** svdZeroCheckAndSet **</li>\n",
      "</ul>"
     ]
    },
    {
     "cell_type": "markdown",
     "metadata": {},
     "source": [
      "## Basics for Miscellaneous SVD Routines  \n",
      "We have matrices $L$, $B$, and $R$ Where sizes are compliant for matrix multiply such that a matrix $A$ is    \n",
      "$ A = L * B * R $      \n",
      "\n",
      "We assume $B$ is upper bidiagonal and we have done a phase rotation so that all entries in B are real. Matrices $L$ and $R$ will be complex if A is complex.  We have subview   \n",
      "`d = B.diagview(0)`  \n",
      "and   \n",
      "`f = B.diagview(1)`\n"
     ]
    },
    {
     "cell_type": "code",
     "collapsed": false,
     "input": [
      "import pyJvsip as pv\n",
      "from decompositionUtilities import givensCoef, gtProd, prodG,eye"
     ],
     "language": "python",
     "metadata": {},
     "outputs": [],
     "prompt_number": 1
    },
    {
     "cell_type": "markdown",
     "metadata": {},
     "source": [
      "## Function svdCorners   \n",
      "After checking the `f` diagonal matrix and seting zeros for small entries we need to find a valid submatrix to work on.   \n",
      "   \n",
      "For the JVSIP SVD decompostion the bidiagonal matrix is broken down into 3 block matrices along the diagonal. The bottom left matrix may have no entries and the top right matrix may have no entries. The middle matrix is the one we need to find and the one we work on for each iteration of the SVD algorithm.  \n",
      "   \n",
      "The svdCorners algorithm returns an index i and a length j such that the slice B[i:j,i:j] will be the block matrix of interest for a particular iteration.   \n",
      "   \n",
      "The key to the bottom corner is the first entry found in a search of `f` which is a zero before an entry in `f` which is not a zero and the key to the top corner is the next zero in `f`. Note that `f` is searched starting at the last entry going toward the first entry.  If index zero is reached with no zero in `f` then the top left matrix has no entries. If  the last entry in `f` is nonzero then the bottom left matrix has no entries."
     ]
    },
    {
     "cell_type": "code",
     "collapsed": false,
     "input": [
      "def svdCorners(f):\n",
      "    j=f.length-1\n",
      "    while  j > 0 and f[j] == 0.0:\n",
      "        j-=1\n",
      "    if(j == 0 and f[j] == 0.0):\n",
      "        i=0\n",
      "    else:\n",
      "        i = j\n",
      "        while i > 0 and f[i] != 0.0:\n",
      "            i -= 1\n",
      "            \n",
      "        if i==0 and f[0] == 0.0:\n",
      "            i = 1\n",
      "            j += 2\n",
      "        elif i == 0 and f[0] != 0.0:\n",
      "            i = 0\n",
      "            j += 2\n",
      "            \n",
      "        else:\n",
      "            i += 1\n",
      "            j += 2\n",
      "    return (i,j)"
     ],
     "language": "python",
     "metadata": {},
     "outputs": [],
     "prompt_number": 2
    },
    {
     "cell_type": "markdown",
     "metadata": {},
     "source": [
      "#### Example (1) svdCorners  \n",
      "Here the bottom right matrix has no entries."
     ]
    },
    {
     "cell_type": "code",
     "collapsed": false,
     "input": [
      "B=pv.create('mview_d',6,6).fill(0.0)\n",
      "b=B.diagview\n",
      "b(0).randn(5)\n",
      "f=b(1).randn(6)\n",
      "f[3]=0\n",
      "i,j=svdCorners(f)\n",
      "print('i:%d, j:%d'%(i,j))\n",
      "B.mprint('%.3f')\n",
      "B[0:i,0:i].mprint('%.3f')\n",
      "B[i:j,i:j].mprint('%.3f')"
     ],
     "language": "python",
     "metadata": {},
     "outputs": [
      {
       "output_type": "stream",
       "stream": "stdout",
       "text": [
        "i:4, j:6\n",
        "[ 0.508 -0.771  0.000  0.000  0.000  0.000;\n",
        "  0.000  0.535 -1.438  0.000  0.000  0.000;\n",
        "  0.000  0.000  0.699 -0.287  0.000  0.000;\n",
        "  0.000  0.000  0.000 -0.960  0.000  0.000;\n",
        "  0.000  0.000  0.000  0.000  0.231  1.011;\n",
        "  0.000  0.000  0.000  0.000  0.000  0.040]\n",
        "\n",
        "[ 0.508 -0.771  0.000  0.000;\n",
        "  0.000  0.535 -1.438  0.000;\n",
        "  0.000  0.000  0.699 -0.287;\n",
        "  0.000  0.000  0.000 -0.960]\n",
        "\n",
        "[ 0.231  1.011;\n",
        "  0.000  0.040]\n",
        "\n"
       ]
      }
     ],
     "prompt_number": 3
    },
    {
     "cell_type": "markdown",
     "metadata": {},
     "source": [
      "#### Example (2) svdCorners)   \n",
      "Here all three matrices exist.  Note the bottom right would be considered solved."
     ]
    },
    {
     "cell_type": "code",
     "collapsed": false,
     "input": [
      "B=pv.create('mview_d',9,9).fill(0.0)\n",
      "b=B.diagview\n",
      "b(0).randn(5)\n",
      "f=b(1).randn(6)\n",
      "f[3]=0; f[6]=0; f[7]=0\n",
      "i,j=svdCorners(f)\n",
      "print('i:%d, j:%d'%(i,j))\n",
      "B.mprint('%.3f')\n",
      "B[0:i,0:i].mprint('%.3f')\n",
      "B[i:j,i:j].mprint('%.3f')\n",
      "B[j:,j:].mprint('%.3f')"
     ],
     "language": "python",
     "metadata": {},
     "outputs": [
      {
       "output_type": "stream",
       "stream": "stdout",
       "text": [
        "i:4, j:7\n",
        "[ 0.508 -0.771  0.000  0.000  0.000  0.000  0.000  0.000  0.000;\n",
        "  0.000  0.535 -1.438  0.000  0.000  0.000  0.000  0.000  0.000;\n",
        "  0.000  0.000  0.699 -0.287  0.000  0.000  0.000  0.000  0.000;\n",
        "  0.000  0.000  0.000 -0.960  0.000  0.000  0.000  0.000  0.000;\n",
        "  0.000  0.000  0.000  0.000  0.231  1.011  0.000  0.000  0.000;\n",
        "  0.000  0.000  0.000  0.000  0.000  0.040 -0.893  0.000  0.000;\n",
        "  0.000  0.000  0.000  0.000  0.000  0.000 -0.477  0.000  0.000;\n",
        "  0.000  0.000  0.000  0.000  0.000  0.000  0.000  0.208  0.000;\n",
        "  0.000  0.000  0.000  0.000  0.000  0.000  0.000  0.000  0.506]\n",
        "\n",
        "[ 0.508 -0.771  0.000  0.000;\n",
        "  0.000  0.535 -1.438  0.000;\n",
        "  0.000  0.000  0.699 -0.287;\n",
        "  0.000  0.000  0.000 -0.960]\n",
        "\n",
        "[ 0.231  1.011  0.000;\n",
        "  0.000  0.040 -0.893;\n",
        "  0.000  0.000 -0.477]\n",
        "\n",
        "[ 0.208  0.000;\n",
        "  0.000  0.506]\n",
        "\n"
       ]
      }
     ],
     "prompt_number": 4
    },
    {
     "cell_type": "markdown",
     "metadata": {},
     "source": [
      "#### Example (3) svdCorners)   \n",
      "Here the bottom right matrix and the top left matrix have no entries and the middle matrix encompases the entire matrix at this point."
     ]
    },
    {
     "cell_type": "code",
     "collapsed": false,
     "input": [
      "B=pv.create('mview_d',9,9).fill(0.0)\n",
      "b=B.diagview\n",
      "b(0).randn(5)\n",
      "f=b(1).randn(6)\n",
      "i,j=svdCorners(f)\n",
      "print('i:%d, j:%d'%(i,j))\n",
      "B.mprint('%.3f')\n",
      "B[0:i,0:i].mprint('%.3f')\n",
      "B[i:j,i:j].mprint('%.3f')\n",
      "B[j:,j:].mprint('%.3f')"
     ],
     "language": "python",
     "metadata": {},
     "outputs": [
      {
       "output_type": "stream",
       "stream": "stdout",
       "text": [
        "i:0, j:9\n",
        "[ 0.508 -0.771  0.000  0.000  0.000  0.000  0.000  0.000  0.000;\n",
        "  0.000  0.535 -1.438  0.000  0.000  0.000  0.000  0.000  0.000;\n",
        "  0.000  0.000  0.699 -0.287  0.000  0.000  0.000  0.000  0.000;\n",
        "  0.000  0.000  0.000 -0.960 -2.164  0.000  0.000  0.000  0.000;\n",
        "  0.000  0.000  0.000  0.000  0.231  1.011  0.000  0.000  0.000;\n",
        "  0.000  0.000  0.000  0.000  0.000  0.040 -0.893  0.000  0.000;\n",
        "  0.000  0.000  0.000  0.000  0.000  0.000 -0.477 -1.078  0.000;\n",
        "  0.000  0.000  0.000  0.000  0.000  0.000  0.000  0.208 -1.890;\n",
        "  0.000  0.000  0.000  0.000  0.000  0.000  0.000  0.000  0.506]\n",
        "\n",
        "\n",
        "[ 0.508 -0.771  0.000  0.000  0.000  0.000  0.000  0.000  0.000;\n",
        "  0.000  0.535 -1.438  0.000  0.000  0.000  0.000  0.000  0.000;\n",
        "  0.000  0.000  0.699 -0.287  0.000  0.000  0.000  0.000  0.000;\n",
        "  0.000  0.000  0.000 -0.960 -2.164  0.000  0.000  0.000  0.000;\n",
        "  0.000  0.000  0.000  0.000  0.231  1.011  0.000  0.000  0.000;\n",
        "  0.000  0.000  0.000  0.000  0.000  0.040 -0.893  0.000  0.000;\n",
        "  0.000  0.000  0.000  0.000  0.000  0.000 -0.477 -1.078  0.000;\n",
        "  0.000  0.000  0.000  0.000  0.000  0.000  0.000  0.208 -1.890;\n",
        "  0.000  0.000  0.000  0.000  0.000  0.000  0.000  0.000  0.506]\n",
        "\n",
        "\n"
       ]
      }
     ],
     "prompt_number": 5
    },
    {
     "cell_type": "markdown",
     "metadata": {},
     "source": [
      "### Function svdZeroCheckAndSet\n",
      "For upper bidiagonal matrix `B` we need to determine when a zero has been reached on the super diagonal. For numerical reasons elements which check as zero are set to zero.  \n",
      "> ` d = B.diagview(0)`   \n",
      "> ` f = B.diagview(1)`    \n",
      "> ` e ` some small number  \n",
      "\n",
      "In G&VL algorithm 8.6.2 there is a criteria for small enough to be zero for elements of one diagonal of the bidiagonal matrix. This code implements that check.   \n",
      "We note that at this point in the algorithm the zero (d) and one (f) diagonals are real even if the original matrix started out as complex."
     ]
    },
    {
     "cell_type": "code",
     "collapsed": false,
     "input": [
      "def svdZeroCheckAndSet(e, d, f):\n",
      "    assert d.type == f.type\n",
      "    assert 'cvview' not in d.type\n",
      "    assert d.length == f.length+1\n",
      "    for i in range(f.length):\n",
      "        if abs(f[i]) < e * (abs(d[i]) + abs(d[i+1])):\n",
      "            f[i]=0.0"
     ],
     "language": "python",
     "metadata": {},
     "outputs": [],
     "prompt_number": 6
    },
    {
     "cell_type": "markdown",
     "metadata": {},
     "source": [
      "### Function zeroFind(d,eps0)   \n",
      "This function searches a vector (here the main diagonal d) for a zero and returns the index plus one of the zero value. If it finds no zero value it returns 0. Note that the values of the vector being searched are greater than or equal to zero. If a value in the vector is less than some small number, eps0, then that value is set to zero and the index plus one is returned. This function searches from the bottom up and returns only the first value found."
     ]
    },
    {
     "cell_type": "code",
     "collapsed": false,
     "input": [
      "def zeroFind(d,eps0):\n",
      "    j = d.length\n",
      "    xd = d[j-1]\n",
      "    while xd > eps0:\n",
      "        if j > 1:\n",
      "            j -= 1\n",
      "            xd=d[j-1]\n",
      "        elif j==1:\n",
      "            return 0 # we return here if no zero value was found\n",
      "    d[j-1]=0.0 # if we get here j > 1\n",
      "    return j"
     ],
     "language": "python",
     "metadata": {},
     "outputs": [],
     "prompt_number": 7
    },
    {
     "cell_type": "markdown",
     "metadata": {},
     "source": [
      "#### Example"
     ]
    },
    {
     "cell_type": "code",
     "collapsed": false,
     "input": [
      "v=pv.create('vview_d',10).ramp(.1,.1)\n",
      "v.mprint('%.2f')\n",
      "print('%d'%zeroFind(v,1e-10))\n",
      "v[3]=0.0;v.mprint('%.2f')\n",
      "print('%d'%zeroFind(v,1e-10))\n",
      "v[8]=0.0;v.mprint('%.2f')\n",
      "print('%d'%zeroFind(v,1e-10))"
     ],
     "language": "python",
     "metadata": {},
     "outputs": [
      {
       "output_type": "stream",
       "stream": "stdout",
       "text": [
        "[ 0.10  0.20  0.30  0.40  0.50  0.60  0.70  0.80  0.90  1.00]\n",
        "\n",
        "0\n",
        "[ 0.10  0.20  0.30  0.00  0.50  0.60  0.70  0.80  0.90  1.00]\n",
        "\n",
        "4\n",
        "[ 0.10  0.20  0.30  0.00  0.50  0.60  0.70  0.80  0.00  1.00]\n",
        "\n",
        "9\n"
       ]
      }
     ],
     "prompt_number": 8
    },
    {
     "cell_type": "markdown",
     "metadata": {},
     "source": [
      "### Function zeroCol\n",
      "For upper bidiagonal matrix `B` with super diagonal `f` we need to determine if a zero is on the main diagonal `d`. If a zero is on the main diagonal, and the entry in `f` in the same row is zero but the entry in `f` in the same column is non-zero then we need to zero the corresponding super diagonal column entry with a givens rotation operating from the right. Basically we chase the nonzero element up the column and off the top of the matrix using the corresponding diagonal nonzero elements. Below we zero column 2 since $B_{2,2}$ is zero and $B_{1,2}$ is not.   \n",
      "\n",
      "For the algorithm we only need to pass in the vectors corresponding to the data of interest. We store the value corresponding to the generated nonzeros in the column being zerored in a temporary. If our submatrix is of size 4 with a zero at element 2 of the diagonal then\n",
      "> ` d = B.diagview(0)[:2]`    \n",
      "> ` f = B.diagview(1)[:2]`       \n",
      "\n",
      "Below we show a matrix of size 4. In general the submatrix, which is determined by zeros on the superdiagonal `f`, may not necessarily sit at the top left corner.   \n",
      "$\\begin{bmatrix} b_{0,0} & b_{0,1} & 0 & 0 \\\\\\\\ 0 & b_{1,1} & b_{1,2} & 0 \\\\\\\\ 0 & 0 & 0 & 0 \\\\\\\\ 0 & 0 & 0 & b_{3,3} \\end{bmatrix}$   \n",
      "\n",
      "> `c,s,r=givensCoef(` $b_{1,1}, b_{1,2}$ `) `  \n",
      "    \n",
      "$\\begin{bmatrix} b_{0,0} & b_{0,1} & 0 & 0 \\\\\\\\ 0 & b_{1,1} & b_{1,2} & 0 \\\\\\\\ 0 & 0 & 0 & 0 \\\\\\\\ 0 & 0 & 0 & b_{3,3} \\end{bmatrix} {\\;\\;} \\begin{bmatrix} 1 & 0 & 0 & 0 \\\\\\\\ 0 & c & -s & 0 \\\\\\\\ 0 & s & c & 0 \\\\\\\\ 0 & 0 & 0 & 1 \\end{bmatrix} = \n",
      "\\begin{bmatrix} b_{0,0} & c b_{0,1} & -s b_{0,1} & 0 \\\\\\\\ 0 & c b_{1,1} + s b_{1,2} & 0 & 0 \\\\\\\\ 0 & 0 & 0 & 0 \\\\\\\\ 0 & 0 & 0 & b_{3,3}\\end{bmatrix}\n",
      "=  \\begin{bmatrix} b_{0,0} & d_{0,1} & t & 0 \\\\\\\\ 0 & r & 0 & 0\\\\\\\\ 0 & 0 & 0 & 0 \\\\\\\\ 0 & 0 & 0 & b_{3,3}\\end{bmatrix}$    \n",
      "    \n",
      "> `c,s,r=givensCoef(` $d_{0,0},t$ `) `  \n",
      "   \n",
      "$\\begin{bmatrix} d_{0,0} & d_{0,1} & t & 0 \\\\\\\\ 0 & d_{1,1} & 0 & 0 \\\\\\\\ 0 & 0 & 0 & 0 \\\\\\\\ 0 & 0 & 0 & d_{3,3} \\end{bmatrix}{\\;\\;} \\begin{bmatrix} c & 0 & -s & 0 \\\\\\\\ 0 & 1 & 0 & 0 \\\\\\\\ s & 0 & c & 0 \\\\\\\\ 0 & 0 & 0 & 1 \\end{bmatrix} = \\begin{bmatrix} cd_{0,0}+s t & d_{0,1} & 0 & 0 \\\\\\\\ 0 & d_{1,1} & 0 & 0 \\\\\\\\ 0 & 0 & 0 & 0 \\\\\\\\ 0 & 0 & 0 & d_{3,3}\\end{bmatrix} =\\begin{bmatrix} r & d_{0,1} & 0 & 0 \\\\\\\\ 0 & d_{1,1} & 0 & 0 \\\\\\\\ 0 & 0 & 0 & 0 \\\\\\\\ 0 & 0 & 0 & d_{3,3}\\end{bmatrix} $  \n",
      "    "
     ]
    },
    {
     "cell_type": "code",
     "collapsed": false,
     "input": [
      "def zeroCol(d,f,R):\n",
      "    n = f.length\n",
      "    if n == 1:\n",
      "        c,s,r=givensCoef(d[0],f[0]);\n",
      "        d[0]=r;\n",
      "        f[0]=0.0;\n",
      "        gtProd(0,1,c,s,R)\n",
      "    elif n == 2:\n",
      "        xd=d[1]\n",
      "        xf=f[1]\n",
      "        c,s,r=givensCoef(xd,xf)\n",
      "        d[1]= r\n",
      "        f[1]=0.0\n",
      "        xf=f[0]\n",
      "        t= -xf * s; xf *= c;\n",
      "        f[0]=xf;\n",
      "        gtProd(1,2,c,s,R);\n",
      "        xd=d[0]\n",
      "        c,s,r=givensCoef(xd,t);\n",
      "        d[0]=r;\n",
      "        gtProd(0,2,c,s,R);\n",
      "    else:\n",
      "        i=n-1; j=i-1; k=i\n",
      "        xd=d[i]\n",
      "        xf=f[i]\n",
      "        c,s,r=givensCoef(xd,xf);\n",
      "        xf=f[j]\n",
      "        d[i]=r;\n",
      "        f[i]=0.0;\n",
      "        t=-xf*s; xf*=c\n",
      "        f[j]=xf;\n",
      "        gtProd(i,k+1,c,s,R);\n",
      "        while i > 1:\n",
      "            i = j; j = i-1;\n",
      "            xd=d[i]\n",
      "            c,s,r=givensCoef(xd,t);\n",
      "            d[i]=r;\n",
      "            xf=f[j]\n",
      "            t= -xf * s; xf *= c;\n",
      "            f[j]=xf;\n",
      "            gtProd(i,k+1,c,s,R);\n",
      "        xd=d[0]\n",
      "        c,s,r=givensCoef(xd,t)\n",
      "        d[0]=r\n",
      "        gtProd(0,k+1,c,s,R)"
     ],
     "language": "python",
     "metadata": {},
     "outputs": [],
     "prompt_number": 9
    },
    {
     "cell_type": "markdown",
     "metadata": {},
     "source": [
      "#### Example"
     ]
    },
    {
     "cell_type": "code",
     "collapsed": false,
     "input": [
      "import pyJvsip as pv\n",
      "B=pv.create('mview_d',5,5).fill(0.0)\n",
      "B.diagview(0).ramp(.1,.1)\n",
      "B.diagview(1).ramp(.2,.3)\n",
      "B[3,3]=0.0; B[3,4]=0.0\n",
      "print('Input Matrix');B.mprint('%.4f')\n",
      "d=B.diagview(0)[:4]\n",
      "f=B.diagview(1)[:3]\n",
      "R=eye('mview_d',5)\n",
      "print('Output Matrix')\n",
      "zeroCol(d,f,R)\n",
      "B.mprint('%.4f')\n",
      "print('Check to see if the R matrix is properly updated by calculating the input matrix')\n",
      "B.prod(R).mprint('%.3f')"
     ],
     "language": "python",
     "metadata": {},
     "outputs": [
      {
       "output_type": "stream",
       "stream": "stdout",
       "text": [
        "Input Matrix\n",
        "[ 0.1000  0.2000  0.0000  0.0000  0.0000;\n",
        "  0.0000  0.2000  0.5000  0.0000  0.0000;\n",
        "  0.0000  0.0000  0.3000  0.8000  0.0000;\n",
        "  0.0000  0.0000  0.0000  0.0000  0.0000;\n",
        "  0.0000  0.0000  0.0000  0.0000  0.5000]\n",
        "\n",
        "Output Matrix\n",
        "[ 0.2093  0.0786  0.0000  0.0000  0.0000;\n",
        "  0.0000  0.5091  0.1756  0.0000  0.0000;\n",
        "  0.0000  0.0000  0.8544  0.0000  0.0000;\n",
        "  0.0000  0.0000  0.0000  0.0000  0.0000;\n",
        "  0.0000  0.0000  0.0000  0.0000  0.5000]\n",
        "\n",
        "Check to see if the R matrix is properly updated by calculating the input matrix\n",
        "[ 0.100  0.200  0.000 -0.000  0.000;\n",
        "  0.000  0.200  0.500  0.000  0.000;\n",
        "  0.000  0.000  0.300  0.800  0.000;\n",
        "  0.000  0.000  0.000  0.000  0.000;\n",
        "  0.000  0.000  0.000  0.000  0.500]\n",
        "\n"
       ]
      }
     ],
     "prompt_number": 10
    },
    {
     "cell_type": "markdown",
     "metadata": {},
     "source": [
      "### Function zeroRow\n",
      "Zero Row with zero on main diagonal\n",
      "\n",
      "For upper bidiagonal matrix `B` with super diagonal `f` we need to determine if a zero is on the main diagonal `d`. If a zero is on the main diagonal, and the entry in `f` in the same row is not zero then we need to zero the corresponding super diagonal row entry with a givens rotation operating from the left. Basically we chase the nonzero element across the row and off the right side of the matrix using the corresponding diagonal nonzero elements. Below we zero column 2 since $B_{2,2}$ is zero and $B_{1,2}$ is not.\n",
      "\n",
      "\n",
      "We have a matrix of the form shown below. We chase the nonzero super diagonal entry from a row with a zero main diagonal entry off the end using givens rotations.    \n",
      "\n",
      "For a 5 by 5 matrix as shown below we use givens rotations to zero the $b_1$ entry using $a_2$. This changes $a_2$ and $b_2$ to ${a_2}^'$ and ${b_2}^'$ and places an entry $t$ at element (1,3). We then use a givens rotation using $a_3$ to zero the $t$ entry which changes $a_3$ to ${a_3}^'$. Since element (3,4) is zero then there is no new $t$ entry and row 1 has been zeroed.\n",
      "\n",
      "$ \\begin{bmatrix} b_{0,0} & b_{0,1} & 0 & 0 & 0 \\\\\\\\ 0 & 0 & b_{1,2} & 0 & 0 \\\\\\\\ 0 & 0 & b_{2,2} & b_{1,2} & 0 \\\\\\\\ 0 & 0 & 0 & b_{3,3} & b_{3,4} \\\\\\\\ 0 & 0 & 0 & 0 & b_{4,4}\\end{bmatrix} $\n",
      "\n",
      "> `c,s,r=givenCoef(` $b_{2,2},b_{1,2} $ `)`\n",
      "\n",
      "$ \\begin{bmatrix} 1 & 0 & 0 & 0 & 0 \\\\\\\\ 0 & c & -s & 0 & 0 \\\\\\\\ 0 & s & c & 0 & 0 \\\\\\\\ 0 & 0 & 0 & 1 & 0 \\\\\\\\ 0 & 0 & 0 & 0 & 1\\end{bmatrix}$\n",
      "$ \\begin{bmatrix} b_{0,0} & b_{0,1} & 0 & 0 & 0 \\\\\\\\ 0 & 0 & b_{1,2} & 0 & 0 \\\\\\\\ 0 & 0 & b_{2,2} & b_{1,2} & 0 \\\\\\\\ 0 & 0 & 0 & b_{3,3} & 0 \\\\\\\\ 0 & 0 & 0 & 0 & b_{4,4}\\end{bmatrix} = $\n",
      "$ \\begin{bmatrix} b_{0,0} & b_{0,1} & 0 & 0 & 0 \\\\\\\\ 0 & 0 & 0=c * b_{1,2} - s * b_{2,2} & t=-s *b_{1,2} & 0 \\\\\\\\ 0 & 0 & r = s * b_{1,2}+c*b_{2,2} & c * {b_{1,2}} & 0 \\\\\\\\ 0 & 0 & 0 & b_{3,3} & b_{3,4} \\\\\\\\ 0 & 0 & 0 & 0 & b_{4,4}\\end{bmatrix}$\n",
      "$\\rightarrow \\begin{bmatrix} b_{0,0} & b_{0,1} & 0 & 0 & 0 \\\\\\\\ 0 & 0 & 0 & t &0 \\\\\\\\ 0 & 0 & {b_{2,2}}^' & {b_{1,2}}^' & 0 \\\\\\\\ 0 & 0 & 0 & b_{3,3} & b_{3,4} \\\\\\\\ 0 & 0 & 0 & 0 & b_{4,4}\\end{bmatrix}$"
     ]
    },
    {
     "cell_type": "markdown",
     "metadata": {},
     "source": [
      "> `c,s,r=givenCoef(` $b_{3,3},t $ `)`    \n",
      "\n",
      "$ \\begin{bmatrix} 1 & 0 & 0 & 0 & 0 \\\\\\\\ 0 & c & 0 & -s & 0 \\\\\\\\ 0 & 0 & 1 & 0 & 0 \\\\\\\\ 0 & s & 0 & c & 0 \\\\\\\\ 0 & 0 & 0 & 0 & 1\\end{bmatrix} $ \n",
      "$ \\begin{bmatrix} b_{0,0} & b_{0,1} & 0 & 0 & 0 \\\\\\\\ 0 & 0 & 0 & t & 0 \\\\\\\\ 0 & 0 & {b_{2,2}}^' & {b_{1,2}}^' & 0 \\\\\\\\ 0 & 0 & 0 & b_{3,3} & b_{3,4} \\\\\\\\ 0 & 0 & 0 & 0 & b_{4,4}\\end{bmatrix}$\n",
      "$ = \\begin{bmatrix} b_{0,0} & b_{0,1} & 0 & 0 & 0 \\\\\\\\ 0 & 0 & 0 & 0=c*t - s*b_{3,3} & t^'=-s*b_{3,4} \\\\\\\\ 0 & 0 & {b_{2,2}}^' & {b_{1,2}}^' & 0 \\\\\\\\ 0 & 0 & 0 & r=s*t + c * b_{3,3} & c * b_{3,4} \\\\\\\\ 0 & 0 & 0 & 0 & b_{4,4}\\end{bmatrix}$\n",
      "$ \\rightarrow \\begin{bmatrix} b_{0,0} & b_{0,1} & 0 & 0 & 0 \\\\\\\\ 0 & 0 & 0 & 0& t^' \\\\\\\\ 0 & 0 & {b_{2,2}}^' & {b_{1,2}}^' & 0 \\\\\\\\ 0 & 0 & 0 & {b_{3,3}}^' & {b_{3,4}}^' \\\\\\\\ 0 & 0 & 0 & 0 & b_{4,4}\\end{bmatrix}$"
     ]
    },
    {
     "cell_type": "markdown",
     "metadata": {},
     "source": [
      "> `c,s,r=givenCoef(` $b_{4,4},t $ `)`   \n",
      "\n",
      "$ \\begin{bmatrix} 1 & 0 & 0 & 0 & 0 \\\\\\\\ 0 & c & 0 & 0 & -s \\\\\\\\ 0 & 0 & 1 & 0 & 0 \\\\\\\\ 0 & 0 & 0 & 1 & 0 \\\\\\\\ 0 & s & 0 & 0 & c\\end{bmatrix}$\n",
      "$\\begin{bmatrix} b_{0,0} & b_{0,1} & 0 & 0 & 0 \\\\\\\\ 0 & 0 & 0 & 0& t^' \\\\\\\\ 0 & 0 & {b_{2,2}}^' & {b_{1,2}}^' & 0 \\\\\\\\ 0 & 0 & 0 & {b_{3,3}}^' & {b_{3,4}}^' \\\\\\\\ 0 & 0 & 0 & 0 & b_{4,4}\\end{bmatrix}$\n",
      "$=\\begin{bmatrix} b_{0,0} & b_{0,1} & 0 & 0 & 0 \\\\\\\\ 0 & 0 & 0 & 0& 0=c*t^'-s * b_{4,4} \\\\\\\\ 0 & 0 & {b_{2,2}}^' & {b_{1,2}}^' & 0 \\\\\\\\ 0 & 0 & 0 & {b_{3,3}}^' & {b_{3,4}}^' \\\\\\\\ 0 & 0 & 0 & 0 & c * b_{4,4}\\end{bmatrix}$\n",
      "$\\rightarrow \\begin{bmatrix} b_{0,0} & b_{0,1} & 0 & 0 & 0 \\\\\\\\ 0 & 0 & 0 & 0& 0 \\\\\\\\ 0 & 0 & {b_{2,2}}^' & {b_{1,2}}^' & 0 \\\\\\\\ 0 & 0 & 0 & {b_{3,3}}^' & {b_{3,4}}^' \\\\\\\\ 0 & 0 & 0 & 0 & {b_{4,4}}^'\\end{bmatrix}$"
     ]
    },
    {
     "cell_type": "code",
     "collapsed": false,
     "input": [
      "def zeroRow(L,d,f):\n",
      "    n = d.length\n",
      "    xd=d[0]\n",
      "    xf=f[0]\n",
      "    c,s,r=givensCoef(xd,xf)\n",
      "    if n == 1:\n",
      "        d[0]=r\n",
      "        f[0]=0.0\n",
      "        prodG(L,n,0,c,s)\n",
      "    else:\n",
      "        d[0]=r\n",
      "        f[0]=0.0\n",
      "        xf=f[1]\n",
      "        t= -xf * s; xf *= c\n",
      "        f[1]=xf\n",
      "        prodG(L,1,0,c,s);\n",
      "        for i in range(1,n-1):\n",
      "            xd=d[i]\n",
      "            c,s,r=givensCoef(xd,t)\n",
      "            prodG(L,i+1,0,c,s)\n",
      "            d[i]=r\n",
      "            xf=f[i+1]\n",
      "            t=-xf * s; xf *= c\n",
      "            f[i+1]=xf\n",
      "        xd=d[n-1]\n",
      "        c,s,r=givensCoef(xd,t)\n",
      "        d[n-1]=r\n",
      "        prodG(L,n,0,c,s)"
     ],
     "language": "python",
     "metadata": {},
     "outputs": [],
     "prompt_number": 11
    },
    {
     "cell_type": "markdown",
     "metadata": {},
     "source": [
      "#### Example"
     ]
    },
    {
     "cell_type": "code",
     "collapsed": false,
     "input": [
      "import pyJvsip as pv\n",
      "B=pv.create('mview_d',5,5).fill(0.0)\n",
      "d=B.diagview(0).ramp(.1,.1)\n",
      "f=B.diagview(1).ramp(.2,.3)\n",
      "B[1,1]=0.0;\n",
      "k=zeroFind(d,1e-10)\n",
      "d.mprint('%.2f')\n",
      "print('Input Matrix');B.mprint('%.2f')\n",
      "d=B.diagview(0)[k:]\n",
      "f=B.diagview(1)[k-1:]\n",
      "L=eye('mview_d',5)\n",
      "print('Output Matrix')\n",
      "zeroRow(L[:,k-1:],d,f)\n",
      "B.mprint('%.4f')\n",
      "print('Check to see if the R matrix is properly updated by calculating the input matrix')\n",
      "L.prod(B).mprint('%.2f')"
     ],
     "language": "python",
     "metadata": {},
     "outputs": [
      {
       "output_type": "stream",
       "stream": "stdout",
       "text": [
        "[ 0.10  0.00  0.30  0.40  0.50]\n",
        "\n",
        "Input Matrix\n",
        "[ 0.10  0.20  0.00  0.00  0.00;\n",
        "  0.00  0.00  0.50  0.00  0.00;\n",
        "  0.00  0.00  0.30  0.80  0.00;\n",
        "  0.00  0.00  0.00  0.40  1.10;\n",
        "  0.00  0.00  0.00  0.00  0.50]\n",
        "\n",
        "Output Matrix\n",
        "[ 0.1000  0.2000  0.0000  0.0000  0.0000;\n",
        "  0.0000  0.0000  0.0000  0.0000  0.0000;\n",
        "  0.0000  0.0000  0.5831  0.4116  0.0000;\n",
        "  0.0000  0.0000  0.0000  0.7941  0.5541;\n",
        "  0.0000  0.0000  0.0000  0.0000  1.0738]\n",
        "\n",
        "Check to see if the R matrix is properly updated by calculating the input matrix\n",
        "[ 0.10  0.20  0.00  0.00  0.00;\n",
        "  0.00  0.00  0.50  0.00  0.00;\n",
        "  0.00  0.00  0.30  0.80 -0.00;\n",
        "  0.00  0.00  0.00  0.40  1.10;\n",
        "  0.00  0.00  0.00  0.00  0.50]\n",
        "\n"
       ]
      }
     ],
     "prompt_number": 12
    },
    {
     "cell_type": "markdown",
     "metadata": {},
     "source": [
      "### Golub-Kahan SVD Step\n",
      "The function `svdStep(L,B,R)` does an iteration of algorithm 8.6.1 from Golub & VanLoan *Matrix Computations*    \n",
      "Note that if matrix $A = L {\\,}B {\\,} R $ then one iteration of `svdStep` converts     \n",
      "$L \\rightarrow L_1$, ${\\;}B \\rightarrow B_1$, ${\\;}R \\rightarrow R_1$    \n",
      "so that         \n",
      "$A = L_1 {\\,} B_1 {\\,} R_1 $.    \n",
      "    \n",
      "Note $B$ is of the form     \n",
      "    \n",
      "$ \\begin{bmatrix} x & x & 0 & 0 & 0 \\\\\\\\ 0 & x & x & 0 & 0 \\\\\\\\ 0 & 0 & x & x & 0 \\\\\\\\ 0 & 0 & 0 & x & x \\\\\\\\ 0 & 0 & 0 & 0 & x \\end{bmatrix}$       \n",
      "     \n",
      "where $x \\gt 0$ and real   \n",
      "    "
     ]
    },
    {
     "cell_type": "markdown",
     "metadata": {},
     "source": [
      "#### Example for matrix of size 4 \n",
      "NOTE that $T = B^T B$     \n",
      "    \n",
      "\n",
      "$\\begin{bmatrix} d_0 & 0 & 0 & 0 \\\\\\\\ f_0 & d_1& 0 & 0 \\\\\\\\ 0 & f_1 & d_2 & 0 \\\\\\\\ 0 & 0 & f_2 & d_3  \\end{bmatrix} \n",
      "\\begin{bmatrix} d_0 & f_0 & 0 & 0 \\\\\\\\ 0 & d_1 & f_1 & 0 \\\\\\\\ 0 & 0 & d_2 & f_2 \\\\\\\\ 0 & 0 & 0 & d_3 {\\;} \\end{bmatrix} {\\;\\;} \n",
      "= \n",
      "\\begin{bmatrix} {d_0}^2   & d_0 f_0 & 0 & 0 \\\\\\\\ \n",
      "                  f_0 d_0       & d_1^2 + f_0^2 & d_1 f_1 & 0 \\\\\\\\ \n",
      "                  0                     & f_1 d_1    & d_2^2 + f_1^2 & d_2 f_2 \\\\\\\\\n",
      "                  0                     & 0                  & f_2 d_2 & d_3^2 + f_2^2\\end{bmatrix}$"
     ]
    },
    {
     "cell_type": "markdown",
     "metadata": {},
     "source": [
      "Above we have calculated matrix $ T $ which may be blocked as     \n",
      "$T = \\begin{bmatrix} T_{0,0} & T_{0,1} \\\\\\\\ T_{0,0} & T_{0,1} \\end{bmatrix}$    \n",
      "where $ T_{0,1} $ is always square of size 2 (if the size of $T >= 2$)    \n",
      "Note in this example $T_{0,1} = \\begin{bmatrix} t_{2,2} & t_{2,3} \\\\\\\\ t_{3,2} & t_{3,3} \\end{bmatrix}$ and the size of $T$ is 4."
     ]
    },
    {
     "cell_type": "markdown",
     "metadata": {},
     "source": [
      "Step one of the Golub-Kahan SVD Step is to find the eigenvalues of $T_{0,1}$ and select the eigenvalue closest to $t_{3,3}$. We call this eigenvalue  $\\mu$ and define function `svdMu` (below) to calculate and return it. Note the arguments are taken from matrix $B$ and not $T$ and for convenience we use the notation from above."
     ]
    },
    {
     "cell_type": "code",
     "collapsed": false,
     "input": [
      "def svdMu_f(d2,f1,d3,f2):\n",
      "    cu=d2 * d2 + f1 * f1\n",
      "    cl=d3 * d3 + *f2 * *f2\n",
      "    cd = d2 * *f2;\n",
      "    T = (cu + cl)\n",
      "    D = 4*(cu * cl - cd * cd)/(T*T)\n",
      "    if D >= 1.0:\n",
      "        root = 0.0\n",
      "    else:\n",
      "        root = T * sqrt(1.0 - D)\n",
      "    lambda1 = (T + root)/(2.)\n",
      "    lambda2 = (T - root)/(2.)\n",
      "    c1=abs(lambda1-cl)\n",
      "    c2=abs(lambda2-cl)\n",
      "    if(root == 0.0):\n",
      "        if f2 < (d2 + d3)/1E10:\n",
      "            f2=0.0\n",
      "    if(c1 < c2):\n",
      "        mu = lambda1\n",
      "    else:\n",
      "        mu = lambda2\n",
      "    return (mu, f2)"
     ],
     "language": "python",
     "metadata": {},
     "outputs": [
      {
       "ename": "SyntaxError",
       "evalue": "invalid syntax (<ipython-input-13-e8441b7ba17d>, line 3)",
       "output_type": "pyerr",
       "traceback": [
        "\u001b[0;36m  File \u001b[0;32m\"<ipython-input-13-e8441b7ba17d>\"\u001b[0;36m, line \u001b[0;32m3\u001b[0m\n\u001b[0;31m    cl=d3 * d3 + *f2 * *f2\u001b[0m\n\u001b[0m                 ^\u001b[0m\n\u001b[0;31mSyntaxError\u001b[0m\u001b[0;31m:\u001b[0m invalid syntax\n"
       ]
      }
     ],
     "prompt_number": 13
    },
    {
     "cell_type": "code",
     "collapsed": false,
     "input": [
      "from decompositionUtilities import svdMu"
     ],
     "language": "python",
     "metadata": {},
     "outputs": [],
     "prompt_number": 14
    },
    {
     "cell_type": "code",
     "collapsed": false,
     "input": [
      "a=svdMu(2.916,2.177,1.686,0.5881)\n",
      "#mu 2.9027, f2 0.5881\n",
      "a"
     ],
     "language": "python",
     "metadata": {},
     "outputs": [
      {
       "metadata": {},
       "output_type": "pyout",
       "prompt_number": 15,
       "text": [
        "2.903995448515867"
       ]
      }
     ],
     "prompt_number": 15
    },
    {
     "cell_type": "markdown",
     "metadata": {},
     "source": [
      "### SVD Iteration Step   \n",
      "After bidiagonalization and phase rotation we are left with a bi-diagonal matrix of real, positive values. For calculation we only use the main diagonal, which we call `d`, and the first superdiagonal, which we call `f`.  We zero out the `f` diagonal using an iteration phase.\n",
      "\n",
      "For the initial givens rotation where `c,s,r=givensCoef(x1,x2)`     \n",
      "where $x_1 {\\,}= {\\,}d_0 {\\,} \\bar{d_0} -\\mu {\\;}$ and ${\\;}x_2{\\,}={\\,}f_0 {\\,} \\bar{d_0}$     \n",
      "     \n",
      "##### Initial Step\n",
      "$\\begin{bmatrix} d_0 & f_0 & 0 & 0 \\\\\\\\ 0 & d_1 & f_1 & 0 \\\\\\\\ 0 & 0 & d_2 & f_2 \\\\\\\\ 0 & 0 & 0 & d_3 {\\;} \\end{bmatrix} {\\;\\;} \\begin{bmatrix} c & -\\bar{s} & 0 & 0 \\\\\\\\ s & c & 0 & 0 \\\\\\\\ 0 & 0 & 1 & 0 \\\\\\\\ 0 & 0 & 0 & 1 \\end{bmatrix} = \\begin{bmatrix} c d_0+s f_0 & c f_0 - \\bar{s} d_0 & 0 & 0 \\\\\\\\ {t=s d_1} & c d_1 & f1 & 0 \\\\\\\\ 0 & 0 & d_2 & f_2 \\\\\\\\ 0 & 0 & 0 & d_3\\end{bmatrix}$  \n",
      "    \n",
      "Now we chase the subdiagonal entry down the diagonal until we have a new bidiagonal.    \n",
      "##### First Step `c,s,r=givensCoef(d0,t)`   \n",
      "$\\begin{bmatrix} c & s & 0 & 0 \\\\\\\\ -\\bar{s} & c & 0 & 0 \\\\\\\\ 0 & 0 & 1 & 0 \\\\\\\\ 0 & 0 & 0 & 1 \\end{bmatrix} {\\;\\;}\n",
      "{\\;\\;}\\begin{bmatrix} d_0 & f_0 & 0 & 0 \\\\\\\\ t & d_1 & f_1 & 0 \\\\\\\\ 0 & 0 & d_2 & f_2 \\\\\\\\ 0 & 0 & 0 & f_3 \\end{bmatrix} =\n",
      "\\begin{bmatrix} r & c f_0 + s d_1 & {t = s f_1} & 0 \\\\\\\\ 0 & c d_1-\\bar{s} f_0 & c f_1 & 0 \\\\\\\\ 0 & 0 & d_2 & f_2 \\\\\\\\ 0 & 0 & 0 & d_3\\end{bmatrix}$   \n",
      "##### Step `c,s,r=givensCoef(f0,t)`     \n",
      "$\\begin{bmatrix} d_0 & f_0 & t & 0 \\\\\\\\ 0 & d_1 & f_1 & 0 \\\\\\\\ 0 & 0 & d_2 & f_2 \\\\\\\\ 0 & 0 & 0 & d_3 {\\;} \\end{bmatrix} {\\;\\;} \n",
      "\\begin{bmatrix} 1 & 0 & 0 & 0 \\\\\\\\ 0 & c & -\\bar{s} & 0 \\\\\\\\ 0 & s & c & 0 \\\\\\\\ 0 & 0 & 0 & 1 \\end{bmatrix} = \n",
      "\\begin{bmatrix} d_0 & r & 0 & 0 \\\\\\\\ 0 & c d_1 + sf_1 & cf_1-\\bar{s}d_1 & 0 \\\\\\\\ 0 & {t=sd_2} & cd_2 & f_2 \\\\\\\\ 0 & 0 & 0 & d_3\\end{bmatrix} $    \n",
      "##### Second Step `c,s,r=givensCoef(d1,t)`\n",
      "$\\begin{bmatrix} 1 & 0 & 0 & 0 \\\\\\\\ 0 & c & s & 0 \\\\\\\\ 0 & -\\bar{s} & c & 0 \\\\\\\\ 0 & 0 & 0 & 1 \\end{bmatrix} {\\;\\;}\n",
      "\\begin{bmatrix} d_0 & f_0 & 0 & 0 \\\\\\\\ 0 & d_1 & f_1 & 0 \\\\\\\\ 0 & t & d_2 & f_2 \\\\\\\\ 0 & 0 & 0 & d_3 \\end{bmatrix} =\n",
      "\\begin{bmatrix} d_0 & f_0 & 0 & 0 \\\\\\\\ 0 & r & c f_1 + sd_2  & {t=s f_2} \\\\\\\\ 0 & 0 & c d_2 - \\bar{s} f_1& c f_2 \\\\\\\\ 0 & 0 & 0 & d_3\\end{bmatrix}$     \n",
      "##### Step `c,s,r=givensCoef(f1,t)`    \n",
      "$\\begin{bmatrix} d_0 & f_0 & 0 & 0 \\\\\\\\ 0 & d_1 & f_1 & t \\\\\\\\ 0 & 0 & d_2 & f_2                  \\\\\\\\ 0 & 0 &        0 & d_3 \\end{bmatrix}\n",
      "\\begin{bmatrix}   1 & 0 & 0   & 0 \\\\\\\\ 0 & 1   & 0   & 0 \\\\\\\\ 0 & 0 & c   & -\\bar{s}                    \\\\\\\\   0 & 0 & s & c \\end{bmatrix} {\\;\\;}=\n",
      "\\begin{bmatrix} d_0 & f_0 & 0 & 0 \\\\\\\\ 0 & d_1 & r & 0 \\\\\\\\ 0 & 0 & c d_2 + f_2 & c f_2 -\\bar{ s } d_2\\\\\\\\ 0 & 0 & {t=s d_3} & c d_3\\end{bmatrix}$    \n",
      "##### Final Step `c,s,r=givensCoef(d2,t)`    \n",
      "$\\begin{bmatrix} 1 & 0 & 0 & 0 \\\\\\\\ 0 & 1 & 0 & 0 \\\\\\\\ 0 & 0 & c & s \\\\\\\\ 0 & 0 & -\\bar{s} & c \\end{bmatrix} {\\;\\;}\n",
      "\\begin{bmatrix} d_0 & f_0 & 0 & 0 \\\\\\\\ 0 & d_1 & f_1 & 0 \\\\\\\\ 0 & 0 & d_2 & f_2 \\\\\\\\ 0 & 0 & t & d_3 \\end{bmatrix} =\n",
      "\\begin{bmatrix} d_0 & f_0 & 0 & 0 \\\\\\\\ 0 & d_1 & f_1 & 0 \\\\\\\\ 0 & 0 & r & c f_2 + s d_3 \\\\\\\\ 0 & 0 & 0 & c d_3 - \\bar{s} f_2 \\end{bmatrix}$"
     ]
    },
    {
     "cell_type": "code",
     "collapsed": false,
     "input": [
      "def svdStep(R,d,f,L):\n",
      "    n = d.length\n",
      "    mu=0.0; x1=0.0; x2=0.0; t=0.0\n",
      "    d2=0.0; f1=0.0; d3=0.0; f2=0.0\n",
      "    assert n > 1, 'Error. d.length for svdStep must be at least 2'\n",
      "    if n >= 3:\n",
      "        d2=d[n-2];f1= f[n-3];d3 = d[n-1];f2= f[n-2]\n",
      "    else: #n == 2\n",
      "        d2=d[0]; d3=d[1]; f1=0; f2=f[0]\n",
      "    mu, f2 = svdMu(d2, f1, d3, f2)\n",
      "    if(f2 == 0.0):\n",
      "        f[n-2] = 0.0\n",
      "    x1=d[0]\n",
      "    x2 = x1 * f[0]\n",
      "    x1 *= x1; x1 -= mu\n",
      "    g=givensCoef(x1,x2)\n",
      "    x1=d[0];x2=f[0]\n",
      "    f[0]=c*x2-s*x1\n",
      "    d[0]=c*x1+s*x2\n",
      "    t=d[1]\n",
      "    d[1] *= c\n",
      "    t *= s\n",
      "    gtProd(0,1,c,s,L)\n",
      "    for i in range(n-2):\n",
      "        j=i+1; k=i+2\n",
      "        c,s,r = givensCoef(d[i],t)\n",
      "        d[i]=r\n",
      "        x1=d[j]*c\n",
      "        x2=f[i]*s\n",
      "        t= x1 - x2\n",
      "        x1=f[i] * c\n",
      "        x2=d[j] * s \n",
      "        f[i] = x1+x2\n",
      "        d[j] = t\n",
      "        x1=f[j]\n",
      "        t=s * x1\n",
      "        f[j]=x1*c\n",
      "        prodG(R,i, j, c, s)\n",
      "        g=givensCoef(f[i],t)\n",
      "        f[i]=r\n",
      "        x1=d[j]; x2=f[j]\n",
      "        d[j]=c * x1 + s * x2; f[j]=c * x2 - s * x1\n",
      "        x1=d[k]\n",
      "        t=s * x1; d[k]=x1*c\n",
      "        gtProd(j,k, c, s,L)\n",
      "    i=n-2; j=n-1\n",
      "    c,s,r = givensCoef(d[i],t)\n",
      "    d[i] = r\n",
      "    x1=d[j]*c; x2=f[i]*s\n",
      "    t=x1 - x2\n",
      "    x1 = f[i] * c; x2=d[j] * s\n",
      "    f[i] = x1+x2\n",
      "    d[j] = t\n",
      "    prodG(R,i, j, c, s)"
     ],
     "language": "python",
     "metadata": {},
     "outputs": [],
     "prompt_number": 16
    },
    {
     "cell_type": "code",
     "collapsed": false,
     "input": [
      "from decompositionUtilities import bidiagExtract\n",
      "def biDiagPhaseToZero(B,L, d, f, R, eps0): # here d and f may be complex\n",
      "    nd=d.length\n",
      "    nf=f.length\n",
      "    assert nd == nf+1, 'For biDiagPhaseToZero the length of d should be nf+1'\n",
      "    lc=L.colview\n",
      "    rr=R.rowview\n",
      "    for i in range(nd):\n",
      "        ps = d[i]\n",
      "        if ps == 0.0:\n",
      "            ps = 1.0\n",
      "            m = 0.0\n",
      "        else:\n",
      "            m=abs(ps) # hypot(ps.real,ps.imag) might have better numerical properties than abs\n",
      "            ps /= m\n",
      "        if(m < eps0):\n",
      "            d[i]=0.0\n",
      "        else:\n",
      "            d[i]=m\n",
      "            if i < f.length:\n",
      "                f[i] *= ps.conjugate()\n",
      "            lc(i)[:] *= ps\n",
      "    for i in range(nf-1):\n",
      "        j=i+1\n",
      "        ps=f[i]\n",
      "        if ps == 0.0:\n",
      "            ps = 1.0\n",
      "            m=0.0\n",
      "        else:\n",
      "            m=abs(ps) # hypot(ps.real,ps.imag) might have better numerical properties than abs\n",
      "            ps /= m\n",
      "        lc(j)[:] *= ps.conjugate()\n",
      "        rr(j)[:] *= ps\n",
      "        f[i] = m\n",
      "        f[j] *= ps\n",
      "    j=nf\n",
      "    i=j-1\n",
      "    ps=f[i]\n",
      "    if ps == 0.0:\n",
      "        ps = 1.0\n",
      "        m = 0.0\n",
      "    else:\n",
      "        m=abs(ps)\n",
      "        ps /= m\n",
      "    f[i]=m\n",
      "    lc(j)[:] *= ps.conjugate()\n",
      "    rr(j)[:] *= ps\n",
      "    if 'cvview' in d.type: #From here d and f are real since imaginary is all zero\n",
      "        return (d.realview.copy,f.realview.copy)\n",
      "    else:\n",
      "        return (d.copy,f.copy)"
     ],
     "language": "python",
     "metadata": {},
     "outputs": [],
     "prompt_number": 20
    },
    {
     "cell_type": "code",
     "collapsed": false,
     "input": [
      "from decompositionUtilities import bidiag, UmatExtract,VHmatExtract\n",
      "def svdBidiag(B):\n",
      "    eps0=B.normFro/(B.rowlength * 1E10)\n",
      "    bidiag(B)\n",
      "    b=B.diagview\n",
      "    L=UmatExtract(B)\n",
      "    R=VHmatExtract(B)\n",
      "    print('preCheck');L.prod(bidiagExtract(B)).prod(R.herm).mprint('%.3f')\n",
      "    b(0).mprint('%.3f');b(1).mprint('%.3f');B.mprint('%.3f')\n",
      "    d,f = biDiagPhaseToZero(B,L,b(0),b(1),R,eps0)\n",
      "    return(L,d,f,R,eps0)"
     ],
     "language": "python",
     "metadata": {},
     "outputs": [],
     "prompt_number": 21
    },
    {
     "cell_type": "code",
     "collapsed": false,
     "input": [
      "B=pv.create('mview_d',5,5).randn(5)\n",
      "B.mprint('%.3f')\n",
      "L,d,f,R,eps0 = svdBidiag(B)"
     ],
     "language": "python",
     "metadata": {},
     "outputs": [
      {
       "output_type": "stream",
       "stream": "stdout",
       "text": [
        "[ 0.508  0.535  0.699 -0.960  0.231;\n",
        "  0.040 -0.477  0.208  0.506 -0.383;\n",
        "  0.157  0.781 -0.968 -0.320  0.793;\n",
        "  0.792 -0.258  0.127  1.355  0.255;\n",
        " -0.195  0.341 -0.496  0.172  1.624]\n",
        "\n",
        "preCheck\n",
        "[-0.093  0.980  0.221 -0.523  0.087;\n",
        " -0.024  0.306 -0.546  1.447  0.357;\n",
        " -0.095  0.016 -0.268 -0.165 -0.249;\n",
        " -0.476 -0.376  0.481  0.167  0.338;\n",
        "  0.117 -0.238  0.818  0.530 -0.742]\n",
        "\n",
        "[ 0.508 -0.477 -0.968  1.355  1.624]\n",
        "\n",
        "[ 0.535  0.208 -0.320  0.255]\n",
        "\n",
        "[ 0.508  0.535  0.699 -0.960  0.231;\n",
        "  0.040 -0.477  0.208  0.506 -0.383;\n",
        "  0.157  0.781 -0.968 -0.320  0.793;\n",
        "  0.792 -0.258  0.127  1.355  0.255;\n",
        " -0.195  0.341 -0.496  0.172  1.624]\n",
        "\n"
       ]
      }
     ],
     "prompt_number": 23
    },
    {
     "cell_type": "code",
     "collapsed": false,
     "input": [
      "B.mprint('%.3f');L.mprint('%.3f')"
     ],
     "language": "python",
     "metadata": {},
     "outputs": [
      {
       "output_type": "stream",
       "stream": "stdout",
       "text": [
        "[ 0.508  0.535  0.699 -0.960  0.231;\n",
        "  0.040  0.477  0.208  0.506 -0.383;\n",
        "  0.157  0.781  0.968  0.320  0.793;\n",
        "  0.792 -0.258  0.127  1.355  0.255;\n",
        " -0.195  0.341 -0.496  0.172  1.624]\n",
        "\n",
        "[-0.183  0.189  0.497 -0.824 -0.067;\n",
        " -0.048  0.123  0.173  0.063  0.974;\n",
        " -0.186  0.901 -0.387  0.019 -0.056;\n",
        " -0.936 -0.138  0.153  0.274 -0.074;\n",
        "  0.230  0.344  0.741  0.491 -0.196]\n",
        "\n"
       ]
      }
     ],
     "prompt_number": 24
    },
    {
     "cell_type": "code",
     "collapsed": false,
     "input": [
      "d.mprint('%.3f');f.mprint('%.3f'); R.mprint('%.3f')"
     ],
     "language": "python",
     "metadata": {},
     "outputs": [
      {
       "output_type": "stream",
       "stream": "stdout",
       "text": [
        "[ 0.508  0.477  0.968  1.355  1.624]\n",
        "\n",
        "[ 0.535  0.208  0.320  0.255]\n",
        "\n",
        "[ 1.000  0.000  0.000  0.000  0.000;\n",
        "  0.000  0.188 -0.567  0.780 -0.188;\n",
        " -0.000  0.424  0.722  0.315 -0.448;\n",
        " -0.000 -0.042  0.337  0.454  0.824;\n",
        " -0.000  0.885 -0.209 -0.295  0.293]\n",
        "\n"
       ]
      }
     ],
     "prompt_number": 25
    },
    {
     "cell_type": "code",
     "collapsed": false,
     "input": [
      "B.mprint('%.3f')"
     ],
     "language": "python",
     "metadata": {},
     "outputs": [
      {
       "output_type": "stream",
       "stream": "stdout",
       "text": [
        "[ 0.508  0.535  0.699 -0.960  0.231;\n",
        "  0.040  0.477  0.208  0.506 -0.383;\n",
        "  0.157  0.781  0.968  0.320  0.793;\n",
        "  0.792 -0.258  0.127  1.355  0.255;\n",
        " -0.195  0.341 -0.496  0.172  1.624]\n",
        "\n"
       ]
      }
     ],
     "prompt_number": 26
    },
    {
     "cell_type": "code",
     "collapsed": false,
     "input": [
      "from decompositionUtilities import bidiagExtract\n",
      "B0=bidiagExtract(B)"
     ],
     "language": "python",
     "metadata": {},
     "outputs": [],
     "prompt_number": 27
    },
    {
     "cell_type": "code",
     "collapsed": false,
     "input": [
      "B0.mprint('%.3f')"
     ],
     "language": "python",
     "metadata": {},
     "outputs": [
      {
       "output_type": "stream",
       "stream": "stdout",
       "text": [
        "[ 0.508  0.535  0.000  0.000  0.000;\n",
        "  0.000  0.477  0.208  0.000  0.000;\n",
        "  0.000  0.000  0.968  0.320  0.000;\n",
        "  0.000  0.000  0.000  1.355  0.255;\n",
        "  0.000  0.000  0.000  0.000  1.624]\n",
        "\n"
       ]
      }
     ],
     "prompt_number": 28
    },
    {
     "cell_type": "code",
     "collapsed": false,
     "input": [
      "L.prod(B0).prod(R).mprint('%.3f')"
     ],
     "language": "python",
     "metadata": {},
     "outputs": [
      {
       "output_type": "stream",
       "stream": "stdout",
       "text": [
        "[-0.093 -0.024  0.124 -0.182 -1.114;\n",
        " -0.024  1.496 -0.166 -0.321  0.492;\n",
        " -0.095 -0.089 -0.338  0.179 -0.084;\n",
        " -0.476 -0.117  0.560 -0.198  0.385;\n",
        "  0.117  0.181  0.751  0.939  0.280]\n",
        "\n"
       ]
      }
     ],
     "prompt_number": 29
    },
    {
     "cell_type": "code",
     "collapsed": false,
     "input": [
      "pv.create('cmview_d',5,5).randn(5).mprint('%.3f')"
     ],
     "language": "python",
     "metadata": {},
     "outputs": [
      {
       "output_type": "stream",
       "stream": "stdout",
       "text": [
        "[ 0.617-0.147i -0.109-0.068i  0.021-0.137i  0.514+0.308i  0.801+0.501i;\n",
        " -0.102-0.608i -0.718-0.443i -0.242+0.354i  0.182-1.061i  0.050-0.726i;\n",
        "  0.664-0.858i -0.623-0.531i -0.261-0.140i -0.216-0.678i -0.377-0.522i;\n",
        "  0.585-0.611i -0.323+0.219i  0.829+1.505i  0.567+0.668i -0.949-0.322i;\n",
        " -0.750+0.447i  0.908-1.522i  0.430+0.775i  0.351-0.299i -0.906-0.329i]\n",
        "\n"
       ]
      }
     ],
     "prompt_number": 30
    },
    {
     "cell_type": "code",
     "collapsed": false,
     "input": [],
     "language": "python",
     "metadata": {},
     "outputs": [],
     "prompt_number": 30
    },
    {
     "cell_type": "code",
     "collapsed": false,
     "input": [],
     "language": "python",
     "metadata": {},
     "outputs": []
    }
   ],
   "metadata": {}
  }
 ]
}