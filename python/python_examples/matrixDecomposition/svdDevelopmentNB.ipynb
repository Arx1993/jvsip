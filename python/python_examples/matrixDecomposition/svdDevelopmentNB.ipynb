{
 "metadata": {
  "name": "svdDevelopment"
 },
 "nbformat": 3,
 "nbformat_minor": 0,
 "worksheets": [
  {
   "cells": [
    {
     "cell_type": "code",
     "collapsed": false,
     "input": [
      "import pyJvsip as pv\n",
      "import decompositionUtilities as du\n",
      "\n",
      "def gks_mu(a11,a12,a22):\n",
      "    cu=a11 * a11.conjugate() + a12 * a12.conjugate()\n",
      "    cl=a22 * a22.conjugate()\n",
      "    cd = a12 * a22.conjugate()\n",
      "    D = (cu * cl - cd * cd.conjugate()).real\n",
      "    T = (cu + cl).real\n",
      "    root = pv.vsip_sqrt_d(T*T - 4 * D)\n",
      "    lambda1 = (T + root)/(2)\n",
      "    lambda2 = (T - root)/(2)\n",
      "    if abs(lambda1 - cl.real) < abs(lambda2 - cl.real):\n",
      "        mu = lambda1\n",
      "    else:\n",
      "        mu = lambda2\n",
      "    return mu"
     ],
     "language": "python",
     "metadata": {},
     "outputs": [],
     "prompt_number": 3
    },
    {
     "cell_type": "code",
     "collapsed": false,
     "input": [],
     "language": "python",
     "metadata": {},
     "outputs": []
    }
   ],
   "metadata": {}
  }
 ]
}