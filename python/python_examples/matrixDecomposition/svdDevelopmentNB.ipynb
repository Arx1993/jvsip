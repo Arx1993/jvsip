{
 "metadata": {
  "name": "svdDevelopmentNB"
 },
 "nbformat": 3,
 "nbformat_minor": 0,
 "worksheets": [
  {
   "cells": [
    {
     "cell_type": "markdown",
     "metadata": {},
     "source": [
      "### SVD Algorithm Subroutines\n",
      "This section assumes we have a bidiagonlized matrix and are doing the Golub\u2013Reinsch SVD algorithm.    \n",
      "\n",
      "Functions headed with gks indicate teh Golub-Kahan step and grs indicate the outer Golub-Reinsh SVD"
     ]
    },
    {
     "cell_type": "code",
     "collapsed": false,
     "input": [
      "import pyJvsip as pv\n",
      "import decompositionUtilities as du"
     ],
     "language": "python",
     "metadata": {},
     "outputs": [],
     "prompt_number": 441
    },
    {
     "cell_type": "code",
     "collapsed": false,
     "input": [
      "def gks_mu(a11,a12,a22):\n",
      "    cu=a11 * a11.conjugate() + a12 * a12.conjugate()\n",
      "    cl=a22 * a22.conjugate()\n",
      "    cd = a12 * a22.conjugate()\n",
      "    D = (cu * cl - cd * cd.conjugate()).real\n",
      "    T = (cu + cl).real\n",
      "    root = pv.vsip_sqrt_d(T*T - 4 * D)\n",
      "    lambda1 = (T + root)/(2)\n",
      "    lambda2 = (T - root)/(2)\n",
      "    if abs(lambda1 - cl.real) < abs(lambda2 - cl.real):\n",
      "        mu = lambda1\n",
      "    else:\n",
      "        mu = lambda2\n",
      "    return mu"
     ],
     "language": "python",
     "metadata": {},
     "outputs": []
    },
    {
     "cell_type": "code",
     "collapsed": false,
     "input": [
      "def grs_zero_checkAndSet(e,b0,b1):\n",
      "    s=e * (b0[0:b1.length].mag + b0[1:].mag)\n",
      "    indx_bool = b1.mag.llt(s)\n",
      "    if indx_bl.anytrue:\n",
      "        b1.indxFill(indx_bool.indexbool,0.0)"
     ],
     "language": "python",
     "metadata": {},
     "outputs": []
    },
    {
     "cell_type": "code",
     "collapsed": false,
     "input": [
      "def grs_corners(b1):\n",
      "    i=0;j=b1.length-1\n",
      "    b1_bool=b1.mag.leq(0.0)\n",
      "    if b1_bool.anytrue:\n",
      "        indx=b1_bool.indexbool\n",
      "        if indx[indx.length-1] == indx.length-1:\n",
      "            #the largest zero is at the end\n",
      "    return(i,j)"
     ],
     "language": "python",
     "metadata": {},
     "outputs": []
    },
    {
     "cell_type": "code",
     "collapsed": false,
     "input": [
      "#create a matrix A to work on\n",
      "A=pv.create('cmview_d',8,6)\n",
      "A.realview.block.vector.randn(5)\n",
      "A.imagview.block.vector.randn(11)    \n",
      "#f is a format for use when using mprint method\n",
      "f='%.4f'\n",
      "# eps is a small number; probably need to refine method\n",
      "def eps(a):\n",
      "    return a.normFro/1e16\n",
      "    "
     ],
     "language": "python",
     "metadata": {},
     "outputs": [],
     "prompt_number": 442
    },
    {
     "cell_type": "code",
     "collapsed": false,
     "input": [
      "A.mprint(f)"
     ],
     "language": "python",
     "metadata": {},
     "outputs": [
      {
       "output_type": "stream",
       "stream": "stdout",
       "text": [
        "[ 0.5080+0.8347i  0.5352-0.3009i  0.6986-0.2133i -0.9603-1.1831i  0.2314+0.9088i  0.0404-0.5608i;\n",
        " -0.4766-1.0832i  0.2077-0.3781i  0.5062+0.7615i -0.3828-0.1095i  0.1575+0.3478i  0.7812-0.5409i;\n",
        " -0.9682+0.2537i -0.3203+1.4490i  0.7925+0.4486i  0.7917+2.1075i -0.2578-0.9877i  0.1266-0.9733i;\n",
        "  1.3545-1.1464i  0.2552-1.6381i -0.1946-1.5706i  0.3411+1.0510i -0.4960+0.4630i  0.1719+1.0326i;\n",
        "  1.6241-1.3368i  0.1905+0.4652i  0.6356+1.4426i -0.4736-0.0545i  0.8353-0.3629i  0.0267-1.2722i;\n",
        " -0.1215+0.2238i -0.7123+0.9421i  0.3103+0.0404i -1.3142-0.1867i  0.0963-0.4964i  0.4091-0.1203i;\n",
        "  0.1547-0.6720i  0.4884+2.2117i  0.8869-1.7553i -0.1715-0.3691i -0.2912+0.7202i  1.2394-1.0714i;\n",
        " -1.4176+1.6752i  1.4679-1.9156i  0.5469+1.2032i  1.2282+0.4852i  1.2497+1.2892i  1.2338+0.1440i]\n",
        "\n"
       ]
      }
     ],
     "prompt_number": 443
    },
    {
     "cell_type": "code",
     "collapsed": false,
     "input": [
      "B=du.bidiag(A)\n",
      "B.mprint(f)"
     ],
     "language": "python",
     "metadata": {},
     "outputs": [
      {
       "output_type": "stream",
       "stream": "stdout",
       "text": [
        "[-2.0982-3.4474i -0.2780-1.8422i -0.0414-0.2738i  0.4143-0.2018i  0.0062-0.1976i  0.0538-0.0178i;\n",
        " -0.2340-0.0311i  0.4902-3.6500i -1.3263+0.5863i  0.1803+0.2895i  0.0945+0.1956i -0.1159+0.0913i;\n",
        " -0.0572+0.1913i -0.2844+0.0810i  2.1912+3.2469i -1.5894+0.2511i  0.3571-0.3526i -0.5407-0.0228i;\n",
        " -0.0549-0.3497i  0.0942+0.2227i -0.2430+0.0629i -0.3302+1.5573i  2.1956-0.0719i  0.2319-0.0244i;\n",
        " -0.0594-0.4154i  0.2142+0.2455i  0.3283-0.1220i -0.1049-0.0252i  0.7945+1.6432i  0.0975+1.2281i;\n",
        "  0.0255+0.0439i -0.1776-0.2765i  0.0383+0.0087i -0.0659+0.3334i -0.0471-0.0948i -1.8123+2.8053i;\n",
        " -0.0985-0.0961i -0.0671-0.0486i  0.0394-0.3246i  0.3008+0.2545i  0.4303-0.1571i  0.5533+0.2491i;\n",
        "  0.1384+0.4153i  0.2401+0.2884i -0.0420+0.2056i  0.0938-0.1877i  0.4160-0.5448i -0.1710+0.2452i]\n",
        "\n"
       ]
      }
     ],
     "prompt_number": 444
    },
    {
     "cell_type": "code",
     "collapsed": false,
     "input": [
      "b0=B.diagview(0); b1=B.diagview(1)\n",
      "b0.mprint(f); b1.mprint(f)"
     ],
     "language": "python",
     "metadata": {},
     "outputs": [
      {
       "output_type": "stream",
       "stream": "stdout",
       "text": [
        "[-2.0982-3.4474i  0.4902-3.6500i  2.1912+3.2469i -0.3302+1.5573i  0.7945+1.6432i -1.8123+2.8053i]\n",
        "\n",
        "[-0.2780-1.8422i -1.3263+0.5863i -1.5894+0.2511i  2.1956-0.0719i  0.0975+1.2281i]\n",
        "\n"
       ]
      }
     ],
     "prompt_number": 445
    },
    {
     "cell_type": "code",
     "collapsed": false,
     "input": [
      "bd=b0[0:b0.length-1].mag + b0[1:].mag"
     ],
     "language": "python",
     "metadata": {},
     "outputs": [],
     "prompt_number": 446
    },
    {
     "cell_type": "code",
     "collapsed": false,
     "input": [
      "bd.mprint(f)"
     ],
     "language": "python",
     "metadata": {},
     "outputs": [
      {
       "output_type": "stream",
       "stream": "stdout",
       "text": [
        "[ 7.7185  7.5998  5.5090  3.4171  5.1649]\n",
        "\n"
       ]
      }
     ],
     "prompt_number": 447
    },
    {
     "cell_type": "code",
     "collapsed": false,
     "input": [
      "bd1=b1.mag\n",
      "bd1.mprint(f)"
     ],
     "language": "python",
     "metadata": {},
     "outputs": [
      {
       "output_type": "stream",
       "stream": "stdout",
       "text": [
        "[ 1.8630  1.4501  1.6091  2.1968  1.2320]\n",
        "\n"
       ]
      }
     ],
     "prompt_number": 448
    },
    {
     "cell_type": "code",
     "collapsed": false,
     "input": [
      "small=eps(bd)"
     ],
     "language": "python",
     "metadata": {},
     "outputs": [],
     "prompt_number": 449
    },
    {
     "cell_type": "code",
     "collapsed": false,
     "input": [
      "print('%e'%small)"
     ],
     "language": "python",
     "metadata": {},
     "outputs": [
      {
       "output_type": "stream",
       "stream": "stdout",
       "text": [
        "1.363943e-15\n"
       ]
      }
     ],
     "prompt_number": 450
    },
    {
     "cell_type": "markdown",
     "metadata": {},
     "source": [
      "### Goulub-Reinsch SVD   \n",
      "Given bidiagonal matrix B we need a function to find indices p,q such that $B_{2,2}=\\;$ `B[p:q,p:q]` is bidiagonal with no zeros in the superdiagnoal,$B_{3,3} =\\; $`B[q:,q:]` is diagonal, and $B_{1,1}=\\;$ `B[0:p,0:p]` is bidiagonal with no other restriction.   \n",
      "Basic goal is to diagonalize $B_{2,2}$ and iterate until we only have $B_{3,3}$ left. On start probably $B_{2,2}$ will be the entire matrix.    \n",
      "#### STEP 1: Test for super diagonal zeros    \n",
      "Note test will set zeros in superdiagonal if entry is small enough.\n",
      "#### STEP 2: Index submatrices    \n",
      "Find corner indices for $B_{2,2}$. If corner indices are (0,0),(0,0) then we are done.   \n",
      "#### STEP 3a: check for zeros on diagnal of $B_{2,2}$   \n",
      "If any zeros are on the diagonal use givens to rotate them up to the super diagonal. Go to step 1   \n",
      "#### STEP 3b: Do golub-Kahan step   \n",
      "Do Golub-kahan step, then return to step 1"
     ]
    },
    {
     "cell_type": "code",
     "collapsed": false,
     "input": [
      "def s1(b0,b1):\n",
      "    n=b0.length\n",
      "    small = eps(b0)* (b0[0:n-1].mag + b0[1:].mag)\n",
      "    vindx=b1.mag.llt(small)\n",
      "    if vindx.anytrue:\n",
      "        b1.indxFill(vindx.indexbool,0.0)"
     ],
     "language": "python",
     "metadata": {},
     "outputs": [],
     "prompt_number": 451
    },
    {
     "cell_type": "code",
     "collapsed": false,
     "input": [
      "b0.mprint(f)"
     ],
     "language": "python",
     "metadata": {},
     "outputs": [
      {
       "output_type": "stream",
       "stream": "stdout",
       "text": [
        "[-2.0982-3.4474i  0.4902-3.6500i  2.1912+3.2469i -0.3302+1.5573i  0.7945+1.6432i -1.8123+2.8053i]\n",
        "\n"
       ]
      }
     ],
     "prompt_number": 452
    },
    {
     "cell_type": "code",
     "collapsed": false,
     "input": [
      "b1.mprint(f)"
     ],
     "language": "python",
     "metadata": {},
     "outputs": [
      {
       "output_type": "stream",
       "stream": "stdout",
       "text": [
        "[-0.2780-1.8422i -1.3263+0.5863i -1.5894+0.2511i  2.1956-0.0719i  0.0975+1.2281i]\n",
        "\n"
       ]
      }
     ],
     "prompt_number": 453
    },
    {
     "cell_type": "code",
     "collapsed": false,
     "input": [
      "b2=1.17426348194214649787323821934805e-15 * b1\n",
      "b2.mag.mprint('%e')\n",
      "small = eps(b0)* (b0[0:n-1].mag + b0[1:].mag)\n",
      "small.mprint('%e')\n",
      "s1(b0,b2)"
     ],
     "language": "python",
     "metadata": {},
     "outputs": [
      {
       "output_type": "stream",
       "stream": "stdout",
       "text": [
        "[ 2.187670e-15  1.702781e-15  1.889554e-15  2.579584e-15  1.446695e-15]\n",
        "\n",
        "[ 6.087953e-15  5.994361e-15  4.345207e-15  2.695214e-15]\n",
        "\n"
       ]
      }
     ],
     "prompt_number": 454
    },
    {
     "cell_type": "code",
     "collapsed": false,
     "input": [
      "b2.mprint('%.4e')\n",
      "b1.mprint(f)"
     ],
     "language": "python",
     "metadata": {},
     "outputs": [
      {
       "output_type": "stream",
       "stream": "stdout",
       "text": [
        "[ 0.0000e+00+0.0000e+00i  0.0000e+00+0.0000e+00i  0.0000e+00+0.0000e+00i  0.0000e+00+0.0000e+00i  0.0000e+00+0.0000e+00i]\n",
        "\n",
        "[-0.2780-1.8422i -1.3263+0.5863i -1.5894+0.2511i  2.1956-0.0719i  0.0975+1.2281i]\n",
        "\n"
       ]
      }
     ],
     "prompt_number": 455
    },
    {
     "cell_type": "code",
     "collapsed": false,
     "input": [
      "28.0/4.0 * 15.0"
     ],
     "language": "python",
     "metadata": {},
     "outputs": [
      {
       "output_type": "pyout",
       "prompt_number": 456,
       "text": [
        "105.0"
       ]
      }
     ],
     "prompt_number": 456
    },
    {
     "cell_type": "code",
     "collapsed": false,
     "input": [],
     "language": "python",
     "metadata": {},
     "outputs": [],
     "prompt_number": 456
    }
   ],
   "metadata": {}
  }
 ]
}