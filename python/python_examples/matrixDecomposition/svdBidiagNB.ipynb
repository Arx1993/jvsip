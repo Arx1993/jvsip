{
 "cells": [
  {
   "cell_type": "markdown",
   "metadata": {},
   "source": [
    "## SVD Bidiagonalization   \n",
    "In this section we prototype code to bidiagonalize an input matrix as the first part of a singular value decomposition. For this algorithm where $m$ is the column length and $n$ is the row length we assume $ m \\ge n $.  In the JVSIP C algorithm we remove that restriction with a little additional logic. The reason for calling this * SVD Bidiagonalization * instead of just bidiagonalization is we perform phase rotations on the central matrix to ensure the diagonals are real and positive.  This means the * SVD iteration* step is the same for both real and complex except for the updating the left and right update matrices.    \n",
    "   \n",
    "The essential part of this algorithm is $ A_{\\mathbb{C}}=L_{\\mathbb{C}} B_{\\mathbb{R}} R_{\\mathbb{C}} $   \n",
    "\n",
    "Usage is \n",
    "> ` L,d,f,R,eps0 = svdBidiag(A,eps) `   \n",
    "\n",
    "Where ` eps ` is a small number passed for a clue on what is considered zero, `eps0` is passed back as the number the algorithm is using, and  `d` and `f` are vectors corresponding to the values in the the central and first diagonal entry of $B$.  These objects are needed for the iteration phase."
   ]
  },
  {
   "cell_type": "code",
   "execution_count": 1,
   "metadata": {},
   "outputs": [],
   "source": [
    "import pyJvsip as pv\n",
    "from math import sqrt"
   ]
  },
  {
   "cell_type": "markdown",
   "metadata": {},
   "source": [
    "For the main bidiagonalization I use householder methods. See the Householder notebook for more information on Householder."
   ]
  },
  {
   "cell_type": "code",
   "execution_count": 2,
   "metadata": {},
   "outputs": [],
   "source": [
    "# H A\n",
    "def houseProd(v,A):\n",
    "    beta = 2.0/v.jdot(v)\n",
    "    v.conj;w=v.prod(A).conj;v.conj\n",
    "    A -= v.outer(beta,w)"
   ]
  },
  {
   "cell_type": "code",
   "execution_count": 3,
   "metadata": {},
   "outputs": [],
   "source": [
    "# A H\n",
    "def prodHouse(A,v):\n",
    "    beta = 2.0/v.jdot(v)\n",
    "    w=A.prod(v)\n",
    "    A-=w.outer(beta,v)"
   ]
  },
  {
   "cell_type": "code",
   "execution_count": 4,
   "metadata": {},
   "outputs": [],
   "source": [
    "def VHmatExtract(B): #B bidiagonalized with householder vectors stored in rows and columns.\n",
    "    n = B.rowlength\n",
    "    V=pv.create(B.type,n,n).fill(0.0);V.diagview(0).fill(1.0)\n",
    "    if(n < 3):\n",
    "        return V;\n",
    "    for i in range(n-3,0,-1):\n",
    "        j=i+1;\n",
    "        v=B.rowview(i)[j:]\n",
    "        t=v[0]\n",
    "        v[0]=1.0\n",
    "        prodHouse(V[j:,j:],v)\n",
    "        v[0]=t\n",
    "    v=B.rowview(0)[1:]\n",
    "    t=v[0];v[0]=1.0\n",
    "    prodHouse(V[1:,1:],v)\n",
    "    v[0]=t\n",
    "    return V"
   ]
  },
  {
   "cell_type": "code",
   "execution_count": 5,
   "metadata": {},
   "outputs": [],
   "source": [
    "def UmatExtract(B):\n",
    "    m = B.collength\n",
    "    n = B.rowlength\n",
    "    U=pv.create(B.type,m,m).fill(0.0);U.diagview(0).fill(1.0)\n",
    "    if (m > n):\n",
    "        i=n-1;\n",
    "        v=B.colview(i)[i:]\n",
    "        t=v[0]\n",
    "        v[0]=1.0\n",
    "        houseProd(v,U[i:,i:])\n",
    "        v[0]=t\n",
    "    for i in range(n-2,0,-1):\n",
    "        v=B.colview(i)[i:]\n",
    "        t=v[0];v[0]=1.0\n",
    "        houseProd(v,U[i:,i:])\n",
    "        v[0]=t\n",
    "    v=B.colview(0)\n",
    "    t=v[0];v[0]=1.0\n",
    "    houseProd(v,U)\n",
    "    v[0]=t\n",
    "    return U\n"
   ]
  },
  {
   "cell_type": "code",
   "execution_count": 6,
   "metadata": {},
   "outputs": [],
   "source": [
    "# See miscSVDroutineNB notebook for additional information on sign \n",
    "def sign(a):\n",
    "    if a.imag == 0.0:\n",
    "        if a.real < 0.0:\n",
    "            return -1.0\n",
    "        else:\n",
    "            return 1.0\n",
    "    else:\n",
    "        re = abs(a.real)\n",
    "        im = abs(a.imag)\n",
    "        if re < im:\n",
    "            t=re/im; t*=t; t +=1; t = im*sqrt(t)\n",
    "        else:\n",
    "            t=im/re; t*=t; t +=1; t = re*sqrt(t) \n",
    "        return a/t"
   ]
  },
  {
   "cell_type": "code",
   "execution_count": 7,
   "metadata": {},
   "outputs": [],
   "source": [
    "def houseVector(x):\n",
    "    nrm=x.norm2\n",
    "    t=x[0]\n",
    "    x[0]=nrm * sign(t) + t\n",
    "    nrm = x.norm2\n",
    "    if nrm == 0.0:\n",
    "        x[0]=1.0\n",
    "    else:\n",
    "        x /= nrm\n",
    "    return x"
   ]
  },
  {
   "cell_type": "code",
   "execution_count": 8,
   "metadata": {},
   "outputs": [],
   "source": [
    "def bidiag(B):\n",
    "    x=B.colview(0)\n",
    "    m=B.collength;n=B.rowlength\n",
    "    assert m >= n,'For bidiag the input matrix must have a collength >= rowlength'\n",
    "    v=x.empty.fill(0.0)\n",
    "    for i in range(n-1):\n",
    "        x=B.colview(i)[i:]\n",
    "        v=v.block.bind(0,1,x.length)\n",
    "        pv.copy(x,v)\n",
    "        houseVector(v)\n",
    "        z = v[0]; re = z.real; im = z.imag; z = re*re + im*im\n",
    "        if z > 0.0:\n",
    "            re /= z; im = -im/z\n",
    "        if im == 0.0:\n",
    "            z=re\n",
    "        else:\n",
    "            z=complex(re,im)\n",
    "        v *= z;\n",
    "        houseProd(v,B[i:,i:]);\n",
    "        pv.copy(v[1:],x[1:])\n",
    "        if(i < n-2):\n",
    "            j = i+1;\n",
    "            v.putlength(n-j)\n",
    "            x=B.rowview(i)[j:]\n",
    "            pv.copy(x,v)\n",
    "            houseVector(v);\n",
    "            v.conj\n",
    "            z = v[0]; re = z.real; im = z.imag; z = re*re + im*im\n",
    "            if z > 0.0:\n",
    "                re /= z; im = -im/z\n",
    "            if im == 0.0:\n",
    "                z=re\n",
    "            else:\n",
    "                z=complex(re,im)\n",
    "            v[:] *= z;\n",
    "            prodHouse(B[i:,j:],v);\n",
    "            pv.copy(v[1:],x[1:])\n",
    "    if(m > n):\n",
    "        i=n-1\n",
    "        x=B.colview(i)[i:]\n",
    "        v=v.block.bind(0,1,x.length)\n",
    "        pv.copy(x,v)\n",
    "        houseVector(v)\n",
    "        z = v[0]; re = z.real; im = z.imag; z = re*re + im*im\n",
    "        if z > 0.0:\n",
    "            re /= z; im = -im/z\n",
    "        if im == 0.0:\n",
    "            z=re\n",
    "        else:\n",
    "            z=complex(re,im)\n",
    "        v[:] *= z;\n",
    "        houseProd(v,B[i:,i:]);\n",
    "        pv.copy(v[1:],x[1:])\n",
    "    return B"
   ]
  },
  {
   "cell_type": "markdown",
   "metadata": {},
   "source": [
    "For additonal information on the phase rotations to make d and f real see the notebook biDiagPhaseToZeroNB."
   ]
  },
  {
   "cell_type": "code",
   "execution_count": 9,
   "metadata": {},
   "outputs": [],
   "source": [
    "def biDiagPhaseToZero(B,L, d, f, R, eps0): # here d and f may be complex\n",
    "    nd=d.length\n",
    "    nf=f.length\n",
    "    assert nd == nf+1, 'For biDiagPhaseToZero the length of d should be nf+1'\n",
    "    lc=L.colview\n",
    "    rr=R.rowview\n",
    "    for i in range(nd):\n",
    "        ps = d[i]\n",
    "        if ps == 0.0:\n",
    "            ps = 1.0\n",
    "            m = 0.0\n",
    "        else:\n",
    "            m=abs(ps) # hypot(ps.real,ps.imag) might have better numerical properties than abs\n",
    "            ps /= m\n",
    "        if(m < eps0):\n",
    "            d[i]=0.0\n",
    "        else:\n",
    "            d[i]=m\n",
    "            if i < f.length:\n",
    "                f[i] *= ps.conjugate()\n",
    "            lc(i)[:] *= ps\n",
    "    for i in range(nf-1):\n",
    "        j=i+1\n",
    "        ps=f[i]\n",
    "        if ps == 0.0:\n",
    "            ps = 1.0\n",
    "            m=0.0\n",
    "        else:\n",
    "            m=abs(ps) # hypot(ps.real,ps.imag) might have better numerical properties than abs\n",
    "            ps /= m\n",
    "        lc(j)[:] *= ps.conjugate()\n",
    "        rr(j)[:] *= ps\n",
    "        f[i] = m\n",
    "        f[j] *= ps\n",
    "    j=nf\n",
    "    i=j-1\n",
    "    ps=f[i]\n",
    "    if ps == 0.0:\n",
    "        ps = 1.0\n",
    "        m = 0.0\n",
    "    else:\n",
    "        m=abs(ps)\n",
    "        ps /= m\n",
    "    f[i]=m\n",
    "    lc(j)[:] *= ps.conjugate()\n",
    "    rr(j)[:] *= ps\n",
    "    if 'cvview' in d.type: #From here d and f are real since imaginary is all zero\n",
    "        return (d.realview.copy,f.realview.copy)\n",
    "    else:\n",
    "        return (d.copy,f.copy)"
   ]
  },
  {
   "cell_type": "code",
   "execution_count": 10,
   "metadata": {},
   "outputs": [],
   "source": [
    "def svdBidiag(A,eps):\n",
    "    eps0 = A.normFro/float(A.rowlength) * eps\n",
    "    B=A.copy\n",
    "    bidiag(B)\n",
    "    L=UmatExtract(B)\n",
    "    R=VHmatExtract(B)\n",
    "    b=B.diagview\n",
    "    d,f=biDiagPhaseToZero(B,L, b(0), b(1), R, eps0)\n",
    "    return(L,d,f,R,eps0)"
   ]
  },
  {
   "cell_type": "markdown",
   "metadata": {},
   "source": [
    "#### Example"
   ]
  },
  {
   "cell_type": "code",
   "execution_count": 11,
   "metadata": {},
   "outputs": [],
   "source": [
    "A=pv.create('mview_f',6,5).fill(0.0)\n",
    "A[2,2]=3.0; A[3,4]=5.0\n",
    "L,d,f,R,eps0=svdBidiag(A,1E-10)"
   ]
  },
  {
   "cell_type": "code",
   "execution_count": 12,
   "metadata": {},
   "outputs": [
    {
     "name": "stdout",
     "output_type": "stream",
     "text": [
      "[ 0.617-0.147i -0.109-0.068i  0.021-0.137i  0.514+0.308i  0.801+0.501i;\n",
      " -0.102-0.608i -0.718-0.443i -0.242+0.354i  0.182-1.061i  0.050-0.726i;\n",
      "  0.664-0.858i -0.623-0.531i -0.261-0.140i -0.216-0.678i -0.377-0.522i;\n",
      "  0.585-0.611i -0.323+0.219i  0.829+1.505i  0.567+0.668i -0.949-0.322i;\n",
      " -0.750+0.447i  0.908-1.522i  0.430+0.775i  0.351-0.299i -0.906-0.329i;\n",
      " -0.062+0.052i -0.243-0.454i -0.078+0.586i  1.053-0.065i -0.261+0.667i]\n",
      "\n"
     ]
    }
   ],
   "source": [
    "#make up some data\n",
    "A=pv.create('cmview_f',6,5).randn(5)\n",
    "A.mprint('%.3f')"
   ]
  },
  {
   "cell_type": "code",
   "execution_count": 13,
   "metadata": {},
   "outputs": [
    {
     "name": "stdout",
     "output_type": "stream",
     "text": [
      "[ 0.617-0.147i -0.109-0.068i  0.021-0.137i  0.514+0.308i  0.801+0.501i;\n",
      " -0.102-0.608i -0.718-0.443i -0.242+0.354i  0.182-1.061i  0.050-0.726i;\n",
      "  0.664-0.858i -0.623-0.531i -0.261-0.140i -0.216-0.678i -0.377-0.522i;\n",
      "  0.585-0.611i -0.323+0.219i  0.829+1.505i  0.567+0.668i -0.949-0.322i;\n",
      " -0.750+0.447i  0.908-1.522i  0.430+0.775i  0.351-0.299i -0.906-0.329i;\n",
      " -0.062+0.052i -0.243-0.454i -0.078+0.586i  1.053-0.065i -0.261+0.667i]\n",
      "\n",
      "('check %e.4', 1.4411674438125916e-06)\n"
     ]
    }
   ],
   "source": [
    "# bidiagonlize and then check to see if we can get back the origional matrix \n",
    "L,d,f,R,eps0=svdBidiag(A,1E-10)\n",
    "B0=A.empty.fill(0.0)\n",
    "if 'cmview' in B0.type:\n",
    "    B0.realview.diagview(0)[:]=d\n",
    "    B0.realview.diagview(1)[:]=f\n",
    "else:\n",
    "    B0.diagview(0)[:]=d\n",
    "    B0.diagview(1)[:]=f\n",
    "L.prod(B0).prod(R).mprint('%.3f')\n",
    "print('check %e.4',(A-L.prod(B0).prod(R)).normFro)"
   ]
  },
  {
   "cell_type": "code",
   "execution_count": 14,
   "metadata": {},
   "outputs": [
    {
     "name": "stdout",
     "output_type": "stream",
     "text": [
      "[ 1.855  1.320  1.707  1.220  2.023]\n",
      "\n",
      "[ 1.242  1.265  1.330  1.609]\n",
      "\n"
     ]
    }
   ],
   "source": [
    "d.mprint('%.3f')\n",
    "f.mprint('%.3f')"
   ]
  }
 ],
 "metadata": {
  "kernelspec": {
   "display_name": "Python 2",
   "language": "python",
   "name": "python2"
  },
  "language_info": {
   "codemirror_mode": {
    "name": "ipython",
    "version": 2
   },
   "file_extension": ".py",
   "mimetype": "text/x-python",
   "name": "python",
   "nbconvert_exporter": "python",
   "pygments_lexer": "ipython2",
   "version": "2.7.13"
  }
 },
 "nbformat": 4,
 "nbformat_minor": 1
}
