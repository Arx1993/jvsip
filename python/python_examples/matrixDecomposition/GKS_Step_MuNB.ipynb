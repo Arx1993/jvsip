{
 "metadata": {
  "name": "GKS_Step_MuNB"
 },
 "nbformat": 3,
 "nbformat_minor": 0,
 "worksheets": [
  {
   "cells": [
    {
     "cell_type": "markdown",
     "metadata": {},
     "source": [
      "### Golub\u2013Kahan SVD step $\\mu$ constant calculation\n",
      "$C = \\begin{bmatrix} a_{1,1} & a_{1,2} \\\\\\\\ 0 & a_{2,2} \\end{bmatrix} \\begin{bmatrix} a_{1,1}^* & 0 \\\\\\\\ a_{1,2}^* & a_{2,2}^* \\end{bmatrix}  = \\begin{bmatrix} {\\left| a_{1,1} \\right|}^2 + {\\left| a_{1,2} \\right|}^2& a_{1,2} a_{2,2}^* \\\\\\\\ a_{1,2}^* a_{2,2} & {\\left| a_{2,2} \\right|}^2\\end{bmatrix} $   \n",
      "    \n",
      "$ c_{1,1}={\\left| a_{1,1} \\right|}^2 + {\\left| a_{1,2} \\right|}^2 \\equiv c_u$   \n",
      "$ c_{1,2} = a_{1,2} a_{2,2}^* =c_{2,1}^* \\equiv c_d$    \n",
      "$ c_{2,2} = {\\left| a_{2,2} \\right|}^2 \\equiv c_l$   \n",
      "    \n",
      "So    \n",
      "$ C = \\begin{pmatrix}c_u & {c_d}^* \\\\\\\\ c_d & c_l\\end{pmatrix} $    \n",
      "    \n",
      "$ \\det{C} = c_u c_l - {\\left| c_d \\right|}^2 = {\\lambda}_1 {\\lambda}_2 \\equiv D$   \n",
      "$ c_u + c_l = {\\lambda}_1 + {\\lambda}_2 \\equiv T$    \n",
      "    \n",
      "$ {\\lambda}_1 = D/{\\lambda}_2$   \n",
      "$ T = D/{\\lambda}_2 + {\\lambda}_2 $   \n",
      "$ {\\lambda}_2 T - D - {{\\lambda}_2}^2= {{\\lambda}_2}^2 - T{{\\lambda}_2} + D = 0$    \n",
      "    \n",
      "$ \\lambda_1, \\lambda_2 = \\frac {T \\pm \\sqrt{T^2 - 4 D}} {2} $    \n",
      "    \n",
      "Want $\\mu = \\lambda \\;\\;$ such that $\\lambda = \\lambda_1, \\lambda_2 \\;\\;$ closest to $c_l$.    \n",
      "\n"
     ]
    },
    {
     "cell_type": "markdown",
     "metadata": {},
     "source": [
      "#### Function gks_mu"
     ]
    },
    {
     "cell_type": "code",
     "collapsed": false,
     "input": [
      "import pyJvsip as pv\n",
      "def gks_mu(a11,a12,a22):\n",
      "    cu=a11 * a11.conjugate() + a12 * a12.conjugate()\n",
      "    cl=a22 * a22.conjugate()\n",
      "    cd = a12 * a22.conjugate()\n",
      "    D = (cu * cl - cd * cd.conjugate()).real\n",
      "    T = (cu + cl).real\n",
      "    root = pv.vsip_sqrt_d(T*T - 4 * D)\n",
      "    lambda1 = (T + root)/(2)\n",
      "    lambda2 = (T - root)/(2)\n",
      "    if abs(lambda1 - cl.real) < abs(lambda2 - cl.real):\n",
      "        mu = lambda1\n",
      "    else:\n",
      "        mu = lambda2\n",
      "    #un-comment below for testing\n",
      "    #print('det: %.6f, trace: %.6f, closest to: %.6f'%(D, T, cl.real))\n",
      "    #print('lambda1: %.6f, lambda2: %.6f'%(lambda1,lambda2))\n",
      "    return mu"
     ],
     "language": "python",
     "metadata": {},
     "outputs": [],
     "prompt_number": 1
    },
    {
     "cell_type": "markdown",
     "metadata": {},
     "source": [
      "#### Simple Test of gks_mu"
     ]
    },
    {
     "cell_type": "code",
     "collapsed": false,
     "input": [
      "a11 = complex(2,3); a12 = complex(.5,.6); a22 = complex(-1,-3)"
     ],
     "language": "python",
     "metadata": {},
     "outputs": [],
     "prompt_number": 2
    },
    {
     "cell_type": "code",
     "collapsed": false,
     "input": [
      "mu = gks_mu(a11,a12,a22)\n",
      "print('%.6f'%mu)"
     ],
     "language": "python",
     "metadata": {},
     "outputs": [
      {
       "output_type": "stream",
       "stream": "stdout",
       "text": [
        "8.745911\n"
       ]
      }
     ],
     "prompt_number": 3
    }
   ],
   "metadata": {}
  }
 ]
}