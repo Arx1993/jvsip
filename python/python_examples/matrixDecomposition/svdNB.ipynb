{
 "metadata": {
  "name": ""
 },
 "nbformat": 3,
 "nbformat_minor": 0,
 "worksheets": [
  {
   "cells": [
    {
     "cell_type": "markdown",
     "metadata": {},
     "source": [
      "## SVD Algorithm  \n",
      "\n",
      "This notebook is the top level of the JVSIP SVD algorithm development and documentation.    \n",
      "\n",
      "We a write a python algorithm using pyJvsip to calculate the SVD and it's left and right decomposition matrices.  We then write some tests for debugging. Below we also use the pyJvsip native SVD, and play a little with the numpy SVD algorithm.  If the user does not have numpy or has not installed the jvsipNumpy module the numpy sections should be commented out.  Basically we want to check our answers. There a various identites to do this but we can also just compare the singular values returned from other algorithms. Numpy is considered trusted and (probably) correct.\n",
      "\n",
      "For the pyJvsip SVD we use the C VSIPL SVD Functionality under the covers and the decomposition matrices U and V are returned.  Basically python is a good platform for testing the JVSIP C library and is also helpfull when debugging.\n",
      "\n",
      "For the jsvd example we write a prototype SVD using python and pyJvsip notation (without calling the SVD directly of course) to write code which mirrors the basic algorithm of the JVSIP C code.  There are some differences between this example code and the JVSIP C code. For this code we designate the returned matrices as left $L$ and right $R$ and the diagonal of the decomposed matrix $D$ as $d$.\n",
      "Note that the V returned by pyJvsip is the hermitian of $R$.  For jsvd we calculate matrices $L$ and $R$ and diagonal vector $d$ so that   \n",
      "> `A = L D R`  \n",
      "\n",
      "where   \n",
      "\n",
      "> `D.diagview(0)[:]=d`   \n",
      "\n",
      "is a diagonal matrix compatible for matrix product with `L` and `R`."
     ]
    },
    {
     "cell_type": "code",
     "collapsed": false,
     "input": [
      "# baseline modules\n",
      "import pyJvsip as pv\n",
      "from math import sqrt\n",
      "# if you don't have numpy or the jvsipNumpy algorithm comment out the following\n",
      "from jvsipNumpy import *"
     ],
     "language": "python",
     "metadata": {},
     "outputs": [],
     "prompt_number": 2
    },
    {
     "cell_type": "markdown",
     "metadata": {},
     "source": [
      "Below is the basic SVD algorithm. We call it jsvd to avoid conflicts with other modules which might get loaded and which might have an svd function.   \n",
      "\n",
      "I have not done the work to make jsvd usefull for any matrix. For jsvd we require our matrix be of size at least 2 by 2 and that there are at least as many rows as there are columns. This means that for a matrix of size (m,n) that m and n are greater than one and m is greater than or equal to n.   \n",
      "   \n",
      "We also note that this is the basic top-level code. A lot of work is done in the bi-diagonalization and iteration codes we import; as well as a little work in the final sort phase. The iteration, bidiagonalization and sort modules have there own notebooks which are, in most ways, more extensive than this one.  The notebooks are exported, pared down, and saved as modules (.py files) for use here."
     ]
    },
    {
     "cell_type": "code",
     "collapsed": false,
     "input": [
      "# Needed algorithms in the SVD loaded below.\n",
      "from svdBidiag import svdBidiag\n",
      "from svdIteration import svdIteration\n",
      "from svdSort import svdSort\n",
      "# Call it jsvd to avoid conflicts with other svd's\n",
      "def jsvd(A,eps0):\n",
      "    L,d,f,R,eps0 = svdBidiag(A,eps0)\n",
      "    L,d,R=svdIteration(L,d,f,R,eps0)\n",
      "    return (svdSort(L,d,R))"
     ],
     "language": "python",
     "metadata": {},
     "outputs": [],
     "prompt_number": 1
    },
    {
     "cell_type": "markdown",
     "metadata": {},
     "source": [
      "Below we define three test routines for jsvd, pyJvsip svd and numpy. \n",
      "To test we recompute the input matrix from the three decomposition matrices\n",
      "and subtract it from the input matrix. We take the Frobenius norm of the result and divide it by the Frobenius norm of the input matrix. If we get a number order of 1E-7 for float and 1E-15 for double then we decide it is probably correct. We also print the singular values so we can see if they are the same for the same input matrix.\n",
      "\n",
      "Note that the frobenius norm is easy to calculate. It is the square root of the sum of the squares of the input matrix. It is also equal to the square root of the sum of the squares of the singular values. "
     ]
    },
    {
     "cell_type": "code",
     "collapsed": false,
     "input": [
      "def jsvdTest(A):\n",
      "    L,d,R = jsvd(A,1E-15)\n",
      "    Ac=A.empty.fill(0.0)\n",
      "    if 'cmview' in Ac.type:\n",
      "        Ac.realview.diagview(0)[:]=d\n",
      "    else:\n",
      "        Ac.diagview(0)[:]=d\n",
      "    d.mprint('%.4f')\n",
      "    e=((A-L.prod(Ac).prod(R)).normFro)/(A.normFro)\n",
      "    print('Error check %.5e'%e)\n",
      "    \n",
      "def npSvdTest(A):\n",
      "    Ac=A.empty.fill(0.0)\n",
      "    U,s,V=svd(jvToNp(A))\n",
      "    if 'cmview' in Ac.type:\n",
      "        Ac.realview.diagview(0)[:]=npToJv(s)\n",
      "    else:\n",
      "        Ac.diagview(0)[:]=npToJv(s)\n",
      "    npToJv(s).mprint('%.4f')\n",
      "    e=((A-npToJv(U).prod(Ac).prod(npToJv(V))).normFro)/(A.normFro)\n",
      "    print('Error check %.5e'%e)\n",
      "\n",
      "def jvSvdTest(A):\n",
      "    U,s,V=A.copy.svd\n",
      "    Ac=A.empty.fill(0.0)\n",
      "    if 'cmview' in Ac.type:\n",
      "        Ac.realview.diagview(0)[:]=s\n",
      "    else:\n",
      "        Ac.diagview(0)[:]=s\n",
      "    s.mprint('%.4f')\n",
      "    e=((A-U.prod(Ac).prod(V.herm)).normFro)/(A.normFro)\n",
      "    print('Error check %.5e'%e)"
     ],
     "language": "python",
     "metadata": {},
     "outputs": [],
     "prompt_number": 32
    },
    {
     "cell_type": "code",
     "collapsed": false,
     "input": [
      "A=pv.create('cmview_d',20,15).fill(0.0)\n",
      "A[2,4]=.2; A[18,12]=.3; A[13,2]=.4\n",
      "A.diagview(-4).randn(4)"
     ],
     "language": "python",
     "metadata": {},
     "outputs": [
      {
       "metadata": {},
       "output_type": "pyout",
       "prompt_number": 37,
       "text": [
        "array([ 1.87362733,  1.49050065,  1.48509549,  1.45788699,  1.28369866,\n",
        "        1.0462633 ,  1.01241949,  0.91766348,  0.83612566,  0.83098518,\n",
        "        0.74896183,  0.65674027,  0.49717535,  0.49704668,  0.07566268])"
       ]
      }
     ],
     "prompt_number": 37
    },
    {
     "cell_type": "code",
     "collapsed": false,
     "input": [
      "npSvdTest(A)"
     ],
     "language": "python",
     "metadata": {},
     "outputs": [
      {
       "output_type": "stream",
       "stream": "stdout",
       "text": [
        "[ 1.8736  1.4905  1.4851  1.4579  1.2837  1.0463  1.0124  0.9177  0.8361  0.8310  0.7490  0.6567  0.4972  0.4970  0.0757]\n",
        "\n",
        "Error check 2.49272e-16\n"
       ]
      }
     ],
     "prompt_number": 38
    },
    {
     "cell_type": "code",
     "collapsed": false,
     "input": [
      "jvSvdTest(A)"
     ],
     "language": "python",
     "metadata": {},
     "outputs": [
      {
       "output_type": "stream",
       "stream": "stdout",
       "text": [
        "[ 1.8736  1.4905  1.4851  1.4579  1.2837  1.0463  1.0124  0.9177  0.8361  0.8310  0.7490  0.6567  0.4972  0.4970  0.0757]\n",
        "\n",
        "Error check 5.58047e-16\n"
       ]
      }
     ],
     "prompt_number": 39
    },
    {
     "cell_type": "code",
     "collapsed": false,
     "input": [
      "jsvdTest(A)"
     ],
     "language": "python",
     "metadata": {},
     "outputs": [
      {
       "output_type": "stream",
       "stream": "stdout",
       "text": [
        "[ 1.8736  1.4905  1.4851  1.4579  1.2837  1.0463  1.0124  0.9177  0.8361  0.8310  0.7490  0.6567  0.4972  0.4970  0.0757]\n",
        "\n",
        "Error check 4.04150e-16\n"
       ]
      }
     ],
     "prompt_number": 40
    },
    {
     "cell_type": "code",
     "collapsed": false,
     "input": [
      "A=pv.create('mview_d',30,25).randn(10)\n",
      "npSvdTest(A)\n",
      "jvSvdTest(A)\n",
      "jsvdTest(A)"
     ],
     "language": "python",
     "metadata": {},
     "outputs": [
      {
       "output_type": "stream",
       "stream": "stdout",
       "text": [
        "[ 9.3002  8.9048  8.6715  8.0764  7.9753  7.3564  6.9815  6.1875  6.0697  5.5518  5.1834  4.9240  4.7474  4.3582  3.8202  3.5076  3.2277  2.9535  2.4712  2.2684  1.6013  1.4318  1.1377  0.8777  0.4593]\n",
        "\n",
        "Error check 2.59489e-15\n",
        "[ 9.3002  8.9048  8.6715  8.0764  7.9753  7.3564  6.9815  6.1875  6.0697  5.5518  5.1834  4.9240  4.7474  4.3582  3.8202  3.5076  3.2277  2.9535  2.4712  2.2684  1.6013  1.4318  1.1377  0.8777  0.4593]\n",
        "\n",
        "Error check 1.75284e-15\n",
        "[ 9.3002  8.9048  8.6715  8.0764  7.9753  7.3564  6.9815  6.1875  6.0697  5.5518  5.1834  4.9240  4.7474  4.3582  3.8202  3.5076  3.2277  2.9535  2.4712  2.2684  1.6013  1.4318  1.1377  0.8777  0.4593]\n"
       ]
      },
      {
       "output_type": "stream",
       "stream": "stdout",
       "text": [
        "\n",
        "Error check 2.03301e-15\n"
       ]
      }
     ],
     "prompt_number": 41
    },
    {
     "cell_type": "code",
     "collapsed": false,
     "input": [
      "A=pv.create('cmview_f',30,30).randn(10)\n",
      "npSvdTest(A)\n",
      "jvSvdTest(A)\n",
      "jsvdTest(A)"
     ],
     "language": "python",
     "metadata": {},
     "outputs": [
      {
       "output_type": "stream",
       "stream": "stdout",
       "text": [
        "[ 10.3602  9.6416  9.0383  8.9715  8.4072  7.7699  7.5292  6.7688  6.5682  6.3371  5.9328  5.7438  5.3709  4.7744  4.3604  4.2696  3.8993  3.5481  3.0393  2.8535  2.7419  2.3464  2.0467  1.8683  1.5658  1.2304  0.9183  0.7724  0.5472  0.1211]\n",
        "\n",
        "Error check 1.33664e-07\n",
        "[ 10.3602  9.6416  9.0383  8.9715  8.4072  7.7699  7.5292  6.7688  6.5682  6.3371  5.9328  5.7438  5.3709  4.7744  4.3604  4.2696  3.8993  3.5481  3.0393  2.8535  2.7419  2.3464  2.0467  1.8683  1.5658  1.2304  0.9183  0.7724  0.5472  0.1211]\n",
        "\n",
        "Error check 1.07116e-06\n",
        "[ 10.3602  9.6416  9.0383  8.9715  8.4072  7.7699  7.5292  6.7688  6.5682  6.3371  5.9328  5.7438  5.3709  4.7744  4.3604  4.2696  3.8993  3.5481  3.0393  2.8535  2.7419  2.3464  2.0467  1.8683  1.5658  1.2304  0.9183  0.7724  0.5472  0.1211]\n"
       ]
      },
      {
       "output_type": "stream",
       "stream": "stdout",
       "text": [
        "\n",
        "Error check 9.39151e-07\n"
       ]
      }
     ],
     "prompt_number": 42
    },
    {
     "cell_type": "code",
     "collapsed": false,
     "input": [
      "A=pv.create('mview_f',8,8).randn(10)\n",
      "npSvdTest(A)\n",
      "jvSvdTest(A)\n",
      "jsvdTest(A)"
     ],
     "language": "python",
     "metadata": {},
     "outputs": [
      {
       "output_type": "stream",
       "stream": "stdout",
       "text": [
        "[ 4.2406  3.3574  2.6070  1.8420  1.5676  0.8269  0.3293  0.0586]\n",
        "\n",
        "Error check 8.47384e-08\n",
        "[ 4.2406  3.3574  2.6070  1.8420  1.5676  0.8269  0.3293  0.0586]\n",
        "\n",
        "Error check 4.82426e-07\n",
        "[ 4.2406  3.3574  2.6070  1.8420  1.5676  0.8269  0.3293  0.0586]\n"
       ]
      },
      {
       "output_type": "stream",
       "stream": "stdout",
       "text": [
        "\n",
        "Error check 3.39838e-07\n"
       ]
      }
     ],
     "prompt_number": 43
    },
    {
     "cell_type": "code",
     "collapsed": false,
     "input": [],
     "language": "python",
     "metadata": {},
     "outputs": []
    }
   ],
   "metadata": {}
  }
 ]
}