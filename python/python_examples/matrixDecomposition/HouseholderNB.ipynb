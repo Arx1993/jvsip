{
 "metadata": {
  "name": "",
  "signature": "sha256:af89b427711df8023f4a9ad6eca10652e3224d8d2ca8cdbbed9ef34daabf79a8"
 },
 "nbformat": 3,
 "nbformat_minor": 0,
 "worksheets": [
  {
   "cells": [
    {
     "cell_type": "markdown",
     "metadata": {},
     "source": [
      "## Householder Reflection   \n",
      "*There are many references for Householder Reflection. The reference for this notebook document is Matrix Computations by Golub & Van Loan (4th Edition) (G&VL).*   \n",
      "There is a matrix $H$ called a Householder Reflection or Householder Matrix. It is beyond the scope of this notebook to develop $H$ directly and I refer to *G&VL* or just about any textbook on linear algebra. However we will state some facts. The matrix $H$ is Hermitian and its own inverse.  Given a (column) vector $\\vec x$ we can produce a vector $\\vec v$ (called the Householder vector) which is used to produce an $H$ such that $\\vec {x^\\prime} = H \\vec x$ where $\\vec {x^\\prime}$ is all zeros except for the first entry.   \n",
      "Since we use Householder for matrix decomposition we should note that generally after you zero (for instance) the first column in a matrix then for additional decomposition you will block the matrix so that $H$ is in the lower right corner of the decomposition matrix and the identity is in the upper left corner of the decomposition matrix. The other two corners are zero.   \n",
      "Obvious extensions to householder exist for zeroing row instead of columns. For the SVD caculation (in JVSIP) Householder methods are used for the initial bidiagonalization of the matrix working first on the columns and then on the rows."
     ]
    },
    {
     "cell_type": "markdown",
     "metadata": {},
     "source": [
      "#### Householder Vector\n",
      "The function houseVector returns a normalized householder vector $\\vec v$.   \n",
      "We note that $\\vec v = \\vec x \\pm  {\\Vert \\vec x \\Vert}_2 \\hat {e_1} $; however one should consult *G&VL* for details in the actual algorithm for calculating the householder vector.  \n",
      "\n",
      "Note that, in general, the householder matrix is given by   \n",
      "$H=(I-{2 \\over {\\vec{v}^H {\\,}\\vec{v}}} \\vec{v} {\\,} \\vec{v}^H) $  \n",
      "No matter how the householder vector is normalized this $H$ will always work."
     ]
    },
    {
     "cell_type": "code",
     "collapsed": false,
     "input": [
      "import pyJvsip as pv\n",
      "from decompositionUtilities import sign\n",
      "def houseVector(x): \n",
      "    \"\"\"\n",
      "     This algorithm returns a normalized householder vector 'v' such that\n",
      "     the householder projection matrix 'H' is:\n",
      "     H = I - 2 v v*\n",
      "    \"\"\"\n",
      "    if 'vview' not in x.type:\n",
      "        print('Function houseVector only works on vector views')\n",
      "        return\n",
      "    v=x.copy\n",
      "    v[0] += (sign(x[0]) * x.norm2)\n",
      "    n = v.norm2\n",
      "    if n == 0.0:\n",
      "        v[0] = 1.0\n",
      "    else:\n",
      "        v /= n\n",
      "    return v"
     ],
     "language": "python",
     "metadata": {},
     "outputs": [],
     "prompt_number": 1
    },
    {
     "cell_type": "markdown",
     "metadata": {},
     "source": [
      "### Householder Matrix\n",
      "The function `house` creates and returns a householder matrix.  \n",
      "Generally you would not want to create a householder matrix for performance and memory management reasons; however, this is the most straight forward representation when you are trying to wrap your head around householder matrix products."
     ]
    },
    {
     "cell_type": "code",
     "collapsed": false,
     "input": [
      "from decompositionUtilities import eye\n",
      "def house(v): # create and return househoulder rotation matrix\n",
      "              # vector v; works for any valid househoulder vector\n",
      "    t={'vview_f':'mview_f','vview_d':'mview_d',\n",
      "       'cvview_f':'cmview_f','cvview_d':'cmview_d'}\n",
      "    return(eye(t[v.type],v.length) - v.outer(2.0/v.jdot(v),v))"
     ],
     "language": "python",
     "metadata": {},
     "outputs": [],
     "prompt_number": 2
    },
    {
     "cell_type": "markdown",
     "metadata": {},
     "source": [
      "#### Example   \n",
      "Below we do a simple example demonstrating the properties of Householder matrices mentioned above."
     ]
    },
    {
     "cell_type": "code",
     "collapsed": false,
     "input": [
      "x=pv.create('cvview_d',5).randn(5)\n",
      "v=houseVector(x)\n",
      "H=house(v)\n",
      "print('Input vector x');x.mprint('%.3f')\n",
      "print('Input vector x after Householder operation');H.prod(x).mprint('%.3f')\n",
      "print('H.prod(H) is an identity');H.prod(H).mprint('%.3f')\n",
      "print('H is Hermitian');H.mprint('%.3f')"
     ],
     "language": "python",
     "metadata": {},
     "outputs": [
      {
       "output_type": "stream",
       "stream": "stdout",
       "text": [
        "Input vector x\n",
        "[ 0.617-0.147i -0.109-0.068i  0.021-0.137i  0.514+0.308i  0.801+0.501i]\n",
        "\n",
        "Input vector x after Householder operation\n",
        "[-1.264+0.302i -0.000-0.000i  0.000-0.000i  0.000+0.000i  0.000+0.000i]\n",
        "\n",
        "H.prod(H) is an identity\n",
        "[ 1.000+0.000i  0.000-0.000i -0.000-0.000i -0.000+0.000i -0.000+0.000i;\n",
        "  0.000+0.000i  1.000+0.000i -0.000+0.000i  0.000+0.000i  0.000+0.000i;\n",
        " -0.000+0.000i -0.000-0.000i  1.000+0.000i  0.000+0.000i -0.000+0.000i;\n",
        " -0.000-0.000i  0.000-0.000i  0.000-0.000i  1.000+0.000i -0.000-0.000i;\n",
        " -0.000-0.000i  0.000-0.000i -0.000-0.000i -0.000+0.000i  1.000+0.000i]\n",
        "\n",
        "H is Hermitian\n",
        "[-0.488+0.000i  0.069-0.071i -0.041-0.099i -0.329+0.322i -0.510+0.518i;\n",
        "  0.069+0.071i  0.993+0.000i -0.003+0.007i  0.031+0.001i  0.048+0.000i;\n",
        " -0.041+0.099i -0.003-0.007i  0.992+0.000i  0.012+0.031i  0.021+0.048i;\n",
        " -0.329-0.322i  0.031-0.001i  0.012-0.031i  0.857+0.000i -0.225+0.004i;\n",
        " -0.510-0.518i  0.048-0.000i  0.021-0.048i -0.225-0.004i  0.645+0.000i]\n",
        "\n"
       ]
      }
     ],
     "prompt_number": 3
    },
    {
     "cell_type": "markdown",
     "metadata": {},
     "source": [
      "### Example\n",
      "#### QR Decomposition Using Householder Matrices\n",
      "The function QRD_inPlace(A) will, in-place, do a $Q R$ factorization of A.\n",
      "The QRD_inPlace function stores the $R$ matrix of the $Q R$ factorization\n",
      "in the upper triangular portion of the input matrix and the v[1:] portion\n",
      "of the householder vectors in the remaining lower triangular portion of the\n",
      "input matrix. The householder vectors are normalized so that v[0] is one.\n",
      "For more information see *G&VL*."
     ]
    },
    {
     "cell_type": "code",
     "collapsed": false,
     "input": [
      "def QRD_inPlace(A):\n",
      "    m=A.collength\n",
      "    n=A.rowlength\n",
      "    if m < n:\n",
      "        print('The input matrix must have collength >= rowlength.')\n",
      "        print('For matrices where m > n use the transpose.')\n",
      "    for i in range(n-1):\n",
      "        x=A[i:,i:].colview(0)\n",
      "        v=houseVector(x)\n",
      "        v /= v[0]\n",
      "        A[i:,i:]=house(v).prod(A[i:,i:])\n",
      "        x[1:]=v[1:]\n",
      "    if m > n: #do last column if matrix not square\n",
      "        i=n-1\n",
      "        x=A[i:,i:].colview(0)\n",
      "        v=houseVector(x)\n",
      "        v /= v[0]\n",
      "        A[i:,i:]=house(v).prod(A[i:,i:])\n",
      "        x[1:]=v[1:]"
     ],
     "language": "python",
     "metadata": {},
     "outputs": [],
     "prompt_number": 4
    },
    {
     "cell_type": "markdown",
     "metadata": {},
     "source": [
      "#### Example   "
     ]
    },
    {
     "cell_type": "code",
     "collapsed": false,
     "input": [
      "A=pv.create('cmview_d',6,3).randn(8)\n",
      "print('A before QRD_inPlace');A.mprint('%.3f')\n",
      "QRD_inPlace(A)\n",
      "print('A after QRD_inPlace'); A.mprint('%.3f')"
     ],
     "language": "python",
     "metadata": {},
     "outputs": [
      {
       "output_type": "stream",
       "stream": "stdout",
       "text": [
        "A before QRD_inPlace\n",
        "[-0.064-0.174i -0.265+0.911i -0.353+0.430i;\n",
        " -0.030-0.977i -0.258+0.394i -1.000+0.731i;\n",
        "  1.245+0.982i -0.817+0.100i  0.573+0.396i;\n",
        " -0.003+0.235i -0.366-0.656i  0.606-0.925i;\n",
        " -0.769+1.049i  1.489+0.615i  0.291+0.695i;\n",
        " -0.376+0.572i  0.387+0.308i -0.253-0.513i]\n",
        "\n",
        "A after QRD_inPlace\n",
        "[ 0.827+2.244i  0.379-1.057i  0.771-0.082i;\n",
        "  0.360+0.120i -1.319+1.484i -0.677+0.215i;\n",
        " -0.525+0.322i -0.585+0.217i -0.465-1.767i;\n",
        " -0.085-0.033i  0.025-0.305i -0.245-0.179i;\n",
        " -0.279-0.421i -0.151+0.414i  0.114+0.038i;\n",
        " -0.158-0.214i -0.195+0.095i -0.221+0.096i]\n",
        "\n"
       ]
      }
     ],
     "prompt_number": 5
    },
    {
     "cell_type": "markdown",
     "metadata": {},
     "source": [
      "### Householder Matrix Products\n",
      "The function houseProd(v,A), where v is a householder vector and A is a matrix  \n",
      "(size must be conformant), will return $ H A = (I - \\beta {\\,} \\vec{v} {\\,}\\vec{v}^H) A = A - \\beta {\\,} \\vec{v}{\\,} (\\vec{v}^H A) = A - \\beta {\\,} \\vec{v}{\\,} \\vec{w}^H$.  \n",
      "Done in-place. The output is in $A$"
     ]
    },
    {
     "cell_type": "code",
     "collapsed": false,
     "input": [
      "def houseProd(v,A):\n",
      "    beta = 2.0/v.jdot(v)\n",
      "    v.conj;w=v.prod(A).conj;v.conj\n",
      "    A -= v.outer(beta,w)"
     ],
     "language": "python",
     "metadata": {},
     "outputs": [],
     "prompt_number": 6
    },
    {
     "cell_type": "markdown",
     "metadata": {},
     "source": [
      "The function prodHouse(A,v), where v is a householder vector and A is a matrix  \n",
      "(size must be conformant), will return $ A{\\,} H {\\,}= {\\,}A {\\,}(I - \\beta{\\,} \\vec{v} {\\,} \\vec{v}^H) = A - \\beta{\\,} (A {\\,} \\vec{v}) {\\,}\\vec{v}^H = A - \\beta{\\,} \\vec{w} {\\,} \\vec{v}^H $  \n",
      "Done in-place. The output is in $A$"
     ]
    },
    {
     "cell_type": "code",
     "collapsed": false,
     "input": [
      "def prodHouse(A,v):\n",
      "    beta = 2.0/v.jdot(v)\n",
      "    w=A.prod(v)\n",
      "    A-=w.outer(beta,v)"
     ],
     "language": "python",
     "metadata": {},
     "outputs": [],
     "prompt_number": 7
    },
    {
     "cell_type": "markdown",
     "metadata": {},
     "source": [
      "#### Example"
     ]
    },
    {
     "cell_type": "code",
     "collapsed": false,
     "input": [
      "A=pv.create('cmview_d',5,5).randn(5)\n",
      "a=A.colview\n",
      "print('Initial input matrix');A.mprint('%.3f')\n",
      "v=houseVector(a(0))\n",
      "houseProd(v,A)\n",
      "print('After zero of first Column');A.mprint('%.3f')\n",
      "v=houseVector(a(1)[1:])\n",
      "houseProd(v,A[1:,1:])\n",
      "print('After zero of second Column');A.mprint('%.3f')"
     ],
     "language": "python",
     "metadata": {},
     "outputs": [
      {
       "output_type": "stream",
       "stream": "stdout",
       "text": [
        "Initial input matrix\n",
        "[ 0.617-0.147i -0.109-0.068i  0.021-0.137i  0.514+0.308i  0.801+0.501i;\n",
        " -0.102-0.608i -0.718-0.443i -0.242+0.354i  0.182-1.061i  0.050-0.726i;\n",
        "  0.664-0.858i -0.623-0.531i -0.261-0.140i -0.216-0.678i -0.377-0.522i;\n",
        "  0.585-0.611i -0.323+0.219i  0.829+1.505i  0.567+0.668i -0.949-0.322i;\n",
        " -0.750+0.447i  0.908-1.522i  0.430+0.775i  0.351-0.299i -0.906-0.329i]\n",
        "\n",
        "After zero of first Column\n",
        "[-1.803+0.431i  0.796+0.182i  0.322-0.095i -0.534-0.235i -0.612+0.288i;\n",
        "  0.000+0.000i -0.641-0.662i -0.227+0.280i  0.030-0.812i -0.027-0.381i;\n",
        " -0.000+0.000i -0.248-0.694i -0.147-0.208i -0.720-0.576i -0.915-0.208i;\n",
        "  0.000+0.000i -0.019+0.123i  0.923+1.462i  0.167+0.706i -1.392-0.122i;\n",
        "  0.000-0.000i  0.578-1.511i  0.325+0.792i  0.758-0.227i -0.411-0.405i]\n",
        "\n",
        "After zero of second Column\n",
        "[-1.803+0.431i  0.796+0.182i  0.322-0.095i -0.534-0.235i -0.612+0.288i;\n",
        "  0.000+0.000i  1.396+1.442i -0.398-0.104i  0.263+1.106i  0.727+0.008i;\n",
        " -0.000+0.000i -0.000-0.000i -0.146-0.314i -0.866-0.112i -0.783-0.041i;\n",
        "  0.000+0.000i  0.000+0.000i  0.914+1.478i  0.226+0.648i -1.399-0.158i;\n",
        "  0.000-0.000i  0.000-0.000i  0.478+0.617i -0.148+0.338i -0.429+0.063i]\n",
        "\n"
       ]
      }
     ],
     "prompt_number": 8
    },
    {
     "cell_type": "markdown",
     "metadata": {},
     "source": [
      "### Example\n",
      "#### Q Matrix Product\n",
      "The function `fullQProd(Q,B)` takes a matrix produced by `QRD_inPlace`   \n",
      "(containing $Q$ information in householder vectors) and does a matrix product of $Q$ times $B$.  \n",
      "The result is returned in a new matrix."
     ]
    },
    {
     "cell_type": "code",
     "collapsed": false,
     "input": [
      "def fullQProd(Q,B):\n",
      "    m=Q.collength\n",
      "    n=B.rowlength\n",
      "    U=B.copy\n",
      "    if m > n: #extract last column if matrix is not square\n",
      "        i=n-1\n",
      "        v=Q[i:,i:].colview(0).copy\n",
      "        v[0]=1\n",
      "        houseProd(v,U[i:,i:])\n",
      "    for i in range(n-2,-1,-1):\n",
      "        v=Q[i:,i:].colview(0).copy\n",
      "        v[0]=1\n",
      "        houseProd(v,U[i:,i:])\n",
      "    return U"
     ],
     "language": "python",
     "metadata": {},
     "outputs": [],
     "prompt_number": 9
    },
    {
     "cell_type": "markdown",
     "metadata": {},
     "source": [
      "#### Q Matrix Extract\n",
      "Matrix B is created using function `QRD_inPlace`.   \n",
      "The function `QmatExtract(B)` will create a new matrix containing the $Q$ factor of the $Q R$ factorization  \n",
      "using the householder vectors stored in the columns of matrix $B$."
     ]
    },
    {
     "cell_type": "code",
     "collapsed": false,
     "input": [
      "def QmatExtract(B):\n",
      "    m=B.collength\n",
      "    n=B.rowlength\n",
      "    Q=eye(B.type,m)\n",
      "    if m > n: #extract last column if matrix is not square\n",
      "        i=n-1\n",
      "        v=B[i:,i:].colview(0).copy\n",
      "        v[0]=1\n",
      "        houseProd(v,Q[i:,i:])\n",
      "    for i in range(n-2,-1,-1):\n",
      "        v=B[i:,i:].colview(0).copy\n",
      "        v[0]=1\n",
      "        houseProd(v,Q[i:,i:])\n",
      "    return Q"
     ],
     "language": "python",
     "metadata": {},
     "outputs": [],
     "prompt_number": 10
    },
    {
     "cell_type": "markdown",
     "metadata": {},
     "source": [
      "#### R Matrix Extract\n",
      "Matrix B is created using function `QRD_inPlace`.  \n",
      "The function `RmatExtract(B)` will create a new matrix containing the $R$ factor of the QR factorization.  \n",
      "Basically a copy of $B$ is made and the householder vectors in the lower triangular portion are zeroed."
     ]
    },
    {
     "cell_type": "code",
     "collapsed": false,
     "input": [
      "def RmatExtract(B):\n",
      "    R=B.copy\n",
      "    m=B.collength\n",
      "    for i in range(1,m):\n",
      "        R.diagview(-i).fill(0.0)\n",
      "    return R"
     ],
     "language": "python",
     "metadata": {},
     "outputs": [],
     "prompt_number": 11
    },
    {
     "cell_type": "markdown",
     "metadata": {},
     "source": [
      "The function `houseQR` produces, out-of-place, the Factors $Q$ and $R$ of a QR decomposition"
     ]
    },
    {
     "cell_type": "code",
     "collapsed": false,
     "input": [
      "def houseQR(A):\n",
      "    R=A.copy\n",
      "    m=A.collength\n",
      "    n=A.rowlength\n",
      "    if m < n:\n",
      "        print('The input matrix must have collength >= rowlength.')\n",
      "        print('for matrices where m > n use the transpose')\n",
      "    for i in range(n-1):\n",
      "        x=R[i:,i:].colview(0)\n",
      "        v=houseVector(x)\n",
      "        v /= v[0]\n",
      "        houseProd(v,R[i:,i:])\n",
      "        x[1:]=v[1:]\n",
      "    if m > n: #do last column if matrix not square\n",
      "        i=n-1\n",
      "        x=R[i:,i:].colview(0)\n",
      "        v=houseVector(x)\n",
      "        v /= v[0]\n",
      "        houseProd(v,R[i:,i:])\n",
      "        x[1:]=v[1:]\n",
      "    #accumulate Q\n",
      "    Q = QmatExtract(R)\n",
      "    #zero entries of R\n",
      "    for i in range(1,m):\n",
      "        R.diagview(-i).fill(0.0)\n",
      "    return (Q,R)"
     ],
     "language": "python",
     "metadata": {},
     "outputs": [],
     "prompt_number": 12
    },
    {
     "cell_type": "markdown",
     "metadata": {},
     "source": [
      "### Example"
     ]
    },
    {
     "cell_type": "code",
     "collapsed": false,
     "input": [
      "A=pv.create('mview_d',5,4).randn(8)\n",
      "Q,R=houseQR(A)\n",
      "print('Input A');A.mprint('%.3f')\n",
      "print('Q and R');Q.mprint('%.3f');R.mprint('%.3f')\n",
      "print('check Frobenious (A - Q R): %.4e'%(A-Q.prod(R)).normFro)"
     ],
     "language": "python",
     "metadata": {},
     "outputs": [
      {
       "output_type": "stream",
       "stream": "stdout",
       "text": [
        "Input A\n",
        "[-0.329 -0.383 -1.257  0.428;\n",
        "  0.570  0.240  0.720 -0.085;\n",
        "  0.134  0.254 -0.747  0.120;\n",
        "  0.143  0.564 -0.379 -0.050;\n",
        "  0.377 -0.923 -1.896  0.309]\n",
        "\n",
        "Q and R\n",
        "[-0.420  0.306 -0.406  0.706  0.260;\n",
        "  0.728 -0.178  0.245  0.599  0.142;\n",
        "  0.171 -0.206 -0.570  0.145 -0.763;\n",
        "  0.182 -0.465 -0.603 -0.247  0.570;\n",
        "  0.482  0.785 -0.294 -0.248  0.068]\n",
        "\n",
        "[ 0.783  0.037 -0.058 -0.082;\n",
        "  0.000 -1.199 -1.670  0.387;\n",
        "  0.000  0.000  1.898 -0.323;\n",
        "  0.000  0.000  0.000  0.204;\n",
        "  0.000  0.000  0.000  0.000]\n",
        "\n",
        "check Frobenious (A - Q R): 4.1939e-16\n"
       ]
      }
     ],
     "prompt_number": 13
    },
    {
     "cell_type": "markdown",
     "metadata": {},
     "source": [
      "### Example\n",
      "#### Householder Bidiagonalization    \n",
      "    \n",
      "The function `bidiag(A)` will (out of place) produce a new matrix with the essential  \n",
      "householder vectors stored in the zeored elements and bidiagonalization elements  \n",
      "stored in the main diagonal and the first super-diagonal.  \n",
      "This is the first step to SVD computation.\n",
      "Note this calculates the esential informationtion for the matrix decomposition   \n",
      "   \n",
      "$A \\rightarrow U B V^H $    \n",
      "    \n",
      "Functions are defined to extract the matrices $U$ and $V^H$ as well as the bidiagonal matrix $B$.\n"
     ]
    },
    {
     "cell_type": "code",
     "collapsed": false,
     "input": [
      "def bidiag(A): # m >= n\n",
      "    \"\"\"\n",
      "      B=bidiag(A)\n",
      "        returns, out of place, the bidiagonal decomposition of A.\n",
      "        The esential househoulder vectors are stored in the zeroed \n",
      "        entries of B.\n",
      "    \"\"\"\n",
      "    B=A.copy\n",
      "    m=B.collength\n",
      "    n=B.rowlength\n",
      "    if m < n:\n",
      "        print('The input matrix must have collength >= rowlength.')\n",
      "        print('for matrices where m > n use the transpose')\n",
      "    for i in range(n-1):\n",
      "        x=B[i:,i:].colview(0)\n",
      "        v=houseVector(x)\n",
      "        v /= v[0]\n",
      "        houseProd(v,B[i:,i:])\n",
      "        x[1:]=v[1:]\n",
      "        if i < n-2:\n",
      "            j=i+1\n",
      "            x = B[i:,j:].rowview(0)\n",
      "            #v=houseVector(x.conj);x.conj \n",
      "            v=houseVector(x).conj \n",
      "            v /= v[0]\n",
      "            prodHouse(B[i:,j:],v)#=B[i:,j:].prod(house(v))\n",
      "            x[1:]=v[1:]\n",
      "    if m > n: #do last column if matrix not square\n",
      "        i=n-1\n",
      "        x=B[i:,i:].colview(0)\n",
      "        v=houseVector(x)\n",
      "        v /= v[0]\n",
      "        houseProd(v,B[i:,i:])\n",
      "        x[1:]=v[1:]\n",
      "    return B\n",
      "def bidiagExtract(B):\n",
      "    \"\"\"\n",
      "      B=bidiagExtract(B0)\n",
      "        Returns, out of place, a matrix with the bidiagonal entries. \n",
      "        Input matrix is one produced by B0=bidiag(A)\n",
      "    \"\"\"\n",
      "    B0=B.empty.fill(0.0)\n",
      "    B0.diagview(0)[:] = B.diagview(0)\n",
      "    B0.diagview(1)[:] = B.diagview(1)\n",
      "    return B0\n",
      "def UmatExtract(B):\n",
      "    \"\"\"\n",
      "      U=UmatExtract(B0)\n",
      "        returns, out of place, the U matrix of the bidiagonal \n",
      "        decomposition A=UBV^H given the result of bidiag routine \n",
      "        B0=bidiag(A)\n",
      "    \"\"\"\n",
      "    m=B.collength\n",
      "    n=B.rowlength\n",
      "    U=eye(B.type,m)\n",
      "    if m > n: #extract last column if matrix is not square\n",
      "        i=n-1\n",
      "        v=B[i:,i:].colview(0).copy\n",
      "        v[0]=1\n",
      "        houseProd(v,U[i:,i:])\n",
      "    for i in range(n-2,-1,-1):\n",
      "        v=B[i:,i:].colview(0).copy\n",
      "        v[0]=1\n",
      "        houseProd(v,U[i:,i:])\n",
      "    return U\n",
      "def VHmatExtract(B):\n",
      "    \"\"\"\n",
      "      VH=UmatExtract(B0)\n",
      "        returns, out of place, the hermtian V matrix of the bidiagonal \n",
      "        decomposition A=UBV^H given the result of bidiag routine \n",
      "        B0=bidiag(A)\n",
      "    \"\"\"\n",
      "    m=B.collength\n",
      "    n=B.rowlength\n",
      "    V=eye(B.type,n)\n",
      "    for i in range(n-3,-1,-1):\n",
      "        j=i+1\n",
      "        v=B[i:,j:].rowview(0).copy\n",
      "        v[0]=1\n",
      "        prodHouse(V[j:,j:],v)#=V[j:,j:].prod(house(v))\n",
      "    return V"
     ],
     "language": "python",
     "metadata": {},
     "outputs": [],
     "prompt_number": 14
    },
    {
     "cell_type": "markdown",
     "metadata": {},
     "source": [
      "#### Example\n",
      "Bidiagonalize matrix. Extract left and right matrices and the bidiagonal matrix. Recompute the input matrix and compare to the origional."
     ]
    },
    {
     "cell_type": "code",
     "collapsed": false,
     "input": [
      "A=pv.create('cmview_d',6,4).randn(4)\n",
      "B=bidiag(A)\n",
      "L=UmatExtract(B)\n",
      "b=bidiagExtract(B)\n",
      "R=VHmatExtract(B)\n",
      "print('Input matrix');A.mprint('%.3f')\n",
      "print('Output, B, of bidiag routine');B.mprint('%.3f')\n",
      "print('Left matrix extracted from B'); L.mprint('%.3f')\n",
      "print('Bidiagonal data extracted from B');b.mprint('%.3f')\n",
      "print('Right matrix xtracted from B');R.mprint('%.3f')\n",
      "print('Reconstruction of input matrix');L.prod(b).prod(R).mprint('%.3f')\n",
      "print('frobenious norm of difference %.6e'%(A-L.prod(b).prod(R)).normFro)"
     ],
     "language": "python",
     "metadata": {},
     "outputs": [
      {
       "output_type": "stream",
       "stream": "stdout",
       "text": [
        "Input matrix\n",
        "[-0.156-0.472i -1.057-0.728i  0.813+0.340i  0.695+0.736i;\n",
        "  1.153-1.463i  0.531-1.387i -0.372+0.749i  0.616-0.228i;\n",
        "  0.718-0.214i -0.266-1.380i  0.007+0.075i  0.967-0.400i;\n",
        " -0.091-0.536i  0.216-1.442i  0.734+0.406i -0.428+0.994i;\n",
        "  0.107-0.478i -0.477-0.822i -0.276+0.530i -0.986+1.150i;\n",
        " -0.547-1.444i  0.339+0.589i -0.219+0.815i -0.112+0.560i]\n",
        "\n",
        "Output, B, of bidiag routine\n",
        "[ 0.842+2.547i -1.540-1.231i -0.326+0.183i -0.026+0.064i;\n",
        "  0.323+0.489i  1.608+1.554i -0.822+1.703i -0.140-0.253i;\n",
        " -0.007+0.235i -0.212+0.090i -0.941-0.991i -0.760+1.232i;\n",
        "  0.169+0.026i -0.192-0.193i -0.146+0.369i  0.878+1.311i;\n",
        "  0.132+0.079i -0.211-0.128i -0.038-0.059i -0.144-0.340i;\n",
        "  0.485-0.021i  0.520-0.216i -0.170+0.085i -0.233-0.184i]\n",
        "\n",
        "Left matrix extracted from B\n",
        "[-0.185+0.000i  0.447-0.304i  0.259-0.148i  0.047-0.294i -0.094+0.689i -0.102-0.035i;\n",
        " -0.383-0.579i -0.035+0.120i -0.330-0.188i  0.028-0.225i  0.097-0.111i -0.482-0.228i;\n",
        "  0.008-0.279i  0.351-0.012i -0.509+0.075i  0.091-0.205i  0.157+0.011i  0.626+0.261i;\n",
        " -0.200-0.030i  0.338+0.216i  0.334-0.488i -0.532+0.034i  0.024-0.321i  0.240-0.044i;\n",
        " -0.157-0.094i  0.364+0.165i  0.178+0.219i  0.260+0.579i  0.557+0.064i -0.092-0.044i;\n",
        " -0.575+0.025i -0.481+0.130i  0.096-0.252i  0.319+0.145i -0.070+0.216i  0.417-0.008i]\n",
        "\n",
        "Bidiagonal data extracted from B\n",
        "[ 0.842+2.547i -1.540-1.231i  0.000+0.000i  0.000+0.000i;\n",
        "  0.000+0.000i  1.608+1.554i -0.822+1.703i  0.000+0.000i;\n",
        "  0.000+0.000i  0.000+0.000i -0.941-0.991i -0.760+1.232i;\n",
        "  0.000+0.000i  0.000+0.000i  0.000+0.000i  0.878+1.311i;\n",
        "  0.000+0.000i  0.000+0.000i  0.000+0.000i  0.000+0.000i;\n",
        "  0.000+0.000i  0.000+0.000i  0.000+0.000i  0.000+0.000i]\n",
        "\n",
        "Right matrix xtracted from B\n",
        "[ 1.000+0.000i  0.000+0.000i  0.000+0.000i  0.000+0.000i;\n",
        "  0.000+0.000i -0.747+0.000i  0.569+0.320i  0.046+0.113i;\n",
        "  0.000+0.000i -0.522+0.220i -0.635+0.024i  0.287-0.439i;\n",
        "  0.000+0.000i  0.336+0.088i  0.166+0.377i  0.842-0.024i]\n",
        "\n",
        "Reconstruction of input matrix\n",
        "[-0.156-0.472i -1.057-0.728i  0.813+0.340i  0.695+0.736i;\n",
        "  1.153-1.463i  0.531-1.387i -0.372+0.749i  0.616-0.228i;\n",
        "  0.718-0.214i -0.266-1.380i  0.007+0.075i  0.967-0.400i;\n",
        " -0.091-0.536i  0.216-1.442i  0.734+0.406i -0.428+0.994i;\n",
        "  0.107-0.478i -0.477-0.822i -0.276+0.530i -0.986+1.150i;\n",
        " -0.547-1.444i  0.339+0.589i -0.219+0.815i -0.112+0.560i]\n",
        "\n",
        "frobenious norm of difference 2.346660e-15\n"
       ]
      }
     ],
     "prompt_number": 15
    }
   ],
   "metadata": {}
  }
 ]
}