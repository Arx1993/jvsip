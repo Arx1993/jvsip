{
 "metadata": {
  "name": "SVD_exploration"
 },
 "nbformat": 3,
 "nbformat_minor": 0,
 "worksheets": [
  {
   "cells": [
    {
     "cell_type": "markdown",
     "metadata": {},
     "source": [
      "### SVD Estimation\n",
      "For this example a square matrix of size 2 operates on a dense set of unit vectors distributed uniformly around a unit circle. The resulting set of vectors is searched for maximum and minimum lengths to find an estimate of the singular values of the matrix.\n",
      "\n",
      "####Note\n",
      "This example is also available in ~/jvsip/python/python_examples/LinearAlgebraSimple as SVD_exploration.py to be run as a regular script. I decided to also make a notebook to support better documentation."
     ]
    },
    {
     "cell_type": "code",
     "collapsed": false,
     "input": [
      "#! python\n",
      "# Estimate two-norm (sigma0) and singular values (sigma0, sigma1) \n",
      "# of a two by two matrix by searching through a dense space of vectors.\n",
      "# Check by reproducing estimate for A matrix using Aest=U Sigma V^t\n",
      "# Motivating text Numerical Linear Algebra, Trefethen and Bau"
     ],
     "language": "python",
     "metadata": {},
     "outputs": [],
     "prompt_number": 2
    },
    {
     "cell_type": "markdown",
     "metadata": {},
     "source": [
      "####Goals\n",
      "This example has three goals   \n",
      "1) Explore the SVD   \n",
      "2) Explore simple pyJvsip coding  \n",
      "3) Learn a little about matplotlib   \n",
      "\n",
      "We need the pyJvsip package and the matplotlib package. We also need pi and a function to do arccos; here we get them from numpy."
     ]
    },
    {
     "cell_type": "code",
     "collapsed": false,
     "input": [
      "import pyJvsip as pv\n",
      "from numpy import pi,arccos\n",
      "from matplotlib.pyplot import *"
     ],
     "language": "python",
     "metadata": {},
     "outputs": [],
     "prompt_number": 3
    },
    {
     "cell_type": "markdown",
     "metadata": {},
     "source": [
      "#### Input unit vectors\n",
      "$ X = \\begin{bmatrix} \\vec{x_0} {\\\\} \\vec{x_1}\\end{bmatrix}$   \n",
      "where $\\vec{x_0} $ and $\\vec{x_1}$ are row vectors such that elements $ X[0,i]^2 +X[1,i]^2 = 1 $"
     ]
    },
    {
     "cell_type": "code",
     "collapsed": false,
     "input": [
      "N=1000 #number of points to search through for estimates\n",
      "# create a vector 'arg' of evenly spaced angles between [zero, 2 pi)\n",
      "arg=pv.create('vview_d',N).ramp(0.0,2.0 * pi/float(N))\n",
      "# Create a matrix 'X' of unit vectors representing Unit Ball in R2\n",
      "X=pv.create('mview_d',2,N,'ROW').fill(0.0)\n",
      "x0=X.rowview(0);x1=X.rowview(1)\n",
      "_=pv.sin(arg,x0);_=pv.cos(arg,x1)"
     ],
     "language": "python",
     "metadata": {},
     "outputs": [],
     "prompt_number": 4
    },
    {
     "cell_type": "markdown",
     "metadata": {},
     "source": [
      "#### Input matrix operator\n",
      "$A = \\begin{bmatrix} 1.0 & 1.0 \\\\\\\\ 0.0 & 2.0 \\end{bmatrix}$"
     ]
    },
    {
     "cell_type": "code",
     "collapsed": false,
     "input": [
      "# create matrix 'A' to examine\n",
      "A=pv.create('mview_d',2,2).fill(0.0)\n",
      "A[0,0]=1.0;A[0,1]=2.0; A[1,1]=2.0;A[1,0]=0.0"
     ],
     "language": "python",
     "metadata": {},
     "outputs": [],
     "prompt_number": 5
    },
    {
     "cell_type": "markdown",
     "metadata": {},
     "source": [
      "#### Operation\n",
      "$ Y = A X $"
     ]
    },
    {
     "cell_type": "code",
     "collapsed": false,
     "input": [
      "# create matrix Y=AX\n",
      "Y=A.prod(X)\n",
      "y0=Y.rowview(0);y1=Y.rowview(1)\n",
      "# create vector 'n' of 2-norms for Y col vectors (sqrt(y0_i^2+y1_i^2))\n",
      "n=(y0.copy.sq+y1.copy.sq).sqrt "
     ],
     "language": "python",
     "metadata": {},
     "outputs": [],
     "prompt_number": 6
    },
    {
     "cell_type": "markdown",
     "metadata": {},
     "source": [
      "#### Estimate singular values\n",
      "Singular values for matrix $A$ require an orthonormal basis associated with matrix $V$ and an orthonormal basis associatead with matrix $U$ such that $A V = U {\\;}\\Sigma $ where $\\Sigma$ is a diagonal matrix with the singular values on the diagonal ordered so that they are in decreasing order."
     ]
    },
    {
     "cell_type": "code",
     "collapsed": false,
     "input": [
      "# Find index of (first) maximum value and (first) minimum value\n",
      "i=n.maxvalindx; j=n.minvalindx\n",
      "sigma0=n[i];sigma1=n[j]\n",
      "# create estimates for V, U, Sigma (S)\n",
      "V=A.empty.fill(0)\n",
      "U=V.copy\n",
      "S=V.copy\n",
      "S[0,0]=sigma0;S[1,1]=sigma1\n",
      "U[0:2,0]=Y[0:2,i];U[0:2,1]=Y[0:2,j]\n",
      "U[0:2,0] /=sigma0;U[0:2,1]/=sigma1 #normalize u1,u2\n",
      "V[0:2,0]=X[0:2,i];V[0:2,1]=X[0:2,j] #v0, v1 already normalized\n",
      "#estimate A from results of U,V,S\n",
      "Aest=U.prod(S).prod(V.transview)"
     ],
     "language": "python",
     "metadata": {},
     "outputs": [],
     "prompt_number": 7
    },
    {
     "cell_type": "markdown",
     "metadata": {},
     "source": [
      "#### Play with matplotlib"
     ]
    },
    {
     "cell_type": "code",
     "collapsed": false,
     "input": [
      "#PLOT Results\n",
      "stk='\\\\stackrel' #for creating small matrices\n",
      "spc='\\\\/'        #for creating some space\n",
      "lft='\\\\left['    #left bracket\n",
      "rgt='\\\\right]'   #right bracket\n",
      "#Plot results for two norm\n",
      "tne = \"Maximum magnitude 'x':\\n    \"+'(%.4f, %.4f)'%(y1[i], y0[i])\n",
      "tne +='\\nTwo norm estimate: \\n    ' + \"%.4f\"%sigma0\n",
      "figure(1,figsize=(8.5,6))\n",
      "subplot(1,2,1).set_aspect('equal')\n",
      "title(r'Unit Ball in $\\Re^2$',fontsize=14)\n",
      "ylabel(r'$x_0$',fontsize=14)\n",
      "xlabel(r'$x_1$',fontsize=14)\n",
      "plot(x1.list,x0.list)\n",
      "a00='{'+'%.4f'%Aest[0,0]+'}';a01='{'+'%.4f'%Aest[0,1]+'}'\n",
      "a10='{'+'%.4f'%Aest[1,0]+'}';a11='{'+'%.4f'%Aest[1,1]+'}'\n",
      "eqn=\"r\\'$\"+lft+stk+\"{y_0}{y_1}\"+rgt+\"=\"+lft+stk+a00+a10+\\\n",
      "                                     spc+stk+a01+a11+rgt\n",
      "eqn+= lft+stk+\"{x_0}{x_1}\"+rgt+\"$\\'\"\n",
      "text(-1.25,1.65,eval(eqn),fontsize=20)\n",
      "text(x1[i],x0[i],'x',horizontalalignment='center',\\\n",
      "                     verticalalignment='center')\n",
      "plot([0,x1[0]],[0,x0[0]],'k')\n",
      "plot([0,x1[N/4]],[0,x0[N/4]],'g')\n",
      "plot([0,x1[N/2]],[0,x0[N/2]],'r')\n",
      "plot([0,x1[3*N/4]],[0,x0[3*N/4]],'m')\n",
      "subplot(1,2,2).set_aspect('equal')\n",
      "title(r'Transformed Unit Ball in $\\Re^2$',fontsize=14)\n",
      "ylabel(r'$y_0$',fontsize=14)\n",
      "xlabel(r'$y_1$',fontsize=14)\n",
      "plot(y1.list,y0.list)\n",
      "text(y1[i],y0[i],'x',horizontalalignment='center',\\\n",
      "                     verticalalignment='center')\n",
      "text(-1.9,2.0,tne,fontname='serif',fontsize=10)\n",
      "plot([0,y1[0]],[0,y0[0]],'k')\n",
      "plot([0,y1[N/4]],[0,y0[N/4]],'g')\n",
      "plot([0,y1[N/2]],[0,y0[N/2]],'r')\n",
      "plot([0,y1[3*N/4]],[0,y0[3*N/4]],'m')\n",
      "#Plot results for singular values\n",
      "a00='{'+'%.4f'%Aest[0,0]+'}';a01='{'+'%.4f'%Aest[0,1]+'}'\n",
      "a10='{'+'%.4f'%Aest[1,0]+'}';a11='{'+'%.4f'%Aest[1,1]+'}'\n",
      "s00='{'+'%.4f'%S[0,0]+'}';s01='{'+'%.4f'%S[0,1]+'}'\n",
      "s10='{'+'%.4f'%S[1,0]+'}';s11='{'+'%.4f'%S[1,1]+'}'\n",
      "u00='{'+'%.4f'%U[0,0]+'}';u01='{'+'%.4f'%U[0,1]+'}'\n",
      "u10='{'+'%.4f'%U[1,0]+'}';u11='{'+'%.4f'%U[1,1]+'}'\n",
      "v00='{'+'%.4f'%V[0,0]+'}';v01='{'+'%.4f'%V[0,1]+'}'\n",
      "v10='{'+'%.4f'%V[1,0]+'}';v11='{'+'%.4f'%V[1,1]+'}'\n",
      "estEqn=\"r\\'$\\\\left[\" +stk+a00+a10+spc+stk+a01+a11+\"\\\\right] = \"\n",
      "estEqn+=\"\\\\left[\"    +stk+u00+u10+spc+stk+u01+u11+\"\\\\right] \"\n",
      "estEqn+=\"\\\\left[\"    +stk+s00+s10+spc+stk+s01+s11+\"\\\\right] \"\n",
      "estEqn+=\"\\\\left[\"    +stk+v00+v01+spc+stk+v10+v11+\"\\\\right]$\\'\"\n",
      "figure(2,figsize=(9,6.5))\n",
      "subplot(1,2,1).set_aspect('equal')\n",
      "title(r'Unit Ball in $\\Re^2$',fontsize=14)\n",
      "text(-1.6,1.50,eval(estEqn),fontsize=14)\n",
      "#Use a tilde to indicate these are estimates\n",
      "eqnUSV=r'$\\mathrm{\\tilde{A} = \\tilde{U}\\/\\tilde{\\Sigma}\\/\\tilde{V}^{\\/T}}$'\n",
      "text(-1.4,1.75,eqnUSV,fontsize=16)\n",
      "#text(.5,V[0,0],r'$ \\hat v_0$',rotation=25,fontsize=16)\n",
      "theta=180.0/pi * arg[i]\n",
      "text(V[1,0]*0.5,V[0,0]*0.5,r'$\\hat v_0$',rotation=theta, fontsize=16,\\\n",
      "horizontalalignment='center',verticalalignment='bottom')\n",
      "#text(-.1,.5,r'$ \\hat v_1$',rotation = -65,fontsize=16)\n",
      "theta=180.0/pi * arg[j]\n",
      "text(V[1,1]*0.5,V[0,1]*0.5,r'$\\hat v_1$',rotation=theta, fontsize=16, \\\n",
      "horizontalalignment='center',verticalalignment='bottom')\n",
      "ylabel(r'$x_0$',fontsize=14)\n",
      "xlabel(r'$x_1$',fontsize=14)\n",
      "plot(x1.list,x0.list)\n",
      "text(x1[i],x0[i],'x',horizontalalignment='center',\\\n",
      "                     verticalalignment='center')\n",
      "text(x1[j],x0[j],'x',horizontalalignment='center',\\\n",
      "                     verticalalignment='center')\n",
      "plot([0,x1[i]],[0,x0[i]],'k')\n",
      "plot([0,x1[j]],[0,x0[j]],'g')\n",
      "subplot(1,2,2).set_aspect('equal')\n",
      "title(r'Transformed Unit Ball in $\\Re^2$',fontsize=14)\n",
      "ylabel(r'$y_0$',fontsize=14)\n",
      "xlabel(r'$y_1$',fontsize=14)\n",
      "plot(y1.list,y0.list)\n",
      "text(y1[i],y0[i],'x',horizontalalignment='center',\\\n",
      "                     verticalalignment='center')\n",
      "text(y1[j],y0[j],'x',horizontalalignment='center',\\\n",
      "                     verticalalignment='center')\n",
      "cos0=y1[i]/sigma0;sin0=y0[i]/sigma0;cos1=y1[j]/sigma1;sin1=y0[j]/sigma1\n",
      "theta=arccos(cos0)*180.0/pi\n",
      "text(y1[i]/2,y0[i]/2,r'$ \\sigma_0 \\hat u_0$',rotation=theta,fontsize=16,\\\n",
      "                    horizontalalignment='center',verticalalignment='top')\n",
      "theta=arccos(cos1)*180.0/pi\n",
      "text(y1[j]/2,y0[j]/2,r'$ \\sigma_1 \\hat u_1$',rotation=theta,fontsize=16,\\\n",
      "                 horizontalalignment='center',verticalalignment='bottom')\n",
      "plot([0,y1[i]],[0,y0[i]],'k')\n",
      "plot([0,y1[j]],[0,y0[j]],'g')\n",
      "show()"
     ],
     "language": "python",
     "metadata": {},
     "outputs": [],
     "prompt_number": 8
    },
    {
     "cell_type": "code",
     "collapsed": false,
     "input": [],
     "language": "python",
     "metadata": {},
     "outputs": [],
     "prompt_number": 8
    }
   ],
   "metadata": {}
  }
 ]
}