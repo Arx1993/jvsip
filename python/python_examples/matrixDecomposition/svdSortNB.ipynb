{
 "metadata": {
  "name": "",
  "signature": "sha256:01d14e15621ae32bc39592f823914eca0598c9981c352c56d8f009a6e5d7953d"
 },
 "nbformat": 3,
 "nbformat_minor": 0,
 "worksheets": [
  {
   "cells": [
    {
     "cell_type": "markdown",
     "metadata": {},
     "source": [
      "### Sort diagonal entries\n",
      "When doing an SVD calculation upon completion of the iteration process, indicated by the zeroing of all supper diagonal entries, we are left with vector of (positive) singular values. The proper presentation of singular values are from largest in the (0,0) entry to smallest in the (n-1,n-1) entry. We can do this with the sort method; however we need to rememeber we are actually sorting the entries in a diagonal matrix. The sorting is actually a reordering of the rows and columns of the diagonal matrix so the entries are in their proper place along the diagonal of the matrix. This is expressed by rordering the columns of the left update matrix, and the rows of the right update matrix, to mirror the reordering of the singular values."
     ]
    },
    {
     "cell_type": "markdown",
     "metadata": {},
     "source": [
      "#### Example\n",
      "For matrix $A$ of size (3,3) which has been decompsed $A=L D R$ where $D$ is $\\left[ 2, 3, 1\\right]$"
     ]
    },
    {
     "cell_type": "markdown",
     "metadata": {},
     "source": [
      "$\\begin{bmatrix}1&0&0\\\\\\\\0&1&0\\\\\\\\0&0&1\\end{bmatrix}\n",
      "\\begin{bmatrix}2&0&0\\\\\\\\0&3&0\\\\\\\\0&0&1\\end{bmatrix}\n",
      "\\begin{bmatrix}1&0&0\\\\\\\\0&1&0\\\\\\\\0&0&1\\end{bmatrix} \\rightarrow$"
     ]
    },
    {
     "cell_type": "markdown",
     "metadata": {},
     "source": [
      "$\\begin{bmatrix}\n",
      "0.0& 1.0& 0.0\\\\\\\\\n",
      "1.0& 0.0& 0.0\\\\\\\\\n",
      "0.0& 0.0& 1.0 \\end{bmatrix}\n",
      "\\begin{bmatrix} 0.0& 1.0& 0.0\\\\\\\\\n",
      "1.0& 0.0& 0.0\\\\\\\\\n",
      "0.0& 0.0& 1.0 \\end{bmatrix}\n",
      "\\begin{bmatrix} 2.0& 0.0& 0.0\\\\\\\\\n",
      "0.0& 3.0& 0.0\\\\\\\\\n",
      "0.0& 0.0& 1.0 \\end{bmatrix}\n",
      "\\begin{bmatrix} 0.0& 1.0& 0.0\\\\\\\\\n",
      "1.0& 0.0& 0.0\\\\\\\\\n",
      "0.0& 0.0& 1.0 \\end{bmatrix}\n",
      "\\begin{bmatrix} 0.0& 1.0& 0.0\\\\\\\\\n",
      "1.0& 0.0& 0.0\\\\\\\\\n",
      "0.0& 0.0& 1.0\n",
      "\\end{bmatrix} \\rightarrow$"
     ]
    },
    {
     "cell_type": "markdown",
     "metadata": {},
     "source": [
      "$\\begin{bmatrix}\n",
      "0.0& 1.0& 0.0\\\\\\\\\n",
      "1.0& 0.0& 0.0\\\\\\\\\n",
      "0.0& 0.0& 1.0 \\end{bmatrix}\n",
      "\\begin{bmatrix} 0.0& 3.0& 0.0\\\\\\\\\n",
      "2.0& 0.0& 0.0\\\\\\\\\n",
      "0.0& 0.0& 1.0 \\end{bmatrix}\n",
      "\\begin{bmatrix} 0.0& 1.0& 0.0\\\\\\\\\n",
      "1.0& 0.0& 0.0\\\\\\\\\n",
      "0.0& 0.0& 1.0 \\end{bmatrix}\n",
      "\\begin{bmatrix} 0.0& 1.0& 0.0\\\\\\\\\n",
      "1.0& 0.0& 0.0\\\\\\\\\n",
      "0.0& 0.0& 1.0\n",
      "\\end{bmatrix}\\rightarrow$"
     ]
    },
    {
     "cell_type": "markdown",
     "metadata": {},
     "source": [
      "$\\begin{bmatrix}\n",
      "0.0& 1.0& 0.0\\\\\\\\\n",
      "1.0& 0.0& 0.0\\\\\\\\\n",
      "0.0& 0.0& 1.0 \\end{bmatrix}\n",
      "\\begin{bmatrix} 3.0& 0.0& 0.0\\\\\\\\\n",
      "0.0& 2.0& 0.0\\\\\\\\\n",
      "0.0& 0.0& 1.0 \\end{bmatrix}\n",
      "\\begin{bmatrix} 0.0& 1.0& 0.0\\\\\\\\\n",
      "1.0& 0.0& 0.0\\\\\\\\\n",
      "0.0& 0.0& 1.0\n",
      "\\end{bmatrix}$"
     ]
    },
    {
     "cell_type": "markdown",
     "metadata": {},
     "source": [
      "Note if $A$ is not square then the nullspace vectors are not affected by the reordering."
     ]
    },
    {
     "cell_type": "markdown",
     "metadata": {},
     "source": [
      "#### Example"
     ]
    },
    {
     "cell_type": "code",
     "collapsed": false,
     "input": [
      "import pyJvsip as pv\n",
      "from decompositionUtilities import eye\n",
      "B=eye('mview_d',3)\n",
      "B[0,0]=2;B[1,1]=3\n",
      "B.mprint('%.1f')"
     ],
     "language": "python",
     "metadata": {},
     "outputs": [
      {
       "output_type": "stream",
       "stream": "stdout",
       "text": [
        "[ 2.0  0.0  0.0;\n",
        "  0.0  3.0  0.0;\n",
        "  0.0  0.0  1.0]\n",
        "\n"
       ]
      }
     ],
     "prompt_number": 1
    },
    {
     "cell_type": "code",
     "collapsed": false,
     "input": [
      "def svdSort(L,d,R):\n",
      "    n=d.length;\n",
      "    indx = d.sort('BYVALUE','DESCENDING')\n",
      "    L[:,:n].permute(indx.copy,'COL')\n",
      "    R.permute(indx,'ROW')"
     ],
     "language": "python",
     "metadata": {},
     "outputs": [],
     "prompt_number": 2
    },
    {
     "cell_type": "code",
     "collapsed": false,
     "input": [
      "d=B.diagview(0)\n",
      "d.mprint('%.1f')"
     ],
     "language": "python",
     "metadata": {},
     "outputs": [
      {
       "output_type": "stream",
       "stream": "stdout",
       "text": [
        "[ 2.0  3.0  1.0]\n",
        "\n"
       ]
      }
     ],
     "prompt_number": 3
    },
    {
     "cell_type": "code",
     "collapsed": false,
     "input": [
      "indx=d.copy.sort('BYVALUE','DESCENDING')\n",
      "L1=B.empty.identity.permute(indx,'ROW')\n",
      "L1I=B.empty.identity.permute(indx,'COL')\n",
      "R1I=B.empty.identity.permute(indx,'ROW')\n",
      "R1=B.empty.identity.permute(indx,'COL')\n",
      "B1=L1I.prod(B).prod(R1I)"
     ],
     "language": "python",
     "metadata": {},
     "outputs": [],
     "prompt_number": 4
    },
    {
     "cell_type": "code",
     "collapsed": false,
     "input": [
      "L1.prod(L1I).mprint('%.0f');B.mprint('%.0f');R1I.prod(R1).mprint('%.0f')"
     ],
     "language": "python",
     "metadata": {},
     "outputs": [
      {
       "output_type": "stream",
       "stream": "stdout",
       "text": [
        "[ 1  0  0;\n",
        "  0  1  0;\n",
        "  0  0  1]\n",
        "\n",
        "[ 2  0  0;\n",
        "  0  3  0;\n",
        "  0  0  1]\n",
        "\n",
        "[ 1  0  0;\n",
        "  0  1  0;\n",
        "  0  0  1]\n",
        "\n"
       ]
      }
     ],
     "prompt_number": 5
    },
    {
     "cell_type": "code",
     "collapsed": false,
     "input": [
      "L1.mprint('%.1f');L1I.mprint('%.1f');B.mprint('%.1f');R1I.mprint('%.1f');R1.mprint('%.1f')"
     ],
     "language": "python",
     "metadata": {},
     "outputs": [
      {
       "output_type": "stream",
       "stream": "stdout",
       "text": [
        "[ 0.0  1.0  0.0;\n",
        "  1.0  0.0  0.0;\n",
        "  0.0  0.0  1.0]\n",
        "\n",
        "[ 0.0  1.0  0.0;\n",
        "  1.0  0.0  0.0;\n",
        "  0.0  0.0  1.0]\n",
        "\n",
        "[ 2.0  0.0  0.0;\n",
        "  0.0  3.0  0.0;\n",
        "  0.0  0.0  1.0]\n",
        "\n",
        "[ 0.0  1.0  0.0;\n",
        "  1.0  0.0  0.0;\n",
        "  0.0  0.0  1.0]\n",
        "\n",
        "[ 0.0  1.0  0.0;\n",
        "  1.0  0.0  0.0;\n",
        "  0.0  0.0  1.0]\n",
        "\n"
       ]
      }
     ],
     "prompt_number": 6
    },
    {
     "cell_type": "code",
     "collapsed": false,
     "input": [
      "L1.mprint('%.1f');B1.mprint('%.1f');R1.mprint('%.1f')"
     ],
     "language": "python",
     "metadata": {},
     "outputs": [
      {
       "output_type": "stream",
       "stream": "stdout",
       "text": [
        "[ 0.0  1.0  0.0;\n",
        "  1.0  0.0  0.0;\n",
        "  0.0  0.0  1.0]\n",
        "\n",
        "[ 3.0  0.0  0.0;\n",
        "  0.0  2.0  0.0;\n",
        "  0.0  0.0  1.0]\n",
        "\n",
        "[ 0.0  1.0  0.0;\n",
        "  1.0  0.0  0.0;\n",
        "  0.0  0.0  1.0]\n",
        "\n"
       ]
      }
     ],
     "prompt_number": 7
    },
    {
     "cell_type": "code",
     "collapsed": false,
     "input": [
      "L1.prod(B1).prod(R1).mprint('%.1f')"
     ],
     "language": "python",
     "metadata": {},
     "outputs": [
      {
       "output_type": "stream",
       "stream": "stdout",
       "text": [
        "[ 2.0  0.0  0.0;\n",
        "  0.0  3.0  0.0;\n",
        "  0.0  0.0  1.0]\n",
        "\n"
       ]
      }
     ],
     "prompt_number": 8
    }
   ],
   "metadata": {}
  }
 ]
}