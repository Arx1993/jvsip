{
 "metadata": {
  "name": "decompositionUtilitiesNB"
 },
 "nbformat": 3,
 "nbformat_minor": 0,
 "worksheets": [
  {
   "cells": [
    {
     "cell_type": "markdown",
     "metadata": {},
     "source": [
      "## Decompostion Utilities"
     ]
    },
    {
     "cell_type": "markdown",
     "metadata": {},
     "source": [
      "### Notation and Simple Relations to pyJvsip\n",
      "#### Vector   \n",
      "A vector is designated $\\vec{x}$ and generally uses a lower case. For math purposes a vector should be considered equivalent to a single column of a matrix; although for program puposes there are differeces between vector and matrice views. \n",
      "#### Vector Norm and View Methods   \n",
      "Vector and Matrix norms are not supported in C VSIPL but have been included with the pyJvsip implementation. For mathematical definitions of norms the reader should consult a linear algebra text or search the internet. The norms supported in pyJvsip are the one norm (norm1), the two norm (norm2), the infinity norm (normInf) and the Frobenius norm (normFro).\n",
      "A vector norm is designated as $\\parallel \\vec{x} \\parallel $. A two norm as ${\\parallel \\vec{x} \\parallel }_{\\:2} $\n",
      "#### Unit Vectors   \n",
      "A unit vector is designated as in $\\hat{x}$. To produce a unit vector $\\hat{x} = {\\vec{x} \\over {{\\parallel \\vec{x} \\parallel }_{2}}}$\n",
      "#### dot, jdot and outer\n",
      "Note that `dot`, `jdot`, and `outer` are only defined for views of type vector. \n",
      "A math indicator like $ \\vec{x} \\\\; \\vec{y}^H $ in done using an outer product and produces a view of type matrix. An indicator like $\\vec{x}^H \\\\; \\vec{y} $ is done using `jdot` and produces a scalar. An indicator like $\\vec{x}^T \\\\; \\vec{y} $ is done using `dot` and produces a scalar.\n"
     ]
    },
    {
     "cell_type": "code",
     "collapsed": false,
     "input": [
      "import pyJvsip as pv"
     ],
     "language": "python",
     "metadata": {},
     "outputs": [],
     "prompt_number": 2
    },
    {
     "cell_type": "markdown",
     "metadata": {},
     "source": [
      "#### Identity Matrix\n",
      "The function eye(t,n) where t is a pyJvsip matrix type and n is an integer creates and returns an identity matrix of size n and type t. This is a convenience function."
     ]
    },
    {
     "cell_type": "code",
     "collapsed": false,
     "input": [
      "def eye(t,n): # create and return an identity matrix of size n and type t\n",
      "    return pv.create(t,n,n).identity"
     ],
     "language": "python",
     "metadata": {},
     "outputs": [],
     "prompt_number": 3
    },
    {
     "cell_type": "markdown",
     "metadata": {},
     "source": [
      "#### Sign Function\n",
      "The sign function is used for Householder and Givens calculations. It is defined in several texts although the text I am using here is the LAPACK Working Notes document #148. "
     ]
    },
    {
     "cell_type": "code",
     "collapsed": false,
     "input": [
      "def sign(a_in): # see  LAPACK Working Notes 148 for definition of sign\n",
      "    if type(a_in) is int:\n",
      "        a=float(a_in)\n",
      "    else:\n",
      "        a=a_in\n",
      "    if type(a) is float or type(a) is complex:\n",
      "        t=pv.vsip_hypot_d(a.real,a.imag)\n",
      "        if t == 0.0:\n",
      "            return 1.0\n",
      "        elif a.imag==0.0:\n",
      "            if a.real < 0.0:\n",
      "                return -1.0\n",
      "            else:\n",
      "                return 1.0\n",
      "        else:\n",
      "            return a/t\n",
      "    else:\n",
      "        print('sign function only works on scalars')\n",
      "        return"
     ],
     "language": "python",
     "metadata": {},
     "outputs": [],
     "prompt_number": 4
    },
    {
     "cell_type": "markdown",
     "metadata": {},
     "source": [
      "#### Householder Vector\n",
      "The function houseVector returns a normalized householder vector.   \n",
      "Note that, in general, the householder matrix is given by   \n",
      "$H=(I-{2 \\over {v^H v}} v v^H) $  \n",
      "No matter how the householder vector is normalized this $H$ will always work."
     ]
    },
    {
     "cell_type": "code",
     "collapsed": false,
     "input": [
      "def houseVector(x): \n",
      "    \"\"\"\n",
      "     This algorithm returns a normalized householder vector 'v' such that\n",
      "     the householder projection matrix 'H' is:\n",
      "     H = I - 2 v v*\n",
      "    \"\"\"\n",
      "    if 'vview' not in x.type:\n",
      "        print('Function houseVector only works on vector views')\n",
      "        return\n",
      "    v=x.copy\n",
      "    v[0] += (sign(x[0]) * x.norm2)\n",
      "    n = v.norm2\n",
      "    if n == 0.0:\n",
      "        v[0] = 1.0\n",
      "    else:\n",
      "        v /= n\n",
      "    return v"
     ],
     "language": "python",
     "metadata": {},
     "outputs": [],
     "prompt_number": 5
    },
    {
     "cell_type": "markdown",
     "metadata": {},
     "source": [
      "#### Householder Matrix\n",
      "The function house creates and returns a householder matrix.  \n",
      "Note that generally you would not want to do this for performance and memory management reasons;  \n",
      "however, this is the most straight forward representation when you are trying to wrap your head  \n",
      "around some new concept."
     ]
    },
    {
     "cell_type": "code",
     "collapsed": false,
     "input": [
      "def house(v): # create and return househoulder rotation matrix\n",
      "              # vector v; works for any valid househoulder vector\n",
      "    t={'vview_f':'mview_f','vview_d':'mview_d',\n",
      "       'cvview_f':'cmview_f','cvview_d':'cmview_d'}\n",
      "    return(eye(t[v.type],v.length) - v.outer(2.0/v.jdot(v),v))"
     ],
     "language": "python",
     "metadata": {},
     "outputs": [],
     "prompt_number": 6
    },
    {
     "cell_type": "markdown",
     "metadata": {},
     "source": [
      "#### QR Decomposition Representation\n",
      "The function QRD_inPlace(A) will, in-place, do a $Q R$ factorization of A.  \n",
      "The QRD_inPlace function stores the $R$ matrix of the $Q R$ factorization  \n",
      "in the upper triangular portion of the input matrix and the v[1:] portion  \n",
      "of the householder vectors in the remaining lower triangular portion of the  \n",
      "input matrix. The householder vectors are normalized so that v[0] is one.   \n",
      "For more info see Goulub & VanLoan; Matrix Calculations"
     ]
    },
    {
     "cell_type": "code",
     "collapsed": false,
     "input": [
      "def QRD_inPlace(A):\n",
      "    m=A.collength\n",
      "    n=A.rowlength\n",
      "    if m < n:\n",
      "        print('The input matrix must have collength >= rowlength.')\n",
      "        print('For matrices where m > n use the transpose.')\n",
      "    for i in range(n-1):\n",
      "        x=A[i:,i:].colview(0)\n",
      "        v=houseVector(x)\n",
      "        v /= v[0]\n",
      "        A[i:,i:]=house(v).prod(A[i:,i:])\n",
      "        x[1:]=v[1:]\n",
      "    if m > n: #do last column if matrix not square\n",
      "        i=n-1\n",
      "        x=A[i:,i:].colview(0)\n",
      "        v=houseVector(x)\n",
      "        v /= v[0]\n",
      "        A[i:,i:]=house(v).prod(A[i:,i:])\n",
      "        x[1:]=v[1:]"
     ],
     "language": "python",
     "metadata": {},
     "outputs": [],
     "prompt_number": 7
    },
    {
     "cell_type": "markdown",
     "metadata": {},
     "source": [
      "#### Householder Matrix Products\n",
      "The function houseProd(v,A), where v is a householder vector and A is a matrix  \n",
      "(size must be conformant), will return $ H A = (I - \\beta v v^H) A = A - \\beta v (v^H A) = A - \\beta v w^H$.  \n",
      "Done in-place. The output is in $A$"
     ]
    },
    {
     "cell_type": "code",
     "collapsed": false,
     "input": [
      "def houseProd(v,A):\n",
      "    beta = 2.0/v.jdot(v)\n",
      "    v.conj;w=v.prod(A).conj;v.conj\n",
      "    A -= v.outer(beta,w)"
     ],
     "language": "python",
     "metadata": {},
     "outputs": [],
     "prompt_number": 8
    },
    {
     "cell_type": "markdown",
     "metadata": {},
     "source": [
      "The function prodHouse(A,v), where v is a householder vector and A is a matrix  \n",
      "(size must be conform ant), will return $ A H = A (I - \\beta v v^H) = A - \\beta (A v) v^H = A - \\beta w v^H $  \n",
      "Done in-place. The output is in $A$"
     ]
    },
    {
     "cell_type": "code",
     "collapsed": false,
     "input": [
      "def prodHouse(A,v):\n",
      "    beta = 2.0/v.jdot(v)\n",
      "    w=A.prod(v)\n",
      "    A-=w.outer(beta,v)"
     ],
     "language": "python",
     "metadata": {},
     "outputs": [],
     "prompt_number": 9
    },
    {
     "cell_type": "markdown",
     "metadata": {},
     "source": [
      "#### Q Matrix Product\n",
      "The function `fullQProd(Q,B)` takes a matrix produced by `QRD_inPlace`   \n",
      "(containing $Q$ information in householder vectors) and does a matrix product of $Q$ times $B$.  \n",
      "The result is returned in a new matrix."
     ]
    },
    {
     "cell_type": "code",
     "collapsed": false,
     "input": [
      "def fullQProd(Q,B):\n",
      "    m=Q.collength\n",
      "    n=B.rowlength\n",
      "    U=B.copy\n",
      "    if m > n: #extract last column if matrix is not square\n",
      "        i=n-1\n",
      "        v=Q[i:,i:].colview(0).copy\n",
      "        v[0]=1\n",
      "        houseProd(v,U[i:,i:])\n",
      "    for i in range(n-2,-1,-1):\n",
      "        v=Q[i:,i:].colview(0).copy\n",
      "        v[0]=1\n",
      "        houseProd(v,U[i:,i:])\n",
      "    return U"
     ],
     "language": "python",
     "metadata": {},
     "outputs": [],
     "prompt_number": 10
    },
    {
     "cell_type": "markdown",
     "metadata": {},
     "source": [
      "#### Q Matrix\n",
      "Matrix B is created using function `QRD_inPlace`.   \n",
      "The function `QmatExtract(B)` will create a new matrix containing the $Q$ factor of the $Q R$ factorization  \n",
      "using the householder vectors stored in the columns of matrix $B$."
     ]
    },
    {
     "cell_type": "code",
     "collapsed": false,
     "input": [
      "def QmatExtract(B):\n",
      "    m=B.collength\n",
      "    n=B.rowlength\n",
      "    Q=eye(B.type,m)\n",
      "    if m > n: #extract last column if matrix is not square\n",
      "        i=n-1\n",
      "        v=B[i:,i:].colview(0).copy\n",
      "        v[0]=1\n",
      "        houseProd(v,Q[i:,i:])\n",
      "    for i in range(n-2,-1,-1):\n",
      "        v=B[i:,i:].colview(0).copy\n",
      "        v[0]=1\n",
      "        houseProd(v,Q[i:,i:])\n",
      "    return Q"
     ],
     "language": "python",
     "metadata": {},
     "outputs": [],
     "prompt_number": 11
    },
    {
     "cell_type": "markdown",
     "metadata": {},
     "source": [
      "#### R Matrix\n",
      "Matrix B is created using function `QRD_inPlace`.  \n",
      "The function `RmatExtract(B)` will create a new matrix containing the $R$ factor of the QR factorization.  \n",
      "Basically a copy of $B$ is made and the householder vectors in the lower triangular portion are zeroed."
     ]
    },
    {
     "cell_type": "code",
     "collapsed": false,
     "input": [
      "def RmatExtract(B):\n",
      "    R=B.copy\n",
      "    m=A.collength\n",
      "    for i in range(1,m):\n",
      "        R.diagview(-i).fill(0.0)\n",
      "    return R"
     ],
     "language": "python",
     "metadata": {},
     "outputs": [],
     "prompt_number": 12
    },
    {
     "cell_type": "markdown",
     "metadata": {},
     "source": [
      "The function `houseQR` produces, out-of-place, the Factors $Q$ and $R$ of a QR decomposition"
     ]
    },
    {
     "cell_type": "code",
     "collapsed": false,
     "input": [
      "def houseQR(A):\n",
      "    R=A.copy\n",
      "    m=A.collength\n",
      "    n=A.rowlength\n",
      "    if m < n:\n",
      "        print('The input matrix must have collength >= rowlength.')\n",
      "        print('for matrices where m > n use the transpose')\n",
      "    for i in range(n-1):\n",
      "        x=R[i:,i:].colview(0)\n",
      "        v=houseVector(x)\n",
      "        v /= v[0]\n",
      "        houseProd(v,R[i:,i:])\n",
      "        x[1:]=v[1:]\n",
      "    if m > n: #do last column if matrix not square\n",
      "        i=n-1\n",
      "        x=R[i:,i:].colview(0)\n",
      "        v=houseVector(x)\n",
      "        v /= v[0]\n",
      "        houseProd(v,R[i:,i:])\n",
      "        x[1:]=v[1:]\n",
      "    #accumulate Q\n",
      "    Q = QmatExtract(R)\n",
      "    #zero entries of R\n",
      "    for i in range(1,m):\n",
      "        R.diagview(-i).fill(0.0)\n",
      "    return (Q,R)"
     ],
     "language": "python",
     "metadata": {},
     "outputs": [],
     "prompt_number": 13
    },
    {
     "cell_type": "markdown",
     "metadata": {},
     "source": [
      "#### Householder Bidiagonalization"
     ]
    },
    {
     "cell_type": "markdown",
     "metadata": {},
     "source": [
      "The function `bidiag(A)` will (out of place) produce a new matrix with the essential  \n",
      "householder vectors stored in the zeored elements and a bidiagonalization elements  \n",
      "stored in the main diagonal and the first super-diagonal.  \n",
      "This is the first step to SVD computation"
     ]
    },
    {
     "cell_type": "code",
     "collapsed": false,
     "input": [
      "def bidiag(A): # m >= n\n",
      "    \"\"\"\n",
      "      B=bidiag(A)\n",
      "        returns, out of place, the bidiagonal decomposition of A.\n",
      "        The esential househoulder vectors are stored in the zeroed \n",
      "        entries of B.\n",
      "    \"\"\"\n",
      "    B=A.copy\n",
      "    m=B.collength\n",
      "    n=B.rowlength\n",
      "    if m < n:\n",
      "        print('The input matrix must have collength >= rowlength.')\n",
      "        print('for matrices where m > n use the transpose')\n",
      "    for i in range(n-1):\n",
      "        x=B[i:,i:].colview(0)\n",
      "        v=houseVector(x)\n",
      "        v /= v[0]\n",
      "        houseProd(v,B[i:,i:])\n",
      "        x[1:]=v[1:]\n",
      "        if i < n-2:\n",
      "            j=i+1\n",
      "            x = B[i:,j:].rowview(0)\n",
      "            #v=houseVector(x.conj);x.conj \n",
      "            v=houseVector(x).conj \n",
      "            v /= v[0]\n",
      "            prodHouse(B[i:,j:],v)#=B[i:,j:].prod(house(v))\n",
      "            x[1:]=v[1:]\n",
      "    if m > n: #do last column if matrix not square\n",
      "        i=n-1\n",
      "        x=B[i:,i:].colview(0)\n",
      "        v=houseVector(x)\n",
      "        v /= v[0]\n",
      "        houseProd(v,B[i:,i:])\n",
      "        x[1:]=v[1:]\n",
      "    return B\n",
      "def bidiagExtract(B):\n",
      "    \"\"\"\n",
      "      B=bidiagExtract(B0)\n",
      "        Returns, out of place, a matrix with the bidiagonal entries. \n",
      "        Input matrix is one produced by B0=bidiag(A)\n",
      "    \"\"\"\n",
      "    B0=B.empty.fill(0.0)\n",
      "    B0.diagview(0)[:] = B.diagview(0)\n",
      "    B0.diagview(1)[:] = B.diagview(1)\n",
      "    return B0\n",
      "def UmatExtract(B):\n",
      "    \"\"\"\n",
      "      U=UmatExtract(B0)\n",
      "        returns, out of place, the U matrix of the bidiagonal \n",
      "        decomposition A=UBV^H given the result of bidiag routine \n",
      "        B0=bidiag(A)\n",
      "    \"\"\"\n",
      "    m=B.collength\n",
      "    n=B.rowlength\n",
      "    U=eye(B.type,m)\n",
      "    if m > n: #extract last column if matrix is not square\n",
      "        i=n-1\n",
      "        v=B[i:,i:].colview(0).copy\n",
      "        v[0]=1\n",
      "        houseProd(v,U[i:,i:])\n",
      "    for i in range(n-2,-1,-1):\n",
      "        v=B[i:,i:].colview(0).copy\n",
      "        v[0]=1\n",
      "        houseProd(v,U[i:,i:])\n",
      "    return U\n",
      "def VHmatExtract(B):\n",
      "    \"\"\"\n",
      "      VH=UmatExtract(B0)\n",
      "        returns, out of place, the hermtian V matrix of the bidiagonal \n",
      "        decomposition A=UBV^H given the result of bidiag routine \n",
      "        B0=bidiag(A)\n",
      "    \"\"\"\n",
      "    m=B.collength\n",
      "    n=B.rowlength\n",
      "    V=eye(B.type,n)\n",
      "    for i in range(n-3,-1,-1):\n",
      "        j=i+1\n",
      "        v=B[i:,j:].rowview(0).copy\n",
      "        v[0]=1\n",
      "        prodHouse(V[j:,j:],v)#=V[j:,j:].prod(house(v))\n",
      "    return V"
     ],
     "language": "python",
     "metadata": {},
     "outputs": [],
     "prompt_number": 3
    },
    {
     "cell_type": "markdown",
     "metadata": {},
     "source": [
      "## Givens rotations"
     ]
    },
    {
     "cell_type": "markdown",
     "metadata": {},
     "source": [
      "We define 4 matrices around the givens coefficients, $(c,s)$, which allow us to decompose a matrix.\n"
     ]
    },
    {
     "cell_type": "markdown",
     "metadata": {},
     "source": [
      "$G \\\\;= \\\\: \\begin{bmatrix} c & s \\\\\\\\ -\\bar{s} & c \\end{bmatrix} $   $\\\\:\\;\\\\:$ $G_T\\\\;=\\\\, \\begin{bmatrix} c & -\\bar{s} \\\\\\\\ s & c \\end{bmatrix}$   "
     ]
    },
    {
     "cell_type": "markdown",
     "metadata": {},
     "source": [
      "$G^H = \\begin{bmatrix} c & -s \\\\\\\\ \\bar{s} & c \\end{bmatrix} $   $\\\\:\\\\:$  ${G_T}^H=\\begin{bmatrix} c & \\bar{s} \\\\\\\\ -s & c \\end{bmatrix}$"
     ]
    },
    {
     "cell_type": "markdown",
     "metadata": {},
     "source": [
      "Matrix $G$ is used to zero elements in a column   \n",
      "Matrix $G^H$ is the inverse of G and is used when accumulating the decomposition matrix on the left   \n",
      "Matrix $G_T$ is used to zero elements in a row    \n",
      "Matrix ${G_T}^H$ is the inverse of $G_T$ and is used when accumulating the decomposition matrix on the right."
     ]
    },
    {
     "cell_type": "markdown",
     "metadata": {},
     "source": [
      "So we have   \n",
      "$ A = ({G_i}^H {G_{i-1}}^H \\ldots {G_0}^H)( G_0 G_1 \\ldots G_i) A ({G_T}_0 {G_T}_1 \\ldots {G_T}_i)({{G_T}_i}^H{{G_T}_{i-1}}^H\\ldots{{G_T}_0}^H)\\\\,=\\\\,L\\\\,D\\\\,R$"
     ]
    },
    {
     "cell_type": "markdown",
     "metadata": {},
     "source": [
      "Where    \n",
      "$\\\\;\\\\;\\\\;\\\\;L = {G_i}^H {G_{i-1}}^H \\ldots {G_0}^H $  \n",
      "$\\\\;\\\\;\\\\;\\\\;D = ( G_0 G_1 \\ldots G_i) A ({G_T}_0 {G_T}_1 \\ldots {G_T}_i) $   \n",
      "$\\\\;\\\\;\\\\;\\\\;R = {{G_T}_i}^H{{G_T}_{i-1}}^H\\ldots{{G_T}_0}^H\\\\,$   \n",
      "are the three matrices $ A $ has been decomposed to. The actual decomposition depends on    \n",
      "how the $(x,y)$ elements are chosen and the order in which they are chosen when    \n",
      "calculating the givens coefficients."
     ]
    },
    {
     "cell_type": "markdown",
     "metadata": {},
     "source": [
      "### Givens Coefficients  \n",
      "The function  \n",
      "$\\;\\;\\;\\;\\;$c,s,r = `givensCoef(x,y)`\n",
      "returns numbers c,s and r such that   \n",
      "  \n",
      "$\\begin{bmatrix} c & s \\\\\\\\ -\\bar{s} & c \\end{bmatrix} \\begin{bmatrix} x \\\\\\\\ y \\end{bmatrix} = \\begin{bmatrix} r \\\\\\\\ 0 \\end{bmatrix} $  \n",
      "  \n",
      "where $\\bar{s}$ is the conjugate of $s$.  Note (it turns out that) $c$ is always real.  \n",
      "This algorithm is adapted from Algorithm 1 of LAPACK working notes lawn148\n",
      "\n",
      "Note that the transpose of $G$ denoted $G_T$ (not the hermetian of G) yields  \n",
      "$ {\\left( {\\begin{bmatrix} c & s \\\\\\\\ -\\bar{s} & c \\end{bmatrix} \\begin{bmatrix} x \\\\\\\\ y \\end{bmatrix}} \\right)}^T\n",
      "= {\\left( {\\begin{bmatrix} x & y \\end{bmatrix} \\begin{bmatrix} c & -\\bar{s} \\\\\\\\s  & c \\end{bmatrix} } \\right)}=\\begin{bmatrix} r & 0 \\end{bmatrix} $  \n",
      "gives a method for zeroing an element in a row."
     ]
    },
    {
     "cell_type": "code",
     "collapsed": false,
     "input": [
      "def givensCoef(x1_in,x2_in):\n",
      "    \"\"\" Code adapted from Algorithm 1 of LAPACK working Notes lawn148\n",
      "    \"\"\"\n",
      "    if type(x1_in) is int:\n",
      "        x1=float(x1_in)\n",
      "    else:\n",
      "        x1 = x1_in\n",
      "    if type(x2_in) is int:\n",
      "        x2=float(x2_in)\n",
      "    else:\n",
      "        x2 = x2_in\n",
      "    if type(x1) is float and type(x2) is float:\n",
      "        t=pv.vsip_hypot_d(x1,x2)\n",
      "        if x2 == 0.0:\n",
      "            return (1.0,0.0,x1)\n",
      "        elif x1 == 0.0:\n",
      "            return (0.0,sign(x2),t)\n",
      "        else: # return (c,s,r)\n",
      "            sn=sign(x1)\n",
      "            return(pv.vsip_mag_d(x1)/t,sn*x2/t,sn*t)\n",
      "    elif type(x1) is complex or type(x2) is complex:\n",
      "        mx1=pv.vsip_hypot_d(x1.real,x1.imag)\n",
      "        mx2=pv.vsip_hypot_d(x2.real,x2.imag)\n",
      "        if mx2 == 0.0:\n",
      "            return(1.0,0.0,x1)\n",
      "        elif mx1 == 0.0:\n",
      "            return(0,sign(x2.conjugate()),mx2)\n",
      "        else:\n",
      "            t=pv.vsip_hypot_d(mx1,mx2)\n",
      "            c=mx1/t\n",
      "            sn=sign(x1)\n",
      "            s=(sn * x2.conjugate())/t\n",
      "            r=sn * t\n",
      "            return(c,s,r)\n",
      "    else:\n",
      "        print('Type <:'+repr(type(x1)) + ':> or <:'+ \\\n",
      "             repr(type(x2))+':> not recognized by givensCoef')\n",
      "        return"
     ],
     "language": "python",
     "metadata": {},
     "outputs": [],
     "prompt_number": 15
    },
    {
     "cell_type": "markdown",
     "metadata": {},
     "source": [
      "### Givens Matrix   \n",
      "For this document an extended givens matrix is an identity matrix (of the proper size for a matrix   \n",
      "multiply) with two diagonal elements replaced with $c\\;$ from the `givensCoef` function. If the    \n",
      "elements are placed at index $\\left( i,i \\right)\\;$ and $\\left( j,j \\right)\\;$ where $ i \\lt j \\;$  \n",
      "then the $s\\;$ from the `givensCoef` function is placed at $\\left( i, j \\right)\\;$   \n",
      "and $- \\bar{s}\\;$ is placed at $\\left( j, i \\right)\\;$. The extended givens matrix is never   \n",
      "explicitly used but for experimentation purposes we define `givensExtract` below to produce one."
     ]
    },
    {
     "cell_type": "code",
     "collapsed": false,
     "input": [
      "# return G\n",
      "def givensExtract(t,i,j,c,s,size):\n",
      "    \"\"\"\n",
      "       Usage:\n",
      "         G=givensExtract(t,i,j,c,s,size)\n",
      "         t = type \n",
      "         i,j are index values for placement of \n",
      "         c,s which are obtained (probably) from function givensCoef. \n",
      "         size is an integer\n",
      "    \"\"\"\n",
      "    G=eye(t,size)\n",
      "    G[i,i]=c;G[j,j]=c;G[i,j]=s;G[j,i]=-s.conjugate()\n",
      "    return G"
     ],
     "language": "python",
     "metadata": {},
     "outputs": [],
     "prompt_number": 16
    },
    {
     "cell_type": "markdown",
     "metadata": {},
     "source": [
      "$G \\\\;= \\\\: \\begin{bmatrix} c & s \\\\\\\\ -\\bar{s} & c \\end{bmatrix} $   $\\\\:\\;\\\\:$ $G_T\\\\;=\\\\, \\begin{bmatrix} c & -\\bar{s} \\\\\\\\ s & c \\end{bmatrix}$   "
     ]
    },
    {
     "cell_type": "markdown",
     "metadata": {},
     "source": [
      "$G^H = \\begin{bmatrix} c & -s \\\\\\\\ \\bar{s} & c \\end{bmatrix} $   $\\\\:\\\\:$  ${G_T}^H=\\begin{bmatrix} c & \\bar{s} \\\\\\\\ -s & c \\end{bmatrix}$"
     ]
    },
    {
     "cell_type": "markdown",
     "metadata": {},
     "source": [
      "Note that   \n",
      "$ G G^H = G^H G = I $   \n",
      "and  \n",
      "$ G_T {G_T}^H = {G_T}^H G_T = I $  "
     ]
    },
    {
     "cell_type": "markdown",
     "metadata": {},
     "source": [
      "### Givens Matrix Products   \n",
      "The function `gProd` does    \n",
      "$\\\\;\\\\;\\\\;\\\\; A\\\\, = \\\\,G \\\\, A\\\\: $    \n",
      "and the function `prodG` does    \n",
      "$\\\\;\\\\;\\\\;\\\\; A\\\\,=\\\\,A\\\\, G^H\\\\:$.   \n",
      "The $\\\\,A\\\\,$ is returned as a convenience although this is an in-place operation.   \n",
      "Note that temporary vectors are created internal to the routine so this is not totally in-place."
     ]
    },
    {
     "cell_type": "code",
     "collapsed": false,
     "input": [
      "def gProd(i,j,c,s,A):\n",
      "    a1=A.rowview(i).copy\n",
      "    a2=A.rowview(j).copy\n",
      "    A.rowview(i)[:]= c * a1 + s * a2 \n",
      "    A.rowview(j)[:]= c * a2 - s.conjugate() * a1\n",
      "    return A\n",
      "def prodG(A,i,j,c,s):\n",
      "    a_i=A.colview(i).copy\n",
      "    a_j=A.colview(j).copy\n",
      "    A.colview(i)[:]= c * a_i + s.conjugate() * a_j \n",
      "    A.colview(j)[:]= c * a_j - s * a_i\n",
      "    return A"
     ],
     "language": "python",
     "metadata": {},
     "outputs": [],
     "prompt_number": 17
    },
    {
     "cell_type": "markdown",
     "metadata": {},
     "source": [
      "The function `gtProd` does  \n",
      "$\\\\;\\\\;\\\\;\\\\;A\\\\,=\\\\,{G_T}^H\\\\,A\\\\:$   \n",
      "and the function `prodGt` does   \n",
      "$\\\\;\\\\;\\\\;\\\\;A\\\\,=\\\\,A\\\\,G_T $.   \n",
      "The $A$ is returned as a convenience although this is an in-place operation.   \n",
      "Note that temporary vectors are created internal to the routine so this is not totally in-place."
     ]
    },
    {
     "cell_type": "code",
     "collapsed": false,
     "input": [
      "def gtProd(i,j,c,s,A):\n",
      "    a_i=A.rowview(i).copy\n",
      "    a_j=A.rowview(j).copy\n",
      "    A.rowview(i)[:]= c * a_i + s.conjugate() * a_j \n",
      "    A.rowview(j)[:]= c * a_j - s * a_i\n",
      "    return A\n",
      "def prodGT(A,i,j,c,s):\n",
      "    a1 = A.colview(i).copy\n",
      "    a2 = A.colview(j).copy\n",
      "    A.colview(i)[:] = c * a1 + s * a2\n",
      "    A.colview(j)[:] = c * a2 -s.conjugate() * a1\n",
      "    return A"
     ],
     "language": "python",
     "metadata": {},
     "outputs": [],
     "prompt_number": 18
    },
    {
     "cell_type": "markdown",
     "metadata": {},
     "source": [
      "#### QR Decomposition Using Givens Rotations"
     ]
    },
    {
     "cell_type": "code",
     "collapsed": false,
     "input": [
      "def givensQR(A):\n",
      "    M = A.collength\n",
      "    N = A.rowlength\n",
      "    R = A.copy\n",
      "    Q = eye(A.type,M)\n",
      "    for i in range(N):\n",
      "        B=R[i:,i:]\n",
      "        r=B[0,0]\n",
      "        for j in range(1,B.collength):\n",
      "            c,s,r=givensCoef(r,B[j,0])\n",
      "            prodG(Q,i,j+i,c,s)\n",
      "            gProd(0,j,c,s,B)\n",
      "    return (Q,R)"
     ],
     "language": "python",
     "metadata": {},
     "outputs": [],
     "prompt_number": 19
    },
    {
     "cell_type": "markdown",
     "metadata": {},
     "source": [
      "#### Bidigonalization Using Givens Rotations"
     ]
    },
    {
     "cell_type": "code",
     "collapsed": false,
     "input": [
      "def givensBidiag(A):\n",
      "    M  = A.collength\n",
      "    N  = A.rowlength\n",
      "    B  = A.copy\n",
      "    U  = eye(A.type,M)\n",
      "    VH = eye(A.type,N)\n",
      "    for i in range(N-1):\n",
      "        TC=B[i:,i:]\n",
      "        if i < N-2:\n",
      "            TR=B[i:,i+1:]\n",
      "        r=TC[0,0]\n",
      "        for j in range(1,TC.collength):\n",
      "            c,s,r=givensCoef(r,TC[j,0])\n",
      "            prodG(U,i,j+i,c,s)\n",
      "            gProd(0,j,c,s,TC)\n",
      "        if i < N-2:\n",
      "            r=TR[0,0]\n",
      "            k=i+1\n",
      "            for j in range(1,TR.rowlength):\n",
      "                c,s,r=givensCoef(r,TR[0,j])\n",
      "                gtProd(k,j+k,c,s,VH)\n",
      "                prodGT(TR,0,j,c,s)\n",
      "    if M > N:\n",
      "        i=N-1\n",
      "        TC=B[i:,i:]\n",
      "        r=TC[0,0]\n",
      "        for j in range(1,TC.collength):\n",
      "            c,s,r=givensCoef(r,TC[j,0])\n",
      "            prodG(U,i,j+i,c,s)\n",
      "            gProd(0,j,c,s,TC)\n",
      "    return (U,B,VH)"
     ],
     "language": "python",
     "metadata": {},
     "outputs": [],
     "prompt_number": 20
    },
    {
     "cell_type": "markdown",
     "metadata": {},
     "source": [
      "### Testing"
     ]
    },
    {
     "cell_type": "markdown",
     "metadata": {},
     "source": [
      "#### The following cell creates a complex matrix for use throughout"
     ]
    },
    {
     "cell_type": "code",
     "collapsed": false,
     "input": [
      "#create a matrix A to work on\n",
      "A=pv.create('cmview_d',8,5)\n",
      "A.realview.block.vector.randn(5)\n",
      "A.imagview.block.vector.randn(11)    \n",
      "#f is a format for use when using mprint method\n",
      "f='%.4f'"
     ],
     "language": "python",
     "metadata": {},
     "outputs": [],
     "prompt_number": 21
    },
    {
     "cell_type": "markdown",
     "metadata": {},
     "source": [
      "----  "
     ]
    },
    {
     "cell_type": "markdown",
     "metadata": {},
     "source": [
      "#### Test Givens Bidiagonalization"
     ]
    },
    {
     "cell_type": "code",
     "collapsed": false,
     "input": [
      "U,B,VH=givensBidiag(A)\n",
      "A.mprint(f)\n",
      "print('U B V^H');U.prod(B).prod(VH).mprint(f)\n",
      "print('B');B.mprint(f)\n",
      "print('U');U.mprint(f)\n",
      "print('V^H');VH.mprint(f)\n",
      "print('Frobenius of U B V^H - A : %.6f'%((U.prod(B).prod(VH)-A).normFro))"
     ],
     "language": "python",
     "metadata": {},
     "outputs": [
      {
       "output_type": "stream",
       "stream": "stdout",
       "text": [
        "[ 0.5080+0.8347i  0.5352-0.3009i  0.6986-0.2133i -0.9603-1.1831i  0.2314+0.9088i;\n",
        "  0.0404-0.5608i -0.4766-1.0832i  0.2077-0.3781i  0.5062+0.7615i -0.3828-0.1095i;\n",
        "  0.1575+0.3478i  0.7812-0.5409i -0.9682+0.2537i -0.3203+1.4490i  0.7925+0.4486i;\n",
        "  0.7917+2.1075i -0.2578-0.9877i  0.1266-0.9733i  1.3545-1.1464i  0.2552-1.6381i;\n",
        " -0.1946-1.5706i  0.3411+1.0510i -0.4960+0.4630i  0.1719+1.0326i  1.6241-1.3368i;\n",
        "  0.1905+0.4652i  0.6356+1.4426i -0.4736-0.0545i  0.8353-0.3629i  0.0267-1.2722i;\n",
        " -0.1215+0.2238i -0.7123+0.9421i  0.3103+0.0404i -1.3142-0.1867i  0.0963-0.4964i;\n",
        "  0.4091-0.1203i  0.1547-0.6720i  0.4884+2.2117i  0.8869-1.7553i -0.1715-0.3691i]\n",
        "\n",
        "U B V^H\n",
        "[ 0.5080+0.8347i  0.5352-0.3009i  0.6986-0.2133i -0.9603-1.1831i  0.2314+0.9088i;\n",
        "  0.0404-0.5608i -0.4766-1.0832i  0.2077-0.3781i  0.5062+0.7615i -0.3828-0.1095i;\n",
        "  0.1575+0.3478i  0.7812-0.5409i -0.9682+0.2537i -0.3203+1.4490i  0.7925+0.4486i;\n",
        "  0.7917+2.1075i -0.2578-0.9877i  0.1266-0.9733i  1.3545-1.1464i  0.2552-1.6381i;\n",
        " -0.1946-1.5706i  0.3411+1.0510i -0.4960+0.4630i  0.1719+1.0326i  1.6241-1.3368i;\n",
        "  0.1905+0.4652i  0.6356+1.4426i -0.4736-0.0545i  0.8353-0.3629i  0.0267-1.2722i;\n",
        " -0.1215+0.2238i -0.7123+0.9421i  0.3103+0.0404i -1.3142-0.1867i  0.0963-0.4964i;\n",
        "  0.4091-0.1203i  0.1547-0.6720i  0.4884+2.2117i  0.8869-1.7553i -0.1715-0.3691i]\n",
        "\n",
        "B\n",
        "[ 1.6015+2.6314i  0.0359-2.1067i  0.0000+0.0000i -0.0000+0.0000i  0.0000+0.0000i;\n",
        "  0.0000+0.0000i  1.6357-2.5609i  1.0943+2.6878i -0.0000+0.0000i -0.0000-0.0000i;\n",
        "  0.0000+0.0000i -0.0000+0.0000i -1.9377-1.3342i  0.7916+0.8633i  0.0000+0.0000i;\n",
        "  0.0000+0.0000i  0.0000-0.0000i  0.0000+0.0000i -1.8003-1.9305i -0.5876+0.0420i;\n",
        "  0.0000-0.0000i  0.0000+0.0000i -0.0000+0.0000i -0.0000+0.0000i  0.2715+2.9418i;\n",
        "  0.0000+0.0000i  0.0000+0.0000i  0.0000+0.0000i -0.0000+0.0000i  0.0000+0.0000i;\n",
        " -0.0000+0.0000i -0.0000+0.0000i  0.0000-0.0000i  0.0000-0.0000i -0.0000+0.0000i;\n",
        "  0.0000+0.0000i  0.0000-0.0000i  0.0000+0.0000i  0.0000+0.0000i -0.0000-0.0000i]\n",
        "\n",
        "U\n",
        "[ 0.3172+0.0000i -0.0551-0.1764i -0.0041+0.3082i  0.3950-0.0462i  0.1104-0.2069i  0.4084+0.4855i -0.0198-0.1893i -0.1709+0.2986i;\n",
        " -0.1487-0.1058i  0.2343+0.1011i  0.1857+0.1877i -0.3837-0.2091i  0.0726+0.2008i  0.0987+0.4350i  0.4899+0.2733i  0.2385+0.1572i;\n",
        "  0.1230+0.0150i -0.4159+0.2126i  0.0141-0.2933i  0.1351-0.4001i  0.1836+0.1103i  0.0989+0.2762i  0.1020-0.0223i  0.0061-0.5992i;\n",
        "  0.7181+0.1361i  0.2889+0.1401i  0.2842-0.0562i -0.1597-0.0977i -0.2998-0.1612i -0.2529-0.0085i  0.0904-0.2025i  0.0916-0.0798i;\n",
        " -0.4684-0.2111i  0.0448+0.3638i  0.2506-0.0854i  0.2687+0.0754i -0.3496-0.3728i -0.1796+0.2401i  0.1135-0.2963i -0.0433-0.0103i;\n",
        "  0.1611+0.0257i  0.0462+0.2773i -0.0790-0.0114i  0.1909+0.4921i -0.3471+0.0014i  0.3983+0.0000i  0.1041+0.5179i  0.0376-0.2233i;\n",
        "  0.0416+0.0715i -0.3785-0.2657i -0.3688-0.3530i -0.1458-0.0868i -0.4035-0.1696i  0.0000+0.0000i  0.4575+0.0000i -0.0690+0.2903i;\n",
        "  0.0357-0.1338i  0.3811+0.0835i -0.5357-0.2026i  0.1919-0.1242i  0.2385-0.3279i  0.0000+0.0000i  0.0000+0.0000i  0.5328+0.0000i]\n",
        "\n",
        "V^H\n",
        "[ 1.0000+0.0000i  0.0000+0.0000i  0.0000+0.0000i  0.0000+0.0000i  0.0000+0.0000i;\n",
        "  0.0000+0.0000i  0.4057+0.0000i  0.4043-0.0695i  0.7833+0.1593i  0.0944-0.1386i;\n",
        "  0.0000+0.0000i -0.1654+0.1799i  0.7247+0.2077i -0.1179-0.2340i -0.4857+0.2595i;\n",
        "  0.0000+0.0000i -0.6621+0.4155i -0.2289-0.2847i  0.4584+0.0684i -0.1853+0.0801i;\n",
        "  0.0000+0.0000i -0.4055+0.0154i  0.2912+0.2125i  0.0391-0.2757i  0.7924+0.0000i]\n",
        "\n",
        "Frobenius of U B V^H - A : 0.000000\n"
       ]
      }
     ],
     "prompt_number": 22
    },
    {
     "cell_type": "markdown",
     "metadata": {},
     "source": [
      "#### Test Givens QR Decomposition"
     ]
    },
    {
     "cell_type": "code",
     "collapsed": false,
     "input": [
      "Q,R=givensQR(A)\n",
      "A.mprint(f)\n",
      "Q.mprint(f)\n",
      "R.mprint(f)\n",
      "Q.prod(R).mprint(f)\n",
      "c=(Q.prod(R)-A).normFro\n",
      "print('%.7f'%c)\n",
      "Q.prod(Q.herm).mprint(f)"
     ],
     "language": "python",
     "metadata": {},
     "outputs": [
      {
       "output_type": "stream",
       "stream": "stdout",
       "text": [
        "[ 0.5080+0.8347i  0.5352-0.3009i  0.6986-0.2133i -0.9603-1.1831i  0.2314+0.9088i;\n",
        "  0.0404-0.5608i -0.4766-1.0832i  0.2077-0.3781i  0.5062+0.7615i -0.3828-0.1095i;\n",
        "  0.1575+0.3478i  0.7812-0.5409i -0.9682+0.2537i -0.3203+1.4490i  0.7925+0.4486i;\n",
        "  0.7917+2.1075i -0.2578-0.9877i  0.1266-0.9733i  1.3545-1.1464i  0.2552-1.6381i;\n",
        " -0.1946-1.5706i  0.3411+1.0510i -0.4960+0.4630i  0.1719+1.0326i  1.6241-1.3368i;\n",
        "  0.1905+0.4652i  0.6356+1.4426i -0.4736-0.0545i  0.8353-0.3629i  0.0267-1.2722i;\n",
        " -0.1215+0.2238i -0.7123+0.9421i  0.3103+0.0404i -1.3142-0.1867i  0.0963-0.4964i;\n",
        "  0.4091-0.1203i  0.1547-0.6720i  0.4884+2.2117i  0.8869-1.7553i -0.1715-0.3691i]\n",
        "\n",
        "[ 0.3172+0.0000i -0.0115+0.1812i -0.3171+0.0275i -0.2205-0.0638i  0.3470+0.1869i  0.4084+0.4855i -0.0198-0.1893i -0.1709+0.2986i;\n",
        " -0.1487-0.1058i  0.4256-0.0811i  0.0414+0.2444i  0.2891-0.0077i -0.1930+0.0380i  0.0987+0.4350i  0.4899+0.2733i  0.2385+0.1572i;\n",
        "  0.1230+0.0150i  0.1167+0.2777i  0.3587-0.0170i -0.2929+0.4606i  0.0364-0.0979i  0.0989+0.2762i  0.1020-0.0223i  0.0061-0.5992i;\n",
        "  0.7181+0.1361i  0.1432-0.1152i  0.0237+0.1173i  0.3074-0.1512i  0.1205-0.3974i -0.2529-0.0085i  0.0904-0.2025i  0.0916-0.0798i;\n",
        " -0.4684-0.2111i -0.2433+0.1526i  0.0378-0.0036i  0.2749-0.0338i  0.4691-0.4036i -0.1796+0.2401i  0.1135-0.2963i -0.0433-0.0103i;\n",
        "  0.1611+0.0257i -0.5608+0.1431i -0.0261-0.0820i  0.3304-0.1554i  0.0043-0.0935i  0.3983+0.0000i  0.1041+0.5179i  0.0376-0.2233i;\n",
        "  0.0416+0.0715i -0.2998-0.3023i -0.1393-0.1864i -0.3702+0.3147i -0.2093-0.4238i  0.0000+0.0000i  0.4575+0.0000i -0.0690+0.2903i;\n",
        "  0.0357-0.1338i  0.2060+0.1171i -0.1635-0.7773i -0.0024-0.0478i  0.0855-0.0151i  0.0000+0.0000i  0.0000+0.0000i  0.5328+0.0000i]\n",
        "\n",
        "[ 1.6015+2.6314i  0.0146-0.8546i -0.1319-0.8543i  0.3637-1.6445i -0.2886-0.2039i;\n",
        "  0.0000+0.0000i -0.3485-2.9064i  0.8636+0.4470i  0.6644-0.1976i -0.3033+0.4060i;\n",
        "  0.0000+0.0000i  0.0000-0.0000i -2.6274+0.0672i  1.6851+1.5129i  0.5635-0.0952i;\n",
        "  0.0000+0.0000i  0.0000+0.0000i -0.0000-0.0000i  2.6330+0.8279i  0.6061-1.7643i;\n",
        "  0.0000-0.0000i -0.0000+0.0000i  0.0000+0.0000i  0.0000+0.0000i  2.5880+0.4418i;\n",
        "  0.0000+0.0000i  0.0000+0.0000i  0.0000-0.0000i  0.0000+0.0000i  0.0000-0.0000i;\n",
        " -0.0000+0.0000i -0.0000+0.0000i  0.0000+0.0000i -0.0000+0.0000i  0.0000+0.0000i;\n",
        "  0.0000+0.0000i  0.0000+0.0000i  0.0000+0.0000i -0.0000+0.0000i -0.0000+0.0000i]\n",
        "\n",
        "[ 0.5080+0.8347i  0.5352-0.3009i  0.6986-0.2133i -0.9603-1.1831i  0.2314+0.9088i;\n",
        "  0.0404-0.5608i -0.4766-1.0832i  0.2077-0.3781i  0.5062+0.7615i -0.3828-0.1095i;\n",
        "  0.1575+0.3478i  0.7812-0.5409i -0.9682+0.2537i -0.3203+1.4490i  0.7925+0.4486i;\n",
        "  0.7917+2.1075i -0.2578-0.9877i  0.1266-0.9733i  1.3545-1.1464i  0.2552-1.6381i;\n",
        " -0.1946-1.5706i  0.3411+1.0510i -0.4960+0.4630i  0.1719+1.0326i  1.6241-1.3368i;\n",
        "  0.1905+0.4652i  0.6356+1.4426i -0.4736-0.0545i  0.8353-0.3629i  0.0267-1.2722i;\n",
        " -0.1215+0.2238i -0.7123+0.9421i  0.3103+0.0404i -1.3142-0.1867i  0.0963-0.4964i;\n",
        "  0.4091-0.1203i  0.1547-0.6720i  0.4884+2.2117i  0.8869-1.7553i -0.1715-0.3691i]\n",
        "\n",
        "0.0000000\n",
        "[ 1.0000+0.0000i  0.0000-0.0000i -0.0000-0.0000i -0.0000-0.0000i  0.0000-0.0000i  0.0000+0.0000i -0.0000+0.0000i  0.0000+0.0000i;\n",
        "  0.0000+0.0000i  1.0000+0.0000i  0.0000+0.0000i  0.0000+0.0000i -0.0000-0.0000i  0.0000-0.0000i  0.0000+0.0000i  0.0000-0.0000i;\n",
        " -0.0000+0.0000i  0.0000-0.0000i  1.0000+0.0000i  0.0000-0.0000i  0.0000-0.0000i  0.0000-0.0000i -0.0000-0.0000i  0.0000-0.0000i;\n",
        " -0.0000+0.0000i  0.0000-0.0000i  0.0000+0.0000i  1.0000+0.0000i  0.0000-0.0000i -0.0000-0.0000i  0.0000+0.0000i  0.0000+0.0000i;\n",
        "  0.0000+0.0000i -0.0000+0.0000i  0.0000+0.0000i  0.0000+0.0000i  1.0000+0.0000i -0.0000-0.0000i  0.0000+0.0000i -0.0000+0.0000i;\n",
        "  0.0000-0.0000i  0.0000+0.0000i  0.0000+0.0000i -0.0000+0.0000i -0.0000+0.0000i  1.0000+0.0000i  0.0000+0.0000i -0.0000+0.0000i;\n",
        " -0.0000-0.0000i  0.0000-0.0000i -0.0000+0.0000i  0.0000-0.0000i  0.0000-0.0000i  0.0000-0.0000i  1.0000+0.0000i  0.0000+0.0000i;\n",
        "  0.0000+0.0000i  0.0000+0.0000i  0.0000+0.0000i  0.0000-0.0000i -0.0000-0.0000i -0.0000-0.0000i  0.0000-0.0000i  1.0000+0.0000i]\n",
        "\n"
       ]
      }
     ],
     "prompt_number": 24
    },
    {
     "cell_type": "markdown",
     "metadata": {},
     "source": [
      "-----     \n",
      "#### Test `prodG`, `gProd`, `gtProd`, `prodGT`  "
     ]
    },
    {
     "cell_type": "code",
     "collapsed": false,
     "input": [
      "G=eye('cmview_d',2)\n",
      "G_T=G.copy\n",
      "GH=G.copy\n",
      "G_TH=G.copy\n",
      "x=complex(1.2,2.2); y=complex(.5,.6)\n",
      "c,s,r=givensCoef(x,y)\n",
      "print(\"c: %s  s: %s\"%(repr(c),repr(s)))"
     ],
     "language": "python",
     "metadata": {},
     "outputs": [
      {
       "output_type": "stream",
       "stream": "stdout",
       "text": [
        "c: 0.9547072287345311  s: (0.2918850126067355+0.0577689087450831j)\n"
       ]
      }
     ],
     "prompt_number": 25
    },
    {
     "cell_type": "markdown",
     "metadata": {},
     "source": [
      "##### Test Givens Product with $I_2$ to produce $ G\\\\;\\\\;$"
     ]
    },
    {
     "cell_type": "code",
     "collapsed": false,
     "input": [
      "gProd(0,1,c,s,G).mprint('%.4f')"
     ],
     "language": "python",
     "metadata": {},
     "outputs": [
      {
       "output_type": "stream",
       "stream": "stdout",
       "text": [
        "[ 0.9547+0.0000i  0.2919+0.0578i;\n",
        " -0.2919+0.0578i  0.9547+0.0000i]\n",
        "\n"
       ]
      }
     ],
     "prompt_number": 26
    },
    {
     "cell_type": "markdown",
     "metadata": {},
     "source": [
      "##### Test product $I_2$ with Givens hermitian to produce ${G}^H$"
     ]
    },
    {
     "cell_type": "code",
     "collapsed": false,
     "input": [
      "prodG(GH,0,1,c,s).mprint('%.4f')"
     ],
     "language": "python",
     "metadata": {},
     "outputs": [
      {
       "output_type": "stream",
       "stream": "stdout",
       "text": [
        "[ 0.9547+0.0000i -0.2919-0.0578i;\n",
        "  0.2919-0.0578i  0.9547+0.0000i]\n",
        "\n"
       ]
      }
     ],
     "prompt_number": 27
    },
    {
     "cell_type": "markdown",
     "metadata": {},
     "source": [
      "##### Test product $I_2$ with Givens transpose hermitian to produce ${G_T}^H$"
     ]
    },
    {
     "cell_type": "code",
     "collapsed": false,
     "input": [
      "gtProd(0,1,c,s,G_TH).mprint('%.4f')"
     ],
     "language": "python",
     "metadata": {},
     "outputs": [
      {
       "output_type": "stream",
       "stream": "stdout",
       "text": [
        "[ 0.9547+0.0000i  0.2919-0.0578i;\n",
        " -0.2919-0.0578i  0.9547+0.0000i]\n",
        "\n"
       ]
      }
     ],
     "prompt_number": 28
    },
    {
     "cell_type": "markdown",
     "metadata": {},
     "source": [
      "##### Test Givens Transpose product with $I_2$ to produce $G_T$"
     ]
    },
    {
     "cell_type": "code",
     "collapsed": false,
     "input": [
      "prodGT(G_T,0,1,c,s).mprint('%.4f')"
     ],
     "language": "python",
     "metadata": {},
     "outputs": [
      {
       "output_type": "stream",
       "stream": "stdout",
       "text": [
        "[ 0.9547+0.0000i -0.2919+0.0578i;\n",
        "  0.2919+0.0578i  0.9547+0.0000i]\n",
        "\n"
       ]
      }
     ],
     "prompt_number": 29
    },
    {
     "cell_type": "markdown",
     "metadata": {},
     "source": [
      "Make sure $G G^H$ is the identity  \n",
      "and $G_T {G_T}^H$ is the identity"
     ]
    },
    {
     "cell_type": "code",
     "collapsed": false,
     "input": [
      "G.prod(GH).mprint('%.1f')\n",
      "G_T.prod(G_TH).mprint('%.1f')"
     ],
     "language": "python",
     "metadata": {},
     "outputs": [
      {
       "output_type": "stream",
       "stream": "stdout",
       "text": [
        "[ 1.0+0.0i  0.0+0.0i;\n",
        "  0.0+0.0i  1.0+0.0i]\n",
        "\n",
        "[ 1.0+0.0i  0.0+0.0i;\n",
        "  0.0+0.0i  1.0+0.0i]\n",
        "\n"
       ]
      }
     ],
     "prompt_number": 30
    },
    {
     "cell_type": "markdown",
     "metadata": {},
     "source": [
      "----   \n",
      "#### Test Givens"
     ]
    },
    {
     "cell_type": "code",
     "collapsed": false,
     "input": [
      "Acopy=A.copy\n",
      "i=2; j=3; k=4\n",
      "x1=A[i,k]\n",
      "x2=A[j,k]\n",
      "c,s,r=givensCoef(x1,x2)\n",
      "print(\"c: \"+ repr(c))\n",
      "print(\"s: \"+ repr(s))\n",
      "print(\"A: \");A.mprint(f)"
     ],
     "language": "python",
     "metadata": {},
     "outputs": [
      {
       "output_type": "stream",
       "stream": "stdout",
       "text": [
        "c: 0.4814529177481658\n",
        "s: (-0.30917823793580207+0.8201292002963254j)\n",
        "A: \n",
        "[ 0.5080+0.8347i  0.5352-0.3009i  0.6986-0.2133i -0.9603-1.1831i  0.2314+0.9088i;\n",
        "  0.0404-0.5608i -0.4766-1.0832i  0.2077-0.3781i  0.5062+0.7615i -0.3828-0.1095i;\n",
        "  0.1575+0.3478i  0.7812-0.5409i -0.9682+0.2537i -0.3203+1.4490i  0.7925+0.4486i;\n",
        "  0.7917+2.1075i -0.2578-0.9877i  0.1266-0.9733i  1.3545-1.1464i  0.2552-1.6381i;\n",
        " -0.1946-1.5706i  0.3411+1.0510i -0.4960+0.4630i  0.1719+1.0326i  1.6241-1.3368i;\n",
        "  0.1905+0.4652i  0.6356+1.4426i -0.4736-0.0545i  0.8353-0.3629i  0.0267-1.2722i;\n",
        " -0.1215+0.2238i -0.7123+0.9421i  0.3103+0.0404i -1.3142-0.1867i  0.0963-0.4964i;\n",
        "  0.4091-0.1203i  0.1547-0.6720i  0.4884+2.2117i  0.8869-1.7553i -0.1715-0.3691i]\n",
        "\n"
       ]
      }
     ],
     "prompt_number": 31
    },
    {
     "cell_type": "markdown",
     "metadata": {},
     "source": [
      "Calculate matrix $G A$"
     ]
    },
    {
     "cell_type": "code",
     "collapsed": false,
     "input": [
      "print(\"Index (%d,%d) should be zero: \"%(j,k));GA=gProd(i,j,c,s,Acopy)\n",
      "GA.mprint(f)"
     ],
     "language": "python",
     "metadata": {},
     "outputs": [
      {
       "output_type": "stream",
       "stream": "stdout",
       "text": [
        "Index (3,4) should be zero: \n",
        "[ 0.5080+0.8347i  0.5352-0.3009i  0.6986-0.2133i -0.9603-1.1831i  0.2314+0.9088i;\n",
        "  0.0404-0.5608i -0.4766-1.0832i  0.2077-0.3781i  0.5062+0.7615i -0.3828-0.1095i;\n",
        " -1.8974+0.1652i  1.2659-0.1665i  0.2930+0.5269i  0.3672+2.1630i  1.6461+0.9317i;\n",
        "  0.1446+1.2514i  0.5610-0.0022i -0.4464-1.1842i -0.6352-0.3667i  0.0000-0.0000i;\n",
        " -0.1946-1.5706i  0.3411+1.0510i -0.4960+0.4630i  0.1719+1.0326i  1.6241-1.3368i;\n",
        "  0.1905+0.4652i  0.6356+1.4426i -0.4736-0.0545i  0.8353-0.3629i  0.0267-1.2722i;\n",
        " -0.1215+0.2238i -0.7123+0.9421i  0.3103+0.0404i -1.3142-0.1867i  0.0963-0.4964i;\n",
        "  0.4091-0.1203i  0.1547-0.6720i  0.4884+2.2117i  0.8869-1.7553i -0.1715-0.3691i]\n",
        "\n"
       ]
      }
     ],
     "prompt_number": 32
    },
    {
     "cell_type": "markdown",
     "metadata": {},
     "source": [
      "check that $G^H (G A) = A$"
     ]
    },
    {
     "cell_type": "code",
     "collapsed": false,
     "input": [
      "GH=givensExtract(A.type,i,j,c,s,A.collength).herm\n",
      "GH.prod(GA).mprint(f)\n",
      "print('forbenius of difference %.6f'%((GH.prod(GA)-A).normFro))"
     ],
     "language": "python",
     "metadata": {},
     "outputs": [
      {
       "output_type": "stream",
       "stream": "stdout",
       "text": [
        "[ 0.5080+0.8347i  0.5352-0.3009i  0.6986-0.2133i -0.9603-1.1831i  0.2314+0.9088i;\n",
        "  0.0404-0.5608i -0.4766-1.0832i  0.2077-0.3781i  0.5062+0.7615i -0.3828-0.1095i;\n",
        "  0.1575+0.3478i  0.7812-0.5409i -0.9682+0.2537i -0.3203+1.4490i  0.7925+0.4486i;\n",
        "  0.7917+2.1075i -0.2578-0.9877i  0.1266-0.9733i  1.3545-1.1464i  0.2552-1.6381i;\n",
        " -0.1946-1.5706i  0.3411+1.0510i -0.4960+0.4630i  0.1719+1.0326i  1.6241-1.3368i;\n",
        "  0.1905+0.4652i  0.6356+1.4426i -0.4736-0.0545i  0.8353-0.3629i  0.0267-1.2722i;\n",
        " -0.1215+0.2238i -0.7123+0.9421i  0.3103+0.0404i -1.3142-0.1867i  0.0963-0.4964i;\n",
        "  0.4091-0.1203i  0.1547-0.6720i  0.4884+2.2117i  0.8869-1.7553i -0.1715-0.3691i]\n",
        "\n",
        "forbenius of difference 0.000000\n"
       ]
      }
     ],
     "prompt_number": 33
    },
    {
     "cell_type": "markdown",
     "metadata": {},
     "source": [
      "----   "
     ]
    },
    {
     "cell_type": "markdown",
     "metadata": {},
     "source": [
      "----    \n",
      "#### Test givens to zero along a row"
     ]
    },
    {
     "cell_type": "code",
     "collapsed": false,
     "input": [
      "Acopy=A.copy\n",
      "i=2; j=3; k=4\n",
      "x1=A[k,i]\n",
      "x2=A[k,j]\n",
      "c,s,r=givensCoef(x1,x2)\n",
      "print(\"c: \"+ repr(c))\n",
      "print(\"s: \"+ repr(s))\n",
      "print(\"A: \");A.mprint(f)\n",
      "GT=givensExtract(A.type,i,j,c,s,A.rowlength).transview\n",
      "print('Transpose of Givens G_T: ');GT.mprint(f)\n",
      "print('Test gtProd to do G_T^H.prod(G_t), should be I:' )\n",
      "gtProd(i,j,c,s,GT).mprint(f)\n",
      "print('Test A.prod(G_T) to see if we zero element along row at (4,3)): ')\n",
      "Acopy.prod(givensExtract(A.type,i,j,c,s,A.rowlength).transview).mprint(f)"
     ],
     "language": "python",
     "metadata": {},
     "outputs": [
      {
       "output_type": "stream",
       "stream": "stdout",
       "text": [
        "c: 0.5439235219343935\n",
        "s: (0.46410634894051245+0.699108360098485j)\n",
        "A: \n",
        "[ 0.5080+0.8347i  0.5352-0.3009i  0.6986-0.2133i -0.9603-1.1831i  0.2314+0.9088i;\n",
        "  0.0404-0.5608i -0.4766-1.0832i  0.2077-0.3781i  0.5062+0.7615i -0.3828-0.1095i;\n",
        "  0.1575+0.3478i  0.7812-0.5409i -0.9682+0.2537i -0.3203+1.4490i  0.7925+0.4486i;\n",
        "  0.7917+2.1075i -0.2578-0.9877i  0.1266-0.9733i  1.3545-1.1464i  0.2552-1.6381i;\n",
        " -0.1946-1.5706i  0.3411+1.0510i -0.4960+0.4630i  0.1719+1.0326i  1.6241-1.3368i;\n",
        "  0.1905+0.4652i  0.6356+1.4426i -0.4736-0.0545i  0.8353-0.3629i  0.0267-1.2722i;\n",
        " -0.1215+0.2238i -0.7123+0.9421i  0.3103+0.0404i -1.3142-0.1867i  0.0963-0.4964i;\n",
        "  0.4091-0.1203i  0.1547-0.6720i  0.4884+2.2117i  0.8869-1.7553i -0.1715-0.3691i]\n",
        "\n",
        "Transpose of Givens G_T: \n",
        "[ 1.0000+0.0000i  0.0000+0.0000i  0.0000+0.0000i  0.0000+0.0000i  0.0000+0.0000i;\n",
        "  0.0000+0.0000i  1.0000+0.0000i  0.0000+0.0000i  0.0000+0.0000i  0.0000+0.0000i;\n",
        "  0.0000+0.0000i  0.0000+0.0000i  0.5439+0.0000i -0.4641+0.6991i  0.0000+0.0000i;\n",
        "  0.0000+0.0000i  0.0000+0.0000i  0.4641+0.6991i  0.5439+0.0000i  0.0000+0.0000i;\n",
        "  0.0000+0.0000i  0.0000+0.0000i  0.0000+0.0000i  0.0000+0.0000i  1.0000+0.0000i]\n",
        "\n",
        "Test gtProd to do G_T^H.prod(G_t), should be I:\n",
        "[ 1.0000+0.0000i  0.0000+0.0000i  0.0000+0.0000i  0.0000+0.0000i  0.0000+0.0000i;\n",
        "  0.0000+0.0000i  1.0000+0.0000i  0.0000+0.0000i  0.0000+0.0000i  0.0000+0.0000i;\n",
        "  0.0000+0.0000i  0.0000+0.0000i  1.0000+0.0000i  0.0000+0.0000i  0.0000+0.0000i;\n",
        "  0.0000+0.0000i  0.0000+0.0000i  0.0000+0.0000i  1.0000+0.0000i  0.0000+0.0000i;\n",
        "  0.0000+0.0000i  0.0000+0.0000i  0.0000+0.0000i  0.0000+0.0000i  1.0000+0.0000i]\n",
        "\n",
        "Test A.prod(G_T) to see if we zero element along row at (4,3)): \n",
        "[ 0.5080+0.8347i  0.5352-0.3009i  0.7614-1.3364i -0.6974-0.0561i  0.2314+0.9088i;\n",
        "  0.0404-0.5608i -0.4766-1.0832i -0.1845+0.5016i  0.4433+0.7349i -0.3828-0.1095i;\n",
        "  0.1575+0.3478i  0.7812-0.5409i -1.6883+0.5865i  0.0977-0.0065i  0.7925+0.4486i;\n",
        "  0.7917+2.1075i -0.2578-0.9877i  1.4990-0.1145i  1.3585-0.0833i  0.2552-1.6381i;\n",
        " -0.1946-1.5706i  0.3411+1.0510i -0.9119+0.8513i -0.0000-0.0000i  1.6241-1.3368i;\n",
        "  0.1905+0.4652i  0.6356+1.4426i  0.3838+0.3859i  0.7122-0.5032i  0.0267-1.2722i;\n",
        " -0.1215+0.2238i -0.7123+0.9421i -0.3107-0.9834i -0.8871+0.0966i  0.0963-0.4964i;\n",
        "  0.4091-0.1203i  0.1547-0.6720i  1.9044+1.0083i -1.2905-1.6398i -0.1715-0.3691i]\n",
        "\n"
       ]
      }
     ],
     "prompt_number": 44
    },
    {
     "cell_type": "markdown",
     "metadata": {},
     "source": [
      "----    \n",
      "#### Test `givensCoef`"
     ]
    },
    {
     "cell_type": "code",
     "collapsed": false,
     "input": [
      "print('Real data\\nCreate (column) vector y: ')\n",
      "y=pv.create('vview_d',2);y[0] = 1.5;y[1]=-4.1\n",
      "y.mprint(f)\n",
      "print('Create Givens matrix G: ')\n",
      "g=pv.create('mview_d',2,2)\n",
      "c,s,r=givensCoef(y[0],y[1])\n",
      "g[0,0]=c; g[1,1]=c; g[0,1]=s;g[1,0]=-s.conjugate()\n",
      "g.mprint(f)\n",
      "print('Calculate x=G y; x = ')\n",
      "x=g.prod(y)\n",
      "x.mprint('%.6f')\n",
      "print('Complex data\\nCreate (column) vector y: ')\n",
      "yc=pv.create('cvview_d',2);yc[0] = complex(1.5,.5);yc[1]=complex(-3.,4.)\n",
      "yc.mprint(f)\n",
      "print('Create Givens Matrix G: ')\n",
      "gc=pv.create('cmview_d',2,2)\n",
      "c,s,r=givensCoef(yc[0],yc[1])\n",
      "gc[0,0]=c; gc[1,1]=c; gc[0,1]=s;gc[1,0]=-s.conjugate()\n",
      "gc.mprint(f)\n",
      "print('Calculate x=G y; x = ')\n",
      "xc=gc.prod(yc)\n",
      "xc.mprint('%.6f')"
     ],
     "language": "python",
     "metadata": {},
     "outputs": [
      {
       "output_type": "stream",
       "stream": "stdout",
       "text": [
        "Real data\n",
        "Create (column) vector y: \n",
        "[ 1.5000 -4.1000]\n",
        "\n",
        "Create Givens matrix G: \n",
        "[ 0.3436 -0.9391;\n",
        "  0.9391  0.3436]\n",
        "\n",
        "Calculate x=G y; x = \n",
        "[ 4.365776  0.000000]\n",
        "\n",
        "Complex data\n",
        "Create (column) vector y: \n",
        "[ 1.5000+0.5000i -3.0000+4.0000i]\n",
        "\n",
        "Create Givens Matrix G: \n",
        "[ 0.3015+0.0000i -0.3015-0.9045i;\n",
        "  0.3015-0.9045i  0.3015+0.0000i]\n",
        "\n",
        "Calculate x=G y; x = \n",
        "[ 4.974937+1.658312i -0.000000-0.000000i]\n",
        "\n"
       ]
      }
     ],
     "prompt_number": 49
    },
    {
     "cell_type": "markdown",
     "metadata": {},
     "source": [
      "----    \n",
      "#### Test `bidiag` decomposition routine    \n",
      "using Householder method"
     ]
    },
    {
     "cell_type": "code",
     "collapsed": false,
     "input": [
      "print('A:'); A.mprint(f)\n",
      "B=bidiag(A)\n",
      "print('B');B.mprint(f)\n",
      "U=UmatExtract(B); print('U:');U.mprint(f)\n",
      "B0=bidiagExtract(B); print('bidiag:');B0.mprint(f)\n",
      "VH=VHmatExtract(B); print('VH:');VH.mprint(f)\n",
      "print('A check');U.prod(B0).prod(VH).mprint(f)\n",
      "print('frobenius (A-U B VH): %.6f'%(A-U.prod(B0).prod(VH)).normFro)"
     ],
     "language": "python",
     "metadata": {},
     "outputs": [
      {
       "output_type": "stream",
       "stream": "stdout",
       "text": [
        "A:\n",
        "[ 0.5080+0.8347i  0.5352-0.3009i  0.6986-0.2133i -0.9603-1.1831i  0.2314+0.9088i;\n",
        "  0.0404-0.5608i -0.4766-1.0832i  0.2077-0.3781i  0.5062+0.7615i -0.3828-0.1095i;\n",
        "  0.1575+0.3478i  0.7812-0.5409i -0.9682+0.2537i -0.3203+1.4490i  0.7925+0.4486i;\n",
        "  0.7917+2.1075i -0.2578-0.9877i  0.1266-0.9733i  1.3545-1.1464i  0.2552-1.6381i;\n",
        " -0.1946-1.5706i  0.3411+1.0510i -0.4960+0.4630i  0.1719+1.0326i  1.6241-1.3368i;\n",
        "  0.1905+0.4652i  0.6356+1.4426i -0.4736-0.0545i  0.8353-0.3629i  0.0267-1.2722i;\n",
        " -0.1215+0.2238i -0.7123+0.9421i  0.3103+0.0404i -1.3142-0.1867i  0.0963-0.4964i;\n",
        "  0.4091-0.1203i  0.1547-0.6720i  0.4884+2.2117i  0.8869-1.7553i -0.1715-0.3691i]\n",
        "\n",
        "B\n",
        "[-1.6015-2.6314i  0.0359-2.1067i  0.2876+0.0494i  0.5573-0.1133i  0.0672+0.0986i;\n",
        " -0.1129-0.0804i  2.3324-1.9477i -0.3219+2.8841i -0.0367+0.1737i -0.2472-0.1803i;\n",
        "  0.0934+0.0114i -0.2585+0.2740i -2.1624+0.9266i  1.0333-0.5516i -0.1329+0.0730i;\n",
        "  0.5451+0.1034i  0.2868+0.1115i  0.2948+0.1245i  2.3773+1.1474i -0.5441+0.2257i;\n",
        " -0.3556-0.1603i  0.1110+0.2093i  0.0866+0.1504i -0.2168-0.2466i -2.4761+1.6116i;\n",
        "  0.1223+0.0195i  0.1098+0.2161i  0.0642-0.0590i -0.0058-0.4635i  0.1787-0.0917i;\n",
        "  0.0316+0.0543i -0.3556-0.1025i  0.1002-0.2952i  0.0761+0.1589i  0.0810-0.2587i;\n",
        "  0.0271-0.1016i  0.3243-0.0336i  0.0236-0.5143i -0.3569-0.0557i  0.1822+0.0721i]\n",
        "\n",
        "U:\n",
        "[-0.3172+0.0000i  0.1058+0.1515i  0.2886-0.1082i  0.3941+0.0532i -0.1451-0.1842i -0.1108+0.4606i  0.0801-0.2458i -0.4741+0.2024i;\n",
        "  0.1487+0.1058i -0.2539-0.0256i  0.1075-0.2412i -0.3199-0.2978i  0.2131+0.0143i  0.1610+0.2514i  0.6732-0.1851i -0.0516-0.1264i;\n",
        " -0.1230-0.0150i  0.3323-0.3282i -0.2784+0.0934i  0.2301-0.3541i  0.1748-0.1237i  0.1389+0.0499i -0.1185-0.2445i -0.1214-0.5880i;\n",
        " -0.7181-0.1361i -0.3177-0.0463i -0.1556-0.2443i -0.1304-0.1342i -0.2681+0.2097i -0.2071-0.1814i  0.0245-0.1467i  0.1437-0.0971i;\n",
        "  0.4684+0.2111i -0.1526-0.3333i -0.1706-0.2025i  0.2416+0.1397i -0.4819+0.1702i -0.3344-0.0402i  0.0776-0.2326i -0.0867-0.1071i;\n",
        " -0.1611-0.0257i -0.1278-0.2504i  0.0181+0.0777i  0.0629+0.5240i -0.1383+0.3184i  0.6145+0.1803i  0.0896+0.1539i -0.0943-0.1955i;\n",
        " -0.0416-0.0715i  0.4411+0.1391i -0.1949+0.4718i -0.1197-0.1202i -0.3175+0.3013i  0.0152-0.1829i  0.4385-0.0920i -0.1671+0.1897i;\n",
        " -0.0357+0.1338i -0.3885+0.0354i  0.0059+0.5727i  0.2167-0.0728i -0.2043-0.3503i  0.1075+0.1413i  0.0857-0.2233i  0.4414+0.0163i]\n",
        "\n",
        "bidiag:\n",
        "[-1.6015-2.6314i  0.0359-2.1067i  0.0000+0.0000i  0.0000+0.0000i  0.0000+0.0000i;\n",
        "  0.0000+0.0000i  2.3324-1.9477i -0.3219+2.8841i  0.0000+0.0000i  0.0000+0.0000i;\n",
        "  0.0000+0.0000i  0.0000+0.0000i -2.1624+0.9266i  1.0333-0.5516i  0.0000+0.0000i;\n",
        "  0.0000+0.0000i  0.0000+0.0000i  0.0000+0.0000i  2.3773+1.1474i -0.5441+0.2257i;\n",
        "  0.0000+0.0000i  0.0000+0.0000i  0.0000+0.0000i  0.0000+0.0000i -2.4761+1.6116i;\n",
        "  0.0000+0.0000i  0.0000+0.0000i  0.0000+0.0000i  0.0000+0.0000i  0.0000+0.0000i;\n",
        "  0.0000+0.0000i  0.0000+0.0000i  0.0000+0.0000i  0.0000+0.0000i  0.0000+0.0000i;\n",
        "  0.0000+0.0000i  0.0000+0.0000i  0.0000+0.0000i  0.0000+0.0000i  0.0000+0.0000i]\n",
        "\n",
        "VH:\n",
        "[ 1.0000+0.0000i  0.0000+0.0000i  0.0000+0.0000i  0.0000+0.0000i  0.0000+0.0000i;\n",
        "  0.0000+0.0000i -0.4057+0.0000i -0.4043+0.0695i -0.7833-0.1593i -0.0944+0.1386i;\n",
        "  0.0000+0.0000i  0.1282-0.2081i -0.7510-0.0662i  0.1602+0.2073i  0.4276-0.3471i;\n",
        "  0.0000+0.0000i  0.7071-0.3332i  0.1932+0.3100i -0.4469-0.1228i  0.1935-0.0574i;\n",
        "  0.0000+0.0000i -0.4056-0.0135i  0.2753+0.2327i  0.0586-0.2723i  0.7903+0.0563i]\n",
        "\n",
        "A check\n",
        "[ 0.5080+0.8347i  0.5352-0.3009i  0.6986-0.2133i -0.9603-1.1831i  0.2314+0.9088i;\n",
        "  0.0404-0.5608i -0.4766-1.0832i  0.2077-0.3781i  0.5062+0.7615i -0.3828-0.1095i;\n",
        "  0.1575+0.3478i  0.7812-0.5409i -0.9682+0.2537i -0.3203+1.4490i  0.7925+0.4486i;\n",
        "  0.7917+2.1075i -0.2578-0.9877i  0.1266-0.9733i  1.3545-1.1464i  0.2552-1.6381i;\n",
        " -0.1946-1.5706i  0.3411+1.0510i -0.4960+0.4630i  0.1719+1.0326i  1.6241-1.3368i;\n",
        "  0.1905+0.4652i  0.6356+1.4426i -0.4736-0.0545i  0.8353-0.3629i  0.0267-1.2722i;\n",
        " -0.1215+0.2238i -0.7123+0.9421i  0.3103+0.0404i -1.3142-0.1867i  0.0963-0.4964i;\n",
        "  0.4091-0.1203i  0.1547-0.6720i  0.4884+2.2117i  0.8869-1.7553i -0.1715-0.3691i]\n",
        "\n",
        "frobenius (A-U B VH): 0.000000\n"
       ]
      }
     ],
     "prompt_number": 36
    },
    {
     "cell_type": "markdown",
     "metadata": {},
     "source": [
      "----    \n",
      "#### Test Householder QR Decomposition routine    "
     ]
    },
    {
     "cell_type": "code",
     "collapsed": false,
     "input": [
      "Q,R=houseQR(A)\n",
      "print('A:');A.mprint(f)\n",
      "print('Q:');Q.mprint(f)\n",
      "print('R:');R.mprint(f)\n",
      "print('Q R:');Q.prod(R).mprint(f)\n",
      "print('frobenius of A-QR :%.6f'%((A-Q.prod(R)).normFro))"
     ],
     "language": "python",
     "metadata": {},
     "outputs": [
      {
       "output_type": "stream",
       "stream": "stdout",
       "text": [
        "A:\n",
        "[ 0.5080+0.8347i  0.5352-0.3009i  0.6986-0.2133i -0.9603-1.1831i  0.2314+0.9088i;\n",
        "  0.0404-0.5608i -0.4766-1.0832i  0.2077-0.3781i  0.5062+0.7615i -0.3828-0.1095i;\n",
        "  0.1575+0.3478i  0.7812-0.5409i -0.9682+0.2537i -0.3203+1.4490i  0.7925+0.4486i;\n",
        "  0.7917+2.1075i -0.2578-0.9877i  0.1266-0.9733i  1.3545-1.1464i  0.2552-1.6381i;\n",
        " -0.1946-1.5706i  0.3411+1.0510i -0.4960+0.4630i  0.1719+1.0326i  1.6241-1.3368i;\n",
        "  0.1905+0.4652i  0.6356+1.4426i -0.4736-0.0545i  0.8353-0.3629i  0.0267-1.2722i;\n",
        " -0.1215+0.2238i -0.7123+0.9421i  0.3103+0.0404i -1.3142-0.1867i  0.0963-0.4964i;\n",
        "  0.4091-0.1203i  0.1547-0.6720i  0.4884+2.2117i  0.8869-1.7553i -0.1715-0.3691i]\n",
        "\n",
        "Q:\n",
        "[-0.3172+0.0000i  0.0382-0.1775i  0.3183-0.0061i  0.2067+0.0999i -0.2905-0.2664i  0.2187+0.1717i -0.1346-0.5031i -0.3565+0.2852i;\n",
        "  0.1487+0.1058i -0.4329+0.0170i -0.0249-0.2466i -0.2863-0.0409i  0.1964+0.0106i  0.5154+0.0881i  0.4601-0.2798i  0.1286+0.1241i;\n",
        " -0.1230-0.0150i -0.0742-0.2920i -0.3591-0.0072i  0.3660-0.4049i -0.0593+0.0860i  0.2267+0.0145i -0.0457-0.2114i -0.0077-0.5980i;\n",
        " -0.7181-0.1361i -0.1587+0.0926i -0.0157-0.1186i -0.3284+0.0975i -0.2144+0.3556i -0.2421-0.0570i  0.1486-0.1077i  0.1285-0.1262i;\n",
        "  0.4684+0.2111i  0.2632-0.1148i -0.0380+0.0010i -0.2766-0.0128i -0.5538+0.2760i -0.2015+0.0330i  0.1737-0.3265i -0.0721-0.0941i;\n",
        " -0.1611-0.0257i  0.5758-0.0582i  0.0205+0.0836i -0.3518+0.0977i -0.0271+0.0896i  0.6400-0.0259i -0.0954+0.2332i  0.0190-0.1219i;\n",
        " -0.0416-0.0715i  0.2516+0.3434i  0.1264+0.1954i  0.4177-0.2481i  0.0988+0.4622i  0.1056-0.2555i  0.3678-0.1103i -0.0847+0.2594i;\n",
        " -0.0357+0.1338i -0.1863-0.1464i  0.1108+0.7866i -0.0057+0.0475i -0.0866-0.0064i  0.0614+0.0611i -0.0224-0.1007i  0.5131+0.0500i]\n",
        "\n",
        "R:\n",
        "[-1.6015-2.6314i -0.0146+0.8546i  0.1319+0.8543i -0.3637+1.6445i  0.2886+0.2039i;\n",
        "  0.0000+0.0000i  0.7764+2.8224i -0.9204-0.3137i -0.6277+0.2941i  0.2396-0.4465i;\n",
        "  0.0000+0.0000i  0.0000+0.0000i  2.6169-0.2440i -1.7832-1.3959i -0.5558+0.1329i;\n",
        "  0.0000+0.0000i  0.0000+0.0000i  0.0000+0.0000i -2.7346-0.3744i -0.3015+1.8410i;\n",
        "  0.0000+0.0000i  0.0000+0.0000i  0.0000+0.0000i  0.0000+0.0000i -2.6172+0.2074i;\n",
        "  0.0000+0.0000i  0.0000+0.0000i  0.0000+0.0000i  0.0000+0.0000i  0.0000+0.0000i;\n",
        "  0.0000+0.0000i  0.0000+0.0000i  0.0000+0.0000i  0.0000+0.0000i  0.0000+0.0000i;\n",
        "  0.0000+0.0000i  0.0000+0.0000i  0.0000+0.0000i  0.0000+0.0000i  0.0000+0.0000i]\n",
        "\n",
        "Q R:\n",
        "[ 0.5080+0.8347i  0.5352-0.3009i  0.6986-0.2133i -0.9603-1.1831i  0.2314+0.9088i;\n",
        "  0.0404-0.5608i -0.4766-1.0832i  0.2077-0.3781i  0.5062+0.7615i -0.3828-0.1095i;\n",
        "  0.1575+0.3478i  0.7812-0.5409i -0.9682+0.2537i -0.3203+1.4490i  0.7925+0.4486i;\n",
        "  0.7917+2.1075i -0.2578-0.9877i  0.1266-0.9733i  1.3545-1.1464i  0.2552-1.6381i;\n",
        " -0.1946-1.5706i  0.3411+1.0510i -0.4960+0.4630i  0.1719+1.0326i  1.6241-1.3368i;\n",
        "  0.1905+0.4652i  0.6356+1.4426i -0.4736-0.0545i  0.8353-0.3629i  0.0267-1.2722i;\n",
        " -0.1215+0.2238i -0.7123+0.9421i  0.3103+0.0404i -1.3142-0.1867i  0.0963-0.4964i;\n",
        "  0.4091-0.1203i  0.1547-0.6720i  0.4884+2.2117i  0.8869-1.7553i -0.1715-0.3691i]\n",
        "\n",
        "frobenius of A-QR :0.000000\n"
       ]
      }
     ],
     "prompt_number": 37
    },
    {
     "cell_type": "code",
     "collapsed": false,
     "input": [
      "q,r=houseQR(A.realview)\n",
      "print('A:');A.realview.mprint(f)\n",
      "print('Q R:');(q.prod(r)).mprint(f)\n",
      "print('frobenius of (A-QR): %.6f'%((A.realview-q.prod(r)).normFro))"
     ],
     "language": "python",
     "metadata": {},
     "outputs": [
      {
       "output_type": "stream",
       "stream": "stdout",
       "text": [
        "A:\n",
        "[ 0.5080  0.5352  0.6986 -0.9603  0.2314;\n",
        "  0.0404 -0.4766  0.2077  0.5062 -0.3828;\n",
        "  0.1575  0.7812 -0.9682 -0.3203  0.7925;\n",
        "  0.7917 -0.2578  0.1266  1.3545  0.2552;\n",
        " -0.1946  0.3411 -0.4960  0.1719  1.6241;\n",
        "  0.1905  0.6356 -0.4736  0.8353  0.0267;\n",
        " -0.1215 -0.7123  0.3103 -1.3142  0.0963;\n",
        "  0.4091  0.1547  0.4884  0.8869 -0.1715]\n",
        "\n",
        "Q R:\n",
        "[ 0.5080  0.5352  0.6986 -0.9603  0.2314;\n",
        "  0.0404 -0.4766  0.2077  0.5062 -0.3828;\n",
        "  0.1575  0.7812 -0.9682 -0.3203  0.7925;\n",
        "  0.7917 -0.2578  0.1266  1.3545  0.2552;\n",
        " -0.1946  0.3411 -0.4960  0.1719  1.6241;\n",
        "  0.1905  0.6356 -0.4736  0.8353  0.0267;\n",
        " -0.1215 -0.7123  0.3103 -1.3142  0.0963;\n",
        "  0.4091  0.1547  0.4884  0.8869 -0.1715]\n",
        "\n",
        "frobenius of (A-QR): 0.000000\n"
       ]
      }
     ],
     "prompt_number": 38
    },
    {
     "cell_type": "markdown",
     "metadata": {},
     "source": [
      "#### Test QRD decomposition in place"
     ]
    },
    {
     "cell_type": "code",
     "collapsed": false,
     "input": [
      "B=A.copy\n",
      "QRD_inPlace(B)\n",
      "R=RmatExtract(B)\n",
      "B.mprint(f)"
     ],
     "language": "python",
     "metadata": {},
     "outputs": [
      {
       "output_type": "stream",
       "stream": "stdout",
       "text": [
        "[-1.6015-2.6314i -0.0146+0.8546i  0.1319+0.8543i -0.3637+1.6445i  0.2886+0.2039i;\n",
        " -0.1129-0.0804i  0.7764+2.8224i -0.9204-0.3137i -0.6277+0.2941i  0.2396-0.4465i;\n",
        "  0.0934+0.0114i  0.0564+0.1950i  2.6169-0.2440i -1.7832-1.3959i -0.5558+0.1329i;\n",
        "  0.5451+0.1034i  0.1399-0.1311i  0.1133+0.0807i -2.7346-0.3744i -0.3015+1.8410i;\n",
        " -0.3556-0.1603i -0.2158+0.1214i -0.0361-0.0004i  0.1821-0.0500i -2.6172+0.2074i;\n",
        "  0.1223+0.0195i -0.4014+0.0263i  0.0138+0.0078i  0.3367-0.0586i -0.0477+0.0550i;\n",
        "  0.0316+0.0543i -0.1702-0.2453i -0.1203-0.1001i -0.3103+0.2318i -0.1391-0.4536i;\n",
        "  0.0271-0.1016i  0.1197+0.0974i -0.0557-0.5894i -0.1668-0.1958i  0.1586-0.0038i]\n",
        "\n"
       ]
      }
     ],
     "prompt_number": 39
    },
    {
     "cell_type": "code",
     "collapsed": false,
     "input": [
      "R.mprint(f)"
     ],
     "language": "python",
     "metadata": {},
     "outputs": [
      {
       "output_type": "stream",
       "stream": "stdout",
       "text": [
        "[-1.6015-2.6314i -0.0146+0.8546i  0.1319+0.8543i -0.3637+1.6445i  0.2886+0.2039i;\n",
        "  0.0000+0.0000i  0.7764+2.8224i -0.9204-0.3137i -0.6277+0.2941i  0.2396-0.4465i;\n",
        "  0.0000+0.0000i  0.0000+0.0000i  2.6169-0.2440i -1.7832-1.3959i -0.5558+0.1329i;\n",
        "  0.0000+0.0000i  0.0000+0.0000i  0.0000+0.0000i -2.7346-0.3744i -0.3015+1.8410i;\n",
        "  0.0000+0.0000i  0.0000+0.0000i  0.0000+0.0000i  0.0000+0.0000i -2.6172+0.2074i;\n",
        "  0.0000+0.0000i  0.0000+0.0000i  0.0000+0.0000i  0.0000+0.0000i  0.0000+0.0000i;\n",
        "  0.0000+0.0000i  0.0000+0.0000i  0.0000+0.0000i  0.0000+0.0000i  0.0000+0.0000i;\n",
        "  0.0000+0.0000i  0.0000+0.0000i  0.0000+0.0000i  0.0000+0.0000i  0.0000+0.0000i]\n",
        "\n"
       ]
      }
     ],
     "prompt_number": 40
    },
    {
     "cell_type": "code",
     "collapsed": false,
     "input": [
      "AC=fullQProd(B,R)"
     ],
     "language": "python",
     "metadata": {},
     "outputs": [],
     "prompt_number": 41
    },
    {
     "cell_type": "code",
     "collapsed": false,
     "input": [
      "A.mprint(f)\n",
      "AC.mprint(f)\n",
      "print('frobenius of A-QR :%.6f'%((A-AC).normFro))"
     ],
     "language": "python",
     "metadata": {},
     "outputs": [
      {
       "output_type": "stream",
       "stream": "stdout",
       "text": [
        "[ 0.5080+0.8347i  0.5352-0.3009i  0.6986-0.2133i -0.9603-1.1831i  0.2314+0.9088i;\n",
        "  0.0404-0.5608i -0.4766-1.0832i  0.2077-0.3781i  0.5062+0.7615i -0.3828-0.1095i;\n",
        "  0.1575+0.3478i  0.7812-0.5409i -0.9682+0.2537i -0.3203+1.4490i  0.7925+0.4486i;\n",
        "  0.7917+2.1075i -0.2578-0.9877i  0.1266-0.9733i  1.3545-1.1464i  0.2552-1.6381i;\n",
        " -0.1946-1.5706i  0.3411+1.0510i -0.4960+0.4630i  0.1719+1.0326i  1.6241-1.3368i;\n",
        "  0.1905+0.4652i  0.6356+1.4426i -0.4736-0.0545i  0.8353-0.3629i  0.0267-1.2722i;\n",
        " -0.1215+0.2238i -0.7123+0.9421i  0.3103+0.0404i -1.3142-0.1867i  0.0963-0.4964i;\n",
        "  0.4091-0.1203i  0.1547-0.6720i  0.4884+2.2117i  0.8869-1.7553i -0.1715-0.3691i]\n",
        "\n",
        "[ 0.5080+0.8347i  0.5352-0.3009i  0.6986-0.2133i -0.9603-1.1831i  0.2314+0.9088i;\n",
        "  0.0404-0.5608i -0.4766-1.0832i  0.2077-0.3781i  0.5062+0.7615i -0.3828-0.1095i;\n",
        "  0.1575+0.3478i  0.7812-0.5409i -0.9682+0.2537i -0.3203+1.4490i  0.7925+0.4486i;\n",
        "  0.7917+2.1075i -0.2578-0.9877i  0.1266-0.9733i  1.3545-1.1464i  0.2552-1.6381i;\n",
        " -0.1946-1.5706i  0.3411+1.0510i -0.4960+0.4630i  0.1719+1.0326i  1.6241-1.3368i;\n",
        "  0.1905+0.4652i  0.6356+1.4426i -0.4736-0.0545i  0.8353-0.3629i  0.0267-1.2722i;\n",
        " -0.1215+0.2238i -0.7123+0.9421i  0.3103+0.0404i -1.3142-0.1867i  0.0963-0.4964i;\n",
        "  0.4091-0.1203i  0.1547-0.6720i  0.4884+2.2117i  0.8869-1.7553i -0.1715-0.3691i]\n",
        "\n",
        "frobenius of A-QR :0.000000\n"
       ]
      }
     ],
     "prompt_number": 42
    }
   ],
   "metadata": {}
  }
 ]
}