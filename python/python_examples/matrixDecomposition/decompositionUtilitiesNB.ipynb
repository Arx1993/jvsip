{
 "metadata": {
  "name": "decompositionUtilitiesNB"
 },
 "nbformat": 3,
 "nbformat_minor": 0,
 "worksheets": [
  {
   "cells": [
    {
     "cell_type": "markdown",
     "metadata": {},
     "source": [
      "## Decompostion Utilities\n",
      "### Notation and Simple Relations to pyJvsip   \n",
      "#### Vector   \n",
      "A vector is designated $\\vec{x}$ and generally uses a lower case. For math purposes a vector should be considered equivalent to a single column of a matrix; although for program puposes there are differeces between vector and matrice views. \n",
      "#### Vector Norm and View Methods   \n",
      "Vector and Matrix norms are not supported in C VSIPL but have been included with the pyJvsip implementation. For mathematical definitions of norms the reader should consult a linear algebra text or search the internet. The norms supported in pyJvsip are the one norm (norm1), the two norm (norm2), the infinity norm (normInf) and the Frobenius norm (normFro).\n",
      "A vector norm is designated as $\\parallel \\vec{x} \\parallel $. A two norm as ${\\parallel \\vec{x} \\parallel }_{\\:2} $\n",
      "#### Unit Vectors   \n",
      "A unit vector is designated as in $\\hat{x}$. To produce a unit vector $\\hat{x} = {\\vec{x} \\over {{\\parallel \\vec{x} \\parallel }_{2}}}$\n",
      "#### dot, jdot and outer   \n",
      "Note that `dot`, `jdot`, and `outer` are only defined for views of type vector. \n",
      "A math indicator like $ \\vec{x} {\\;} \\vec{y}^H $ in done using an outer product and produces a view of type matrix. An indicator like $\\vec{x}^H {\\;} \\vec{y} $ is done using `jdot` and produces a scalar. An indicator like $\\vec{x}^T {\\;} \\vec{y} $ is done using `dot` and produces a scalar.   \n",
      "#### Identity Matrix    \n",
      "The identity matrix is square with ones on the diagonal and zero elsewhere. We designate it as $I$ and when the size is of interest we indicate it as a subscript as in $I_m$ or $I_n$. The function `eye(type,size)` is defined for creating a data space with an identity matrix in it. This is a convenience since we sometimes need a matrix for matrix product accumulations and the identity matrix is a convenient starting place."
     ]
    },
    {
     "cell_type": "code",
     "collapsed": false,
     "input": [
      "import pyJvsip as pv"
     ],
     "language": "python",
     "metadata": {},
     "outputs": [],
     "prompt_number": 1
    },
    {
     "cell_type": "markdown",
     "metadata": {},
     "source": [
      "#### Identity Matrix\n",
      "The function eye(t,n) where t is a pyJvsip matrix type and n is an integer creates and returns an identity matrix of size n and type t. This is a convenience function."
     ]
    },
    {
     "cell_type": "code",
     "collapsed": false,
     "input": [
      "def eye(t,n): # create and return an identity matrix of size n and type t\n",
      "    return pv.create(t,n,n).identity"
     ],
     "language": "python",
     "metadata": {},
     "outputs": [],
     "prompt_number": 2
    },
    {
     "cell_type": "markdown",
     "metadata": {},
     "source": [
      "#### Sign Function\n",
      "The sign function is used for Householder and Givens calculations. It is defined in several texts although the text I am using here is the LAPACK Working Notes document #148. "
     ]
    },
    {
     "cell_type": "code",
     "collapsed": false,
     "input": [
      "def sign(a_in): # see  LAPACK Working Notes 148 for definition of sign\n",
      "    if type(a_in) is int:\n",
      "        a=float(a_in)\n",
      "    else:\n",
      "        a=a_in\n",
      "    if type(a) is float or type(a) is complex:\n",
      "        t=pv.vsip_hypot_d(a.real,a.imag)\n",
      "        if t == 0.0:\n",
      "            return 1.0\n",
      "        elif a.imag==0.0:\n",
      "            if a.real < 0.0:\n",
      "                return -1.0\n",
      "            else:\n",
      "                return 1.0\n",
      "        else:\n",
      "            return a/t\n",
      "    else:\n",
      "        print('sign function only works on scalars')\n",
      "        return"
     ],
     "language": "python",
     "metadata": {},
     "outputs": [],
     "prompt_number": 3
    },
    {
     "cell_type": "markdown",
     "metadata": {},
     "source": [
      "#### Householder Vector\n",
      "The function houseVector returns a normalized householder vector.   \n",
      "Note that, in general, the householder matrix is given by   \n",
      "$H=(I-{2 \\over {\\vec{v}^H {\\,}\\vec{v}}} \\vec{v} {\\,} \\vec{v}^H) $  \n",
      "No matter how the householder vector is normalized this $H$ will always work."
     ]
    },
    {
     "cell_type": "code",
     "collapsed": false,
     "input": [
      "def houseVector(x): \n",
      "    \"\"\"\n",
      "     This algorithm returns a normalized householder vector 'v' such that\n",
      "     the householder projection matrix 'H' is:\n",
      "     H = I - 2 v v*\n",
      "    \"\"\"\n",
      "    if 'vview' not in x.type:\n",
      "        print('Function houseVector only works on vector views')\n",
      "        return\n",
      "    v=x.copy\n",
      "    v[0] += (sign(x[0]) * x.norm2)\n",
      "    n = v.norm2\n",
      "    if n == 0.0:\n",
      "        v[0] = 1.0\n",
      "    else:\n",
      "        v /= n\n",
      "    return v"
     ],
     "language": "python",
     "metadata": {},
     "outputs": [],
     "prompt_number": 4
    },
    {
     "cell_type": "markdown",
     "metadata": {},
     "source": [
      "#### Householder Matrix\n",
      "The function house creates and returns a householder matrix.  \n",
      "Note that generally you would not want to do this for performance and memory management reasons; however, this is the most straight forward representation when you are trying to wrap your head around some new concept."
     ]
    },
    {
     "cell_type": "code",
     "collapsed": false,
     "input": [
      "def house(v): # create and return househoulder rotation matrix\n",
      "              # vector v; works for any valid househoulder vector\n",
      "    t={'vview_f':'mview_f','vview_d':'mview_d',\n",
      "       'cvview_f':'cmview_f','cvview_d':'cmview_d'}\n",
      "    return(eye(t[v.type],v.length) - v.outer(2.0/v.jdot(v),v))"
     ],
     "language": "python",
     "metadata": {},
     "outputs": [],
     "prompt_number": 5
    },
    {
     "cell_type": "markdown",
     "metadata": {},
     "source": [
      "#### QR Decomposition Representation\n",
      "The function QRD_inPlace(A) will, in-place, do a $Q R$ factorization of A.\n",
      "The QRD_inPlace function stores the $R$ matrix of the $Q R$ factorization\n",
      "in the upper triangular portion of the input matrix and the v[1:] portion\n",
      "of the householder vectors in the remaining lower triangular portion of the\n",
      "input matrix. The householder vectors are normalized so that v[0] is one.\n",
      "For more info see Goulub & VanLoan; Matrix Calculations"
     ]
    },
    {
     "cell_type": "code",
     "collapsed": false,
     "input": [
      "def QRD_inPlace(A):\n",
      "    m=A.collength\n",
      "    n=A.rowlength\n",
      "    if m < n:\n",
      "        print('The input matrix must have collength >= rowlength.')\n",
      "        print('For matrices where m > n use the transpose.')\n",
      "    for i in range(n-1):\n",
      "        x=A[i:,i:].colview(0)\n",
      "        v=houseVector(x)\n",
      "        v /= v[0]\n",
      "        A[i:,i:]=house(v).prod(A[i:,i:])\n",
      "        x[1:]=v[1:]\n",
      "    if m > n: #do last column if matrix not square\n",
      "        i=n-1\n",
      "        x=A[i:,i:].colview(0)\n",
      "        v=houseVector(x)\n",
      "        v /= v[0]\n",
      "        A[i:,i:]=house(v).prod(A[i:,i:])\n",
      "        x[1:]=v[1:]"
     ],
     "language": "python",
     "metadata": {},
     "outputs": [],
     "prompt_number": 6
    },
    {
     "cell_type": "markdown",
     "metadata": {},
     "source": [
      "#### Householder Matrix Products\n",
      "The function houseProd(v,A), where v is a householder vector and A is a matrix  \n",
      "(size must be conformant), will return $ H A = (I - \\beta {\\,} \\vec{v} {\\,}\\vec{v}^H) A = A - \\beta {\\,} \\vec{v}{\\,} (\\vec{v}^H A) = A - \\beta {\\,} \\vec{v}{\\,} \\vec{w}^H$.  \n",
      "Done in-place. The output is in $A$"
     ]
    },
    {
     "cell_type": "code",
     "collapsed": false,
     "input": [
      "def houseProd(v,A):\n",
      "    beta = 2.0/v.jdot(v)\n",
      "    v.conj;w=v.prod(A).conj;v.conj\n",
      "    A -= v.outer(beta,w)"
     ],
     "language": "python",
     "metadata": {},
     "outputs": [],
     "prompt_number": 7
    },
    {
     "cell_type": "markdown",
     "metadata": {},
     "source": [
      "The function prodHouse(A,v), where v is a householder vector and A is a matrix  \n",
      "(size must be conformant), will return $ A{\\,} H {\\,}= {\\,}A {\\,}(I - \\beta{\\,} \\vec{v} {\\,} \\vec{v}^H) = A - \\beta{\\,} (A {\\,} \\vec{v}) {\\,}\\vec{v}^H = A - \\beta{\\,} \\vec{w} {\\,} \\vec{v}^H $  \n",
      "Done in-place. The output is in $A$"
     ]
    },
    {
     "cell_type": "code",
     "collapsed": false,
     "input": [
      "def prodHouse(A,v):\n",
      "    beta = 2.0/v.jdot(v)\n",
      "    w=A.prod(v)\n",
      "    A-=w.outer(beta,v)"
     ],
     "language": "python",
     "metadata": {},
     "outputs": [],
     "prompt_number": 8
    },
    {
     "cell_type": "markdown",
     "metadata": {},
     "source": [
      "#### Q Matrix Product\n",
      "The function `fullQProd(Q,B)` takes a matrix produced by `QRD_inPlace`   \n",
      "(containing $Q$ information in householder vectors) and does a matrix product of $Q$ times $B$.  \n",
      "The result is returned in a new matrix."
     ]
    },
    {
     "cell_type": "code",
     "collapsed": false,
     "input": [
      "def fullQProd(Q,B):\n",
      "    m=Q.collength\n",
      "    n=B.rowlength\n",
      "    U=B.copy\n",
      "    if m > n: #extract last column if matrix is not square\n",
      "        i=n-1\n",
      "        v=Q[i:,i:].colview(0).copy\n",
      "        v[0]=1\n",
      "        houseProd(v,U[i:,i:])\n",
      "    for i in range(n-2,-1,-1):\n",
      "        v=Q[i:,i:].colview(0).copy\n",
      "        v[0]=1\n",
      "        houseProd(v,U[i:,i:])\n",
      "    return U"
     ],
     "language": "python",
     "metadata": {},
     "outputs": [],
     "prompt_number": 9
    },
    {
     "cell_type": "markdown",
     "metadata": {},
     "source": [
      "#### Q Matrix\n",
      "Matrix B is created using function `QRD_inPlace`.   \n",
      "The function `QmatExtract(B)` will create a new matrix containing the $Q$ factor of the $Q R$ factorization  \n",
      "using the householder vectors stored in the columns of matrix $B$."
     ]
    },
    {
     "cell_type": "code",
     "collapsed": false,
     "input": [
      "def QmatExtract(B):\n",
      "    m=B.collength\n",
      "    n=B.rowlength\n",
      "    Q=eye(B.type,m)\n",
      "    if m > n: #extract last column if matrix is not square\n",
      "        i=n-1\n",
      "        v=B[i:,i:].colview(0).copy\n",
      "        v[0]=1\n",
      "        houseProd(v,Q[i:,i:])\n",
      "    for i in range(n-2,-1,-1):\n",
      "        v=B[i:,i:].colview(0).copy\n",
      "        v[0]=1\n",
      "        houseProd(v,Q[i:,i:])\n",
      "    return Q"
     ],
     "language": "python",
     "metadata": {},
     "outputs": [],
     "prompt_number": 10
    },
    {
     "cell_type": "markdown",
     "metadata": {},
     "source": [
      "#### R Matrix\n",
      "Matrix B is created using function `QRD_inPlace`.  \n",
      "The function `RmatExtract(B)` will create a new matrix containing the $R$ factor of the QR factorization.  \n",
      "Basically a copy of $B$ is made and the householder vectors in the lower triangular portion are zeroed."
     ]
    },
    {
     "cell_type": "code",
     "collapsed": false,
     "input": [
      "def RmatExtract(B):\n",
      "    R=B.copy\n",
      "    m=B.collength\n",
      "    for i in range(1,m):\n",
      "        R.diagview(-i).fill(0.0)\n",
      "    return R"
     ],
     "language": "python",
     "metadata": {},
     "outputs": [],
     "prompt_number": 11
    },
    {
     "cell_type": "markdown",
     "metadata": {},
     "source": [
      "The function `houseQR` produces, out-of-place, the Factors $Q$ and $R$ of a QR decomposition"
     ]
    },
    {
     "cell_type": "code",
     "collapsed": false,
     "input": [
      "def houseQR(A):\n",
      "    R=A.copy\n",
      "    m=A.collength\n",
      "    n=A.rowlength\n",
      "    if m < n:\n",
      "        print('The input matrix must have collength >= rowlength.')\n",
      "        print('for matrices where m > n use the transpose')\n",
      "    for i in range(n-1):\n",
      "        x=R[i:,i:].colview(0)\n",
      "        v=houseVector(x)\n",
      "        v /= v[0]\n",
      "        houseProd(v,R[i:,i:])\n",
      "        x[1:]=v[1:]\n",
      "    if m > n: #do last column if matrix not square\n",
      "        i=n-1\n",
      "        x=R[i:,i:].colview(0)\n",
      "        v=houseVector(x)\n",
      "        v /= v[0]\n",
      "        houseProd(v,R[i:,i:])\n",
      "        x[1:]=v[1:]\n",
      "    #accumulate Q\n",
      "    Q = QmatExtract(R)\n",
      "    #zero entries of R\n",
      "    for i in range(1,m):\n",
      "        R.diagview(-i).fill(0.0)\n",
      "    return (Q,R)"
     ],
     "language": "python",
     "metadata": {},
     "outputs": [],
     "prompt_number": 12
    },
    {
     "cell_type": "markdown",
     "metadata": {},
     "source": [
      "#### Householder Bidiagonalization"
     ]
    },
    {
     "cell_type": "markdown",
     "metadata": {},
     "source": [
      "The function `bidiag(A)` will (out of place) produce a new matrix with the essential  \n",
      "householder vectors stored in the zeored elements and bidiagonalization elements  \n",
      "stored in the main diagonal and the first super-diagonal.  \n",
      "This is the first step to SVD computation.\n",
      "Note this calculates the esential informationtion for the matrix decomposition   \n",
      "   \n",
      "$A \\rightarrow U B V^H $    \n",
      "    \n",
      "Functions are defined to extract the matrices $U$ and $V^H$ as well as the bidiagonal matrix $B$."
     ]
    },
    {
     "cell_type": "code",
     "collapsed": false,
     "input": [
      "def bidiag(A): # m >= n\n",
      "    \"\"\"\n",
      "      B=bidiag(A)\n",
      "        returns, out of place, the bidiagonal decomposition of A.\n",
      "        The esential househoulder vectors are stored in the zeroed \n",
      "        entries of B.\n",
      "    \"\"\"\n",
      "    B=A.copy\n",
      "    m=B.collength\n",
      "    n=B.rowlength\n",
      "    if m < n:\n",
      "        print('The input matrix must have collength >= rowlength.')\n",
      "        print('for matrices where m > n use the transpose')\n",
      "    for i in range(n-1):\n",
      "        x=B[i:,i:].colview(0)\n",
      "        v=houseVector(x)\n",
      "        v /= v[0]\n",
      "        houseProd(v,B[i:,i:])\n",
      "        x[1:]=v[1:]\n",
      "        if i < n-2:\n",
      "            j=i+1\n",
      "            x = B[i:,j:].rowview(0)\n",
      "            #v=houseVector(x.conj);x.conj \n",
      "            v=houseVector(x).conj \n",
      "            v /= v[0]\n",
      "            prodHouse(B[i:,j:],v)#=B[i:,j:].prod(house(v))\n",
      "            x[1:]=v[1:]\n",
      "    if m > n: #do last column if matrix not square\n",
      "        i=n-1\n",
      "        x=B[i:,i:].colview(0)\n",
      "        v=houseVector(x)\n",
      "        v /= v[0]\n",
      "        houseProd(v,B[i:,i:])\n",
      "        x[1:]=v[1:]\n",
      "    return B\n",
      "def bidiagExtract(B):\n",
      "    \"\"\"\n",
      "      B=bidiagExtract(B0)\n",
      "        Returns, out of place, a matrix with the bidiagonal entries. \n",
      "        Input matrix is one produced by B0=bidiag(A)\n",
      "    \"\"\"\n",
      "    B0=B.empty.fill(0.0)\n",
      "    B0.diagview(0)[:] = B.diagview(0)\n",
      "    B0.diagview(1)[:] = B.diagview(1)\n",
      "    return B0\n",
      "def UmatExtract(B):\n",
      "    \"\"\"\n",
      "      U=UmatExtract(B0)\n",
      "        returns, out of place, the U matrix of the bidiagonal \n",
      "        decomposition A=UBV^H given the result of bidiag routine \n",
      "        B0=bidiag(A)\n",
      "    \"\"\"\n",
      "    m=B.collength\n",
      "    n=B.rowlength\n",
      "    U=eye(B.type,m)\n",
      "    if m > n: #extract last column if matrix is not square\n",
      "        i=n-1\n",
      "        v=B[i:,i:].colview(0).copy\n",
      "        v[0]=1\n",
      "        houseProd(v,U[i:,i:])\n",
      "    for i in range(n-2,-1,-1):\n",
      "        v=B[i:,i:].colview(0).copy\n",
      "        v[0]=1\n",
      "        houseProd(v,U[i:,i:])\n",
      "    return U\n",
      "def VHmatExtract(B):\n",
      "    \"\"\"\n",
      "      VH=UmatExtract(B0)\n",
      "        returns, out of place, the hermtian V matrix of the bidiagonal \n",
      "        decomposition A=UBV^H given the result of bidiag routine \n",
      "        B0=bidiag(A)\n",
      "    \"\"\"\n",
      "    m=B.collength\n",
      "    n=B.rowlength\n",
      "    V=eye(B.type,n)\n",
      "    for i in range(n-3,-1,-1):\n",
      "        j=i+1\n",
      "        v=B[i:,j:].rowview(0).copy\n",
      "        v[0]=1\n",
      "        prodHouse(V[j:,j:],v)#=V[j:,j:].prod(house(v))\n",
      "    return V"
     ],
     "language": "python",
     "metadata": {},
     "outputs": [],
     "prompt_number": 13
    },
    {
     "cell_type": "markdown",
     "metadata": {},
     "source": [
      "#### Phase rotation of bidiagonal matrix\n",
      "The bidiagnoal matrix produced by `B=bidiag(A)` might be complex and might have negative numbers on the main diagonal. It is possible to phase shift the matrix so that all the entries on the main diagonal are positive (or zero) and the bidiagonal has only real entries.    \n",
      "$ A \\rightarrow U_{complex} B_{complex} {V^H}_{complex} \\rightarrow {U^'}_{complex} {B^'}_{real} {{V^'}^H}_{complex} $"
     ]
    },
    {
     "cell_type": "code",
     "collapsed": false,
     "input": [
      "def biDiagPhaseToZero(L,d,f,R,eps0):\n",
      "    \"\"\" \n",
      "    For a Bidiagonal matrix B This routine uses subview vectors\n",
      "      `d=B.diagview(0)`\n",
      "    and \n",
      "      `f=B.diagview(1)`\n",
      "    and phase shifts vectors d and f so that B has zero complex part.\n",
      "    Matrices L and R are the update matrices.\n",
      "    \"\"\"\n",
      "    for i in range(d.length):\n",
      "        ps=d[i]\n",
      "        m=pv.vsip_hypot_d(ps.real,ps.imag)\n",
      "        if m > eps0:\n",
      "            ps /= m\n",
      "            L.colview(i)[:] *= ps\n",
      "            d[i] = m\n",
      "            if i < f.length:\n",
      "                f[i] *= ps.conjugate()\n",
      "        else:\n",
      "            d[i] = 0.0;\n",
      "    grs_zero_checkAndSet(eps0,d,f)          \n",
      "    for i in range(f.length-1):\n",
      "        j=i+1\n",
      "        ps = f[i]\n",
      "        if ps.imag != 0.0:\n",
      "            m=pv.vsip_hypot_d(ps.real,ps.imag)\n",
      "            ps /= m\n",
      "            L.colview(j)[:] *= ps.conjugate()\n",
      "            R.rowview(j)[:] *= ps\n",
      "            f[i] = m;\n",
      "            f[j] *= ps\n",
      "    i=f.length -1\n",
      "    ps=f[i]\n",
      "    j=i+1\n",
      "    if ps.imag != 0.0:\n",
      "        m=pv.vsip_hypot_d(ps.real,ps.imag)\n",
      "        ps /= m\n",
      "        f[i]=m\n",
      "        L.colview(j)[:] *= ps.conjugate()\n",
      "        R.rowview(j)[:] *= ps"
     ],
     "language": "python",
     "metadata": {},
     "outputs": [],
     "prompt_number": 14
    },
    {
     "cell_type": "markdown",
     "metadata": {},
     "source": [
      "## Givens rotations\n",
      "Givens rotations are used to selectivly zero elements in a column or row of a matrix   \n",
      "### Givens Coefficients\n",
      "The function  \n",
      "$\\;\\;\\;\\;\\;$c,s,r = `givensCoef(`$x_0,y_0$`)`     \n",
      "returns numbers c,s and r such that   \n",
      "  \n",
      "$\n",
      "\\begin{bmatrix} c & s \\\\\\\\ -\\bar{s} & c \\end{bmatrix} \n",
      "\\begin{bmatrix} x_0 & x_1 \\\\\\\\ y_0 & y_1 \\end{bmatrix} =\n",
      "\\begin{bmatrix}c {\\;}x_0 {\\;}+{\\;} s {\\;}y_0 & c {\\;}x_1 {\\;}+{\\;} s {\\;}y_1\\\\\\\\ c {\\;}y_0 {\\;}-{\\;} \\bar{s} {\\;}x_0 & c {\\;}y_1 {\\;}-{\\;} \\bar{s} {\\;}x_1\\end{bmatrix} =\n",
      "\\begin{bmatrix} r & c {\\;}x_1 {\\;}+{\\;} s {\\;}y_1 \\\\\\\\ 0 & c {\\;}y_1 {\\;}-{\\;} \\bar{s} {\\;}x_1\\end{bmatrix}\n",
      "$    \n",
      "    \n",
      "where $\\bar{s}$ is the conjugate of $s$.  Note (it turns out that) $c$ is always real.  \n",
      "This algorithm is adapted from Algorithm 1 of LAPACK working notes lawn148\n",
      "\n",
      "Note that the transpose of $G$ denoted $G_T$ (not the hermetian of G) yields  \n",
      "$ {\\left( {\\begin{bmatrix} c & s \\\\\\\\ -\\bar{s} & c \\end{bmatrix} \\begin{bmatrix} x \\\\\\\\ y \\end{bmatrix}} \\right)}^T\n",
      "= {\\left( {\\begin{bmatrix} x & y \\end{bmatrix} \\begin{bmatrix} c & -\\bar{s} \\\\\\\\s  & c \\end{bmatrix} } \\right)}=\\begin{bmatrix} r & 0 \\end{bmatrix} $  \n",
      "gives a method for zeroing an element in a row."
     ]
    },
    {
     "cell_type": "code",
     "collapsed": false,
     "input": [
      "def givensCoef(x1_in,x2_in):\n",
      "    \"\"\" Code adapted from Algorithm 1 of LAPACK working Notes lawn148\n",
      "    \"\"\"\n",
      "    if type(x1_in) is int:\n",
      "        x1=float(x1_in)\n",
      "    else:\n",
      "        x1 = x1_in\n",
      "    if type(x2_in) is int:\n",
      "        x2=float(x2_in)\n",
      "    else:\n",
      "        x2 = x2_in\n",
      "    if type(x1) is float and type(x2) is float:\n",
      "        t=pv.vsip_hypot_d(x1,x2)\n",
      "        if x2 == 0.0:\n",
      "            return (1.0,0.0,x1)\n",
      "        elif x1 == 0.0:\n",
      "            return (0.0,sign(x2),t)\n",
      "        else: # return (c,s,r)\n",
      "            sn=sign(x1)\n",
      "            return(pv.vsip_mag_d(x1)/t,sn*x2/t,sn*t)\n",
      "    elif type(x1) is complex or type(x2) is complex:\n",
      "        mx1=pv.vsip_hypot_d(x1.real,x1.imag)\n",
      "        mx2=pv.vsip_hypot_d(x2.real,x2.imag)\n",
      "        if mx2 == 0.0:\n",
      "            return(1.0,0.0,x1)\n",
      "        elif mx1 == 0.0:\n",
      "            return(0,sign(x2.conjugate()),mx2)\n",
      "        else:\n",
      "            t=pv.vsip_hypot_d(mx1,mx2)\n",
      "            c=mx1/t\n",
      "            sn=sign(x1)\n",
      "            s=(sn * x2.conjugate())/t\n",
      "            r=sn * t\n",
      "            return(c,s,r)\n",
      "    else:\n",
      "        print('Type <:'+repr(type(x1)) + ':> or <:'+ \\\n",
      "             repr(type(x2))+':> not recognized by givensCoef')\n",
      "        return"
     ],
     "language": "python",
     "metadata": {},
     "outputs": [],
     "prompt_number": 15
    },
    {
     "cell_type": "markdown",
     "metadata": {},
     "source": [
      "We define 4 matrices around the givens coefficients, $(c,s)$, which allow us to decompose a matrix.    \n",
      "     \n",
      "$G {\\;}= {\\;} \\begin{bmatrix} c & s \\\\\\\\ -\\bar{s} & c \\end{bmatrix} $   ${\\;}{\\;}{\\;}$ $G_T{\\;}={\\;} \\begin{bmatrix} c & -\\bar{s} \\\\\\\\ s & c \\end{bmatrix}$   \n",
      "     \n",
      "$G^H = \\begin{bmatrix} c & -s \\\\\\\\ \\bar{s} & c \\end{bmatrix} $   ${\\;}{\\;}$  ${G_T}^H=\\begin{bmatrix} c & \\bar{s} \\\\\\\\ -s & c \\end{bmatrix}$\n",
      "    \n",
      "Matrix $G$ is used to zero elements in a column   \n",
      "Matrix $G^H$ is the inverse of G and is used when accumulating the decomposition matrix on the left   \n",
      "Matrix $G_T$ is used to zero elements in a row    \n",
      "Matrix ${G_T}^H$ is the inverse of $G_T$ and is used when accumulating the decomposition matrix on the right.    \n",
      "    \n",
      "Note that   \n",
      "$ G G^H = G^H G = I $   \n",
      "and  \n",
      "$ G_T {G_T}^H = {G_T}^H G_T = I $  \n",
      "    \n",
      "So we have   \n",
      "$ A = ({G_i}^H {G_{i-1}}^H \\ldots {G_0}^H)( G_0 G_1 \\ldots G_i) A ({G_T}_0 {G_T}_1 \\ldots {G_T}_i)({{G_T}_i}^H{{G_T}_{i-1}}^H\\ldots{{G_T}_0}^H){\\;}={\\;}L{\\;}D{\\;}R$    \n",
      "    \n",
      "Where    \n",
      "${\\;\\;\\;\\;}L = {G_i}^H {G_{i-1}}^H \\ldots {G_0}^H $  \n",
      "${\\;\\;\\;\\;}D = ( G_0 G_1 \\ldots G_i) A ({G_T}_0 {G_T}_1 \\ldots {G_T}_i) $   \n",
      "${\\;\\;\\;\\;}R = {{G_T}_i}^H{{G_T}_{i-1}}^H\\ldots{{G_T}_0}^H{\\;}$   \n",
      "   \n",
      "are the three matrices $ A $ has been decomposed to. The actual decomposition depends on    \n",
      "how the $(x,y)$ elements are chosen and the order in which they are chosen when    \n",
      "calculating the givens coefficients.   \n",
      "### Givens Matrix   \n",
      "For this document a (extended) givens matrix is an identity matrix (of the proper size for a matrix   \n",
      "multiply) with two diagonal elements replaced with $c{\\;}$ from the `givensCoef` function. If the elements are    \n",
      "placed at index $\\left( i,i \\right)\\;$ and $\\left( j,j \\right)\\;$ where $ i \\lt j {\\;}$ then the $s{\\;}$ from the `givensCoef` function is placed at $\\left( i, j \\right){\\;}$     \n",
      "and $- \\bar{s}\\;$ is placed at $\\left( j, i \\right){\\;}$.    \n",
      "The extended givens matrix is normally not used explicitly but, for experimentation purposes,   \n",
      "we define function `givensExtract` to produce one."
     ]
    },
    {
     "cell_type": "code",
     "collapsed": false,
     "input": [
      "# return G\n",
      "def givensExtract(t,i,j,c,s,size):\n",
      "    \"\"\"\n",
      "       Usage:\n",
      "         G=givensExtract(t,i,j,c,s,size)\n",
      "         t = type \n",
      "         i,j are index values for placement of \n",
      "         c,s which are obtained (probably) from function givensCoef. \n",
      "         size is an integer\n",
      "    \"\"\"\n",
      "    G=eye(t,size)\n",
      "    G[i,i]=c;G[j,j]=c;G[i,j]=s;G[j,i]=-s.conjugate()\n",
      "    return G"
     ],
     "language": "python",
     "metadata": {},
     "outputs": [],
     "prompt_number": 16
    },
    {
     "cell_type": "markdown",
     "metadata": {},
     "source": [
      "### Givens Matrix Products   \n",
      "The function `gProd` does    \n",
      "${\\;}{\\;}{\\;}{\\;} A{\\;} = {\\;}G {\\;} A{\\;} $    \n",
      "and the function `prodG` does    \n",
      "${\\;}{\\;}{\\;}{\\;}A{\\;}={\\;}A{\\;} G^H{\\;}$.   \n",
      "The ${\\;}$ is returned as a convenience although this is an in-place operation.   \n",
      "Note that temporary vectors are created internal to the routine so this is not totally in-place."
     ]
    },
    {
     "cell_type": "code",
     "collapsed": false,
     "input": [
      "def gProd(i,j,c,s,A):\n",
      "    a1=A.rowview(i).copy\n",
      "    a2=A.rowview(j).copy\n",
      "    A.rowview(i)[:]= c * a1 + s * a2 \n",
      "    A.rowview(j)[:]= c * a2 - s.conjugate() * a1\n",
      "    return A\n",
      "def prodG(A,i,j,c,s):\n",
      "    a_i=A.colview(i).copy\n",
      "    a_j=A.colview(j).copy\n",
      "    A.colview(i)[:]= c * a_i + s.conjugate() * a_j \n",
      "    A.colview(j)[:]= c * a_j - s * a_i\n",
      "    return A"
     ],
     "language": "python",
     "metadata": {},
     "outputs": [],
     "prompt_number": 17
    },
    {
     "cell_type": "markdown",
     "metadata": {},
     "source": [
      "The function `gtProd` does  \n",
      "${\\;}{\\;}{\\;}{\\;}A{\\;}={\\;}{G_T}^H{\\;}A{\\;}$   \n",
      "and the function `prodGt` does   \n",
      "${\\;}{\\;}{\\;}{\\;}A{\\;}={\\;}A{\\;}G_T $.   \n",
      "The $A$ is returned as a convenience although this is an in-place operation.   \n",
      "Note that temporary vectors are created internal to the routine so this is not totally in-place."
     ]
    },
    {
     "cell_type": "code",
     "collapsed": false,
     "input": [
      "def gtProd(i,j,c,s,A):\n",
      "    a_i=A.rowview(i).copy\n",
      "    a_j=A.rowview(j).copy\n",
      "    A.rowview(i)[:]= c * a_i + s.conjugate() * a_j \n",
      "    A.rowview(j)[:]= c * a_j - s * a_i\n",
      "    return A\n",
      "def prodGT(A,i,j,c,s):\n",
      "    a1 = A.colview(i).copy\n",
      "    a2 = A.colview(j).copy\n",
      "    A.colview(i)[:] = c * a1 + s * a2\n",
      "    A.colview(j)[:] = c * a2 -s.conjugate() * a1\n",
      "    return A"
     ],
     "language": "python",
     "metadata": {},
     "outputs": [],
     "prompt_number": 18
    },
    {
     "cell_type": "markdown",
     "metadata": {},
     "source": [
      "#### QR Decomposition Using Givens Rotations"
     ]
    },
    {
     "cell_type": "code",
     "collapsed": false,
     "input": [
      "def givensQR(A):\n",
      "    M = A.collength\n",
      "    N = A.rowlength\n",
      "    R = A.copy\n",
      "    Q = eye(A.type,M)\n",
      "    for i in range(N):\n",
      "        B=R[i:,i:]\n",
      "        r=B[0,0]\n",
      "        for j in range(1,B.collength):\n",
      "            c,s,r=givensCoef(r,B[j,0])\n",
      "            prodG(Q,i,j+i,c,s)\n",
      "            gProd(0,j,c,s,B)\n",
      "    return (Q,R)"
     ],
     "language": "python",
     "metadata": {},
     "outputs": [],
     "prompt_number": 19
    },
    {
     "cell_type": "markdown",
     "metadata": {},
     "source": [
      "#### Bidigonalization Using Givens Rotations"
     ]
    },
    {
     "cell_type": "code",
     "collapsed": false,
     "input": [
      "def givensBidiag(A):\n",
      "    M  = A.collength\n",
      "    N  = A.rowlength\n",
      "    B  = A.copy\n",
      "    U  = eye(A.type,M)\n",
      "    VH = eye(A.type,N)\n",
      "    for i in range(N-1):\n",
      "        TC=B[i:,i:]\n",
      "        if i < N-2:\n",
      "            TR=B[i:,i+1:]\n",
      "        r=TC[0,0]\n",
      "        for j in range(1,TC.collength):\n",
      "            c,s,r=givensCoef(r,TC[j,0])\n",
      "            prodG(U,i,j+i,c,s)\n",
      "            gProd(0,j,c,s,TC)\n",
      "        if i < N-2:\n",
      "            r=TR[0,0]\n",
      "            k=i+1\n",
      "            for j in range(1,TR.rowlength):\n",
      "                c,s,r=givensCoef(r,TR[0,j])\n",
      "                gtProd(k,j+k,c,s,VH)\n",
      "                prodGT(TR,0,j,c,s)\n",
      "    if M > N:\n",
      "        i=N-1\n",
      "        TC=B[i:,i:]\n",
      "        r=TC[0,0]\n",
      "        for j in range(1,TC.collength):\n",
      "            c,s,r=givensCoef(r,TC[j,0])\n",
      "            prodG(U,i,j+i,c,s)\n",
      "            gProd(0,j,c,s,TC)\n",
      "    return (U,B,VH)"
     ],
     "language": "python",
     "metadata": {},
     "outputs": [],
     "prompt_number": 20
    },
    {
     "cell_type": "markdown",
     "metadata": {},
     "source": [
      "### Function grs_zero_checkAndSet\n",
      "For upper bidiagonal matrix `B` we need to determine when a zero has been reached on the `b1` super diagonal. For a check a small number `e` is multiplied times the vector `b0[0:n].mag + b0[1:n+1].mag` where n is the length of `b1`. Note b0 has length `n+1`. The resulting vector is compared elementwise with `b1` and where `b1` is less than the comparison vector then that element is assumed to be zero. For numerical reasons elements which check as zero are set to zero.  \n",
      "> ` b0 = B.diagview(0)`   \n",
      "> ` b1 = B.diagview(1)` designate $\\vec{b_1}$    \n",
      "> ` s = e * (b0[0:b1.length].mag + b0[1:].mag)` designate $\\vec{s}$   \n",
      "> if $\\vec{b_1}_i < \\vec{s}_i {\\:}$ then ${\\;}\\vec{b_1}_i \\leftarrow 0 $"
     ]
    },
    {
     "cell_type": "code",
     "collapsed": false,
     "input": [
      "def grs_zero_checkAndSet(e,b0,b1):\n",
      "    s=e * (b0[0:b1.length].mag + b0[1:].mag)\n",
      "    indx_bool = b1.mag.llt(s)\n",
      "    if indx_bool.anytrue:\n",
      "        b1.indxFill(indx_bool.indexbool,0.0)"
     ],
     "language": "python",
     "metadata": {},
     "outputs": [],
     "prompt_number": 21
    },
    {
     "cell_type": "markdown",
     "metadata": {},
     "source": [
      "### Function grs_corners \n",
      "For upper bidiagonal matrix `B` we need to determine index (i,i) and (j,j) so that we may break it up into 3 block bidiagonal matrices. Some of the block matrices may have no elements.   \n",
      "    \n",
      "$B = \\begin{bmatrix} B_{1,1} & 0 & 0 \\\\\\\\ 0 & B_{2,2} & 0 \\\\\\\\ 0 & 0 & B_{3,3} \\end{bmatrix} $     \n",
      "    \n",
      "Note that $B_{2,2}$ will always be present unless $B_{3,3}$ contains the entire matrix. $B_{2,2}$ consists of a submatrix that has no zeros on the super diagonal. There may be zeros present on the main diagonal. The matrix $B_{3,3}$ will be strictly diagonal with only zeros on the super diagonal. The matrix $B_{1,1}$ may be present but the condition of its members are not important except that it is bidiagonal.   \n",
      "The operation `i,j = grs_corners(b1) ` where `b1` is a vector repersenting the superdiagonal, for instance `b1 = B.digaview(1)`, returns indices `i, j` so that subviews    \n",
      ">`B[0:i,0:i]` is $B_{1,1}$   \n",
      ">`B[i:j,i:j]` is $B_{2,2}$   \n",
      ">`B[j:,j:] ` ${\\:\\:\\:}$ is $B_{3,3}$   "
     ]
    },
    {
     "cell_type": "code",
     "collapsed": false,
     "input": [
      "def grs_corners(b1):\n",
      "    \"\"\"\n",
      "       Functionality\n",
      "           i,j = grs_corners(v)\n",
      "       where \n",
      "           v is a real vector of type float or double\n",
      "           i,j are indices into the vector\n",
      "       result of \n",
      "           v[i,j] will be vector with no zero elements\n",
      "           v[j:] will be a vector with all zero elements\n",
      "       Note:\n",
      "          to use with complex v use\n",
      "          i,j=grs_corners(v.mag)\n",
      "       \n",
      "    \"\"\"\n",
      "    v_bool=b1.leq(0.0)\n",
      "    j=v_bool.length-1\n",
      "    while j >= 0 and v_bool[j] == 1:\n",
      "        j -= 1\n",
      "    if j == -1:\n",
      "        return(0,0)\n",
      "    i=j  #index of non-zero\n",
      "    j+=1 #index of zero\n",
      "    while i >= 0 and v_bool[i] == 0:\n",
      "        i -= 1\n",
      "    return(i+1,j+1)"
     ],
     "language": "python",
     "metadata": {},
     "outputs": [],
     "prompt_number": 22
    },
    {
     "cell_type": "markdown",
     "metadata": {},
     "source": [
      "### Function grs_diagZeroCheck\n",
      "For upper bidiagonal matrix `B` with no zeros on the super diagonal we need to determine if a zero is on the main diagonal. If a zero is on the main diagonal we need to zero the corresponding super diagonal entry with a givens rotation operating from the right.    \n",
      "> ` b0 = B.diagview(0)` designate $\\vec{b_0}$  \n",
      "> ` b1 = B.diagview(1)` designate $\\vec{b_1}$    \n",
      "\n",
      "c,s,r=givensCoef($b_{0,0},b_{0,1}$)   \n",
      "    \n",
      "$\\begin{bmatrix} b_{0,0} & b_{0,1} & 0 & 0 \\\\\\\\ 0 & b_{1,1} & b_{1,2} & 0 \\\\\\\\ 0 & 0 & 0 & b_{2,3} \\\\\\\\ 0 & 0 & 0 & b_{3,3} \\end{bmatrix} {\\;\\;} \\begin{bmatrix} c & -\\bar{s} & 0 & 0 \\\\\\\\ s & c & 0 & 0 \\\\\\\\ 0 & 0 & 1 & 0 \\\\\\\\ 0 & 0 & 0 & 1 \\end{bmatrix} = \n",
      "\\begin{bmatrix} c b_{0,0}+s b_{0,1} & 0 & 0 & 0 \\\\\\\\ s b_{1,1} & c b_{1,1} & b_{1,2} & 0 \\\\\\\\ 0 & 0 & 0 & b_{2,3} \\\\\\\\ 0 & 0 & 0 & b_{3,3}\\end{bmatrix}\n",
      "=  \\begin{bmatrix} r & 0 & 0 & 0 \\\\\\\\ s b_{1,1} & c b_{1,1} & b_{1,2} & 0 \\\\\\\\ 0 & 0 & 0 & b_{2,3} \\\\\\\\ 0 & 0 & 0 & b_{3,3}\\end{bmatrix}$    \n",
      "    \n",
      "c,s,r=givensCoef($d_{1,1},d_{1,2}$)   \n",
      "\n",
      "    \n",
      "$\\begin{bmatrix} d_{0,0} & 0 & 0 & 0 \\\\\\\\ d_{1,0} & d_{1,1} & d_{1,2} & 0 \\\\\\\\ 0 & 0 & 0 & d_{2,3} \\\\\\\\ 0 & 0 & 0 & d_{3,3} \\end{bmatrix}{\\;\\;} \\begin{bmatrix} 1 & 0 & 0 & 0 \\\\\\\\ 0 & c & -\\bar{s} & 0 \\\\\\\\ 0 & s & c & 0 \\\\\\\\ 0 & 0 & 0 & 1 \\end{bmatrix} = \\begin{bmatrix} d_{0,0} & 0 & 0 & 0 \\\\\\\\ d_{1,0} & c d_{1,1} + s d_{1,2} & 0 & 0 \\\\\\\\ 0 & 0 & 0 & d_{2,3} \\\\\\\\ 0 & 0 & 0 & d_{3,3}\\end{bmatrix} =\\begin{bmatrix} d_{0,0} & 0 & 0 & 0 \\\\\\\\ d_{1,0} & r & 0 & 0 \\\\\\\\ 0 & 0 & 0 & d_{2,3} \\\\\\\\ 0 & 0 & 0 & d_{3,3}\\end{bmatrix} $  \n",
      "    \n",
      "c,s,r=givensCoef($g_{0,0},g_{1,0}$)   \n",
      "    \n",
      "\n",
      "$\\begin{bmatrix} c & s & 0 & 0 \\\\\\\\ -\\bar{s} & c & 0 & 0 \\\\\\\\ 0 & 0 & 1 & 0 \\\\\\\\ 0 & 0 & 0 & 1 \\end{bmatrix} {\\;\\;}\n",
      "\\begin{bmatrix} g_{0,0} & 0 & 0 & 0 \\\\\\\\ g_{1,0} & g_{1,1} & 0 & 0 \\\\\\\\ 0 & 0 & 0 & g_{2,3} \\\\\\\\ 0 & 0 & 0 & g_{3,3} \\end{bmatrix} =\n",
      "\\begin{bmatrix} c g_{0,0} + s g_{1,0} & s g_{1,1} & 0 & 0 \\\\\\\\ 0 & c g_{1,1} & 0 & 0 \\\\\\\\ 0 & 0 & 0 & g_{2,3} \\\\\\\\ 0 & 0 & 0 & g_{3,3}\\end{bmatrix} =\n",
      "\\begin{bmatrix} r & s g_{1,1} & 0 & 0 \\\\\\\\ 0 & c g_{1,1} & 0 & 0 \\\\\\\\ 0 & 0 & 0 & g_{2,3} \\\\\\\\ 0 & 0 & 0 & g_{3,3}\\end{bmatrix}$"
     ]
    },
    {
     "cell_type": "code",
     "collapsed": false,
     "input": [
      "def grs_diagZeroCheck(b):\n",
      "    \"\"\"\n",
      "       return False if a zero is found in b0\n",
      "       return True if b0 has no zeros\n",
      "    \"\"\"\n",
      "    v_bool=b0.leq(0.0)\n",
      "    if v_bool.anytrue:\n",
      "        return (False,v_bool.indexbool[0])\n",
      "    else:\n",
      "        return (True,)"
     ],
     "language": "python",
     "metadata": {},
     "outputs": [],
     "prompt_number": 23
    },
    {
     "cell_type": "markdown",
     "metadata": {},
     "source": [
      "#### grs_zeroRow    \n",
      "Input are matrices $L$, $B$, and $R$ Where sizes are compliant for matrix multiply such that a matrix $A$ is    \n",
      "$ A = L * B * R $      \n"
     ]
    },
    {
     "cell_type": "code",
     "collapsed": false,
     "input": [
      "def grs_zeroRow(L,d,f):\n",
      "    if 'cvview' in d.type or 'cvview' in f.type:\n",
      "        print('zero row only works for real vectors')\n",
      "        return\n",
      "    c,s,r=givensCoef(d[0],f[0])\n",
      "    f[0]=0;d[0]=r\n",
      "    t= - f[1] * s; f[1] *= c\n",
      "    prodG(L,1,0,c,s)\n",
      "    for i in range(1,d.length-1):\n",
      "        c,s,r=givensCoef(d[i],t)\n",
      "        prodG(L,i+1,0,c,s)\n",
      "        d[i]=r; t=-f[i+1] * s; f[i+1] *= c\n",
      "    c,s,r=givensCoef(d[d.length-1],t)\n",
      "    d[d.length-1] = r\n",
      "    prodG(L,d.length,0,c,s)"
     ],
     "language": "python",
     "metadata": {},
     "outputs": [],
     "prompt_number": 24
    },
    {
     "cell_type": "markdown",
     "metadata": {},
     "source": [
      "#### Golub-Kahan SVD Step\n",
      "The function `gks_Step(L,B,R)` does an iteration of algorithm 8.6.1 from Golub & VanLoan *Matrix Computations*    \n",
      "Note that if matrix $A = L {\\,}B {\\,} R $ then one iteration of `gks_Step` converts     \n",
      "$L \\rightarrow L_1$, ${\\;}B \\rightarrow B_1$, ${\\;}R \\rightarrow R_1$    \n",
      "so that         \n",
      "$A = L_1 {\\,} B_1 {\\,} R_1 $.    \n",
      "    \n",
      "Note $B$ is of the form     \n",
      "    \n",
      "$ \\begin{bmatrix} x & x & 0 & 0 & 0 \\\\\\\\ 0 & x & x & 0 & 0 \\\\\\\\ 0 & 0 & x & x & 0 \\\\\\\\ 0 & 0 & 0 & x & x \\\\\\\\ 0 & 0 & 0 & 0 & x \\end{bmatrix}$       \n",
      "     \n",
      "where $x \\ne 0$    \n",
      "    "
     ]
    },
    {
     "cell_type": "markdown",
     "metadata": {},
     "source": [
      "#### Example for matrix of size 4 \n",
      "NOTE that $T = B^H B$     \n",
      "    \n",
      "\n",
      "$\\begin{bmatrix} \\bar{d_0} & 0 & 0 & 0 \\\\\\\\ \\bar{f_0} & \\bar{d_1}& 0 & 0 \\\\\\\\ 0 & \\bar{f_1} & \\bar{d_2} & 0 \\\\\\\\ 0 & 0 & \\bar{f_2} & \\bar{d_3}  \\end{bmatrix} \n",
      "\\begin{bmatrix} d_0 & f_0 & 0 & 0 \\\\\\\\ 0 & d_1 & f_1 & 0 \\\\\\\\ 0 & 0 & d_2 & f_2 \\\\\\\\ 0 & 0 & 0 & d_3 {\\;} \\end{bmatrix} {\\;\\;} \n",
      "= \n",
      "\\begin{bmatrix} {\\left|d_0 \\right|}^2   & d_0 \\bar{f_0} & 0 & 0 \\\\\\\\ \n",
      "                  f_0 \\bar{d_0}         & {\\left|d_1\\right|}^2 + {\\left|f_0\\right|}^2 & d_1 \\bar{f_1} & 0 \\\\\\\\ \n",
      "                  0                     & f_1 \\bar{d_1}     & {\\left|d_2\\right|}^2 + {\\left|f_1\\right|}^2 & d_2 \\bar{f_2} \\\\\\\\\n",
      "                  0                     & 0                  & f_2 \\bar{d_2} & {\\left|d_3\\right|}^2 + {\\left|f_2\\right|}^2\\end{bmatrix}$"
     ]
    },
    {
     "cell_type": "markdown",
     "metadata": {},
     "source": [
      "Above we have calculated matrix $ T $ which may be blocked as     \n",
      "$T = \\begin{bmatrix} T_{0,0} & T_{0,1} \\\\\\\\ T_{0,0} & T_{0,1} \\end{bmatrix}$    \n",
      "where $ T_{0,1} $ is always square of size 2 (if the size of $T >= 2$)    \n",
      "Note in this example $T_{0,1} = \\begin{bmatrix} t_{2,2} & t_{2,3} \\\\\\\\ t_{3,2} & t_{3,3} \\end{bmatrix}$ and the size of $T$ is 4."
     ]
    },
    {
     "cell_type": "markdown",
     "metadata": {},
     "source": [
      "Step one of the Golub-Kahan SVD Step is to find the eigenvalues of $T_{0,1}$ and select the eigenvalue closest to $t_{3,3}$. We call this eigenvalue  $\\mu$ and define function `gks_mu` (below) to calculate and return it. Note the arguments are taken from matrix $B$ and not $T$ and for convenience we use the notation from above."
     ]
    },
    {
     "cell_type": "code",
     "collapsed": false,
     "input": [
      "def gks_mu(d2,f1,d3,f2):\n",
      "        cu=d2 * d2.conjugate() + f1 * f1.conjugate()\n",
      "        cl=d3 * d3.conjugate() + f2 * f2.conjugate()\n",
      "        cd = d2 * f2.conjugate()\n",
      "        D = (cu * cl - cd * cd.conjugate()).real\n",
      "        T = (cu + cl).real\n",
      "        root = pv.vsip_sqrt_d(T*T - 4 * D)\n",
      "        lambda1 = (T + root)/(2.); lambda2 = (T - root)/(2.)\n",
      "        if abs(lambda1 - cl.real) < abs(lambda2 - cl.real):\n",
      "            mu = lambda1\n",
      "        else:\n",
      "            mu = lambda2\n",
      "        return mu "
     ],
     "language": "python",
     "metadata": {},
     "outputs": [],
     "prompt_number": 25
    },
    {
     "cell_type": "markdown",
     "metadata": {},
     "source": [
      "\n",
      "     \n",
      "For the initial givens rotation where `c,s,r=givensCoef(x1,x2)`     \n",
      "where $x_1 {\\,}= {\\,}d_0 {\\,} \\bar{d_0} -\\mu {\\;}$ and ${\\;}x_2{\\,}={\\,}f_0 {\\,} \\bar{d_0}$     \n",
      "     \n",
      "##### Initial Step\n",
      "$\\begin{bmatrix} d_0 & f_0 & 0 & 0 \\\\\\\\ 0 & d_1 & f_1 & 0 \\\\\\\\ 0 & 0 & d_2 & f_2 \\\\\\\\ 0 & 0 & 0 & d_3 {\\;} \\end{bmatrix} {\\;\\;} \\begin{bmatrix} c & -\\bar{s} & 0 & 0 \\\\\\\\ s & c & 0 & 0 \\\\\\\\ 0 & 0 & 1 & 0 \\\\\\\\ 0 & 0 & 0 & 1 \\end{bmatrix} = \\begin{bmatrix} c d_0+s f_0 & c f_0 - \\bar{s} d_0 & 0 & 0 \\\\\\\\ {t=s d_1} & c d_1 & f1 & 0 \\\\\\\\ 0 & 0 & d_2 & f_2 \\\\\\\\ 0 & 0 & 0 & d_3\\end{bmatrix}$  \n",
      "    \n",
      "Now we chase the subdiagonal entry down the diagonal until we have a new bidiagonal.    \n",
      "##### First Step `c,s,r=givensCoef(d0,t)`   \n",
      "$\\begin{bmatrix} c & s & 0 & 0 \\\\\\\\ -\\bar{s} & c & 0 & 0 \\\\\\\\ 0 & 0 & 1 & 0 \\\\\\\\ 0 & 0 & 0 & 1 \\end{bmatrix} {\\;\\;}\n",
      "{\\;\\;}\\begin{bmatrix} d_0 & f_0 & 0 & 0 \\\\\\\\ t & d_1 & f_1 & 0 \\\\\\\\ 0 & 0 & d_2 & f_2 \\\\\\\\ 0 & 0 & 0 & f_3 \\end{bmatrix} =\n",
      "\\begin{bmatrix} r & c f_0 + s d_1 & {t = s f_1} & 0 \\\\\\\\ 0 & c d_1-\\bar{s} f_0 & c f_1 & 0 \\\\\\\\ 0 & 0 & d_2 & f_2 \\\\\\\\ 0 & 0 & 0 & d_3\\end{bmatrix}$   \n",
      "##### Step `c,s,r=givensCoef(f0,t)`     \n",
      "$\\begin{bmatrix} d_0 & f_0 & t & 0 \\\\\\\\ 0 & d_1 & f_1 & 0 \\\\\\\\ 0 & 0 & d_2 & f_2 \\\\\\\\ 0 & 0 & 0 & d_3 {\\;} \\end{bmatrix} {\\;\\;} \n",
      "\\begin{bmatrix} 1 & 0 & 0 & 0 \\\\\\\\ 0 & c & -\\bar{s} & 0 \\\\\\\\ 0 & s & c & 0 \\\\\\\\ 0 & 0 & 0 & 1 \\end{bmatrix} = \n",
      "\\begin{bmatrix} d_0 & r & 0 & 0 \\\\\\\\ 0 & c d_1 + sf_1 & cf_1-\\bar{s}d_1 & 0 \\\\\\\\ 0 & {t=sd_2} & cd_2 & f_2 \\\\\\\\ 0 & 0 & 0 & d_3\\end{bmatrix} $    \n",
      "##### Second Step `c,s,r=givensCoef(d1,t)`\n",
      "$\\begin{bmatrix} 1 & 0 & 0 & 0 \\\\\\\\ 0 & c & s & 0 \\\\\\\\ 0 & -\\bar{s} & c & 0 \\\\\\\\ 0 & 0 & 0 & 1 \\end{bmatrix} {\\;\\;}\n",
      "\\begin{bmatrix} d_0 & f_0 & 0 & 0 \\\\\\\\ 0 & d_1 & f_1 & 0 \\\\\\\\ 0 & t & d_2 & f_2 \\\\\\\\ 0 & 0 & 0 & d_3 \\end{bmatrix} =\n",
      "\\begin{bmatrix} d_0 & f_0 & 0 & 0 \\\\\\\\ 0 & r & c f_1 + sd_2  & {t=s f_2} \\\\\\\\ 0 & 0 & c d_2 - \\bar{s} f_1& c f_2 \\\\\\\\ 0 & 0 & 0 & d_3\\end{bmatrix}$     \n",
      "##### Step `c,s,r=givensCoef(f1,t)`    \n",
      "$\\begin{bmatrix} d_0 & f_0 & 0 & 0 \\\\\\\\ 0 & d_1 & f_1 & t \\\\\\\\ 0 & 0 & d_2 & f_2                  \\\\\\\\ 0 & 0 &        0 & d_3 \\end{bmatrix}\n",
      "\\begin{bmatrix}   1 & 0 & 0   & 0 \\\\\\\\ 0 & 1   & 0   & 0 \\\\\\\\ 0 & 0 & c   & -\\bar{s}                    \\\\\\\\   0 & 0 & s & c \\end{bmatrix} {\\;\\;}=\n",
      "\\begin{bmatrix} d_0 & f_0 & 0 & 0 \\\\\\\\ 0 & d_1 & r & 0 \\\\\\\\ 0 & 0 & c d_2 + f_2 & c f_2 -\\bar{ s } d_2\\\\\\\\ 0 & 0 & {t=s d_3} & c d_3\\end{bmatrix}$    \n",
      "##### Final Step `c,s,r=givensCoef(d2,t)`    \n",
      "$\\begin{bmatrix} 1 & 0 & 0 & 0 \\\\\\\\ 0 & 1 & 0 & 0 \\\\\\\\ 0 & 0 & c & s \\\\\\\\ 0 & 0 & -\\bar{s} & c \\end{bmatrix} {\\;\\;}\n",
      "\\begin{bmatrix} d_0 & f_0 & 0 & 0 \\\\\\\\ 0 & d_1 & f_1 & 0 \\\\\\\\ 0 & 0 & d_2 & f_2 \\\\\\\\ 0 & 0 & t & d_3 \\end{bmatrix} =\n",
      "\\begin{bmatrix} d_0 & f_0 & 0 & 0 \\\\\\\\ 0 & d_1 & f_1 & 0 \\\\\\\\ 0 & 0 & r & c f_2 + s d_3 \\\\\\\\ 0 & 0 & 0 & c d_3 - \\bar{s} f_2 \\end{bmatrix}$"
     ]
    },
    {
     "cell_type": "code",
     "collapsed": false,
     "input": [
      "def gks_Step(L,B,R):\n",
      "    f=B.diagview(1);d=B.diagview(0)\n",
      "    n=d.length\n",
      "    #initial step\n",
      "    if n >= 3:\n",
      "        mu = gks_mu(d[n-2],f[n-3],d[n-1],f[n-2])\n",
      "    elif n == 2:\n",
      "        mu = gks_mu(d[n-2],0,d[n-1],f[n-2])\n",
      "    else:\n",
      "        mu = gks_mu(d[0],0,0,0)\n",
      "    x1=d[0]; x1 *= x1.conjugate(); x1 -= mu\n",
      "    x2 = d[0] * f[0].conjugate()\n",
      "    c,s,r=givensCoef(x1,x2)\n",
      "    t=d[0] * c + s * f[0]; f[0] *= c; f[0] -= s.conjugate() * d[0]; d[0] = t;\n",
      "    t=s * d[1]; d[1] *= c;\n",
      "    gtProd(0,1,c,s,R)\n",
      "    for i in range(n-2):\n",
      "        j=i+1; k=i+2\n",
      "        #step\n",
      "        c,s,r = givensCoef(d[i],t)\n",
      "        d[i]=r;\n",
      "        t=c * d[j] - s.conjugate() * f[i]; f[i] *=c ;f[i]+=s*d[j];d[j]=t\n",
      "        t=s * f[j]; f[j] *= c;\n",
      "        prodG(L,i,j,c,s)\n",
      "        #step\n",
      "        c,s,r=givensCoef(f[i],t)\n",
      "        f[i]=r\n",
      "        t=c * d[j] + s * f[j]; f[j] *= c; f[j] -= s.conjugate() * d[j]; d[j] = t\n",
      "        t=s * d[k]; d[k] *= c;\n",
      "        gtProd(j,k,c,s,R)\n",
      "    #final step\n",
      "    i=n-2; j=n-1\n",
      "    c,s,r = givensCoef(d[i],t)\n",
      "    d[i]=r; \n",
      "    t= c * d[j] - s.conjugate() * f[i];\n",
      "    f[i] *= c; f[i] += s * d[j]; \n",
      "    d[j]=t\n",
      "    prodG(L,i,j,c,s)"
     ],
     "language": "python",
     "metadata": {},
     "outputs": [],
     "prompt_number": 26
    }
   ],
   "metadata": {}
  }
 ]
}