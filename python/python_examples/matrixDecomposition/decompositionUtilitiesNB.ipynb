{
 "metadata": {
  "name": "decompositionUtilitiesNB"
 },
 "nbformat": 3,
 "nbformat_minor": 0,
 "worksheets": [
  {
   "cells": [
    {
     "cell_type": "markdown",
     "metadata": {},
     "source": [
      "## Decompostion Utilities\n",
      "### Notation and Simple Relations to pyJvsip   \n",
      "#### Vector   \n",
      "A vector is designated $\\vec{x}$ and generally uses a lower case. For math purposes a vector should be considered equivalent to a single column of a matrix; although for program puposes there are differeces between vector and matrice views. \n",
      "#### Vector Norm and View Methods   \n",
      "Vector and Matrix norms are not supported in C VSIPL but have been included with the pyJvsip implementation. For mathematical definitions of norms the reader should consult a linear algebra text or search the internet. The norms supported in pyJvsip are the one norm (norm1), the two norm (norm2), the infinity norm (normInf) and the Frobenius norm (normFro).\n",
      "A vector norm is designated as $\\parallel \\vec{x} \\parallel $. A two norm as ${\\parallel \\vec{x} \\parallel }_{\\:2} $\n",
      "#### Unit Vectors   \n",
      "A unit vector is designated as in $\\hat{x}$. To produce a unit vector $\\hat{x} = {\\vec{x} \\over {{\\parallel \\vec{x} \\parallel }_{2}}}$\n",
      "#### dot, jdot and outer   \n",
      "Note that `dot`, `jdot`, and `outer` are only defined for views of type vector. \n",
      "A math indicator like $ \\vec{x} \\\\; \\vec{y}^H $ in done using an outer product and produces a view of type matrix. An indicator like $\\vec{x}^H \\\\; \\vec{y} $ is done using `jdot` and produces a scalar. An indicator like $\\vec{x}^T \\\\; \\vec{y} $ is done using `dot` and produces a scalar.   \n",
      "#### Identity Matrix    \n",
      "The identity matrix is square with ones on the diagonal and zero elsewhere. We designate it as $I$ and when the size is of interest we indicate it as a subscript as in $I_m$ or $I_n$. The function `eye(type,size)` is defined for creating a data space with an identity matrix in it. This is a convenience since we sometimes need a matrix for matrix product accumulations and the identity matrix is a convenient starting place."
     ]
    },
    {
     "cell_type": "code",
     "collapsed": false,
     "input": [
      "import pyJvsip as pv"
     ],
     "language": "python",
     "metadata": {},
     "outputs": [],
     "prompt_number": 4
    },
    {
     "cell_type": "markdown",
     "metadata": {},
     "source": [
      "#### Identity Matrix\n",
      "The function eye(t,n) where t is a pyJvsip matrix type and n is an integer creates and returns an identity matrix of size n and type t. This is a convenience function."
     ]
    },
    {
     "cell_type": "code",
     "collapsed": false,
     "input": [
      "def eye(t,n): # create and return an identity matrix of size n and type t\n",
      "    return pv.create(t,n,n).identity"
     ],
     "language": "python",
     "metadata": {},
     "outputs": [],
     "prompt_number": 5
    },
    {
     "cell_type": "markdown",
     "metadata": {},
     "source": [
      "#### Sign Function\n",
      "The sign function is used for Householder and Givens calculations. It is defined in several texts although the text I am using here is the LAPACK Working Notes document #148. "
     ]
    },
    {
     "cell_type": "code",
     "collapsed": false,
     "input": [
      "def sign(a_in): # see  LAPACK Working Notes 148 for definition of sign\n",
      "    if type(a_in) is int:\n",
      "        a=float(a_in)\n",
      "    else:\n",
      "        a=a_in\n",
      "    if type(a) is float or type(a) is complex:\n",
      "        t=pv.vsip_hypot_d(a.real,a.imag)\n",
      "        if t == 0.0:\n",
      "            return 1.0\n",
      "        elif a.imag==0.0:\n",
      "            if a.real < 0.0:\n",
      "                return -1.0\n",
      "            else:\n",
      "                return 1.0\n",
      "        else:\n",
      "            return a/t\n",
      "    else:\n",
      "        print('sign function only works on scalars')\n",
      "        return"
     ],
     "language": "python",
     "metadata": {},
     "outputs": [],
     "prompt_number": 6
    },
    {
     "cell_type": "markdown",
     "metadata": {},
     "source": [
      "#### Householder Vector\n",
      "The function houseVector returns a normalized householder vector.   \n",
      "Note that, in general, the householder matrix is given by   \n",
      "$H=(I-{2 \\over {v^H v}} v v^H) $  \n",
      "No matter how the householder vector is normalized this $H$ will always work."
     ]
    },
    {
     "cell_type": "code",
     "collapsed": false,
     "input": [
      "def houseVector(x): \n",
      "    \"\"\"\n",
      "     This algorithm returns a normalized householder vector 'v' such that\n",
      "     the householder projection matrix 'H' is:\n",
      "     H = I - 2 v v*\n",
      "    \"\"\"\n",
      "    if 'vview' not in x.type:\n",
      "        print('Function houseVector only works on vector views')\n",
      "        return\n",
      "    v=x.copy\n",
      "    v[0] += (sign(x[0]) * x.norm2)\n",
      "    n = v.norm2\n",
      "    if n == 0.0:\n",
      "        v[0] = 1.0\n",
      "    else:\n",
      "        v /= n\n",
      "    return v"
     ],
     "language": "python",
     "metadata": {},
     "outputs": [],
     "prompt_number": 7
    },
    {
     "cell_type": "markdown",
     "metadata": {},
     "source": [
      "#### Householder Matrix\n",
      "The function house creates and returns a householder matrix.  \n",
      "Note that generally you would not want to do this for performance and memory management reasons; however, this is the most straight forward representation when you are trying to wrap your head around some new concept."
     ]
    },
    {
     "cell_type": "code",
     "collapsed": false,
     "input": [
      "def house(v): # create and return househoulder rotation matrix\n",
      "              # vector v; works for any valid househoulder vector\n",
      "    t={'vview_f':'mview_f','vview_d':'mview_d',\n",
      "       'cvview_f':'cmview_f','cvview_d':'cmview_d'}\n",
      "    return(eye(t[v.type],v.length) - v.outer(2.0/v.jdot(v),v))"
     ],
     "language": "python",
     "metadata": {},
     "outputs": [],
     "prompt_number": 8
    },
    {
     "cell_type": "markdown",
     "metadata": {},
     "source": [
      "#### QR Decomposition Representation\n",
      "The function QRD_inPlace(A) will, in-place, do a $Q R$ factorization of A.\n",
      "The QRD_inPlace function stores the $R$ matrix of the $Q R$ factorization\n",
      "in the upper triangular portion of the input matrix and the v[1:] portion\n",
      "of the householder vectors in the remaining lower triangular portion of the\n",
      "input matrix. The householder vectors are normalized so that v[0] is one.\n",
      "For more info see Goulub & VanLoan; Matrix Calculations"
     ]
    },
    {
     "cell_type": "code",
     "collapsed": false,
     "input": [
      "def QRD_inPlace(A):\n",
      "    m=A.collength\n",
      "    n=A.rowlength\n",
      "    if m < n:\n",
      "        print('The input matrix must have collength >= rowlength.')\n",
      "        print('For matrices where m > n use the transpose.')\n",
      "    for i in range(n-1):\n",
      "        x=A[i:,i:].colview(0)\n",
      "        v=houseVector(x)\n",
      "        v /= v[0]\n",
      "        A[i:,i:]=house(v).prod(A[i:,i:])\n",
      "        x[1:]=v[1:]\n",
      "    if m > n: #do last column if matrix not square\n",
      "        i=n-1\n",
      "        x=A[i:,i:].colview(0)\n",
      "        v=houseVector(x)\n",
      "        v /= v[0]\n",
      "        A[i:,i:]=house(v).prod(A[i:,i:])\n",
      "        x[1:]=v[1:]"
     ],
     "language": "python",
     "metadata": {},
     "outputs": [],
     "prompt_number": 9
    },
    {
     "cell_type": "markdown",
     "metadata": {},
     "source": [
      "#### Householder Matrix Products\n",
      "The function houseProd(v,A), where v is a householder vector and A is a matrix  \n",
      "(size must be conformant), will return $ H A = (I - \\beta v v^H) A = A - \\beta v (v^H A) = A - \\beta v w^H$.  \n",
      "Done in-place. The output is in $A$"
     ]
    },
    {
     "cell_type": "code",
     "collapsed": false,
     "input": [
      "def houseProd(v,A):\n",
      "    beta = 2.0/v.jdot(v)\n",
      "    v.conj;w=v.prod(A).conj;v.conj\n",
      "    A -= v.outer(beta,w)"
     ],
     "language": "python",
     "metadata": {},
     "outputs": [],
     "prompt_number": 10
    },
    {
     "cell_type": "markdown",
     "metadata": {},
     "source": [
      "The function prodHouse(A,v), where v is a householder vector and A is a matrix  \n",
      "(size must be conformant), will return $ A H = A (I - \\beta v v^H) = A - \\beta (A v) v^H = A - \\beta w v^H $  \n",
      "Done in-place. The output is in $A$"
     ]
    },
    {
     "cell_type": "code",
     "collapsed": false,
     "input": [
      "def prodHouse(A,v):\n",
      "    beta = 2.0/v.jdot(v)\n",
      "    w=A.prod(v)\n",
      "    A-=w.outer(beta,v)"
     ],
     "language": "python",
     "metadata": {},
     "outputs": [],
     "prompt_number": 11
    },
    {
     "cell_type": "markdown",
     "metadata": {},
     "source": [
      "#### Q Matrix Product\n",
      "The function `fullQProd(Q,B)` takes a matrix produced by `QRD_inPlace`   \n",
      "(containing $Q$ information in householder vectors) and does a matrix product of $Q$ times $B$.  \n",
      "The result is returned in a new matrix."
     ]
    },
    {
     "cell_type": "code",
     "collapsed": false,
     "input": [
      "def fullQProd(Q,B):\n",
      "    m=Q.collength\n",
      "    n=B.rowlength\n",
      "    U=B.copy\n",
      "    if m > n: #extract last column if matrix is not square\n",
      "        i=n-1\n",
      "        v=Q[i:,i:].colview(0).copy\n",
      "        v[0]=1\n",
      "        houseProd(v,U[i:,i:])\n",
      "    for i in range(n-2,-1,-1):\n",
      "        v=Q[i:,i:].colview(0).copy\n",
      "        v[0]=1\n",
      "        houseProd(v,U[i:,i:])\n",
      "    return U"
     ],
     "language": "python",
     "metadata": {},
     "outputs": [],
     "prompt_number": 12
    },
    {
     "cell_type": "markdown",
     "metadata": {},
     "source": [
      "#### Q Matrix\n",
      "Matrix B is created using function `QRD_inPlace`.   \n",
      "The function `QmatExtract(B)` will create a new matrix containing the $Q$ factor of the $Q R$ factorization  \n",
      "using the householder vectors stored in the columns of matrix $B$."
     ]
    },
    {
     "cell_type": "code",
     "collapsed": false,
     "input": [
      "def QmatExtract(B):\n",
      "    m=B.collength\n",
      "    n=B.rowlength\n",
      "    Q=eye(B.type,m)\n",
      "    if m > n: #extract last column if matrix is not square\n",
      "        i=n-1\n",
      "        v=B[i:,i:].colview(0).copy\n",
      "        v[0]=1\n",
      "        houseProd(v,Q[i:,i:])\n",
      "    for i in range(n-2,-1,-1):\n",
      "        v=B[i:,i:].colview(0).copy\n",
      "        v[0]=1\n",
      "        houseProd(v,Q[i:,i:])\n",
      "    return Q"
     ],
     "language": "python",
     "metadata": {},
     "outputs": [],
     "prompt_number": 13
    },
    {
     "cell_type": "markdown",
     "metadata": {},
     "source": [
      "#### R Matrix\n",
      "Matrix B is created using function `QRD_inPlace`.  \n",
      "The function `RmatExtract(B)` will create a new matrix containing the $R$ factor of the QR factorization.  \n",
      "Basically a copy of $B$ is made and the householder vectors in the lower triangular portion are zeroed."
     ]
    },
    {
     "cell_type": "code",
     "collapsed": false,
     "input": [
      "def RmatExtract(B):\n",
      "    R=B.copy\n",
      "    m=A.collength\n",
      "    for i in range(1,m):\n",
      "        R.diagview(-i).fill(0.0)\n",
      "    return R"
     ],
     "language": "python",
     "metadata": {},
     "outputs": [],
     "prompt_number": 14
    },
    {
     "cell_type": "markdown",
     "metadata": {},
     "source": [
      "The function `houseQR` produces, out-of-place, the Factors $Q$ and $R$ of a QR decomposition"
     ]
    },
    {
     "cell_type": "code",
     "collapsed": false,
     "input": [
      "def houseQR(A):\n",
      "    R=A.copy\n",
      "    m=A.collength\n",
      "    n=A.rowlength\n",
      "    if m < n:\n",
      "        print('The input matrix must have collength >= rowlength.')\n",
      "        print('for matrices where m > n use the transpose')\n",
      "    for i in range(n-1):\n",
      "        x=R[i:,i:].colview(0)\n",
      "        v=houseVector(x)\n",
      "        v /= v[0]\n",
      "        houseProd(v,R[i:,i:])\n",
      "        x[1:]=v[1:]\n",
      "    if m > n: #do last column if matrix not square\n",
      "        i=n-1\n",
      "        x=R[i:,i:].colview(0)\n",
      "        v=houseVector(x)\n",
      "        v /= v[0]\n",
      "        houseProd(v,R[i:,i:])\n",
      "        x[1:]=v[1:]\n",
      "    #accumulate Q\n",
      "    Q = QmatExtract(R)\n",
      "    #zero entries of R\n",
      "    for i in range(1,m):\n",
      "        R.diagview(-i).fill(0.0)\n",
      "    return (Q,R)"
     ],
     "language": "python",
     "metadata": {},
     "outputs": [],
     "prompt_number": 15
    },
    {
     "cell_type": "markdown",
     "metadata": {},
     "source": [
      "#### Householder Bidiagonalization"
     ]
    },
    {
     "cell_type": "markdown",
     "metadata": {},
     "source": [
      "The function `bidiag(A)` will (out of place) produce a new matrix with the essential  \n",
      "householder vectors stored in the zeored elements and a bidiagonalization elements  \n",
      "stored in the main diagonal and the first super-diagonal.  \n",
      "This is the first step to SVD computation"
     ]
    },
    {
     "cell_type": "code",
     "collapsed": false,
     "input": [
      "def bidiag(A): # m >= n\n",
      "    \"\"\"\n",
      "      B=bidiag(A)\n",
      "        returns, out of place, the bidiagonal decomposition of A.\n",
      "        The esential househoulder vectors are stored in the zeroed \n",
      "        entries of B.\n",
      "    \"\"\"\n",
      "    B=A.copy\n",
      "    m=B.collength\n",
      "    n=B.rowlength\n",
      "    if m < n:\n",
      "        print('The input matrix must have collength >= rowlength.')\n",
      "        print('for matrices where m > n use the transpose')\n",
      "    for i in range(n-1):\n",
      "        x=B[i:,i:].colview(0)\n",
      "        v=houseVector(x)\n",
      "        v /= v[0]\n",
      "        houseProd(v,B[i:,i:])\n",
      "        x[1:]=v[1:]\n",
      "        if i < n-2:\n",
      "            j=i+1\n",
      "            x = B[i:,j:].rowview(0)\n",
      "            #v=houseVector(x.conj);x.conj \n",
      "            v=houseVector(x).conj \n",
      "            v /= v[0]\n",
      "            prodHouse(B[i:,j:],v)#=B[i:,j:].prod(house(v))\n",
      "            x[1:]=v[1:]\n",
      "    if m > n: #do last column if matrix not square\n",
      "        i=n-1\n",
      "        x=B[i:,i:].colview(0)\n",
      "        v=houseVector(x)\n",
      "        v /= v[0]\n",
      "        houseProd(v,B[i:,i:])\n",
      "        x[1:]=v[1:]\n",
      "    return B\n",
      "def bidiagExtract(B):\n",
      "    \"\"\"\n",
      "      B=bidiagExtract(B0)\n",
      "        Returns, out of place, a matrix with the bidiagonal entries. \n",
      "        Input matrix is one produced by B0=bidiag(A)\n",
      "    \"\"\"\n",
      "    B0=B.empty.fill(0.0)\n",
      "    B0.diagview(0)[:] = B.diagview(0)\n",
      "    B0.diagview(1)[:] = B.diagview(1)\n",
      "    return B0\n",
      "def UmatExtract(B):\n",
      "    \"\"\"\n",
      "      U=UmatExtract(B0)\n",
      "        returns, out of place, the U matrix of the bidiagonal \n",
      "        decomposition A=UBV^H given the result of bidiag routine \n",
      "        B0=bidiag(A)\n",
      "    \"\"\"\n",
      "    m=B.collength\n",
      "    n=B.rowlength\n",
      "    U=eye(B.type,m)\n",
      "    if m > n: #extract last column if matrix is not square\n",
      "        i=n-1\n",
      "        v=B[i:,i:].colview(0).copy\n",
      "        v[0]=1\n",
      "        houseProd(v,U[i:,i:])\n",
      "    for i in range(n-2,-1,-1):\n",
      "        v=B[i:,i:].colview(0).copy\n",
      "        v[0]=1\n",
      "        houseProd(v,U[i:,i:])\n",
      "    return U\n",
      "def VHmatExtract(B):\n",
      "    \"\"\"\n",
      "      VH=UmatExtract(B0)\n",
      "        returns, out of place, the hermtian V matrix of the bidiagonal \n",
      "        decomposition A=UBV^H given the result of bidiag routine \n",
      "        B0=bidiag(A)\n",
      "    \"\"\"\n",
      "    m=B.collength\n",
      "    n=B.rowlength\n",
      "    V=eye(B.type,n)\n",
      "    for i in range(n-3,-1,-1):\n",
      "        j=i+1\n",
      "        v=B[i:,j:].rowview(0).copy\n",
      "        v[0]=1\n",
      "        prodHouse(V[j:,j:],v)#=V[j:,j:].prod(house(v))\n",
      "    return V"
     ],
     "language": "python",
     "metadata": {},
     "outputs": [],
     "prompt_number": 16
    },
    {
     "cell_type": "markdown",
     "metadata": {},
     "source": [
      "## Givens rotations\n",
      "Givens rotations are used to selectivly zero elements in a column or row of a matrix   \n",
      "### Givens Coefficients\n",
      "The function  \n",
      "$\\;\\;\\;\\;\\;$c,s,r = `givensCoef(x,y)`\n",
      "returns numbers c,s and r such that   \n",
      "  \n",
      "$\\begin{bmatrix} c & s \\\\\\\\ -\\bar{s} & c \\end{bmatrix} \\begin{bmatrix} x \\\\\\\\ y \\end{bmatrix} = \\begin{bmatrix} r \\\\\\\\ 0 \\end{bmatrix} $  \n",
      "  \n",
      "where $\\bar{s}$ is the conjugate of $s$.  Note (it turns out that) $c$ is always real.  \n",
      "This algorithm is adapted from Algorithm 1 of LAPACK working notes lawn148\n",
      "\n",
      "Note that the transpose of $G$ denoted $G_T$ (not the hermetian of G) yields  \n",
      "$ {\\left( {\\begin{bmatrix} c & s \\\\\\\\ -\\bar{s} & c \\end{bmatrix} \\begin{bmatrix} x \\\\\\\\ y \\end{bmatrix}} \\right)}^T\n",
      "= {\\left( {\\begin{bmatrix} x & y \\end{bmatrix} \\begin{bmatrix} c & -\\bar{s} \\\\\\\\s  & c \\end{bmatrix} } \\right)}=\\begin{bmatrix} r & 0 \\end{bmatrix} $  \n",
      "gives a method for zeroing an element in a row."
     ]
    },
    {
     "cell_type": "code",
     "collapsed": false,
     "input": [
      "def givensCoef(x1_in,x2_in):\n",
      "    \"\"\" Code adapted from Algorithm 1 of LAPACK working Notes lawn148\n",
      "    \"\"\"\n",
      "    if type(x1_in) is int:\n",
      "        x1=float(x1_in)\n",
      "    else:\n",
      "        x1 = x1_in\n",
      "    if type(x2_in) is int:\n",
      "        x2=float(x2_in)\n",
      "    else:\n",
      "        x2 = x2_in\n",
      "    if type(x1) is float and type(x2) is float:\n",
      "        t=pv.vsip_hypot_d(x1,x2)\n",
      "        if x2 == 0.0:\n",
      "            return (1.0,0.0,x1)\n",
      "        elif x1 == 0.0:\n",
      "            return (0.0,sign(x2),t)\n",
      "        else: # return (c,s,r)\n",
      "            sn=sign(x1)\n",
      "            return(pv.vsip_mag_d(x1)/t,sn*x2/t,sn*t)\n",
      "    elif type(x1) is complex or type(x2) is complex:\n",
      "        mx1=pv.vsip_hypot_d(x1.real,x1.imag)\n",
      "        mx2=pv.vsip_hypot_d(x2.real,x2.imag)\n",
      "        if mx2 == 0.0:\n",
      "            return(1.0,0.0,x1)\n",
      "        elif mx1 == 0.0:\n",
      "            return(0,sign(x2.conjugate()),mx2)\n",
      "        else:\n",
      "            t=pv.vsip_hypot_d(mx1,mx2)\n",
      "            c=mx1/t\n",
      "            sn=sign(x1)\n",
      "            s=(sn * x2.conjugate())/t\n",
      "            r=sn * t\n",
      "            return(c,s,r)\n",
      "    else:\n",
      "        print('Type <:'+repr(type(x1)) + ':> or <:'+ \\\n",
      "             repr(type(x2))+':> not recognized by givensCoef')\n",
      "        return"
     ],
     "language": "python",
     "metadata": {},
     "outputs": [],
     "prompt_number": 17
    },
    {
     "cell_type": "markdown",
     "metadata": {},
     "source": [
      "We define 4 matrices around the givens coefficients, $(c,s)$, which allow us to decompose a matrix.    \n",
      "     \n",
      "$G \\\\;= \\\\: \\begin{bmatrix} c & s \\\\\\\\ -\\bar{s} & c \\end{bmatrix} $   $\\\\:\\;\\\\:$ $G_T\\\\;=\\\\, \\begin{bmatrix} c & -\\bar{s} \\\\\\\\ s & c \\end{bmatrix}$   \n",
      "     \n",
      "$G^H = \\begin{bmatrix} c & -s \\\\\\\\ \\bar{s} & c \\end{bmatrix} $   $\\\\:\\\\:$  ${G_T}^H=\\begin{bmatrix} c & \\bar{s} \\\\\\\\ -s & c \\end{bmatrix}$\n",
      "    \n",
      "Matrix $G$ is used to zero elements in a column   \n",
      "Matrix $G^H$ is the inverse of G and is used when accumulating the decomposition matrix on the left   \n",
      "Matrix $G_T$ is used to zero elements in a row    \n",
      "Matrix ${G_T}^H$ is the inverse of $G_T$ and is used when accumulating the decomposition matrix on the right.    \n",
      "    \n",
      "Note that   \n",
      "$ G G^H = G^H G = I $   \n",
      "and  \n",
      "$ G_T {G_T}^H = {G_T}^H G_T = I $  \n",
      "    \n",
      "So we have   \n",
      "$ A = ({G_i}^H {G_{i-1}}^H \\ldots {G_0}^H)( G_0 G_1 \\ldots G_i) A ({G_T}_0 {G_T}_1 \\ldots {G_T}_i)({{G_T}_i}^H{{G_T}_{i-1}}^H\\ldots{{G_T}_0}^H)\\\\,=\\\\,L\\\\,D\\\\,R$    \n",
      "    \n",
      "Where    \n",
      "$\\\\;\\\\;\\\\;\\\\;L = {G_i}^H {G_{i-1}}^H \\ldots {G_0}^H $  \n",
      "$\\\\;\\\\;\\\\;\\\\;D = ( G_0 G_1 \\ldots G_i) A ({G_T}_0 {G_T}_1 \\ldots {G_T}_i) $   \n",
      "$\\\\;\\\\;\\\\;\\\\;R = {{G_T}_i}^H{{G_T}_{i-1}}^H\\ldots{{G_T}_0}^H\\\\,$   \n",
      "   \n",
      "are the three matrices $ A $ has been decomposed to. The actual decomposition depends on    \n",
      "how the $(x,y)$ elements are chosen and the order in which they are chosen when    \n",
      "calculating the givens coefficients.   \n",
      "### Givens Matrix   \n",
      "For this document a (extended) givens matrix is an identity matrix (of the proper size for a matrix   \n",
      "multiply) with two diagonal elements replaced with $c\\;$ from the `givensCoef` function. If the elements are    \n",
      "placed at index $\\left( i,i \\right)\\;$ and $\\left( j,j \\right)\\;$ where $ i \\lt j \\;$ then the $s\\;$ from the `givensCoef` function is placed at $\\left( i, j \\right)\\;$     \n",
      "and $- \\bar{s}\\;$ is placed at $\\left( j, i \\right)\\;$.    \n",
      "The extended givens matrix is normally not used explicitly but, for experimentation purposes,   \n",
      "we define function `givensExtract` to produce one."
     ]
    },
    {
     "cell_type": "code",
     "collapsed": false,
     "input": [
      "# return G\n",
      "def givensExtract(t,i,j,c,s,size):\n",
      "    \"\"\"\n",
      "       Usage:\n",
      "         G=givensExtract(t,i,j,c,s,size)\n",
      "         t = type \n",
      "         i,j are index values for placement of \n",
      "         c,s which are obtained (probably) from function givensCoef. \n",
      "         size is an integer\n",
      "    \"\"\"\n",
      "    G=eye(t,size)\n",
      "    G[i,i]=c;G[j,j]=c;G[i,j]=s;G[j,i]=-s.conjugate()\n",
      "    return G"
     ],
     "language": "python",
     "metadata": {},
     "outputs": [],
     "prompt_number": 18
    },
    {
     "cell_type": "markdown",
     "metadata": {},
     "source": [
      "### Givens Matrix Products   \n",
      "The function `gProd` does    \n",
      "$\\\\;\\\\;\\\\;\\\\; A\\\\, = \\\\,G \\\\, A\\\\: $    \n",
      "and the function `prodG` does    \n",
      "$\\\\;\\\\;\\\\;\\\\; A\\\\,=\\\\,A\\\\, G^H\\\\:$.   \n",
      "The $\\\\,A\\\\,$ is returned as a convenience although this is an in-place operation.   \n",
      "Note that temporary vectors are created internal to the routine so this is not totally in-place."
     ]
    },
    {
     "cell_type": "code",
     "collapsed": false,
     "input": [
      "def gProd(i,j,c,s,A):\n",
      "    a1=A.rowview(i).copy\n",
      "    a2=A.rowview(j).copy\n",
      "    A.rowview(i)[:]= c * a1 + s * a2 \n",
      "    A.rowview(j)[:]= c * a2 - s.conjugate() * a1\n",
      "    return A\n",
      "def prodG(A,i,j,c,s):\n",
      "    a_i=A.colview(i).copy\n",
      "    a_j=A.colview(j).copy\n",
      "    A.colview(i)[:]= c * a_i + s.conjugate() * a_j \n",
      "    A.colview(j)[:]= c * a_j - s * a_i\n",
      "    return A"
     ],
     "language": "python",
     "metadata": {},
     "outputs": [],
     "prompt_number": 19
    },
    {
     "cell_type": "markdown",
     "metadata": {},
     "source": [
      "The function `gtProd` does  \n",
      "$\\\\;\\\\;\\\\;\\\\;A\\\\,=\\\\,{G_T}^H\\\\,A\\\\:$   \n",
      "and the function `prodGt` does   \n",
      "$\\\\;\\\\;\\\\;\\\\;A\\\\,=\\\\,A\\\\,G_T $.   \n",
      "The $A$ is returned as a convenience although this is an in-place operation.   \n",
      "Note that temporary vectors are created internal to the routine so this is not totally in-place."
     ]
    },
    {
     "cell_type": "code",
     "collapsed": false,
     "input": [
      "def gtProd(i,j,c,s,A):\n",
      "    a_i=A.rowview(i).copy\n",
      "    a_j=A.rowview(j).copy\n",
      "    A.rowview(i)[:]= c * a_i + s.conjugate() * a_j \n",
      "    A.rowview(j)[:]= c * a_j - s * a_i\n",
      "    return A\n",
      "def prodGT(A,i,j,c,s):\n",
      "    a1 = A.colview(i).copy\n",
      "    a2 = A.colview(j).copy\n",
      "    A.colview(i)[:] = c * a1 + s * a2\n",
      "    A.colview(j)[:] = c * a2 -s.conjugate() * a1\n",
      "    return A"
     ],
     "language": "python",
     "metadata": {},
     "outputs": [],
     "prompt_number": 20
    },
    {
     "cell_type": "markdown",
     "metadata": {},
     "source": [
      "#### QR Decomposition Using Givens Rotations"
     ]
    },
    {
     "cell_type": "code",
     "collapsed": false,
     "input": [
      "def givensQR(A):\n",
      "    M = A.collength\n",
      "    N = A.rowlength\n",
      "    R = A.copy\n",
      "    Q = eye(A.type,M)\n",
      "    for i in range(N):\n",
      "        B=R[i:,i:]\n",
      "        r=B[0,0]\n",
      "        for j in range(1,B.collength):\n",
      "            c,s,r=givensCoef(r,B[j,0])\n",
      "            prodG(Q,i,j+i,c,s)\n",
      "            gProd(0,j,c,s,B)\n",
      "    return (Q,R)"
     ],
     "language": "python",
     "metadata": {},
     "outputs": [],
     "prompt_number": 21
    },
    {
     "cell_type": "markdown",
     "metadata": {},
     "source": [
      "#### Bidigonalization Using Givens Rotations"
     ]
    },
    {
     "cell_type": "code",
     "collapsed": false,
     "input": [
      "def givensBidiag(A):\n",
      "    M  = A.collength\n",
      "    N  = A.rowlength\n",
      "    B  = A.copy\n",
      "    U  = eye(A.type,M)\n",
      "    VH = eye(A.type,N)\n",
      "    for i in range(N-1):\n",
      "        TC=B[i:,i:]\n",
      "        if i < N-2:\n",
      "            TR=B[i:,i+1:]\n",
      "        r=TC[0,0]\n",
      "        for j in range(1,TC.collength):\n",
      "            c,s,r=givensCoef(r,TC[j,0])\n",
      "            prodG(U,i,j+i,c,s)\n",
      "            gProd(0,j,c,s,TC)\n",
      "        if i < N-2:\n",
      "            r=TR[0,0]\n",
      "            k=i+1\n",
      "            for j in range(1,TR.rowlength):\n",
      "                c,s,r=givensCoef(r,TR[0,j])\n",
      "                gtProd(k,j+k,c,s,VH)\n",
      "                prodGT(TR,0,j,c,s)\n",
      "    if M > N:\n",
      "        i=N-1\n",
      "        TC=B[i:,i:]\n",
      "        r=TC[0,0]\n",
      "        for j in range(1,TC.collength):\n",
      "            c,s,r=givensCoef(r,TC[j,0])\n",
      "            prodG(U,i,j+i,c,s)\n",
      "            gProd(0,j,c,s,TC)\n",
      "    return (U,B,VH)"
     ],
     "language": "python",
     "metadata": {},
     "outputs": [],
     "prompt_number": 22
    },
    {
     "cell_type": "markdown",
     "metadata": {},
     "source": [
      "-------\n",
      "### Testing\n",
      "#### The following cell creates a complex matrix for use throughout"
     ]
    },
    {
     "cell_type": "code",
     "collapsed": false,
     "input": [
      "#create a matrix A to work on\n",
      "A=pv.create('cmview_d',5,3)\n",
      "A.realview.block.vector.randn(5)\n",
      "A.imagview.block.vector.randn(11)    \n",
      "#f is a format for use when using mprint method\n",
      "f='%.4f'"
     ],
     "language": "python",
     "metadata": {},
     "outputs": [],
     "prompt_number": 23
    },
    {
     "cell_type": "markdown",
     "metadata": {},
     "source": [
      "#### Test Givens Bidiagonalization"
     ]
    },
    {
     "cell_type": "code",
     "collapsed": false,
     "input": [
      "U,B,VH=givensBidiag(A)\n",
      "A.mprint(f)\n",
      "print('U B V^H');U.prod(B).prod(VH).mprint(f)\n",
      "print('B');B.mprint(f)\n",
      "print('U');U.mprint(f)\n",
      "print('V^H');VH.mprint(f)\n",
      "print('Frobenius of U B V^H - A : %.6f'%((U.prod(B).prod(VH)-A).normFro))"
     ],
     "language": "python",
     "metadata": {},
     "outputs": [
      {
       "output_type": "stream",
       "stream": "stdout",
       "text": [
        "[ 0.5080+0.8347i  0.5352-0.3009i  0.6986-0.2133i;\n",
        " -0.9603-1.1831i  0.2314+0.9088i  0.0404-0.5608i;\n",
        " -0.4766-1.0832i  0.2077-0.3781i  0.5062+0.7615i;\n",
        " -0.3828-0.1095i  0.1575+0.3478i  0.7812-0.5409i;\n",
        " -0.9682+0.2537i -0.3203+1.4490i  0.7925+0.4486i]\n",
        "\n",
        "U B V^H\n",
        "[ 0.5080+0.8347i  0.5352-0.3009i  0.6986-0.2133i;\n",
        " -0.9603-1.1831i  0.2314+0.9088i  0.0404-0.5608i;\n",
        " -0.4766-1.0832i  0.2077-0.3781i  0.5062+0.7615i;\n",
        " -0.3828-0.1095i  0.1575+0.3478i  0.7812-0.5409i;\n",
        " -0.9682+0.2537i -0.3203+1.4490i  0.7925+0.4486i]\n",
        "\n",
        "B\n",
        "[ 1.2561+2.0639i  0.7966-0.6965i  0.0000+0.0000i;\n",
        "  0.0000+0.0000i  1.7907+0.6716i  0.0385-0.3830i;\n",
        " -0.0000-0.0000i  0.0000-0.0000i  0.9423+1.1811i;\n",
        "  0.0000+0.0000i  0.0000-0.0000i  0.0000-0.0000i;\n",
        "  0.0000-0.0000i  0.0000+0.0000i  0.0000+0.0000i]\n",
        "\n",
        "U\n",
        "[ 0.4044+0.0000i  0.2309+0.0678i  0.3479-0.2451i -0.4379+0.0630i  0.0799+0.6287i;\n",
        " -0.6249+0.0849i  0.4766-0.0563i -0.3558+0.0480i -0.4023+0.1473i -0.1696+0.1752i;\n",
        " -0.4855-0.0646i  0.1365-0.2012i  0.7273+0.0340i  0.0230-0.2366i  0.3211-0.1064i;\n",
        " -0.1211+0.1118i  0.3277+0.0854i  0.0118-0.3879i  0.7511+0.0000i -0.1747+0.3359i;\n",
        " -0.1186+0.3969i -0.0133+0.7334i -0.0754+0.0604i  0.0000+0.0000i  0.5302+0.0000i]\n",
        "\n",
        "V^H\n",
        "[ 1.0000+0.0000i  0.0000+0.0000i  0.0000+0.0000i;\n",
        "  0.0000+0.0000i  0.8856+0.0000i  0.1786-0.4287i;\n",
        "  0.0000+0.0000i -0.1786-0.4287i  0.8856+0.0000i]\n",
        "\n",
        "Frobenius of U B V^H - A : 0.000000\n"
       ]
      }
     ],
     "prompt_number": 24
    },
    {
     "cell_type": "markdown",
     "metadata": {},
     "source": [
      "#### Test Givens QR Decomposition"
     ]
    },
    {
     "cell_type": "code",
     "collapsed": false,
     "input": [
      "Q,R=givensQR(A)\n",
      "A.mprint(f)\n",
      "Q.mprint(f)\n",
      "R.mprint(f)\n",
      "Q.prod(R).mprint(f)\n",
      "c=(Q.prod(R)-A).normFro\n",
      "print('%.7f'%c)\n",
      "Q.prod(Q.herm).mprint(f)"
     ],
     "language": "python",
     "metadata": {},
     "outputs": [
      {
       "output_type": "stream",
       "stream": "stdout",
       "text": [
        "[ 0.5080+0.8347i  0.5352-0.3009i  0.6986-0.2133i;\n",
        " -0.9603-1.1831i  0.2314+0.9088i  0.0404-0.5608i;\n",
        " -0.4766-1.0832i  0.2077-0.3781i  0.5062+0.7615i;\n",
        " -0.3828-0.1095i  0.1575+0.3478i  0.7812-0.5409i;\n",
        " -0.9682+0.2537i -0.3203+1.4490i  0.7925+0.4486i]\n",
        "\n",
        "[ 0.4044+0.0000i  0.1293-0.0749i  0.3018-0.3544i -0.4379+0.0630i  0.0799+0.6287i;\n",
        " -0.6249+0.0849i  0.4305+0.1428i -0.3759-0.1104i -0.4023+0.1473i -0.1696+0.1752i;\n",
        " -0.4855-0.0646i  0.2110-0.4606i  0.5710-0.0804i  0.0230-0.2366i  0.3211-0.1064i;\n",
        " -0.1211+0.1118i  0.1327+0.0758i -0.0168-0.4915i  0.7511+0.0000i -0.1747+0.3359i;\n",
        " -0.1186+0.3969i -0.0647+0.6984i  0.2351+0.0132i  0.0000+0.0000i  0.5302+0.0000i]\n",
        "\n",
        "[ 1.2561+2.0639i  0.7055-0.6168i -0.1563-0.4659i;\n",
        "  0.0000+0.0000i  1.6191+0.5394i  0.1243-0.5421i;\n",
        " -0.0000-0.0000i -0.0000+0.0000i  1.0060+1.3621i;\n",
        "  0.0000+0.0000i  0.0000+0.0000i -0.0000+0.0000i;\n",
        "  0.0000-0.0000i -0.0000+0.0000i  0.0000-0.0000i]\n",
        "\n",
        "[ 0.5080+0.8347i  0.5352-0.3009i  0.6986-0.2133i;\n",
        " -0.9603-1.1831i  0.2314+0.9088i  0.0404-0.5608i;\n",
        " -0.4766-1.0832i  0.2077-0.3781i  0.5062+0.7615i;\n",
        " -0.3828-0.1095i  0.1575+0.3478i  0.7812-0.5409i;\n",
        " -0.9682+0.2537i -0.3203+1.4490i  0.7925+0.4486i]\n",
        "\n",
        "0.0000000\n",
        "[ 1.0000+0.0000i  0.0000-0.0000i -0.0000+0.0000i -0.0000-0.0000i  0.0000+0.0000i;\n",
        "  0.0000+0.0000i  1.0000+0.0000i  0.0000-0.0000i -0.0000+0.0000i  0.0000+0.0000i;\n",
        " -0.0000+0.0000i  0.0000+0.0000i  1.0000+0.0000i  0.0000-0.0000i -0.0000-0.0000i;\n",
        " -0.0000+0.0000i -0.0000-0.0000i  0.0000+0.0000i  1.0000+0.0000i  0.0000+0.0000i;\n",
        "  0.0000-0.0000i  0.0000-0.0000i -0.0000+0.0000i  0.0000-0.0000i  1.0000+0.0000i]\n",
        "\n"
       ]
      }
     ],
     "prompt_number": 25
    },
    {
     "cell_type": "markdown",
     "metadata": {},
     "source": [
      "#### Test `prodG`, `gProd`, `gtProd`, `prodGT`  "
     ]
    },
    {
     "cell_type": "code",
     "collapsed": false,
     "input": [
      "G=eye('cmview_d',2)\n",
      "G_T=G.copy\n",
      "GH=G.copy\n",
      "G_TH=G.copy\n",
      "x=complex(1.2,2.2); y=complex(.5,.6)\n",
      "c,s,r=givensCoef(x,y)\n",
      "print(\"c: %s  s: %s\"%(repr(c),repr(s)))"
     ],
     "language": "python",
     "metadata": {},
     "outputs": [
      {
       "output_type": "stream",
       "stream": "stdout",
       "text": [
        "c: 0.9547072287345311  s: (0.2918850126067355+0.0577689087450831j)\n"
       ]
      }
     ],
     "prompt_number": 26
    },
    {
     "cell_type": "markdown",
     "metadata": {},
     "source": [
      "##### Test Givens Product with $I_2$ to produce $ G\\\\;\\\\;$"
     ]
    },
    {
     "cell_type": "code",
     "collapsed": false,
     "input": [
      "gProd(0,1,c,s,G).mprint('%.4f')"
     ],
     "language": "python",
     "metadata": {},
     "outputs": [
      {
       "output_type": "stream",
       "stream": "stdout",
       "text": [
        "[ 0.9547+0.0000i  0.2919+0.0578i;\n",
        " -0.2919+0.0578i  0.9547+0.0000i]\n",
        "\n"
       ]
      }
     ],
     "prompt_number": 27
    },
    {
     "cell_type": "markdown",
     "metadata": {},
     "source": [
      "##### Test product $I_2$ with Givens hermitian to produce ${G}^H$"
     ]
    },
    {
     "cell_type": "code",
     "collapsed": false,
     "input": [
      "prodG(GH,0,1,c,s).mprint('%.4f')"
     ],
     "language": "python",
     "metadata": {},
     "outputs": [
      {
       "output_type": "stream",
       "stream": "stdout",
       "text": [
        "[ 0.9547+0.0000i -0.2919-0.0578i;\n",
        "  0.2919-0.0578i  0.9547+0.0000i]\n",
        "\n"
       ]
      }
     ],
     "prompt_number": 28
    },
    {
     "cell_type": "markdown",
     "metadata": {},
     "source": [
      "##### Test product $I_2$ with Givens transpose hermitian to produce ${G_T}^H$"
     ]
    },
    {
     "cell_type": "code",
     "collapsed": false,
     "input": [
      "gtProd(0,1,c,s,G_TH).mprint('%.4f')"
     ],
     "language": "python",
     "metadata": {},
     "outputs": [
      {
       "output_type": "stream",
       "stream": "stdout",
       "text": [
        "[ 0.9547+0.0000i  0.2919-0.0578i;\n",
        " -0.2919-0.0578i  0.9547+0.0000i]\n",
        "\n"
       ]
      }
     ],
     "prompt_number": 29
    },
    {
     "cell_type": "markdown",
     "metadata": {},
     "source": [
      "##### Test Givens Transpose product with $I_2$ to produce $G_T$"
     ]
    },
    {
     "cell_type": "code",
     "collapsed": false,
     "input": [
      "prodGT(G_T,0,1,c,s).mprint('%.4f')"
     ],
     "language": "python",
     "metadata": {},
     "outputs": [
      {
       "output_type": "stream",
       "stream": "stdout",
       "text": [
        "[ 0.9547+0.0000i -0.2919+0.0578i;\n",
        "  0.2919+0.0578i  0.9547+0.0000i]\n",
        "\n"
       ]
      }
     ],
     "prompt_number": 30
    },
    {
     "cell_type": "markdown",
     "metadata": {},
     "source": [
      "Make sure $G G^H$ is the identity  \n",
      "and $G_T {G_T}^H$ is the identity"
     ]
    },
    {
     "cell_type": "code",
     "collapsed": false,
     "input": [
      "G.prod(GH).mprint('%.1f')\n",
      "G_T.prod(G_TH).mprint('%.1f')"
     ],
     "language": "python",
     "metadata": {},
     "outputs": [
      {
       "output_type": "stream",
       "stream": "stdout",
       "text": [
        "[ 1.0+0.0i  0.0+0.0i;\n",
        "  0.0+0.0i  1.0+0.0i]\n",
        "\n",
        "[ 1.0+0.0i  0.0+0.0i;\n",
        "  0.0+0.0i  1.0+0.0i]\n",
        "\n"
       ]
      }
     ],
     "prompt_number": 31
    },
    {
     "cell_type": "markdown",
     "metadata": {},
     "source": [
      "#### Test Givens"
     ]
    },
    {
     "cell_type": "code",
     "collapsed": false,
     "input": [
      "Acopy=A.copy\n",
      "i=2; j=3; k=4\n",
      "x1=A[i,k]\n",
      "x2=A[j,k]\n",
      "c,s,r=givensCoef(x1,x2)\n",
      "print(\"c: \"+ repr(c))\n",
      "print(\"s: \"+ repr(s))\n",
      "print(\"A: \");A.mprint(f)"
     ],
     "language": "python",
     "metadata": {},
     "outputs": [
      {
       "output_type": "stream",
       "stream": "stdout",
       "text": [
        "c: 0.24917815578546\n",
        "s: (0.7752574536442435-0.5804189239234024j)\n",
        "A: \n",
        "[ 0.5080+0.8347i  0.5352-0.3009i  0.6986-0.2133i;\n",
        " -0.9603-1.1831i  0.2314+0.9088i  0.0404-0.5608i;\n",
        " -0.4766-1.0832i  0.2077-0.3781i  0.5062+0.7615i;\n",
        " -0.3828-0.1095i  0.1575+0.3478i  0.7812-0.5409i;\n",
        " -0.9682+0.2537i -0.3203+1.4490i  0.7925+0.4486i]\n",
        "\n"
       ]
      }
     ],
     "prompt_number": 32
    },
    {
     "cell_type": "markdown",
     "metadata": {},
     "source": [
      "Calculate matrix $G A$"
     ]
    },
    {
     "cell_type": "code",
     "collapsed": false,
     "input": [
      "print(\"Index (%d,%d) should be zero: \"%(j,k));GA=gProd(i,j,c,s,Acopy)\n",
      "GA.mprint(f)"
     ],
     "language": "python",
     "metadata": {},
     "outputs": [
      {
       "output_type": "stream",
       "stream": "stdout",
       "text": [
        "Index (3,4) should be zero: \n",
        "[ 0.5080+0.8347i  0.5352-0.3009i  0.6986-0.2133i;\n",
        " -0.9603-1.1831i  0.2314+0.9088i  0.0404-0.5608i;\n",
        " -0.4791-0.1326i  0.3757+0.0841i  0.4178-0.6830i;\n",
        " -0.3546+1.0891i -0.3412+0.2593i  0.2442-1.0190i;\n",
        " -0.9682+0.2537i -0.3203+1.4490i  0.7925+0.4486i]\n",
        "\n"
       ]
      }
     ],
     "prompt_number": 33
    },
    {
     "cell_type": "markdown",
     "metadata": {},
     "source": [
      "check that $G^H (G A) = A$"
     ]
    },
    {
     "cell_type": "code",
     "collapsed": false,
     "input": [
      "GH=givensExtract(A.type,i,j,c,s,A.collength).herm\n",
      "GH.prod(GA).mprint(f)\n",
      "print('forbenius of difference %.6f'%((GH.prod(GA)-A).normFro))"
     ],
     "language": "python",
     "metadata": {},
     "outputs": [
      {
       "output_type": "stream",
       "stream": "stdout",
       "text": [
        "[ 0.5080+0.8347i  0.5352-0.3009i  0.6986-0.2133i;\n",
        " -0.9603-1.1831i  0.2314+0.9088i  0.0404-0.5608i;\n",
        " -0.4766-1.0832i  0.2077-0.3781i  0.5062+0.7615i;\n",
        " -0.3828-0.1095i  0.1575+0.3478i  0.7812-0.5409i;\n",
        " -0.9682+0.2537i -0.3203+1.4490i  0.7925+0.4486i]\n",
        "\n",
        "forbenius of difference 0.000000\n"
       ]
      }
     ],
     "prompt_number": 34
    },
    {
     "cell_type": "markdown",
     "metadata": {},
     "source": [
      "#### Test givens to zero along a row"
     ]
    },
    {
     "cell_type": "code",
     "collapsed": false,
     "input": [
      "Acopy=A.copy\n",
      "i=2; j=3; k=4\n",
      "x1=A[k,i]\n",
      "x2=A[k,j]\n",
      "c,s,r=givensCoef(x1,x2)\n",
      "print(\"c: \"+ repr(c))\n",
      "print(\"s: \"+ repr(s))\n",
      "print(\"A: \");A.mprint(f)\n",
      "GT=givensExtract(A.type,i,j,c,s,A.rowlength).transview\n",
      "print('Transpose of Givens G_T: ');GT.mprint(f)\n",
      "print('Test gtProd to do G_T^H.prod(G_t), should be I:' )\n",
      "gtProd(i,j,c,s,GT).mprint(f)\n",
      "print('Test A.prod(G_T) to see if we zero element along row at (4,3)): ')\n",
      "Acopy.prod(givensExtract(A.type,i,j,c,s,A.rowlength).transview).mprint(f)"
     ],
     "language": "python",
     "metadata": {},
     "outputs": [
      {
       "output_type": "stream",
       "stream": "stdout",
       "text": [
        "c: 1.0\n",
        "s: (1.148277105e-314-2.0285932463e-314j)\n",
        "A: \n",
        "[ 0.5080+0.8347i  0.5352-0.3009i  0.6986-0.2133i;\n",
        " -0.9603-1.1831i  0.2314+0.9088i  0.0404-0.5608i;\n",
        " -0.4766-1.0832i  0.2077-0.3781i  0.5062+0.7615i;\n",
        " -0.3828-0.1095i  0.1575+0.3478i  0.7812-0.5409i;\n",
        " -0.9682+0.2537i -0.3203+1.4490i  0.7925+0.4486i]\n",
        "\n",
        "Transpose of Givens G_T: \n",
        "[ 1.0000+0.0000i  0.0000+0.0000i  0.0000+0.0000i;\n",
        "  0.0000+0.0000i  1.0000+0.0000i  0.0000+0.0000i;\n",
        "  0.0000+0.0000i  0.0000+0.0000i  1.0000+0.0000i]\n",
        "\n",
        "Test gtProd to do G_T^H.prod(G_t), should be I:\n",
        "[ 1.0000+0.0000i  0.0000+0.0000i  0.0000+0.0000i;\n",
        "  0.0000+0.0000i  1.0000+0.0000i  0.0000+0.0000i;\n",
        "  0.0000+0.0000i  0.0000+0.0000i  1.0000+0.0000i]\n",
        "\n",
        "Test A.prod(G_T) to see if we zero element along row at (4,3)): \n",
        "[ 0.5080+0.8347i  0.5352-0.3009i  0.6986-0.2133i;\n",
        " -0.9603-1.1831i  0.2314+0.9088i  0.0404-0.5608i;\n",
        " -0.4766-1.0832i  0.2077-0.3781i  0.5062+0.7615i;\n",
        " -0.3828-0.1095i  0.1575+0.3478i  0.7812-0.5409i;\n",
        " -0.9682+0.2537i -0.3203+1.4490i  0.7925+0.4486i]\n",
        "\n"
       ]
      }
     ],
     "prompt_number": 35
    },
    {
     "cell_type": "markdown",
     "metadata": {},
     "source": [
      "#### Test `givensCoef`"
     ]
    },
    {
     "cell_type": "code",
     "collapsed": false,
     "input": [
      "print('Real data\\nCreate (column) vector y: ')\n",
      "y=pv.create('vview_d',2);y[0] = 1.5;y[1]=-4.1\n",
      "y.mprint(f)\n",
      "print('Create Givens matrix G: ')\n",
      "g=pv.create('mview_d',2,2)\n",
      "c,s,r=givensCoef(y[0],y[1])\n",
      "g[0,0]=c; g[1,1]=c; g[0,1]=s;g[1,0]=-s.conjugate()\n",
      "g.mprint(f)\n",
      "print('Calculate x=G y; x = ')\n",
      "x=g.prod(y)\n",
      "x.mprint('%.6f')\n",
      "print('Complex data\\nCreate (column) vector y: ')\n",
      "yc=pv.create('cvview_d',2);yc[0] = complex(1.5,.5);yc[1]=complex(-3.,4.)\n",
      "yc.mprint(f)\n",
      "print('Create Givens Matrix G: ')\n",
      "gc=pv.create('cmview_d',2,2)\n",
      "c,s,r=givensCoef(yc[0],yc[1])\n",
      "gc[0,0]=c; gc[1,1]=c; gc[0,1]=s;gc[1,0]=-s.conjugate()\n",
      "gc.mprint(f)\n",
      "print('Calculate x=G y; x = ')\n",
      "xc=gc.prod(yc)\n",
      "xc.mprint('%.6f')"
     ],
     "language": "python",
     "metadata": {},
     "outputs": [
      {
       "output_type": "stream",
       "stream": "stdout",
       "text": [
        "Real data\n",
        "Create (column) vector y: \n",
        "[ 1.5000 -4.1000]\n",
        "\n",
        "Create Givens matrix G: \n",
        "[ 0.3436 -0.9391;\n",
        "  0.9391  0.3436]\n",
        "\n",
        "Calculate x=G y; x = \n",
        "[ 4.365776  0.000000]\n",
        "\n",
        "Complex data\n",
        "Create (column) vector y: \n",
        "[ 1.5000+0.5000i -3.0000+4.0000i]\n",
        "\n",
        "Create Givens Matrix G: \n",
        "[ 0.3015+0.0000i -0.3015-0.9045i;\n",
        "  0.3015-0.9045i  0.3015+0.0000i]\n",
        "\n",
        "Calculate x=G y; x = \n",
        "[ 4.974937+1.658312i -0.000000-0.000000i]\n",
        "\n"
       ]
      }
     ],
     "prompt_number": 36
    },
    {
     "cell_type": "markdown",
     "metadata": {},
     "source": [
      "#### Test `bidiag` decomposition routine    \n",
      "using Householder method"
     ]
    },
    {
     "cell_type": "code",
     "collapsed": false,
     "input": [
      "print('A:'); A.mprint(f)\n",
      "B=bidiag(A)\n",
      "print('B');B.mprint(f)\n",
      "U=UmatExtract(B); print('U:');U.mprint(f)\n",
      "B0=bidiagExtract(B); print('bidiag:');B0.mprint(f)\n",
      "VH=VHmatExtract(B); print('VH:');VH.mprint(f)\n",
      "print('A check');U.prod(B0).prod(VH).mprint(f)\n",
      "print('frobenius (A-U B VH): %.6f'%(A-U.prod(B0).prod(VH)).normFro)"
     ],
     "language": "python",
     "metadata": {},
     "outputs": [
      {
       "output_type": "stream",
       "stream": "stdout",
       "text": [
        "A:\n",
        "[ 0.5080+0.8347i  0.5352-0.3009i  0.6986-0.2133i;\n",
        " -0.9603-1.1831i  0.2314+0.9088i  0.0404-0.5608i;\n",
        " -0.4766-1.0832i  0.2077-0.3781i  0.5062+0.7615i;\n",
        " -0.3828-0.1095i  0.1575+0.3478i  0.7812-0.5409i;\n",
        " -0.9682+0.2537i -0.3203+1.4490i  0.7925+0.4486i]\n",
        "\n",
        "B\n",
        "[-1.2561-2.0639i  0.7966-0.6965i  0.0947+0.2274i;\n",
        " -0.4450+0.0605i  1.8326+0.5472i -0.0122+0.3847i;\n",
        " -0.3457-0.0460i  0.1415-0.0960i -0.9988-1.1337i;\n",
        " -0.0862+0.0796i  0.2191+0.0611i  0.0444-0.2117i;\n",
        " -0.0845+0.2826i -0.0132+0.4253i -0.0814+0.0130i]\n",
        "\n",
        "U:\n",
        "[-0.4044+0.0000i -0.2257-0.0835i -0.3595+0.2278i -0.1927-0.0123i  0.1237+0.7381i;\n",
        "  0.6249-0.0849i -0.4793+0.0235i  0.3577-0.0306i -0.2931+0.1938i -0.1110+0.3275i;\n",
        "  0.4855+0.0646i -0.1500+0.1914i -0.7247-0.0694i -0.0528-0.3240i  0.2063-0.1434i;\n",
        "  0.1211-0.1118i -0.3211-0.1076i -0.0308+0.3868i  0.8334+0.0063i -0.0995+0.0559i;\n",
        "  0.1186-0.3969i  0.0636-0.7307i  0.0783-0.0567i -0.0482-0.1859i  0.4925-0.0408i]\n",
        "\n",
        "bidiag:\n",
        "[-1.2561-2.0639i  0.7966-0.6965i  0.0000+0.0000i;\n",
        "  0.0000+0.0000i  1.8326+0.5472i -0.0122+0.3847i;\n",
        "  0.0000+0.0000i  0.0000+0.0000i -0.9988-1.1337i;\n",
        "  0.0000+0.0000i  0.0000+0.0000i  0.0000+0.0000i;\n",
        "  0.0000+0.0000i  0.0000+0.0000i  0.0000+0.0000i]\n",
        "\n",
        "VH:\n",
        "[ 1.0000+0.0000i  0.0000+0.0000i  0.0000+0.0000i;\n",
        "  0.0000+0.0000i -0.8856+0.0000i -0.1786+0.4287i;\n",
        "  0.0000+0.0000i -0.1786-0.4287i  0.8856+0.0000i]\n",
        "\n",
        "A check\n",
        "[ 0.5080+0.8347i  0.5352-0.3009i  0.6986-0.2133i;\n",
        " -0.9603-1.1831i  0.2314+0.9088i  0.0404-0.5608i;\n",
        " -0.4766-1.0832i  0.2077-0.3781i  0.5062+0.7615i;\n",
        " -0.3828-0.1095i  0.1575+0.3478i  0.7812-0.5409i;\n",
        " -0.9682+0.2537i -0.3203+1.4490i  0.7925+0.4486i]\n",
        "\n",
        "frobenius (A-U B VH): 0.000000\n"
       ]
      }
     ],
     "prompt_number": 37
    },
    {
     "cell_type": "markdown",
     "metadata": {},
     "source": [
      "#### Test Householder QR Decomposition routine    "
     ]
    },
    {
     "cell_type": "code",
     "collapsed": false,
     "input": [
      "Q,R=houseQR(A)\n",
      "print('A:');A.mprint(f)\n",
      "print('Q:');Q.mprint(f)\n",
      "print('R:');R.mprint(f)\n",
      "print('Q R:');Q.prod(R).mprint(f)\n",
      "print('frobenius of A-QR :%.6f'%((A-Q.prod(R)).normFro))"
     ],
     "language": "python",
     "metadata": {},
     "outputs": [
      {
       "output_type": "stream",
       "stream": "stdout",
       "text": [
        "A:\n",
        "[ 0.5080+0.8347i  0.5352-0.3009i  0.6986-0.2133i;\n",
        " -0.9603-1.1831i  0.2314+0.9088i  0.0404-0.5608i;\n",
        " -0.4766-1.0832i  0.2077-0.3781i  0.5062+0.7615i;\n",
        " -0.3828-0.1095i  0.1575+0.3478i  0.7812-0.5409i;\n",
        " -0.9682+0.2537i -0.3203+1.4490i  0.7925+0.4486i]\n",
        "\n",
        "Q:\n",
        "[-0.4044+0.0000i -0.1112+0.0999i -0.3926+0.2502i -0.1668-0.0357i  0.0910+0.7483i;\n",
        "  0.6249-0.0849i -0.4507-0.0512i  0.3269+0.2159i -0.2751+0.1916i -0.1234+0.3398i;\n",
        "  0.4855+0.0646i -0.1116+0.4942i -0.5694-0.0908i -0.0670-0.3274i  0.1970-0.1430i;\n",
        "  0.1211-0.1118i -0.1454-0.0468i -0.1282+0.4748i  0.8374+0.0012i -0.0773+0.0202i;\n",
        "  0.1186-0.3969i -0.0804-0.6967i -0.2209-0.0816i -0.0650-0.2035i  0.4845-0.0265i]\n",
        "\n",
        "R:\n",
        "[-1.2561-2.0639i -0.7055+0.6168i  0.1563+0.4659i;\n",
        "  0.0000+0.0000i -1.4734-0.8611i -0.2332+0.5049i;\n",
        "  0.0000+0.0000i  0.0000+0.0000i -1.3615-1.0067i;\n",
        "  0.0000+0.0000i  0.0000+0.0000i  0.0000+0.0000i;\n",
        "  0.0000+0.0000i  0.0000+0.0000i  0.0000+0.0000i]\n",
        "\n",
        "Q R:\n",
        "[ 0.5080+0.8347i  0.5352-0.3009i  0.6986-0.2133i;\n",
        " -0.9603-1.1831i  0.2314+0.9088i  0.0404-0.5608i;\n",
        " -0.4766-1.0832i  0.2077-0.3781i  0.5062+0.7615i;\n",
        " -0.3828-0.1095i  0.1575+0.3478i  0.7812-0.5409i;\n",
        " -0.9682+0.2537i -0.3203+1.4490i  0.7925+0.4486i]\n",
        "\n",
        "frobenius of A-QR :0.000000\n"
       ]
      }
     ],
     "prompt_number": 38
    },
    {
     "cell_type": "code",
     "collapsed": false,
     "input": [
      "q,r=houseQR(A.realview)\n",
      "print('A:');A.realview.mprint(f)\n",
      "print('Q R:');(q.prod(r)).mprint(f)\n",
      "print('frobenius of (A-QR): %.6f'%((A.realview-q.prod(r)).normFro))"
     ],
     "language": "python",
     "metadata": {},
     "outputs": [
      {
       "output_type": "stream",
       "stream": "stdout",
       "text": [
        "A:\n",
        "[ 0.5080  0.5352  0.6986;\n",
        " -0.9603  0.2314  0.0404;\n",
        " -0.4766  0.2077  0.5062;\n",
        " -0.3828  0.1575  0.7812;\n",
        " -0.9682 -0.3203  0.7925]\n",
        "\n",
        "Q R:\n",
        "[ 0.5080  0.5352  0.6986;\n",
        " -0.9603  0.2314  0.0404;\n",
        " -0.4766  0.2077  0.5062;\n",
        " -0.3828  0.1575  0.7812;\n",
        " -0.9682 -0.3203  0.7925]\n",
        "\n",
        "frobenius of (A-QR): 0.000000\n"
       ]
      }
     ],
     "prompt_number": 39
    },
    {
     "cell_type": "markdown",
     "metadata": {},
     "source": [
      "#### Test QRD decomposition in place"
     ]
    },
    {
     "cell_type": "code",
     "collapsed": false,
     "input": [
      "B=A.copy\n",
      "QRD_inPlace(B)\n",
      "R=RmatExtract(B)\n",
      "B.mprint(f)"
     ],
     "language": "python",
     "metadata": {},
     "outputs": [
      {
       "output_type": "stream",
       "stream": "stdout",
       "text": [
        "[-1.2561-2.0639i -0.7055+0.6168i  0.1563+0.4659i;\n",
        " -0.4450+0.0605i -1.4734-0.8611i -0.2332+0.5049i;\n",
        " -0.3457-0.0460i  0.1035-0.3505i -1.3615-1.0067i;\n",
        " -0.0862+0.0796i  0.0984+0.0197i  0.0817-0.2638i;\n",
        " -0.0845+0.2826i  0.0412+0.4396i  0.0193+0.0203i]\n",
        "\n"
       ]
      }
     ],
     "prompt_number": 40
    },
    {
     "cell_type": "code",
     "collapsed": false,
     "input": [
      "R.mprint(f)"
     ],
     "language": "python",
     "metadata": {},
     "outputs": [
      {
       "output_type": "stream",
       "stream": "stdout",
       "text": [
        "[-1.2561-2.0639i -0.7055+0.6168i  0.1563+0.4659i;\n",
        "  0.0000+0.0000i -1.4734-0.8611i -0.2332+0.5049i;\n",
        "  0.0000+0.0000i  0.0000+0.0000i -1.3615-1.0067i;\n",
        "  0.0000+0.0000i  0.0000+0.0000i  0.0000+0.0000i;\n",
        "  0.0000+0.0000i  0.0000+0.0000i  0.0000+0.0000i]\n",
        "\n"
       ]
      }
     ],
     "prompt_number": 41
    },
    {
     "cell_type": "code",
     "collapsed": false,
     "input": [
      "AC=fullQProd(B,R)"
     ],
     "language": "python",
     "metadata": {},
     "outputs": [],
     "prompt_number": 42
    },
    {
     "cell_type": "code",
     "collapsed": false,
     "input": [
      "A.mprint(f)\n",
      "AC.mprint(f)\n",
      "print('frobenius of A-QR :%.6f'%((A-AC).normFro))"
     ],
     "language": "python",
     "metadata": {},
     "outputs": [
      {
       "output_type": "stream",
       "stream": "stdout",
       "text": [
        "[ 0.5080+0.8347i  0.5352-0.3009i  0.6986-0.2133i;\n",
        " -0.9603-1.1831i  0.2314+0.9088i  0.0404-0.5608i;\n",
        " -0.4766-1.0832i  0.2077-0.3781i  0.5062+0.7615i;\n",
        " -0.3828-0.1095i  0.1575+0.3478i  0.7812-0.5409i;\n",
        " -0.9682+0.2537i -0.3203+1.4490i  0.7925+0.4486i]\n",
        "\n",
        "[ 0.5080+0.8347i  0.5352-0.3009i  0.6986-0.2133i;\n",
        " -0.9603-1.1831i  0.2314+0.9088i  0.0404-0.5608i;\n",
        " -0.4766-1.0832i  0.2077-0.3781i  0.5062+0.7615i;\n",
        " -0.3828-0.1095i  0.1575+0.3478i  0.7812-0.5409i;\n",
        " -0.9682+0.2537i -0.3203+1.4490i  0.7925+0.4486i]\n",
        "\n",
        "frobenius of A-QR :0.000000\n"
       ]
      }
     ],
     "prompt_number": 43
    }
   ],
   "metadata": {}
  }
 ]
}