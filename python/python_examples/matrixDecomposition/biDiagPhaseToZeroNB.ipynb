{
 "metadata": {
  "name": "biDiagPhaseToZeroNB"
 },
 "nbformat": 3,
 "nbformat_minor": 0,
 "worksheets": [
  {
   "cells": [
    {
     "cell_type": "markdown",
     "metadata": {},
     "source": [
      "## Phase rotation of bidiagonal matrix\n",
      "The bidiagnoal matrix produced by `B=bidiag(A)` might be complex and might have negative numbers on the main diagonal. It is possible to phase shift the matrix so that all the entries on the main diagonal are positive (or zero) and the bidiagonal has only real entries.    \n",
      "$ A \\rightarrow U_{complex} B_{complex} {V^H}_{complex} \\rightarrow {U^'}_{complex} {B^'}_{real} {{V^'}^H}_{complex} $"
     ]
    },
    {
     "cell_type": "markdown",
     "metadata": {},
     "source": [
      "### Bidiagonal Matrix Phase To Zero\n",
      "In the SVD calculation function `biDiagPhaseToZero` is a decomposition routine which is used to convert an upper bidiagonal matrix, which may be real or complex, into a real, upper bidiagonal, matrix whose entries are all positive or zero. It also is used as a zero checking function.\n",
      "\n",
      "Zero checking is a necessary function in the iteration to decide when a value is zero. When this decision is made the value is set exactly to zero so it may be effectively checked logically."
     ]
    },
    {
     "cell_type": "markdown",
     "metadata": {},
     "source": [
      "The decomposition operation here is the same as everywhere else. Note we assume we are in a process that started with $A = L B R$ which is maintained by accumulating decomposition steps into the left and right matrices. Also note that $\\hat{d_i} = d_i/{\\left|d_i\\right|}$ and $\\hat{d_i} \\hat{\\bar{d_i}} = 1.0$ which allows us to represent the identity matrix as   \n",
      "\n",
      "$\\begin{bmatrix}1&0&0&0\\\\\\\\0&1&0&0\\\\\\\\0&0&1&0\\\\\\\\0&0&0&1\\end{bmatrix}\n",
      "= \n",
      "\\begin{bmatrix}\\hat{\\bar{d_0}}&0&0&0\\\\\\\\0&\\hat{\\bar{d_1}}&0&0\\\\\\\\0&0&\\hat{\\bar{d_2}}&0\\\\\\\\0&0&0&\\hat{\\bar{d_3}}\\end{bmatrix}\n",
      "\\begin{bmatrix}\\hat{d_0}&0&0&0     \\\\\\\\0&\\hat{d_1}&0&0\\\\\\\\0&0&\\hat{d_2}&0\\\\\\\\0&0&0&\\hat{d_3}\\end{bmatrix}\n",
      "$"
     ]
    },
    {
     "cell_type": "markdown",
     "metadata": {},
     "source": [
      "Note we are working a size 4 example case here but the results are easily extended to any size bidiagonal matrix.\n",
      "We see that  \n",
      "\n",
      "$\\begin{bmatrix} d_0 & f_0 & 0 & 0\\\\\\\\0 & d_1 & f_1 & 0\\\\\\\\0 & 0 & d_2 & f_2\\\\\\\\0 & 0 & 0 & d_3\\end{bmatrix}\n",
      "\\rightarrow\n",
      "\\begin{bmatrix}\\hat{\\bar{d_0}}&0&0&0\\\\\\\\0&\\hat{\\bar{d_1}}&0&0\\\\\\\\0&0&\\hat{\\bar{d_2}}&0\\\\\\\\0&0&0&\\hat{\\bar{d_3}}\\end{bmatrix}\n",
      "\\begin{bmatrix}\\hat{d_0}&0&0&0     \\\\\\\\0&\\hat{d_1}&0&0\\\\\\\\0&0&\\hat{d_2}&0\\\\\\\\0&0&0&\\hat{d_3}\\end{bmatrix}\n",
      "\\begin{bmatrix} d_0 & f_0 & 0 & 0\\\\\\\\0 & d_1 & f_1 & 0\\\\\\\\0 & 0 & d_2 & f_2\\\\\\\\0 & 0 & 0 & d_3\\end{bmatrix}\\rightarrow$   \n",
      "\n",
      "$\\begin{bmatrix}\\hat{\\bar{d_0}}&0&0&0\\\\\\\\0&\\hat{\\bar{d_1}}&0&0\\\\\\\\0&0&\\hat{\\bar{d_2}}&0\\\\\\\\0&0&0&\\hat{\\bar{d_3}}\\end{bmatrix}\n",
      "\\begin{bmatrix} \\left|d_0\\right| & \\hat{d_0}f_0 & 0 & 0\\\\\\\\0 & \\left|d_1\\right| & \\hat{d_1}f_1 & 0\\\\\\\\0 & 0 & \\left|d_2\\right| & \\hat{d_2}f_2\\\\\\\\0 & 0 & 0 & \\left|d_3\\right|\\end{bmatrix}\\rightarrow\n",
      "\\begin{bmatrix}\\hat{\\bar{d_0}}&0&0&0\\\\\\\\0&\\hat{\\bar{d_1}}&0&0\\\\\\\\0&0&\\hat{\\bar{d_2}}&0\\\\\\\\0&0&0&\\hat{\\bar{d_3}}\\end{bmatrix}\n",
      "\\begin{bmatrix} \\left|d_0\\right| & f{_0^'} & 0 & 0\\\\\\\\0 & \\left|d_1\\right| & f{_1^'} & 0\\\\\\\\0 & 0 & \\left|d_2\\right| & f{_2^'}\\\\\\\\0 & 0 & 0 & \\left|d_3\\right|\\end{bmatrix}$"
     ]
    },
    {
     "cell_type": "markdown",
     "metadata": {},
     "source": [
      "So we see that the main diagonal is real and positive but the super diagonal is not determined as real or positive, and each entry in the super diagonal has undergone some phase shift. We note that    \n",
      "$\n",
      "\\begin{bmatrix}1&0&0&0\\\\\\\\0&1&0&0\\\\\\\\0&0&1&0\\\\\\\\0&0&0&1\\end{bmatrix}\n",
      "\\begin{bmatrix} \\left|d_0\\right| & f{_0^'} & 0 & 0\\\\\\\\0 & \\left|d_1\\right| & f{_1^'} & 0\\\\\\\\0 & 0 & \\left|d_2\\right| & f{_2^'}\\\\\\\\0 & 0 & 0 & \\left|d_3\\right|\\end{bmatrix}\n",
      "\\begin{bmatrix}1&0&0&0\\\\\\\\0&1&0&0\\\\\\\\0&0&1&0\\\\\\\\0&0&0&1\\end{bmatrix}\n",
      "\\rightarrow\n",
      "$    \n",
      "\n",
      "$\n",
      "\\begin{bmatrix} 1&0&0&0\\\\\\\\0&\\hat{f{_0^'}}&0&0\\\\\\\\0&0&1&0\\\\\\\\0&0&0&1\\end{bmatrix}\n",
      "\\begin{bmatrix}1 &0&0&0\\\\\\\\0&\\hat{\\bar{f{_0^'}}}&0&0\\\\\\\\0&0&1&0\\\\\\\\0&0&0&1\\end{bmatrix}\n",
      "\\begin{bmatrix} \\left|d_0\\right| & f{_0^'} & 0 & 0\\\\\\\\0 & \\left|d_1\\right| & f{_1^'} & 0\\\\\\\\0 & 0 & \\left|d_2\\right| & f{_2^'}\\\\\\\\0 & 0 & 0 & \\left|d_3\\right|\\end{bmatrix}\n",
      "\\begin{bmatrix} 1&0&0&0\\\\\\\\0&\\hat{f{_0^'}}&0&0\\\\\\\\0&0&1&0\\\\\\\\0&0&0&1\\end{bmatrix}\n",
      "\\begin{bmatrix}1 &0&0&0\\\\\\\\0&\\hat{\\bar{f{_0^'}}}&0&0\\\\\\\\0&0&1&0\\\\\\\\0&0&0&1\\end{bmatrix}\n",
      "\\rightarrow\n",
      "$"
     ]
    },
    {
     "cell_type": "markdown",
     "metadata": {},
     "source": [
      "$\n",
      "\\begin{bmatrix} 1 &0&0&0\\\\\\\\0&\\hat{f{_0^'}}&0&0\\\\\\\\0&0&1&0\\\\\\\\0&0&0&1\\end{bmatrix}\n",
      "\\begin{bmatrix} \\left|d_0\\right| &  f{_0^'} \\hat{f{_0^'}} & 0 & 0\\\\\\\\0 & \\hat{\\bar{f{_0^'}}} \\left|d_1\\right|  \\hat{f{_0^'}} & f{_1^'}\\hat{f{_0^'}} & 0\\\\\\\\0 & 0 & \\left|d_2\\right| & f{_2^'}\\\\\\\\0 & 0 & 0 & \\left|d_3\\right|\\end{bmatrix}\n",
      "\\begin{bmatrix}1 &0&0&0\\\\\\\\0&\\hat{\\bar{f{_0^'}}}&0&0\\\\\\\\0&0&1&0\\\\\\\\0&0&0&1\\end{bmatrix}\n",
      "\\rightarrow \n",
      "\\begin{bmatrix} 1 &0&0&0\\\\\\\\0&\\hat{f{_0^'}}&0&0\\\\\\\\0&0&1&0\\\\\\\\0&0&0&1\\end{bmatrix}\n",
      "\\begin{bmatrix} \\left|d_0\\right| & \\left| f{_0^'} \\right| & 0 & 0\\\\\\\\0 & \\left|d_1\\right|& f{_1^{''}} & 0\\\\\\\\0 & 0 & \\left|d_2\\right| & f{_2^'}\\\\\\\\0 & 0 & 0 & \\left|d_3\\right|\\end{bmatrix}\n",
      "\\begin{bmatrix}1 &0&0&0\\\\\\\\0&\\hat{\\bar{f{_0^'}}}&0&0\\\\\\\\0&0&1&0\\\\\\\\0&0&0&1\\end{bmatrix}\n",
      "$"
     ]
    },
    {
     "cell_type": "markdown",
     "metadata": {},
     "source": [
      "So we have made $f_0$ entry positive without affecting the main diagonal. We now work on the next entry in the super diagonal   \n",
      "$\n",
      "\\begin{bmatrix}1&0&0&0\\\\\\\\0&1&0&0\\\\\\\\0&0&\\hat{{f{_1^{''}}}}&0\\\\\\\\0&0&0&1\\end{bmatrix}\n",
      "\\begin{bmatrix}1 &0&0&0\\\\\\\\0&1&0&0\\\\\\\\0&0&\\hat{\\bar{f{_1^{''}}}}&0\\\\\\\\0&0&0&1\\end{bmatrix}\n",
      "\\begin{bmatrix}\\left|d_0\\right| & \\left| f{_0^{'}} \\right| & 0 & 0 \\\\\\\\0 & \\left| d_1 \\right| & f{_1^{''}} & 0\\\\\\\\0 & 0 & \\left|d_2\\right| & f{_2^{'}}\\\\\\\\0 & 0 & 0 & \\left| d_3 \\right| \\end{bmatrix}\n",
      "\\begin{bmatrix}1 &0&0&0\\\\\\\\0&1&0&0\\\\\\\\0&0&\\hat{f{_1^{''}}}&0\\\\\\\\0&0&0&1\\end{bmatrix}\n",
      "\\begin{bmatrix} 1 &0&0&0\\\\\\\\0&1&0&0\\\\\\\\0&0&\\hat{\\bar{f{_1^{''}}}}&0\\\\\\\\0&0&0&1\\end{bmatrix}\n",
      "\\rightarrow\n",
      "$"
     ]
    },
    {
     "cell_type": "markdown",
     "metadata": {},
     "source": [
      "$\n",
      "\\begin{bmatrix}1&0&0&0\\\\\\\\0&1&0&0\\\\\\\\0&0&\\hat{{f{_1^{''}}}}&0\\\\\\\\0&0&0&1\\end{bmatrix}\n",
      "\\begin{bmatrix} \\left|d_0\\right| & \\left| f{_0^{'}} \\right| & 0 & 0 \\\\\\\\ 0 & \\left| d_1 \\right| & f{_1^{''}}\\hat{f{_1^{''}}} & 0\\\\\\\\0 & 0 & \\hat{\\bar{f{_1^{''}}}} \\left|d_2\\right|\\hat{f{_1^{''}}} & \\hat{\\bar{f{_1^{''}}}}f{_2^{'}}\\\\\\\\0 & 0 & 0 & \\left| d_3 \\right| \\end{bmatrix}\n",
      "\\begin{bmatrix} 1 &0&0&0\\\\\\\\0&1&0&0\\\\\\\\0&0&\\hat{\\bar{f{_1^{''}}}}&0\\\\\\\\0&0&0&1\\end{bmatrix}\n",
      "\\rightarrow\n",
      "\\begin{bmatrix}1&0&0&0\\\\\\\\0&1&0&0\\\\\\\\0&0&\\hat{{f{_1^{''}}}}&0\\\\\\\\0&0&0&1\\end{bmatrix}\n",
      "\\begin{bmatrix}\\left|d_0\\right| & \\left| f{_0^{'}} \\right| & 0 & 0 \\\\\\\\0 & \\left| d_1 \\right| & \\left|f{_1^{''}}\\right| & 0\\\\\\\\0 & 0 &  \\left|d_2\\right| & f{_2^{''}}\\\\\\\\0 & 0 & 0 & \\left| d_3 \\right| \\end{bmatrix}\n",
      "\\begin{bmatrix} 1 &0&0&0\\\\\\\\0&1&0&0\\\\\\\\0&0&\\hat{\\bar{f{_1^{''}}}}&0\\\\\\\\0&0&0&1\\end{bmatrix}\n",
      "$"
     ]
    },
    {
     "cell_type": "markdown",
     "metadata": {},
     "source": [
      "So we have made $f_1$ and $f_0$ entry positive without affecting the main diagonal. We now work on the last entry in the super diagonal   \n",
      "$\n",
      "\\begin{bmatrix}1&0&0&0\\\\\\\\0&1&0&0\\\\\\\\0&0&1&0\\\\\\\\0&0&0&\\hat{{f{_2^{''}}}}\\end{bmatrix}\n",
      "\\begin{bmatrix}1 &0&0&0\\\\\\\\0&1&0&0\\\\\\\\0&0&1&0\\\\\\\\0&0&0&\\hat{\\bar{f{_2^{''}}}}\\end{bmatrix}\n",
      "\\begin{bmatrix}\\left|d_0\\right| & \\left| f{_0^{'}} \\right| & 0 & 0 \\\\\\\\0 & \\left| d_1 \\right| & \\left|f{_1^{''}}\\right| & 0\\\\\\\\0 & 0 &  \\left|d_2\\right| & f{_2^{''}}\\\\\\\\0 & 0 & 0 & \\left| d_3 \\right| \\end{bmatrix}\n",
      "\\begin{bmatrix}1 &0&0&0\\\\\\\\0&1&0&0\\\\\\\\0&0&1&0\\\\\\\\0&0&0&\\hat{f{_2^{''}}}\\end{bmatrix}\n",
      "\\begin{bmatrix} 1 &0&0&0\\\\\\\\0&1&0&0\\\\\\\\0&0&1&0\\\\\\\\0&0&0&\\hat{\\bar{f{_2^{''}}}}\\end{bmatrix}\n",
      "\\rightarrow\n",
      "$"
     ]
    },
    {
     "cell_type": "markdown",
     "metadata": {},
     "source": [
      "$\n",
      "\\begin{bmatrix}1&0&0&0\\\\\\\\0&1&0&0\\\\\\\\0&0&1&0\\\\\\\\0&0&0&\\hat{{f{_2^{''}}}}\\end{bmatrix}\n",
      "\\begin{bmatrix}\\left|d_0\\right| & \\left| f{_0^{'}} \\right| & 0 & 0 \\\\\\\\0 & \\left| d_1 \\right| & \\left|f{_1^{''}}\\right| & 0\\\\\\\\0 & 0 &  \\left|d_2\\right| & f{_2^{''}}\\hat{{f{_2^{''}}}}\\\\\\\\0 & 0 & 0 & \\hat{\\bar{f{_2^{''}}}}\\left| d_3 \\right|\\hat{{f{_2^{''}}}} \\end{bmatrix}\n",
      "\\begin{bmatrix} 1 &0&0&0\\\\\\\\0&1&0&0\\\\\\\\0&0&1&0\\\\\\\\0&0&0&\\hat{\\bar{f{_2^{''}}}}\\end{bmatrix}\n",
      "\\rightarrow\n",
      "\\begin{bmatrix}1&0&0&0\\\\\\\\0&1&0&0\\\\\\\\0&0&1&0\\\\\\\\0&0&0&\\hat{{f{_2^{''}}}}\\end{bmatrix}\n",
      "\\begin{bmatrix}\\left|d_0\\right| & \\left| f{_0^{'}} \\right| & 0 & 0 \\\\\\\\0 & \\left| d_1 \\right| & \\left|f{_1^{''}}\\right| & 0\\\\\\\\0 & 0 &  \\left|d_2\\right| & \\left|f{_2^{''}}\\right|\\\\\\\\0 & 0 & 0 & \\left| d_3 \\right| \\end{bmatrix}\n",
      "\\begin{bmatrix} 1 &0&0&0\\\\\\\\0&1&0&0\\\\\\\\0&0&1&0\\\\\\\\0&0&0&\\hat{\\bar{f{_2^{''}}}}\\end{bmatrix}\n",
      "$"
     ]
    },
    {
     "cell_type": "markdown",
     "metadata": {},
     "source": [
      "So we have succesfully decomposed the bidiagonal matrix so only the real part matters. This means the real SVD algorithm and the complex SVD algorithm from this point forward are the same. Note the left and right matrices may still be complex. Also note the left and right matrices above are assumed to be accumulated into any left and right matrix at each step so that $A = L B R$ is maintained. It is easy to see how the procedure would work for a matrix of any size."
     ]
    },
    {
     "cell_type": "code",
     "collapsed": false,
     "input": [
      "def biDiagPhaseToZero(L,d,f,R,eps0):\n",
      "    \"\"\" \n",
      "    For a Bidiagonal matrix B This routine uses subview vectors\n",
      "      `d=B.diagview(0)`\n",
      "    and \n",
      "      `f=B.diagview(1)`\n",
      "    and phase shifts vectors d and f so that B has zero complex part.\n",
      "    Matrices L and R are update matrices.\n",
      "    eps0 is a small real number used to check for zero. If an element meets a zero\n",
      "    check then that element is set to zero.\n",
      "    \"\"\"\n",
      "    for i in range(d.length):\n",
      "        ps=d[i]\n",
      "        if ps.imag == 0.0:\n",
      "            m = ps.real\n",
      "            if m < 0.0:\n",
      "                ps=-1.0\n",
      "            else:\n",
      "                ps= 1.0\n",
      "            m = abs(m) \n",
      "        else:\n",
      "            m=pv.vsip_hypot_d(ps.real,ps.imag)\n",
      "            ps /= m\n",
      "        if m > eps0:\n",
      "            L.colview(i)[:] *= ps\n",
      "            d[i] = m\n",
      "            if i < f.length:\n",
      "                f[i] *= ps.conjugate()\n",
      "        else:\n",
      "            d[i] = 0.0\n",
      "    svdZeroCheckAndSet(eps0,d,f)          \n",
      "    for i in range(f.length-1):\n",
      "        j=i+1\n",
      "        ps = f[i]\n",
      "        if ps.imag == 0.0:\n",
      "            m = ps.real\n",
      "            if m < 0.0:\n",
      "                ps=-1.0\n",
      "            else:\n",
      "                ps= 1.0\n",
      "            m = abs(m) \n",
      "        else:\n",
      "            m=pv.vsip_hypot_d(ps.real,ps.imag)\n",
      "            ps /= m\n",
      "        L.colview(j)[:] *= ps.conjugate()\n",
      "        R.rowview(j)[:] *= ps\n",
      "        f[i] = m;\n",
      "        f[j] *= ps\n",
      "    j=f.length\n",
      "    i=j-1\n",
      "    ps=f[i]\n",
      "    if ps.imag == 0.0:\n",
      "        m = ps.real\n",
      "        if m < 0.0:\n",
      "            ps=-1.0\n",
      "        else:\n",
      "            ps= 1.0\n",
      "        m = abs(m) \n",
      "    else:\n",
      "        m=pv.vsip_hypot_d(ps.real,ps.imag)\n",
      "        ps /= m\n",
      "    f[i]=m\n",
      "    L.colview(j)[:] *= ps.conjugate()\n",
      "    R.rowview(j)[:] *= ps"
     ],
     "language": "python",
     "metadata": {},
     "outputs": []
    }
   ],
   "metadata": {}
  }
 ]
}