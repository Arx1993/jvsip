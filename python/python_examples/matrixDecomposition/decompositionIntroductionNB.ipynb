{
 "metadata": {
  "name": ""
 },
 "nbformat": 3,
 "nbformat_minor": 0,
 "worksheets": [
  {
   "cells": [
    {
     "cell_type": "markdown",
     "metadata": {},
     "source": [
      "## NOTE  \n",
      "This notebook needs improvement and some day I may do that.  I suspect nobody reads these things but me but if somebody needs some help email me and I will have additonal incentive to improve my documentation."
     ]
    },
    {
     "cell_type": "markdown",
     "metadata": {},
     "source": [
      "## Matrix Decomposition Introduction\n",
      "### Notation and Simple Relations to pyJvsip   \n",
      "#### Vector   \n",
      "A vector is designated $\\vec{x}$ and generally uses a lower case. For math purposes a vector should be considered equivalent to a single column of a matrix; although for program puposes there are differeces between vector and matrix views. \n",
      "#### Vector Norm and View Methods   \n",
      "Vector and Matrix norms are not supported in C VSIPL but have been included with the pyJvsip implementation. For mathematical definitions of norms the reader should consult a linear algebra text or search the internet. The norms supported in pyJvsip are the one norm (norm1), the two norm (norm2), the infinity norm (normInf) and the Frobenius norm (normFro).\n",
      "A vector norm is designated as $\\parallel \\vec{x} \\parallel $. A two norm as ${\\parallel \\vec{x} \\parallel }_{\\:2} $\n",
      "#### Unit Vectors   \n",
      "A unit vector is designated as in $\\hat{x}$. To produce a unit vector $\\hat{x} = {\\vec{x} \\over {{\\parallel \\vec{x} \\parallel }_{2}}}$   \n",
      "Also note a normalized complex number such that its magnitude is one may also be indicated with a hat notation.\n",
      "#### dot, jdot and outer   \n",
      "Note that `dot`, `jdot`, and `outer` are only defined for views of type vector. \n",
      "A math indicator like $ \\vec{x} {\\;} \\vec{y}^H $ in done using an outer product and produces a view of type matrix. An indicator like $\\vec{x}^H {\\;} \\vec{y} $ is done using `jdot` and produces a scalar. An indicator like $\\vec{x}^T {\\;} \\vec{y} $ is done using `dot` and produces a scalar.   \n",
      "#### Identity Matrix    \n",
      "The identity matrix is square with ones on the diagonal and zero elsewhere. We designate it as $I$ and when the size is of interest we indicate it as a subscript as in $I_m$ or $I_n$. The function `eye(type,size)` is defined for creating a data space with an identity matrix in it. This is a convenience since we sometimes need a matrix for matrix product accumulations and the identity matrix is a convenient starting place.\n",
      "#### Decomposition\n",
      "In General we want to take a matrix $A_{M,N}$ and convert it into 3 matrices $L_{M,M} D_{M,N} R_{N,N}$ so that $ A = L_1 D_1 R_1=L_2 D_2 R_2=\\cdots $.   \n",
      "We start the process by setting $L_1 = I_M$, $D_1 = A_{M,N}$ and $R_1=I_N$. There are well known factorizations of the identity matrix which may be used so that $L_2 (L_2^{-1} D_1 R_2^{-1})R_2 = L_2 D_2 R_2$  \n",
      "\n",
      "We then do it again so that $L_2 I_M D_2 I_N R_2 = L_3 D_3 R_3$ etc. until D has reached the stage we need it to be. "
     ]
    },
    {
     "cell_type": "code",
     "collapsed": false,
     "input": [
      "import pyJvsip as pv"
     ],
     "language": "python",
     "metadata": {},
     "outputs": [],
     "prompt_number": 1
    },
    {
     "cell_type": "markdown",
     "metadata": {},
     "source": [
      "#### Identity Matrix\n",
      "The function eye(t,n) where t is a pyJvsip matrix type and n is an integer creates and returns an identity matrix of size n and type t. This is a convenience function."
     ]
    },
    {
     "cell_type": "code",
     "collapsed": false,
     "input": [
      "import pyJvsip as pv\n",
      "def eye(t,n): # create and return an identity matrix of size n and type t\n",
      "    return pv.create(t,n,n).identity"
     ],
     "language": "python",
     "metadata": {},
     "outputs": [],
     "prompt_number": 1
    },
    {
     "cell_type": "markdown",
     "metadata": {},
     "source": [
      "### Elementary Operations"
     ]
    },
    {
     "cell_type": "code",
     "collapsed": false,
     "input": [
      "A=pv.create('mview_d',3,3).fill(0.0)"
     ],
     "language": "python",
     "metadata": {},
     "outputs": [],
     "prompt_number": 2
    },
    {
     "cell_type": "code",
     "collapsed": false,
     "input": [
      "A[0,0]=1;A[0,1]=0.0; A[0,2]=2.0; A[1,0]=2; A[1,1]=-1.0; A[1,2]=3.0; A[2,0]=4; A[2,1]=1; A[2,2]=8"
     ],
     "language": "python",
     "metadata": {},
     "outputs": [],
     "prompt_number": 3
    },
    {
     "cell_type": "code",
     "collapsed": false,
     "input": [
      "A.mprint('%.3f')"
     ],
     "language": "python",
     "metadata": {},
     "outputs": [
      {
       "output_type": "stream",
       "stream": "stdout",
       "text": [
        "[ 1.000  0.000  2.000;\n",
        "  2.000 -1.000  3.000;\n",
        "  4.000  1.000  8.000]\n",
        "\n"
       ]
      }
     ],
     "prompt_number": 4
    },
    {
     "cell_type": "code",
     "collapsed": false,
     "input": [
      "E1=eye(A.type,3); E1[1,0]=-2;\n",
      "E1.mprint('%.1f')\n",
      "A.mprint('%.1f')\n",
      "A1=E1.prod(A)\n",
      "A1.mprint('%.3f')\n",
      "E1i=E1.copy; E1i[1,0]=2.0"
     ],
     "language": "python",
     "metadata": {},
     "outputs": [
      {
       "output_type": "stream",
       "stream": "stdout",
       "text": [
        "[ 1.0  0.0  0.0;\n",
        " -2.0  1.0  0.0;\n",
        "  0.0  0.0  1.0]\n",
        "\n",
        "[ 1.0  0.0  2.0;\n",
        "  2.0 -1.0  3.0;\n",
        "  4.0  1.0  8.0]\n",
        "\n",
        "[ 1.000  0.000  2.000;\n",
        "  0.000 -1.000 -1.000;\n",
        "  4.000  1.000  8.000]\n",
        "\n"
       ]
      }
     ],
     "prompt_number": 5
    },
    {
     "cell_type": "code",
     "collapsed": false,
     "input": [
      "E2=eye(A.type,3); E2i=E2.copy\n",
      "E2[2,0]=-4; E2i[2,0]=4\n",
      "A2=E2.prod(A1)\n",
      "A2.mprint('%.3f')"
     ],
     "language": "python",
     "metadata": {},
     "outputs": [
      {
       "output_type": "stream",
       "stream": "stdout",
       "text": [
        "[ 1.000  0.000  2.000;\n",
        "  0.000 -1.000 -1.000;\n",
        "  0.000  1.000  0.000]\n",
        "\n"
       ]
      }
     ],
     "prompt_number": 6
    },
    {
     "cell_type": "code",
     "collapsed": false,
     "input": [
      "E3=eye(A.type,3); E3i=E3.copy\n",
      "E3[2,1]=1; E2i[2,1]=-1\n",
      "A3=E3.prod(A2)\n",
      "A3.mprint('%.3f')"
     ],
     "language": "python",
     "metadata": {},
     "outputs": [
      {
       "output_type": "stream",
       "stream": "stdout",
       "text": [
        "[ 1.000  0.000  2.000;\n",
        "  0.000 -1.000 -1.000;\n",
        "  0.000  0.000 -1.000]\n",
        "\n"
       ]
      }
     ],
     "prompt_number": 7
    },
    {
     "cell_type": "code",
     "collapsed": false,
     "input": [
      "E4=eye(A.type,3); E4i=E4.copy\n",
      "E4[1,2]=-1; E4i[1,2]=1\n",
      "A4=E4.prod(A3)\n",
      "A4.mprint('%.3f')"
     ],
     "language": "python",
     "metadata": {},
     "outputs": [
      {
       "output_type": "stream",
       "stream": "stdout",
       "text": [
        "[ 1.000  0.000  2.000;\n",
        "  0.000 -1.000  0.000;\n",
        "  0.000  0.000 -1.000]\n",
        "\n"
       ]
      }
     ],
     "prompt_number": 9
    },
    {
     "cell_type": "code",
     "collapsed": false,
     "input": [
      "E5=eye(A.type,3); E5i=E5.copy\n",
      "E5[0,2]=2; E5i[0,2]=-2\n",
      "A5=E5.prod(A4)\n",
      "A5.mprint('%.3f')"
     ],
     "language": "python",
     "metadata": {},
     "outputs": [
      {
       "output_type": "stream",
       "stream": "stdout",
       "text": [
        "[ 1.000  0.000  0.000;\n",
        "  0.000 -1.000  0.000;\n",
        "  0.000  0.000 -1.000]\n",
        "\n"
       ]
      }
     ],
     "prompt_number": 10
    },
    {
     "cell_type": "code",
     "collapsed": false,
     "input": [
      "E6=eye(A.type,3);\n",
      "E6[1,1]=-1.0; E6[2,2]=-1.0;\n",
      "E6i=E6\n",
      "A6=E6.prod(A5)\n",
      "A6.mprint('%.3f')"
     ],
     "language": "python",
     "metadata": {},
     "outputs": [
      {
       "output_type": "stream",
       "stream": "stdout",
       "text": [
        "[ 1.000  0.000  0.000;\n",
        "  0.000  1.000  0.000;\n",
        "  0.000  0.000  1.000]\n",
        "\n"
       ]
      }
     ],
     "prompt_number": 12
    },
    {
     "cell_type": "markdown",
     "metadata": {},
     "source": [
      "So\n",
      "I=A6=E6.prod(A5)\n",
      "A5=E5.prod(A4)\n",
      "A4=E4.prod(A3)\n",
      "A3=E3.prod(A2)\n",
      "A2=E2.prod(A1)\n",
      "A1=E1.prod(A)\n",
      "I=E6.prod(E5.prod(E4.prod(E3.prod(E2.prod(E1.prod(A)))))))\n",
      "so Ainv=E6.prod(E5.prod(E4.prod(E3.prod(E2.prod(E1))))"
     ]
    },
    {
     "cell_type": "code",
     "collapsed": false,
     "input": [
      "Ainv=E6.prod(E5.prod(E4.prod(E3.prod(E2.prod(E1)))))"
     ],
     "language": "python",
     "metadata": {},
     "outputs": [],
     "prompt_number": 15
    },
    {
     "cell_type": "code",
     "collapsed": false,
     "input": [
      "Ainv.mprint('%.3f')"
     ],
     "language": "python",
     "metadata": {},
     "outputs": [
      {
       "output_type": "stream",
       "stream": "stdout",
       "text": [
        "[-11.000  2.000  2.000;\n",
        " -4.000  0.000  1.000;\n",
        "  6.000 -1.000 -1.000]\n",
        "\n"
       ]
      }
     ],
     "prompt_number": 16
    },
    {
     "cell_type": "code",
     "collapsed": false,
     "input": [
      "Ainv.prod(A).mprint('%.3f')"
     ],
     "language": "python",
     "metadata": {},
     "outputs": [
      {
       "output_type": "stream",
       "stream": "stdout",
       "text": [
        "[ 1.000  0.000  0.000;\n",
        "  0.000  1.000  0.000;\n",
        "  0.000  0.000  1.000]\n",
        "\n"
       ]
      }
     ],
     "prompt_number": 17
    },
    {
     "cell_type": "code",
     "collapsed": false,
     "input": [
      "E1i.prod(E2i.prod(E3i.prod(E4i.prod(E5i.prod(E6i))))).mprint('%.3f')"
     ],
     "language": "python",
     "metadata": {},
     "outputs": [
      {
       "output_type": "stream",
       "stream": "stdout",
       "text": [
        "[ 1.000  0.000  2.000;\n",
        "  2.000 -1.000  3.000;\n",
        "  4.000  1.000  8.000]\n",
        "\n"
       ]
      }
     ],
     "prompt_number": 22
    },
    {
     "cell_type": "code",
     "collapsed": false,
     "input": [],
     "language": "python",
     "metadata": {},
     "outputs": []
    }
   ],
   "metadata": {}
  }
 ]
}