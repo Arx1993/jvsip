{
 "metadata": {
  "name": ""
 },
 "nbformat": 3,
 "nbformat_minor": 0,
 "worksheets": [
  {
   "cells": [
    {
     "cell_type": "markdown",
     "metadata": {},
     "source": [
      "## Decomposition Utilities Introduction\n",
      "### Notation and Simple Relations to pyJvsip   \n",
      "#### Vector   \n",
      "A vector is designated $\\vec{x}$ and generally uses a lower case. For math purposes a vector should be considered equivalent to a single column of a matrix; although for program puposes there are differeces between vector and matrix views. \n",
      "#### Vector Norm and View Methods   \n",
      "Vector and Matrix norms are not supported in C VSIPL but have been included with the pyJvsip implementation. For mathematical definitions of norms the reader should consult a linear algebra text or search the internet. The norms supported in pyJvsip are the one norm (norm1), the two norm (norm2), the infinity norm (normInf) and the Frobenius norm (normFro).\n",
      "A vector norm is designated as $\\parallel \\vec{x} \\parallel $. A two norm as ${\\parallel \\vec{x} \\parallel }_{\\:2} $\n",
      "#### Unit Vectors   \n",
      "A unit vector is designated as in $\\hat{x}$. To produce a unit vector $\\hat{x} = {\\vec{x} \\over {{\\parallel \\vec{x} \\parallel }_{2}}}$   \n",
      "Also note a normalized complex number such that its magnitude is one may also be indicated with a hat notation.\n",
      "#### dot, jdot and outer   \n",
      "Note that `dot`, `jdot`, and `outer` are only defined for views of type vector. \n",
      "A math indicator like $ \\vec{x} {\\;} \\vec{y}^H $ in done using an outer product and produces a view of type matrix. An indicator like $\\vec{x}^H {\\;} \\vec{y} $ is done using `jdot` and produces a scalar. An indicator like $\\vec{x}^T {\\;} \\vec{y} $ is done using `dot` and produces a scalar.   \n",
      "#### Identity Matrix    \n",
      "The identity matrix is square with ones on the diagonal and zero elsewhere. We designate it as $I$ and when the size is of interest we indicate it as a subscript as in $I_m$ or $I_n$. The function `eye(type,size)` is defined for creating a data space with an identity matrix in it. This is a convenience since we sometimes need a matrix for matrix product accumulations and the identity matrix is a convenient starting place.\n",
      "#### Decomposition\n",
      "In General we want to take a matrix $A_{M,N}$ and convert it into 3 matrices $L_{M,M} D_{M,N} R_{N,N}$ so that $ A = L_1 D_1 R_1=L_2 D_2 R_2=\\cdots $.   \n",
      "We start the process by setting $L_1 = I_M$, $D_1 = A_{M,N}$ and $R_1=I_N$. There are well known factorizations of the identity matrix which may be used so that $L_2 (L_2^{-1} D_1 R_2^{-1})R_2 = L_2 D_2 R_2$  \n",
      "\n",
      "We then do it again so that $L_2 I_M D_2 I_N R_2 = L_3 D_3 R_3$ etc. until D has reached the stage we need it to be. "
     ]
    },
    {
     "cell_type": "code",
     "collapsed": false,
     "input": [
      "import pyJvsip as pv"
     ],
     "language": "python",
     "metadata": {},
     "outputs": [],
     "prompt_number": 1
    },
    {
     "cell_type": "markdown",
     "metadata": {},
     "source": [
      "#### Identity Matrix\n",
      "The function eye(t,n) where t is a pyJvsip matrix type and n is an integer creates and returns an identity matrix of size n and type t. This is a convenience function."
     ]
    },
    {
     "cell_type": "code",
     "collapsed": false,
     "input": [
      "def eye(t,n): # create and return an identity matrix of size n and type t\n",
      "    return pv.create(t,n,n).identity"
     ],
     "language": "python",
     "metadata": {},
     "outputs": [],
     "prompt_number": 2
    },
    {
     "cell_type": "markdown",
     "metadata": {},
     "source": [
      "#### Sign Function\n",
      "The sign function is used for Householder and Givens calculations. It is defined in several texts. The text I am using here is the LAPACK Working Notes document #148. "
     ]
    },
    {
     "cell_type": "code",
     "collapsed": false,
     "input": [
      "def sign(a_in): # see  LAPACK Working Notes 148 for definition of sign\n",
      "    if type(a_in) is int:\n",
      "        a=float(a_in)\n",
      "    else:\n",
      "        a=a_in\n",
      "    if type(a) is float or type(a) is complex:\n",
      "        t=pv.vsip_hypot_d(a.real,a.imag)\n",
      "        if t == 0.0:\n",
      "            return 1.0\n",
      "        elif a.imag==0.0:\n",
      "            if a.real < 0.0:\n",
      "                return -1.0\n",
      "            else:\n",
      "                return 1.0\n",
      "        else:\n",
      "            return a/t\n",
      "    else:\n",
      "        print('sign function only works on scalars')\n",
      "        return"
     ],
     "language": "python",
     "metadata": {},
     "outputs": [],
     "prompt_number": 3
    }
   ],
   "metadata": {}
  }
 ]
}