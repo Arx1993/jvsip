{
 "metadata": {
  "name": ""
 },
 "nbformat": 3,
 "nbformat_minor": 0,
 "worksheets": [
  {
   "cells": [
    {
     "cell_type": "markdown",
     "metadata": {},
     "source": [
      "## Givens rotations\n",
      "Givens rotations are used to selectivly zero elements in a column or row of a matrix   \n",
      "### Givens Coefficients\n",
      "The function  \n",
      "$\\;\\;\\;\\;\\;$c,s,r = `givensCoef(`$x_0,y_0$`)`     \n",
      "returns numbers c,s and r such that   \n",
      "  \n",
      "$\n",
      "\\begin{bmatrix} c & s \\\\\\\\ -\\bar{s} & c \\end{bmatrix} \n",
      "\\begin{bmatrix} x_0 & x_1 \\\\\\\\ y_0 & y_1 \\end{bmatrix} =\n",
      "\\begin{bmatrix}c {\\;}x_0 {\\;}+{\\;} s {\\;}y_0 & c {\\;}x_1 {\\;}+{\\;} s {\\;}y_1\\\\\\\\ c {\\;}y_0 {\\;}-{\\;} \\bar{s} {\\;}x_0 & c {\\;}y_1 {\\;}-{\\;} \\bar{s} {\\;}x_1\\end{bmatrix} =\n",
      "\\begin{bmatrix} r & c {\\;}x_1 {\\;}+{\\;} s {\\;}y_1 \\\\\\\\ 0 & c {\\;}y_1 {\\;}-{\\;} \\bar{s} {\\;}x_1\\end{bmatrix}\n",
      "$    \n",
      "    \n",
      "where $\\bar{s}$ is the conjugate of $s$.  Note (it turns out that) $c$ is always real. For the SVD, after bidiagonalization is complete, $s$ will also be real since the input to function `givensCoef` are real.  \n",
      "This algorithm is adapted from Algorithm 1 of LAPACK working notes lawn148\n",
      "\n",
      "Note that the transpose of $G$ denoted $G_T$ (not the hermetian of G) yields  \n",
      "$ {\\left( {\\begin{bmatrix} c & s \\\\\\\\ -\\bar{s} & c \\end{bmatrix} \\begin{bmatrix} x \\\\\\\\ y \\end{bmatrix}} \\right)}^T\n",
      "= {\\left( {\\begin{bmatrix} x & y \\end{bmatrix} \\begin{bmatrix} c & -\\bar{s} \\\\\\\\s  & c \\end{bmatrix} } \\right)}=\\begin{bmatrix} r & 0 \\end{bmatrix} $  \n",
      "gives a method for zeroing an element in a row."
     ]
    },
    {
     "cell_type": "code",
     "collapsed": false,
     "input": [
      "# Calculate the givens coefficients\n",
      "import pyJvsip as pv\n",
      "from decompositionUtilities import sign\n",
      "def givensCoef(x1_in,x2_in):\n",
      "    \"\"\" Code adapted from Algorithm 1 of LAPACK working Notes 148\n",
      "        Usage:\n",
      "           c,s,r = givensCoef(x1,x2)\n",
      "    \"\"\"\n",
      "    if type(x1_in) is int:\n",
      "        x1=float(x1_in)\n",
      "    else:\n",
      "        x1 = x1_in\n",
      "    if type(x2_in) is int:\n",
      "        x2=float(x2_in)\n",
      "    else:\n",
      "        x2 = x2_in\n",
      "    if type(x1) is float and type(x2) is float:\n",
      "        t=pv.vsip_hypot_d(x1,x2)\n",
      "        if x2 == 0.0:\n",
      "            return (1.0,0.0,x1)\n",
      "        elif x1 == 0.0:\n",
      "            return (0.0,sign(x2),t)\n",
      "        else: # return (c,s,r)\n",
      "            sn=sign(x1)\n",
      "            return(pv.vsip_mag_d(x1)/t,sn*x2/t,sn*t)\n",
      "    elif type(x1) is complex or type(x2) is complex:\n",
      "        mx1=pv.vsip_hypot_d(x1.real,x1.imag)\n",
      "        mx2=pv.vsip_hypot_d(x2.real,x2.imag)\n",
      "        if mx2 == 0.0:\n",
      "            return(1.0,0.0,x1)\n",
      "        elif mx1 == 0.0:\n",
      "            return(0,sign(x2.conjugate()),mx2)\n",
      "        else:\n",
      "            t=pv.vsip_hypot_d(mx1,mx2)\n",
      "            c=mx1/t\n",
      "            sn=sign(x1)\n",
      "            s=(sn * x2.conjugate())/t\n",
      "            r=sn * t\n",
      "            return(c,s,r)\n",
      "    else:\n",
      "        print('Type <:'+repr(type(x1)) + ':> or <:'+ \\\n",
      "             repr(type(x2))+':> not recognized by givensCoef')\n",
      "        return"
     ],
     "language": "python",
     "metadata": {},
     "outputs": [],
     "prompt_number": 1
    },
    {
     "cell_type": "markdown",
     "metadata": {},
     "source": [
      "We define 4 matrices around the givens coefficients, $(c,s)$, which allow us to decompose a matrix.    \n",
      "     \n",
      "$G {\\;}= {\\;} \\begin{bmatrix} c & s \\\\\\\\ -\\bar{s} & c \\end{bmatrix} $   ${\\;}{\\;}{\\;}$ $G_T{\\;}={\\;} \\begin{bmatrix} c & -\\bar{s} \\\\\\\\ s & c \\end{bmatrix}$   \n",
      "     \n",
      "$G^H = \\begin{bmatrix} c & -s \\\\\\\\ \\bar{s} & c \\end{bmatrix} $   ${\\;}{\\;}$  ${G_T}^H=\\begin{bmatrix} c & \\bar{s} \\\\\\\\ -s & c \\end{bmatrix}$\n",
      "    \n",
      "Matrix $G$ is used to zero elements in a column   \n",
      "Matrix $G^H$ is the inverse of G and is used when accumulating the decomposition matrix on the left   \n",
      "Matrix $G_T$ is used to zero elements in a row    \n",
      "Matrix ${G_T}^H$ is the inverse of $G_T$ and is used when accumulating the decomposition matrix on the right.    \n",
      "    \n",
      "Note that   \n",
      "$ G G^H = G^H G = I $   \n",
      "and  \n",
      "$ G_T {G_T}^H = {G_T}^H G_T = I $  \n",
      "    \n",
      "So we have   \n",
      "$ A = ({G_i}^H {G_{i-1}}^H \\ldots {G_0}^H)( G_0 G_1 \\ldots G_i) A ({G_T}_0 {G_T}_1 \\ldots {G_T}_i)({{G_T}_i}^H{{G_T}_{i-1}}^H\\ldots{{G_T}_0}^H){\\;}={\\;}L{\\;}D{\\;}R$    \n",
      "    \n",
      "Where    \n",
      "${\\;\\;\\;\\;}L = {G_i}^H {G_{i-1}}^H \\ldots {G_0}^H $  \n",
      "${\\;\\;\\;\\;}D = ( G_0 G_1 \\ldots G_i) A ({G_T}_0 {G_T}_1 \\ldots {G_T}_i) $   \n",
      "${\\;\\;\\;\\;}R = {{G_T}_i}^H{{G_T}_{i-1}}^H\\ldots{{G_T}_0}^H{\\;}$   \n",
      "   \n",
      "are the three matrices $ A $ has been decomposed to. The actual decomposition depends on    \n",
      "how the $(x,y)$ elements are chosen and the order in which they are chosen when    \n",
      "calculating the givens coefficients.   \n",
      "### Givens Matrix   \n",
      "For this document a (extended) givens matrix is an identity matrix (of the proper size for a matrix   \n",
      "multiply) with two diagonal elements replaced with $c{\\;}$ from the `givensCoef` function. If the elements are    \n",
      "placed at index $\\left( i,i \\right)\\;$ and $\\left( j,j \\right)\\;$ where $ i \\lt j {\\;}$ then the $s{\\;}$ from the `givensCoef` function is placed at $\\left( i, j \\right){\\;}$     \n",
      "and $- \\bar{s}\\;$ is placed at $\\left( j, i \\right){\\;}$.    \n",
      "The extended givens matrix is normally not used explicitly but, for experimentation purposes,   \n",
      "we define function `givensExtract` to produce one."
     ]
    },
    {
     "cell_type": "code",
     "collapsed": false,
     "input": [
      "# return G\n",
      "from decompositionUtilities import eye\n",
      "def givensExtract(t,i,j,c,s,size):\n",
      "    \"\"\"\n",
      "       Usage:\n",
      "         G=givensExtract(t,i,j,c,s,size)\n",
      "         t = type \n",
      "         i,j are index values for placement of \n",
      "         c,s which are obtained (probably) from function givensCoef. \n",
      "         size is an integer\n",
      "    \"\"\"\n",
      "    G=eye(t,size)\n",
      "    G[i,i]=c;G[j,j]=c;G[i,j]=s;G[j,i]=-s.conjugate()\n",
      "    return G"
     ],
     "language": "python",
     "metadata": {},
     "outputs": [],
     "prompt_number": 2
    },
    {
     "cell_type": "code",
     "collapsed": false,
     "input": [
      "# example for x1=5.0, x2=5.0; matrix of type mview_d; size 5, i,j=2,4\n",
      "c,s,r=givensCoef(5.0,5.0)\n",
      "G=givensExtract('mview_d',2,4,c,s,5)\n",
      "G.mprint('%.3f')\n",
      "A=pv.create('mview_d',5,5).fill(0.0)\n",
      "A[2,2]=5;A[4,2]=5;A.mprint('%.3f')\n",
      "G.prod(A).mprint('%.3f')"
     ],
     "language": "python",
     "metadata": {},
     "outputs": [
      {
       "output_type": "stream",
       "stream": "stdout",
       "text": [
        "[ 1.000  0.000  0.000  0.000  0.000;\n",
        "  0.000  1.000  0.000  0.000  0.000;\n",
        "  0.000  0.000  0.707  0.000  0.707;\n",
        "  0.000  0.000  0.000  1.000  0.000;\n",
        "  0.000  0.000 -0.707  0.000  0.707]\n",
        "\n",
        "[ 0.000  0.000  0.000  0.000  0.000;\n",
        "  0.000  0.000  0.000  0.000  0.000;\n",
        "  0.000  0.000  5.000  0.000  0.000;\n",
        "  0.000  0.000  0.000  0.000  0.000;\n",
        "  0.000  0.000  5.000  0.000  0.000]\n",
        "\n",
        "[ 0.000  0.000  0.000  0.000  0.000;\n",
        "  0.000  0.000  0.000  0.000  0.000;\n",
        "  0.000  0.000  7.071  0.000  0.000;\n",
        "  0.000  0.000  0.000  0.000  0.000;\n",
        "  0.000  0.000  0.000  0.000  0.000]\n",
        "\n"
       ]
      }
     ],
     "prompt_number": 3
    },
    {
     "cell_type": "markdown",
     "metadata": {},
     "source": [
      "### Givens Matrix Products   \n",
      "The function `gProd` does    \n",
      "${\\;}{\\;}{\\;}{\\;} A{\\;} = {\\;}G {\\;} A{\\;} $    \n",
      "and the function `prodG` does    \n",
      "${\\;}{\\;}{\\;}{\\;}A{\\;}={\\;}A{\\;} G^H{\\;}$.   \n",
      "The ${\\;}$ is returned as a convenience although this is an in-place operation.   \n",
      "Note that temporary vectors are created internal to the routine so this is not totally in-place."
     ]
    },
    {
     "cell_type": "code",
     "collapsed": false,
     "input": [
      "def gProd(i,j,c,s,A):\n",
      "    a1=A.rowview(i).copy\n",
      "    a2=A.rowview(j).copy\n",
      "    A.rowview(i)[:]= c * a1 + s * a2 \n",
      "    A.rowview(j)[:]= c * a2 - s.conjugate() * a1\n",
      "    return A\n",
      "def prodG(A,i,j,c,s):\n",
      "    a_i=A.colview(i).copy\n",
      "    a_j=A.colview(j).copy\n",
      "    A.colview(i)[:]= c * a_i + s.conjugate() * a_j \n",
      "    A.colview(j)[:]= c * a_j - s * a_i\n",
      "    return A"
     ],
     "language": "python",
     "metadata": {},
     "outputs": [],
     "prompt_number": 4
    },
    {
     "cell_type": "markdown",
     "metadata": {},
     "source": [
      "The function `gtProd` does  \n",
      "${\\;}{\\;}{\\;}{\\;}A{\\;}={\\;}{G_T}^H{\\;}A{\\;}$   \n",
      "and the function `prodGt` does   \n",
      "${\\;}{\\;}{\\;}{\\;}A{\\;}={\\;}A{\\;}G_T $.   \n",
      "The $A$ is returned as a convenience although this is an in-place operation.   \n",
      "Note that temporary vectors are created internal to the routine so this is not totally in-place."
     ]
    },
    {
     "cell_type": "code",
     "collapsed": false,
     "input": [
      "def gtProd(i,j,c,s,A):\n",
      "    a_i=A.rowview(i).copy\n",
      "    a_j=A.rowview(j).copy\n",
      "    A.rowview(i)[:]= c * a_i + s.conjugate() * a_j \n",
      "    A.rowview(j)[:]= c * a_j - s * a_i\n",
      "    return A\n",
      "def prodGT(A,i,j,c,s):\n",
      "    a1 = A.colview(i).copy\n",
      "    a2 = A.colview(j).copy\n",
      "    A.colview(i)[:] = c * a1 + s * a2\n",
      "    A.colview(j)[:] = c * a2 -s.conjugate() * a1\n",
      "    return A"
     ],
     "language": "python",
     "metadata": {},
     "outputs": [],
     "prompt_number": 5
    },
    {
     "cell_type": "code",
     "collapsed": false,
     "input": [
      "# example of gProd\n",
      "A=pv.create('mview_d',5,5).fill(0.0)\n",
      "A[2,2]=5;A[4,2]=5;A.mprint('%.3f')\n",
      "gProd(2,4,c,s,A).mprint('%.3f')"
     ],
     "language": "python",
     "metadata": {},
     "outputs": [
      {
       "output_type": "stream",
       "stream": "stdout",
       "text": [
        "[ 0.000  0.000  0.000  0.000  0.000;\n",
        "  0.000  0.000  0.000  0.000  0.000;\n",
        "  0.000  0.000  5.000  0.000  0.000;\n",
        "  0.000  0.000  0.000  0.000  0.000;\n",
        "  0.000  0.000  5.000  0.000  0.000]\n",
        "\n",
        "[ 0.000  0.000  0.000  0.000  0.000;\n",
        "  0.000  0.000  0.000  0.000  0.000;\n",
        "  0.000  0.000  7.071  0.000  0.000;\n",
        "  0.000  0.000  0.000  0.000  0.000;\n",
        "  0.000  0.000  0.000  0.000  0.000]\n",
        "\n"
       ]
      }
     ],
     "prompt_number": 6
    },
    {
     "cell_type": "markdown",
     "metadata": {},
     "source": [
      "#### QR Decomposition Using Givens Rotations"
     ]
    },
    {
     "cell_type": "code",
     "collapsed": false,
     "input": [
      "def givensQR(A):\n",
      "    M = A.collength\n",
      "    N = A.rowlength\n",
      "    R = A.copy\n",
      "    Q = eye(A.type,M)\n",
      "    for i in range(N):\n",
      "        B=R[i:,i:]\n",
      "        r=B[0,0]\n",
      "        for j in range(1,B.collength):\n",
      "            c,s,r=givensCoef(r,B[j,0])\n",
      "            prodG(Q,i,j+i,c,s)\n",
      "            gProd(0,j,c,s,B)\n",
      "    return (Q,R)"
     ],
     "language": "python",
     "metadata": {},
     "outputs": [],
     "prompt_number": 7
    },
    {
     "cell_type": "code",
     "collapsed": false,
     "input": [
      "#Example of qivensQR\n",
      "A=pv.create('cmview_d',5,3).randn(5)\n",
      "A.mprint('%.3f')\n",
      "Q,R=givensQR(A)\n",
      "Q.mprint('%.3f')\n",
      "R.mprint('%.3f')\n",
      "Q.prod(R).mprint('%.3f')"
     ],
     "language": "python",
     "metadata": {},
     "outputs": [
      {
       "output_type": "stream",
       "stream": "stdout",
       "text": [
        "[ 0.617-0.147i -0.109-0.068i  0.021-0.137i;\n",
        "  0.514+0.308i  0.801+0.501i -0.102-0.608i;\n",
        " -0.718-0.443i -0.242+0.354i  0.182-1.061i;\n",
        "  0.050-0.726i  0.664-0.858i -0.623-0.531i;\n",
        " -0.261-0.140i -0.216-0.678i -0.377-0.522i]\n",
        "\n",
        "[ 0.439+0.000i -0.310+0.208i  0.362-0.365i  0.081+0.192i -0.327+0.503i;\n",
        "  0.296+0.290i  0.403-0.065i  0.231-0.229i -0.072-0.742i  0.037+0.002i;\n",
        " -0.412-0.413i  0.405+0.327i  0.435-0.052i -0.323+0.033i -0.301-0.034i;\n",
        "  0.150-0.481i  0.158-0.478i  0.055-0.167i  0.544+0.000i -0.297-0.278i;\n",
        " -0.153-0.136i -0.281-0.301i  0.637-0.039i  0.000+0.000i  0.618+0.000i]\n",
        "\n",
        "[ 1.406-0.336i  0.925-0.095i  0.457-0.050i;\n",
        "  0.000+0.000i  1.107+0.827i  0.108-1.051i;\n",
        " -0.000-0.000i  0.000+0.000i  0.143-1.138i;\n",
        "  0.000-0.000i  0.000+0.000i -0.000+0.000i;\n",
        " -0.000-0.000i  0.000+0.000i -0.000-0.000i]\n",
        "\n",
        "[ 0.617-0.147i -0.109-0.068i  0.021-0.137i;\n",
        "  0.514+0.308i  0.801+0.501i -0.102-0.608i;\n",
        " -0.718-0.443i -0.242+0.354i  0.182-1.061i;\n",
        "  0.050-0.726i  0.664-0.858i -0.623-0.531i;\n",
        " -0.261-0.140i -0.216-0.678i -0.377-0.522i]\n",
        "\n"
       ]
      }
     ],
     "prompt_number": 8
    },
    {
     "cell_type": "markdown",
     "metadata": {},
     "source": [
      "#### Bidigonalization Using Givens Rotations"
     ]
    },
    {
     "cell_type": "code",
     "collapsed": false,
     "input": [
      "def givensBidiag(A):\n",
      "    M  = A.collength\n",
      "    N  = A.rowlength\n",
      "    B  = A.copy\n",
      "    U  = eye(A.type,M)\n",
      "    VH = eye(A.type,N)\n",
      "    for i in range(N-1):\n",
      "        TC=B[i:,i:]\n",
      "        if i < N-2:\n",
      "            TR=B[i:,i+1:]\n",
      "        r=TC[0,0]\n",
      "        for j in range(1,TC.collength):\n",
      "            c,s,r=givensCoef(r,TC[j,0])\n",
      "            prodG(U,i,j+i,c,s)\n",
      "            gProd(0,j,c,s,TC)\n",
      "        if i < N-2:\n",
      "            r=TR[0,0]\n",
      "            k=i+1\n",
      "            for j in range(1,TR.rowlength):\n",
      "                c,s,r=givensCoef(r,TR[0,j])\n",
      "                gtProd(k,j+k,c,s,VH)\n",
      "                prodGT(TR,0,j,c,s)\n",
      "    if M > N:\n",
      "        i=N-1\n",
      "        TC=B[i:,i:]\n",
      "        r=TC[0,0]\n",
      "        for j in range(1,TC.collength):\n",
      "            c,s,r=givensCoef(r,TC[j,0])\n",
      "            prodG(U,i,j+i,c,s)\n",
      "            gProd(0,j,c,s,TC)\n",
      "    return (U,B,VH)"
     ],
     "language": "python",
     "metadata": {},
     "outputs": [],
     "prompt_number": 9
    },
    {
     "cell_type": "code",
     "collapsed": false,
     "input": [
      "#Example of BiDiagonalization using givens\n",
      "A=pv.create('cmview_d',5,3).randn(5)\n",
      "A.mprint('%.3f')\n",
      "U,B,VH=givensBidiag(A)\n",
      "B.mprint('%.3f')\n",
      "U.prod(B).prod(VH).mprint('%.3f')"
     ],
     "language": "python",
     "metadata": {},
     "outputs": [
      {
       "output_type": "stream",
       "stream": "stdout",
       "text": [
        "[ 0.617-0.147i -0.109-0.068i  0.021-0.137i;\n",
        "  0.514+0.308i  0.801+0.501i -0.102-0.608i;\n",
        " -0.718-0.443i -0.242+0.354i  0.182-1.061i;\n",
        "  0.050-0.726i  0.664-0.858i -0.623-0.531i;\n",
        " -0.261-0.140i -0.216-0.678i -0.377-0.522i]\n",
        "\n",
        "[ 1.406-0.336i  1.032-0.106i  0.000-0.000i;\n",
        "  0.000+0.000i  1.071+0.525i  0.276-1.038i;\n",
        " -0.000-0.000i -0.000-0.000i  0.406-1.265i;\n",
        "  0.000-0.000i -0.000+0.000i  0.000-0.000i;\n",
        " -0.000-0.000i  0.000-0.000i -0.000+0.000i]\n"
       ]
      },
      {
       "output_type": "stream",
       "stream": "stdout",
       "text": [
        "\n",
        "[ 0.617-0.147i -0.109-0.068i  0.021-0.137i;\n",
        "  0.514+0.308i  0.801+0.501i -0.102-0.608i;\n",
        " -0.718-0.443i -0.242+0.354i  0.182-1.061i;\n",
        "  0.050-0.726i  0.664-0.858i -0.623-0.531i;\n",
        " -0.261-0.140i -0.216-0.678i -0.377-0.522i]\n",
        "\n"
       ]
      }
     ],
     "prompt_number": 10
    }
   ],
   "metadata": {}
  }
 ]
}