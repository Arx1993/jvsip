{
 "metadata": {
  "name": "decompositionUtilitiesTestingNB"
 },
 "nbformat": 3,
 "nbformat_minor": 0,
 "worksheets": [
  {
   "cells": [
    {
     "cell_type": "code",
     "collapsed": false,
     "input": [
      "import pyJvsip as pv\n",
      "from decompositionUtilities import *"
     ],
     "language": "python",
     "metadata": {},
     "outputs": [],
     "prompt_number": 1
    },
    {
     "cell_type": "markdown",
     "metadata": {},
     "source": [
      "-------\n",
      "### Testing\n",
      "#### The following cell creates a complex matrix for use throughout"
     ]
    },
    {
     "cell_type": "code",
     "collapsed": false,
     "input": [
      "#create a matrix A to work on\n",
      "A=pv.create('cmview_d',5,3)\n",
      "A.realview.block.vector.randn(5)\n",
      "A.imagview.block.vector.randn(11)    \n",
      "#f is a format for use when using mprint method\n",
      "f='%.4f'"
     ],
     "language": "python",
     "metadata": {},
     "outputs": [],
     "prompt_number": 2
    },
    {
     "cell_type": "markdown",
     "metadata": {},
     "source": [
      "#### Test Givens Bidiagonalization"
     ]
    },
    {
     "cell_type": "code",
     "collapsed": false,
     "input": [
      "U,B,VH=givensBidiag(A)\n",
      "A.mprint(f)\n",
      "print('U B V^H');U.prod(B).prod(VH).mprint(f)\n",
      "print('B');B.mprint(f)\n",
      "print('U');U.mprint(f)\n",
      "print('V^H');VH.mprint(f)\n",
      "print('Frobenius of U B V^H - A : %.6f'%((U.prod(B).prod(VH)-A).normFro))"
     ],
     "language": "python",
     "metadata": {},
     "outputs": [
      {
       "output_type": "stream",
       "stream": "stdout",
       "text": [
        "[ 0.5080+0.8347i  0.5352-0.3009i  0.6986-0.2133i;\n",
        " -0.9603-1.1831i  0.2314+0.9088i  0.0404-0.5608i;\n",
        " -0.4766-1.0832i  0.2077-0.3781i  0.5062+0.7615i;\n",
        " -0.3828-0.1095i  0.1575+0.3478i  0.7812-0.5409i;\n",
        " -0.9682+0.2537i -0.3203+1.4490i  0.7925+0.4486i]\n",
        "\n",
        "U B V^H\n",
        "[ 0.5080+0.8347i  0.5352-0.3009i  0.6986-0.2133i;\n",
        " -0.9603-1.1831i  0.2314+0.9088i  0.0404-0.5608i;\n",
        " -0.4766-1.0832i  0.2077-0.3781i  0.5062+0.7615i;\n",
        " -0.3828-0.1095i  0.1575+0.3478i  0.7812-0.5409i;\n",
        " -0.9682+0.2537i -0.3203+1.4490i  0.7925+0.4486i]\n",
        "\n",
        "B\n",
        "[ 1.2561+2.0639i  0.7966-0.6965i  0.0000+0.0000i;\n",
        "  0.0000+0.0000i  1.7907+0.6716i  0.0385-0.3830i;\n",
        " -0.0000-0.0000i  0.0000-0.0000i  0.9423+1.1811i;\n",
        "  0.0000+0.0000i  0.0000-0.0000i  0.0000-0.0000i;\n",
        "  0.0000-0.0000i  0.0000+0.0000i  0.0000+0.0000i]\n",
        "\n",
        "U\n",
        "[ 0.4044+0.0000i  0.2309+0.0678i  0.3479-0.2451i -0.4379+0.0630i  0.0799+0.6287i;\n",
        " -0.6249+0.0849i  0.4766-0.0563i -0.3558+0.0480i -0.4023+0.1473i -0.1696+0.1752i;\n",
        " -0.4855-0.0646i  0.1365-0.2012i  0.7273+0.0340i  0.0230-0.2366i  0.3211-0.1064i;\n",
        " -0.1211+0.1118i  0.3277+0.0854i  0.0118-0.3879i  0.7511+0.0000i -0.1747+0.3359i;\n",
        " -0.1186+0.3969i -0.0133+0.7334i -0.0754+0.0604i  0.0000+0.0000i  0.5302+0.0000i]\n",
        "\n",
        "V^H\n",
        "[ 1.0000+0.0000i  0.0000+0.0000i  0.0000+0.0000i;\n",
        "  0.0000+0.0000i  0.8856+0.0000i  0.1786-0.4287i;\n",
        "  0.0000+0.0000i -0.1786-0.4287i  0.8856+0.0000i]\n",
        "\n",
        "Frobenius of U B V^H - A : 0.000000\n"
       ]
      }
     ],
     "prompt_number": 3
    },
    {
     "cell_type": "markdown",
     "metadata": {},
     "source": [
      "#### Test Givens QR Decomposition"
     ]
    },
    {
     "cell_type": "code",
     "collapsed": false,
     "input": [
      "Q,R=givensQR(A)\n",
      "A.mprint(f)\n",
      "Q.mprint(f)\n",
      "R.mprint(f)\n",
      "Q.prod(R).mprint(f)\n",
      "c=(Q.prod(R)-A).normFro\n",
      "print('%.7f'%c)\n",
      "Q.prod(Q.herm).mprint(f)"
     ],
     "language": "python",
     "metadata": {},
     "outputs": [
      {
       "output_type": "stream",
       "stream": "stdout",
       "text": [
        "[ 0.5080+0.8347i  0.5352-0.3009i  0.6986-0.2133i;\n",
        " -0.9603-1.1831i  0.2314+0.9088i  0.0404-0.5608i;\n",
        " -0.4766-1.0832i  0.2077-0.3781i  0.5062+0.7615i;\n",
        " -0.3828-0.1095i  0.1575+0.3478i  0.7812-0.5409i;\n",
        " -0.9682+0.2537i -0.3203+1.4490i  0.7925+0.4486i]\n",
        "\n",
        "[ 0.4044+0.0000i  0.1293-0.0749i  0.3018-0.3544i -0.4379+0.0630i  0.0799+0.6287i;\n",
        " -0.6249+0.0849i  0.4305+0.1428i -0.3759-0.1104i -0.4023+0.1473i -0.1696+0.1752i;\n",
        " -0.4855-0.0646i  0.2110-0.4606i  0.5710-0.0804i  0.0230-0.2366i  0.3211-0.1064i;\n",
        " -0.1211+0.1118i  0.1327+0.0758i -0.0168-0.4915i  0.7511+0.0000i -0.1747+0.3359i;\n",
        " -0.1186+0.3969i -0.0647+0.6984i  0.2351+0.0132i  0.0000+0.0000i  0.5302+0.0000i]\n",
        "\n",
        "[ 1.2561+2.0639i  0.7055-0.6168i -0.1563-0.4659i;\n",
        "  0.0000+0.0000i  1.6191+0.5394i  0.1243-0.5421i;\n",
        " -0.0000-0.0000i -0.0000+0.0000i  1.0060+1.3621i;\n",
        "  0.0000+0.0000i  0.0000+0.0000i -0.0000+0.0000i;\n",
        "  0.0000-0.0000i -0.0000+0.0000i  0.0000-0.0000i]\n",
        "\n",
        "[ 0.5080+0.8347i  0.5352-0.3009i  0.6986-0.2133i;\n",
        " -0.9603-1.1831i  0.2314+0.9088i  0.0404-0.5608i;\n",
        " -0.4766-1.0832i  0.2077-0.3781i  0.5062+0.7615i;\n",
        " -0.3828-0.1095i  0.1575+0.3478i  0.7812-0.5409i;\n",
        " -0.9682+0.2537i -0.3203+1.4490i  0.7925+0.4486i]\n",
        "\n",
        "0.0000000\n",
        "[ 1.0000+0.0000i  0.0000-0.0000i -0.0000+0.0000i -0.0000-0.0000i  0.0000+0.0000i;\n",
        "  0.0000+0.0000i  1.0000+0.0000i  0.0000-0.0000i -0.0000+0.0000i  0.0000+0.0000i;\n",
        " -0.0000+0.0000i  0.0000+0.0000i  1.0000+0.0000i  0.0000-0.0000i -0.0000-0.0000i;\n",
        " -0.0000+0.0000i -0.0000-0.0000i  0.0000+0.0000i  1.0000+0.0000i  0.0000+0.0000i;\n",
        "  0.0000-0.0000i  0.0000-0.0000i -0.0000+0.0000i  0.0000-0.0000i  1.0000+0.0000i]\n",
        "\n"
       ]
      }
     ],
     "prompt_number": 4
    },
    {
     "cell_type": "markdown",
     "metadata": {},
     "source": [
      "#### Test `prodG`, `gProd`, `gtProd`, `prodGT`  "
     ]
    },
    {
     "cell_type": "code",
     "collapsed": false,
     "input": [
      "G=eye('cmview_d',2)\n",
      "G_T=G.copy\n",
      "GH=G.copy\n",
      "G_TH=G.copy\n",
      "x=complex(1.2,2.2); y=complex(.5,.6)\n",
      "c,s,r=givensCoef(x,y)\n",
      "print(\"c: %s  s: %s\"%(repr(c),repr(s)))"
     ],
     "language": "python",
     "metadata": {},
     "outputs": [
      {
       "output_type": "stream",
       "stream": "stdout",
       "text": [
        "c: 0.9547072287345311  s: (0.2918850126067355+0.0577689087450831j)\n"
       ]
      }
     ],
     "prompt_number": 5
    },
    {
     "cell_type": "markdown",
     "metadata": {},
     "source": [
      "##### Test Givens Product with $I_2$ to produce $ G$"
     ]
    },
    {
     "cell_type": "code",
     "collapsed": false,
     "input": [
      "gProd(0,1,c,s,G).mprint('%.4f')"
     ],
     "language": "python",
     "metadata": {},
     "outputs": [
      {
       "output_type": "stream",
       "stream": "stdout",
       "text": [
        "[ 0.9547+0.0000i  0.2919+0.0578i;\n",
        " -0.2919+0.0578i  0.9547+0.0000i]\n",
        "\n"
       ]
      }
     ],
     "prompt_number": 6
    },
    {
     "cell_type": "markdown",
     "metadata": {},
     "source": [
      "##### Test product $I_2$ with Givens hermitian to produce ${G}^H$"
     ]
    },
    {
     "cell_type": "code",
     "collapsed": false,
     "input": [
      "prodG(GH,0,1,c,s).mprint('%.4f')"
     ],
     "language": "python",
     "metadata": {},
     "outputs": [
      {
       "output_type": "stream",
       "stream": "stdout",
       "text": [
        "[ 0.9547+0.0000i -0.2919-0.0578i;\n",
        "  0.2919-0.0578i  0.9547+0.0000i]\n",
        "\n"
       ]
      }
     ],
     "prompt_number": 7
    },
    {
     "cell_type": "markdown",
     "metadata": {},
     "source": [
      "##### Test product $I_2$ with Givens transpose hermitian to produce ${G_T}^H$"
     ]
    },
    {
     "cell_type": "code",
     "collapsed": false,
     "input": [
      "gtProd(0,1,c,s,G_TH).mprint('%.4f')"
     ],
     "language": "python",
     "metadata": {},
     "outputs": [
      {
       "output_type": "stream",
       "stream": "stdout",
       "text": [
        "[ 0.9547+0.0000i  0.2919-0.0578i;\n",
        " -0.2919-0.0578i  0.9547+0.0000i]\n",
        "\n"
       ]
      }
     ],
     "prompt_number": 8
    },
    {
     "cell_type": "markdown",
     "metadata": {},
     "source": [
      "##### Test Givens Transpose product with $I_2$ to produce $G_T$"
     ]
    },
    {
     "cell_type": "code",
     "collapsed": false,
     "input": [
      "prodGT(G_T,0,1,c,s).mprint('%.4f')"
     ],
     "language": "python",
     "metadata": {},
     "outputs": [
      {
       "output_type": "stream",
       "stream": "stdout",
       "text": [
        "[ 0.9547+0.0000i -0.2919+0.0578i;\n",
        "  0.2919+0.0578i  0.9547+0.0000i]\n",
        "\n"
       ]
      }
     ],
     "prompt_number": 9
    },
    {
     "cell_type": "markdown",
     "metadata": {},
     "source": [
      "Make sure $G {\\;} G^H$ is the identity  \n",
      "and $G_T {\\;}{G_T}^H$ is the identity"
     ]
    },
    {
     "cell_type": "code",
     "collapsed": false,
     "input": [
      "G.prod(GH).mprint('%.1f')\n",
      "G_T.prod(G_TH).mprint('%.1f')"
     ],
     "language": "python",
     "metadata": {},
     "outputs": [
      {
       "output_type": "stream",
       "stream": "stdout",
       "text": [
        "[ 1.0+0.0i  0.0+0.0i;\n",
        "  0.0+0.0i  1.0+0.0i]\n",
        "\n",
        "[ 1.0+0.0i  0.0+0.0i;\n",
        "  0.0+0.0i  1.0+0.0i]\n",
        "\n"
       ]
      }
     ],
     "prompt_number": 10
    },
    {
     "cell_type": "markdown",
     "metadata": {},
     "source": [
      "#### Test Givens"
     ]
    },
    {
     "cell_type": "code",
     "collapsed": false,
     "input": [
      "Acopy=A.copy\n",
      "i=2; j=3; k=4\n",
      "x1=A[i,k]\n",
      "x2=A[j,k]\n",
      "c,s,r=givensCoef(x1,x2)\n",
      "print(\"c: \"+ repr(c))\n",
      "print(\"s: \"+ repr(s))\n",
      "print(\"A: \");A.mprint(f)"
     ],
     "language": "python",
     "metadata": {},
     "outputs": [
      {
       "output_type": "stream",
       "stream": "stdout",
       "text": [
        "c: 0.24917815578546\n",
        "s: (0.7752574536442435-0.5804189239234024j)\n",
        "A: \n",
        "[ 0.5080+0.8347i  0.5352-0.3009i  0.6986-0.2133i;\n",
        " -0.9603-1.1831i  0.2314+0.9088i  0.0404-0.5608i;\n",
        " -0.4766-1.0832i  0.2077-0.3781i  0.5062+0.7615i;\n",
        " -0.3828-0.1095i  0.1575+0.3478i  0.7812-0.5409i;\n",
        " -0.9682+0.2537i -0.3203+1.4490i  0.7925+0.4486i]\n",
        "\n"
       ]
      }
     ],
     "prompt_number": 11
    },
    {
     "cell_type": "markdown",
     "metadata": {},
     "source": [
      "Calculate matrix $G A$"
     ]
    },
    {
     "cell_type": "code",
     "collapsed": false,
     "input": [
      "print(\"Index (%d,%d) should be zero: \"%(j,k));GA=gProd(i,j,c,s,Acopy)\n",
      "GA.mprint(f)"
     ],
     "language": "python",
     "metadata": {},
     "outputs": [
      {
       "output_type": "stream",
       "stream": "stdout",
       "text": [
        "Index (3,4) should be zero: \n",
        "[ 0.5080+0.8347i  0.5352-0.3009i  0.6986-0.2133i;\n",
        " -0.9603-1.1831i  0.2314+0.9088i  0.0404-0.5608i;\n",
        " -0.4791-0.1326i  0.3757+0.0841i  0.4178-0.6830i;\n",
        " -0.3546+1.0891i -0.3412+0.2593i  0.2442-1.0190i;\n",
        " -0.9682+0.2537i -0.3203+1.4490i  0.7925+0.4486i]\n",
        "\n"
       ]
      }
     ],
     "prompt_number": 12
    },
    {
     "cell_type": "markdown",
     "metadata": {},
     "source": [
      "check that $G^H (G A) = A$"
     ]
    },
    {
     "cell_type": "code",
     "collapsed": false,
     "input": [
      "GH=givensExtract(A.type,i,j,c,s,A.collength).herm\n",
      "GH.prod(GA).mprint(f)\n",
      "print('forbenius of difference %.6f'%((GH.prod(GA)-A).normFro))"
     ],
     "language": "python",
     "metadata": {},
     "outputs": [
      {
       "output_type": "stream",
       "stream": "stdout",
       "text": [
        "[ 0.5080+0.8347i  0.5352-0.3009i  0.6986-0.2133i;\n",
        " -0.9603-1.1831i  0.2314+0.9088i  0.0404-0.5608i;\n",
        " -0.4766-1.0832i  0.2077-0.3781i  0.5062+0.7615i;\n",
        " -0.3828-0.1095i  0.1575+0.3478i  0.7812-0.5409i;\n",
        " -0.9682+0.2537i -0.3203+1.4490i  0.7925+0.4486i]\n",
        "\n",
        "forbenius of difference 0.000000\n"
       ]
      }
     ],
     "prompt_number": 13
    },
    {
     "cell_type": "markdown",
     "metadata": {},
     "source": [
      "#### Test `givensCoef`"
     ]
    },
    {
     "cell_type": "code",
     "collapsed": false,
     "input": [
      "print('Real data\\nCreate (column) vector y: ')\n",
      "y=pv.create('vview_d',2);y[0] = 1.5;y[1]=-4.1\n",
      "y.mprint(f)\n",
      "print('Create Givens matrix G: ')\n",
      "g=pv.create('mview_d',2,2)\n",
      "c,s,r=givensCoef(y[0],y[1])\n",
      "g[0,0]=c; g[1,1]=c; g[0,1]=s;g[1,0]=-s.conjugate()\n",
      "g.mprint(f)\n",
      "print('Calculate x=G y; x = ')\n",
      "x=g.prod(y)\n",
      "x.mprint('%.6f')\n",
      "print('Complex data\\nCreate (column) vector y: ')\n",
      "yc=pv.create('cvview_d',2);yc[0] = complex(1.5,.5);yc[1]=complex(-3.,4.)\n",
      "yc.mprint(f)\n",
      "print('Create Givens Matrix G: ')\n",
      "gc=pv.create('cmview_d',2,2)\n",
      "c,s,r=givensCoef(yc[0],yc[1])\n",
      "gc[0,0]=c; gc[1,1]=c; gc[0,1]=s;gc[1,0]=-s.conjugate()\n",
      "gc.mprint(f)\n",
      "print('Calculate x=G y; x = ')\n",
      "xc=gc.prod(yc)\n",
      "xc.mprint('%.6f')"
     ],
     "language": "python",
     "metadata": {},
     "outputs": [
      {
       "output_type": "stream",
       "stream": "stdout",
       "text": [
        "Real data\n",
        "Create (column) vector y: \n",
        "[ 1.5000 -4.1000]\n",
        "\n",
        "Create Givens matrix G: \n",
        "[ 0.3436 -0.9391;\n",
        "  0.9391  0.3436]\n",
        "\n",
        "Calculate x=G y; x = \n",
        "[ 4.365776  0.000000]\n",
        "\n",
        "Complex data\n",
        "Create (column) vector y: \n",
        "[ 1.5000+0.5000i -3.0000+4.0000i]\n",
        "\n",
        "Create Givens Matrix G: \n",
        "[ 0.3015+0.0000i -0.3015-0.9045i;\n",
        "  0.3015-0.9045i  0.3015+0.0000i]\n",
        "\n",
        "Calculate x=G y; x = \n",
        "[ 4.974937+1.658312i -0.000000-0.000000i]\n",
        "\n"
       ]
      }
     ],
     "prompt_number": 14
    },
    {
     "cell_type": "markdown",
     "metadata": {},
     "source": [
      "#### Test `bidiag` decomposition routine    \n",
      "using Householder method"
     ]
    },
    {
     "cell_type": "code",
     "collapsed": false,
     "input": [
      "print('A:'); A.mprint(f)\n",
      "B=bidiag(A)\n",
      "print('B');B.mprint(f)\n",
      "U=UmatExtract(B); print('U:');U.mprint(f)\n",
      "B0=bidiagExtract(B); print('bidiag:');B0.mprint(f)\n",
      "VH=VHmatExtract(B); print('VH:');VH.mprint(f)\n",
      "print('A check');U.prod(B0).prod(VH).mprint(f)\n",
      "print('frobenius (A-U B VH): %.6f'%(A-U.prod(B0).prod(VH)).normFro)"
     ],
     "language": "python",
     "metadata": {},
     "outputs": [
      {
       "output_type": "stream",
       "stream": "stdout",
       "text": [
        "A:\n",
        "[ 0.5080+0.8347i  0.5352-0.3009i  0.6986-0.2133i;\n",
        " -0.9603-1.1831i  0.2314+0.9088i  0.0404-0.5608i;\n",
        " -0.4766-1.0832i  0.2077-0.3781i  0.5062+0.7615i;\n",
        " -0.3828-0.1095i  0.1575+0.3478i  0.7812-0.5409i;\n",
        " -0.9682+0.2537i -0.3203+1.4490i  0.7925+0.4486i]\n",
        "\n",
        "B\n",
        "[-1.2561-2.0639i  0.7966-0.6965i  0.0947+0.2274i;\n",
        " -0.4450+0.0605i  1.8326+0.5472i -0.0122+0.3847i;\n",
        " -0.3457-0.0460i  0.1415-0.0960i -0.9988-1.1337i;\n",
        " -0.0862+0.0796i  0.2191+0.0611i  0.0444-0.2117i;\n",
        " -0.0845+0.2826i -0.0132+0.4253i -0.0814+0.0130i]\n",
        "\n",
        "U:\n",
        "[-0.4044+0.0000i -0.2257-0.0835i -0.3595+0.2278i -0.1927-0.0123i  0.1237+0.7381i;\n",
        "  0.6249-0.0849i -0.4793+0.0235i  0.3577-0.0306i -0.2931+0.1938i -0.1110+0.3275i;\n",
        "  0.4855+0.0646i -0.1500+0.1914i -0.7247-0.0694i -0.0528-0.3240i  0.2063-0.1434i;\n",
        "  0.1211-0.1118i -0.3211-0.1076i -0.0308+0.3868i  0.8334+0.0063i -0.0995+0.0559i;\n",
        "  0.1186-0.3969i  0.0636-0.7307i  0.0783-0.0567i -0.0482-0.1859i  0.4925-0.0408i]\n",
        "\n",
        "bidiag:\n",
        "[-1.2561-2.0639i  0.7966-0.6965i  0.0000+0.0000i;\n",
        "  0.0000+0.0000i  1.8326+0.5472i -0.0122+0.3847i;\n",
        "  0.0000+0.0000i  0.0000+0.0000i -0.9988-1.1337i;\n",
        "  0.0000+0.0000i  0.0000+0.0000i  0.0000+0.0000i;\n",
        "  0.0000+0.0000i  0.0000+0.0000i  0.0000+0.0000i]\n",
        "\n",
        "VH:\n",
        "[ 1.0000+0.0000i  0.0000+0.0000i  0.0000+0.0000i;\n",
        "  0.0000+0.0000i -0.8856+0.0000i -0.1786+0.4287i;\n",
        "  0.0000+0.0000i -0.1786-0.4287i  0.8856+0.0000i]\n",
        "\n",
        "A check\n",
        "[ 0.5080+0.8347i  0.5352-0.3009i  0.6986-0.2133i;\n",
        " -0.9603-1.1831i  0.2314+0.9088i  0.0404-0.5608i;\n",
        " -0.4766-1.0832i  0.2077-0.3781i  0.5062+0.7615i;\n",
        " -0.3828-0.1095i  0.1575+0.3478i  0.7812-0.5409i;\n",
        " -0.9682+0.2537i -0.3203+1.4490i  0.7925+0.4486i]\n",
        "\n",
        "frobenius (A-U B VH): 0.000000\n"
       ]
      }
     ],
     "prompt_number": 15
    },
    {
     "cell_type": "markdown",
     "metadata": {},
     "source": [
      "#### Test Householder QR Decomposition routine    "
     ]
    },
    {
     "cell_type": "code",
     "collapsed": false,
     "input": [
      "Q,R=houseQR(A)\n",
      "print('A:');A.mprint(f)\n",
      "print('Q:');Q.mprint(f)\n",
      "print('R:');R.mprint(f)\n",
      "print('Q R:');Q.prod(R).mprint(f)\n",
      "print('frobenius of A-QR :%.6f'%((A-Q.prod(R)).normFro))"
     ],
     "language": "python",
     "metadata": {},
     "outputs": [
      {
       "output_type": "stream",
       "stream": "stdout",
       "text": [
        "A:\n",
        "[ 0.5080+0.8347i  0.5352-0.3009i  0.6986-0.2133i;\n",
        " -0.9603-1.1831i  0.2314+0.9088i  0.0404-0.5608i;\n",
        " -0.4766-1.0832i  0.2077-0.3781i  0.5062+0.7615i;\n",
        " -0.3828-0.1095i  0.1575+0.3478i  0.7812-0.5409i;\n",
        " -0.9682+0.2537i -0.3203+1.4490i  0.7925+0.4486i]\n",
        "\n",
        "Q:\n",
        "[-0.4044+0.0000i -0.1112+0.0999i -0.3926+0.2502i -0.1668-0.0357i  0.0910+0.7483i;\n",
        "  0.6249-0.0849i -0.4507-0.0512i  0.3269+0.2159i -0.2751+0.1916i -0.1234+0.3398i;\n",
        "  0.4855+0.0646i -0.1116+0.4942i -0.5694-0.0908i -0.0670-0.3274i  0.1970-0.1430i;\n",
        "  0.1211-0.1118i -0.1454-0.0468i -0.1282+0.4748i  0.8374+0.0012i -0.0773+0.0202i;\n",
        "  0.1186-0.3969i -0.0804-0.6967i -0.2209-0.0816i -0.0650-0.2035i  0.4845-0.0265i]\n",
        "\n",
        "R:\n",
        "[-1.2561-2.0639i -0.7055+0.6168i  0.1563+0.4659i;\n",
        "  0.0000+0.0000i -1.4734-0.8611i -0.2332+0.5049i;\n",
        "  0.0000+0.0000i  0.0000+0.0000i -1.3615-1.0067i;\n",
        "  0.0000+0.0000i  0.0000+0.0000i  0.0000+0.0000i;\n",
        "  0.0000+0.0000i  0.0000+0.0000i  0.0000+0.0000i]\n",
        "\n",
        "Q R:\n",
        "[ 0.5080+0.8347i  0.5352-0.3009i  0.6986-0.2133i;\n",
        " -0.9603-1.1831i  0.2314+0.9088i  0.0404-0.5608i;\n",
        " -0.4766-1.0832i  0.2077-0.3781i  0.5062+0.7615i;\n",
        " -0.3828-0.1095i  0.1575+0.3478i  0.7812-0.5409i;\n",
        " -0.9682+0.2537i -0.3203+1.4490i  0.7925+0.4486i]\n",
        "\n",
        "frobenius of A-QR :0.000000\n"
       ]
      }
     ],
     "prompt_number": 16
    },
    {
     "cell_type": "code",
     "collapsed": false,
     "input": [
      "q,r=houseQR(A.realview)\n",
      "print('A:');A.realview.mprint(f)\n",
      "print('Q R:');(q.prod(r)).mprint(f)\n",
      "print('frobenius of (A-QR): %.6f'%((A.realview-q.prod(r)).normFro))"
     ],
     "language": "python",
     "metadata": {},
     "outputs": [
      {
       "output_type": "stream",
       "stream": "stdout",
       "text": [
        "A:\n",
        "[ 0.5080  0.5352  0.6986;\n",
        " -0.9603  0.2314  0.0404;\n",
        " -0.4766  0.2077  0.5062;\n",
        " -0.3828  0.1575  0.7812;\n",
        " -0.9682 -0.3203  0.7925]\n",
        "\n",
        "Q R:\n",
        "[ 0.5080  0.5352  0.6986;\n",
        " -0.9603  0.2314  0.0404;\n",
        " -0.4766  0.2077  0.5062;\n",
        " -0.3828  0.1575  0.7812;\n",
        " -0.9682 -0.3203  0.7925]\n",
        "\n",
        "frobenius of (A-QR): 0.000000\n"
       ]
      }
     ],
     "prompt_number": 17
    },
    {
     "cell_type": "markdown",
     "metadata": {},
     "source": [
      "#### Test QRD decomposition in place"
     ]
    },
    {
     "cell_type": "code",
     "collapsed": false,
     "input": [
      "B=A.copy\n",
      "QRD_inPlace(B)\n",
      "R=RmatExtract(B)\n",
      "B.mprint(f)"
     ],
     "language": "python",
     "metadata": {},
     "outputs": [
      {
       "output_type": "stream",
       "stream": "stdout",
       "text": [
        "[-1.2561-2.0639i -0.7055+0.6168i  0.1563+0.4659i;\n",
        " -0.4450+0.0605i -1.4734-0.8611i -0.2332+0.5049i;\n",
        " -0.3457-0.0460i  0.1035-0.3505i -1.3615-1.0067i;\n",
        " -0.0862+0.0796i  0.0984+0.0197i  0.0817-0.2638i;\n",
        " -0.0845+0.2826i  0.0412+0.4396i  0.0193+0.0203i]\n",
        "\n"
       ]
      }
     ],
     "prompt_number": 18
    },
    {
     "cell_type": "code",
     "collapsed": false,
     "input": [
      "R.mprint(f)"
     ],
     "language": "python",
     "metadata": {},
     "outputs": [
      {
       "output_type": "stream",
       "stream": "stdout",
       "text": [
        "[-1.2561-2.0639i -0.7055+0.6168i  0.1563+0.4659i;\n",
        "  0.0000+0.0000i -1.4734-0.8611i -0.2332+0.5049i;\n",
        "  0.0000+0.0000i  0.0000+0.0000i -1.3615-1.0067i;\n",
        "  0.0000+0.0000i  0.0000+0.0000i  0.0000+0.0000i;\n",
        "  0.0000+0.0000i  0.0000+0.0000i  0.0000+0.0000i]\n",
        "\n"
       ]
      }
     ],
     "prompt_number": 19
    },
    {
     "cell_type": "code",
     "collapsed": false,
     "input": [
      "AC=fullQProd(B,R)"
     ],
     "language": "python",
     "metadata": {},
     "outputs": [],
     "prompt_number": 20
    },
    {
     "cell_type": "code",
     "collapsed": false,
     "input": [
      "A.mprint(f)\n",
      "AC.mprint(f)\n",
      "print('frobenius of A-QR :%.6f'%((A-AC).normFro))"
     ],
     "language": "python",
     "metadata": {},
     "outputs": [
      {
       "output_type": "stream",
       "stream": "stdout",
       "text": [
        "[ 0.5080+0.8347i  0.5352-0.3009i  0.6986-0.2133i;\n",
        " -0.9603-1.1831i  0.2314+0.9088i  0.0404-0.5608i;\n",
        " -0.4766-1.0832i  0.2077-0.3781i  0.5062+0.7615i;\n",
        " -0.3828-0.1095i  0.1575+0.3478i  0.7812-0.5409i;\n",
        " -0.9682+0.2537i -0.3203+1.4490i  0.7925+0.4486i]\n",
        "\n",
        "[ 0.5080+0.8347i  0.5352-0.3009i  0.6986-0.2133i;\n",
        " -0.9603-1.1831i  0.2314+0.9088i  0.0404-0.5608i;\n",
        " -0.4766-1.0832i  0.2077-0.3781i  0.5062+0.7615i;\n",
        " -0.3828-0.1095i  0.1575+0.3478i  0.7812-0.5409i;\n",
        " -0.9682+0.2537i -0.3203+1.4490i  0.7925+0.4486i]\n",
        "\n",
        "frobenius of A-QR :0.000000\n"
       ]
      }
     ],
     "prompt_number": 21
    },
    {
     "cell_type": "markdown",
     "metadata": {},
     "source": [
      "#### Test grs_zeroRow\n"
     ]
    },
    {
     "cell_type": "code",
     "collapsed": false,
     "input": [
      "n=6 # n > 4\n",
      "B=pv.create('mview_d',n,n).fill(0.0)\n",
      "b0=B.diagview(0).ramp(1,1)\n",
      "b1=B.diagview(1).ramp(.1,.4)\n",
      "b0[3]=0.0\n",
      "print('Initial B of size %d',n)\n",
      "if B.collength > 7:\n",
      "    B[0:7,0:7].mprint('%.2f')\n",
      "else:\n",
      "    B.mprint('%.2f')\n",
      "L=eye(B.type,B.collength)\n",
      "grs_zeroRow(L[:,3:],B.diagview(0)[4:],B.diagview(1)[3:])\n",
      "if B.collength > 7:\n",
      "    B[0:7,0:7].mprint('%.2f')\n",
      "else:\n",
      "    B.mprint('%.2f')\n",
      "C=L.prod(B)\n",
      "if C.collength > 7:\n",
      "    C[0:7,0:7].mprint('%.9f')\n",
      "else:\n",
      "    C.mprint('%.9f')"
     ],
     "language": "python",
     "metadata": {},
     "outputs": [
      {
       "output_type": "stream",
       "stream": "stdout",
       "text": [
        "('Initial B of size %d', 6)\n",
        "[ 1.00  0.10  0.00  0.00  0.00  0.00;\n",
        "  0.00  2.00  0.50  0.00  0.00  0.00;\n",
        "  0.00  0.00  3.00  0.90  0.00  0.00;\n",
        "  0.00  0.00  0.00  0.00  1.30  0.00;\n",
        "  0.00  0.00  0.00  0.00  5.00  1.70;\n",
        "  0.00  0.00  0.00  0.00  0.00  6.00]\n",
        "\n",
        "[ 1.00  0.10  0.00  0.00  0.00  0.00;\n",
        "  0.00  2.00  0.50  0.00  0.00  0.00;\n",
        "  0.00  0.00  3.00  0.90  0.00  0.00;\n",
        "  0.00  0.00  0.00  0.00  0.00  0.00;\n",
        "  0.00  0.00  0.00  0.00  5.17  1.65;\n",
        "  0.00  0.00  0.00  0.00  0.00  6.02]\n",
        "\n",
        "[ 1.000000000  0.100000000  0.000000000  0.000000000  0.000000000  0.000000000;\n",
        "  0.000000000  2.000000000  0.500000000  0.000000000  0.000000000  0.000000000;\n",
        "  0.000000000  0.000000000  3.000000000  0.900000000  0.000000000  0.000000000;\n",
        "  0.000000000  0.000000000  0.000000000  0.000000000  1.300000000 -0.000000000;\n",
        "  0.000000000  0.000000000  0.000000000  0.000000000  5.000000000  1.700000000;\n",
        "  0.000000000  0.000000000  0.000000000  0.000000000  0.000000000  6.000000000]\n",
        "\n"
       ]
      }
     ],
     "prompt_number": 22
    },
    {
     "cell_type": "code",
     "collapsed": false,
     "input": [
      "n=6 # n > 4\n",
      "B=pv.create('mview_d',n,n).fill(0.0)\n",
      "b0=B.diagview(0).ramp(1,1)\n",
      "b1=B.diagview(1).ramp(.1,.4)\n",
      "b0[2]=0.0; b1[4]=0\n",
      "print('Initial B of size %d',n)\n",
      "if B.collength > 7:\n",
      "    B[0:7,0:7].mprint('%.2f')\n",
      "else:\n",
      "    B.mprint('%.2f')\n",
      "L=eye(B.type,B.collength)\n",
      "grs_zeroRow(L[:,2:5],B.diagview(0)[3:5],B.diagview(1)[2:4])\n",
      "if B.collength > 7:\n",
      "    B[0:7,0:7].mprint('%.2f')\n",
      "else:\n",
      "    B.mprint('%.2f')\n",
      "C=L.prod(B)\n",
      "if C.collength > 7:\n",
      "    C[0:7,0:7].mprint('%.9f')\n",
      "else:\n",
      "    C.mprint('%.9f')"
     ],
     "language": "python",
     "metadata": {},
     "outputs": [
      {
       "output_type": "stream",
       "stream": "stdout",
       "text": [
        "('Initial B of size %d', 6)\n",
        "[ 1.00  0.10  0.00  0.00  0.00  0.00;\n",
        "  0.00  2.00  0.50  0.00  0.00  0.00;\n",
        "  0.00  0.00  0.00  0.90  0.00  0.00;\n",
        "  0.00  0.00  0.00  4.00  1.30  0.00;\n",
        "  0.00  0.00  0.00  0.00  5.00  0.00;\n",
        "  0.00  0.00  0.00  0.00  0.00  6.00]\n",
        "\n",
        "[ 1.00  0.10  0.00  0.00  0.00  0.00;\n",
        "  0.00  2.00  0.50  0.00  0.00  0.00;\n",
        "  0.00  0.00  0.00  0.00  0.00  0.00;\n",
        "  0.00  0.00  0.00  4.10  1.27  0.00;\n",
        "  0.00  0.00  0.00  0.00  5.01  0.00;\n",
        "  0.00  0.00  0.00  0.00  0.00  6.00]\n",
        "\n",
        "[ 1.000000000  0.100000000  0.000000000  0.000000000  0.000000000  0.000000000;\n",
        "  0.000000000  2.000000000  0.500000000  0.000000000  0.000000000  0.000000000;\n",
        "  0.000000000  0.000000000  0.000000000  0.900000000  0.000000000  0.000000000;\n",
        "  0.000000000  0.000000000  0.000000000  4.000000000  1.300000000  0.000000000;\n",
        "  0.000000000  0.000000000  0.000000000  0.000000000  5.000000000  0.000000000;\n",
        "  0.000000000  0.000000000  0.000000000  0.000000000  0.000000000  6.000000000]\n",
        "\n"
       ]
      }
     ],
     "prompt_number": 23
    },
    {
     "cell_type": "markdown",
     "metadata": {},
     "source": [
      "#### Test grs_corners\n",
      "Try some cases to shake out bugs in grs_corners"
     ]
    },
    {
     "cell_type": "code",
     "collapsed": false,
     "input": [
      "#test1\n",
      "B=pv.create('mview_d',10,10).fill(0.0)\n",
      "b0=B.diagview(0).randn(3)\n",
      "b1=B.diagview(1).randn(5)\n",
      "B.mprint('%.4f')\n",
      "i=0;j=10\n",
      "I,J=grs_corners(b1)\n",
      "print(I,J)\n",
      "print('B11');B[0:I,0:I].mprint('%.4f'); \n",
      "print('B22');B[I:J,I:J].mprint('%.4f');\n",
      "print('B33');B[J:,J:].mprint('%.4f')"
     ],
     "language": "python",
     "metadata": {},
     "outputs": [
      {
       "output_type": "stream",
       "stream": "stdout",
       "text": [
        "[ 2.0658  0.5080  0.0000  0.0000  0.0000  0.0000  0.0000  0.0000  0.0000  0.0000;\n",
        "  0.0000 -0.5195  0.5352  0.0000  0.0000  0.0000  0.0000  0.0000  0.0000  0.0000;\n",
        "  0.0000  0.0000 -1.3307  0.6986  0.0000  0.0000  0.0000  0.0000  0.0000  0.0000;\n",
        "  0.0000  0.0000  0.0000 -0.5527 -0.9603  0.0000  0.0000  0.0000  0.0000  0.0000;\n",
        "  0.0000  0.0000  0.0000  0.0000  0.6723  0.2314  0.0000  0.0000  0.0000  0.0000;\n",
        "  0.0000  0.0000  0.0000  0.0000  0.0000 -0.0925  0.0404  0.0000  0.0000  0.0000;\n",
        "  0.0000  0.0000  0.0000  0.0000  0.0000  0.0000  0.7256 -0.4766  0.0000  0.0000;\n",
        "  0.0000  0.0000  0.0000  0.0000  0.0000  0.0000  0.0000 -0.5971  0.2077  0.0000;\n",
        "  0.0000  0.0000  0.0000  0.0000  0.0000  0.0000  0.0000  0.0000 -1.2455  0.5062;\n",
        "  0.0000  0.0000  0.0000  0.0000  0.0000  0.0000  0.0000  0.0000  0.0000  1.8594]\n",
        "\n",
        "(0, 10)\n",
        "B11\n",
        "\n",
        "B22\n",
        "[ 2.0658  0.5080  0.0000  0.0000  0.0000  0.0000  0.0000  0.0000  0.0000  0.0000;\n",
        "  0.0000 -0.5195  0.5352  0.0000  0.0000  0.0000  0.0000  0.0000  0.0000  0.0000;\n",
        "  0.0000  0.0000 -1.3307  0.6986  0.0000  0.0000  0.0000  0.0000  0.0000  0.0000;\n",
        "  0.0000  0.0000  0.0000 -0.5527 -0.9603  0.0000  0.0000  0.0000  0.0000  0.0000;\n",
        "  0.0000  0.0000  0.0000  0.0000  0.6723  0.2314  0.0000  0.0000  0.0000  0.0000;\n",
        "  0.0000  0.0000  0.0000  0.0000  0.0000 -0.0925  0.0404  0.0000  0.0000  0.0000;\n",
        "  0.0000  0.0000  0.0000  0.0000  0.0000  0.0000  0.7256 -0.4766  0.0000  0.0000;\n",
        "  0.0000  0.0000  0.0000  0.0000  0.0000  0.0000  0.0000 -0.5971  0.2077  0.0000;\n",
        "  0.0000  0.0000  0.0000  0.0000  0.0000  0.0000  0.0000  0.0000 -1.2455  0.5062;\n",
        "  0.0000  0.0000  0.0000  0.0000  0.0000  0.0000  0.0000  0.0000  0.0000  1.8594]\n",
        "\n",
        "B33\n",
        "\n"
       ]
      }
     ],
     "prompt_number": 24
    },
    {
     "cell_type": "code",
     "collapsed": false,
     "input": [
      "#test2\n",
      "B=pv.create('mview_d',10,10).fill(0.0)\n",
      "b0=B.diagview(0).randn(3)\n",
      "b1=B.diagview(1).randn(5)\n",
      "i=4;j=6\n",
      "b1[j:].fill(0.0)\n",
      "b1[i]=0.0\n",
      "B.mprint('%.4f')\n",
      "I,J=grs_corners(b1)\n",
      "print(I,J)\n",
      "print('B11');B[0:I,0:I].mprint('%.4f'); \n",
      "print('B22');B[I:J,I:J].mprint('%.4f');\n",
      "print('B33');B[J:,J:].mprint('%.4f')"
     ],
     "language": "python",
     "metadata": {},
     "outputs": [
      {
       "output_type": "stream",
       "stream": "stdout",
       "text": [
        "[ 2.0658  0.5080  0.0000  0.0000  0.0000  0.0000  0.0000  0.0000  0.0000  0.0000;\n",
        "  0.0000 -0.5195  0.5352  0.0000  0.0000  0.0000  0.0000  0.0000  0.0000  0.0000;\n",
        "  0.0000  0.0000 -1.3307  0.6986  0.0000  0.0000  0.0000  0.0000  0.0000  0.0000;\n",
        "  0.0000  0.0000  0.0000 -0.5527 -0.9603  0.0000  0.0000  0.0000  0.0000  0.0000;\n",
        "  0.0000  0.0000  0.0000  0.0000  0.6723  0.0000  0.0000  0.0000  0.0000  0.0000;\n",
        "  0.0000  0.0000  0.0000  0.0000  0.0000 -0.0925  0.0404  0.0000  0.0000  0.0000;\n",
        "  0.0000  0.0000  0.0000  0.0000  0.0000  0.0000  0.7256  0.0000  0.0000  0.0000;\n",
        "  0.0000  0.0000  0.0000  0.0000  0.0000  0.0000  0.0000 -0.5971  0.0000  0.0000;\n",
        "  0.0000  0.0000  0.0000  0.0000  0.0000  0.0000  0.0000  0.0000 -1.2455  0.0000;\n",
        "  0.0000  0.0000  0.0000  0.0000  0.0000  0.0000  0.0000  0.0000  0.0000  1.8594]\n",
        "\n",
        "(5, 7)\n",
        "B11\n",
        "[ 2.0658  0.5080  0.0000  0.0000  0.0000;\n",
        "  0.0000 -0.5195  0.5352  0.0000  0.0000;\n",
        "  0.0000  0.0000 -1.3307  0.6986  0.0000;\n",
        "  0.0000  0.0000  0.0000 -0.5527 -0.9603;\n",
        "  0.0000  0.0000  0.0000  0.0000  0.6723]\n",
        "\n",
        "B22\n",
        "[-0.0925  0.0404;\n",
        "  0.0000  0.7256]\n",
        "\n",
        "B33\n",
        "[-0.5971  0.0000  0.0000;\n",
        "  0.0000 -1.2455  0.0000;\n",
        "  0.0000  0.0000  1.8594]\n",
        "\n"
       ]
      }
     ],
     "prompt_number": 25
    },
    {
     "cell_type": "code",
     "collapsed": false,
     "input": [
      "#test3\n",
      "B=pv.create('mview_d',10,10).fill(0.0)\n",
      "b0=B.diagview(0).randn(3)\n",
      "b1=B.diagview(1).randn(5)\n",
      "i=0;j=0\n",
      "b1[j:].fill(0.0)\n",
      "b1[i]=0.0\n",
      "B.mprint('%.4f')\n",
      "I,J=grs_corners(b1)\n",
      "print(I,J)\n",
      "print('B11');B[0:I,0:I].mprint('%.4f'); \n",
      "print('B22');B[I:J,I:J].mprint('%.4f');\n",
      "print('B33');B[J:,J:].mprint('%.4f')"
     ],
     "language": "python",
     "metadata": {},
     "outputs": [
      {
       "output_type": "stream",
       "stream": "stdout",
       "text": [
        "[ 2.0658  0.0000  0.0000  0.0000  0.0000  0.0000  0.0000  0.0000  0.0000  0.0000;\n",
        "  0.0000 -0.5195  0.0000  0.0000  0.0000  0.0000  0.0000  0.0000  0.0000  0.0000;\n",
        "  0.0000  0.0000 -1.3307  0.0000  0.0000  0.0000  0.0000  0.0000  0.0000  0.0000;\n",
        "  0.0000  0.0000  0.0000 -0.5527  0.0000  0.0000  0.0000  0.0000  0.0000  0.0000;\n",
        "  0.0000  0.0000  0.0000  0.0000  0.6723  0.0000  0.0000  0.0000  0.0000  0.0000;\n",
        "  0.0000  0.0000  0.0000  0.0000  0.0000 -0.0925  0.0000  0.0000  0.0000  0.0000;\n",
        "  0.0000  0.0000  0.0000  0.0000  0.0000  0.0000  0.7256  0.0000  0.0000  0.0000;\n",
        "  0.0000  0.0000  0.0000  0.0000  0.0000  0.0000  0.0000 -0.5971  0.0000  0.0000;\n",
        "  0.0000  0.0000  0.0000  0.0000  0.0000  0.0000  0.0000  0.0000 -1.2455  0.0000;\n",
        "  0.0000  0.0000  0.0000  0.0000  0.0000  0.0000  0.0000  0.0000  0.0000  1.8594]\n",
        "\n",
        "(0, 0)\n",
        "B11\n",
        "\n",
        "B22\n",
        "\n",
        "B33\n",
        "[ 2.0658  0.0000  0.0000  0.0000  0.0000  0.0000  0.0000  0.0000  0.0000  0.0000;\n",
        "  0.0000 -0.5195  0.0000  0.0000  0.0000  0.0000  0.0000  0.0000  0.0000  0.0000;\n",
        "  0.0000  0.0000 -1.3307  0.0000  0.0000  0.0000  0.0000  0.0000  0.0000  0.0000;\n",
        "  0.0000  0.0000  0.0000 -0.5527  0.0000  0.0000  0.0000  0.0000  0.0000  0.0000;\n",
        "  0.0000  0.0000  0.0000  0.0000  0.6723  0.0000  0.0000  0.0000  0.0000  0.0000;\n",
        "  0.0000  0.0000  0.0000  0.0000  0.0000 -0.0925  0.0000  0.0000  0.0000  0.0000;\n",
        "  0.0000  0.0000  0.0000  0.0000  0.0000  0.0000  0.7256  0.0000  0.0000  0.0000;\n",
        "  0.0000  0.0000  0.0000  0.0000  0.0000  0.0000  0.0000 -0.5971  0.0000  0.0000;\n",
        "  0.0000  0.0000  0.0000  0.0000  0.0000  0.0000  0.0000  0.0000 -1.2455  0.0000;\n",
        "  0.0000  0.0000  0.0000  0.0000  0.0000  0.0000  0.0000  0.0000  0.0000  1.8594]\n",
        "\n"
       ]
      }
     ],
     "prompt_number": 26
    },
    {
     "cell_type": "code",
     "collapsed": false,
     "input": [
      "#test4\n",
      "B=pv.create('mview_d',10,10).fill(0.0)\n",
      "b0=B.diagview(0).randn(3)\n",
      "b1=B.diagview(1).randn(5)\n",
      "j=6\n",
      "b1[j:].fill(0.0)\n",
      "B.mprint('%.4f')\n",
      "I,J=grs_corners(b1)\n",
      "print(I,J)\n",
      "print('B11');B[0:I,0:I].mprint('%.4f'); \n",
      "print('B22');B[I:J,I:J].mprint('%.4f');\n",
      "print('B33');B[J:,J:].mprint('%.4f')"
     ],
     "language": "python",
     "metadata": {},
     "outputs": [
      {
       "output_type": "stream",
       "stream": "stdout",
       "text": [
        "[ 2.0658  0.5080  0.0000  0.0000  0.0000  0.0000  0.0000  0.0000  0.0000  0.0000;\n",
        "  0.0000 -0.5195  0.5352  0.0000  0.0000  0.0000  0.0000  0.0000  0.0000  0.0000;\n",
        "  0.0000  0.0000 -1.3307  0.6986  0.0000  0.0000  0.0000  0.0000  0.0000  0.0000;\n",
        "  0.0000  0.0000  0.0000 -0.5527 -0.9603  0.0000  0.0000  0.0000  0.0000  0.0000;\n",
        "  0.0000  0.0000  0.0000  0.0000  0.6723  0.2314  0.0000  0.0000  0.0000  0.0000;\n",
        "  0.0000  0.0000  0.0000  0.0000  0.0000 -0.0925  0.0404  0.0000  0.0000  0.0000;\n",
        "  0.0000  0.0000  0.0000  0.0000  0.0000  0.0000  0.7256  0.0000  0.0000  0.0000;\n",
        "  0.0000  0.0000  0.0000  0.0000  0.0000  0.0000  0.0000 -0.5971  0.0000  0.0000;\n",
        "  0.0000  0.0000  0.0000  0.0000  0.0000  0.0000  0.0000  0.0000 -1.2455  0.0000;\n",
        "  0.0000  0.0000  0.0000  0.0000  0.0000  0.0000  0.0000  0.0000  0.0000  1.8594]\n",
        "\n",
        "(0, 7)\n",
        "B11\n",
        "\n",
        "B22\n",
        "[ 2.0658  0.5080  0.0000  0.0000  0.0000  0.0000  0.0000;\n",
        "  0.0000 -0.5195  0.5352  0.0000  0.0000  0.0000  0.0000;\n",
        "  0.0000  0.0000 -1.3307  0.6986  0.0000  0.0000  0.0000;\n",
        "  0.0000  0.0000  0.0000 -0.5527 -0.9603  0.0000  0.0000;\n",
        "  0.0000  0.0000  0.0000  0.0000  0.6723  0.2314  0.0000;\n",
        "  0.0000  0.0000  0.0000  0.0000  0.0000 -0.0925  0.0404;\n",
        "  0.0000  0.0000  0.0000  0.0000  0.0000  0.0000  0.7256]\n",
        "\n",
        "B33\n",
        "[-0.5971  0.0000  0.0000;\n",
        "  0.0000 -1.2455  0.0000;\n",
        "  0.0000  0.0000  1.8594]\n",
        "\n"
       ]
      }
     ],
     "prompt_number": 27
    },
    {
     "cell_type": "markdown",
     "metadata": {},
     "source": [
      "#### Test biDiagPhaseToZero and gks_Step to see if it looks like it will converge \n",
      "Phase shift bidiag matrix so all complex imaginary entries are zero.  gks_Step is an iterative step and the diagonal should converge to singular values and the off diagonal should go to zero."
     ]
    },
    {
     "cell_type": "code",
     "collapsed": false,
     "input": [
      "import pyJvsip as pv\n",
      "from decompositionUtilities import *\n",
      "B=pv.create('mview_d',5,5).fill(0.0)\n",
      "L=eye(B.type,5);R=eye(B.type,5)\n",
      "b0=B.diagview(0).randn(3)\n",
      "b1=B.diagview(1).randn(5)\n",
      "A=B.copy\n",
      "print('%.7f'%B.norm2) #should be largest singular value\n",
      "B.mprint('%.4f')\n",
      "eps0=B.normFro/(float(B.rowlength)*1e15)\n",
      "biDiagPhaseToZero(L,b0,b1,R,eps0)\n",
      "gks_Step(L,b0,b1,R)\n",
      "L.mprint('%.4f'); B.mprint('%.4f'); R.mprint('%.4f'); L.prod(B).prod(R).mprint('%.4f')\n",
      "print('%f'%(A-L.prod(B).prod(R)).normFro)  # should be zero => L and R are correct"
     ],
     "language": "python",
     "metadata": {},
     "outputs": [
      {
       "output_type": "stream",
       "stream": "stdout",
       "text": [
        "2.1316891\n",
        "[ 2.0658  0.5080  0.0000  0.0000  0.0000;\n",
        "  0.0000 -0.5195  0.5352  0.0000  0.0000;\n",
        "  0.0000  0.0000 -1.3307  0.6986  0.0000;\n",
        "  0.0000  0.0000  0.0000 -0.5527 -0.9603;\n",
        "  0.0000  0.0000  0.0000  0.0000  0.6723]\n",
        "\n",
        "[ 0.9957 -0.0788  0.0444  0.0130  0.0152;\n",
        " -0.0926 -0.8470  0.4774  0.1401  0.1629;\n",
        "  0.0000 -0.5258 -0.7757 -0.2277 -0.2647;\n",
        "  0.0000 -0.0000  0.4105 -0.5947 -0.6913;\n",
        "  0.0000 -0.0000  0.0000 -0.7581  0.6521]\n",
        "\n",
        "[ 2.1140 -0.2669  0.0000  0.0000  0.0000;\n",
        "  0.0000  0.4701  0.4015  0.0000  0.0000;\n",
        "  0.0000  0.0000  1.2320  0.9725  0.0000;\n",
        "  0.0000  0.0000  0.0000  0.3594  0.2265;\n",
        "  0.0000  0.0000  0.0000  0.0000  1.2057]\n",
        "\n",
        "[ 0.9262  0.3769  0.0000  0.0000  0.0000;\n",
        " -0.3704  0.9101  0.1857  0.0000  0.0000;\n",
        "  0.0282 -0.0694  0.3964 -0.9150  0.0000;\n",
        "  0.0586 -0.1439  0.8219  0.3688 -0.4053;\n",
        "  0.0260 -0.0638  0.3644  0.1635  0.9142]\n",
        "\n",
        "[ 2.0658  0.5080 -0.0000 -0.0000  0.0000;\n",
        " -0.0000 -0.5195  0.5352 -0.0000 -0.0000;\n",
        " -0.0000  0.0000 -1.3307  0.6986 -0.0000;\n",
        " -0.0000  0.0000 -0.0000 -0.5527 -0.9603;\n",
        "  0.0000  0.0000 -0.0000  0.0000  0.6723]\n",
        "\n",
        "0.000000\n"
       ]
      }
     ],
     "prompt_number": 28
    },
    {
     "cell_type": "code",
     "collapsed": false,
     "input": [
      "for i in range(10):  #iterate a few more times\n",
      "    gks_Step(L,b0,b1,R)\n",
      "L.mprint('%.4f'); B.mprint('%.7f'); R.mprint('%.4f'); L.prod(B).prod(R).mprint('%.4f')\n",
      "print('%f'%(A-L.prod(B).prod(R)).normFro)  # should be zero => L and R are correct"
     ],
     "language": "python",
     "metadata": {},
     "outputs": [
      {
       "output_type": "stream",
       "stream": "stdout",
       "text": [
        "[ 0.9973 -0.0368  0.0054  0.0614  0.0157;\n",
        " -0.0700 -0.6179 -0.1924  0.7374  0.1801;\n",
        "  0.0223 -0.3328 -0.8040 -0.4264 -0.2461;\n",
        " -0.0027 -0.3981  0.4261 -0.0243 -0.8120;\n",
        "  0.0004 -0.5896  0.3674 -0.5196  0.4974]\n",
        "\n",
        "[ 2.1316891 -0.0001037  0.0000000  0.0000000  0.0000000;\n",
        "  0.0000000  0.2550154 -0.2122704  0.0000000  0.0000000;\n",
        "  0.0000000  0.0000000 -0.7106165 -1.0499294  0.0000000;\n",
        "  0.0000000  0.0000000  0.0000000 -1.1192580 -0.0000000;\n",
        "  0.0000000  0.0000000  0.0000000  0.0000000  1.2271786]\n",
        "\n",
        "[ 0.9665  0.2548 -0.0314  0.0080  0.0013;\n",
        " -0.1715  0.6785  0.3642  0.5723 -0.2237;\n",
        "  0.1517 -0.6091 -0.0906  0.7463 -0.2022;\n",
        " -0.1133  0.3144 -0.8596  0.2542  0.2913;\n",
        "  0.0265 -0.0697  0.3454  0.2256  0.9079]\n",
        "\n",
        "[ 2.0658  0.5080  0.0000 -0.0000 -0.0000;\n",
        " -0.0000 -0.5195  0.5352 -0.0000 -0.0000;\n",
        "  0.0000 -0.0000 -1.3307  0.6986 -0.0000;\n",
        " -0.0000  0.0000  0.0000 -0.5527 -0.9603;\n",
        " -0.0000  0.0000 -0.0000  0.0000  0.6723]\n",
        "\n",
        "0.000000\n"
       ]
      }
     ],
     "prompt_number": 29
    },
    {
     "cell_type": "code",
     "collapsed": false,
     "input": [
      "B=pv.create('cmview_d',5,5).fill(0.0)\n",
      "L=eye(B.type,5);R=eye(B.type,5)\n",
      "b0=B.diagview(0);b0.realview.randn(3);b0.imagview.randn(4)\n",
      "b1=B.diagview(1);b1.realview.randn(5);b1.imagview.randn(6)\n",
      "A=B.copy\n",
      "print('%.7f'%B.norm2)\n",
      "B.mprint('%.7f')\n",
      "eps0=B.normFro/(float(B.rowlength)*1e15)\n",
      "biDiagPhaseToZero(L,b0,b1,R,eps0)\n",
      "gks_Step(L,b0.realview,b1.realview,R)\n",
      "L.mprint('%.4f'); B.mprint('%.4f'); R.mprint('%.4f'); L.prod(B).prod(R).mprint('%.4f')\n",
      "print('%f'%(A-L.prod(B).prod(R)).normFro)  # should be zero => L and R are correct"
     ],
     "language": "python",
     "metadata": {},
     "outputs": [
      {
       "output_type": "stream",
       "stream": "stdout",
       "text": [
        "2.9768867\n",
        "[ 2.0657914-1.2130931i  0.5080224-0.7708622i  0.0000000+0.0000000i  0.0000000+0.0000000i  0.0000000+0.0000000i;\n",
        "  0.0000000+0.0000000i -0.5194937+1.5078282i  0.5351500-1.4375282i  0.0000000+0.0000000i  0.0000000+0.0000000i;\n",
        "  0.0000000+0.0000000i  0.0000000+0.0000000i -1.3306982+1.6839716i  0.6986414-0.2866888i  0.0000000+0.0000000i;\n",
        "  0.0000000+0.0000000i  0.0000000+0.0000000i  0.0000000+0.0000000i -0.5526711+0.2435293i -0.9602704-2.1640701i;\n",
        "  0.0000000+0.0000000i  0.0000000+0.0000000i  0.0000000+0.0000000i  0.0000000+0.0000000i  0.6722805+0.4518515i]\n",
        "\n",
        "[ 0.0173-0.0102i  0.3450-0.2026i -0.6430+0.3776i -0.0991+0.0582i -0.4484+0.2633i;\n",
        "  0.7094-0.7045i -0.0057+0.0057i  0.0106-0.0106i  0.0016-0.0016i  0.0074-0.0074i;\n",
        "  0.0000+0.0000i  0.8173-0.4147i  0.2904-0.1473i  0.0447-0.0227i  0.2025-0.1027i;\n",
        "  0.0000+0.0000i  0.0000+0.0000i  0.5114-0.2762i -0.1544+0.0834i -0.6992+0.3776i;\n",
        "  0.0000+0.0000i  0.0000+0.0000i  0.0000+0.0000i -0.4803+0.8502i  0.1061-0.1878i]\n",
        "\n",
        "[ 1.4817+0.0000i -1.6255+0.0000i  0.0000+0.0000i  0.0000+0.0000i  0.0000+0.0000i;\n",
        "  0.0000+0.0000i  2.2094+0.0000i -0.7613+0.0000i  0.0000+0.0000i  0.0000+0.0000i;\n",
        "  0.0000+0.0000i  0.0000+0.0000i  0.9447+0.0000i  2.2731+0.0000i  0.0000+0.0000i;\n",
        "  0.0000+0.0000i  0.0000+0.0000i  0.0000+0.0000i  0.5022+0.0000i -0.0897+0.0000i;\n",
        "  0.0000+0.0000i  0.0000+0.0000i  0.0000+0.0000i  0.0000+0.0000i  2.5831+0.0000i]\n",
        "\n",
        "[ 0.3704+0.0000i -0.8335+0.4100i  0.0000+0.0000i  0.0000+0.0000i  0.0000+0.0000i;\n",
        "  0.3080+0.0000i  0.1102-0.0542i -0.8565+0.3955i  0.0000+0.0000i  0.0000+0.0000i;\n",
        " -0.3650+0.0000i -0.1306+0.0642i -0.1254+0.0579i -0.9062-0.0728i -0.0000+0.0000i;\n",
        " -0.6341+0.0000i -0.2269+0.1116i -0.2178+0.1006i  0.3305+0.0265i  0.0469-0.6036i;\n",
        " -0.4823+0.0000i -0.1726+0.0849i -0.1657+0.0765i  0.2514+0.0202i -0.0616+0.7936i]\n",
        "\n",
        "[ 2.0658-1.2131i  0.5080-0.7709i  0.0000-0.0000i -0.0000+0.0000i -0.0000-0.0000i;\n",
        " -0.0000-0.0000i -0.5195+1.5078i  0.5352-1.4375i  0.0000-0.0000i  0.0000+0.0000i;\n",
        " -0.0000+0.0000i -0.0000+0.0000i -1.3307+1.6840i  0.6986-0.2867i  0.0000+0.0000i;\n",
        "  0.0000-0.0000i  0.0000-0.0000i  0.0000-0.0000i -0.5527+0.2435i -0.9603-2.1641i;\n",
        "  0.0000+0.0000i  0.0000-0.0000i  0.0000-0.0000i  0.0000-0.0000i  0.6723+0.4519i]\n",
        "\n",
        "0.000000\n"
       ]
      }
     ],
     "prompt_number": 30
    },
    {
     "cell_type": "code",
     "collapsed": false,
     "input": [
      "for i in range(10):\n",
      "    gks_Step(L,b0.realview,b1.realview,R)\n",
      "B.mprint('%.8f')"
     ],
     "language": "python",
     "metadata": {},
     "outputs": [
      {
       "output_type": "stream",
       "stream": "stdout",
       "text": [
        "[ 0.31366823+0.00000000i -0.99411694+0.00000000i  0.00000000+0.00000000i  0.00000000+0.00000000i  0.00000000+0.00000000i;\n",
        "  0.00000000+0.00000000i  0.66662401+0.00000000i -0.00431350+0.00000000i  0.00000000+0.00000000i  0.00000000+0.00000000i;\n",
        "  0.00000000+0.00000000i  0.00000000+0.00000000i  2.97688340+0.00000000i  0.00000003+0.00000000i  0.00000000+0.00000000i;\n",
        "  0.00000000+0.00000000i  0.00000000+0.00000000i  0.00000000+0.00000000i  2.49278187+0.00000000i  0.00000000+0.00000000i;\n",
        "  0.00000000+0.00000000i  0.00000000+0.00000000i  0.00000000+0.00000000i  0.00000000+0.00000000i  2.58531379+0.00000000i]\n",
        "\n"
       ]
      }
     ],
     "prompt_number": 31
    }
   ],
   "metadata": {}
  }
 ]
}