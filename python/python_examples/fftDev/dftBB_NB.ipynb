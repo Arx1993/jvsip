{
 "cells": [
  {
   "cell_type": "markdown",
   "metadata": {},
   "source": [
    "## Building Blocks\n",
    "FFT code is made up of small DFT building blocks."
   ]
  },
  {
   "cell_type": "code",
   "execution_count": 1,
   "metadata": {
    "collapsed": true
   },
   "outputs": [],
   "source": [
    "import pyJvsip as pv\n",
    "from math import pi"
   ]
  },
  {
   "cell_type": "code",
   "execution_count": 2,
   "metadata": {
    "collapsed": true
   },
   "outputs": [],
   "source": [
    "def dftCoefE(n):\n",
    "     m=pv.create('cmview_d',n,n)\n",
    "     for i in range(n):\n",
    "         for j in range(n):\n",
    "             t=(i*j)%n\n",
    "             x=2.0*pi/n * float(t)\n",
    "             m[i,j]=complex(cos(x),-sin(x))\n",
    "     return m"
   ]
  },
  {
   "cell_type": "code",
   "execution_count": 3,
   "metadata": {
    "collapsed": true
   },
   "outputs": [],
   "source": [
    "def dftLut(t,n):\n",
    "    lut=pv.create(t,n)\n",
    "    w=2.0 * pi / n\n",
    "    lut.realview.ramp(0,w)\n",
    "    pv.sin(lut.realview,lut.imagview)\n",
    "    lut.imagview.neg\n",
    "    lut.realview.cos\n",
    "    return lut"
   ]
  },
  {
   "cell_type": "code",
   "execution_count": 4,
   "metadata": {
    "collapsed": true
   },
   "outputs": [],
   "source": [
    "def dftBB0(x):\n",
    "    n=x.length\n",
    "    if x.type in ['cvview_d','vview_d']:\n",
    "        t = 'cvview_d'\n",
    "    elif x.type in ['cvview_f','vview_f']:\n",
    "        t = 'cvview_f'\n",
    "    else:\n",
    "        exit\n",
    "    y=pv.create(t,x.length).fill(0.0)\n",
    "    lut=dftLut(t,n)\n",
    "    for i in range(n):\n",
    "        for j in range(x.length):\n",
    "            thta=(i*j) % n\n",
    "            y[i] += x[j] * lut[thta]\n",
    "    return y\n",
    "def dftBB1(x):\n",
    "    n=x.length\n",
    "    if x.type in ['cvview_d','vview_d']:\n",
    "        t = 'cvview_d'\n",
    "    elif x.type in ['cvview_f','vview_f']:\n",
    "        t = 'cvview_f'\n",
    "    else:\n",
    "        exit\n",
    "    y=pv.create(t,x.length).fill(0.0)\n",
    "    lut=dftLut(t,n)\n",
    "    for i in range(n):\n",
    "        t=0.0\n",
    "        for j in range(x.length):\n",
    "            thta=(i*j) % n\n",
    "            t+= x[j] * lut[thta]\n",
    "        y[i]=t\n",
    "    return y\n",
    "def dftBB2(x):\n",
    "    n=x.length\n",
    "    if x.type in ['cvview_d','vview_d']:\n",
    "        t = 'cvview_d'\n",
    "    elif x.type in ['cvview_f','vview_f']:\n",
    "        t = 'cvview_f'\n",
    "    else:\n",
    "        exit\n",
    "    y=pv.create(t,x.length).fill(0.0)\n",
    "    lut=dftLut(t,n)\n",
    "    for j in range(n):\n",
    "        t=x[j]\n",
    "        for i in range(x.length):\n",
    "            thta=(i*j) % n\n",
    "            y[i] += t * lut[thta]\n",
    "    return y"
   ]
  },
  {
   "cell_type": "code",
   "execution_count": 5,
   "metadata": {},
   "outputs": [
    {
     "name": "stdout",
     "output_type": "stream",
     "text": [
      "[ 0.617-0.147i -0.109-0.068i  0.021-0.137i  0.514+0.308i  0.801+0.501i -0.102-0.608i -0.718-0.443i -0.242+0.354i  0.182-1.061i  0.050-0.726i  0.664-0.858i -0.623-0.531i -0.261-0.140i -0.216-0.678i -0.377-0.522i  0.585-0.611i -0.323+0.219i  0.829+1.505i  0.567+0.668i -0.949-0.322i -0.750+0.447i  0.908-1.522i  0.430+0.775i  0.351-0.299i -0.906-0.329i -0.062+0.052i -0.243-0.454i -0.078+0.586i  1.053-0.065i -0.261+0.667i  1.275+1.124i -0.484-0.803i -0.491-0.586i  0.233+0.855i -0.025-0.226i  0.151+0.104i  0.207+0.639i  1.147-0.286i  0.690+0.595i -0.434-0.452i  0.586-0.292i -0.780-1.629i  0.170-1.758i  0.171-0.587i -0.396+0.513i -0.100-0.542i  0.666+0.645i -0.494-0.808i  0.072+0.953i  1.553+0.573i  1.003-0.272i -0.812-0.042i  0.474+0.154i  0.162-0.245i  0.158+0.124i -0.632-0.669i -0.698-0.311i  1.533-0.052i  0.344-1.099i -0.318+0.449i -0.119+0.797i -0.002-0.525i -0.419+0.273i -0.294-0.066i -1.303+0.599i  1.613+0.500i -1.222+0.323i -0.092-0.137i  0.227+0.319i -0.130+1.505i  0.310+0.721i  0.099+0.735i  0.264-0.497i -0.109-0.251i  0.098-0.557i  0.391+0.442i  1.748+0.237i -0.861-0.253i  0.182-0.510i -0.354+0.234i  0.094+0.365i -0.385+0.729i -0.193-0.395i  1.432-0.307i  0.018-0.291i -1.435+0.118i  0.994-1.008i  0.474-0.304i -0.134-0.713i  0.681-0.008i  0.622+0.039i  0.606+0.389i  0.445+0.534i  0.805-0.447i  1.005+1.029i  0.229+0.152i  0.345+0.515i  0.133+0.602i -0.031-0.132i -0.741-0.430i]\n",
      "\n"
     ]
    }
   ],
   "source": [
    "z=pv.create('cvview_d',100).randn(5)\n",
    "z.mprint(\"%4.3f\")"
   ]
  },
  {
   "cell_type": "code",
   "execution_count": 6,
   "metadata": {},
   "outputs": [
    {
     "name": "stdout",
     "output_type": "stream",
     "text": [
      "10000 loops, best of 3: 97.6 µs per loop\n"
     ]
    }
   ],
   "source": [
    "%%timeit\n",
    "Z=z.fftop"
   ]
  },
  {
   "cell_type": "code",
   "execution_count": 13,
   "metadata": {},
   "outputs": [
    {
     "name": "stdout",
     "output_type": "stream",
     "text": [
      "[ 11.2713-3.0433i -3.0059+0.1030i  4.0063+2.4526i -7.8558+9.6842i -3.4939+7.8698i -7.8666+2.2217i -5.0741+7.4279i  1.8287-10.7265i  2.7870-5.5838i  3.9311-12.1205i -4.7574+3.1582i -0.8201-3.7988i  6.5829-6.1923i -2.7928+4.2443i  4.8919-10.1199i -10.3236-13.3710i -3.1681-0.7968i -1.4950+8.3733i  3.1993+6.2261i  13.9110-7.4186i -6.8505+4.4310i -0.9315+0.1972i -3.6699-0.7540i  4.2380-0.9593i  7.8478+1.5796i -2.3460-2.2259i -5.7385+8.2776i -8.2400-2.5511i  12.0368-7.9904i  6.9861-3.9677i  3.9237+6.8430i  7.0449-0.0490i  2.4706+9.5115i  0.0506-3.3325i  1.3970-3.9247i  3.0118-0.2726i -3.8862-4.2917i  13.3230+7.6638i -3.9932+0.2644i -13.6667+2.4952i  4.7057-3.5383i -3.3860-5.5461i  1.9559+0.2012i  3.6542-7.4617i -1.6865-2.0883i -2.8499+0.9963i  16.0456+4.2971i  0.7982+5.7614i  1.5435-3.2600i -4.0395-3.5765i  4.1749+3.6496i  8.1814-4.5988i  0.8569+13.0625i -2.9710-8.2845i -0.0281-4.2680i -2.6741+9.0621i -5.9769+1.5703i  7.7744-6.9123i  1.4883-1.7450i -3.9282+8.1848i  15.0299+4.1305i  4.9426-1.1986i -3.9975-24.2012i  2.1159+8.0659i -2.7355+0.9745i  4.6067+5.3586i -5.2009+3.6072i  4.2459+7.2705i -5.5477-6.5682i -10.1687+3.4702i  7.7585+4.7107i  5.3522+2.0970i  7.4981+6.2174i -5.4201+10.7197i  2.6598-12.9536i -6.1035+11.0526i  5.7700-4.7105i  8.2129+6.9341i  4.0166-9.1910i  1.9944-3.5818i  0.5389+2.3332i -14.3046-2.5908i -0.9729-5.9627i  5.4659-2.1674i -1.6147+2.0673i -8.2652-0.2249i  0.0732+1.2091i  0.7934-1.0859i -2.4319-3.0352i  0.8568+11.9639i  7.2207-3.4440i -14.2775-2.8123i -0.6978-4.0576i -6.4640-3.1859i  1.8416+14.1074i -1.6614-8.4446i  7.8587+3.2676i  6.2370+5.3689i  1.0519-12.7135i  7.0229-2.5700i]\n",
      "\n"
     ]
    }
   ],
   "source": [
    "Z = z.fftop\n",
    "Z.mprint(\"%5.4f\")"
   ]
  },
  {
   "cell_type": "code",
   "execution_count": 8,
   "metadata": {},
   "outputs": [
    {
     "data": {
      "text/plain": [
       "<pyJvsip.__View at 0x10358b550>"
      ]
     },
     "execution_count": 8,
     "metadata": {},
     "output_type": "execute_result"
    }
   ],
   "source": [
    "zc = z.copy\n",
    "zc.fftip"
   ]
  },
  {
   "cell_type": "code",
   "execution_count": 9,
   "metadata": {},
   "outputs": [
    {
     "data": {
      "text/plain": [
       "3.783544127539284e-14"
      ]
     },
     "execution_count": 9,
     "metadata": {},
     "output_type": "execute_result"
    }
   ],
   "source": [
    "(Z-zc).normFro"
   ]
  },
  {
   "cell_type": "code",
   "execution_count": 10,
   "metadata": {},
   "outputs": [
    {
     "name": "stdout",
     "output_type": "stream",
     "text": [
      "0.00000e+00\n",
      "0.00000e+00\n",
      "0.00000e+00\n",
      "0.00000e+00\n",
      "1 loop, best of 3: 794 ms per loop\n"
     ]
    }
   ],
   "source": [
    "%%timeit\n",
    "Zbb=dftBB0(z)\n",
    "print('%.5e'%(Z-Zbb).normFro)"
   ]
  },
  {
   "cell_type": "code",
   "execution_count": 11,
   "metadata": {},
   "outputs": [
    {
     "name": "stdout",
     "output_type": "stream",
     "text": [
      "0.00000e+00\n",
      "0.00000e+00\n",
      "0.00000e+00\n",
      "0.00000e+00\n",
      "1 loop, best of 3: 504 ms per loop\n"
     ]
    }
   ],
   "source": [
    "%%timeit\n",
    "Zbb=dftBB1(z)\n",
    "print('%.5e'%(Z-Zbb).normFro)"
   ]
  },
  {
   "cell_type": "code",
   "execution_count": 12,
   "metadata": {},
   "outputs": [
    {
     "name": "stdout",
     "output_type": "stream",
     "text": [
      "0.00000e+00\n",
      "0.00000e+00\n",
      "0.00000e+00\n",
      "0.00000e+00\n",
      "1 loop, best of 3: 586 ms per loop\n"
     ]
    }
   ],
   "source": [
    "%%timeit\n",
    "Zbb=dftBB2(z)\n",
    "print('%.5e'%(Z-Zbb).normFro)"
   ]
  },
  {
   "cell_type": "code",
   "execution_count": null,
   "metadata": {
    "collapsed": true
   },
   "outputs": [],
   "source": []
  }
 ],
 "metadata": {
  "kernelspec": {
   "display_name": "Python 2",
   "language": "python",
   "name": "python2"
  },
  "language_info": {
   "codemirror_mode": {
    "name": "ipython",
    "version": 2
   },
   "file_extension": ".py",
   "mimetype": "text/x-python",
   "name": "python",
   "nbconvert_exporter": "python",
   "pygments_lexer": "ipython2",
   "version": "2.7.13"
  }
 },
 "nbformat": 4,
 "nbformat_minor": 1
}
