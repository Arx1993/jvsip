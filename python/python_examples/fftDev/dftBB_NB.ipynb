{
 "metadata": {
  "name": ""
 },
 "nbformat": 3,
 "nbformat_minor": 0,
 "worksheets": [
  {
   "cells": [
    {
     "cell_type": "markdown",
     "metadata": {},
     "source": [
      "## Building Blocks\n",
      "FFT code is made up of small DFT building blocks."
     ]
    },
    {
     "cell_type": "code",
     "collapsed": false,
     "input": [
      "import pyJvsip as pv\n",
      "from math import pi"
     ],
     "language": "python",
     "metadata": {},
     "outputs": [],
     "prompt_number": 1
    },
    {
     "cell_type": "code",
     "collapsed": false,
     "input": [
      "def dftCoefE(n):\n",
      "     m=pv.create('cmview_d',n,n)\n",
      "     for i in range(n):\n",
      "         for j in range(n):\n",
      "             t=(i*j)%n\n",
      "             x=2.0*pi/n * float(t)\n",
      "             m[i,j]=complex(cos(x),-sin(x))\n",
      "     return m"
     ],
     "language": "python",
     "metadata": {},
     "outputs": [],
     "prompt_number": 2
    },
    {
     "cell_type": "code",
     "collapsed": false,
     "input": [
      "def dftLut(t,n):\n",
      "    lut=pv.create(t,n)\n",
      "    w=2.0 * pi / n\n",
      "    lut.realview.ramp(0,w)\n",
      "    pv.sin(lut.realview,lut.imagview)\n",
      "    lut.imagview.neg\n",
      "    lut.realview.cos\n",
      "    return lut"
     ],
     "language": "python",
     "metadata": {},
     "outputs": [],
     "prompt_number": 3
    },
    {
     "cell_type": "code",
     "collapsed": false,
     "input": [
      "def dftBB0(x):\n",
      "    n=x.length\n",
      "    if x.type in ['cvview_d','vview_d']:\n",
      "        t = 'cvview_d'\n",
      "    elif x.type in ['cvview_f','vview_f']:\n",
      "        t = 'cvview_f'\n",
      "    else:\n",
      "        exit\n",
      "    y=pv.create(t,x.length).fill(0.0)\n",
      "    lut=dftLut(t,n)\n",
      "    for i in range(n):\n",
      "        for j in range(x.length):\n",
      "            thta=(i*j) % n\n",
      "            y[i] += x[j] * lut[thta]\n",
      "    return y\n",
      "def dftBB1(x):\n",
      "    n=x.length\n",
      "    if x.type in ['cvview_d','vview_d']:\n",
      "        t = 'cvview_d'\n",
      "    elif x.type in ['cvview_f','vview_f']:\n",
      "        t = 'cvview_f'\n",
      "    else:\n",
      "        exit\n",
      "    y=pv.create(t,x.length).fill(0.0)\n",
      "    lut=dftLut(t,n)\n",
      "    for i in range(n):\n",
      "        t=0.0\n",
      "        for j in range(x.length):\n",
      "            thta=(i*j) % n\n",
      "            t+= x[j] * lut[thta]\n",
      "        y[i]=t\n",
      "    return y\n",
      "def dftBB2(x):\n",
      "    n=x.length\n",
      "    if x.type in ['cvview_d','vview_d']:\n",
      "        t = 'cvview_d'\n",
      "    elif x.type in ['cvview_f','vview_f']:\n",
      "        t = 'cvview_f'\n",
      "    else:\n",
      "        exit\n",
      "    y=pv.create(t,x.length).fill(0.0)\n",
      "    lut=dftLut(t,n)\n",
      "    for j in range(n):\n",
      "        t=x[j]\n",
      "        for i in range(x.length):\n",
      "            thta=(i*j) % n\n",
      "            y[i] += t * lut[thta]\n",
      "    return y"
     ],
     "language": "python",
     "metadata": {},
     "outputs": [],
     "prompt_number": 18
    },
    {
     "cell_type": "code",
     "collapsed": false,
     "input": [
      "z=pv.create('cvview_d',100).randn(5)"
     ],
     "language": "python",
     "metadata": {},
     "outputs": [],
     "prompt_number": 5
    },
    {
     "cell_type": "code",
     "collapsed": false,
     "input": [
      "%%timeit\n",
      "Z=z.fftop"
     ],
     "language": "python",
     "metadata": {},
     "outputs": [
      {
       "output_type": "stream",
       "stream": "stdout",
       "text": [
        "1000 loops, best of 3: 204 \u00b5s per loop\n"
       ]
      }
     ],
     "prompt_number": 13
    },
    {
     "cell_type": "code",
     "collapsed": false,
     "input": [
      "zc=z.copy"
     ],
     "language": "python",
     "metadata": {},
     "outputs": [],
     "prompt_number": 26
    },
    {
     "cell_type": "code",
     "collapsed": false,
     "input": [
      "zc.fftip"
     ],
     "language": "python",
     "metadata": {},
     "outputs": [
      {
       "metadata": {},
       "output_type": "pyout",
       "prompt_number": 27,
       "text": [
        "<pyJvsip.__View at 0x10ff4c150>"
       ]
      }
     ],
     "prompt_number": 27
    },
    {
     "cell_type": "code",
     "collapsed": false,
     "input": [
      "(Z-zc).normFro"
     ],
     "language": "python",
     "metadata": {},
     "outputs": [
      {
       "metadata": {},
       "output_type": "pyout",
       "prompt_number": 28,
       "text": [
        "0.0"
       ]
      }
     ],
     "prompt_number": 28
    },
    {
     "cell_type": "code",
     "collapsed": false,
     "input": [
      "%%timeit\n",
      "Zbb=dftBB0(z)\n",
      "print('%.5e'%(Z-Zbb).normFro)"
     ],
     "language": "python",
     "metadata": {},
     "outputs": [
      {
       "output_type": "stream",
       "stream": "stdout",
       "text": [
        "3.78354e-14\n",
        "3.78354e-14"
       ]
      },
      {
       "output_type": "stream",
       "stream": "stdout",
       "text": [
        "\n",
        "3.78354e-14"
       ]
      },
      {
       "output_type": "stream",
       "stream": "stdout",
       "text": [
        "\n",
        "3.78354e-14"
       ]
      },
      {
       "output_type": "stream",
       "stream": "stdout",
       "text": [
        "\n",
        "1 loops, best of 3: 1.01 s per loop\n"
       ]
      }
     ],
     "prompt_number": 20
    },
    {
     "cell_type": "code",
     "collapsed": false,
     "input": [
      "%%timeit\n",
      "Zbb=dftBB1(z)\n",
      "print('%.5e'%(Z-Zbb).normFro)"
     ],
     "language": "python",
     "metadata": {},
     "outputs": [
      {
       "output_type": "stream",
       "stream": "stdout",
       "text": [
        "3.78354e-14\n",
        "3.78354e-14"
       ]
      },
      {
       "output_type": "stream",
       "stream": "stdout",
       "text": [
        "\n",
        "3.78354e-14"
       ]
      },
      {
       "output_type": "stream",
       "stream": "stdout",
       "text": [
        "\n",
        "3.78354e-14"
       ]
      },
      {
       "output_type": "stream",
       "stream": "stdout",
       "text": [
        "\n",
        "1 loops, best of 3: 521 ms per loop\n"
       ]
      }
     ],
     "prompt_number": 21
    },
    {
     "cell_type": "code",
     "collapsed": false,
     "input": [
      "%%timeit\n",
      "Zbb=dftBB2(z)\n",
      "print('%.5e'%(Z-Zbb).normFro)"
     ],
     "language": "python",
     "metadata": {},
     "outputs": [
      {
       "output_type": "stream",
       "stream": "stdout",
       "text": [
        "3.78354e-14\n",
        "3.78354e-14"
       ]
      },
      {
       "output_type": "stream",
       "stream": "stdout",
       "text": [
        "\n",
        "3.78354e-14"
       ]
      },
      {
       "output_type": "stream",
       "stream": "stdout",
       "text": [
        "\n",
        "3.78354e-14"
       ]
      },
      {
       "output_type": "stream",
       "stream": "stdout",
       "text": [
        "\n",
        "1 loops, best of 3: 725 ms per loop\n"
       ]
      }
     ],
     "prompt_number": 22
    },
    {
     "cell_type": "code",
     "collapsed": false,
     "input": [],
     "language": "python",
     "metadata": {},
     "outputs": []
    }
   ],
   "metadata": {}
  }
 ]
}