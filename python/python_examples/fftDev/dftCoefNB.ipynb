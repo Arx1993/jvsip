{
 "metadata": {
  "name": ""
 },
 "nbformat": 3,
 "nbformat_minor": 0,
 "worksheets": [
  {
   "cells": [
    {
     "cell_type": "markdown",
     "metadata": {},
     "source": [
      "### Discrete Fourier Transform Coefficients   \n",
      "In this notebook I explore the baseline DFT and examine the decomposition of the coefficient matrix. At the moment this is mostly play to see what I can learn.\n",
      "\n",
      "####Reference\n",
      "My primary reference is Charles Van Loan's Computational Frameworks for the Fast Fourier Transform.\n",
      "There are  many references available but I won't try and list them here.\n"
     ]
    },
    {
     "cell_type": "code",
     "collapsed": false,
     "input": [
      "import pyJvsip as pv"
     ],
     "language": "python",
     "metadata": {},
     "outputs": [],
     "prompt_number": 1
    },
    {
     "cell_type": "markdown",
     "metadata": {},
     "source": [
      "The DFT matrix is square and complex. We designate it as $F_n$ where n is the size of the matrix. If we have a (column) vector $\\vec x$ of size $n$ then the dft is   \n",
      "$\\vec X = F_n \\vec x$.   \n",
      "Elements of $F_n$ are designated $f_{q,p}$.  These elements are equally spaced around the unit circle in the complex plane at increments of ${2  \\pi} \\over {n}$ so that    \n",
      "$f_{q,p}$ = `complex`$\\left(\\cos(2 q p \\pi/n),-\\sin(2 q p \\pi/n)\\right)$   \n",
      "Since $q$ and $p$ traverse all value pairs between $0$ and $n-1$ and go around the unit circle more than once if we set $t$ to the $pq$ modulo $n$ then we can compute just a vector of DFT weights from $0$ to $n-1$ and look up the proper value with index $t$.\n"
     ]
    },
    {
     "cell_type": "markdown",
     "metadata": {},
     "source": [
      "Below we define functions to return the matrix of DFT weights for matrix of size n. The function dftCoefE returns the actual weight. The function dftCoef returns the matrix of index values $t$ described above."
     ]
    },
    {
     "cell_type": "code",
     "collapsed": false,
     "input": [
      "def dftCoefE(n):\n",
      "     m=pv.create('cmview_d',n,n)\n",
      "     for i in range(n):\n",
      "         for j in range(n):\n",
      "             t=(i*j)%n\n",
      "             x=2.0*pi/n * float(t)\n",
      "             m[i,j]=complex(cos(x),-sin(x))\n",
      "     return m\n",
      "\n",
      "def dftCoef(n):\n",
      "    m=pv.create('mview_d',n,n)\n",
      "    for i in range(n):\n",
      "        for j in range(n):\n",
      "            m[i,j]=(i*j)%n\n",
      "    return m"
     ],
     "language": "python",
     "metadata": {},
     "outputs": [],
     "prompt_number": 7
    },
    {
     "cell_type": "code",
     "collapsed": false,
     "input": [
      "A=dftCoefE(4)\n",
      "A.mprint('%.3f')"
     ],
     "language": "python",
     "metadata": {},
     "outputs": [
      {
       "output_type": "stream",
       "stream": "stdout",
       "text": [
        "[ 1.000-0.000i  1.000-0.000i  1.000-0.000i  1.000-0.000i;\n",
        "  1.000-0.000i  0.000-1.000i -1.000-0.000i -0.000+1.000i;\n",
        "  1.000-0.000i -1.000-0.000i  1.000-0.000i -1.000-0.000i;\n",
        "  1.000-0.000i -0.000+1.000i -1.000-0.000i  0.000-1.000i]\n",
        "\n"
       ]
      }
     ],
     "prompt_number": 8
    },
    {
     "cell_type": "code",
     "collapsed": false,
     "input": [
      "B=dftCoef(4)\n",
      "B.mprint('%.3f')"
     ],
     "language": "python",
     "metadata": {},
     "outputs": [
      {
       "output_type": "stream",
       "stream": "stdout",
       "text": [
        "[ 0.000  0.000  0.000  0.000;\n",
        "  0.000  1.000  2.000  3.000;\n",
        "  0.000  2.000  0.000  2.000;\n",
        "  0.000  3.000  2.000  1.000]\n",
        "\n"
       ]
      }
     ],
     "prompt_number": 9
    },
    {
     "cell_type": "code",
     "collapsed": false,
     "input": [
      "dftCoef(5).mprint('%.1f')"
     ],
     "language": "python",
     "metadata": {},
     "outputs": [
      {
       "output_type": "stream",
       "stream": "stdout",
       "text": [
        "[ 0.0  0.0  0.0  0.0  0.0;\n",
        "  0.0  1.0  2.0  3.0  4.0;\n",
        "  0.0  2.0  4.0  1.0  3.0;\n",
        "  0.0  3.0  1.0  4.0  2.0;\n",
        "  0.0  4.0  3.0  2.0  1.0]\n",
        "\n"
       ]
      }
     ],
     "prompt_number": 11
    },
    {
     "cell_type": "code",
     "collapsed": false,
     "input": [
      "dftCoef(3).sv.mprint('%.3f')"
     ],
     "language": "python",
     "metadata": {},
     "outputs": [
      {
       "output_type": "stream",
       "stream": "stdout",
       "text": [
        "[ 3.000  1.000  0.000]\n",
        "\n"
       ]
      }
     ],
     "prompt_number": 14
    },
    {
     "cell_type": "code",
     "collapsed": false,
     "input": [
      "dftCoef(5).sv.mprint('%.3f')"
     ],
     "language": "python",
     "metadata": {},
     "outputs": [
      {
       "output_type": "stream",
       "stream": "stdout",
       "text": [
        "[ 10.000  3.162  3.162  0.000  0.000]\n",
        "\n"
       ]
      }
     ],
     "prompt_number": 15
    },
    {
     "cell_type": "code",
     "collapsed": false,
     "input": [
      "dftCoef(7).sv.mprint('%.3f')"
     ],
     "language": "python",
     "metadata": {},
     "outputs": [
      {
       "output_type": "stream",
       "stream": "stdout",
       "text": [
        "[ 21.000  7.000  5.292  5.292  0.000  0.000  0.000]\n",
        "\n"
       ]
      }
     ],
     "prompt_number": 16
    },
    {
     "cell_type": "code",
     "collapsed": false,
     "input": [
      "dftCoef(11).sv.mprint('%.3f')"
     ],
     "language": "python",
     "metadata": {},
     "outputs": [
      {
       "output_type": "stream",
       "stream": "stdout",
       "text": [
        "[ 55.000  16.565  16.565  11.000  8.810  8.810  0.000  0.000  0.000  0.000  0.000]\n",
        "\n"
       ]
      }
     ],
     "prompt_number": 17
    },
    {
     "cell_type": "code",
     "collapsed": false,
     "input": [
      "dftCoef(13).sv.mprint('%.3f')"
     ],
     "language": "python",
     "metadata": {},
     "outputs": [
      {
       "output_type": "stream",
       "stream": "stdout",
       "text": [
        "[ 78.000  20.979  20.979  18.385  18.385  8.937  8.937  0.000  0.000  0.000  0.000  0.000  0.000]\n",
        "\n"
       ]
      }
     ],
     "prompt_number": 18
    },
    {
     "cell_type": "code",
     "collapsed": false,
     "input": [
      "dftCoef(17).sv.mprint('%.3f')"
     ],
     "language": "python",
     "metadata": {},
     "outputs": [
      {
       "output_type": "stream",
       "stream": "stdout",
       "text": [
        "[ 136.000  36.780  36.780  27.867  27.867  22.097  22.097  10.119  10.119  0.000  0.000  0.000  0.000  0.000  0.000  0.000  0.000]\n",
        "\n"
       ]
      }
     ],
     "prompt_number": 19
    },
    {
     "cell_type": "code",
     "collapsed": false,
     "input": [
      "dftCoef(3*2).sv.mprint('%.3f')"
     ],
     "language": "python",
     "metadata": {},
     "outputs": [
      {
       "output_type": "stream",
       "stream": "stdout",
       "text": [
        "[ 12.970  4.606  4.074  2.606  2.044  0.000]\n",
        "\n"
       ]
      }
     ],
     "prompt_number": 20
    },
    {
     "cell_type": "code",
     "collapsed": false,
     "input": [
      "dftCoef(2).sv.mprint('%.3f')"
     ],
     "language": "python",
     "metadata": {},
     "outputs": [
      {
       "output_type": "stream",
       "stream": "stdout",
       "text": [
        "[ 1.000  0.000]\n",
        "\n"
       ]
      }
     ],
     "prompt_number": 26
    },
    {
     "cell_type": "markdown",
     "metadata": {},
     "source": [
      "So, playing, I notice if I find the singular values of the $t$ values matrix and I use a prime number for $n$ then the largest singular value is an integer equal to (n-1)/2 * n.  Don't know if this is of use but is interesting."
     ]
    },
    {
     "cell_type": "code",
     "collapsed": false,
     "input": [
      "136/17\n",
      "(17-1)/2*17"
     ],
     "language": "python",
     "metadata": {},
     "outputs": [
      {
       "metadata": {},
       "output_type": "pyout",
       "prompt_number": 28,
       "text": [
        "136"
       ]
      }
     ],
     "prompt_number": 28
    },
    {
     "cell_type": "code",
     "collapsed": false,
     "input": [
      "print('%d, %d'%(78/13, (13-1)/2*13))"
     ],
     "language": "python",
     "metadata": {},
     "outputs": [
      {
       "output_type": "stream",
       "stream": "stdout",
       "text": [
        "6, 78\n"
       ]
      }
     ],
     "prompt_number": 30
    },
    {
     "cell_type": "code",
     "collapsed": false,
     "input": [
      "print('%d, %d'%(55/11, (11-1)/2*11))"
     ],
     "language": "python",
     "metadata": {},
     "outputs": [
      {
       "output_type": "stream",
       "stream": "stdout",
       "text": [
        "5, 55\n"
       ]
      }
     ],
     "prompt_number": 31
    },
    {
     "cell_type": "code",
     "collapsed": false,
     "input": [
      "21/7"
     ],
     "language": "python",
     "metadata": {},
     "outputs": [
      {
       "metadata": {},
       "output_type": "pyout",
       "prompt_number": 24,
       "text": [
        "3"
       ]
      }
     ],
     "prompt_number": 24
    },
    {
     "cell_type": "code",
     "collapsed": false,
     "input": [
      "3/3"
     ],
     "language": "python",
     "metadata": {},
     "outputs": [
      {
       "metadata": {},
       "output_type": "pyout",
       "prompt_number": 25,
       "text": [
        "1"
       ]
      }
     ],
     "prompt_number": 25
    },
    {
     "cell_type": "code",
     "collapsed": false,
     "input": [
      "#try it for not prime 6\n",
      "print('%f, %f'%(12.97, (6.-1.)/2.*6.))"
     ],
     "language": "python",
     "metadata": {},
     "outputs": [
      {
       "output_type": "stream",
       "stream": "stdout",
       "text": [
        "12.970000, 15.000000\n"
       ]
      }
     ],
     "prompt_number": 33
    },
    {
     "cell_type": "code",
     "collapsed": false,
     "input": [],
     "language": "python",
     "metadata": {},
     "outputs": []
    }
   ],
   "metadata": {}
  }
 ]
}