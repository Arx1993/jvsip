{
 "cells": [
  {
   "cell_type": "markdown",
   "metadata": {},
   "source": [
    "### Discrete Fourier Transform Coefficients   \n",
    "In this notebook I explore the baseline DFT and examine the decomposition of the coefficient matrix. At the moment this is mostly play to see what I can learn.\n",
    "\n",
    "#### Reference\n",
    "My primary reference is Charles Van Loan's Computational Frameworks for the Fast Fourier Transform.\n",
    "There are  many references available but I won't try and list them here.\n"
   ]
  },
  {
   "cell_type": "code",
   "execution_count": 7,
   "metadata": {},
   "outputs": [],
   "source": [
    "import pyJvsip as pv\n",
    "from math import pi as pi\n",
    "from math import cos as cos\n",
    "from math import sin as sin"
   ]
  },
  {
   "cell_type": "markdown",
   "metadata": {},
   "source": [
    "The DFT matrix is square and complex. We designate it as $F_n$ where n is the size of the matrix. If we have a (column) vector $\\vec x$ of size $n$ then the dft is   \n",
    "$\\vec X = F_n \\vec x$.   \n",
    "Elements of $F_n$ are designated $f_{q,p}$.  These elements are equally spaced around the unit circle in the complex plane at increments of ${2  \\pi} \\over {n}$ so that    \n",
    "$f_{q,p}$ = `complex`$\\left(\\cos(2 q p \\pi/n),-\\sin(2 q p \\pi/n)\\right)$   \n",
    "Since $q$ and $p$ traverse all value pairs between $0$ and $n-1$ and go around the unit circle more than once if we set $t$ to the $pq$ modulo $n$ then we can compute just a vector of DFT weights from $0$ to $n-1$ and look up the proper value with index $t$.\n"
   ]
  },
  {
   "cell_type": "markdown",
   "metadata": {},
   "source": [
    "Below we define functions to return the matrix of DFT weights for matrix of size n. The function dftCoefE returns the actual weight. The function dftCoef returns the matrix of index values $t$ described above."
   ]
  },
  {
   "cell_type": "code",
   "execution_count": 8,
   "metadata": {},
   "outputs": [],
   "source": [
    "def dftCoefE(n):\n",
    "     m=pv.create('cmview_d',n,n)\n",
    "     for i in range(n):\n",
    "         for j in range(n):\n",
    "             t=(i*j)%n\n",
    "             x=2.0*pi/n * float(t)\n",
    "             m[i,j]=complex(cos(x),-sin(x))\n",
    "     return m\n",
    "\n",
    "def dftCoef(n):\n",
    "    m=pv.create('mview_d',n,n)\n",
    "    for i in range(n):\n",
    "        for j in range(n):\n",
    "            m[i,j]=(i*j)%n\n",
    "    return m"
   ]
  },
  {
   "cell_type": "code",
   "execution_count": 9,
   "metadata": {},
   "outputs": [
    {
     "name": "stdout",
     "output_type": "stream",
     "text": [
      "[ 1.000-0.000i  1.000-0.000i  1.000-0.000i  1.000-0.000i;\n",
      "  1.000-0.000i  0.000-1.000i -1.000-0.000i -0.000+1.000i;\n",
      "  1.000-0.000i -1.000-0.000i  1.000-0.000i -1.000-0.000i;\n",
      "  1.000-0.000i -0.000+1.000i -1.000-0.000i  0.000-1.000i]\n",
      "\n"
     ]
    }
   ],
   "source": [
    "A=dftCoefE(4)\n",
    "A.mprint('%.3f')"
   ]
  },
  {
   "cell_type": "code",
   "execution_count": 10,
   "metadata": {},
   "outputs": [
    {
     "name": "stdout",
     "output_type": "stream",
     "text": [
      "[ 0.000  0.000  0.000  0.000;\n",
      "  0.000  1.000  2.000  3.000;\n",
      "  0.000  2.000  0.000  2.000;\n",
      "  0.000  3.000  2.000  1.000]\n",
      "\n"
     ]
    }
   ],
   "source": [
    "B=dftCoef(4)\n",
    "B.mprint('%.3f')"
   ]
  },
  {
   "cell_type": "code",
   "execution_count": 11,
   "metadata": {},
   "outputs": [
    {
     "name": "stdout",
     "output_type": "stream",
     "text": [
      "[ 0.0  0.0  0.0  0.0  0.0;\n",
      "  0.0  1.0  2.0  3.0  4.0;\n",
      "  0.0  2.0  4.0  1.0  3.0;\n",
      "  0.0  3.0  1.0  4.0  2.0;\n",
      "  0.0  4.0  3.0  2.0  1.0]\n",
      "\n"
     ]
    }
   ],
   "source": [
    "dftCoef(5).mprint('%.1f')"
   ]
  },
  {
   "cell_type": "code",
   "execution_count": 12,
   "metadata": {},
   "outputs": [
    {
     "name": "stdout",
     "output_type": "stream",
     "text": [
      "[ 3.000  1.000  0.000]\n",
      "\n"
     ]
    }
   ],
   "source": [
    "dftCoef(3).sv.mprint('%.3f')"
   ]
  },
  {
   "cell_type": "code",
   "execution_count": 13,
   "metadata": {},
   "outputs": [
    {
     "name": "stdout",
     "output_type": "stream",
     "text": [
      "[ 10.000  3.162  3.162  0.000  0.000]\n",
      "\n"
     ]
    }
   ],
   "source": [
    "dftCoef(5).sv.mprint('%.3f')"
   ]
  },
  {
   "cell_type": "code",
   "execution_count": 14,
   "metadata": {},
   "outputs": [
    {
     "name": "stdout",
     "output_type": "stream",
     "text": [
      "[ 21.000  7.000  5.292  5.292  0.000  0.000  0.000]\n",
      "\n"
     ]
    }
   ],
   "source": [
    "dftCoef(7).sv.mprint('%.3f')"
   ]
  },
  {
   "cell_type": "code",
   "execution_count": 15,
   "metadata": {},
   "outputs": [
    {
     "name": "stdout",
     "output_type": "stream",
     "text": [
      "[ 55.000  16.565  16.565  11.000  8.810  8.810  0.000  0.000  0.000  0.000  0.000]\n",
      "\n"
     ]
    }
   ],
   "source": [
    "dftCoef(11).sv.mprint('%.3f')"
   ]
  },
  {
   "cell_type": "code",
   "execution_count": 16,
   "metadata": {},
   "outputs": [
    {
     "name": "stdout",
     "output_type": "stream",
     "text": [
      "[ 78.000  20.979  20.979  18.385  18.385  8.937  8.937  0.000  0.000  0.000  0.000  0.000  0.000]\n",
      "\n"
     ]
    }
   ],
   "source": [
    "dftCoef(13).sv.mprint('%.3f')"
   ]
  },
  {
   "cell_type": "code",
   "execution_count": 17,
   "metadata": {},
   "outputs": [
    {
     "name": "stdout",
     "output_type": "stream",
     "text": [
      "[ 136.000  36.780  36.780  27.867  27.867  22.097  22.097  10.119  10.119  0.000  0.000  0.000  0.000  0.000  0.000  0.000  0.000]\n",
      "\n"
     ]
    }
   ],
   "source": [
    "dftCoef(17).sv.mprint('%.3f')"
   ]
  },
  {
   "cell_type": "code",
   "execution_count": 18,
   "metadata": {},
   "outputs": [
    {
     "name": "stdout",
     "output_type": "stream",
     "text": [
      "[ 12.970  4.606  4.074  2.606  2.044  0.000]\n",
      "\n"
     ]
    }
   ],
   "source": [
    "dftCoef(3*2).sv.mprint('%.3f')"
   ]
  },
  {
   "cell_type": "code",
   "execution_count": 19,
   "metadata": {},
   "outputs": [
    {
     "name": "stdout",
     "output_type": "stream",
     "text": [
      "[ 1.000  0.000]\n",
      "\n"
     ]
    }
   ],
   "source": [
    "dftCoef(2).sv.mprint('%.3f')"
   ]
  },
  {
   "cell_type": "markdown",
   "metadata": {},
   "source": [
    "So, playing, I notice if I find the singular values of the $t$ values matrix and I use a prime number for $n$ then the largest singular value is an integer equal to (n-1)/2 * n.  Don't know if this is of use but is interesting."
   ]
  },
  {
   "cell_type": "code",
   "execution_count": 20,
   "metadata": {},
   "outputs": [
    {
     "data": {
      "text/plain": [
       "136"
      ]
     },
     "execution_count": 20,
     "metadata": {},
     "output_type": "execute_result"
    }
   ],
   "source": [
    "136/17\n",
    "(17-1)/2*17"
   ]
  },
  {
   "cell_type": "code",
   "execution_count": 21,
   "metadata": {},
   "outputs": [
    {
     "name": "stdout",
     "output_type": "stream",
     "text": [
      "6, 78\n"
     ]
    }
   ],
   "source": [
    "print('%d, %d'%(78/13, (13-1)/2*13))"
   ]
  },
  {
   "cell_type": "code",
   "execution_count": 22,
   "metadata": {},
   "outputs": [
    {
     "name": "stdout",
     "output_type": "stream",
     "text": [
      "5, 55\n"
     ]
    }
   ],
   "source": [
    "print('%d, %d'%(55/11, (11-1)/2*11))"
   ]
  },
  {
   "cell_type": "code",
   "execution_count": 23,
   "metadata": {},
   "outputs": [
    {
     "data": {
      "text/plain": [
       "3"
      ]
     },
     "execution_count": 23,
     "metadata": {},
     "output_type": "execute_result"
    }
   ],
   "source": [
    "21/7"
   ]
  },
  {
   "cell_type": "code",
   "execution_count": 24,
   "metadata": {},
   "outputs": [
    {
     "data": {
      "text/plain": [
       "1"
      ]
     },
     "execution_count": 24,
     "metadata": {},
     "output_type": "execute_result"
    }
   ],
   "source": [
    "3/3"
   ]
  },
  {
   "cell_type": "code",
   "execution_count": 25,
   "metadata": {},
   "outputs": [
    {
     "name": "stdout",
     "output_type": "stream",
     "text": [
      "12.970000, 15.000000\n"
     ]
    }
   ],
   "source": [
    "#try it for not prime 6\n",
    "print('%f, %f'%(12.97, (6.-1.)/2.*6.))"
   ]
  },
  {
   "cell_type": "code",
   "execution_count": 26,
   "metadata": {},
   "outputs": [
    {
     "name": "stdout",
     "output_type": "stream",
     "text": [
      "2, 1.000000, 1.000000\n",
      "3, 3.000000, 3.000000\n",
      "4, 5.464102, 6.000000\n",
      "5, 10.000000, 10.000000\n",
      "6, 12.970213, 15.000000\n",
      "7, 21.000000, 21.000000\n",
      "8, 25.714558, 28.000000\n",
      "9, 34.121591, 36.000000\n",
      "10, 41.419939, 45.000000\n",
      "11, 55.000000, 55.000000\n",
      "12, 58.082345, 66.000000\n",
      "13, 78.000000, 78.000000\n",
      "14, 85.904315, 91.000000\n",
      "15, 97.549615, 105.000000\n",
      "16, 112.699168, 120.000000\n",
      "17, 136.000000, 136.000000\n",
      "18, 140.794862, 153.000000\n",
      "19, 171.000000, 171.000000\n",
      "20, 175.323325, 190.000000\n",
      "21, 199.153965, 210.000000\n",
      "22, 222.892274, 231.000000\n",
      "23, 253.000000, 253.000000\n",
      "24, 252.560052, 276.000000\n",
      "25, 292.705098, 300.000000\n",
      "26, 315.389329, 325.000000\n",
      "27, 338.737410, 351.000000\n",
      "28, 356.725394, 378.000000\n",
      "29, 406.000000, 406.000000\n",
      "30, 401.508889, 435.000000\n",
      "31, 465.000000, 465.000000\n"
     ]
    }
   ],
   "source": [
    "for i in range(30):\n",
    "    x=dftCoef(i+2).sv[0]\n",
    "    print('%d, %3f, %3f'%(i+2,x,(i+1.0)/2.0 * float(i+2)))"
   ]
  },
  {
   "cell_type": "markdown",
   "metadata": {},
   "source": [
    "So, up to n=31 at least, it looks like the largest singular value is less than or equal to (n-1)/2*n and equality holds if n is prime."
   ]
  }
 ],
 "metadata": {
  "kernelspec": {
   "display_name": "Python 2",
   "language": "python",
   "name": "python2"
  },
  "language_info": {
   "codemirror_mode": {
    "name": "ipython",
    "version": 2
   },
   "file_extension": ".py",
   "mimetype": "text/x-python",
   "name": "python",
   "nbconvert_exporter": "python",
   "pygments_lexer": "ipython2",
   "version": "2.7.13"
  }
 },
 "nbformat": 4,
 "nbformat_minor": 1
}
