{
 "metadata": {
  "name": ""
 },
 "nbformat": 3,
 "nbformat_minor": 0,
 "worksheets": [
  {
   "cells": [
    {
     "cell_type": "markdown",
     "metadata": {},
     "source": [
      "### Factor Integer N into two largest common denominators"
     ]
    },
    {
     "cell_type": "code",
     "collapsed": false,
     "input": [
      "def factors(N):\n",
      "    n=int(N)\n",
      "    lm=n/2 + 1\n",
      "    out=[]\n",
      "    for i in range(2,lm):\n",
      "        if N % i == 0:\n",
      "            a=i;b=N/i\n",
      "            out.append((a,b))\n",
      "    print(out)"
     ],
     "language": "python",
     "metadata": {},
     "outputs": [],
     "prompt_number": 8
    },
    {
     "cell_type": "code",
     "collapsed": false,
     "input": [
      "factors(18004581)"
     ],
     "language": "python",
     "metadata": {},
     "outputs": [
      {
       "output_type": "stream",
       "stream": "stdout",
       "text": [
        "[(3, 6001527), (7, 2572083), (9, 2000509), (17, 1059093), (21, 857361), (51, 353031), (63, 285787), (119, 151299), (153, 117677), (357, 50433), (1071, 16811), (16811, 1071), (50433, 357), (117677, 153), (151299, 119), (285787, 63), (353031, 51), (857361, 21), (1059093, 17), (2000509, 9), (2572083, 7), (6001527, 3)]\n"
       ]
      }
     ],
     "prompt_number": 9
    },
    {
     "cell_type": "code",
     "collapsed": false,
     "input": [
      "N=18004581"
     ],
     "language": "python",
     "metadata": {},
     "outputs": [],
     "prompt_number": 7
    },
    {
     "cell_type": "code",
     "collapsed": false,
     "input": [
      "def factors0(N):\n",
      "    n=int(N)\n",
      "    lm=n/2 + 1\n",
      "    a=1; b=N\n",
      "    for i in range(2,lm):\n",
      "        if N % i == 0:\n",
      "            a=i;b=N/i\n",
      "        if a >= b:\n",
      "            break\n",
      "    if a != 1:\n",
      "        factors0(a)\n",
      "    if b != N:\n",
      "        factors0(b)\n",
      "    print((a,b))"
     ],
     "language": "python",
     "metadata": {},
     "outputs": [],
     "prompt_number": 22
    },
    {
     "cell_type": "code",
     "collapsed": false,
     "input": [
      "factors0(N)"
     ],
     "language": "python",
     "metadata": {},
     "outputs": [
      {
       "output_type": "stream",
       "stream": "stdout",
       "text": [
        "(1, 16811)\n",
        "(1, 17)\n",
        "(1, 3)\n",
        "(17, 3)\n",
        "(1, 7)\n",
        "(1, 3)\n",
        "(7, 3)\n",
        "(51, 21)\n",
        "(16811, 1071)\n"
       ]
      }
     ],
     "prompt_number": 23
    },
    {
     "cell_type": "code",
     "collapsed": false,
     "input": [
      "16811.0/7"
     ],
     "language": "python",
     "metadata": {},
     "outputs": [
      {
       "metadata": {},
       "output_type": "pyout",
       "prompt_number": 27,
       "text": [
        "2401.5714285714284"
       ]
      }
     ],
     "prompt_number": 27
    },
    {
     "cell_type": "code",
     "collapsed": false,
     "input": [
      "N"
     ],
     "language": "python",
     "metadata": {},
     "outputs": [
      {
       "metadata": {},
       "output_type": "pyout",
       "prompt_number": 28,
       "text": [
        "18004581"
       ]
      }
     ],
     "prompt_number": 28
    },
    {
     "cell_type": "code",
     "collapsed": false,
     "input": [
      "16811*1071"
     ],
     "language": "python",
     "metadata": {},
     "outputs": [
      {
       "metadata": {},
       "output_type": "pyout",
       "prompt_number": 29,
       "text": [
        "18004581"
       ]
      }
     ],
     "prompt_number": 29
    },
    {
     "cell_type": "code",
     "collapsed": false,
     "input": [
      "1071/17."
     ],
     "language": "python",
     "metadata": {},
     "outputs": [
      {
       "metadata": {},
       "output_type": "pyout",
       "prompt_number": 32,
       "text": [
        "63.0"
       ]
      }
     ],
     "prompt_number": 32
    },
    {
     "cell_type": "code",
     "collapsed": false,
     "input": [],
     "language": "python",
     "metadata": {},
     "outputs": []
    }
   ],
   "metadata": {}
  }
 ]
}