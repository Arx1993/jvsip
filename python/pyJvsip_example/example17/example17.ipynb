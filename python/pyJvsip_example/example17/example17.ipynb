{
 "metadata": {
  "name": "",
  "signature": "sha256:8caf66b6d8bda87efe565eaf9fae86a9f7cb34ef54da7e223744e4a3ac8018f0"
 },
 "nbformat": 3,
 "nbformat_minor": 0,
 "worksheets": [
  {
   "cells": [
    {
     "cell_type": "markdown",
     "metadata": {},
     "source": [
      "### Example for gather and scatter"
     ]
    },
    {
     "cell_type": "code",
     "collapsed": false,
     "input": [
      "import pyJvsip as pjv\n",
      "from math import pi as pi\n",
      "L=50 # A length\n",
      "aBlock = pjv.Block('block_d',L)\n",
      "a=aBlock.bind(0,1,L).fill(0.0)\n",
      "b=a.empty.ramp(0.0,2.0*pi/float(L-1)).cos\n",
      "ab_bl = b.lgt(a)\n",
      "assert ab_bl.anytrue,'No true values in boolean vector.'\n",
      "ab_vi=ab_bl.indexbool\n",
      "pjv.gather(b,ab_vi,a.putlength(ab_vi.length))\n",
      "b.fill(0.0)\n",
      "pjv.scatter(a,b,ab_vi)\n",
      "for i in range(L):\n",
      "    print('%.3f'%b[i])"
     ],
     "language": "python",
     "metadata": {},
     "outputs": [
      {
       "output_type": "stream",
       "stream": "stdout",
       "text": [
        "1.000\n",
        "0.992\n",
        "0.967\n",
        "0.927\n",
        "0.871\n",
        "0.801\n",
        "0.718\n",
        "0.623\n",
        "0.518\n",
        "0.405\n",
        "0.285\n",
        "0.160\n",
        "0.032\n",
        "0.000\n",
        "0.000\n",
        "0.000\n",
        "0.000\n",
        "0.000\n",
        "0.000\n",
        "0.000\n",
        "0.000\n",
        "0.000\n",
        "0.000\n",
        "0.000\n",
        "0.000\n",
        "0.000\n",
        "0.000\n",
        "0.000\n",
        "0.000\n",
        "0.000\n",
        "0.000\n",
        "0.000\n",
        "0.000\n",
        "0.000\n",
        "0.000\n",
        "0.000\n",
        "0.000\n",
        "0.032\n",
        "0.160\n",
        "0.285\n",
        "0.405\n",
        "0.518\n",
        "0.623\n",
        "0.718\n",
        "0.801\n",
        "0.871\n",
        "0.927\n",
        "0.967\n",
        "0.992\n",
        "1.000\n"
       ]
      }
     ],
     "prompt_number": 3
    },
    {
     "cell_type": "code",
     "collapsed": false,
     "input": [],
     "language": "python",
     "metadata": {},
     "outputs": []
    }
   ],
   "metadata": {}
  }
 ]
}