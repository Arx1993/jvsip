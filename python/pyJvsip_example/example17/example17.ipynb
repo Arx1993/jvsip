{
 "cells": [
  {
   "cell_type": "markdown",
   "metadata": {},
   "source": [
    "### Example for gather and scatter\n",
    "Clip a cosine so that values less than zero are set to zero."
   ]
  },
  {
   "cell_type": "code",
   "execution_count": 1,
   "metadata": {
    "collapsed": false
   },
   "outputs": [
    {
     "name": "stdout",
     "output_type": "stream",
     "text": [
      "1.000\n",
      "0.992\n",
      "0.967\n",
      "0.927\n",
      "0.871\n",
      "0.801\n",
      "0.718\n",
      "0.623\n",
      "0.518\n",
      "0.405\n",
      "0.285\n",
      "0.160\n",
      "0.032\n",
      "0.000\n",
      "0.000\n",
      "0.000\n",
      "0.000\n",
      "0.000\n",
      "0.000\n",
      "0.000\n",
      "0.000\n",
      "0.000\n",
      "0.000\n",
      "0.000\n",
      "0.000\n",
      "0.000\n",
      "0.000\n",
      "0.000\n",
      "0.000\n",
      "0.000\n",
      "0.000\n",
      "0.000\n",
      "0.000\n",
      "0.000\n",
      "0.000\n",
      "0.000\n",
      "0.000\n",
      "0.032\n",
      "0.160\n",
      "0.285\n",
      "0.405\n",
      "0.518\n",
      "0.623\n",
      "0.718\n",
      "0.801\n",
      "0.871\n",
      "0.927\n",
      "0.967\n",
      "0.992\n",
      "1.000\n"
     ]
    }
   ],
   "source": [
    "import pyJvsip as pjv\n",
    "from math import pi as pi\n",
    "L=50 # A length\n",
    "aBlock = pjv.Block('block_d',L)\n",
    "a=aBlock.bind(0,1,L).fill(0.0)\n",
    "b=a.empty.ramp(0.0,2.0*pi/float(L-1)).cos\n",
    "ab_bl = b.lgt(a)\n",
    "assert ab_bl.anytrue,'No true values in boolean vector.'\n",
    "ab_vi=ab_bl.indexbool\n",
    "pjv.gather(b,ab_vi,a.putlength(ab_vi.length))\n",
    "b.fill(0.0)\n",
    "pjv.scatter(a,b,ab_vi)\n",
    "for i in range(L):\n",
    "    print('%.3f'%b[i])"
   ]
  },
  {
   "cell_type": "code",
   "execution_count": null,
   "metadata": {
    "collapsed": false
   },
   "outputs": [],
   "source": []
  }
 ],
 "metadata": {
  "kernelspec": {
   "display_name": "Python 3",
   "language": "python",
   "name": "python3"
  },
  "language_info": {
   "codemirror_mode": {
    "name": "ipython",
    "version": 3
   },
   "file_extension": ".py",
   "mimetype": "text/x-python",
   "name": "python",
   "nbconvert_exporter": "python",
   "pygments_lexer": "ipython3",
   "version": "3.5.0"
  }
 },
 "nbformat": 4,
 "nbformat_minor": 0
}
