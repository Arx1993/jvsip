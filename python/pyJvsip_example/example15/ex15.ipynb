{
 "cells": [
  {
   "cell_type": "code",
   "execution_count": 1,
   "metadata": {
    "collapsed": true
   },
   "outputs": [],
   "source": [
    "import pyJvsip as pjv"
   ]
  },
  {
   "cell_type": "code",
   "execution_count": 17,
   "metadata": {
    "collapsed": false
   },
   "outputs": [
    {
     "name": "stdout",
     "output_type": "stream",
     "text": [
      "index    A       B\n",
      "\n",
      "  0    -2.0     2.0\n",
      "\n",
      "  1    -1.0     1.0\n",
      "\n",
      "  2     0.0     0.0\n",
      "\n",
      "  3     1.0    -1.0\n",
      "\n",
      "  4     2.0    -2.0\n",
      "\n",
      "  5     3.0    -3.0\n",
      "\n",
      "  6     4.0    -4.0\n",
      "\n",
      "  7     5.0    -5.0\n",
      "\n",
      "  8     6.0    -6.0\n",
      "\n",
      "A = B at index   2\n",
      "\n"
     ]
    }
   ],
   "source": [
    "L = 9\n",
    "a=pjv.create('vview_f',L);\n",
    "b=a.empty\n",
    "ab_bl=pjv.create('vview_bl',L);\n",
    "a.ramp(-2.0,1)\n",
    "b.ramp(2.0,-1)\n",
    "print('index    A       B\\n')\n",
    "for i in range(L):\n",
    "    print('%3i %7.1f %7.1f\\n'%(i,a[i],b[i]))\n",
    "_=pjv.leq(a,b,ab_bl)\n",
    "if ab_bl.anytrue:\n",
    "    ab_vi=ab_bl.indexbool\n",
    "    for i in range(ab_vi.length):\n",
    "        print('A = B at index %3i\\n'%int(ab_vi[i]))\n",
    "else:\n",
    "    print('No true cases')"
   ]
  },
  {
   "cell_type": "code",
   "execution_count": null,
   "metadata": {
    "collapsed": true
   },
   "outputs": [],
   "source": []
  }
 ],
 "metadata": {
  "kernelspec": {
   "display_name": "Python 2",
   "language": "python",
   "name": "python2"
  },
  "language_info": {
   "codemirror_mode": {
    "name": "ipython",
    "version": 2
   },
   "file_extension": ".py",
   "mimetype": "text/x-python",
   "name": "python",
   "nbconvert_exporter": "python",
   "pygments_lexer": "ipython2",
   "version": "2.7.9"
  }
 },
 "nbformat": 4,
 "nbformat_minor": 0
}
