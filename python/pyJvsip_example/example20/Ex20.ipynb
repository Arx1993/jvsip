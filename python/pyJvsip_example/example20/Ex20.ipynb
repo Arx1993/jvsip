{
 "cells": [
  {
   "cell_type": "code",
   "execution_count": 1,
   "metadata": {
    "collapsed": false
   },
   "outputs": [],
   "source": [
    "import pyJvsip as pv\n",
    "%matplotlib inline\n",
    "from matplotlib.pyplot import *"
   ]
  },
  {
   "cell_type": "code",
   "execution_count": 2,
   "metadata": {
    "collapsed": false
   },
   "outputs": [],
   "source": [
    "def VU_vfrdB(a,rng):\n",
    "    N_len=int(a.length)\n",
    "    ca=a.otherEmpty.fill(0.0)\n",
    "    fftType={'cvview_d':'ccfftip_d','cvview_f':'ccfftip_f'}[ca.type]\n",
    "    fft =  pv.FFT(fftType,N_len,1,pv.VSIP_FFT_FWD,0,0)\n",
    "    ra = ca.realview\n",
    "    ia = ca.imagview\n",
    "    ta = a.cloneview\n",
    "    s  = ta.stride\n",
    "    pv.copy(a,ra)\n",
    "    fft.dft(ca)\n",
    "    pv.cmagsq(ca,ra)\n",
    "    maxv = ra.maxval\n",
    "    minv = maxv * rng\n",
    "    pv.clip(ra,minv,maxv,minv,maxv,ra)\n",
    "    Nlen = int(N_len/2)\n",
    "    if N_len%2:\n",
    "         ta.putlength(Nlen+1)\n",
    "         ra.putlength(Nlen+1)\n",
    "         ta.putoffset(Nlen * s)\n",
    "         pv.copy(ra,ta)\n",
    "         ra.putlength(Nlen)\n",
    "         ta.putlength(Nlen)\n",
    "         ta.putoffset(a.offset)\n",
    "         ra.putoffset(Nlen+1)\n",
    "         pv.copy(ra,ta)\n",
    "    else :\n",
    "         pv.copy(ra,ta)\n",
    "         ta.putlength(Nlen)\n",
    "         a.putlength(Nlen)\n",
    "         ta.putoffset(Nlen * s)\n",
    "         pv.swap(ta,a)\n",
    "         a.putlength(N_len)\n",
    "    a.log10\n",
    "    a *= 10.0"
   ]
  },
  {
   "cell_type": "code",
   "execution_count": 3,
   "metadata": {
    "collapsed": false
   },
   "outputs": [],
   "source": [
    "def VU_vwritexyg(fmt,x,y,fname):\n",
    "    N=y.length\n",
    "    of = open(fname,'w')\n",
    "    of.write('%d\\n'%N)\n",
    "    for i in range(N):\n",
    "        of.write(fmt%(x[i],y[i]))\n",
    "    of.close()\n"
   ]
  },
  {
   "cell_type": "code",
   "execution_count": 4,
   "metadata": {
    "collapsed": false
   },
   "outputs": [],
   "source": [
    "def VU_vfreadxy(fname):\n",
    "    fd = open(fname,'r')\n",
    "    N=int(fd.readline())\n",
    "    x=pv.create('vview_f',N)\n",
    "    y=x.empty\n",
    "    for i in range(N):\n",
    "        ln=fd.readline().partition(' ')\n",
    "        x[i]=float(ln[0])\n",
    "        y[i]=float(ln[2])\n",
    "    fd.close()\n",
    "    return(x,y)"
   ]
  },
  {
   "cell_type": "code",
   "execution_count": 5,
   "metadata": {
    "collapsed": false
   },
   "outputs": [],
   "source": [
    "N_data = 24576\n",
    "dec1 = 1\n",
    "dec3 = 3\n",
    "kernel=pv.create('vview_f',128).kaiser(15.0)\n",
    "r_state  = pv.Rand('NPRNG',11)\n",
    "data  = pv.create('vview_f', 2 * N_data)\n",
    "noise = pv.create('vview_f', 3 * N_data)\n",
    "avg   = pv.create('vview_f', 4 * N_data)\n",
    "data.putlength(int((N_data-1)/dec1)+1)\n",
    "avg.putlength(int((N_data-1)/dec1)+1)\n",
    "data.putstride(2)\n",
    "avg.putstride(4)\n",
    "noise.putlength(N_data)\n",
    "noise.putstride(3)\n",
    "conv = pv.CONV('conv1d_f',kernel,pv.VSIP_NONSYM, N_data,dec1,pv.VSIP_SUPPORT_SAME,0,0)\n",
    "fir  = pv.FIR('fir_f', kernel,'NONE', N_data,dec1,'NO')\n",
    "avg.fill(0.0)\n",
    "for i in range(10):\n",
    "    r_state.randn(noise)\n",
    "    conv.convolve(noise,data)\n",
    "    VU_vfrdB(data,1e-13)\n",
    "    pv.ma(data,0.1,avg,avg)\n",
    "N_len = avg.length\n",
    "x = pv.create('vview_f', N_len).ramp(-.5,1.0/float(N_len-1))\n",
    "VU_vwritexyg(\"%8.6f %8.6f\\n\",x,avg,\"conv_dec1\");\n",
    "avg.fill(0.0)\n",
    "for i in range(10):\n",
    "    r_state.randn(noise)\n",
    "    fir.flt(noise,data)\n",
    "    VU_vfrdB(data,1e-13)\n",
    "    pv.ma(data,0.1,avg,avg)\n",
    "N_len = avg.length\n",
    "x = pv.create('vview_f', N_len).ramp(-.5,1.0/float(N_len-1))\n",
    "VU_vwritexyg(\"%8.6f %8.6f\\n\",x,avg,\"fir_dec1\")\n",
    "conv = pv.CONV('conv1d_f', kernel,pv.VSIP_NONSYM, N_data,dec3,pv.VSIP_SUPPORT_SAME,0,0);\n",
    "fir  = pv.FIR('fir_f', kernel,'NONE', N_data,dec3,'NO')\n",
    "data.putlength(int((N_data-1)/dec3) + 1)\n",
    "avg.putlength(int((N_data-1)/dec3) + 1)\n",
    "avg.fill(0.0)\n",
    "for i in range(10):\n",
    "    r_state.randn(noise)\n",
    "    conv.convolve(noise,data);\n",
    "    VU_vfrdB(data,1e-13);\n",
    "    pv.ma(data,0.1,avg,avg)\n",
    "N_len = avg.length\n",
    "x = pv.create('vview_f', N_len).ramp(-.5,1.0/float(N_len-1))\n",
    "VU_vwritexyg(\"%8.6f %8.6f\\n\", x, avg,\"conv_dec3\");\n",
    "avg.fill(0.0)\n",
    "for i in range(10):\n",
    "    r_state.randn(noise)\n",
    "    fir.flt(noise,data)\n",
    "    VU_vfrdB(data,1e-13);\n",
    "    pv.ma(data,0.1,avg,avg)\n",
    "N_len = avg.length\n",
    "x = pv.create('vview_f', N_len)\n",
    "x.ramp(-.5,1.0/float(N_len-1))\n",
    "VU_vwritexyg(\"%8.6f %8.6f\\n\", x, avg,\"fir_dec3\")\n",
    "N_len = kernel.length\n",
    "x = pv.create('vview_f', N_len)\n",
    "x.ramp(0.0,1.0)\n",
    "VU_vwritexyg(\"%8.6f %8.6f\\n\", x,kernel,\"kaiser_window\")\n",
    "x.ramp(-.5,1.0/float(N_len-1))\n",
    "VU_vfrdB(kernel,1e-20)\n",
    "VU_vwritexyg(\"%8.6f %8.6f\\n\", x,kernel,\"Freq_Resp_Kaiser\")\n"
   ]
  },
  {
   "cell_type": "code",
   "execution_count": 6,
   "metadata": {
    "collapsed": false
   },
   "outputs": [
    {
     "data": {
      "image/png": "[encoded data removed]",
      "text/plain": [
       "<matplotlib.figure.Figure at 0x10ff21908>"
      ]
     },
     "metadata": {},
     "output_type": "display_data"
    }
   ],
   "source": [
    "x,y=VU_vfreadxy('fir_dec1')\n",
    "plot(x.list,y.list)\n",
    "x,y=VU_vfreadxy('conv_dec1')\n",
    "hold=True\n",
    "plot(x.list,y.list)\n",
    "ylabel('dB');xlabel('F/Fs');title('FIR versus Convolution For Decimation 1')\n",
    "fig=gcf()\n",
    "fig.set_size_inches(5,2)\n",
    "fig.set_dpi(300)\n",
    "hold=False\n",
    "savefig('FirConvOne.eps',bbox_inches='tight')"
   ]
  },
  {
   "cell_type": "code",
   "execution_count": 7,
   "metadata": {
    "collapsed": false
   },
   "outputs": [
    {
     "data": {
      "image/png": "[encoded data removed]",
      "text/plain": [
       "<matplotlib.figure.Figure at 0x110205780>"
      ]
     },
     "metadata": {},
     "output_type": "display_data"
    }
   ],
   "source": [
    "x,y=VU_vfreadxy('fir_dec3')\n",
    "plot(x.list,y.list,'r');hold=True\n",
    "x,y=VU_vfreadxy('conv_dec3')\n",
    "plot(x.list,y.list,'g')\n",
    "ylabel('dB');xlabel('F/Fs');title('FIR versus Convolution For Decimation 3')\n",
    "fig=gcf()\n",
    "fig.set_size_inches(5,2)\n",
    "fig.set_dpi(300)\n",
    "hold=False\n",
    "savefig('FirConvTwo.eps',bbox_inches='tight')"
   ]
  },
  {
   "cell_type": "code",
   "execution_count": 8,
   "metadata": {
    "collapsed": false
   },
   "outputs": [
    {
     "data": {
      "image/png": "[encoded data removed]",
      "text/plain": [
       "<matplotlib.figure.Figure at 0x1101c4828>"
      ]
     },
     "metadata": {},
     "output_type": "display_data"
    }
   ],
   "source": [
    "x,y=VU_vfreadxy('kaiser_window')\n",
    "plot(x.list,y.list,'b.')\n",
    "hold=True\n",
    "plot(x.list,y.list,'r-')\n",
    "fig=gcf()\n",
    "fig.set_size_inches(5,1.)\n",
    "fig.set_dpi(300)\n",
    "ylabel('Magnitude');xlabel('Sample Point');title('Kaiser Window')\n",
    "savefig('kaiserWindow.eps',bbox_inches='tight')"
   ]
  },
  {
   "cell_type": "code",
   "execution_count": 9,
   "metadata": {
    "collapsed": false
   },
   "outputs": [
    {
     "data": {
      "image/png": "[encoded data removed]",
      "text/plain": [
       "<matplotlib.figure.Figure at 0x110112940>"
      ]
     },
     "metadata": {},
     "output_type": "display_data"
    }
   ],
   "source": [
    "x,y=VU_vfreadxy('Freq_Resp_Kaiser')\n",
    "plot(x.list,y.list,'c.')\n",
    "hold=True\n",
    "plot(x.list,y.list,'r-')\n",
    "fig=gcf()\n",
    "fig.set_size_inches(5,1.)\n",
    "fig.set_dpi(300)\n",
    "ylabel('dB');xlabel('F/Fs');title('Kaiser Window Frequency Response')\n",
    "savefig('FreqRespKaiser.eps',bbox_inches='tight')"
   ]
  },
  {
   "cell_type": "code",
   "execution_count": null,
   "metadata": {
    "collapsed": false
   },
   "outputs": [],
   "source": []
  }
 ],
 "metadata": {
  "kernelspec": {
   "display_name": "Python 3",
   "language": "python",
   "name": "python3"
  },
  "language_info": {
   "codemirror_mode": {
    "name": "ipython",
    "version": 3
   },
   "file_extension": ".py",
   "mimetype": "text/x-python",
   "name": "python",
   "nbconvert_exporter": "python",
   "pygments_lexer": "ipython3",
   "version": "3.5.0"
  }
 },
 "nbformat": 4,
 "nbformat_minor": 0
}
