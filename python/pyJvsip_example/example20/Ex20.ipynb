{
 "metadata": {
  "name": "",
  "signature": "sha256:ec588db2c9a444d31ed3c5ec76f61d415960b802aeb8b40afeacd39c4934b4ab"
 },
 "nbformat": 3,
 "nbformat_minor": 0,
 "worksheets": [
  {
   "cells": [
    {
     "cell_type": "code",
     "collapsed": false,
     "input": [
      "import pyJvsip as pv\n",
      "%matplotlib inline\n",
      "from matplotlib.pyplot import *"
     ],
     "language": "python",
     "metadata": {},
     "outputs": [],
     "prompt_number": 1
    },
    {
     "cell_type": "code",
     "collapsed": false,
     "input": [
      "def VU_vfrdB(a,rng):\n",
      "    N_len=int(a.length)\n",
      "    ca=a.otherEmpty.fill(0.0)\n",
      "    fftType={'cvview_d':'ccfftip_d','cvview_f':'ccfftip_f'}[ca.type]\n",
      "    fft =  pv.FFT(fftType,N_len,1,pv.VSIP_FFT_FWD,0,0)\n",
      "    ra = ca.realview\n",
      "    ia = ca.imagview\n",
      "    ta = a.cloneview\n",
      "    s  = ta.stride\n",
      "    pv.copy(a,ra)\n",
      "    fft.dft(ca)\n",
      "    pv.cmagsq(ca,ra)\n",
      "    maxv = ra.maxval\n",
      "    minv = maxv * rng\n",
      "    pv.clip(ra,minv,maxv,minv,maxv,ra)\n",
      "    Nlen = int(N_len/2)\n",
      "    if N_len%2:\n",
      "         ta.putlength(Nlen+1)\n",
      "         ra.putlength(Nlen+1)\n",
      "         ta.putoffset(Nlen * s)\n",
      "         pv.copy(ra,ta)\n",
      "         ra.putlength(Nlen)\n",
      "         ta.putlength(Nlen)\n",
      "         ta.putoffset(a.offset)\n",
      "         ra.putoffset(Nlen+1)\n",
      "         pv.copy(ra,ta)\n",
      "    else :\n",
      "         pv.copy(ra,ta)\n",
      "         ta.putlength(Nlen)\n",
      "         a.putlength(Nlen)\n",
      "         ta.putoffset(Nlen * s)\n",
      "         pv.swap(ta,a)\n",
      "         a.putlength(N_len)\n",
      "    a.log10\n",
      "    a *= 10.0"
     ],
     "language": "python",
     "metadata": {},
     "outputs": [],
     "prompt_number": 2
    },
    {
     "cell_type": "code",
     "collapsed": false,
     "input": [
      "def VU_vwritexyg(fmt,x,y,fname):\n",
      "    N=y.length\n",
      "    of = open(fname,'w')\n",
      "    of.write('%d\\n'%N)\n",
      "    for i in range(N):\n",
      "        of.write(fmt%(x[i],y[i]))\n",
      "    of.close()\n"
     ],
     "language": "python",
     "metadata": {},
     "outputs": [],
     "prompt_number": 3
    },
    {
     "cell_type": "code",
     "collapsed": false,
     "input": [
      "def VU_vfreadxy(fname):\n",
      "    fd = open(fname,'r')\n",
      "    N=int(fd.readline())\n",
      "    x=pv.create('vview_f',N)\n",
      "    y=x.empty\n",
      "    for i in range(N):\n",
      "        ln=fd.readline().partition(' ')\n",
      "        x[i]=float(ln[0])\n",
      "        y[i]=float(ln[2])\n",
      "    fd.close()\n",
      "    return(x,y)"
     ],
     "language": "python",
     "metadata": {},
     "outputs": [],
     "prompt_number": 4
    },
    {
     "cell_type": "code",
     "collapsed": false,
     "input": [
      "N_data = 24576\n",
      "dec1 = 1\n",
      "dec3 = 3\n",
      "kernel=pv.create('vview_f',128).kaiser(15.0)\n",
      "r_state  = pv.Rand('NPRNG',11)\n",
      "data  = pv.create('vview_f', 2 * N_data)\n",
      "noise = pv.create('vview_f', 3 * N_data)\n",
      "avg   = pv.create('vview_f', 4 * N_data)\n",
      "data.putlength(int((N_data-1)/dec1)+1)\n",
      "avg.putlength(int((N_data-1)/dec1)+1)\n",
      "data.putstride(2)\n",
      "avg.putstride(4)\n",
      "noise.putlength(N_data)\n",
      "noise.putstride(3)\n",
      "conv = pv.CONV('conv1d_f',kernel,pv.VSIP_NONSYM, N_data,dec1,pv.VSIP_SUPPORT_SAME,0,0)\n",
      "fir  = pv.FIR('fir_f', kernel,'NONE', N_data,dec1,'NO')\n",
      "avg.fill(0.0)\n",
      "for i in range(10):\n",
      "    r_state.randn(noise)\n",
      "    conv.convolve(noise,data)\n",
      "    VU_vfrdB(data,1e-13)\n",
      "    pv.ma(data,0.1,avg,avg)\n",
      "N_len = avg.length\n",
      "x = pv.create('vview_f', N_len).ramp(-.5,1.0/float(N_len-1))\n",
      "VU_vwritexyg(\"%8.6f %8.6f\\n\",x,avg,\"conv_dec1\");\n",
      "avg.fill(0.0)\n",
      "for i in range(10):\n",
      "    r_state.randn(noise)\n",
      "    fir.flt(noise,data)\n",
      "    VU_vfrdB(data,1e-13)\n",
      "    pv.ma(data,0.1,avg,avg)\n",
      "N_len = avg.length\n",
      "x = pv.create('vview_f', N_len).ramp(-.5,1.0/float(N_len-1))\n",
      "VU_vwritexyg(\"%8.6f %8.6f\\n\",x,avg,\"fir_dec1\")\n",
      "conv = pv.CONV('conv1d_f', kernel,pv.VSIP_NONSYM, N_data,dec3,pv.VSIP_SUPPORT_SAME,0,0);\n",
      "fir  = pv.FIR('fir_f', kernel,'NONE', N_data,dec3,'NO')\n",
      "data.putlength(int((N_data-1)/dec3) + 1)\n",
      "avg.putlength(int((N_data-1)/dec3) + 1)\n",
      "avg.fill(0.0)\n",
      "for i in range(10):\n",
      "    r_state.randn(noise)\n",
      "    conv.convolve(noise,data);\n",
      "    VU_vfrdB(data,1e-13);\n",
      "    pv.ma(data,0.1,avg,avg)\n",
      "N_len = avg.length\n",
      "x = pv.create('vview_f', N_len).ramp(-.5,1.0/float(N_len-1))\n",
      "VU_vwritexyg(\"%8.6f %8.6f\\n\", x, avg,\"conv_dec3\");\n",
      "avg.fill(0.0)\n",
      "for i in range(10):\n",
      "    r_state.randn(noise)\n",
      "    fir.flt(noise,data)\n",
      "    VU_vfrdB(data,1e-13);\n",
      "    pv.ma(data,0.1,avg,avg)\n",
      "N_len = avg.length\n",
      "x = pv.create('vview_f', N_len)\n",
      "x.ramp(-.5,1.0/float(N_len-1))\n",
      "VU_vwritexyg(\"%8.6f %8.6f\\n\", x, avg,\"fir_dec3\")\n",
      "N_len = kernel.length\n",
      "x = pv.create('vview_f', N_len)\n",
      "x.ramp(0.0,1.0)\n",
      "VU_vwritexyg(\"%8.6f %8.6f\\n\", x,kernel,\"kaiser_window\")\n",
      "x.ramp(-.5,1.0/float(N_len-1))\n",
      "VU_vfrdB(kernel,1e-20)\n",
      "VU_vwritexyg(\"%8.6f %8.6f\\n\", x,kernel,\"Freq_Resp_Kaiser\")\n"
     ],
     "language": "python",
     "metadata": {},
     "outputs": [],
     "prompt_number": 5
    },
    {
     "cell_type": "code",
     "collapsed": false,
     "input": [
      "x,y=VU_vfreadxy('fir_dec1')\n",
      "plot(x,y)\n",
      "x,y=VU_vfreadxy('conv_dec1')\n",
      "hold=True\n",
      "plot(x,y)\n",
      "ylabel('dB');xlabel('F/Fs');title('FIR versus Convolution For Decimation 1')\n",
      "fig=gcf()\n",
      "fig.set_size_inches(5,2)\n",
      "fig.set_dpi(300)\n",
      "hold=False\n",
      "savefig('FirConvOne.eps',bbox_inches='tight')"
     ],
     "language": "python",
     "metadata": {},
     "outputs": [
      {
       "metadata": {},
       "output_type": "display_data",
       "png": "[encoded data removed]",
       "text": [
        "<matplotlib.figure.Figure at 0x111280b50>"
       ]
      }
     ],
     "prompt_number": 6
    },
    {
     "cell_type": "code",
     "collapsed": false,
     "input": [
      "x,y=VU_vfreadxy('fir_dec3')\n",
      "plot(x,(y),'r');hold=True\n",
      "x,y=VU_vfreadxy('conv_dec3')\n",
      "plot(x,y,'g')\n",
      "ylabel('dB');xlabel('F/Fs');title('FIR versus Convolution For Decimation 3')\n",
      "fig=gcf()\n",
      "fig.set_size_inches(5,2)\n",
      "fig.set_dpi(300)\n",
      "hold=False\n",
      "savefig('FirConvTwo.eps',bbox_inches='tight')"
     ],
     "language": "python",
     "metadata": {},
     "outputs": [
      {
       "metadata": {},
       "output_type": "display_data",
       "png": "[encoded data removed]",
       "text": [
        "<matplotlib.figure.Figure at 0x111673390>"
       ]
      }
     ],
     "prompt_number": 7
    },
    {
     "cell_type": "code",
     "collapsed": false,
     "input": [
      "x,y=VU_vfreadxy('kaiser_window')\n",
      "plot(x,y,'b.')\n",
      "hold=True\n",
      "plot(x,y,'r-')\n",
      "fig=gcf()\n",
      "fig.set_size_inches(5,1.)\n",
      "fig.set_dpi(300)\n",
      "ylabel('Magnitude');xlabel('Sample Point');title('Kaiser Window')\n",
      "savefig('kaiserWindow.eps',bbox_inches='tight')"
     ],
     "language": "python",
     "metadata": {},
     "outputs": [
      {
       "metadata": {},
       "output_type": "display_data",
       "png": "[encoded data removed]",
       "text": [
        "<matplotlib.figure.Figure at 0x1117eadd0>"
       ]
      }
     ],
     "prompt_number": 8
    },
    {
     "cell_type": "code",
     "collapsed": false,
     "input": [
      "x,y=VU_vfreadxy('Freq_Resp_Kaiser')\n",
      "plot(x,y,'c.')\n",
      "hold=True\n",
      "plot(x,y,'r-')\n",
      "fig=gcf()\n",
      "fig.set_size_inches(5,1.)\n",
      "fig.set_dpi(300)\n",
      "ylabel('dB');xlabel('F/Fs');title('Kaiser Window Frequency Response')\n",
      "savefig('FreqRespKaiser.eps',bbox_inches='tight')"
     ],
     "language": "python",
     "metadata": {},
     "outputs": [
      {
       "metadata": {},
       "output_type": "display_data",
       "png": "[encoded data removed]",
       "text": [
        "<matplotlib.figure.Figure at 0x11182f190>"
       ]
      }
     ],
     "prompt_number": 9
    },
    {
     "cell_type": "code",
     "collapsed": false,
     "input": [],
     "language": "python",
     "metadata": {},
     "outputs": [],
     "prompt_number": 9
    }
   ],
   "metadata": {}
  }
 ]
}