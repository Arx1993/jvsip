{
 "cells": [
  {
   "cell_type": "markdown",
   "metadata": {},
   "source": [
    "### Functions indexbool, anytrue, gather\n",
    "Compare a cosine vector against a zero vector and select those values greater than zero."
   ]
  },
  {
   "cell_type": "code",
   "execution_count": 1,
   "metadata": {
    "collapsed": false
   },
   "outputs": [
    {
     "name": "stdout",
     "output_type": "stream",
     "text": [
      "[(0, 1.0), (1, 0.9458172417006346), (2, 0.7891405093963937), (3, 0.546948158122427), (4, 0.24548548714079924), (15, 0.24548548714079876), (16, 0.5469481581224266), (17, 0.7891405093963935), (18, 0.9458172417006346), (19, 1.0)]\n"
     ]
    }
   ],
   "source": [
    "import pyJvsip as pjv\n",
    "from math import pi as pi\n",
    "view=pjv.create\n",
    "L = 20 # A length\n",
    "a = view('vview_d',L).ramp(0.0,2.0*pi/float(L-1))\n",
    "b = a.empty\n",
    "ab_bl=view('vview_bl',L)\n",
    "pjv.cos(a,b)\n",
    "a.fill(0.0)\n",
    "pjv.lgt(b,a,ab_bl)\n",
    "assert ab_bl.anytrue, 'No true values in boolean vector'\n",
    "ab_vi = ab_bl.indexbool\n",
    "pjv.gather(b,ab_vi,a.putlength(ab_vi.length))\n",
    "print(repr([(ab_vi[i], a[i]) for i in range(ab_vi.length)]))"
   ]
  },
  {
   "cell_type": "code",
   "execution_count": null,
   "metadata": {
    "collapsed": false
   },
   "outputs": [],
   "source": []
  }
 ],
 "metadata": {
  "kernelspec": {
   "display_name": "Python 3",
   "language": "python",
   "name": "python3"
  },
  "language_info": {
   "codemirror_mode": {
    "name": "ipython",
    "version": 3
   },
   "file_extension": ".py",
   "mimetype": "text/x-python",
   "name": "python",
   "nbconvert_exporter": "python",
   "pygments_lexer": "ipython3",
   "version": "3.5.0"
  }
 },
 "nbformat": 4,
 "nbformat_minor": 0
}
