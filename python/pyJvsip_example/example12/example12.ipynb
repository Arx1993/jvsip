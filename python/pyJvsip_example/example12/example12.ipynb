{
 "metadata": {
  "name": "",
  "signature": "sha256:f203f04814a608b5d5ff72b68b488e03bbfe2a6b006b3c5c9e35e6586483e48f"
 },
 "nbformat": 3,
 "nbformat_minor": 0,
 "worksheets": [
  {
   "cells": [
    {
     "cell_type": "markdown",
     "metadata": {},
     "source": [
      "### Demonstration of python function pointers\n",
      "There is no good reason to write this paticular code. If you want a matrix add pyJvsip allready knows how to do that.\n",
      "\n",
      "In the madd function we demonstrate creating a function pointer using colview and then use it to do and elementwise add of a matrix a column at a time."
     ]
    },
    {
     "cell_type": "code",
     "collapsed": false,
     "input": [
      "import pyJvsip as pjv"
     ],
     "language": "python",
     "metadata": {},
     "outputs": [],
     "prompt_number": 6
    },
    {
     "cell_type": "code",
     "collapsed": false,
     "input": [
      "def madd(A,B,C):\n",
      "    assert 'pyJvsip.__View' in repr(A),'Input parameters must be views of type pyJvsip.__View.'\n",
      "    assert type(A) == type(B) and type(A) == type(C),'Input paramteters must be the same type'\n",
      "    assert 'mview' in A.type,'Only matrix views are supported for madd.'\n",
      "    L = A.rowlength\n",
      "    a = A.colview\n",
      "    b = B.colview\n",
      "    c = C.colview\n",
      "    for i in range(L):\n",
      "        pjv.add(a(i),b(i),c(i))\n",
      "    return C"
     ],
     "language": "python",
     "metadata": {},
     "outputs": [],
     "prompt_number": 7
    },
    {
     "cell_type": "markdown",
     "metadata": {},
     "source": [
      "Below we create vector views and then recover the block to bind a matrix view on the data space. We then create some data using the ramp method on the vector views and excercise the madd function above."
     ]
    },
    {
     "cell_type": "code",
     "collapsed": false,
     "input": [
      "a = pjv.create('vview_d',50)\n",
      "b = pjv.create('vview_d',50)\n",
      "c = pjv.create('vview_d',50)\n",
      "A=a.block.bind(0,4,3,1,4)\n",
      "B=b.block.bind(0,4,3,1,4)\n",
      "C=c.block.bind(0,4,3,1,4)\n",
      "a.ramp(0.0,.01)\n",
      "b.ramp(0.0,1.0)\n",
      "madd(A,B,C);\n",
      "print('A = ');        A.mprint('%.2f')\n",
      "print('B= ');         B.mprint('%.2f')\n",
      "print(\"A + B = C = \");C.mprint('%.2f')"
     ],
     "language": "python",
     "metadata": {},
     "outputs": [
      {
       "output_type": "stream",
       "stream": "stdout",
       "text": [
        "A = \n",
        "[ 0.00  0.01  0.02  0.03;\n",
        "  0.04  0.05  0.06  0.07;\n",
        "  0.08  0.09  0.10  0.11]\n",
        "\n",
        "B= \n",
        "[ 0.00  1.00  2.00  3.00;\n",
        "  4.00  5.00  6.00  7.00;\n",
        "  8.00  9.00  10.00  11.00]\n",
        "\n",
        "A + B = C = \n",
        "[ 0.00  1.01  2.02  3.03;\n",
        "  4.04  5.05  6.06  7.07;\n",
        "  8.08  9.09  10.10  11.11]\n",
        "\n"
       ]
      }
     ],
     "prompt_number": 8
    },
    {
     "cell_type": "code",
     "collapsed": false,
     "input": [],
     "language": "python",
     "metadata": {},
     "outputs": []
    }
   ],
   "metadata": {}
  }
 ]
}