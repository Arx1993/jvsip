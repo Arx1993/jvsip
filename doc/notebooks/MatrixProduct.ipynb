{
 "cells": [
  {
   "cell_type": "markdown",
   "metadata": {},
   "source": [
    "###Examples of matrix products"
   ]
  },
  {
   "cell_type": "code",
   "execution_count": 2,
   "metadata": {
    "collapsed": true
   },
   "outputs": [],
   "source": [
    "import pyJvsip as pjv"
   ]
  },
  {
   "cell_type": "markdown",
   "metadata": {},
   "source": [
    "####Example of matrix product prod"
   ]
  },
  {
   "cell_type": "code",
   "execution_count": 3,
   "metadata": {
    "collapsed": false
   },
   "outputs": [
    {
     "name": "stdout",
     "output_type": "stream",
     "text": [
      "[ 0.508  0.535  0.699 -0.960  0.231;\n",
      "  0.040 -0.477  0.208  0.506 -0.383]\n",
      "\n",
      "Frobenius of difference 0.00\n"
     ]
    }
   ],
   "source": [
    "inA=pjv.create('mview_d',2,5).randn(5)\n",
    "inB=pjv.create('mview_d',5,5).identity\n",
    "outC=inA.prod(inB)\n",
    "outC.mprint('%.3f')\n",
    "print(\"Frobenius of difference %.2f\"%(inA-outC).normFro)"
   ]
  },
  {
   "cell_type": "code",
   "execution_count": 4,
   "metadata": {
    "collapsed": false
   },
   "outputs": [
    {
     "name": "stdout",
     "output_type": "stream",
     "text": [
      "[ 0.508  0.535  0.699 -0.960  0.231;\n",
      "  0.040 -0.477  0.208  0.506 -0.383]\n",
      "\n",
      "Frobenius of difference 0.00\n"
     ]
    }
   ],
   "source": [
    "inB=pjv.create('mview_d',2,2).identity\n",
    "outC=inB.prod(inA)\n",
    "outC.mprint('%.3f')\n",
    "print(\"Frobenius of difference %.2f\"%(inA-outC).normFro)"
   ]
  },
  {
   "cell_type": "markdown",
   "metadata": {},
   "source": [
    "####Example of prodj\n",
    "\n",
    "Conjugate matrix product"
   ]
  },
  {
   "cell_type": "code",
   "execution_count": 5,
   "metadata": {
    "collapsed": false
   },
   "outputs": [
    {
     "name": "stdout",
     "output_type": "stream",
     "text": [
      "C=A.prodj(B)\n",
      "A\n",
      "[ 1.071+1.203i  0.995-0.388i -0.396-1.182i -0.124+0.165i;\n",
      " -0.494+0.573i -0.837-0.167i  0.973-1.060i -1.526+0.190i;\n",
      "  0.254+1.634i  0.418+0.966i  0.351+2.008i -0.443+0.731i]\n",
      "\n",
      "B\n",
      "[-0.156-0.472i -1.057-0.728i;\n",
      "  0.813+0.340i  0.695+0.736i;\n",
      "  1.153-1.463i  0.531-1.387i;\n",
      " -0.372+0.749i  0.616-0.228i]\n",
      "\n",
      "C\n",
      "[ 1.384-2.247i -0.287-2.598i;\n",
      "  2.453+1.101i  0.404+0.091i;\n",
      " -1.963+3.397i -3.496+0.722i]\n",
      "\n"
     ]
    }
   ],
   "source": [
    "inA=pjv.create('cmview_f',3,4).randn(3)\n",
    "inB=pjv.create('cmview_f',4,2).randn(4)\n",
    "outC=inA.prodj(inB)\n",
    "print('C=A.prodj(B)');\n",
    "print('A');inA.mprint('%.3f')\n",
    "print('B');inB.mprint('%.3f')\n",
    "print('C');outC.mprint('%.3f')"
   ]
  },
  {
   "cell_type": "code",
   "execution_count": 6,
   "metadata": {
    "collapsed": false
   },
   "outputs": [
    {
     "name": "stdout",
     "output_type": "stream",
     "text": [
      "test using prod and inB.conj\n",
      "[ 1.384-2.247i -0.287-2.598i;\n",
      "  2.453+1.101i  0.404+0.091i;\n",
      " -1.963+3.397i -3.496+0.722i]\n",
      "\n"
     ]
    }
   ],
   "source": [
    "print('test using prod and inB.conj');pjv.prod(inA,(inB.conj),outC).mprint('%.3f')"
   ]
  },
  {
   "cell_type": "markdown",
   "metadata": {
    "collapsed": true
   },
   "source": [
    "####Example of prodh\n",
    "\n",
    "Hermitian matrix product"
   ]
  },
  {
   "cell_type": "code",
   "execution_count": 8,
   "metadata": {
    "collapsed": false
   },
   "outputs": [
    {
     "name": "stdout",
     "output_type": "stream",
     "text": [
      "C=A.prodj(B)\n",
      "A\n",
      "[ 1.071+1.203i  0.995-0.388i -0.396-1.182i -0.124+0.165i;\n",
      " -0.494+0.573i -0.837-0.167i  0.973-1.060i -1.526+0.190i;\n",
      "  0.254+1.634i  0.418+0.966i  0.351+2.008i -0.443+0.731i]\n",
      "\n",
      "B\n",
      "[-0.156-0.472i -1.057-0.728i  0.813+0.340i  0.695+0.736i;\n",
      "  1.153-1.463i  0.531-1.387i -0.372+0.749i  0.616-0.228i]\n",
      "\n",
      "C\n",
      "[-2.193+0.832i -0.311+4.938i;\n",
      "  0.322-0.693i -3.759-1.877i;\n",
      " -0.758+1.496i -2.282+2.687i]\n",
      "\n"
     ]
    }
   ],
   "source": [
    "inA=pjv.create('cmview_f',3,4).randn(3)\n",
    "inB=pjv.create('cmview_f',2,4).randn(4)\n",
    "outC=inA.prodh(inB)\n",
    "print('C=A.prodj(B)');\n",
    "print('A');inA.mprint('%.3f')\n",
    "print('B');inB.mprint('%.3f')\n",
    "print('C');outC.mprint('%.3f')"
   ]
  },
  {
   "cell_type": "code",
   "execution_count": 9,
   "metadata": {
    "collapsed": false
   },
   "outputs": [
    {
     "name": "stdout",
     "output_type": "stream",
     "text": [
      "test using prod and inB.herm\n",
      "[-2.193+0.832i -0.311+4.938i;\n",
      "  0.322-0.693i -3.759-1.877i;\n",
      " -0.758+1.496i -2.282+2.687i]\n",
      "\n"
     ]
    }
   ],
   "source": [
    "print('test using prod and inB.herm');pjv.prod(inA,(inB.herm),outC).mprint('%.3f')"
   ]
  },
  {
   "cell_type": "markdown",
   "metadata": {},
   "source": [
    "####Example of prodt\n",
    "\n",
    "Transpose matrix product."
   ]
  },
  {
   "cell_type": "code",
   "execution_count": 11,
   "metadata": {
    "collapsed": false
   },
   "outputs": [
    {
     "name": "stdout",
     "output_type": "stream",
     "text": [
      "C=A.prodj(B)\n",
      "A\n",
      "[ 1.071+1.203i  0.995-0.388i -0.396-1.182i -0.124+0.165i;\n",
      " -0.494+0.573i -0.837-0.167i  0.973-1.060i -1.526+0.190i;\n",
      "  0.254+1.634i  0.418+0.966i  0.351+2.008i -0.443+0.731i]\n",
      "\n",
      "B\n",
      "[-0.156-0.472i -1.057-0.728i  0.813+0.340i  0.695+0.736i;\n",
      "  1.153-1.463i  0.531-1.387i -0.372+0.749i  0.616-0.228i]\n",
      "\n",
      "C\n",
      "[-1.060-2.080i  3.979-1.491i;\n",
      "  1.062-0.593i -0.872+4.044i;\n",
      " -0.251+0.233i  2.505+1.512i]\n",
      "\n"
     ]
    }
   ],
   "source": [
    "inA=pjv.create('cmview_f',3,4).randn(3)\n",
    "inB=pjv.create('cmview_f',2,4).randn(4)\n",
    "outC=inA.prodt(inB)\n",
    "print('C=A.prodj(B)');\n",
    "print('A');inA.mprint('%.3f')\n",
    "print('B');inB.mprint('%.3f')\n",
    "print('C');outC.mprint('%.3f')"
   ]
  },
  {
   "cell_type": "code",
   "execution_count": 12,
   "metadata": {
    "collapsed": false
   },
   "outputs": [
    {
     "name": "stdout",
     "output_type": "stream",
     "text": [
      "test using prod and inB.herm\n",
      "[-1.060-2.080i  3.979-1.491i;\n",
      "  1.062-0.593i -0.872+4.044i;\n",
      " -0.251+0.233i  2.505+1.512i]\n",
      "\n"
     ]
    }
   ],
   "source": [
    "print('test using prod and inB.herm');pjv.prod(inA,(inB.transview),outC).mprint('%.3f')"
   ]
  },
  {
   "cell_type": "code",
   "execution_count": 14,
   "metadata": {
    "collapsed": false
   },
   "outputs": [
    {
     "name": "stdout",
     "output_type": "stream",
     "text": [
      "[ 1.0 -1.0  0.0;\n",
      " -1.0  1.0 -1.0;\n",
      "  0.0 -1.0  1.0]\n",
      "\n"
     ]
    }
   ],
   "source": [
    "inA=pjv.create('mview_f',3,3).fill(0.0);\n",
    "inA.diagview(0).fill(1.0)\n",
    "inA.diagview(-1).fill(-1.0)\n",
    "inA.diagview(1).fill(-1.0)\n",
    "inA.mprint('%.1f')"
   ]
  },
  {
   "cell_type": "code",
   "execution_count": 16,
   "metadata": {
    "collapsed": false
   },
   "outputs": [],
   "source": [
    "inB=pjv.create('mview_f',3,10).randn(14)"
   ]
  },
  {
   "cell_type": "code",
   "execution_count": 19,
   "metadata": {
    "collapsed": false
   },
   "outputs": [
    {
     "name": "stdout",
     "output_type": "stream",
     "text": [
      "[ 0.555 -1.017 -0.534  0.872 -1.029  1.373 -1.534 -2.648 -0.214  2.112;\n",
      " -0.796 -0.389  0.591 -0.835 -0.654  0.024  3.188  2.993  0.176 -2.690;\n",
      " -0.202  1.608 -0.422  0.629  1.406 -1.663 -2.301 -2.322 -0.565  2.163]\n",
      "\n"
     ]
    }
   ],
   "source": [
    "pjv.prod3(inA,inB,inB.empty).mprint('%.3f')"
   ]
  },
  {
   "cell_type": "code",
   "execution_count": null,
   "metadata": {
    "collapsed": true
   },
   "outputs": [],
   "source": []
  }
 ],
 "metadata": {
  "kernelspec": {
   "display_name": "Python 2",
   "language": "python",
   "name": "python2"
  },
  "language_info": {
   "codemirror_mode": {
    "name": "ipython",
    "version": 2
   },
   "file_extension": ".py",
   "mimetype": "text/x-python",
   "name": "python",
   "nbconvert_exporter": "python",
   "pygments_lexer": "ipython2",
   "version": "2.7.9"
  }
 },
 "nbformat": 4,
 "nbformat_minor": 0
}
