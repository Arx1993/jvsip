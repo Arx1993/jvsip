{
 "metadata": {
  "name": "Info_Rand_dataGeneratorNB"
 },
 "nbformat": 3,
 "nbformat_minor": 0,
 "worksheets": [
  {
   "cells": [
    {
     "cell_type": "markdown",
     "metadata": {},
     "source": [
      "## Random Number Generators in JVSIP   \n",
      "VSIPL has pseudo random number generators defined for normal and uniform random numbers. To support these in pyJvsip there a Rand Class and also view methods to fill vector or matrix objects. Random only supports float types."
     ]
    },
    {
     "cell_type": "code",
     "collapsed": false,
     "input": [
      "import pyJvsip as pv\n",
      "f='%.4f'\n",
      "rnd0=pv.Rand('PRNG',8)\n",
      "rnd1=pv.Rand('NPRNG',7)"
     ],
     "language": "python",
     "metadata": {},
     "outputs": [],
     "prompt_number": 2
    },
    {
     "cell_type": "markdown",
     "metadata": {},
     "source": [
      "The strings 'PRNG' and 'NPRNG' indicate the random number generator is initialzed for either the defined portable random number generator or the optional vendor defined random number generator. The integer is a seed and may be any integer."
     ]
    },
    {
     "cell_type": "code",
     "collapsed": false,
     "input": [
      "v=pv.create('mview_d',4,5)\n",
      "rnd0.randn(v)\n",
      "v.mprint(f)"
     ],
     "language": "python",
     "metadata": {},
     "outputs": [
      {
       "output_type": "stream",
       "stream": "stdout",
       "text": [
        "[-0.3286 -0.3829 -1.2573  0.4283  0.5701;\n",
        "  0.2398  0.7201 -0.0852  0.1339  0.2538;\n",
        " -0.7474  0.1201  0.1428  0.5643 -0.3795;\n",
        " -0.0504  0.3772 -0.9233 -1.8959  0.3086]\n",
        "\n"
       ]
      }
     ],
     "prompt_number": 3
    },
    {
     "cell_type": "code",
     "collapsed": false,
     "input": [
      "rnd1.randn(v).mprint(f)"
     ],
     "language": "python",
     "metadata": {},
     "outputs": [
      {
       "output_type": "stream",
       "stream": "stdout",
       "text": [
        "[ 0.7808  0.9737 -1.1415  0.0192 -0.6047;\n",
        "  1.0886  0.4562 -0.3245 -0.0304  0.6803;\n",
        "  2.3760 -1.8170 -0.4740 -0.5328 -0.1706;\n",
        "  0.2932 -1.3470  0.4216 -0.0305  1.3867]\n",
        "\n"
       ]
      }
     ],
     "prompt_number": 4
    },
    {
     "cell_type": "code",
     "collapsed": false,
     "input": [
      "rnd0.randu(v).mprint(f)"
     ],
     "language": "python",
     "metadata": {},
     "outputs": [
      {
       "output_type": "stream",
       "stream": "stdout",
       "text": [
        "[ 0.0368  0.0039  0.3856  0.6153  0.2628;\n",
        "  0.4052  0.5241  0.2958  0.6370  0.8080;\n",
        "  0.6856  0.7224  0.3708  0.5877  0.1731;\n",
        "  0.7140  0.6247  0.5013  0.2944  0.0542]\n",
        "\n"
       ]
      }
     ],
     "prompt_number": 5
    },
    {
     "cell_type": "code",
     "collapsed": false,
     "input": [
      "rnd1.randu(v).mprint(f)"
     ],
     "language": "python",
     "metadata": {},
     "outputs": [
      {
       "output_type": "stream",
       "stream": "stdout",
       "text": [
        "[ 0.0008  0.9789  0.2349  0.5281  0.8732;\n",
        "  0.4144  0.6440  0.7271  0.8480  0.4828;\n",
        "  0.2623  0.2612  0.3827  0.3904  0.7147;\n",
        "  0.8405  0.4086  0.1202  0.7236  0.4165]\n",
        "\n"
       ]
      }
     ],
     "prompt_number": 6
    },
    {
     "cell_type": "markdown",
     "metadata": {},
     "source": [
      "You can also use the view methods. Given view v, v.randn(seed) where seed is some integer will fill the view with N(0,1) numbers. Method randu will do the same for uniform random numbers. The view method will always use the portable random number generator."
     ]
    },
    {
     "cell_type": "code",
     "collapsed": false,
     "input": [
      "pv.create('vview_f',10).randn(8).mprint(f)"
     ],
     "language": "python",
     "metadata": {},
     "outputs": [
      {
       "output_type": "stream",
       "stream": "stdout",
       "text": [
        "[-0.3286 -0.3829 -1.2573  0.4283  0.5701  0.2398  0.7201 -0.0852  0.1339  0.2538]\n",
        "\n"
       ]
      }
     ],
     "prompt_number": 8
    },
    {
     "cell_type": "code",
     "collapsed": false,
     "input": [
      "a=pv.create('vview_d',10000).randn(15)"
     ],
     "language": "python",
     "metadata": {},
     "outputs": [],
     "prompt_number": 10
    },
    {
     "cell_type": "code",
     "collapsed": false,
     "input": [
      "b=pv.create('vview_d',20).fill(0.0)"
     ],
     "language": "python",
     "metadata": {},
     "outputs": [],
     "prompt_number": 11
    },
    {
     "cell_type": "code",
     "collapsed": false,
     "input": [
      "pv.histo(a,a.minval,a.maxval,'RESET',b)\n",
      "x=b.empty.ramp(a.minval,(a.maxval-a.minval)/(b.length-1))"
     ],
     "language": "python",
     "metadata": {},
     "outputs": [],
     "prompt_number": 17
    },
    {
     "cell_type": "code",
     "collapsed": false,
     "input": [
      "plot(x.list,b.list)"
     ],
     "language": "python",
     "metadata": {},
     "outputs": [
      {
       "output_type": "pyout",
       "prompt_number": 18,
       "text": [
        "[<matplotlib.lines.Line2D at 0x109fa6610>]"
       ]
      },
      {
       "output_type": "display_data",
       "png": "[encoded data removed]"
      }
     ],
     "prompt_number": 18
    },
    {
     "cell_type": "code",
     "collapsed": false,
     "input": [
      "a=pv.create('vview_d',10000).randu(15)\n",
      "x.ramp(0,1.0/(b.length-1))\n",
      "plot(x.list,pv.histo(a,0.0,1.0,'RESET',b.fill(0.0)).list)"
     ],
     "language": "python",
     "metadata": {},
     "outputs": [
      {
       "output_type": "pyout",
       "prompt_number": 21,
       "text": [
        "[<matplotlib.lines.Line2D at 0x10a1a67d0>]"
       ]
      },
      {
       "output_type": "display_data",
       "png": "[encoded data removed]"
      }
     ],
     "prompt_number": 21
    },
    {
     "cell_type": "code",
     "collapsed": false,
     "input": [],
     "language": "python",
     "metadata": {},
     "outputs": []
    }
   ],
   "metadata": {}
  }
 ]
}