{
 "cells": [
  {
   "cell_type": "markdown",
   "metadata": {},
   "source": [
    "### Sort\n",
    "Sorting is done in-place and accomplished with the *sortip* method.  The method will create and return an index vector associated with the sort, or use an index vector supplied by the user.  Sorting may be done by value or by magnitude and be wither smallest to largest (asscending) or largest to smallest (descending).\n",
    "\n",
    "The baseline call is  \n",
    "`indx=aVector.sortip(mode,dir,fill,indx)`  \n",
    "where  \n",
    "** mode ** is a string **`'BYVALUE'`** or **`'BYMAGNITUDE'` **  \n",
    "** dir ** is a string **`'ASCENDING'`** or **`'DESCENDING'` **  \n",
    "** fill ** is a boolean `True` or `False`  \n",
    "** indx ** is a view of type vector index of length `self.length`  \n",
    "\n",
    "If **fill** is `True` then the index vector is initialized as a ramp otherwise it is used as is.\n",
    "If **fill** is `False` and no index vector is supplied then no index vector is calculated and returned.  \n",
    "If **fill** is `True` and no index vector is supplied then the function creates and index vector.  \n",
    "If **fill** is not supplied it is assumed to be true.  \n",
    "\n",
    "You may call `sortip` with no arguments as in   \n",
    "`indx=aVector.sortip()`  \n",
    "which is the same as  \n",
    "`indx=aVector.sotip('BYVALUE','ASCENDING',True)`  "
   ]
  },
  {
   "cell_type": "code",
   "execution_count": 13,
   "metadata": {
    "collapsed": true
   },
   "outputs": [],
   "source": [
    "%matplotlib inline\n",
    "from matplotlib.pylab import *\n",
    "import pyJvsip as pjv\n",
    "f='%.4f'"
   ]
  },
  {
   "cell_type": "markdown",
   "metadata": {},
   "source": [
    "We make up some data to sort."
   ]
  },
  {
   "cell_type": "code",
   "execution_count": 14,
   "metadata": {
    "collapsed": true
   },
   "outputs": [],
   "source": [
    "blk=pjv.Block('block_f',1000) #make up a block with 1000 data points\n",
    "blk.vector.randn(10) #initialize block with some random values\n",
    "v=blk.bind(305,-3,8) #create a vector. Use obnoxious attributes to see if an error pops up."
   ]
  },
  {
   "cell_type": "markdown",
   "metadata": {},
   "source": [
    "Print the data of interest. Make a copy of the data.  Since this is done in place we want to be able to see where we started."
   ]
  },
  {
   "cell_type": "code",
   "execution_count": 15,
   "metadata": {
    "collapsed": false
   },
   "outputs": [
    {
     "name": "stdout",
     "output_type": "stream",
     "text": [
      "[ 0.3609 -1.3496  0.0640  0.2216 -0.9761 -0.2249  0.5250  0.1293]\n",
      "\n",
      "[ 0.3609 -1.3496  0.0640  0.2216 -0.9761 -0.2249  0.5250  0.1293]\n",
      "\n"
     ]
    }
   ],
   "source": [
    "y=v.copy #copy back into v to maintain data state\n",
    "v.mprint(f)\n",
    "y.mprint(f)"
   ]
  },
  {
   "cell_type": "code",
   "execution_count": 16,
   "metadata": {
    "collapsed": false
   },
   "outputs": [
    {
     "name": "stdout",
     "output_type": "stream",
     "text": [
      "[ 0.3609 -1.3496  0.0640  0.2216 -0.9761 -0.2249  0.5250  0.1293]\n",
      "\n",
      "[-1.3496 -0.9761 -0.2249  0.0640  0.1293  0.2216  0.3609  0.5250]\n",
      "\n",
      "[ 1  4  5  2  7  3  0  6]\n",
      "\n",
      "[ 0.3609 -1.3496  0.0640  0.2216 -0.9761 -0.2249  0.5250  0.1293]\n",
      "\n",
      "[-1.3496 -0.9761 -0.2249  0.0640  0.1293  0.2216  0.3609  0.5250]\n",
      "\n",
      "[ 1  4  5  2  7  3  0  6]\n",
      "\n"
     ]
    }
   ],
   "source": [
    "y=v.copy\n",
    "ind=v.sortip()\n",
    "y.mprint(f);v.mprint(f);ind.mprint(\"%d\")\n",
    "pjv.copy(y,v)\n",
    "ind=v.sortip('BYVALUE','ASCENDING',True,ind)\n",
    "y.mprint(f);v.mprint(f);ind.mprint(\"%d\")\n"
   ]
  },
  {
   "cell_type": "markdown",
   "metadata": {},
   "source": [
    "Below we do some more sorts with various options but use False (don't re-initialize index) and suppply the index vector.  Note by doing this the index keeps track of the origional position of each value not matter the new sort."
   ]
  },
  {
   "cell_type": "code",
   "execution_count": 17,
   "metadata": {
    "collapsed": false
   },
   "outputs": [
    {
     "name": "stdout",
     "output_type": "stream",
     "text": [
      "[ 1  4  5  2  7  3  0  6]\n",
      "\n",
      "[-1.3496 -0.9761 -0.2249  0.0640  0.1293  0.2216  0.3609  0.5250]\n",
      "\n"
     ]
    }
   ],
   "source": [
    "ind=v.sortip('BYVALUE','ASCENDING',False,ind)\n",
    "ind.mprint(\"%d\")\n",
    "v.mprint(f)"
   ]
  },
  {
   "cell_type": "code",
   "execution_count": 18,
   "metadata": {
    "collapsed": false
   },
   "outputs": [
    {
     "name": "stdout",
     "output_type": "stream",
     "text": [
      "[ 2  7  3  5  0  6  4  1]\n",
      "\n",
      "[ 0.0640  0.1293  0.2216 -0.2249  0.3609  0.5250 -0.9761 -1.3496]\n",
      "\n"
     ]
    }
   ],
   "source": [
    "ind=v.sortip('BYMAGNITUDE','ASCENDING',False,ind)\n",
    "ind.mprint(\"%d\")\n",
    "v.mprint(f)"
   ]
  },
  {
   "cell_type": "code",
   "execution_count": 19,
   "metadata": {
    "collapsed": false
   },
   "outputs": [
    {
     "name": "stdout",
     "output_type": "stream",
     "text": [
      "[ 1  4  5  2  7  3  0  6]\n",
      "\n",
      "[-1.3496 -0.9761 -0.2249  0.0640  0.1293  0.2216  0.3609  0.5250]\n",
      "\n"
     ]
    }
   ],
   "source": [
    "ind=v.sortip('BYVALUE','ASCENDING',False,ind)\n",
    "ind.mprint(\"%d\")\n",
    "v.mprint(f)"
   ]
  },
  {
   "cell_type": "code",
   "execution_count": 20,
   "metadata": {
    "collapsed": false
   },
   "outputs": [
    {
     "name": "stdout",
     "output_type": "stream",
     "text": [
      "[ 6  0  3  7  2  5  4  1]\n",
      "\n",
      "[ 0.5250  0.3609  0.2216  0.1293  0.0640 -0.2249 -0.9761 -1.3496]\n",
      "\n"
     ]
    }
   ],
   "source": [
    "ind=v.sortip('BYVALUE','DESCENDING',False,ind)\n",
    "ind.mprint(\"%d\")\n",
    "v.mprint(f)"
   ]
  },
  {
   "cell_type": "code",
   "execution_count": 21,
   "metadata": {
    "collapsed": false
   },
   "outputs": [
    {
     "name": "stdout",
     "output_type": "stream",
     "text": [
      "[ 1  4  5  2  7  3  0  6]\n",
      "\n",
      "[-1.3496 -0.9761 -0.2249  0.0640  0.1293  0.2216  0.3609  0.5250]\n",
      "\n"
     ]
    }
   ],
   "source": [
    "ind=v.sortip('BYVALUE','ASCENDING',False,ind)\n",
    "ind.mprint(\"%d\")\n",
    "v.mprint(f)"
   ]
  },
  {
   "cell_type": "code",
   "execution_count": null,
   "metadata": {
    "collapsed": true
   },
   "outputs": [],
   "source": []
  }
 ],
 "metadata": {
  "kernelspec": {
   "display_name": "Python 2",
   "language": "python",
   "name": "python2"
  },
  "language_info": {
   "codemirror_mode": {
    "name": "ipython",
    "version": 2
   },
   "file_extension": ".py",
   "mimetype": "text/x-python",
   "name": "python",
   "nbconvert_exporter": "python",
   "pygments_lexer": "ipython2",
   "version": "2.7.10"
  }
 },
 "nbformat": 4,
 "nbformat_minor": 0
}
