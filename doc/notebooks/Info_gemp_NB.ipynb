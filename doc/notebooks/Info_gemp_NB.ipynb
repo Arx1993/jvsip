{
 "cells": [
  {
   "cell_type": "markdown",
   "metadata": {},
   "source": [
    "#### General matrix Product   \n",
    "Below we write some simple cases for a general matrix product. The cases are not all inclusive; but they do demonstrate how to use `gemp` and how to check to see if I JVSIP is getting the right answers. I suspect gemp has not been well tested and may need work."
   ]
  },
  {
   "cell_type": "code",
   "execution_count": 1,
   "metadata": {
    "collapsed": false
   },
   "outputs": [],
   "source": [
    "import pyJvsip as pjv"
   ]
  },
  {
   "cell_type": "code",
   "execution_count": 2,
   "metadata": {
    "collapsed": false
   },
   "outputs": [
    {
     "name": "stdout",
     "output_type": "stream",
     "text": [
      "Help on function gemp in module vsipLinearAlgebra:\n",
      "\n",
      "gemp(alpha, a, op_a, b, op_b, beta, c)\n",
      "    General Matrix Product C = alpha * op_a(a).prod(op_b(b)) + beta * C\n",
      "    See VSIP specification for additional information.\n",
      "    This function is always in place into C.\n",
      "    Usage:\n",
      "       gemp(alpha, a, op_a, b, op_b, beta, c)\n",
      "    Where:\n",
      "        alpha is a scalar multiplier on view op_a(a)\n",
      "        a is a matrix view of type (real or complex) float\n",
      "        op_a is a matrix operation on view a\n",
      "        b is a matrix view of the same type as a\n",
      "        op_b is a matrix operation on view b\n",
      "        beta is a scalar multiplier on view c\n",
      "        c is a view of the same type as a (input/output) \n",
      "    op_a and op_b may be 'NTRANS', 'TRANS', 'HERM', or 'CONJ'\n",
      "    if a and b are real then 'HERM' is the same as 'TRANS' and 'CONJ' is \n",
      "    the same as 'NTRANS'\n",
      "\n"
     ]
    }
   ],
   "source": [
    "help(pjv.gemp)"
   ]
  },
  {
   "cell_type": "markdown",
   "metadata": {},
   "source": [
    "Note the check should be zero. Close to zero may indicate a problem or may just be numerical accuracy problem. "
   ]
  },
  {
   "cell_type": "code",
   "execution_count": 3,
   "metadata": {
    "collapsed": false
   },
   "outputs": [
    {
     "name": "stdout",
     "output_type": "stream",
     "text": [
      "check\n",
      "0.0000e+00\n",
      "check\n",
      "0.0000e+00\n"
     ]
    }
   ],
   "source": [
    "A=pjv.create('cmview_d',4,6).randn(4)\n",
    "B=pjv.create(A.type,6,4).randn(5)\n",
    "C=pjv.create(A.type,4,4).fill(0.0)\n",
    "pjv.gemp(complex(.1,.1),A,'NTRANS',B,'NTRANS',2,C)\n",
    "print('check');print('%.4e'%(C-complex(.1,.1) * A.prod(B)).normFro)\n",
    "ct=C.copy\n",
    "pjv.gemp(complex(.1,.1),A,'NTRANS',B,'NTRANS',2,C)\n",
    "print('check');print('%.4e'%(C-(complex(.1,.1) * A.prod(B)+2*ct)).normFro)"
   ]
  },
  {
   "cell_type": "code",
   "execution_count": 4,
   "metadata": {
    "collapsed": false
   },
   "outputs": [
    {
     "name": "stdout",
     "output_type": "stream",
     "text": [
      "check\n",
      "6.0005e-17\n",
      "check\n",
      "1.3988e-16\n"
     ]
    }
   ],
   "source": [
    "A=pjv.create('mview_d',4,6).randn(4)\n",
    "B=pjv.create(A.type,6,4).randn(5)\n",
    "C=pjv.create(A.type,4,4).fill(0.0)\n",
    "pjv.gemp(.1,A,'NTRANS',B,'NTRANS',2,C)\n",
    "print('check');print('%.4e'%(C-.1 * A.prod(B)).normFro)\n",
    "ct=C.copy\n",
    "pjv.gemp(.1,A,'NTRANS',B,'NTRANS',2,C)\n",
    "print('check');print('%.4e'%(C-(.1 * A.prod(B)+2*ct)).normFro)"
   ]
  },
  {
   "cell_type": "code",
   "execution_count": 5,
   "metadata": {
    "collapsed": false
   },
   "outputs": [
    {
     "name": "stdout",
     "output_type": "stream",
     "text": [
      "check\n",
      "0.0000e+00\n",
      "check\n",
      "0.0000e+00\n"
     ]
    }
   ],
   "source": [
    "A=pjv.create('cmview_f',4,6).randn(4)\n",
    "B=pjv.create(A.type,6,4).randn(5)\n",
    "C=pjv.create(A.type,4,4).fill(0.0)\n",
    "pjv.gemp(complex(.1,.1),A,'NTRANS',B,'NTRANS',2,C)\n",
    "print('check');print('%.4e'%(C-complex(.1,.1) * A.prod(B)).normFro)\n",
    "ct=C.copy\n",
    "pjv.gemp(complex(.1,.1),A,'NTRANS',B,'NTRANS',2,C)\n",
    "print('check');print('%.4e'%(C-(complex(.1,.1) * A.prod(B)+2*ct)).normFro)"
   ]
  },
  {
   "cell_type": "code",
   "execution_count": 6,
   "metadata": {
    "collapsed": false
   },
   "outputs": [
    {
     "name": "stdout",
     "output_type": "stream",
     "text": [
      "check\n",
      "3.7171e-08\n",
      "check\n",
      "1.1312e-07\n"
     ]
    }
   ],
   "source": [
    "A=pjv.create('mview_f',4,6).randn(4)\n",
    "B=pjv.create(A.type,6,4).randn(5)\n",
    "C=pjv.create(A.type,4,4).fill(0.0)\n",
    "pjv.gemp(.1,A,'NTRANS',B,'NTRANS',2,C)\n",
    "print('check');print('%.4e'%(C-.1 * A.prod(B)).normFro)\n",
    "ct=C.copy\n",
    "pjv.gemp(.1,A,'NTRANS',B,'NTRANS',2,C)\n",
    "print('check');print('%.4e'%(C-(.1 * A.prod(B)+2*ct)).normFro)"
   ]
  },
  {
   "cell_type": "code",
   "execution_count": 7,
   "metadata": {
    "collapsed": false
   },
   "outputs": [
    {
     "name": "stdout",
     "output_type": "stream",
     "text": [
      "check\n",
      "0.0000e+00\n",
      "check\n",
      "0.0000e+00\n"
     ]
    }
   ],
   "source": [
    "A=pjv.create('cmview_d',4,6).randn(4)\n",
    "B=pjv.create(A.type,4,6).randn(5)\n",
    "C=pjv.create(A.type,4,4).fill(0.0)\n",
    "pjv.gemp(complex(.1,.1),A,'NTRANS',B,'TRANS',2,C)\n",
    "print('check');print('%.4e'%(C-complex(.1,.1) * A.prod(B.transview)).normFro)\n",
    "ct=C.copy\n",
    "pjv.gemp(complex(.1,.1),A,'NTRANS',B,'TRANS',2,C)\n",
    "print('check');print('%.4e'%(C-(complex(.1,.1) * A.prod(B.transview)+2*ct)).normFro)"
   ]
  },
  {
   "cell_type": "code",
   "execution_count": 8,
   "metadata": {
    "collapsed": false
   },
   "outputs": [
    {
     "name": "stdout",
     "output_type": "stream",
     "text": [
      "check\n",
      "0.0000e+00\n",
      "check\n",
      "0.0000e+00\n"
     ]
    }
   ],
   "source": [
    "A=pjv.create('cmview_d',4,6).randn(4)\n",
    "B=pjv.create(A.type,4,6).randn(5)\n",
    "C=pjv.create(A.type,4,4).fill(0.0)\n",
    "pjv.gemp(complex(.1,.1),A,'NTRANS',B,'HERM',2,C)\n",
    "print('check');print('%.4e'%(C-complex(.1,.1) * A.prod(B.herm)).normFro)\n",
    "ct=C.copy\n",
    "pjv.gemp(complex(.1,.1),A,'NTRANS',B,'HERM',2,C)\n",
    "print('check');print('%.4e'%(C-(complex(.1,.1) * A.prod(B.herm)+2*ct)).normFro)"
   ]
  },
  {
   "cell_type": "code",
   "execution_count": 9,
   "metadata": {
    "collapsed": false
   },
   "outputs": [
    {
     "name": "stdout",
     "output_type": "stream",
     "text": [
      "check\n",
      "0.0000e+00\n",
      "check\n",
      "0.0000e+00\n"
     ]
    }
   ],
   "source": [
    "A=pjv.create('cmview_f',4,6).randn(4)\n",
    "B=pjv.create(A.type,4,6).randn(5)\n",
    "C=pjv.create(A.type,4,4).fill(0.0)\n",
    "pjv.gemp(complex(.1,.1),A,'NTRANS',B,'TRANS',2,C)\n",
    "print('check');print('%.4e'%(C-complex(.1,.1) * A.prod(B.transview)).normFro)\n",
    "ct=C.copy\n",
    "pjv.gemp(complex(.1,.1),A,'NTRANS',B,'TRANS',2,C)\n",
    "print('check');print('%.4e'%(C-(complex(.1,.1) * A.prod(B.transview)+2*ct)).normFro)"
   ]
  },
  {
   "cell_type": "code",
   "execution_count": 10,
   "metadata": {
    "collapsed": false
   },
   "outputs": [
    {
     "name": "stdout",
     "output_type": "stream",
     "text": [
      "check\n",
      "0.0000e+00\n",
      "check\n",
      "0.0000e+00\n"
     ]
    }
   ],
   "source": [
    "A=pjv.create('mview_d',4,6).randn(4)\n",
    "B=pjv.create(A.type,4,6).randn(5)\n",
    "C=pjv.create(A.type,4,4).fill(0.0)\n",
    "pjv.gemp(.1,A,'NTRANS',B,'TRANS',2,C)\n",
    "print('check');print('%.4e'%(C-.1 * A.prod(B.herm)).normFro)\n",
    "ct=C.copy\n",
    "pjv.gemp(.1,A,'NTRANS',B,'TRANS',2,C)\n",
    "print('check');print('%.4e'%(C-(.1 * A.prod(B.herm)+2*ct)).normFro)"
   ]
  },
  {
   "cell_type": "code",
   "execution_count": 11,
   "metadata": {
    "collapsed": false
   },
   "outputs": [
    {
     "name": "stdout",
     "output_type": "stream",
     "text": [
      "check\n",
      "0.0000e+00\n",
      "check\n",
      "0.0000e+00\n"
     ]
    }
   ],
   "source": [
    "A=pjv.create('mview_f',4,6).randn(4)\n",
    "B=pjv.create(A.type,4,6).randn(5)\n",
    "C=pjv.create(A.type,4,4).fill(0.0)\n",
    "pjv.gemp(.1,A,'NTRANS',B,'TRANS',2,C)\n",
    "print('check');print('%.4e'%(C-.1 * A.prod(B.transview)).normFro)\n",
    "ct=C.copy\n",
    "pjv.gemp(.1,A,'NTRANS',B,'TRANS',2,C)\n",
    "print('check');print('%.4e'%(C-(.1 * A.prod(B.transview)+2*ct)).normFro)"
   ]
  },
  {
   "cell_type": "code",
   "execution_count": 12,
   "metadata": {
    "collapsed": false
   },
   "outputs": [
    {
     "name": "stdout",
     "output_type": "stream",
     "text": [
      "check\n",
      "0.0000e+00\n",
      "check\n",
      "0.0000e+00\n"
     ]
    }
   ],
   "source": [
    "A=pjv.create('cmview_d',6,4).randn(4)\n",
    "B=pjv.create(A.type,4,6).randn(5)\n",
    "C=pjv.create(A.type,4,4).fill(0.0)\n",
    "pjv.gemp(complex(.1,.1),A,'HERM',B,'TRANS',2,C)\n",
    "print('check');print('%.4e'%(C-complex(.1,.1) * A.herm.prod(B.transview)).normFro)\n",
    "ct=C.copy\n",
    "pjv.gemp(complex(.1,.1),A,'HERM',B,'TRANS',2,C)\n",
    "print('check');print('%.4e'%(C-(complex(.1,.1) * A.herm.prod(B.transview)+2*ct)).normFro)"
   ]
  },
  {
   "cell_type": "code",
   "execution_count": 13,
   "metadata": {
    "collapsed": false
   },
   "outputs": [
    {
     "name": "stdout",
     "output_type": "stream",
     "text": [
      "check\n",
      "3.3386e-08\n",
      "check\n",
      "1.0360e-07\n"
     ]
    }
   ],
   "source": [
    "A=pjv.create('mview_f',6,4).randn(4)\n",
    "B=pjv.create(A.type,4,6).randn(5)\n",
    "C=pjv.create(A.type,4,4).fill(0.0)\n",
    "pjv.gemp(.1,A,'TRANS',B,'TRANS',2,C)\n",
    "print('check');print('%.4e'%(C-.1 * A.transview.prod(B.transview)).normFro)\n",
    "ct=C.copy\n",
    "pjv.gemp(.1,A,'TRANS',B,'TRANS',2,C)\n",
    "print('check');print('%.4e'%(C-(.1 * A.transview.prod(B.transview)+2*ct)).normFro)"
   ]
  },
  {
   "cell_type": "code",
   "execution_count": null,
   "metadata": {
    "collapsed": true
   },
   "outputs": [],
   "source": []
  }
 ],
 "metadata": {
  "kernelspec": {
   "display_name": "Python 3",
   "language": "python",
   "name": "python3"
  },
  "language_info": {
   "codemirror_mode": {
    "name": "ipython",
    "version": 3
   },
   "file_extension": ".py",
   "mimetype": "text/x-python",
   "name": "python",
   "nbconvert_exporter": "python",
   "pygments_lexer": "ipython3",
   "version": "3.5.0"
  }
 },
 "nbformat": 4,
 "nbformat_minor": 0
}
