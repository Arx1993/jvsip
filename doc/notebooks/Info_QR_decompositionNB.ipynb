{
 "metadata": {
  "name": "Info_QR_decompositionNB"
 },
 "nbformat": 3,
 "nbformat_minor": 0,
 "worksheets": [
  {
   "cells": [
    {
     "cell_type": "markdown",
     "metadata": {},
     "source": [
      "### QR Decomposition    "
     ]
    },
    {
     "cell_type": "code",
     "collapsed": false,
     "input": [
      "import pyJvsip as pv\n",
      "f='%.5f'"
     ],
     "language": "python",
     "metadata": {},
     "outputs": [],
     "prompt_number": 1
    },
    {
     "cell_type": "markdown",
     "metadata": {},
     "source": [
      "Solve using QR Class"
     ]
    },
    {
     "cell_type": "markdown",
     "metadata": {},
     "source": [
      "Create some data A x = b   \n",
      "Note we create an x and calculate a b directly"
     ]
    },
    {
     "cell_type": "code",
     "collapsed": false,
     "input": [
      "m=7;n=5\n",
      "A=pv.create('mview_d',m,n).randn(5)\n",
      "x=pv.create('mview_d',n,1).randn(9)\n",
      "print('Matrix A');A.mprint(f)\n",
      "print('Known x vector');x.mprint(f)\n",
      "b=A.prod(x)\n",
      "print('Calculated b=Ax vector');b.mprint(f)"
     ],
     "language": "python",
     "metadata": {},
     "outputs": [
      {
       "output_type": "stream",
       "stream": "stdout",
       "text": [
        "Matrix A\n",
        "[ 0.50802  0.53515  0.69864 -0.96027  0.23142;\n",
        "  0.04042 -0.47661  0.20765  0.50621 -0.38285;\n",
        "  0.15746  0.78115 -0.96815 -0.32034  0.79250;\n",
        "  0.79172 -0.25782  0.12663  1.35454  0.25523;\n",
        " -0.19460  0.34111 -0.49602  0.17191  1.62412;\n",
        "  0.19054  0.63559 -0.47360  0.83529  0.02671;\n",
        " -0.12147 -0.71231  0.31025 -1.31418  0.09632]\n",
        "\n",
        "Known x vector\n",
        "[ 0.39248;\n",
        " -1.35556;\n",
        " -0.24268;\n",
        "  1.22453;\n",
        " -0.65029]\n",
        "\n",
        "Calculated b=Ax vector\n",
        "[-2.02196;\n",
        "  1.48038;\n",
        " -1.66977;\n",
        "  2.12221;\n",
        " -1.26404;\n",
        "  0.33360;\n",
        " -0.82927]\n",
        "\n"
       ]
      }
     ],
     "prompt_number": 6
    },
    {
     "cell_type": "markdown",
     "metadata": {},
     "source": [
      "Note QR overwrites the input matrix; so to preserve our original matrix we use a copy. The QR object will keep a reference to the copy (which means python will not garbage collect it). The QR class has a dictionary item which allows the user to query for the proper type bassed on the associated matrix."
     ]
    },
    {
     "cell_type": "code",
     "collapsed": false,
     "input": [
      "print('Example of QR.qrSel: %s'%pv.QR.qrSel[A.type])\n",
      "qrObj = pv.QR(pv.QR.qrSel[A.type],m,n,pv.VSIP_QRD_SAVEQ)\n",
      "_=qrObj.decompose(A.copy)\n",
      "print('Solve for x using b. Done in place. Here we make a copy of b first. ')\n",
      "xb = b.copy\n",
      "qrObj.solve('LLS',xb).mprint(f)\n",
      "#print('Calculate an error using (x-xb).normFro %.5e:'%(x-xb).normFro)"
     ],
     "language": "python",
     "metadata": {},
     "outputs": [
      {
       "output_type": "stream",
       "stream": "stdout",
       "text": [
        "Example of QR.qrSel: qr_d\n",
        "Solve for x using b. Done in place. Here we make a copy of b first. \n",
        "[ 0.39248;\n",
        " -1.35556;\n",
        " -0.24268;\n",
        "  1.22453;\n",
        " -0.65029;\n",
        "  0.00000;\n",
        " -0.00000]\n",
        "\n"
       ]
      }
     ],
     "prompt_number": 10
    }
   ],
   "metadata": {}
  }
 ]
}