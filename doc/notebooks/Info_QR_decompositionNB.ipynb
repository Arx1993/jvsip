{
 "metadata": {
  "name": "",
  "signature": "sha256:db6a75aa11959d17b40e44621ad3fc241ff612e3ddaaa71ffef0589279354061"
 },
 "nbformat": 3,
 "nbformat_minor": 0,
 "worksheets": [
  {
   "cells": [
    {
     "cell_type": "markdown",
     "metadata": {},
     "source": [
      "### QR Decomposition    "
     ]
    },
    {
     "cell_type": "code",
     "collapsed": false,
     "input": [
      "import pyJvsip as pjv\n",
      "f='%.5f'"
     ],
     "language": "python",
     "metadata": {},
     "outputs": [],
     "prompt_number": 1
    },
    {
     "cell_type": "markdown",
     "metadata": {},
     "source": [
      "Solve using QR Class"
     ]
    },
    {
     "cell_type": "markdown",
     "metadata": {},
     "source": [
      "Create some data `A x = b`   \n",
      "Note we create an x and calculate a b directly"
     ]
    },
    {
     "cell_type": "code",
     "collapsed": false,
     "input": [
      "m=7;n=5\n",
      "A=pjv.create('mview_d',m,n).randn(5)\n",
      "x=pjv.create('mview_d',n,1).randn(9)\n",
      "print('Matrix A');A.mprint(f)\n",
      "print('Known x vector');x.transview.mprint(f)\n",
      "b=A.prod(x)\n",
      "print('Calculated b=Ax vector');b.transview.mprint(f)"
     ],
     "language": "python",
     "metadata": {},
     "outputs": [
      {
       "output_type": "stream",
       "stream": "stdout",
       "text": [
        "Matrix A\n",
        "[ 0.50802  0.53515  0.69864 -0.96027  0.23142;\n",
        "  0.04042 -0.47661  0.20765  0.50621 -0.38285;\n",
        "  0.15746  0.78115 -0.96815 -0.32034  0.79250;\n",
        "  0.79172 -0.25782  0.12663  1.35454  0.25523;\n",
        " -0.19460  0.34111 -0.49602  0.17191  1.62412;\n",
        "  0.19054  0.63559 -0.47360  0.83529  0.02671;\n",
        " -0.12147 -0.71231  0.31025 -1.31418  0.09632]\n",
        "\n",
        "Known x vector\n",
        "[ 0.39248 -1.35556 -0.24268  1.22453 -0.65029]\n",
        "\n",
        "Calculated b=Ax vector\n",
        "[-2.02196  1.48038 -1.66977  2.12221 -1.26404  0.33360 -0.82927]\n",
        "\n"
       ]
      }
     ],
     "prompt_number": 2
    },
    {
     "cell_type": "markdown",
     "metadata": {},
     "source": [
      "Note QR overwrites the input matrix; so to preserve our original matrix we use a copy. The QR object will keep a reference to the copy (which means python will not garbage collect it). The QR class has a dictionary `tSel` item which allows the user to query for the proper type based on the associated matrix."
     ]
    },
    {
     "cell_type": "code",
     "collapsed": false,
     "input": [
      "print('Example of QR.tSel: %s'%pjv.QR.tSel[A.type])\n",
      "qrObj = pjv.QR(pjv.QR.tSel[A.type],m,n,pjv.VSIP_QRD_SAVEQ)\n",
      "_=qrObj.decompose(A.copy)\n",
      "print('Solve for x estimate using b. Done in place. Here we make a copy of b first. A subview is printed since b is longer than the x estimate')\n",
      "xb = b.copy\n",
      "qrObj.solve('LLS',xb).transview[:,:A.rowlength].mprint(f)"
     ],
     "language": "python",
     "metadata": {},
     "outputs": [
      {
       "output_type": "stream",
       "stream": "stdout",
       "text": [
        "Example of QR.tSel: qr_d\n",
        "Solve for x estimate using b. Done in place. Here we make a copy of b first. A subview is printed since b is longer than the x estimate\n",
        "[ 0.39248 -1.35556 -0.24268  1.22453 -0.65029]\n",
        "\n"
       ]
      }
     ],
     "prompt_number": 6
    },
    {
     "cell_type": "markdown",
     "metadata": {},
     "source": [
      "Below we use the create function to produce a qr object with (default) save full Q. We then extract Q using prodQ and the identity matrix. We then check to see if Q is orthonormal."
     ]
    },
    {
     "cell_type": "code",
     "collapsed": false,
     "input": [
      "B=pjv.create('cmview_d',8,3).randn(10)\n",
      "qr=pjv.create('cqr_d',8,3)\n",
      "Q=qr.decompose(B).prodQ('NTRANS','RSIDE',pjv.create('cmview_d',8,8).identity)\n",
      "Q.mprint('%.2f')\n",
      "Q.prodh(Q).mprint('%.1f')"
     ],
     "language": "python",
     "metadata": {},
     "outputs": [
      {
       "output_type": "stream",
       "stream": "stdout",
       "text": [
        "[ 0.27-0.29i  0.16+0.43i -0.29+0.04i -0.33+0.20i -0.20+0.22i -0.31-0.42i  0.17-0.03i -0.04+0.07i;\n",
        " -0.22+0.09i -0.38+0.22i  0.02+0.15i  0.05-0.02i  0.48-0.18i -0.36-0.11i  0.39+0.24i -0.17-0.29i;\n",
        " -0.25-0.22i -0.31-0.22i  0.20-0.00i -0.28+0.12i -0.26+0.29i  0.16+0.07i  0.28-0.39i -0.36-0.27i;\n",
        "  0.35-0.25i -0.12+0.08i  0.22-0.07i  0.80+0.04i -0.15+0.11i -0.00-0.15i  0.15-0.07i -0.10-0.08i;\n",
        "  0.50-0.09i  0.23-0.12i  0.35-0.09i -0.25-0.04i  0.63+0.08i  0.18-0.07i  0.09-0.15i -0.09-0.04i;\n",
        " -0.19-0.35i  0.10+0.38i -0.19+0.33i  0.08+0.07i  0.16-0.11i  0.68+0.08i  0.12+0.05i  0.04-0.00i;\n",
        " -0.12+0.20i  0.17-0.25i -0.40-0.41i  0.15+0.08i  0.10+0.12i  0.13-0.04i  0.63-0.03i  0.06+0.25i;\n",
        " -0.14-0.04i -0.15+0.30i  0.35-0.26i -0.08+0.09i -0.00+0.04i -0.03+0.04i  0.14-0.21i  0.77-0.05i]\n",
        "\n",
        "[ 1.0+0.0i  0.0-0.0i  0.0-0.0i -0.0+0.0i -0.0+0.0i -0.0-0.0i -0.0+0.0i  0.0-0.0i;\n",
        "  0.0+0.0i  1.0+0.0i  0.0+0.0i  0.0+0.0i -0.0+0.0i  0.0+0.0i -0.0-0.0i  0.0+0.0i;\n",
        "  0.0+0.0i  0.0-0.0i  1.0+0.0i  0.0-0.0i -0.0+0.0i -0.0+0.0i  0.0+0.0i -0.0-0.0i;\n",
        " -0.0-0.0i  0.0-0.0i  0.0+0.0i  1.0+0.0i  0.0-0.0i -0.0+0.0i  0.0+0.0i  0.0-0.0i;\n",
        " -0.0-0.0i -0.0-0.0i -0.0-0.0i  0.0+0.0i  1.0+0.0i -0.0-0.0i  0.0-0.0i  0.0-0.0i;\n",
        " -0.0+0.0i  0.0-0.0i -0.0-0.0i -0.0-0.0i -0.0+0.0i  1.0+0.0i -0.0-0.0i -0.0-0.0i;\n",
        " -0.0-0.0i -0.0+0.0i  0.0+0.0i  0.0-0.0i  0.0+0.0i -0.0+0.0i  1.0+0.0i  0.0+0.0i;\n",
        "  0.0+0.0i  0.0-0.0i -0.0+0.0i  0.0+0.0i  0.0+0.0i -0.0+0.0i  0.0-0.0i  1.0+0.0i]\n",
        "\n"
       ]
      }
     ],
     "prompt_number": 7
    },
    {
     "cell_type": "markdown",
     "metadata": {},
     "source": [
      "Below we do the above example except we use a convenience view method to create the QR object directly from the matrix view; and we use prodQ twice to do the matrix multiply first times the identity to get Q and then Q times it's hermitian."
     ]
    },
    {
     "cell_type": "code",
     "collapsed": false,
     "input": [
      "qr=pjv.create('cmview_d',8,3).randn(10).qr\n",
      "Q=qr.prodQ('NTRANS','RSIDE',pjv.create('cmview_d',8,8).identity)\n",
      "qr.prodQ('HERM','RSIDE',Q).mprint('%.2f')"
     ],
     "language": "python",
     "metadata": {},
     "outputs": [
      {
       "output_type": "stream",
       "stream": "stdout",
       "text": [
        "[ 1.00+0.00i  0.00-0.00i  0.00-0.00i -0.00+0.00i -0.00+0.00i -0.00-0.00i -0.00+0.00i  0.00-0.00i;\n",
        "  0.00+0.00i  1.00-0.00i -0.00+0.00i  0.00+0.00i -0.00+0.00i  0.00+0.00i -0.00-0.00i  0.00+0.00i;\n",
        "  0.00+0.00i -0.00-0.00i  1.00-0.00i -0.00+0.00i  0.00+0.00i  0.00+0.00i -0.00+0.00i -0.00-0.00i;\n",
        " -0.00+0.00i  0.00-0.00i  0.00-0.00i  1.00-0.00i  0.00+0.00i -0.00-0.00i  0.00+0.00i  0.00-0.00i;\n",
        " -0.00-0.00i -0.00-0.00i -0.00+0.00i  0.00+0.00i  1.00+0.00i -0.00-0.00i  0.00+0.00i -0.00-0.00i;\n",
        "  0.00-0.00i  0.00-0.00i -0.00+0.00i -0.00-0.00i -0.00+0.00i  1.00+0.00i -0.00-0.00i -0.00-0.00i;\n",
        "  0.00-0.00i -0.00+0.00i  0.00+0.00i  0.00-0.00i  0.00-0.00i  0.00-0.00i  1.00+0.00i  0.00+0.00i;\n",
        "  0.00+0.00i  0.00-0.00i  0.00+0.00i  0.00+0.00i  0.00+0.00i -0.00-0.00i -0.00+0.00i  1.00-0.00i]\n",
        "\n"
       ]
      }
     ],
     "prompt_number": 8
    },
    {
     "cell_type": "markdown",
     "metadata": {},
     "source": [
      "We also have a convenience view method to get the Q and R matrices explicitly."
     ]
    },
    {
     "cell_type": "code",
     "collapsed": false,
     "input": [
      "B=pjv.create('cmview_d',8,3).randn(10)\n",
      "print('input B');B.mprint('%.2f')\n",
      "Q,R=B.copy.qrd\n",
      "print('Q');Q.mprint('%.2f')\n",
      "print('R');R.mprint('%.2f'); \n",
      "print('Frobenius norm of difference of B-Q * R:  %.5f '%(Q.prod(R)-B).normFro)"
     ],
     "language": "python",
     "metadata": {},
     "outputs": [
      {
       "output_type": "stream",
       "stream": "stdout",
       "text": [
        "input B\n",
        "[ 0.48-0.52i  0.63+1.23i -0.94+0.48i;\n",
        " -0.39+0.17i -0.96+0.32i -0.26+0.29i;\n",
        " -0.45-0.40i -0.53-0.74i  0.50-0.30i;\n",
        "  0.63-0.46i -0.05+0.48i  0.43-0.19i;\n",
        "  0.89-0.16i  0.63+0.14i  1.07-0.16i;\n",
        " -0.35-0.64i  0.53+0.70i -0.64+1.14i;\n",
        " -0.22+0.35i  0.23-0.68i -0.77-1.10i;\n",
        " -0.25-0.08i -0.32+0.57i  0.67-0.59i]\n",
        "\n",
        "Q\n",
        "[ 0.27-0.29i  0.16+0.43i -0.29+0.04i -0.33+0.20i -0.20+0.22i -0.31-0.42i  0.17-0.03i -0.04+0.07i;\n",
        " -0.22+0.09i -0.38+0.22i  0.02+0.15i  0.05-0.02i  0.48-0.18i -0.36-0.11i  0.39+0.24i -0.17-0.29i;\n",
        " -0.25-0.22i -0.31-0.22i  0.20-0.00i -0.28+0.12i -0.26+0.29i  0.16+0.07i  0.28-0.39i -0.36-0.27i;\n",
        "  0.35-0.25i -0.12+0.08i  0.22-0.07i  0.80+0.04i -0.15+0.11i -0.00-0.15i  0.15-0.07i -0.10-0.08i;\n",
        "  0.50-0.09i  0.23-0.12i  0.35-0.09i -0.25-0.04i  0.63+0.08i  0.18-0.07i  0.09-0.15i -0.09-0.04i;\n",
        " -0.19-0.35i  0.10+0.38i -0.19+0.33i  0.08+0.07i  0.16-0.11i  0.68+0.08i  0.12+0.05i  0.04-0.00i;\n",
        " -0.12+0.20i  0.17-0.25i -0.40-0.41i  0.15+0.08i  0.10+0.12i  0.13-0.04i  0.63-0.03i  0.06+0.25i;\n",
        " -0.14-0.04i -0.15+0.30i  0.35-0.26i -0.08+0.09i -0.00+0.04i -0.03+0.04i  0.14-0.21i  0.77-0.05i]\n",
        "\n",
        "R\n",
        "[ 1.80-0.00i  0.01+0.87i -0.09+0.01i;\n",
        "  0.00+0.00i  2.32+0.00i  0.56+0.58i;\n",
        "  0.00-0.00i -0.00-0.00i  2.58-0.00i;\n",
        "  0.00+0.00i -0.00+0.00i  0.00-0.00i;\n",
        "  0.00+0.00i -0.00+0.00i  0.00-0.00i;\n",
        "  0.00-0.00i  0.00-0.00i  0.00-0.00i;\n",
        " -0.00+0.00i -0.00+0.00i  0.00+0.00i;\n",
        "  0.00-0.00i -0.00-0.00i  0.00+0.00i]\n",
        "\n",
        "Frobenius norm of difference of B-Q * R:  0.00000 \n"
       ]
      }
     ],
     "prompt_number": 9
    }
   ],
   "metadata": {}
  }
 ]
}