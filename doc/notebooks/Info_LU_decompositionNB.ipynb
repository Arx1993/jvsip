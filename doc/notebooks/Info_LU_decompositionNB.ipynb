{
 "metadata": {
  "name": "",
  "signature": "sha256:8f3b0cf8f517f8c86735120c9f3703b22b377c24aff8ab661f45ebf1bea8df61"
 },
 "nbformat": 3,
 "nbformat_minor": 0,
 "worksheets": [
  {
   "cells": [
    {
     "cell_type": "markdown",
     "metadata": {},
     "source": [
      "### LU Decomposition    "
     ]
    },
    {
     "cell_type": "code",
     "collapsed": false,
     "input": [
      "import pyJvsip as pjv\n",
      "f='%.5f'"
     ],
     "language": "python",
     "metadata": {},
     "outputs": [],
     "prompt_number": 1
    },
    {
     "cell_type": "markdown",
     "metadata": {},
     "source": [
      "Solve using LU Class"
     ]
    },
    {
     "cell_type": "markdown",
     "metadata": {},
     "source": [
      "Create some data `A x = b `  \n",
      "Note we create an x and calculate a b directly. To demonstrate we use A and b to estimate x."
     ]
    },
    {
     "cell_type": "code",
     "collapsed": false,
     "input": [
      "n=5\n",
      "A=pjv.create('mview_d',n,n).fill(0.0)\n",
      "A.randn(5)\n",
      "x=pjv.create('vview_d',n).randn(9)\n",
      "print('Matrix A');A.mprint(f)\n",
      "print('Known x vector');x.mprint(f)\n",
      "b=A.prod(x)\n",
      "print('Calculated b=Ax vector');b.mprint(f)"
     ],
     "language": "python",
     "metadata": {},
     "outputs": [
      {
       "output_type": "stream",
       "stream": "stdout",
       "text": [
        "Matrix A\n",
        "[ 0.50802  0.53515  0.69864 -0.96027  0.23142;\n",
        "  0.04042 -0.47661  0.20765  0.50621 -0.38285;\n",
        "  0.15746  0.78115 -0.96815 -0.32034  0.79250;\n",
        "  0.79172 -0.25782  0.12663  1.35454  0.25523;\n",
        " -0.19460  0.34111 -0.49602  0.17191  1.62412]\n",
        "\n",
        "Known x vector\n",
        "[ 0.39248 -1.35556 -0.24268  1.22453 -0.65029]\n",
        "\n",
        "Calculated b=Ax vector\n",
        "[-2.02196  1.48038 -1.66977  2.12221 -1.26404]\n",
        "\n"
       ]
      }
     ],
     "prompt_number": 2
    },
    {
     "cell_type": "markdown",
     "metadata": {},
     "source": [
      "Both LU and SV overwrite the input matrix; so to preserve our original matrix we use a copy. The LU (and SV) object will keep a reference to the copy (which means python will not garbage collect it). We solve this first using SVD. We don't overwrite our original vector so we can compare the estimated solution to the actual solution. SVD does not have a solver so we do it long hand."
     ]
    },
    {
     "cell_type": "code",
     "collapsed": false,
     "input": [
      "u,s,v=A.copy.svd\n",
      "s.mprint(f)\n",
      "xe=v.prod(u.transview.prod(b)/s)\n",
      "x.mprint(f)\n",
      "xe.mprint(f)\n",
      "print('Forbenius norm of x estimate - x is %.5e'%(xe-x).normFro)"
     ],
     "language": "python",
     "metadata": {},
     "outputs": [
      {
       "output_type": "stream",
       "stream": "stdout",
       "text": [
        "[ 2.26877  1.89101  1.17381  0.74723  0.05827]\n",
        "\n",
        "[ 0.39248 -1.35556 -0.24268  1.22453 -0.65029]\n",
        "\n",
        "[ 0.39248 -1.35556 -0.24268  1.22453 -0.65029]\n",
        "\n",
        "Forbenius norm of x estimate - x is 1.54231e-14\n"
       ]
      }
     ],
     "prompt_number": 3
    },
    {
     "cell_type": "markdown",
     "metadata": {},
     "source": [
      "Now we solve using LU. We start with the LU class directly."
     ]
    },
    {
     "cell_type": "markdown",
     "metadata": {},
     "source": [
      "Note that many class instance variables have a type selector (tSel) which is a dictionary which lets you select the decomposition type using the matrix type."
     ]
    },
    {
     "cell_type": "code",
     "collapsed": false,
     "input": [
      "print('Example of LU.tSel: %s'%pjv.LU.tSel[A.type])\n",
      "luObj = pjv.LU(pjv.LU.tSel[A.type],n)\n",
      "_=luObj.decompose(A.copy)\n",
      "print('Solve for x using b. Done in place. Here we make a copy of b first. ')\n",
      "xe = b.copy\n",
      "luObj.solve(pjv.VSIP_MAT_NTRANS,xe).mprint(f)\n",
      "print('Forbenius norm of x estimate - x is %.5e'%(xe-x).normFro)"
     ],
     "language": "python",
     "metadata": {},
     "outputs": [
      {
       "output_type": "stream",
       "stream": "stdout",
       "text": [
        "Example of LU.tSel: lu_d\n",
        "Solve for x using b. Done in place. Here we make a copy of b first. \n",
        "[ 0.39248 -1.35556 -0.24268  1.22453 -0.65029]\n",
        "\n",
        "Forbenius norm of x estimate - x is 1.83544e-15\n"
       ]
      }
     ],
     "prompt_number": 4
    },
    {
     "cell_type": "markdown",
     "metadata": {},
     "source": [
      "In pyJvsip a method is defined on matrix views which will create the LU object for you. We do the same problem."
     ]
    },
    {
     "cell_type": "code",
     "collapsed": false,
     "input": [
      "xe=b.copy\n",
      "luObj=A.copy.lu\n",
      "luObj.solve(pjv.VSIP_MAT_NTRANS,xe).mprint(f)\n",
      "print('Forbenius norm of x estimate - x is %.5e'%(xe-x).normFro)"
     ],
     "language": "python",
     "metadata": {},
     "outputs": [
      {
       "output_type": "stream",
       "stream": "stdout",
       "text": [
        "[ 0.39248 -1.35556 -0.24268  1.22453 -0.65029]\n",
        "\n",
        "Forbenius norm of x estimate - x is 1.83544e-15\n"
       ]
      }
     ],
     "prompt_number": 5
    },
    {
     "cell_type": "markdown",
     "metadata": {},
     "source": [
      "For a simple solver we can also just solve directly. If we wanted to solve using matrix operator 'HERM' or 'TRANS' then we would need the more complicated version."
     ]
    },
    {
     "cell_type": "code",
     "collapsed": false,
     "input": [
      "xe=b.copy\n",
      "A.copy.luSolve(xe).mprint(f)\n",
      "print('Forbenius norm of x estimate - x is %.5e'%(xe-x).normFro)"
     ],
     "language": "python",
     "metadata": {},
     "outputs": [
      {
       "output_type": "stream",
       "stream": "stdout",
       "text": [
        "[ 0.39248 -1.35556 -0.24268  1.22453 -0.65029]\n",
        "\n",
        "Forbenius norm of x estimate - x is 1.83544e-15\n"
       ]
      }
     ],
     "prompt_number": 6
    },
    {
     "cell_type": "markdown",
     "metadata": {},
     "source": [
      "We also have a pyJvsip method to calculate an inverse using the LU methods."
     ]
    },
    {
     "cell_type": "code",
     "collapsed": false,
     "input": [
      "Ainv=A.copy.luInv\n",
      "print('A inverse')\n",
      "Ainv.mprint(f)\n",
      "print('Origional A')\n",
      "A.mprint(f)\n",
      "print('check to see if we have an inverse by doing a matrix product')\n",
      "A.prod(Ainv).mprint(f)"
     ],
     "language": "python",
     "metadata": {},
     "outputs": [
      {
       "output_type": "stream",
       "stream": "stdout",
       "text": [
        "A inverse\n",
        "[ 1.71577  6.37606  2.44288 -0.60934  0.16226;\n",
        " -2.21403 -12.03179 -3.18939  2.34171 -1.33243;\n",
        " -0.43436 -4.59339 -2.15392  0.91370 -0.11345;\n",
        " -1.51525 -6.06419 -1.92946  1.53927 -0.51398;\n",
        "  0.69831  2.53000  0.50896 -0.44871  0.93476]\n",
        "\n",
        "Origional A\n",
        "[ 0.50802  0.53515  0.69864 -0.96027  0.23142;\n",
        "  0.04042 -0.47661  0.20765  0.50621 -0.38285;\n",
        "  0.15746  0.78115 -0.96815 -0.32034  0.79250;\n",
        "  0.79172 -0.25782  0.12663  1.35454  0.25523;\n",
        " -0.19460  0.34111 -0.49602  0.17191  1.62412]\n",
        "\n",
        "check to see if we have an inverse by doing a matrix product\n",
        "[ 1.00000 -0.00000 -0.00000  0.00000 -0.00000;\n",
        "  0.00000  1.00000 -0.00000  0.00000  0.00000;\n",
        "  0.00000  0.00000  1.00000  0.00000  0.00000;\n",
        " -0.00000 -0.00000  0.00000  1.00000  0.00000;\n",
        " -0.00000  0.00000  0.00000 -0.00000  1.00000]\n",
        "\n"
       ]
      }
     ],
     "prompt_number": 7
    },
    {
     "cell_type": "code",
     "collapsed": false,
     "input": [],
     "language": "python",
     "metadata": {},
     "outputs": [],
     "prompt_number": 7
    }
   ],
   "metadata": {}
  }
 ]
}