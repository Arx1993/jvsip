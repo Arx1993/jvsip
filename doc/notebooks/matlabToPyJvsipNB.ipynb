{
 "metadata": {
  "name": "",
  "signature": "sha256:b7906b1fb4f4c79363fecec5c53cbc5b71424f74916de2fad8a910e78331bf00"
 },
 "nbformat": 3,
 "nbformat_minor": 0,
 "worksheets": [
  {
   "cells": [
    {
     "cell_type": "markdown",
     "metadata": {},
     "source": [
      "## Matlab to pyJvsip conversion Example   \n",
      "In this notebook we convert a short piece of matlab code to pyJvsip. The source of the matlab code is a subroutine from    \n",
      "\n",
      "http://dsp.rice.edu/software/fir-and-iir-filter-design-algorithms   \n",
      "\n",
      "The actual use of the code is not important for this example. I just wanted some matlab code that is fairly simple to convert to pyJvsip. This particluar code is from the Park McClellans algorithms file firemb"
     ]
    },
    {
     "cell_type": "markdown",
     "metadata": {},
     "source": [
      "#### firfbe.m   \n",
      "Below is matlab code\n",
      "    \n",
      "\n",
      "    function w = fir_fbe(a,wi,Abe);    \n",
      "    a = a(:);    \n",
      "    m = length(a)-1;    \n",
      "    w = wi(:);    \n",
      "    Abe = Abe(:);    \n",
      "    for k = 1:15    \n",
      "       A = cos(w*[0:m]) * a - Abe;    \n",
      "       A1 = -sin(w*[0:m]) * ([0:m]'.*a);  \n",
      "       w = w - A./A1;    \n",
      "    end   \n"
     ]
    },
    {
     "cell_type": "markdown",
     "metadata": {},
     "source": [
      "#### firfbe.py    \n",
      "Below is equivalent pyJvsip code for firfbe\n",
      "\n",
      "    def fir_fbe(a,wi,Abe):\n",
      "        m=a.empty.ramp(0,1)\n",
      "        w = wi.copy\n",
      "        for k in range(15):\n",
      "            A = w.outer(m).cos.prod(a-Abe)\n",
      "            A1 = w.outer(m).sin.neg.prod(w*a)\n",
      "            w -=  A/A1\n",
      "        return w"
     ]
    },
    {
     "cell_type": "markdown",
     "metadata": {},
     "source": [
      "We note that for the matlab version the author elected to get a length and then create a ramp directly when used to create matrix `A` and `A1` whereas in the pyJvsip version we create the ramp and just use it.  Without knowing the underlying mechanisim used by matlab for the use of the ramp vector I don't know how efficient there method is.  \n",
      "   \n",
      "We also see in the matlab code the statement `a = a(:)`.  This seems to have no purpose except to ensure that `a` is a column vector.  VSIP vectors have no direction and usage is defined by the function call. For matlab the direction of the vector is important when determining operations (such as outer product).   \n",
      "\n",
      "Also note that operators may be elementwise or not. For instance in matlab a matrix product is designated by a `*` but if an elementwise multiply is desired you use a period as in `.*`.  For pyJvsip a `*`, `+`, `-`, `/` always designate elementwise operations. Other operations are determined by a function or method. So for matlab `A * B` would be `A.prod(B)` in pyJvsip and `A .* B` in matlab would be `A * B` in pyJvsip."
     ]
    }
   ],
   "metadata": {}
  }
 ]
}