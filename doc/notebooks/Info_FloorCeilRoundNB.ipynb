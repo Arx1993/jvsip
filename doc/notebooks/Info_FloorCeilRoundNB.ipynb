{
 "cells": [
  {
   "cell_type": "code",
   "execution_count": 1,
   "metadata": {
    "collapsed": false
   },
   "outputs": [],
   "source": [
    "import pyJvsip as pv"
   ]
  },
  {
   "cell_type": "code",
   "execution_count": 2,
   "metadata": {
    "collapsed": false
   },
   "outputs": [
    {
     "name": "stdout",
     "output_type": "stream",
     "text": [
      "[ 111.360 -132.824 -122.801 -97.927  112.928  37.277  151.792  71.951 -11.439  1.158]\n",
      "\n",
      "[ 111.0 -133.0 -123.0 -98.0  112.0  37.0  151.0  71.0 -12.0  1.0]\n",
      "\n",
      "[ 112.0 -132.0 -122.0 -97.0  113.0  38.0  152.0  72.0 -11.0  2.0]\n",
      "\n",
      "[ 111.0 -133.0 -123.0 -98.0  113.0  37.0  152.0  72.0 -11.0  1.0]\n",
      "\n",
      "[ 111 -133 -123 -98  112  37  151  71 -12  1]\n",
      "\n",
      "[ 112 -132 -122 -97  113  38  152  72 -11  2]\n",
      "\n",
      "[ 111 -133 -123 -98  113  37  152  72 -11  1]\n",
      "\n"
     ]
    }
   ],
   "source": [
    "x = pv.create('vview_d',10).randn(10)*100.0\n",
    "xf=x.empty.fill(0.)\n",
    "xc=x.empty.fill(0.0)\n",
    "xr=x.empty.fill(0.)\n",
    "xfi=pv.create('vview_i',x.length).fill(0)\n",
    "xci=xfi.copy\n",
    "xri=xfi.copy\n",
    "xf=pv.floor(x,xf)\n",
    "xc=pv.ceil(x,xc)\n",
    "xr=pv.round(x,xr)\n",
    "xfi=pv.floor(x,xfi)\n",
    "xci=pv.ceil(x,xci)\n",
    "xri=pv.round(x,xri)\n",
    "x.mprint('%.3f');xf.mprint('%.1f');xc.mprint('%.1f');xr.mprint('%.1f')\n",
    "xfi.mprint('%d');xci.mprint('%d');xri.mprint('%d')"
   ]
  },
  {
   "cell_type": "code",
   "execution_count": 3,
   "metadata": {
    "collapsed": false
   },
   "outputs": [
    {
     "name": "stdout",
     "output_type": "stream",
     "text": [
      "[ 111.360 -132.824 -122.801;\n",
      " -97.927  112.928  37.277;\n",
      "  151.792  71.951 -11.439;\n",
      "  1.157 -101.723  34.607;\n",
      " -144.992  15.410 -49.409]\n",
      "\n",
      "[ 111.0 -133.0 -123.0;\n",
      " -98.0  112.0  37.0;\n",
      "  151.0  71.0 -12.0;\n",
      "  1.0 -102.0  34.0;\n",
      " -145.0  15.0 -50.0]\n",
      "\n",
      "[ 112.0 -132.0 -122.0;\n",
      " -97.0  113.0  38.0;\n",
      "  152.0  72.0 -11.0;\n",
      "  2.0 -101.0  35.0;\n",
      " -144.0  16.0 -49.0]\n",
      "\n",
      "[ 111.0 -133.0 -123.0;\n",
      " -98.0  113.0  37.0;\n",
      "  152.0  72.0 -11.0;\n",
      "  1.0 -102.0  35.0;\n",
      " -145.0  15.0 -49.0]\n",
      "\n",
      "[ 111 -133 -123;\n",
      " -98  112  37;\n",
      "  151  71 -12;\n",
      "  1 -102  34;\n",
      " -145  15 -50]\n",
      "\n",
      "[ 112 -132 -122;\n",
      " -97  113  38;\n",
      "  152  72 -11;\n",
      "  2 -101  35;\n",
      " -144  16 -49]\n",
      "\n",
      "[ 111 -133 -123;\n",
      " -98  113  37;\n",
      "  152  72 -11;\n",
      "  1 -102  35;\n",
      " -145  15 -49]\n",
      "\n"
     ]
    }
   ],
   "source": [
    "x = pv.create('mview_d',5,3).randn(10)*100.0\n",
    "xf=x.empty.fill(0.)\n",
    "xc=x.empty.fill(0.0)\n",
    "xr=x.empty.fill(0.)\n",
    "xfi=pv.create('mview_i',x.collength,x.rowlength).fill(0)\n",
    "xci=xfi.copy\n",
    "xri=xfi.copy\n",
    "xf=pv.floor(x,xf)\n",
    "xc=pv.ceil(x,xc)\n",
    "xr=pv.round(x,xr)\n",
    "xfi=pv.floor(x,xfi)\n",
    "xci=pv.ceil(x,xci)\n",
    "xri=pv.round(x,xri)\n",
    "x.mprint('%.3f');xf.mprint('%.1f');xc.mprint('%.1f');xr.mprint('%.1f')\n",
    "xfi.mprint('%d');xci.mprint('%d');xri.mprint('%d')"
   ]
  },
  {
   "cell_type": "code",
   "execution_count": 4,
   "metadata": {
    "collapsed": false
   },
   "outputs": [
    {
     "name": "stdout",
     "output_type": "stream",
     "text": [
      "[ 111.360 -132.824 -122.801 -97.927  112.928  37.277  151.792  71.951 -11.439  1.158]\n",
      "\n",
      "[ 111.0 -133.0 -123.0 -98.0  112.0  37.0  151.0  71.0 -12.0  1.0]\n",
      "\n",
      "[ 112.0 -132.0 -122.0 -97.0  113.0  38.0  152.0  72.0 -11.0  2.0]\n",
      "\n",
      "[ 111.0 -133.0 -123.0 -98.0  113.0  37.0  152.0  72.0 -11.0  1.0]\n",
      "\n",
      "[ 111 -133 -123 -98  112  37  151  71 -12  1]\n",
      "\n",
      "[ 112 -132 -122 -97  113  38  152  72 -11  2]\n",
      "\n",
      "[ 111 -133 -123 -98  113  37  152  72 -11  1]\n",
      "\n"
     ]
    }
   ],
   "source": [
    "x = pv.create('vview_f',10).randn(10)*100.0\n",
    "xf=x.empty.fill(0.)\n",
    "xc=x.empty.fill(0.0)\n",
    "xr=x.empty.fill(0.)\n",
    "xfi=pv.create('vview_i',x.length).fill(0)\n",
    "xci=xfi.copy\n",
    "xri=xfi.copy\n",
    "xf=pv.floor(x,xf)\n",
    "xc=pv.ceil(x,xc)\n",
    "xr=pv.round(x,xr)\n",
    "xfi=pv.floor(x,xfi)\n",
    "xci=pv.ceil(x,xci)\n",
    "xri=pv.round(x,xri)\n",
    "x.mprint('%.3f');xf.mprint('%.1f');xc.mprint('%.1f');xr.mprint('%.1f')\n",
    "xfi.mprint('%d');xci.mprint('%d');xri.mprint('%d')"
   ]
  },
  {
   "cell_type": "code",
   "execution_count": 5,
   "metadata": {
    "collapsed": false
   },
   "outputs": [
    {
     "name": "stdout",
     "output_type": "stream",
     "text": [
      "[ 111.360 -132.824 -122.801;\n",
      " -97.927  112.928  37.277;\n",
      "  151.792  71.951 -11.439;\n",
      "  1.158 -101.723  34.607;\n",
      " -144.992  15.410 -49.409]\n",
      "\n",
      "[ 111.0 -133.0 -123.0;\n",
      " -98.0  112.0  37.0;\n",
      "  151.0  71.0 -12.0;\n",
      "  1.0 -102.0  34.0;\n",
      " -145.0  15.0 -50.0]\n",
      "\n",
      "[ 112.0 -132.0 -122.0;\n",
      " -97.0  113.0  38.0;\n",
      "  152.0  72.0 -11.0;\n",
      "  2.0 -101.0  35.0;\n",
      " -144.0  16.0 -49.0]\n",
      "\n",
      "[ 111.0 -133.0 -123.0;\n",
      " -98.0  113.0  37.0;\n",
      "  152.0  72.0 -11.0;\n",
      "  1.0 -102.0  35.0;\n",
      " -145.0  15.0 -49.0]\n",
      "\n",
      "[ 111 -133 -123;\n",
      " -98  112  37;\n",
      "  151  71 -12;\n",
      "  1 -102  34;\n",
      " -145  15 -50]\n",
      "\n",
      "[ 112 -132 -122;\n",
      " -97  113  38;\n",
      "  152  72 -11;\n",
      "  2 -101  35;\n",
      " -144  16 -49]\n",
      "\n",
      "[ 111 -133 -123;\n",
      " -98  113  37;\n",
      "  152  72 -11;\n",
      "  1 -102  35;\n",
      " -145  15 -49]\n",
      "\n"
     ]
    }
   ],
   "source": [
    "x = pv.create('mview_f',5,3).randn(10)*100.0\n",
    "xf=x.empty.fill(0.)\n",
    "xc=x.empty.fill(0.0)\n",
    "xr=x.empty.fill(0.)\n",
    "xfi=pv.create('mview_i',x.collength,x.rowlength).fill(0)\n",
    "xci=xfi.copy\n",
    "xri=xfi.copy\n",
    "xf=pv.floor(x,xf)\n",
    "xc=pv.ceil(x,xc)\n",
    "xr=pv.round(x,xr)\n",
    "xfi=pv.floor(x,xfi)\n",
    "xci=pv.ceil(x,xci)\n",
    "xri=pv.round(x,xri)\n",
    "x.mprint('%.3f');xf.mprint('%.1f');xc.mprint('%.1f');xr.mprint('%.1f')\n",
    "xfi.mprint('%d');xci.mprint('%d');xri.mprint('%d')"
   ]
  },
  {
   "cell_type": "code",
   "execution_count": 6,
   "metadata": {
    "collapsed": false
   },
   "outputs": [],
   "source": [
    "from numpy import floor,ceil,round\n",
    "import jvsipNumpy as jn"
   ]
  },
  {
   "cell_type": "code",
   "execution_count": 7,
   "metadata": {
    "collapsed": false
   },
   "outputs": [],
   "source": [
    "y=jn.jvToNp(x)"
   ]
  },
  {
   "cell_type": "code",
   "execution_count": 8,
   "metadata": {
    "collapsed": false
   },
   "outputs": [
    {
     "data": {
      "text/plain": [
       "array([[ 111., -133., -123.],\n",
       "       [ -98.,  112.,   37.],\n",
       "       [ 151.,   71.,  -12.],\n",
       "       [   1., -102.,   34.],\n",
       "       [-145.,   15.,  -50.]])"
      ]
     },
     "execution_count": 8,
     "metadata": {},
     "output_type": "execute_result"
    }
   ],
   "source": [
    "floor(x.list)"
   ]
  },
  {
   "cell_type": "code",
   "execution_count": 9,
   "metadata": {
    "collapsed": false
   },
   "outputs": [
    {
     "data": {
      "text/plain": [
       "array([[ 112., -132., -122.],\n",
       "       [ -97.,  113.,   38.],\n",
       "       [ 152.,   72.,  -11.],\n",
       "       [   2., -101.,   35.],\n",
       "       [-144.,   16.,  -49.]])"
      ]
     },
     "execution_count": 9,
     "metadata": {},
     "output_type": "execute_result"
    }
   ],
   "source": [
    "ceil(x.list)"
   ]
  },
  {
   "cell_type": "code",
   "execution_count": 10,
   "metadata": {
    "collapsed": false
   },
   "outputs": [
    {
     "data": {
      "text/plain": [
       "array([[ 111., -133., -123.],\n",
       "       [ -98.,  113.,   37.],\n",
       "       [ 152.,   72.,  -11.],\n",
       "       [   1., -102.,   35.],\n",
       "       [-145.,   15.,  -49.]])"
      ]
     },
     "execution_count": 10,
     "metadata": {},
     "output_type": "execute_result"
    }
   ],
   "source": [
    "round(x.list)"
   ]
  },
  {
   "cell_type": "code",
   "execution_count": 11,
   "metadata": {
    "collapsed": false
   },
   "outputs": [
    {
     "data": {
      "text/plain": [
       "3"
      ]
     },
     "execution_count": 11,
     "metadata": {},
     "output_type": "execute_result"
    }
   ],
   "source": [
    "len(x[0])"
   ]
  },
  {
   "cell_type": "code",
   "execution_count": 12,
   "metadata": {
    "collapsed": false
   },
   "outputs": [
    {
     "data": {
      "text/plain": [
       "112.92777"
      ]
     },
     "execution_count": 12,
     "metadata": {},
     "output_type": "execute_result"
    }
   ],
   "source": [
    "y[1,1]"
   ]
  },
  {
   "cell_type": "code",
   "execution_count": 13,
   "metadata": {
    "collapsed": false
   },
   "outputs": [
    {
     "data": {
      "text/plain": [
       "numpy.ndarray"
      ]
     },
     "execution_count": 13,
     "metadata": {},
     "output_type": "execute_result"
    }
   ],
   "source": [
    "type(y)"
   ]
  },
  {
   "cell_type": "code",
   "execution_count": 14,
   "metadata": {
    "collapsed": false
   },
   "outputs": [
    {
     "data": {
      "text/plain": [
       "pyJvsip.__View"
      ]
     },
     "execution_count": 14,
     "metadata": {},
     "output_type": "execute_result"
    }
   ],
   "source": [
    "type(x)"
   ]
  },
  {
   "cell_type": "code",
   "execution_count": 15,
   "metadata": {
    "collapsed": false
   },
   "outputs": [
    {
     "data": {
      "text/plain": [
       "'mview_f'"
      ]
     },
     "execution_count": 15,
     "metadata": {},
     "output_type": "execute_result"
    }
   ],
   "source": [
    "x.type"
   ]
  },
  {
   "cell_type": "code",
   "execution_count": 16,
   "metadata": {
    "collapsed": false
   },
   "outputs": [],
   "source": [
    "z=y-x.list"
   ]
  },
  {
   "cell_type": "code",
   "execution_count": 17,
   "metadata": {
    "collapsed": false
   },
   "outputs": [
    {
     "data": {
      "text/plain": [
       "numpy.ndarray"
      ]
     },
     "execution_count": 17,
     "metadata": {},
     "output_type": "execute_result"
    }
   ],
   "source": [
    "type(z)"
   ]
  },
  {
   "cell_type": "code",
   "execution_count": 18,
   "metadata": {
    "collapsed": false
   },
   "outputs": [
    {
     "data": {
      "text/plain": [
       "array([[ 0.,  0.,  0.],\n",
       "       [ 0.,  0.,  0.],\n",
       "       [ 0.,  0.,  0.],\n",
       "       [ 0.,  0.,  0.],\n",
       "       [ 0.,  0.,  0.]])"
      ]
     },
     "execution_count": 18,
     "metadata": {},
     "output_type": "execute_result"
    }
   ],
   "source": [
    "z"
   ]
  },
  {
   "cell_type": "code",
   "execution_count": 19,
   "metadata": {
    "collapsed": false
   },
   "outputs": [],
   "source": [
    "x.randn(16)\n",
    "x*=100.0"
   ]
  },
  {
   "cell_type": "code",
   "execution_count": null,
   "metadata": {
    "collapsed": false
   },
   "outputs": [],
   "source": []
  },
  {
   "cell_type": "code",
   "execution_count": null,
   "metadata": {
    "collapsed": false
   },
   "outputs": [],
   "source": []
  }
 ],
 "metadata": {
  "kernelspec": {
   "display_name": "Python 2",
   "language": "python",
   "name": "python2"
  },
  "language_info": {
   "codemirror_mode": {
    "name": "ipython",
    "version": 2
   },
   "file_extension": ".py",
   "mimetype": "text/x-python",
   "name": "python",
   "nbconvert_exporter": "python",
   "pygments_lexer": "ipython2",
   "version": "2.7.9"
  }
 },
 "nbformat": 4,
 "nbformat_minor": 0
}
