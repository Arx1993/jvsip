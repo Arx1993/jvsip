{
 "metadata": {
  "name": "",
  "signature": "sha256:24352ef93d77976465caf593d7fcabbc08bcd33a84055ae9256a7f295e2d06cd"
 },
 "nbformat": 3,
 "nbformat_minor": 0,
 "worksheets": [
  {
   "cells": [
    {
     "cell_type": "code",
     "collapsed": false,
     "input": [
      "import pyJvsip as pv"
     ],
     "language": "python",
     "metadata": {},
     "outputs": [],
     "prompt_number": 8
    },
    {
     "cell_type": "code",
     "collapsed": false,
     "input": [
      "x = pv.create('vview_d',10).randn(10)*100.0\n",
      "xf=x.empty.fill(0.)\n",
      "xc=x.empty.fill(0.0)\n",
      "xr=x.empty.fill(0.)\n",
      "xfi=pv.create('vview_i',x.length).fill(0)\n",
      "xci=xfi.copy\n",
      "xri=xfi.copy\n",
      "xf=pv.floor(x,xf)\n",
      "xc=pv.ceil(x,xc)\n",
      "xr=pv.round(x,xr)\n",
      "xfi=pv.floor(x,xfi)\n",
      "xci=pv.ceil(x,xci)\n",
      "xri=pv.round(x,xri)\n",
      "x.mprint('%.3f');xf.mprint('%.1f');xc.mprint('%.1f');xr.mprint('%.1f')\n",
      "xfi.mprint('%d');xci.mprint('%d');xri.mprint('%d')"
     ],
     "language": "python",
     "metadata": {},
     "outputs": [
      {
       "output_type": "stream",
       "stream": "stdout",
       "text": [
        "[ 111.360 -132.824 -122.801 -97.927  112.928  37.277  151.792  71.951 -11.439  1.158]\n",
        "\n",
        "[ 111.0 -133.0 -123.0 -98.0  112.0  37.0  151.0  71.0 -12.0  1.0]\n",
        "\n",
        "[ 112.0 -132.0 -122.0 -97.0  113.0  38.0  152.0  72.0 -11.0  2.0]\n",
        "\n",
        "[ 111.0 -133.0 -123.0 -98.0  113.0  37.0  152.0  72.0 -11.0  1.0]\n",
        "\n",
        "[ 111 -133 -123 -98  112  37  151  71 -12  1]\n",
        "\n",
        "[ 112 -132 -122 -97  113  38  152  72 -11  2]\n",
        "\n",
        "[ 111 -133 -123 -98  113  37  152  72 -11  1]\n",
        "\n"
       ]
      }
     ],
     "prompt_number": 9
    },
    {
     "cell_type": "code",
     "collapsed": false,
     "input": [
      "x = pv.create('mview_d',5,3).randn(10)*100.0\n",
      "xf=x.empty.fill(0.)\n",
      "xc=x.empty.fill(0.0)\n",
      "xr=x.empty.fill(0.)\n",
      "xfi=pv.create('mview_i',x.collength,x.rowlength).fill(0)\n",
      "xci=xfi.copy\n",
      "xri=xfi.copy\n",
      "xf=pv.floor(x,xf)\n",
      "xc=pv.ceil(x,xc)\n",
      "xr=pv.round(x,xr)\n",
      "xfi=pv.floor(x,xfi)\n",
      "xci=pv.ceil(x,xci)\n",
      "xri=pv.round(x,xri)\n",
      "x.mprint('%.3f');xf.mprint('%.1f');xc.mprint('%.1f');xr.mprint('%.1f')\n",
      "xfi.mprint('%d');xci.mprint('%d');xri.mprint('%d')"
     ],
     "language": "python",
     "metadata": {},
     "outputs": [
      {
       "output_type": "stream",
       "stream": "stdout",
       "text": [
        "[ 111.360 -132.824 -122.801;\n",
        " -97.927  112.928  37.277;\n",
        "  151.792  71.951 -11.439;\n",
        "  1.157 -101.723  34.607;\n",
        " -144.992  15.410 -49.409]\n",
        "\n",
        "[ 111.0 -133.0 -123.0;\n",
        " -98.0  112.0  37.0;\n",
        "  151.0  71.0 -12.0;\n",
        "  1.0 -102.0  34.0;\n",
        " -145.0  15.0 -50.0]\n",
        "\n",
        "[ 112.0 -132.0 -122.0;\n",
        " -97.0  113.0  38.0;\n",
        "  152.0  72.0 -11.0;\n",
        "  2.0 -101.0  35.0;\n",
        " -144.0  16.0 -49.0]\n",
        "\n",
        "[ 111.0 -133.0 -123.0;\n",
        " -98.0  113.0  37.0;\n",
        "  152.0  72.0 -11.0;\n",
        "  1.0 -102.0  35.0;\n",
        " -145.0  15.0 -49.0]\n",
        "\n",
        "[ 111 -133 -123;\n",
        " -98  112  37;\n",
        "  151  71 -12;\n",
        "  1 -102  34;\n",
        " -145  15 -50]\n",
        "\n",
        "[ 112 -132 -122;\n",
        " -97  113  38;\n",
        "  152  72 -11;\n",
        "  2 -101  35;\n",
        " -144  16 -49]\n",
        "\n",
        "[ 111 -133 -123;\n",
        " -98  113  37;\n",
        "  152  72 -11;\n",
        "  1 -102  35;\n",
        " -145  15 -49]\n",
        "\n"
       ]
      }
     ],
     "prompt_number": 10
    },
    {
     "cell_type": "code",
     "collapsed": false,
     "input": [
      "x = pv.create('vview_f',10).randn(10)*100.0\n",
      "xf=x.empty.fill(0.)\n",
      "xc=x.empty.fill(0.0)\n",
      "xr=x.empty.fill(0.)\n",
      "xfi=pv.create('vview_i',x.length).fill(0)\n",
      "xci=xfi.copy\n",
      "xri=xfi.copy\n",
      "xf=pv.floor(x,xf)\n",
      "xc=pv.ceil(x,xc)\n",
      "xr=pv.round(x,xr)\n",
      "xfi=pv.floor(x,xfi)\n",
      "xci=pv.ceil(x,xci)\n",
      "xri=pv.round(x,xri)\n",
      "x.mprint('%.3f');xf.mprint('%.1f');xc.mprint('%.1f');xr.mprint('%.1f')\n",
      "xfi.mprint('%d');xci.mprint('%d');xri.mprint('%d')"
     ],
     "language": "python",
     "metadata": {},
     "outputs": [
      {
       "output_type": "stream",
       "stream": "stdout",
       "text": [
        "[ 111.360 -132.824 -122.801 -97.927  112.928  37.277  151.792  71.951 -11.439  1.158]\n",
        "\n",
        "[ 111.0 -133.0 -123.0 -98.0  112.0  37.0  151.0  71.0 -12.0  1.0]\n",
        "\n",
        "[ 112.0 -132.0 -122.0 -97.0  113.0  38.0  152.0  72.0 -11.0  2.0]\n",
        "\n",
        "[ 111.0 -133.0 -123.0 -98.0  113.0  37.0  152.0  72.0 -11.0  1.0]\n",
        "\n",
        "[ 111 -133 -123 -98  112  37  151  71 -12  1]\n",
        "\n",
        "[ 112 -132 -122 -97  113  38  152  72 -11  2]\n",
        "\n",
        "[ 111 -133 -123 -98  113  37  152  72 -11  1]\n",
        "\n"
       ]
      }
     ],
     "prompt_number": 11
    },
    {
     "cell_type": "code",
     "collapsed": false,
     "input": [
      "x = pv.create('mview_f',5,3).randn(10)*100.0\n",
      "xf=x.empty.fill(0.)\n",
      "xc=x.empty.fill(0.0)\n",
      "xr=x.empty.fill(0.)\n",
      "xfi=pv.create('mview_i',x.collength,x.rowlength).fill(0)\n",
      "xci=xfi.copy\n",
      "xri=xfi.copy\n",
      "xf=pv.floor(x,xf)\n",
      "xc=pv.ceil(x,xc)\n",
      "xr=pv.round(x,xr)\n",
      "xfi=pv.floor(x,xfi)\n",
      "xci=pv.ceil(x,xci)\n",
      "xri=pv.round(x,xri)\n",
      "x.mprint('%.3f');xf.mprint('%.1f');xc.mprint('%.1f');xr.mprint('%.1f')\n",
      "xfi.mprint('%d');xci.mprint('%d');xri.mprint('%d')"
     ],
     "language": "python",
     "metadata": {},
     "outputs": [
      {
       "output_type": "stream",
       "stream": "stdout",
       "text": [
        "[ 111.360 -132.824 -122.801;\n",
        " -97.927  112.928  37.277;\n",
        "  151.792  71.951 -11.439;\n",
        "  1.158 -101.723  34.607;\n",
        " -144.992  15.410 -49.409]\n",
        "\n",
        "[ 111.0 -133.0 -123.0;\n",
        " -98.0  112.0  37.0;\n",
        "  151.0  71.0 -12.0;\n",
        "  1.0 -102.0  34.0;\n",
        " -145.0  15.0 -50.0]\n",
        "\n",
        "[ 112.0 -132.0 -122.0;\n",
        " -97.0  113.0  38.0;\n",
        "  152.0  72.0 -11.0;\n",
        "  2.0 -101.0  35.0;\n",
        " -144.0  16.0 -49.0]\n",
        "\n",
        "[ 111.0 -133.0 -123.0;\n",
        " -98.0  113.0  37.0;\n",
        "  152.0  72.0 -11.0;\n",
        "  1.0 -102.0  35.0;\n",
        " -145.0  15.0 -49.0]\n",
        "\n",
        "[ 111 -133 -123;\n",
        " -98  112  37;\n",
        "  151  71 -12;\n",
        "  1 -102  34;\n",
        " -145  15 -50]\n",
        "\n",
        "[ 112 -132 -122;\n",
        " -97  113  38;\n",
        "  152  72 -11;\n",
        "  2 -101  35;\n",
        " -144  16 -49]\n",
        "\n",
        "[ 111 -133 -123;\n",
        " -98  113  37;\n",
        "  152  72 -11;\n",
        "  1 -102  35;\n",
        " -145  15 -49]\n",
        "\n"
       ]
      }
     ],
     "prompt_number": 12
    },
    {
     "cell_type": "code",
     "collapsed": false,
     "input": [
      "x.compactAttrib()\n",
      "a"
     ],
     "language": "python",
     "metadata": {},
     "outputs": [
      {
       "ename": "TypeError",
       "evalue": "compactAttrib() takes exactly 2 arguments (1 given)",
       "output_type": "pyerr",
       "traceback": [
        "\u001b[0;31m---------------------------------------------------------------------------\u001b[0m\n\u001b[0;31mTypeError\u001b[0m                                 Traceback (most recent call last)",
        "\u001b[0;32m<ipython-input-13-d57f4039a485>\u001b[0m in \u001b[0;36m<module>\u001b[0;34m()\u001b[0m\n\u001b[0;32m----> 1\u001b[0;31m \u001b[0mx\u001b[0m\u001b[0;34m.\u001b[0m\u001b[0mcompactAttrib\u001b[0m\u001b[0;34m(\u001b[0m\u001b[0;34m)\u001b[0m\u001b[0;34m\u001b[0m\u001b[0m\n\u001b[0m\u001b[1;32m      2\u001b[0m \u001b[0ma\u001b[0m\u001b[0;34m\u001b[0m\u001b[0m\n",
        "\u001b[0;31mTypeError\u001b[0m: compactAttrib() takes exactly 2 arguments (1 given)"
       ]
      }
     ],
     "prompt_number": 13
    },
    {
     "cell_type": "code",
     "collapsed": false,
     "input": [
      "from numpy import floor,ceil,round\n",
      "import jvsipNumpy as jn"
     ],
     "language": "python",
     "metadata": {},
     "outputs": [],
     "prompt_number": 14
    },
    {
     "cell_type": "code",
     "collapsed": false,
     "input": [
      "y=jn.jvToNp(x)"
     ],
     "language": "python",
     "metadata": {},
     "outputs": [],
     "prompt_number": 24
    },
    {
     "cell_type": "code",
     "collapsed": false,
     "input": [
      "floor(x)"
     ],
     "language": "python",
     "metadata": {},
     "outputs": [
      {
       "metadata": {},
       "output_type": "pyout",
       "prompt_number": 15,
       "text": [
        "array([[ 111., -133., -123.],\n",
        "       [ -98.,  112.,   37.],\n",
        "       [ 151.,   71.,  -12.],\n",
        "       [   1., -102.,   34.],\n",
        "       [-145.,   15.,  -50.]])"
       ]
      }
     ],
     "prompt_number": 15
    },
    {
     "cell_type": "code",
     "collapsed": false,
     "input": [
      "ceil(x)"
     ],
     "language": "python",
     "metadata": {},
     "outputs": [
      {
       "metadata": {},
       "output_type": "pyout",
       "prompt_number": 16,
       "text": [
        "array([[ 112., -132., -122.],\n",
        "       [ -97.,  113.,   38.],\n",
        "       [ 152.,   72.,  -11.],\n",
        "       [   2., -101.,   35.],\n",
        "       [-144.,   16.,  -49.]])"
       ]
      }
     ],
     "prompt_number": 16
    },
    {
     "cell_type": "code",
     "collapsed": false,
     "input": [
      "round(x)"
     ],
     "language": "python",
     "metadata": {},
     "outputs": [
      {
       "metadata": {},
       "output_type": "pyout",
       "prompt_number": 17,
       "text": [
        "array([[ 111., -133., -123.],\n",
        "       [ -98.,  113.,   37.],\n",
        "       [ 152.,   72.,  -11.],\n",
        "       [   1., -102.,   35.],\n",
        "       [-145.,   15.,  -49.]])"
       ]
      }
     ],
     "prompt_number": 17
    },
    {
     "cell_type": "code",
     "collapsed": false,
     "input": [
      "x"
     ],
     "language": "python",
     "metadata": {},
     "outputs": [
      {
       "metadata": {},
       "output_type": "pyout",
       "prompt_number": 18,
       "text": [
        "<pyJvsip.__View at 0x10a6070d0>"
       ]
      }
     ],
     "prompt_number": 18
    },
    {
     "cell_type": "code",
     "collapsed": false,
     "input": [
      "len(x[0])"
     ],
     "language": "python",
     "metadata": {},
     "outputs": [
      {
       "metadata": {},
       "output_type": "pyout",
       "prompt_number": 20,
       "text": [
        "3"
       ]
      }
     ],
     "prompt_number": 20
    },
    {
     "cell_type": "code",
     "collapsed": false,
     "input": [
      "y[1,1]"
     ],
     "language": "python",
     "metadata": {},
     "outputs": [
      {
       "metadata": {},
       "output_type": "pyout",
       "prompt_number": 29,
       "text": [
        "112.92777"
       ]
      }
     ],
     "prompt_number": 29
    },
    {
     "cell_type": "code",
     "collapsed": false,
     "input": [
      "type(y)"
     ],
     "language": "python",
     "metadata": {},
     "outputs": [
      {
       "metadata": {},
       "output_type": "pyout",
       "prompt_number": 21,
       "text": [
        "numpy.ndarray"
       ]
      }
     ],
     "prompt_number": 21
    },
    {
     "cell_type": "code",
     "collapsed": false,
     "input": [
      "type(x)"
     ],
     "language": "python",
     "metadata": {},
     "outputs": [
      {
       "metadata": {},
       "output_type": "pyout",
       "prompt_number": 23,
       "text": [
        "int"
       ]
      }
     ],
     "prompt_number": 23
    },
    {
     "cell_type": "code",
     "collapsed": false,
     "input": [
      "x.type"
     ],
     "language": "python",
     "metadata": {},
     "outputs": [
      {
       "metadata": {},
       "output_type": "pyout",
       "prompt_number": 21,
       "text": [
        "'mview_f'"
       ]
      }
     ],
     "prompt_number": 21
    },
    {
     "cell_type": "code",
     "collapsed": false,
     "input": [
      "z=y-x"
     ],
     "language": "python",
     "metadata": {},
     "outputs": [],
     "prompt_number": 32
    },
    {
     "cell_type": "code",
     "collapsed": false,
     "input": [
      "type(z)"
     ],
     "language": "python",
     "metadata": {},
     "outputs": [
      {
       "metadata": {},
       "output_type": "pyout",
       "prompt_number": 26,
       "text": [
        "numpy.ndarray"
       ]
      }
     ],
     "prompt_number": 26
    },
    {
     "cell_type": "code",
     "collapsed": false,
     "input": [
      "z"
     ],
     "language": "python",
     "metadata": {},
     "outputs": [
      {
       "metadata": {},
       "output_type": "pyout",
       "prompt_number": 30,
       "text": [
        "array([[  67.3306427 , -116.39313126,   -8.80193329],\n",
        "       [  22.27983093,  132.25736809,   60.11781883],\n",
        "       [ -39.34368896,   58.57730103, -125.52781296],\n",
        "       [-127.33068275,   80.96194458,   32.20944595],\n",
        "       [ -22.18718719,  -76.93209839,   34.39088058]])"
       ]
      }
     ],
     "prompt_number": 30
    },
    {
     "cell_type": "code",
     "collapsed": false,
     "input": [
      "x.randn(16)\n",
      "x*=100.0"
     ],
     "language": "python",
     "metadata": {},
     "outputs": [],
     "prompt_number": 28
    },
    {
     "cell_type": "code",
     "collapsed": false,
     "input": [],
     "language": "python",
     "metadata": {},
     "outputs": []
    }
   ],
   "metadata": {}
  }
 ]
}