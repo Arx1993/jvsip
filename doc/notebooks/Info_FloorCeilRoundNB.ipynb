{
 "metadata": {
  "name": "",
  "signature": "sha256:378c86cd9f46f51cabf077c13b975cdc584b5a75e25ec3e963a0054c9a1c06a5"
 },
 "nbformat": 3,
 "nbformat_minor": 0,
 "worksheets": [
  {
   "cells": [
    {
     "cell_type": "code",
     "collapsed": false,
     "input": [
      "import pyJvsip as pv"
     ],
     "language": "python",
     "metadata": {},
     "outputs": [],
     "prompt_number": 1
    },
    {
     "cell_type": "code",
     "collapsed": false,
     "input": [
      "x = pv.create('vview_d',10).randn(10)*100.0\n",
      "xf=x.empty.fill(0.)\n",
      "xc=x.empty.fill(0.0)\n",
      "xr=x.empty.fill(0.)\n",
      "xfi=pv.create('vview_i',x.length).fill(0)\n",
      "xci=xfi.copy\n",
      "xri=xfi.copy\n",
      "xf=pv.floor(x,xf)\n",
      "xc=pv.ceil(x,xc)\n",
      "xr=pv.round(x,xr)\n",
      "xfi=pv.floor(x,xfi)\n",
      "xci=pv.ceil(x,xci)\n",
      "xri=pv.round(x,xri)\n",
      "x.mprint('%.3f');xf.mprint('%.1f');xc.mprint('%.1f');xr.mprint('%.1f')\n",
      "xfi.mprint('%d');xci.mprint('%d');xri.mprint('%d')"
     ],
     "language": "python",
     "metadata": {},
     "outputs": [
      {
       "output_type": "stream",
       "stream": "stdout",
       "text": [
        "[ 111.360 -132.824 -122.801 -97.927  112.928  37.277  151.792  71.951 -11.439  1.158]\n",
        "\n",
        "[ 111.0 -133.0 -123.0 -98.0  112.0  37.0  151.0  71.0 -12.0  1.0]\n",
        "\n",
        "[ 112.0 -132.0 -122.0 -97.0  113.0  38.0  152.0  72.0 -11.0  2.0]\n",
        "\n",
        "[ 111.0 -133.0 -123.0 -98.0  113.0  37.0  152.0  72.0 -11.0  1.0]\n",
        "\n",
        "[ 111 -133 -123 -98  112  37  151  71 -12  1]\n",
        "\n",
        "[ 112 -132 -122 -97  113  38  152  72 -11  2]\n",
        "\n",
        "[ 111 -133 -123 -98  113  37  152  72 -11  1]\n",
        "\n"
       ]
      }
     ],
     "prompt_number": 2
    },
    {
     "cell_type": "code",
     "collapsed": false,
     "input": [
      "x = pv.create('mview_d',5,3).randn(10)*100.0\n",
      "xf=x.empty.fill(0.)\n",
      "xc=x.empty.fill(0.0)\n",
      "xr=x.empty.fill(0.)\n",
      "xfi=pv.create('mview_i',x.collength,x.rowlength).fill(0)\n",
      "xci=xfi.copy\n",
      "xri=xfi.copy\n",
      "xf=pv.floor(x,xf)\n",
      "xc=pv.ceil(x,xc)\n",
      "xr=pv.round(x,xr)\n",
      "xfi=pv.floor(x,xfi)\n",
      "xci=pv.ceil(x,xci)\n",
      "xri=pv.round(x,xri)\n",
      "x.mprint('%.3f');xf.mprint('%.1f');xc.mprint('%.1f');xr.mprint('%.1f')\n",
      "xfi.mprint('%d');xci.mprint('%d');xri.mprint('%d')"
     ],
     "language": "python",
     "metadata": {},
     "outputs": [
      {
       "output_type": "stream",
       "stream": "stdout",
       "text": [
        "[ 111.360 -132.824 -122.801;\n",
        " -97.927  112.928  37.277;\n",
        "  151.792  71.951 -11.439;\n",
        "  1.157 -101.723  34.607;\n",
        " -144.992  15.410 -49.409]\n",
        "\n",
        "[ 111.0 -133.0 -123.0;\n",
        " -98.0  112.0  37.0;\n",
        "  151.0  71.0 -12.0;\n",
        "  1.0 -102.0  34.0;\n",
        " -145.0  15.0 -50.0]\n",
        "\n",
        "[ 112.0 -132.0 -122.0;\n",
        " -97.0  113.0  38.0;\n",
        "  152.0  72.0 -11.0;\n",
        "  2.0 -101.0  35.0;\n",
        " -144.0  16.0 -49.0]\n",
        "\n",
        "[ 111.0 -133.0 -123.0;\n",
        " -98.0  113.0  37.0;\n",
        "  152.0  72.0 -11.0;\n",
        "  1.0 -102.0  35.0;\n",
        " -145.0  15.0 -49.0]\n",
        "\n",
        "[ 111 -133 -123;\n",
        " -98  112  37;\n",
        "  151  71 -12;\n",
        "  1 -102  34;\n",
        " -145  15 -50]\n",
        "\n",
        "[ 112 -132 -122;\n",
        " -97  113  38;\n",
        "  152  72 -11;\n",
        "  2 -101  35;\n",
        " -144  16 -49]\n",
        "\n",
        "[ 111 -133 -123;\n",
        " -98  113  37;\n",
        "  152  72 -11;\n",
        "  1 -102  35;\n",
        " -145  15 -49]\n",
        "\n"
       ]
      }
     ],
     "prompt_number": 3
    },
    {
     "cell_type": "code",
     "collapsed": false,
     "input": [
      "x = pv.create('vview_f',10).randn(10)*100.0\n",
      "xf=x.empty.fill(0.)\n",
      "xc=x.empty.fill(0.0)\n",
      "xr=x.empty.fill(0.)\n",
      "xfi=pv.create('vview_i',x.length).fill(0)\n",
      "xci=xfi.copy\n",
      "xri=xfi.copy\n",
      "xf=pv.floor(x,xf)\n",
      "xc=pv.ceil(x,xc)\n",
      "xr=pv.round(x,xr)\n",
      "xfi=pv.floor(x,xfi)\n",
      "xci=pv.ceil(x,xci)\n",
      "xri=pv.round(x,xri)\n",
      "x.mprint('%.3f');xf.mprint('%.1f');xc.mprint('%.1f');xr.mprint('%.1f')\n",
      "xfi.mprint('%d');xci.mprint('%d');xri.mprint('%d')"
     ],
     "language": "python",
     "metadata": {},
     "outputs": [
      {
       "output_type": "stream",
       "stream": "stdout",
       "text": [
        "[ 111.360 -132.824 -122.801 -97.927  112.928  37.277  151.792  71.951 -11.439  1.158]\n",
        "\n",
        "[ 111.0 -133.0 -123.0 -98.0  112.0  37.0  151.0  71.0 -12.0  1.0]\n",
        "\n",
        "[ 112.0 -132.0 -122.0 -97.0  113.0  38.0  152.0  72.0 -11.0  2.0]\n",
        "\n",
        "[ 111.0 -133.0 -123.0 -98.0  113.0  37.0  152.0  72.0 -11.0  1.0]\n",
        "\n",
        "[ 111 -133 -123 -98  112  37  151  71 -12  1]\n",
        "\n",
        "[ 112 -132 -122 -97  113  38  152  72 -11  2]\n",
        "\n",
        "[ 111 -133 -123 -98  113  37  152  72 -11  1]\n",
        "\n"
       ]
      }
     ],
     "prompt_number": 4
    },
    {
     "cell_type": "code",
     "collapsed": false,
     "input": [
      "x = pv.create('mview_f',5,3).randn(10)*100.0\n",
      "xf=x.empty.fill(0.)\n",
      "xc=x.empty.fill(0.0)\n",
      "xr=x.empty.fill(0.)\n",
      "xfi=pv.create('mview_i',x.collength,x.rowlength).fill(0)\n",
      "xci=xfi.copy\n",
      "xri=xfi.copy\n",
      "xf=pv.floor(x,xf)\n",
      "xc=pv.ceil(x,xc)\n",
      "xr=pv.round(x,xr)\n",
      "xfi=pv.floor(x,xfi)\n",
      "xci=pv.ceil(x,xci)\n",
      "xri=pv.round(x,xri)\n",
      "x.mprint('%.3f');xf.mprint('%.1f');xc.mprint('%.1f');xr.mprint('%.1f')\n",
      "xfi.mprint('%d');xci.mprint('%d');xri.mprint('%d')"
     ],
     "language": "python",
     "metadata": {},
     "outputs": [
      {
       "output_type": "stream",
       "stream": "stdout",
       "text": [
        "[ 111.360 -132.824 -122.801;\n",
        " -97.927  112.928  37.277;\n",
        "  151.792  71.951 -11.439;\n",
        "  1.158 -101.723  34.607;\n",
        " -144.992  15.410 -49.409]\n",
        "\n",
        "[ 111.0 -133.0 -123.0;\n",
        " -98.0  112.0  37.0;\n",
        "  151.0  71.0 -12.0;\n",
        "  1.0 -102.0  34.0;\n",
        " -145.0  15.0 -50.0]\n",
        "\n",
        "[ 112.0 -132.0 -122.0;\n",
        " -97.0  113.0  38.0;\n",
        "  152.0  72.0 -11.0;\n",
        "  2.0 -101.0  35.0;\n",
        " -144.0  16.0 -49.0]\n",
        "\n",
        "[ 111.0 -133.0 -123.0;\n",
        " -98.0  113.0  37.0;\n",
        "  152.0  72.0 -11.0;\n",
        "  1.0 -102.0  35.0;\n",
        " -145.0  15.0 -49.0]\n",
        "\n",
        "[ 111 -133 -123;\n",
        " -98  112  37;\n",
        "  151  71 -12;\n",
        "  1 -102  34;\n",
        " -145  15 -50]\n",
        "\n",
        "[ 112 -132 -122;\n",
        " -97  113  38;\n",
        "  152  72 -11;\n",
        "  2 -101  35;\n",
        " -144  16 -49]\n",
        "\n",
        "[ 111 -133 -123;\n",
        " -98  113  37;\n",
        "  152  72 -11;\n",
        "  1 -102  35;\n",
        " -145  15 -49]\n",
        "\n"
       ]
      }
     ],
     "prompt_number": 5
    }
   ],
   "metadata": {}
  }
 ]
}