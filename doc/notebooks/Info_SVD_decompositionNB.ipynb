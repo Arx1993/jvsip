{
 "metadata": {
  "name": ""
 },
 "nbformat": 3,
 "nbformat_minor": 0,
 "worksheets": [
  {
   "cells": [
    {
     "cell_type": "markdown",
     "metadata": {},
     "source": [
      "### SVD Decomposition    "
     ]
    },
    {
     "cell_type": "code",
     "collapsed": false,
     "input": [
      "import pyJvsip as pv\n",
      "f='%.5f'"
     ],
     "language": "python",
     "metadata": {},
     "outputs": [],
     "prompt_number": 1
    },
    {
     "cell_type": "markdown",
     "metadata": {},
     "source": [
      "Solve using SVD Class"
     ]
    },
    {
     "cell_type": "markdown",
     "metadata": {},
     "source": [
      "Create some data A x = b   \n",
      "Note we create an x and calculate a b directly. To demonstrate we use A and b to estimate x."
     ]
    },
    {
     "cell_type": "code",
     "collapsed": false,
     "input": [
      "n=5\n",
      "A=pv.create('mview_d',n,n).fill(0.0)\n",
      "A.randn(5)\n",
      "x=pv.create('vview_d',n).randn(9)\n",
      "print('Matrix A');A.mprint(f)\n",
      "print('Known x vector');x.mprint(f)\n",
      "b=A.prod(x)\n",
      "print('Calculated b=Ax vector');b.mprint(f)"
     ],
     "language": "python",
     "metadata": {},
     "outputs": [
      {
       "output_type": "stream",
       "stream": "stdout",
       "text": [
        "Matrix A\n",
        "[ 0.50802  0.53515  0.69864 -0.96027  0.23142;\n",
        "  0.04042 -0.47661  0.20765  0.50621 -0.38285;\n",
        "  0.15746  0.78115 -0.96815 -0.32034  0.79250;\n",
        "  0.79172 -0.25782  0.12663  1.35454  0.25523;\n",
        " -0.19460  0.34111 -0.49602  0.17191  1.62412]\n",
        "\n",
        "Known x vector\n",
        "[ 0.39248 -1.35556 -0.24268  1.22453 -0.65029]\n",
        "\n",
        "Calculated b=Ax vector\n",
        "[-2.02196  1.48038 -1.66977  2.12221 -1.26404]\n",
        "\n"
       ]
      }
     ],
     "prompt_number": 2
    },
    {
     "cell_type": "markdown",
     "metadata": {},
     "source": [
      "Both LU and SV overwrite the input matrix; so to preserve our original matrix we use a copy. The LU (and SV) object will keep a reference to the copy (which means python will not garbage collect it). We solve this first using SVD. We don't overwrite our original vector so we can compare the estimated solution to the actual solution. SVD does not have a solver so we do it long hand."
     ]
    },
    {
     "cell_type": "code",
     "collapsed": false,
     "input": [
      "u,s,v=A.copy.svd\n",
      "s.mprint(f)\n",
      "# check for zeros in s\n",
      "assert s.leq(0.0).sumval == 0,'There is at least one zero singular value so no solution'\n",
      "xe=v.prod(u.transview.prod(b)/s)\n",
      "x.mprint(f)\n",
      "xe.mprint(f)\n",
      "print('Forbenius norm of x estimate - x is %.5e'%(xe-x).normFro)"
     ],
     "language": "python",
     "metadata": {},
     "outputs": [
      {
       "output_type": "stream",
       "stream": "stdout",
       "text": [
        "[ 2.26877  1.89101  1.17381  0.74723  0.05827]\n",
        "\n",
        "[ 0.39248 -1.35556 -0.24268  1.22453 -0.65029]\n",
        "\n",
        "[ 0.39248 -1.35556 -0.24268  1.22453 -0.65029]\n",
        "\n",
        "Forbenius norm of x estimate - x is 1.54231e-14\n"
       ]
      }
     ],
     "prompt_number": 3
    },
    {
     "cell_type": "markdown",
     "metadata": {},
     "source": [
      "Now we solve using LU. We start with the LU class directly."
     ]
    },
    {
     "cell_type": "markdown",
     "metadata": {},
     "source": [
      "Note that many class instance variables have a type selector (tSel) which is a dictionary which lets you select the decomposition type using the matrix type."
     ]
    },
    {
     "cell_type": "code",
     "collapsed": false,
     "input": [
      "print('Example of LU.tSel: %s'%pv.LU.tSel[A.type])\n",
      "luObj = pv.LU(pv.LU.tSel[A.type],n)\n",
      "_=luObj.decompose(A.copy)\n",
      "print('Solve for x using b. Done in place. Here we make a copy of b first. ')\n",
      "xe = b.copy\n",
      "luObj.solve(pv.VSIP_MAT_NTRANS,xe).mprint(f)\n",
      "print('Forbenius norm of x estimate - x is %.5e'%(xe-x).normFro)"
     ],
     "language": "python",
     "metadata": {},
     "outputs": [
      {
       "output_type": "stream",
       "stream": "stdout",
       "text": [
        "Example of LU.tSel: lu_d\n",
        "Solve for x using b. Done in place. Here we make a copy of b first. \n",
        "[ 0.39248 -1.35556 -0.24268  1.22453 -0.65029]\n",
        "\n",
        "Forbenius norm of x estimate - x is 1.83544e-15\n"
       ]
      }
     ],
     "prompt_number": 4
    },
    {
     "cell_type": "markdown",
     "metadata": {},
     "source": [
      "Now we solve using the SV Class directly without using a pyJvsip convenience method."
     ]
    },
    {
     "cell_type": "code",
     "collapsed": false,
     "input": [
      "svObj = pv.SV(pv.SV.tSel[A.type],A.collength,A.rowlength,'FULL','FULL')\n",
      "print('Input Matrix'); A.mprint('%.3f')\n",
      "print('Input b values');b.mprint('%.4f')\n",
      "m=A.collength; n=A.rowlength\n",
      "if m > n:\n",
      "    s=A.rowview(0).empty.fill(0.0)\n",
      "else:\n",
      "    s=A.colview(0).empty.fill(0.0)\n",
      "svObj.svd(A.copy,s)\n",
      "print('Singular Values');s.mprint('%.4f')\n",
      "V=pv.create(A.type,n,n); U=pv.create(A.type,m,m)\n",
      "svObj.matv(0,n,V)\n",
      "svObj.matu(0,m,U)\n",
      "xe=V.prod(U.transview.prod(b)/s)\n",
      "print('x');x.mprint(f)\n",
      "print('x estimate');xe.mprint(f)\n",
      "print('Forbenius norm of x estimate - x is %.5e'%(xe-x).normFro)\n"
     ],
     "language": "python",
     "metadata": {},
     "outputs": [
      {
       "output_type": "stream",
       "stream": "stdout",
       "text": [
        "Input Matrix\n",
        "[ 0.508  0.535  0.699 -0.960  0.231;\n",
        "  0.040 -0.477  0.208  0.506 -0.383;\n",
        "  0.157  0.781 -0.968 -0.320  0.793;\n",
        "  0.792 -0.258  0.127  1.355  0.255;\n",
        " -0.195  0.341 -0.496  0.172  1.624]\n",
        "\n",
        "Input b values\n",
        "[-2.0220  1.4804 -1.6698  2.1222 -1.2640]\n",
        "\n",
        "Singular Values\n",
        "[ 2.2688  1.8910  1.1738  0.7472  0.0583]\n",
        "\n",
        "x\n",
        "[ 0.39248 -1.35556 -0.24268  1.22453 -0.65029]\n",
        "\n",
        "x estimate\n",
        "[ 0.39248 -1.35556 -0.24268  1.22453 -0.65029]\n",
        "\n",
        "Forbenius norm of x estimate - x is 1.54231e-14\n"
       ]
      }
     ],
     "prompt_number": 12
    },
    {
     "cell_type": "code",
     "collapsed": false,
     "input": [],
     "language": "python",
     "metadata": {},
     "outputs": []
    }
   ],
   "metadata": {}
  }
 ]
}