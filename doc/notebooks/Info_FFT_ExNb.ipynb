{
 "cells": [
  {
   "cell_type": "markdown",
   "metadata": {},
   "source": [
    "## pyJvsip FFT Usage\n",
    "In this document we cover the FFT support for the discrete Fourier transform in pyJvsip. Although FFT is a class, we also define some convienience methods for views. "
   ]
  },
  {
   "cell_type": "code",
   "execution_count": 1,
   "metadata": {
    "collapsed": false
   },
   "outputs": [],
   "source": [
    "import pyJvsip as pjv"
   ]
  },
  {
   "cell_type": "markdown",
   "metadata": {},
   "source": [
    "### Argument List for Fast Fourier Transform routines\n",
    "Generally to create an FFT object you need length(s), a scale factor, an FFT direction (forward or inverse), major direction either by row or by column (for matrices), and two hints the first `ntimes` indicating how often you think the FFT object will be used, and the second an algorithm hint indicating if you want the object to be optimized for time of execution, memory space used, or accuracy of answer. \n",
    "\n",
    "In this document for vectors we indicate the length as `lnth`. For matrices we use `M` for column length and `N` for row length.\n",
    "\n",
    "We note that for a real to complex FFT there is no direction argument since this is always a forward FFT. Similarily for a complex to real FFT there is also no direction argument since this is always an inverse FFT."
   ]
  },
  {
   "cell_type": "markdown",
   "metadata": {},
   "source": [
    "### Hints\n",
    "In General, other than supporting the interface, JVSIP does not support algorithm hints. For FFT this means the hint argument and the number of times argument have no affect. Generally I just use zero for ntimes, and VSIP_ALG_TIME for aglorithm hint.  Note that if you are trying to write portable code then you should select these items bassed upon your need. For instance for view methods I selected 1 for number of times since these are always a one-off FFT.\n",
    "\n",
    "### Type\n",
    "For pyJvsip types are defined when creating objects using a type string. The type strings used below were defined for FFTs.\n",
    "\n",
    "In this document the examples are done for double. To get single float just replace the `_d` at the end of the type string with `_f`."
   ]
  },
  {
   "cell_type": "markdown",
   "metadata": {},
   "source": [
    "### FFT object creation\n",
    "Below we create FFT objects and define some parameters. The scale argument is defined as 1 for the forward FFT and as (iscale) 1.0/lnth for the inverse so that when we do the inverse FFT on the output of the forward FFT we get back the origional data.\n",
    "\n",
    "I have tried to do an example of every fft type, but it is possible I missed one or two.  Basically the argument tuple is the same as the function call defined for fft and fftm creates in the C VSIPL specificaiton. The type string before the argument tuple controls the underlying C VSIPL object created by the FFT object initializtion. If the string does not match the argument list there will be trouble. The C VSIPL object is contained as an instance variable in the pyJvsip FFT object."
   ]
  },
  {
   "cell_type": "code",
   "execution_count": 2,
   "metadata": {
    "collapsed": false
   },
   "outputs": [],
   "source": [
    "lnth=1024 # for vectors\n",
    "M = 64  # column length\n",
    "N = 128 # row length\n",
    "fwd=pjv.VSIP_FFT_FWD\n",
    "inv=pjv.VSIP_FFT_INV\n",
    "hint=pjv.VSIP_ALG_TIME\n",
    "ntimes=0\n",
    "scale=1.0\n",
    "iscale=1.0/lnth\n",
    "row=pjv.VSIP_ROW\n",
    "col=pjv.VSIP_COL\n",
    "#fft\n",
    "argrcfft=(lnth,scale,ntimes,hint)\n",
    "objrc=pjv.FFT('rcfftop_d',*argrcfft)\n",
    "argcrfft=(lnth,iscale,ntimes,hint) #change scale to remove FFT amplification\n",
    "objcr=pjv.FFT('crfftop_d',*argcrfft)\n",
    "argccfft=(lnth,scale,fwd,ntimes,hint)\n",
    "objccfwd=pjv.FFT('ccfftop_d',*argccfft)\n",
    "objccipfwd=pjv.FFT('ccfftip_d',*argccfft)\n",
    "argccfft=(lnth,iscale,inv,ntimes,hint)\n",
    "objccinv=pjv.FFT('ccfftop_d',*argccfft)\n",
    "objccipinv=pjv.FFT('ccfftip_d',*argccfft)\n",
    "#fftm by row\n",
    "iscale=1.0/N\n",
    "argrcfftm=(M,N,scale,row,ntimes,hint)\n",
    "objrcmr=pjv.FFT('rcfftmop_d',*argrcfftm)\n",
    "argcrfftm=(M,N,iscale,row,ntimes,hint)\n",
    "objcrmr=pjv.FFT('crfftmop_d',*argcrfftm)\n",
    "argccfftm=(M,N,scale,fwd,row,ntimes,hint)\n",
    "objccfwdmr=pjv.FFT('ccfftmop_d',*argccfftm)\n",
    "objccipfwdmr=pjv.FFT('ccfftmip_d',*argccfftm)\n",
    "argccfftm=(M,N,iscale,inv,row,ntimes,hint)\n",
    "objccinvmr=pjv.FFT('ccfftmop_d',*argccfftm)\n",
    "objccipinvmr=pjv.FFT('ccfftmip_d',*argccfftm)\n",
    "#fftm by col\n",
    "iscale=1.0/M\n",
    "argrcfftm=(M,N,scale,col,ntimes,hint)\n",
    "objrcmc=pjv.FFT('rcfftmop_d',*argrcfftm)\n",
    "argcrfftm=(M,N,iscale,col,ntimes,hint)\n",
    "objcrmc=pjv.FFT('crfftmop_d',*argcrfftm)\n",
    "argccfftm=(M,N,scale,fwd,col,ntimes,hint)\n",
    "objccfwdmc=pjv.FFT('ccfftmop_d',*argccfftm)\n",
    "objccipfwdmc=pjv.FFT('ccfftmip_d',*argccfftm)\n",
    "argccfftm=(M,N,iscale,inv,col,ntimes,hint)\n",
    "objccinvmc=pjv.FFT('ccfftmop_d',*argccfftm)\n",
    "objccipinvmc=pjv.FFT('ccfftmip_d',*argccfftm)"
   ]
  },
  {
   "cell_type": "markdown",
   "metadata": {},
   "source": [
    "#### FFT Use\n",
    "Below we use the FFT objects created above to do some FFT's. Basically we create appropriate views and fill them with random data. We do a Forward FFT and an inverse FFT with appropriate scalling so we should get back the input data. We then compare using the Frobenious norm to check."
   ]
  },
  {
   "cell_type": "code",
   "execution_count": 3,
   "metadata": {
    "collapsed": false
   },
   "outputs": [
    {
     "name": "stdout",
     "output_type": "stream",
     "text": [
      "0.000000\n"
     ]
    }
   ],
   "source": [
    "#Ex rcfftop and crfftop\n",
    "assert lnth & 1==0,'for rcfft the vector must be unit stride and even length'\n",
    "x=pjv.create('vview_d',lnth).randn(5)\n",
    "y=pjv.create('cvview_d',int(lnth/2)+1).fill(0.0)\n",
    "xc=x.copy\n",
    "objrc.dft(x,y)\n",
    "objcr.dft(y,x)\n",
    "print('%f'%(x-xc).normFro)"
   ]
  },
  {
   "cell_type": "code",
   "execution_count": 4,
   "metadata": {
    "collapsed": false
   },
   "outputs": [
    {
     "data": {
      "text/plain": [
       "'rcfftop_d'"
      ]
     },
     "execution_count": 4,
     "metadata": {},
     "output_type": "execute_result"
    }
   ],
   "source": [
    "objrc.type"
   ]
  },
  {
   "cell_type": "code",
   "execution_count": 5,
   "metadata": {
    "collapsed": false
   },
   "outputs": [
    {
     "data": {
      "text/plain": [
       "'crfftop_d'"
      ]
     },
     "execution_count": 5,
     "metadata": {},
     "output_type": "execute_result"
    }
   ],
   "source": [
    "objcr.type"
   ]
  },
  {
   "cell_type": "code",
   "execution_count": 6,
   "metadata": {
    "collapsed": false
   },
   "outputs": [
    {
     "data": {
      "text/plain": [
       "(1024, 0.0009765625, 0, 1)"
      ]
     },
     "execution_count": 6,
     "metadata": {},
     "output_type": "execute_result"
    }
   ],
   "source": [
    "objcr.arg"
   ]
  },
  {
   "cell_type": "code",
   "execution_count": 7,
   "metadata": {
    "collapsed": false
   },
   "outputs": [
    {
     "name": "stdout",
     "output_type": "stream",
     "text": [
      "0.000000\n"
     ]
    }
   ],
   "source": [
    "#Ex ccfftop\n",
    "x=pjv.create('cvview_d',lnth).randn(5)\n",
    "y=pjv.create('cvview_d',lnth).fill(0.0)\n",
    "xc=x.copy\n",
    "objccfwd.dft(x,y)\n",
    "objccinv.dft(y,x)\n",
    "print('%f'%(x-xc).normFro)"
   ]
  },
  {
   "cell_type": "code",
   "execution_count": 8,
   "metadata": {
    "collapsed": false
   },
   "outputs": [
    {
     "name": "stdout",
     "output_type": "stream",
     "text": [
      "0.000000\n"
     ]
    }
   ],
   "source": [
    "#Ex ccfftip\n",
    "x=pjv.create('cvview_d',lnth).randn(5)\n",
    "xc=x.copy\n",
    "objccipfwd.dft(x)\n",
    "objccipinv.dft(x)\n",
    "print('%f'%(x-xc).normFro)"
   ]
  },
  {
   "cell_type": "code",
   "execution_count": 10,
   "metadata": {
    "collapsed": false
   },
   "outputs": [
    {
     "name": "stdout",
     "output_type": "stream",
     "text": [
      "0.000000\n",
      "0.000000\n"
     ]
    }
   ],
   "source": [
    "#Ex rcfftmop and crfftmop\n",
    "x=pjv.create('mview_d',M,N).randn(5) #this is row major\n",
    "y=pjv.create('cmview_d',M,int(N/2)+1).fill(0.0) # do by row\n",
    "xc=x.copy\n",
    "objrcmr.dft(x,y)\n",
    "objcrmr.dft(y,x)\n",
    "print('%f'%(x-xc).normFro)\n",
    "#Ex rcfftmop and crfftmop\n",
    "x=pjv.create('mview_d',M,N,'COL').randn(5) #this is column major\n",
    "y=pjv.create('cmview_d',int(M/2)+1,N).fill(0.0) # do by column\n",
    "xc=x.copy\n",
    "objrcmc.dft(x,y)\n",
    "objcrmc.dft(y,x)\n",
    "print('%f'%(x-xc).normFro)"
   ]
  },
  {
   "cell_type": "code",
   "execution_count": 11,
   "metadata": {
    "collapsed": false
   },
   "outputs": [
    {
     "name": "stdout",
     "output_type": "stream",
     "text": [
      "0.000000\n",
      "0.000000\n"
     ]
    }
   ],
   "source": [
    "#Ex ccfftmop by row\n",
    "x=pjv.create('cmview_d',M,N).randn(5) #this is row major\n",
    "y=pjv.create('cmview_d',M,N).fill(0.0) # do by row\n",
    "xc=x.copy\n",
    "objccfwdmr.dft(x,y)\n",
    "objccinvmr.dft(y,x)\n",
    "print('%f'%(x-xc).normFro)\n",
    "#Ex ccfftmop by column\n",
    "x=pjv.create('cmview_d',M,N,'COL').randn(5) #this is column major\n",
    "y=pjv.create('cmview_d',M,N).fill(0.0) # do by column\n",
    "xc=x.copy\n",
    "objccfwdmc.dft(x,y)\n",
    "objccinvmc.dft(y,x)\n",
    "print('%f'%(x-xc).normFro)"
   ]
  },
  {
   "cell_type": "code",
   "execution_count": 12,
   "metadata": {
    "collapsed": false
   },
   "outputs": [
    {
     "name": "stdout",
     "output_type": "stream",
     "text": [
      "0.000000\n",
      "0.000000\n"
     ]
    }
   ],
   "source": [
    "#Ex ccfftmip by row\n",
    "x=pjv.create('cmview_d',M,N).randn(5) #this is row major\n",
    "xc=x.copy\n",
    "objccipfwdmr.dft(x)\n",
    "objccipinvmr.dft(x)\n",
    "print('%f'%(x-xc).normFro)\n",
    "#Ex ccfftmip by col\n",
    "x=pjv.create('cmview_d',M,N,'COL').randn(5) #this is column major\n",
    "xc=x.copy\n",
    "objccipfwdmc.dft(x)\n",
    "objccipinvmc.dft(x)\n",
    "print('%f'%(x-xc).normFro)"
   ]
  },
  {
   "cell_type": "markdown",
   "metadata": {},
   "source": [
    "### View Methods\n",
    "In pyJvsip I supply some convenience methods for Views to do FFTs.  This is only for pyJvsip and has nothing to do with the C VSIPL specification. The FFT class is used to write the methods so they are not independent of the JVSIP C library.\n",
    "\n",
    "View methods for fft are defined as properties (@property) and they have no arguments. This means the scale factor is determined by the implementation. I chose to just use one. In addition the selection of VSIP_FFT_FWD and VSIP_FFT_INV is done by the API. See examples below for naming information.\n",
    "\n",
    "The view methods that are done out-of-place will create a suitable output block and view for the output data and return it.\n",
    "\n",
    "Additional functionality for fftop has been added so that a real float vector will be treated as if it were a complex vector with zero imaginary part.\n",
    "\n",
    "In the examples below for matrix views note the use of the view major attribute. These will default to ROW major but if the major attribute has been set to COL somewhere then that is the direction of the multiple FFT so it is wise to set it just before calling the function if you don't already know what it is."
   ]
  },
  {
   "cell_type": "code",
   "execution_count": 13,
   "metadata": {
    "collapsed": false
   },
   "outputs": [
    {
     "name": "stdout",
     "output_type": "stream",
     "text": [
      "0.000000\n"
     ]
    }
   ],
   "source": [
    "# demonstrate rcfftop\n",
    "x0=pjv.create('vview_d',lnth).randn(5)\n",
    "y=x0.rcfft\n",
    "# note for view methods scale is always 1.0\n",
    "x=y.crfft\n",
    "x *=1.0/lnth\n",
    "print('%f'%(x-x0).normFro)"
   ]
  },
  {
   "cell_type": "code",
   "execution_count": 15,
   "metadata": {
    "collapsed": false
   },
   "outputs": [
    {
     "name": "stdout",
     "output_type": "stream",
     "text": [
      "0.000000\n"
     ]
    }
   ],
   "source": [
    "x0=pjv.create('cvview_d',lnth).randn(5)\n",
    "y=x0.fftop\n",
    "# note we designate inverse with an i in front of the fft method name\n",
    "x=y.ifftop * float(1.0/lnth)\n",
    "print('%f'%(x-x0).normFro)"
   ]
  },
  {
   "cell_type": "code",
   "execution_count": null,
   "metadata": {
    "collapsed": false
   },
   "outputs": [],
   "source": [
    "x0=pjv.create('cvview_d',lnth).randn(5)\n",
    "x=x0.copy\n",
    "x0.fftip\n",
    "x0.ifftip\n",
    "x0*=1.0/lnth\n",
    "print('%f'%(x-x0).normFro)"
   ]
  },
  {
   "cell_type": "code",
   "execution_count": null,
   "metadata": {
    "collapsed": false
   },
   "outputs": [],
   "source": [
    "x0=pjv.create('cmview_d',15,26).randn(6)\n",
    "x=x0.copy\n",
    "x0.COL.fftip\n",
    "x0.COL.ifftip\n",
    "x0 *= 1.0/15\n",
    "print('%f'%(x-x0).normFro)"
   ]
  },
  {
   "cell_type": "code",
   "execution_count": null,
   "metadata": {
    "collapsed": false
   },
   "outputs": [],
   "source": [
    "x0=pjv.create('cmview_d',15,26).randn(6)\n",
    "x=x0.copy\n",
    "x0.ROW.fftip\n",
    "x0.ROW.ifftip\n",
    "x0 *= 1.0/26\n",
    "print('%f'%(x-x0).normFro)"
   ]
  },
  {
   "cell_type": "code",
   "execution_count": null,
   "metadata": {
    "collapsed": false
   },
   "outputs": [],
   "source": [
    "x0=pjv.create('cmview_d',15,26).randn(6)\n",
    "x=x0.copy\n",
    "y=x0.COL.fftop\n",
    "z=y.COL.ifftop\n",
    "z *= 1.0/15\n",
    "print('%f'%(x-z).normFro)"
   ]
  },
  {
   "cell_type": "code",
   "execution_count": null,
   "metadata": {
    "collapsed": false
   },
   "outputs": [],
   "source": [
    "x0=pjv.create('cmview_d',15,26).randn(6)\n",
    "x=x0.copy\n",
    "y=x0.ROW.fftop\n",
    "z=y.ROW.ifftop\n",
    "z *= 1.0/26\n",
    "print('%f'%(x-z).normFro)"
   ]
  },
  {
   "cell_type": "code",
   "execution_count": null,
   "metadata": {
    "collapsed": false
   },
   "outputs": [],
   "source": [
    "x0=pjv.create('mview_d',16,32,'COL').randn(6)\n",
    "x=x0.copy\n",
    "y=x0.COL.rcfft\n",
    "z=y.COL.crfft\n",
    "z *= 1.0/16\n",
    "print('%f'%(x-z).normFro)"
   ]
  },
  {
   "cell_type": "code",
   "execution_count": null,
   "metadata": {
    "collapsed": false
   },
   "outputs": [],
   "source": [
    "# x0=pjv.create('mview_d',16,32,'ROW').randn(6)\n",
    "x=x0.copy\n",
    "y=x0.ROW.rcfft\n",
    "z=y.ROW.crfft\n",
    "z *= 1.0/32\n",
    "print('%f'%(x-z).normFro)"
   ]
  },
  {
   "cell_type": "code",
   "execution_count": null,
   "metadata": {
    "collapsed": true
   },
   "outputs": [],
   "source": []
  }
 ],
 "metadata": {
  "kernelspec": {
   "display_name": "Python 3",
   "language": "python",
   "name": "python3"
  },
  "language_info": {
   "codemirror_mode": {
    "name": "ipython",
    "version": 3
   },
   "file_extension": ".py",
   "mimetype": "text/x-python",
   "name": "python",
   "nbconvert_exporter": "python",
   "pygments_lexer": "ipython3",
   "version": "3.5.0"
  }
 },
 "nbformat": 4,
 "nbformat_minor": 0
}
