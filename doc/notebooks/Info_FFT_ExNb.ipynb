{
 "metadata": {
  "name": "",
  "signature": "sha256:cbb3b5769eff0c8bd294f6bcd14c5bdf992e03ada34344d74c5f4c458a1f9cd2"
 },
 "nbformat": 3,
 "nbformat_minor": 0,
 "worksheets": [
  {
   "cells": [
    {
     "cell_type": "markdown",
     "metadata": {},
     "source": [
      "##pyJvsip FFT Usage\n",
      "In this document we cover the FFT support for the discrete Fourier transform in pyJvsip. Although FFT is a class, we also define some convienience methods for views. "
     ]
    },
    {
     "cell_type": "code",
     "collapsed": false,
     "input": [
      "import pyJvsip as pv"
     ],
     "language": "python",
     "metadata": {},
     "outputs": [],
     "prompt_number": 1
    },
    {
     "cell_type": "markdown",
     "metadata": {},
     "source": [
      "### Argument List for Fast Fourier Transform routines\n",
      "Generally to create and FFT you need length(s), a scale factor, an FFT direction (forward or inverse), major direction either by row or by column (for matrices), and two hints the first `ntimes` indicating how often you think the FFT object will be used, and the second an algorithm hint indicating if you want the object to be optimized for time of execution, memory space used, or accuracy of answer. In this document for vectors we indicate the length as `lnth`. For matrices we use `M` for column length and `N` for row length.\n",
      "\n",
      "We note that for a real to complex FFT there is no direction argument since this is always a forward FFT. Similarily for a complex to real FFT there is also no direction argument since this is always an inverse FFT."
     ]
    },
    {
     "cell_type": "markdown",
     "metadata": {},
     "source": [
      "### Hints\n",
      "In General, other than supporting the interface, JVSIP does not support algorithm hints. For FFT this means the hint argument and the number of times argument have no affect. Generally I just use zero for ntimes, and VSIP_ALG_TIME for aglorithm hint.  Note that if you are trying to write portable code then you should select these items bassed upon your need.\n",
      "\n",
      "### Type\n",
      "For pyJvsip types are defined when creating objects using a type string. The type strings used below were defined for FFTs.\n",
      "\n",
      "In this document the examples are done for double. To get single float just replace the `_d` at the end of the type string with `_f`."
     ]
    },
    {
     "cell_type": "markdown",
     "metadata": {},
     "source": [
      "### FFT object creation\n",
      "Below we create FFT objects and define some parameters. The iscale parameter is defined so that when we do the inverse FFT on the output of the forward FFT we get back the origional data."
     ]
    },
    {
     "cell_type": "code",
     "collapsed": false,
     "input": [
      "lnth=1024 # for vectors\n",
      "M = 64  # column length\n",
      "N = 128 # row length\n",
      "fwd=pv.VSIP_FFT_FWD\n",
      "inv=pv.VSIP_FFT_INV\n",
      "hint=pv.VSIP_ALG_TIME\n",
      "ntimes=0\n",
      "scale=1.0\n",
      "iscale=1.0/lnth\n",
      "row=pv.VSIP_ROW\n",
      "col=pv.VSIP_COL\n",
      "#fft\n",
      "argrcfft=(lnth,scale,ntimes,hint)\n",
      "objrc=pv.FFT('rcfftop_d',*argrcfft)\n",
      "argcrfft=(lnth,iscale,ntimes,hint) #change scale to remove FFT amplification\n",
      "objcr=pv.FFT('crfftop_d',*argcrfft)\n",
      "argccfft=(lnth,scale,fwd,ntimes,hint)\n",
      "objccfwd=pv.FFT('ccfftop_d',*argccfft)\n",
      "objccipfwd=pv.FFT('ccfftip_d',*argccfft)\n",
      "argccfft=(lnth,iscale,inv,ntimes,hint)\n",
      "objccinv=pv.FFT('ccfftop_d',*argccfft)\n",
      "objccipinv=pv.FFT('ccfftip_d',*argccfft)\n",
      "#fftm by row\n",
      "iscale=1.0/N\n",
      "argrcfftm=(M,N,scale,row,ntimes,hint)\n",
      "objrcmr=pv.FFT('rcfftmop_d',*argrcfftm)\n",
      "argcrfftm=(M,N,iscale,row,ntimes,hint)\n",
      "objcrmr=pv.FFT('crfftmop_d',*argcrfftm)\n",
      "argccfftm=(M,N,scale,fwd,row,ntimes,hint)\n",
      "objccfwdmr=pv.FFT('ccfftmop_d',*argccfftm)\n",
      "objccipfwdmr=pv.FFT('ccfftmip_d',*argccfftm)\n",
      "argccfftm=(M,N,iscale,inv,row,ntimes,hint)\n",
      "objccinvmr=pv.FFT('ccfftmop_d',*argccfftm)\n",
      "objccipinvmr=pv.FFT('ccfftmip_d',*argccfftm)\n",
      "#fftm by col\n",
      "iscale=1.0/M\n",
      "argrcfftm=(M,N,scale,col,ntimes,hint)\n",
      "objrcmc=pv.FFT('rcfftmop_d',*argrcfftm)\n",
      "argcrfftm=(M,N,iscale,col,ntimes,hint)\n",
      "objcrmc=pv.FFT('crfftmop_d',*argcrfftm)\n",
      "argccfftm=(M,N,scale,fwd,col,ntimes,hint)\n",
      "objccfwdmc=pv.FFT('ccfftmop_d',*argccfftm)\n",
      "objccipfwdmc=pv.FFT('ccfftmip_d',*argccfftm)\n",
      "argccfftm=(M,N,iscale,inv,col,ntimes,hint)\n",
      "objccinvmc=pv.FFT('ccfftmop_d',*argccfftm)\n",
      "objccipinvmc=pv.FFT('ccfftmip_d',*argccfftm)"
     ],
     "language": "python",
     "metadata": {},
     "outputs": [],
     "prompt_number": 16
    },
    {
     "cell_type": "code",
     "collapsed": false,
     "input": [
      "#Ex rcfftop and crfftop\n",
      "assert lnth & 1==0,'for rcfft the vector must be unit stride and even length'\n",
      "x=pv.create('vview_d',lnth).randn(5)\n",
      "y=pv.create('cvview_d',lnth/2+1).fill(0.0)\n",
      "xc=x.copy\n",
      "objrc.dft(x,y)\n",
      "objcr.dft(y,x)\n",
      "print('%f'%(x-xc).normFro)"
     ],
     "language": "python",
     "metadata": {},
     "outputs": [
      {
       "output_type": "stream",
       "stream": "stdout",
       "text": [
        "0.000000\n"
       ]
      }
     ],
     "prompt_number": 17
    },
    {
     "cell_type": "code",
     "collapsed": false,
     "input": [
      "#Ex ccfftop\n",
      "x=pv.create('cvview_d',lnth).randn(5)\n",
      "y=pv.create('cvview_d',lnth).fill(0.0)\n",
      "xc=x.copy\n",
      "objccfwd.dft(x,y)\n",
      "objccinv.dft(y,x)\n",
      "print('%f'%(x-xc).normFro)"
     ],
     "language": "python",
     "metadata": {},
     "outputs": [
      {
       "output_type": "stream",
       "stream": "stdout",
       "text": [
        "0.000000\n"
       ]
      }
     ],
     "prompt_number": 18
    },
    {
     "cell_type": "code",
     "collapsed": false,
     "input": [
      "#Ex ccfftip\n",
      "x=pv.create('cvview_d',lnth).randn(5)\n",
      "xc=x.copy\n",
      "objccipfwd.dft(x)\n",
      "objccipinv.dft(x)\n",
      "print('%f'%(x-xc).normFro)"
     ],
     "language": "python",
     "metadata": {},
     "outputs": [
      {
       "output_type": "stream",
       "stream": "stdout",
       "text": [
        "0.000000\n"
       ]
      }
     ],
     "prompt_number": 19
    },
    {
     "cell_type": "code",
     "collapsed": false,
     "input": [
      "#Ex rcfftmop and crfftmop\n",
      "x=pv.create('mview_d',M,N).randn(5) #this is row major\n",
      "y=pv.create('cmview_d',M,N/2+1).fill(0.0) # do by row\n",
      "xc=x.copy\n",
      "objrcmr.dft(x,y)\n",
      "objcrmr.dft(y,x)\n",
      "print('%f'%(x-xc).normFro)\n",
      "#Ex rcfftmop and crfftmop\n",
      "x=pv.create('mview_d',M,N,'COL').randn(5) #this is column major\n",
      "y=pv.create('cmview_d',M/2+1,N).fill(0.0) # do by column\n",
      "xc=x.copy\n",
      "objrcmc.dft(x,y)\n",
      "objcrmc.dft(y,x)\n",
      "print('%f'%(x-xc).normFro)"
     ],
     "language": "python",
     "metadata": {},
     "outputs": [
      {
       "output_type": "stream",
       "stream": "stdout",
       "text": [
        "0.000000\n",
        "0.000000\n"
       ]
      }
     ],
     "prompt_number": 20
    },
    {
     "cell_type": "code",
     "collapsed": false,
     "input": [
      "#Ex ccfftmop by row\n",
      "x=pv.create('cmview_d',M,N).randn(5) #this is row major\n",
      "y=pv.create('cmview_d',M,N).fill(0.0) # do by row\n",
      "xc=x.copy\n",
      "objccfwdmr.dft(x,y)\n",
      "objccinvmr.dft(y,x)\n",
      "print('%f'%(x-xc).normFro)\n",
      "#Ex ccfftmop by column\n",
      "x=pv.create('cmview_d',M,N,'COL').randn(5) #this is column major\n",
      "y=pv.create('cmview_d',M,N).fill(0.0) # do by column\n",
      "xc=x.copy\n",
      "objccfwdmc.dft(x,y)\n",
      "objccinvmc.dft(y,x)\n",
      "print('%f'%(x-xc).normFro)"
     ],
     "language": "python",
     "metadata": {},
     "outputs": [
      {
       "output_type": "stream",
       "stream": "stdout",
       "text": [
        "0.000000\n",
        "0.000000\n"
       ]
      }
     ],
     "prompt_number": 21
    },
    {
     "cell_type": "code",
     "collapsed": false,
     "input": [
      "#Ex ccfftmip by row\n",
      "x=pv.create('cmview_d',M,N).randn(5) #this is row major\n",
      "xc=x.copy\n",
      "objccipfwdmr.dft(x)\n",
      "objccipinvmr.dft(x)\n",
      "print('%f'%(x-xc).normFro)\n",
      "#Ex ccfftmip by col\n",
      "x=pv.create('cmview_d',M,N,'COL').randn(5) #this is column major\n",
      "xc=x.copy\n",
      "objccipfwdmc.dft(x)\n",
      "objccipinvmc.dft(x)\n",
      "print('%f'%(x-xc).normFro)"
     ],
     "language": "python",
     "metadata": {},
     "outputs": [
      {
       "output_type": "stream",
       "stream": "stdout",
       "text": [
        "0.000000\n",
        "0.000000\n"
       ]
      }
     ],
     "prompt_number": 22
    },
    {
     "cell_type": "markdown",
     "metadata": {},
     "source": [
      "### View Methods\n",
      "We also supply some convenience methods for Views to do FFTs.  This is only supplied for pyJvsip and has nothing to do with the C VSIPL library."
     ]
    },
    {
     "cell_type": "code",
     "collapsed": false,
     "input": [
      "# demonstrate rcfftop\n",
      "x0=pv.create('vview_d',lnth).randn(5)\n",
      "y=x0.rcfft\n",
      "# note for view methods scale is always 1.0\n",
      "x=y.crfft * 1.0/lnth\n",
      "print('%f'%(x-x0).normFro)"
     ],
     "language": "python",
     "metadata": {},
     "outputs": [
      {
       "output_type": "stream",
       "stream": "stdout",
       "text": [
        "0.000000\n"
       ]
      }
     ],
     "prompt_number": 27
    },
    {
     "cell_type": "code",
     "collapsed": false,
     "input": [
      "x0=pv.create('cvview_d',lnth).randn(5)\n",
      "y=x0.fftop\n",
      "# note we designate inverse with an i in front of the fft method name\n",
      "x=y.ifftop * 1.0/lnth\n",
      "print('%f'%(x-x0).normFro)"
     ],
     "language": "python",
     "metadata": {},
     "outputs": [
      {
       "output_type": "stream",
       "stream": "stdout",
       "text": [
        "0.000000\n"
       ]
      }
     ],
     "prompt_number": 34
    },
    {
     "cell_type": "code",
     "collapsed": false,
     "input": [
      "x0=pv.create('cvview_d',lnth).randn(5)\n",
      "x=x0.copy\n",
      "x0.fftip\n",
      "x0.ifftip\n",
      "x0*=1.0/lnth\n",
      "print('%f'%(x-x0).normFro)"
     ],
     "language": "python",
     "metadata": {},
     "outputs": [
      {
       "output_type": "stream",
       "stream": "stdout",
       "text": [
        "0.000000\n"
       ]
      }
     ],
     "prompt_number": 33
    },
    {
     "cell_type": "code",
     "collapsed": false,
     "input": [],
     "language": "python",
     "metadata": {},
     "outputs": []
    }
   ],
   "metadata": {}
  }
 ]
}