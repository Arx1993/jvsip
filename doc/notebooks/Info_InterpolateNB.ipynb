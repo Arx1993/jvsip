{
 "cells": [
  {
   "cell_type": "code",
   "execution_count": null,
   "metadata": {
    "collapsed": false
   },
   "outputs": [
    {
     "name": "stderr",
     "output_type": "stream",
     "text": [
      "/usr/local/lib/python2.7/site-packages/matplotlib/font_manager.py:273: UserWarning: Matplotlib is building the font cache using fc-list. This may take a moment.\n",
      "  warnings.warn('Matplotlib is building the font cache using fc-list. This may take a moment.')\n"
     ]
    }
   ],
   "source": [
    "from math import pi\n",
    "import pyJvsip as pjv\n",
    "%matplotlib inline\n",
    "from matplotlib.pyplot import *"
   ]
  },
  {
   "cell_type": "markdown",
   "metadata": {},
   "source": [
    "#### Interpolation\n",
    "To demonstrate interpolation we calculate a sine function with only eleven points between $0$ and $2\\pi$. We then use spline to estimate a sine function with 251 points included. We compare against the actual function. \n",
    "\n",
    "We include some markers placed (approximately) at the spline node points. For the spline the estimate should agree exactly with the data at the node points.\n",
    "\n",
    "After the spline function example we include the same example for interpolation using linear and nearest functions."
   ]
  },
  {
   "cell_type": "code",
   "execution_count": null,
   "metadata": {
    "collapsed": false
   },
   "outputs": [],
   "source": [
    "#make up some data for vector interpolation\n",
    "x0=pjv.ramp('vview_d',0.0,2*pi/10,11)\n",
    "y0=pjv.sin(x0,x0.empty)\n",
    "#make up an interpolation vector and output\n",
    "x=pjv.ramp('vview_d',0.0,2*pi/250,251)\n",
    "yEstimate=x.empty\n",
    "#interploate\n",
    "spln=pjv.Spline(x0.type,400)\n",
    "spln.interpolate(x0,y0,x,yEstimate)\n",
    "#calculate actual\n",
    "yActual=pjv.sin(x,x.empty)\n",
    "#plot the data and save as pdf\n",
    "subplot(3,1,1)\n",
    "plot(x0.list,y0.list);title('Sparse Sine')\n",
    "for i in range(x0.length):\n",
    "    text(x0[i],y0[i],'|',verticalalignment='center',horizontalalignment='center')\n",
    "subplot(3,1,2)\n",
    "plot(x.list,yEstimate.list);title('Estimate of Dense Sine')\n",
    "subplot(3,1,3)\n",
    "plot(x.list,(yEstimate-yActual).list);title('Error in Dense Sine')\n",
    "#plot zero line. There should be at least 11 zero errors\n",
    "plot(x.list,yActual.fill(0.0).list)\n",
    "for i in range(x0.length):\n",
    "    text(x0[i],0,'|',verticalalignment='center',horizontalalignment='center')\n",
    "tight_layout()\n",
    "savefig('eXspline.pdf',figsize=(3,7))"
   ]
  },
  {
   "cell_type": "markdown",
   "metadata": {},
   "source": [
    "Now find *nearest* and *linear* results. Use the same input."
   ]
  },
  {
   "cell_type": "code",
   "execution_count": null,
   "metadata": {
    "collapsed": false
   },
   "outputs": [],
   "source": [
    "yN=pjv.nearest(x0,y0,x,x.empty)\n",
    "yL=pjv.linear(x0,y0,x,x.empty)"
   ]
  },
  {
   "cell_type": "markdown",
   "metadata": {},
   "source": [
    "Plot the results for *linear* example."
   ]
  },
  {
   "cell_type": "code",
   "execution_count": null,
   "metadata": {
    "collapsed": false
   },
   "outputs": [],
   "source": [
    "plot(x.list,yN.list)\n",
    "for i in range(x0.length):\n",
    "    text(x0[i],y0[i],'|',verticalalignment='center',horizontalalignment='center')\n",
    "title('Nearest interpolation example for sine')\n",
    "xlabel('radian')\n",
    "tight_layout()"
   ]
  },
  {
   "cell_type": "markdown",
   "metadata": {},
   "source": [
    "Plot the results for *nearest* example."
   ]
  },
  {
   "cell_type": "code",
   "execution_count": null,
   "metadata": {
    "collapsed": false
   },
   "outputs": [],
   "source": [
    "plot(x.list,yL.list)\n",
    "for i in range(x0.length):\n",
    "    text(x0[i],y0[i],'|',verticalalignment='center',horizontalalignment='center')\n",
    "title('Linear interpolation example for sine')\n",
    "xlabel('radian')\n",
    "tight_layout()"
   ]
  }
 ],
 "metadata": {
  "kernelspec": {
   "display_name": "Python 2",
   "language": "python",
   "name": "python2"
  },
  "language_info": {
   "codemirror_mode": {
    "name": "ipython",
    "version": 2
   },
   "file_extension": ".py",
   "mimetype": "text/x-python",
   "name": "python",
   "nbconvert_exporter": "python",
   "pygments_lexer": "ipython2",
   "version": "2.7.13"
  }
 },
 "nbformat": 4,
 "nbformat_minor": 0
}
