{
 "cells": [
  {
   "cell_type": "markdown",
   "metadata": {},
   "source": [
    "# Linear Algebra Examples\n",
    "##### Note\n",
    "For this notebook an elmentwise matrix multiply is indicated with a $\\cdot$ and a matrix product is indicated with an $*$.  So\n",
    "\n",
    "$C= A \\cdot B \\rightarrow \\left[ c_{i,j} \\right] \\leftarrow \\left[a_{i,j} \\right] \\cdot \\left[b_{i,j} \\right]$ .\n",
    "\n",
    "and\n",
    "\n",
    "$C \\leftarrow A * B \\rightarrow \\left[ c_{i,k} \\right] = \\sum_{i=0}^{M-1} \\sum_{j=0}^{N-1} \\left[a_{i,j} \\right] \\left[ b_{j,k} \\right]$.\n"
   ]
  },
  {
   "cell_type": "code",
   "execution_count": 19,
   "metadata": {
    "collapsed": true
   },
   "outputs": [],
   "source": [
    "import pyJvsip as pjv"
   ]
  },
  {
   "cell_type": "code",
   "execution_count": 20,
   "metadata": {
    "collapsed": true
   },
   "outputs": [],
   "source": [
    "a=pjv.create('vview_d',10).fill(1.)\n",
    "b=pjv.create('vview_d',10).ramp(0.,1.)"
   ]
  },
  {
   "cell_type": "code",
   "execution_count": 21,
   "metadata": {
    "collapsed": false
   },
   "outputs": [
    {
     "name": "stdout",
     "output_type": "stream",
     "text": [
      "dot(a,b) = 45.0\n"
     ]
    }
   ],
   "source": [
    "print('dot(a,b) = %.1f'%a.dot(b))"
   ]
  },
  {
   "cell_type": "code",
   "execution_count": 22,
   "metadata": {
    "collapsed": false
   },
   "outputs": [
    {
     "name": "stdout",
     "output_type": "stream",
     "text": [
      "sumval(b) = 45.0\n"
     ]
    }
   ],
   "source": [
    "print('sumval(b) = %.1f'%b.sumval)"
   ]
  },
  {
   "cell_type": "code",
   "execution_count": 23,
   "metadata": {
    "collapsed": false
   },
   "outputs": [
    {
     "name": "stdout",
     "output_type": "stream",
     "text": [
      "[ 1.00+0.00i  1.00+0.00i  1.00+0.00i  1.00+0.00i  1.00+0.00i  1.00+0.00i  1.00+0.00i  1.00+0.00i  1.00+0.00i  1.00+0.00i]\n",
      "\n",
      "[ 1.07+1.20i  0.99-0.39i -0.40-1.18i -0.12+0.16i -0.49+0.57i -0.84-0.17i  0.97-1.06i -1.53+0.19i  0.25+1.63i  0.42+0.97i]\n",
      "\n"
     ]
    }
   ],
   "source": [
    "a=pjv.create('cvview_d',10).fill(1.)\n",
    "b=pjv.create('cvview_d',10).randn(3) \n",
    "a.mprint('%.2f');b.mprint('%.2f')"
   ]
  },
  {
   "cell_type": "code",
   "execution_count": 24,
   "metadata": {
    "collapsed": false
   },
   "outputs": [
    {
     "name": "stdout",
     "output_type": "stream",
     "text": [
      "jdot(a,b) = (0.3,-1.9i)\n"
     ]
    }
   ],
   "source": [
    "print('jdot(a,b) = (%.1f,%.1fi)'%(a.jdot(b).real,a.jdot(b).imag))"
   ]
  },
  {
   "cell_type": "code",
   "execution_count": 25,
   "metadata": {
    "collapsed": false,
    "scrolled": false
   },
   "outputs": [
    {
     "name": "stdout",
     "output_type": "stream",
     "text": [
      "Help on function gemp in module vsipLinearAlgebra:\n",
      "\n",
      "gemp(alpha, a, op_a, b, op_b, beta, c)\n",
      "    General Matrix Product C = alpha * op_a(a).prod(op_b(b)) + beta * C\n",
      "    See VSIP specification for additional information.\n",
      "    This function is always in place into C.\n",
      "    Usage:\n",
      "       gemp(alpha, a, op_a, b, op_b, beta, c)\n",
      "    Where:\n",
      "        alpha is a scalar multiplier on view op_a(a)\n",
      "        a is a matrix view of type (real or complex) float\n",
      "        op_a is a matrix operation on view a\n",
      "        b is a matrix view of the same type as a\n",
      "        op_b is a matrix operation on view b\n",
      "        beta is a scalar multiplier on view c\n",
      "        c is a view of the same type as a (input/output) \n",
      "    op_a and op_b may be 'NTRANS', 'TRANS', 'HERM', or 'CONJ'\n",
      "    if a and b are real then 'HERM' is the same as 'TRANS' and 'CONJ' is \n",
      "    the same as 'NTRANS'\n",
      "\n"
     ]
    }
   ],
   "source": [
    "help(pjv.gemp)"
   ]
  },
  {
   "cell_type": "markdown",
   "metadata": {},
   "source": [
    "#### General Matrix Product\n",
    "gemp\n",
    "\n",
    "$C = \\alpha \\cdot op(A) * op(B) + \\beta \\cdot C$\n",
    "\n",
    "Where $\\alpha$ and $\\beta$ are scalar values."
   ]
  },
  {
   "cell_type": "markdown",
   "metadata": {},
   "source": [
    "Make up some data"
   ]
  },
  {
   "cell_type": "code",
   "execution_count": 26,
   "metadata": {
    "collapsed": false
   },
   "outputs": [],
   "source": [
    "A=pjv.create('mview_d',4,3);\n",
    "B=pjv.create('mview_d',4,4);\n",
    "C=pjv.create('mview_d',3,4);\n",
    "A.block.vector.ramp(1,1);\n",
    "B.randn(4);\n",
    "C.fill(1.0)\n",
    "alpha=2;\n",
    "beta=3;"
   ]
  },
  {
   "cell_type": "markdown",
   "metadata": {},
   "source": [
    "Do general matrix product \n",
    "\n",
    "alpha * transpose(A).prod(B) + beta * C\n",
    "\n",
    "longhand"
   ]
  },
  {
   "cell_type": "code",
   "execution_count": 27,
   "metadata": {
    "collapsed": false
   },
   "outputs": [
    {
     "name": "stdout",
     "output_type": "stream",
     "text": [
      "[-14.4  3.8  1.5 -17.3;\n",
      " -18.0  7.0  4.4 -18.7;\n",
      " -21.6  10.3  7.3 -20.1]\n",
      "\n"
     ]
    }
   ],
   "source": [
    "opA=A.trans\n",
    "opB=B\n",
    "out=C.empty.fill(1.0)\n",
    "out=alpha*opA.prod(opB)+beta*out\n",
    "out.mprint('%.1f')"
   ]
  },
  {
   "cell_type": "markdown",
   "metadata": {},
   "source": [
    "Do general matrix product using gemp."
   ]
  },
  {
   "cell_type": "code",
   "execution_count": 28,
   "metadata": {
    "collapsed": false
   },
   "outputs": [
    {
     "name": "stdout",
     "output_type": "stream",
     "text": [
      "[-14.4  3.8  1.5 -17.3;\n",
      " -18.0  7.0  4.4 -18.7;\n",
      " -21.6  10.3  7.3 -20.1]\n",
      "\n"
     ]
    }
   ],
   "source": [
    "pjv.gemp(alpha,A,'TRANS',B,'NTRANS',beta,C)\n",
    "C.mprint('%.1f')"
   ]
  },
  {
   "cell_type": "markdown",
   "metadata": {},
   "source": [
    "#### General Matrix Sum\n",
    "gems\n",
    "\n",
    "$C \\leftarrow \\alpha \\cdot op(A) + \\beta \\cdot C$"
   ]
  },
  {
   "cell_type": "code",
   "execution_count": 29,
   "metadata": {
    "collapsed": true
   },
   "outputs": [],
   "source": [
    "A=pjv.create('mview_d',4,4);\n",
    "C=A.empty;\n",
    "A.block.vector.ramp(1,1);\n",
    "C.fill(1.0)\n",
    "alpha=2;\n",
    "beta=3;"
   ]
  },
  {
   "cell_type": "markdown",
   "metadata": {},
   "source": [
    "Do it long hand"
   ]
  },
  {
   "cell_type": "code",
   "execution_count": 30,
   "metadata": {
    "collapsed": false
   },
   "outputs": [
    {
     "name": "stdout",
     "output_type": "stream",
     "text": [
      "[ 5.0  13.0  21.0  29.0;\n",
      "  7.0  15.0  23.0  31.0;\n",
      "  9.0  17.0  25.0  33.0;\n",
      "  11.0  19.0  27.0  35.0]\n",
      "\n"
     ]
    }
   ],
   "source": [
    "opA= A.trans\n",
    "out=C.copy\n",
    "pjv.mul(alpha,opA,opA)\n",
    "pjv.mul(beta,out,out);\n",
    "pjv.add(opA,out,out);\n",
    "out.mprint('%.1f')"
   ]
  },
  {
   "cell_type": "markdown",
   "metadata": {},
   "source": [
    "Do it with gems"
   ]
  },
  {
   "cell_type": "code",
   "execution_count": 31,
   "metadata": {
    "collapsed": false
   },
   "outputs": [
    {
     "name": "stdout",
     "output_type": "stream",
     "text": [
      "[ 5.0  13.0  21.0  29.0;\n",
      "  7.0  15.0  23.0  31.0;\n",
      "  9.0  17.0  25.0  33.0;\n",
      "  11.0  19.0  27.0  35.0]\n",
      "\n"
     ]
    }
   ],
   "source": [
    "pjv.gems(alpha,A,'TRANS',beta,C).mprint('%.1f')"
   ]
  },
  {
   "cell_type": "markdown",
   "metadata": {
    "collapsed": true
   },
   "source": [
    "### Conjugate Dot Product\n",
    "#### **jdot**\n",
    "For vectors **a** and **b**\n",
    "\n",
    "$ \\alpha = \\sum \\limits_{i=0}^{N-1} a_i \\cdot$ opConj$(b_i) $"
   ]
  },
  {
   "cell_type": "code",
   "execution_count": 32,
   "metadata": {
    "collapsed": false
   },
   "outputs": [],
   "source": [
    "a=pjv.create('cvview_d',10).randn(4)\n",
    "b=pjv.create('cvview_d',10).fill(complex(1,1))"
   ]
  },
  {
   "cell_type": "code",
   "execution_count": 33,
   "metadata": {
    "collapsed": false
   },
   "outputs": [
    {
     "data": {
      "text/plain": [
       "(-1.3731907727196813-6.721365618519485j)"
      ]
     },
     "execution_count": 33,
     "metadata": {},
     "output_type": "execute_result"
    }
   ],
   "source": [
    "a.jdot(b)"
   ]
  },
  {
   "cell_type": "code",
   "execution_count": 34,
   "metadata": {
    "collapsed": false
   },
   "outputs": [
    {
     "data": {
      "text/plain": [
       "(2.674087422899902-2.674087422899902j)"
      ]
     },
     "execution_count": 34,
     "metadata": {},
     "output_type": "execute_result"
    }
   ],
   "source": [
    "a.realview.jdot(b)"
   ]
  },
  {
   "cell_type": "code",
   "execution_count": 35,
   "metadata": {
    "collapsed": false
   },
   "outputs": [
    {
     "data": {
      "text/plain": [
       "(2.674087422899902-4.047278195619583j)"
      ]
     },
     "execution_count": 35,
     "metadata": {},
     "output_type": "execute_result"
    }
   ],
   "source": [
    "a.jdot(b.imagview)"
   ]
  },
  {
   "cell_type": "code",
   "execution_count": 36,
   "metadata": {
    "collapsed": false
   },
   "outputs": [
    {
     "data": {
      "text/plain": [
       "2.674087422899902"
      ]
     },
     "execution_count": 36,
     "metadata": {},
     "output_type": "execute_result"
    }
   ],
   "source": [
    "a.realview.sumval"
   ]
  }
 ],
 "metadata": {
  "kernelspec": {
   "display_name": "Python 2",
   "language": "python",
   "name": "python2"
  },
  "language_info": {
   "codemirror_mode": {
    "name": "ipython",
    "version": 2
   },
   "file_extension": ".py",
   "mimetype": "text/x-python",
   "name": "python",
   "nbconvert_exporter": "python",
   "pygments_lexer": "ipython2",
   "version": "2.7.10"
  }
 },
 "nbformat": 4,
 "nbformat_minor": 0
}
