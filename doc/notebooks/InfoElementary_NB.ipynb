{
 "cells": [
  {
   "cell_type": "markdown",
   "metadata": {},
   "source": [
    "## Elementary Math operations using pyJvsip   \n",
    "These are examples of operations defined in the C VSIPL spec in the Vector and Elementwise chapter under Elementary Math Functions."
   ]
  },
  {
   "cell_type": "code",
   "execution_count": 1,
   "metadata": {
    "collapsed": false
   },
   "outputs": [],
   "source": [
    "import pyJvsip as pjv\n",
    "f='%.3f'"
   ]
  },
  {
   "cell_type": "markdown",
   "metadata": {},
   "source": [
    "We create a vector and put some date into it. Most elementary operations are done as properties if a method is used. Methods are frequently in-place. Use a function for out of place, or a copy of the input vector."
   ]
  },
  {
   "cell_type": "code",
   "execution_count": 2,
   "metadata": {
    "collapsed": false
   },
   "outputs": [],
   "source": [
    "try: pi\n",
    "except: from math import pi\n",
    "a=pjv.create('vview_d',10).ramp(0,2*pi/10.0)"
   ]
  },
  {
   "cell_type": "markdown",
   "metadata": {},
   "source": [
    "In-Place using method"
   ]
  },
  {
   "cell_type": "code",
   "execution_count": 3,
   "metadata": {
    "collapsed": false
   },
   "outputs": [
    {
     "name": "stdout",
     "output_type": "stream",
     "text": [
      "[ 0.000  0.628  1.257  1.885  2.513  3.142  3.770  4.398  5.027  5.655]\n",
      "\n",
      "[ 0.000  0.588  0.951  0.951  0.588  0.000 -0.588 -0.951 -0.951 -0.588]\n",
      "\n"
     ]
    }
   ],
   "source": [
    "a.mprint(f)\n",
    "a.sin\n",
    "a.mprint(f)"
   ]
  },
  {
   "cell_type": "markdown",
   "metadata": {},
   "source": [
    "out-of-place using method"
   ]
  },
  {
   "cell_type": "code",
   "execution_count": 4,
   "metadata": {
    "collapsed": false
   },
   "outputs": [
    {
     "name": "stdout",
     "output_type": "stream",
     "text": [
      "[ 0.000  0.628  1.257  1.257  0.628  0.000 -0.628 -1.257 -1.257 -0.628]\n",
      "\n",
      "[ 0.000  0.588  0.951  0.951  0.588  0.000 -0.588 -0.951 -0.951 -0.588]\n",
      "\n"
     ]
    }
   ],
   "source": [
    "b=a.copy.asin\n",
    "b.mprint(f)\n",
    "a.mprint(f)"
   ]
  },
  {
   "cell_type": "markdown",
   "metadata": {},
   "source": [
    "out-of-place using function call"
   ]
  },
  {
   "cell_type": "code",
   "execution_count": 5,
   "metadata": {
    "collapsed": false
   },
   "outputs": [
    {
     "name": "stdout",
     "output_type": "stream",
     "text": [
      "[ 0.000  0.628  1.257  1.257  0.628  0.000 -0.628 -1.257 -1.257 -0.628]\n",
      "\n",
      "[ 0.000  0.588  0.951  0.951  0.588  0.000 -0.588 -0.951 -0.951 -0.588]\n",
      "\n"
     ]
    }
   ],
   "source": [
    "pjv.sin(b,a)\n",
    "b.mprint(f)\n",
    "a.mprint(f)"
   ]
  },
  {
   "cell_type": "markdown",
   "metadata": {},
   "source": [
    "in-place using function call"
   ]
  },
  {
   "cell_type": "code",
   "execution_count": 6,
   "metadata": {
    "collapsed": false
   },
   "outputs": [
    {
     "name": "stdout",
     "output_type": "stream",
     "text": [
      "[ 0.000  0.588  0.951  0.951  0.588  0.000 -0.588 -0.951 -0.951 -0.588]\n",
      "\n"
     ]
    }
   ],
   "source": [
    "pjv.sin(b,b)\n",
    "b.mprint(f)"
   ]
  },
  {
   "cell_type": "markdown",
   "metadata": {},
   "source": [
    "All the elementary functions work the same except for atan2 which has three arguments (two input and an output). There is no view method in pyJvsip for atan2, only a function call."
   ]
  }
 ],
 "metadata": {
  "kernelspec": {
   "display_name": "Python 2",
   "language": "python",
   "name": "python2"
  },
  "language_info": {
   "codemirror_mode": {
    "name": "ipython",
    "version": 2
   },
   "file_extension": ".py",
   "mimetype": "text/x-python",
   "name": "python",
   "nbconvert_exporter": "python",
   "pygments_lexer": "ipython2",
   "version": "2.7.10"
  }
 },
 "nbformat": 4,
 "nbformat_minor": 0
}
