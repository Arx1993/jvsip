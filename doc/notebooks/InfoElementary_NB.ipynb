{
 "metadata": {
  "name": "",
  "signature": "sha256:cb0cee0c388626eb8696c61f8f1d4712555786c94178e52c0bb643805d10d7ee"
 },
 "nbformat": 3,
 "nbformat_minor": 0,
 "worksheets": [
  {
   "cells": [
    {
     "cell_type": "markdown",
     "metadata": {},
     "source": [
      "## Elementary Math operations using pyJvsip   \n",
      "These are examples of operations defined in the C VSIPL spec in the Vector and Elementwise chapter under Elementary Math Functions."
     ]
    },
    {
     "cell_type": "code",
     "collapsed": false,
     "input": [
      "import pyJvsip as pjv\n",
      "f='%.3f'"
     ],
     "language": "python",
     "metadata": {},
     "outputs": [],
     "prompt_number": 1
    },
    {
     "cell_type": "markdown",
     "metadata": {},
     "source": [
      "We create a vector and put some date into it. Most elementary operations are done as properties if a method is used. Methods are frequently in-place. Use a function for out of place, or a copy of the input vector."
     ]
    },
    {
     "cell_type": "code",
     "collapsed": false,
     "input": [
      "try: pi\n",
      "except: from math import pi\n",
      "a=pjv.create('vview_d',10).ramp(0,2*pi/10.0)"
     ],
     "language": "python",
     "metadata": {},
     "outputs": [],
     "prompt_number": 2
    },
    {
     "cell_type": "markdown",
     "metadata": {},
     "source": [
      "In-Place using method"
     ]
    },
    {
     "cell_type": "code",
     "collapsed": false,
     "input": [
      "a.mprint(f)\n",
      "a.sin\n",
      "a.mprint(f)"
     ],
     "language": "python",
     "metadata": {},
     "outputs": [
      {
       "output_type": "stream",
       "stream": "stdout",
       "text": [
        "[ 0.000  0.628  1.257  1.885  2.513  3.142  3.770  4.398  5.027  5.655]\n",
        "\n",
        "[ 0.000  0.588  0.951  0.951  0.588  0.000 -0.588 -0.951 -0.951 -0.588]\n",
        "\n"
       ]
      }
     ],
     "prompt_number": 3
    },
    {
     "cell_type": "markdown",
     "metadata": {},
     "source": [
      "out-of-place using method"
     ]
    },
    {
     "cell_type": "code",
     "collapsed": false,
     "input": [
      "b=a.copy.asin\n",
      "b.mprint(f)\n",
      "a.mprint(f)"
     ],
     "language": "python",
     "metadata": {},
     "outputs": [
      {
       "output_type": "stream",
       "stream": "stdout",
       "text": [
        "[ 0.000  0.628  1.257  1.257  0.628  0.000 -0.628 -1.257 -1.257 -0.628]\n",
        "\n",
        "[ 0.000  0.588  0.951  0.951  0.588  0.000 -0.588 -0.951 -0.951 -0.588]\n",
        "\n"
       ]
      }
     ],
     "prompt_number": 4
    },
    {
     "cell_type": "markdown",
     "metadata": {},
     "source": [
      "out-of-place using function call"
     ]
    },
    {
     "cell_type": "code",
     "collapsed": false,
     "input": [
      "pjv.sin(b,a)\n",
      "b.mprint(f)\n",
      "a.mprint(f)"
     ],
     "language": "python",
     "metadata": {},
     "outputs": [
      {
       "output_type": "stream",
       "stream": "stdout",
       "text": [
        "[ 0.000  0.628  1.257  1.257  0.628  0.000 -0.628 -1.257 -1.257 -0.628]\n",
        "\n",
        "[ 0.000  0.588  0.951  0.951  0.588  0.000 -0.588 -0.951 -0.951 -0.588]\n",
        "\n"
       ]
      }
     ],
     "prompt_number": 5
    },
    {
     "cell_type": "markdown",
     "metadata": {},
     "source": [
      "in-place using function call"
     ]
    },
    {
     "cell_type": "code",
     "collapsed": false,
     "input": [
      "pjv.sin(b,b)\n",
      "b.mprint(f)"
     ],
     "language": "python",
     "metadata": {},
     "outputs": [
      {
       "output_type": "stream",
       "stream": "stdout",
       "text": [
        "[ 0.000  0.588  0.951  0.951  0.588  0.000 -0.588 -0.951 -0.951 -0.588]\n",
        "\n"
       ]
      }
     ],
     "prompt_number": 6
    },
    {
     "cell_type": "markdown",
     "metadata": {},
     "source": [
      "All the elementary functions work the same except for atan2 which has three arguments (two input and an output). There is no view method in pyJvsip for atan2, only a function call."
     ]
    }
   ],
   "metadata": {}
  }
 ]
}