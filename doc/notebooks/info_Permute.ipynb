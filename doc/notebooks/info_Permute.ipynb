{
 "cells": [
  {
   "cell_type": "markdown",
   "metadata": {},
   "source": [
    "### Permute\n",
    "Permutation is the interchange of rows or columns of a matrix. We may do this with a pemutation matrix and a matrix multiply as in.  \n",
    "    \n",
    "$\\begin{bmatrix} 0 & 0 & 1 & 0 \\\\\\\\ 0 & 1 & 0 & 0 \\\\\\\\ 1 & 0 & 0 & 0 \\\\\\\\ 0 & 0 & 0 & 1 {\\;} \\end{bmatrix} \n",
    "{\\;\\;}\n",
    "\\begin{bmatrix}\n",
    "a_{0,0} & a_{0,1} & a_{0,2} & a_{0,3} \\\\\\\\ \n",
    "a_{1,0} & a_{1,1} & a_{1,2} & a_{1,3} \\\\\\\\ \n",
    "a_{2,0} & a_{2,1} & a_{2,2} & a_{2,3} \\\\\\\\ \n",
    "a_{3,0} & a_{3,1} & a_{3,2} & a_{3,3} \n",
    "\\end{bmatrix}\n",
    "= \n",
    "\\begin{bmatrix} \n",
    "a_{2,0} & a_{2,1} & a_{2,2} & a_{2,3} \\\\\\\\ \n",
    "a_{1,0} & a_{1,1} & a_{1,2} & a_{1,3} \\\\\\\\ \n",
    "a_{0,0} & a_{0,1} & a_{0,2} & a_{0,3} \\\\\\\\ \n",
    "a_{3,0} & a_{3,1} & a_{3,2} & a_{3,3} \n",
    "\\end{bmatrix}$   \n",
    "   \n",
    "which permutes the first and third rows of the matrix.  To permute columns we could multiply on the right.  Matrix multiply is computationaly expensive, must be done out of place, and consumes an excess of memory storage for what is a sparse permutation matrix.  For **JVSIP** the permutation matrix is encoded into a vector by using the vector index as the row index and the vector value as the column index of the one in the permutation matrix and the algorithm used to do the permutation is just a copy and not a matrix multiply. "
   ]
  },
  {
   "cell_type": "code",
   "execution_count": 1,
   "metadata": {
    "collapsed": true
   },
   "outputs": [],
   "source": [
    "%matplotlib inline\n",
    "from matplotlib.pylab import *\n",
    "import pyJvsip as pjv\n",
    "f='%.4f'\n",
    "d='%d'"
   ]
  },
  {
   "cell_type": "markdown",
   "metadata": {},
   "source": [
    "We make up some data to sort."
   ]
  },
  {
   "cell_type": "code",
   "execution_count": 2,
   "metadata": {
    "collapsed": false
   },
   "outputs": [
    {
     "name": "stdout",
     "output_type": "stream",
     "text": [
      "[ 101.0000  123.0000  145.0000  167.0000;\n",
      "  103.0000  125.0000  147.0000  169.0000;\n",
      "  105.0000  127.0000  149.0000  171.0000;\n",
      "  107.0000  129.0000  151.0000  173.0000;\n",
      "  109.0000  131.0000  153.0000  175.0000]\n",
      "\n"
     ]
    }
   ],
   "source": [
    "m=pjv.Block('block_f',1000).bind(100,2,5,22,4)\n",
    "m.block.vector.ramp(1,1)\n",
    "m.mprint(f)"
   ]
  },
  {
   "cell_type": "code",
   "execution_count": 3,
   "metadata": {
    "collapsed": false
   },
   "outputs": [],
   "source": [
    "out=m.empty.fill(0.0)\n",
    "inpt=m\n",
    "pr=pjv.listToJv('vview_vi',[0,4,2,1,3])\n",
    "pc=pjv.listToJv('vview_vi',[1,0,3,2])"
   ]
  },
  {
   "cell_type": "code",
   "execution_count": 4,
   "metadata": {
    "collapsed": false
   },
   "outputs": [],
   "source": [
    "objR=pjv.Permute(out.type,5,4,'ROW') #permute the rows\n",
    "objC=pjv.Permute(out.type,5,4,'COL') #permute the columns\n",
    "objR.permuteInit(pr)\n",
    "objC.permuteInit(pc)"
   ]
  },
  {
   "cell_type": "code",
   "execution_count": 5,
   "metadata": {
    "collapsed": false
   },
   "outputs": [
    {
     "name": "stdout",
     "output_type": "stream",
     "text": [
      "[ 101.0000  123.0000  145.0000  167.0000;\n",
      "  103.0000  125.0000  147.0000  169.0000;\n",
      "  105.0000  127.0000  149.0000  171.0000;\n",
      "  107.0000  129.0000  151.0000  173.0000;\n",
      "  109.0000  131.0000  153.0000  175.0000]\n",
      "\n",
      "permute rows\n",
      "[ 123.0000  101.0000  167.0000  145.0000;\n",
      "  125.0000  103.0000  169.0000  147.0000;\n",
      "  127.0000  105.0000  171.0000  149.0000;\n",
      "  129.0000  107.0000  173.0000  151.0000;\n",
      "  131.0000  109.0000  175.0000  153.0000]\n",
      "\n",
      "permute columns\n",
      "[ 101.0000  123.0000  145.0000  167.0000;\n",
      "  109.0000  131.0000  153.0000  175.0000;\n",
      "  105.0000  127.0000  149.0000  171.0000;\n",
      "  103.0000  125.0000  147.0000  169.0000;\n",
      "  107.0000  129.0000  151.0000  173.0000]\n",
      "\n",
      "and rows\n",
      "[ 123.0000  101.0000  167.0000  145.0000;\n",
      "  131.0000  109.0000  175.0000  153.0000;\n",
      "  127.0000  105.0000  171.0000  149.0000;\n",
      "  125.0000  103.0000  169.0000  147.0000;\n",
      "  129.0000  107.0000  173.0000  151.0000]\n",
      "\n"
     ]
    }
   ],
   "source": [
    "inpt.mprint(f)\n",
    "objC.permute(inpt,out)\n",
    "print('permute rows');out.mprint(f)\n",
    "objR.permute(inpt,out)\n",
    "print('permute columns');out.mprint(f)\n",
    "objC.permute(out,out)\n",
    "print('and rows');out.mprint(f)"
   ]
  },
  {
   "cell_type": "markdown",
   "metadata": {},
   "source": [
    "#### Permute once \n",
    "C VSIPL function `vsip_dmpermute_once_p` is implemented as a **`view`** method and is Done in-place.\n",
    "`permuteRows='ROW'`  \n",
    "`permuteColumns='COL'`  \n",
    "`aView.permute(indxViewRowConforment,permuteRows)`  \n",
    "`aView.permute(indxViewColumnConforment,permuteCols)`  \n"
   ]
  },
  {
   "cell_type": "code",
   "execution_count": 6,
   "metadata": {
    "collapsed": false
   },
   "outputs": [
    {
     "name": "stdout",
     "output_type": "stream",
     "text": [
      "input matrix\n",
      "[ 101.0000  123.0000  145.0000  167.0000;\n",
      "  103.0000  125.0000  147.0000  169.0000;\n",
      "  105.0000  127.0000  149.0000  171.0000;\n",
      "  107.0000  129.0000  151.0000  173.0000;\n",
      "  109.0000  131.0000  153.0000  175.0000]\n",
      "\n",
      "row permutation vector\n",
      "[ 0  4  2  1  3]\n",
      "\n",
      "column permutation vector\n",
      "[ 1  0  3  2]\n",
      "\n",
      "input matrix after permuting rows and columns\n",
      "[ 123.0000  101.0000  167.0000  145.0000;\n",
      "  131.0000  109.0000  175.0000  153.0000;\n",
      "  127.0000  105.0000  171.0000  149.0000;\n",
      "  125.0000  103.0000  169.0000  147.0000;\n",
      "  129.0000  107.0000  173.0000  151.0000]\n",
      "\n"
     ]
    }
   ],
   "source": [
    "d='%d'\n",
    "print('input matrix')\n",
    "inpt.mprint(f)\n",
    "print('row permutation vector');pr.mprint(d);\n",
    "print('column permutation vector');pc.mprint(d)\n",
    "inpt.permute(pr,'ROW')\n",
    "inpt.permute(pc,'COL')\n",
    "print('input matrix after permuting rows and columns')\n",
    "inpt.mprint(f)"
   ]
  },
  {
   "cell_type": "markdown",
   "metadata": {},
   "source": [
    "C VSIPL function vsip_dmpermute_once_p is also implemented as a function.  \n",
    "It may be done out-of-place or in-place.   \n",
    "Flags are \n",
    "> permuteRows='ROW'    \n",
    "> permuteColumns='COL'  \n",
    "\n",
    "Usage:  \n",
    "> `permute_once(inpt,flag,permuteVector,outpt)`"
   ]
  },
  {
   "cell_type": "code",
   "execution_count": 7,
   "metadata": {
    "collapsed": false
   },
   "outputs": [
    {
     "name": "stdout",
     "output_type": "stream",
     "text": [
      "[ 123.0000  101.0000  167.0000  145.0000;\n",
      "  131.0000  109.0000  175.0000  153.0000;\n",
      "  127.0000  105.0000  171.0000  149.0000;\n",
      "  125.0000  103.0000  169.0000  147.0000;\n",
      "  129.0000  107.0000  173.0000  151.0000]\n",
      "\n",
      "[ 0  4  2  1  3]\n",
      "\n",
      "[ 123.0000  101.0000  167.0000  145.0000;\n",
      "  129.0000  107.0000  173.0000  151.0000;\n",
      "  127.0000  105.0000  171.0000  149.0000;\n",
      "  131.0000  109.0000  175.0000  153.0000;\n",
      "  125.0000  103.0000  169.0000  147.0000]\n",
      "\n",
      "[ 1  0  3  2]\n",
      "\n",
      "[ 101.0000  123.0000  145.0000  167.0000;\n",
      "  107.0000  129.0000  151.0000  173.0000;\n",
      "  105.0000  127.0000  149.0000  171.0000;\n",
      "  109.0000  131.0000  153.0000  175.0000;\n",
      "  103.0000  125.0000  147.0000  169.0000]\n",
      "\n"
     ]
    }
   ],
   "source": [
    "inpt.mprint(f)\n",
    "outpt=inpt.empty\n",
    "pr.mprint(d)\n",
    "pjv.permute_once(inpt,'ROW',pr,outpt)\n",
    "outpt.mprint(f)\n",
    "pc.mprint(d)\n",
    "pjv.permute_once(outpt,'COL',pc,outpt)\n",
    "outpt.mprint(f)"
   ]
  }
 ],
 "metadata": {
  "kernelspec": {
   "display_name": "Python 2",
   "language": "python",
   "name": "python2"
  },
  "language_info": {
   "codemirror_mode": {
    "name": "ipython",
    "version": 2
   },
   "file_extension": ".py",
   "mimetype": "text/x-python",
   "name": "python",
   "nbconvert_exporter": "python",
   "pygments_lexer": "ipython2",
   "version": "2.7.11"
  }
 },
 "nbformat": 4,
 "nbformat_minor": 0
}
